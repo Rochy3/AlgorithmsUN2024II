{
  "cells": [
    {
      "cell_type": "markdown",
      "metadata": {
        "id": "view-in-github",
        "colab_type": "text"
      },
      "source": [
        "<a href=\"https://colab.research.google.com/github/Rochy3/AlgorithmsUN2024II/blob/main/Lab3/RosaSantofimio_Lab3.ipynb\" target=\"_parent\"><img src=\"https://colab.research.google.com/assets/colab-badge.svg\" alt=\"Open In Colab\"/></a>"
      ]
    },
    {
      "cell_type": "code",
      "execution_count": 1,
      "metadata": {
        "id": "im-VVd1__7VU",
        "colab": {
          "base_uri": "https://localhost:8080/"
        },
        "outputId": "691c59f3-02ca-4a19-c028-63a94485c2ee"
      },
      "outputs": [
        {
          "output_type": "stream",
          "name": "stdout",
          "text": [
            "processor\t: 0\n",
            "vendor_id\t: GenuineIntel\n",
            "cpu family\t: 6\n",
            "model\t\t: 79\n",
            "model name\t: Intel(R) Xeon(R) CPU @ 2.20GHz\n",
            "stepping\t: 0\n",
            "microcode\t: 0xffffffff\n",
            "cpu MHz\t\t: 2199.998\n",
            "cache size\t: 56320 KB\n",
            "physical id\t: 0\n",
            "siblings\t: 2\n",
            "core id\t\t: 0\n",
            "cpu cores\t: 1\n",
            "apicid\t\t: 0\n",
            "initial apicid\t: 0\n",
            "fpu\t\t: yes\n",
            "fpu_exception\t: yes\n",
            "cpuid level\t: 13\n",
            "wp\t\t: yes\n",
            "flags\t\t: fpu vme de pse tsc msr pae mce cx8 apic sep mtrr pge mca cmov pat pse36 clflush mmx fxsr sse sse2 ss ht syscall nx pdpe1gb rdtscp lm constant_tsc rep_good nopl xtopology nonstop_tsc cpuid tsc_known_freq pni pclmulqdq ssse3 fma cx16 pcid sse4_1 sse4_2 x2apic movbe popcnt aes xsave avx f16c rdrand hypervisor lahf_lm abm 3dnowprefetch invpcid_single ssbd ibrs ibpb stibp fsgsbase tsc_adjust bmi1 hle avx2 smep bmi2 erms invpcid rtm rdseed adx smap xsaveopt arat md_clear arch_capabilities\n",
            "bugs\t\t: cpu_meltdown spectre_v1 spectre_v2 spec_store_bypass l1tf mds swapgs taa mmio_stale_data retbleed bhi\n",
            "bogomips\t: 4399.99\n",
            "clflush size\t: 64\n",
            "cache_alignment\t: 64\n",
            "address sizes\t: 46 bits physical, 48 bits virtual\n",
            "power management:\n",
            "\n",
            "processor\t: 1\n",
            "vendor_id\t: GenuineIntel\n",
            "cpu family\t: 6\n",
            "model\t\t: 79\n",
            "model name\t: Intel(R) Xeon(R) CPU @ 2.20GHz\n",
            "stepping\t: 0\n",
            "microcode\t: 0xffffffff\n",
            "cpu MHz\t\t: 2199.998\n",
            "cache size\t: 56320 KB\n",
            "physical id\t: 0\n",
            "siblings\t: 2\n",
            "core id\t\t: 0\n",
            "cpu cores\t: 1\n",
            "apicid\t\t: 1\n",
            "initial apicid\t: 1\n",
            "fpu\t\t: yes\n",
            "fpu_exception\t: yes\n",
            "cpuid level\t: 13\n",
            "wp\t\t: yes\n",
            "flags\t\t: fpu vme de pse tsc msr pae mce cx8 apic sep mtrr pge mca cmov pat pse36 clflush mmx fxsr sse sse2 ss ht syscall nx pdpe1gb rdtscp lm constant_tsc rep_good nopl xtopology nonstop_tsc cpuid tsc_known_freq pni pclmulqdq ssse3 fma cx16 pcid sse4_1 sse4_2 x2apic movbe popcnt aes xsave avx f16c rdrand hypervisor lahf_lm abm 3dnowprefetch invpcid_single ssbd ibrs ibpb stibp fsgsbase tsc_adjust bmi1 hle avx2 smep bmi2 erms invpcid rtm rdseed adx smap xsaveopt arat md_clear arch_capabilities\n",
            "bugs\t\t: cpu_meltdown spectre_v1 spectre_v2 spec_store_bypass l1tf mds swapgs taa mmio_stale_data retbleed bhi\n",
            "bogomips\t: 4399.99\n",
            "clflush size\t: 64\n",
            "cache_alignment\t: 64\n",
            "address sizes\t: 46 bits physical, 48 bits virtual\n",
            "power management:\n",
            "\n"
          ]
        }
      ],
      "source": [
        "!cat /proc/cpuinfo"
      ]
    },
    {
      "cell_type": "markdown",
      "metadata": {
        "id": "N1ok_-56OjB1"
      },
      "source": [
        "# I Solving the Sum of Two Digits Programming Challenge"
      ]
    },
    {
      "cell_type": "markdown",
      "metadata": {
        "id": "MMY7kmDSO0KM"
      },
      "source": [
        "## C++"
      ]
    },
    {
      "cell_type": "code",
      "execution_count": 2,
      "metadata": {
        "colab": {
          "base_uri": "https://localhost:8080/"
        },
        "id": "2pGGf9BkPNIk",
        "outputId": "7e0d837e-e61a-4d7c-c497-7b8525b311ed"
      },
      "outputs": [
        {
          "output_type": "stream",
          "name": "stdout",
          "text": [
            "Writing APlusB.cpp\n"
          ]
        }
      ],
      "source": [
        "%%writefile APlusB.cpp\n",
        "#include <iostream>\n",
        "\n",
        "int sum_of_two_digits(int first_digit, int second_digit) {\n",
        "    return first_digit + second_digit;\n",
        "}\n",
        "\n",
        "int main() {\n",
        "    int a = 0;\n",
        "    int b = 0;\n",
        "    std::cin >> a;\n",
        "    std::cin >> b;\n",
        "    std::cout << sum_of_two_digits(a, b);\n",
        "    return 0;\n",
        "}"
      ]
    },
    {
      "cell_type": "code",
      "execution_count": 3,
      "metadata": {
        "id": "0G3ZKOYAPXSU",
        "outputId": "e32696da-8793-4f79-bbb7-3862c1eab885",
        "colab": {
          "base_uri": "https://localhost:8080/"
        }
      },
      "outputs": [
        {
          "output_type": "stream",
          "name": "stdout",
          "text": [
            "3 4\n",
            "7"
          ]
        }
      ],
      "source": [
        "!g++ APlusB.cpp -o APlusB -std=c++11\n",
        "!./APlusB"
      ]
    },
    {
      "cell_type": "markdown",
      "metadata": {
        "id": "iNkG2HqfTl9c"
      },
      "source": [
        "### Test input output files"
      ]
    },
    {
      "cell_type": "code",
      "execution_count": 4,
      "metadata": {
        "id": "aTzU2efzMxly",
        "outputId": "43769647-e553-40c8-d835-6a5e65e5ec5f",
        "colab": {
          "base_uri": "https://localhost:8080/"
        }
      },
      "outputs": [
        {
          "output_type": "stream",
          "name": "stdout",
          "text": [
            "Writing input1.txt\n"
          ]
        }
      ],
      "source": [
        "%%writefile input1.txt\n",
        "4 8"
      ]
    },
    {
      "cell_type": "code",
      "execution_count": 5,
      "metadata": {
        "id": "zBJ0Gc0NQRet",
        "outputId": "50c5a801-17cd-40ef-8a98-41550b151ce7",
        "colab": {
          "base_uri": "https://localhost:8080/"
        }
      },
      "outputs": [
        {
          "output_type": "stream",
          "name": "stdout",
          "text": [
            "Writing output1.txt\n"
          ]
        }
      ],
      "source": [
        "%%writefile output1.txt\n",
        "12"
      ]
    },
    {
      "cell_type": "code",
      "execution_count": 6,
      "metadata": {
        "id": "IjEcIx63PJAN",
        "outputId": "90366bce-711a-4ccf-c3d8-e7a48988f6fc",
        "colab": {
          "base_uri": "https://localhost:8080/"
        }
      },
      "outputs": [
        {
          "output_type": "stream",
          "name": "stdout",
          "text": [
            "Writing input2.txt\n"
          ]
        }
      ],
      "source": [
        "%%writefile input2.txt\n",
        "0 9"
      ]
    },
    {
      "cell_type": "code",
      "execution_count": 7,
      "metadata": {
        "id": "Up9gOrxURTmd",
        "outputId": "e16ade26-5ea8-4ea1-cdfb-3651072a6293",
        "colab": {
          "base_uri": "https://localhost:8080/"
        }
      },
      "outputs": [
        {
          "output_type": "stream",
          "name": "stdout",
          "text": [
            "Writing output2.txt\n"
          ]
        }
      ],
      "source": [
        "%%writefile output2.txt\n",
        "9"
      ]
    },
    {
      "cell_type": "code",
      "execution_count": 8,
      "metadata": {
        "id": "PST6G-s-Pwgc",
        "outputId": "422ef454-b75b-4b20-971c-526122733fb7",
        "colab": {
          "base_uri": "https://localhost:8080/"
        }
      },
      "outputs": [
        {
          "output_type": "stream",
          "name": "stdout",
          "text": [
            "12"
          ]
        }
      ],
      "source": [
        "!./APlusB < input1.txt"
      ]
    },
    {
      "cell_type": "code",
      "execution_count": 9,
      "metadata": {
        "colab": {
          "base_uri": "https://localhost:8080/"
        },
        "id": "cKxZOjSlRfIN",
        "outputId": "49616548-7b0d-4a74-c90a-b12093b237ec"
      },
      "outputs": [
        {
          "output_type": "stream",
          "name": "stdout",
          "text": [
            "9"
          ]
        }
      ],
      "source": [
        "!./APlusB < input2.txt"
      ]
    },
    {
      "cell_type": "markdown",
      "metadata": {
        "id": "Qw2TQWCCUwqk"
      },
      "source": [
        "### Comparing files with grep\n",
        "\n",
        "https://askubuntu.com/questions/546796/comparing-two-text-files"
      ]
    },
    {
      "cell_type": "code",
      "source": [
        "!grep -xvFf output1.txt output1.txt"
      ],
      "metadata": {
        "id": "f5ef12XfZZBj"
      },
      "execution_count": 10,
      "outputs": []
    },
    {
      "cell_type": "code",
      "source": [
        "!grep -xvFf output1.txt output2.txt"
      ],
      "metadata": {
        "id": "WL7rO5urZdAT",
        "outputId": "06dcabca-506f-456e-f8d6-eceb5122dec1",
        "colab": {
          "base_uri": "https://localhost:8080/"
        }
      },
      "execution_count": 11,
      "outputs": [
        {
          "output_type": "stream",
          "name": "stdout",
          "text": [
            "9\n"
          ]
        }
      ]
    },
    {
      "cell_type": "code",
      "source": [
        "!grep -xvFf output2.txt output1.txt"
      ],
      "metadata": {
        "id": "Awj8Lx3oZffj",
        "outputId": "7479bc43-6811-4323-e38c-8d1937583781",
        "colab": {
          "base_uri": "https://localhost:8080/"
        }
      },
      "execution_count": 12,
      "outputs": [
        {
          "output_type": "stream",
          "name": "stdout",
          "text": [
            "12\n"
          ]
        }
      ]
    },
    {
      "cell_type": "code",
      "execution_count": 13,
      "metadata": {
        "id": "Jlja0Xm4TX9M"
      },
      "outputs": [],
      "source": [
        "!./APlusB < input1.txt> ctest1.txt\n",
        "!grep -xvFf output1.txt ctest1.txt"
      ]
    },
    {
      "cell_type": "code",
      "execution_count": 14,
      "metadata": {
        "id": "g9OIUZA_QLCQ"
      },
      "outputs": [],
      "source": [
        "!./APlusB < input2.txt > ctest2.txt\n",
        "!grep -xvFf output2.txt ctest2.txt"
      ]
    },
    {
      "cell_type": "markdown",
      "metadata": {
        "id": "3BgOaDjUVJk6"
      },
      "source": [
        "## Python"
      ]
    },
    {
      "cell_type": "code",
      "execution_count": 15,
      "metadata": {
        "colab": {
          "base_uri": "https://localhost:8080/"
        },
        "id": "DBvl-T0CTN_8",
        "outputId": "ce429aa5-8e7a-4248-99ae-145eab8b9944"
      },
      "outputs": [
        {
          "output_type": "stream",
          "name": "stdout",
          "text": [
            "Writing sum.py\n"
          ]
        }
      ],
      "source": [
        "%%writefile sum.py\n",
        "# python3\n",
        "\n",
        "def sum_of_two_digits(first_digit, second_digit):\n",
        "    return first_digit + second_digit\n",
        "\n",
        "if __name__ == '__main__':\n",
        "    a, b = map(int, input().split())\n",
        "    print(sum_of_two_digits(a, b))"
      ]
    },
    {
      "cell_type": "markdown",
      "source": [
        "escribir los siguientes digitos en la misma linea"
      ],
      "metadata": {
        "id": "gwUSRC90_zoU"
      }
    },
    {
      "cell_type": "code",
      "execution_count": 16,
      "metadata": {
        "id": "QKoKM11_WGyF",
        "outputId": "cf498e6b-8be4-41f7-b862-2769164088dd",
        "colab": {
          "base_uri": "https://localhost:8080/"
        }
      },
      "outputs": [
        {
          "output_type": "stream",
          "name": "stdout",
          "text": [
            "4 5\n",
            "9\n"
          ]
        }
      ],
      "source": [
        "!python sum.py"
      ]
    },
    {
      "cell_type": "code",
      "execution_count": 17,
      "metadata": {
        "id": "cocFbPRTWrqt"
      },
      "outputs": [],
      "source": [
        "!python sum.py  < input1.txt> ptest1.txt\n",
        "!grep -xvFf output1.txt ptest1.txt"
      ]
    },
    {
      "cell_type": "code",
      "execution_count": 18,
      "metadata": {
        "id": "MorKTa-XXASN"
      },
      "outputs": [],
      "source": [
        "!python sum.py  < input2.txt> ptest2.txt\n",
        "!grep -xvFf output2.txt ptest2.txt"
      ]
    },
    {
      "cell_type": "markdown",
      "metadata": {
        "id": "uvP-mOubW_5F"
      },
      "source": [
        "# II Solving The Maximum Pairwise Product Programming Challenge in C++"
      ]
    },
    {
      "cell_type": "markdown",
      "metadata": {
        "id": "C12yoFR6Xonl"
      },
      "source": [
        "## C++\n",
        "\n",
        "$$ T(n) < 6 n^2 = O(n^2)$$"
      ]
    },
    {
      "cell_type": "code",
      "source": [
        "%%writefile max_pairwise_product_full.cpp\n",
        "#include <iostream>\n",
        "#include <vector>\n",
        "#include <algorithm>\n",
        "\n",
        "int MaxPairwiseProduct(const std::vector<int>& numbers) {\n",
        "    int max_product = 0;\n",
        "    int aux_product = 0;\n",
        "    int n = numbers.size();\n",
        "\n",
        "    for (int first = 0; first < n; ++first) {\n",
        "        for (int second = 0; second < n; ++second) {\n",
        "          if ( first != second ){\n",
        "                aux_product = numbers[first] * numbers[second];\n",
        "                if (aux_product > max_product)  max_product = aux_product;\n",
        "          }\n",
        "        }\n",
        "    }\n",
        "\n",
        "    return max_product;\n",
        "}\n",
        "\n",
        "int main() {\n",
        "    int n;\n",
        "    std::cin >> n;\n",
        "    std::vector<int> numbers(n);\n",
        "    for (int i = 0; i < n; ++i) {\n",
        "        std::cin >> numbers[i];\n",
        "    }\n",
        "\n",
        "    std::cout << MaxPairwiseProduct(numbers) << \"\\n\";\n",
        "    return 0;\n",
        "}"
      ],
      "metadata": {
        "id": "3LpfoGv2Ae81",
        "outputId": "b9ba4851-b335-4205-8a5f-7f85f94ea39f",
        "colab": {
          "base_uri": "https://localhost:8080/"
        }
      },
      "execution_count": 19,
      "outputs": [
        {
          "output_type": "stream",
          "name": "stdout",
          "text": [
            "Writing max_pairwise_product_full.cpp\n"
          ]
        }
      ]
    },
    {
      "cell_type": "markdown",
      "metadata": {
        "id": "m75IQQPbEHBS"
      },
      "source": [
        "#### Time Complexity\n",
        "$$\\left. \\begin{array}{llc}\n",
        " \\text{INSTRUCTION} & \\text{TYPE}& \\text{# EXECUTIONS}\\\\\n",
        "\\text{first != second} &  \\text{comparisons} &n^2 \\\\\n",
        "\\text{numbers[first] * numbers[second]}& \\ \\text{ products}  &n^2 - n \\\\\n",
        "\\text{max_product = aux_product} &  \\text{assigments} & [1, \\frac{n^2 - n}{2})  \n",
        "\\end{array}\\right\\}  =  O(n^2)$$"
      ]
    },
    {
      "cell_type": "code",
      "source": [
        "!g++ max_pairwise_product_full.cpp -o max_pairwise_product_full\n",
        "!./max_pairwise_product_full"
      ],
      "metadata": {
        "id": "PCVo1h6nCF9k",
        "colab": {
          "base_uri": "https://localhost:8080/"
        },
        "outputId": "5fe80863-b00b-4912-b7b3-db805da17207"
      },
      "execution_count": 20,
      "outputs": [
        {
          "output_type": "stream",
          "name": "stdout",
          "text": [
            "2 3\n",
            "23\n",
            "69\n"
          ]
        }
      ]
    },
    {
      "cell_type": "markdown",
      "metadata": {
        "id": "e7KhxHGNS3i0"
      },
      "source": [
        "### Test 1: Small numbers"
      ]
    },
    {
      "cell_type": "code",
      "source": [
        "%%writefile input1.txt\n",
        "10\n",
        "1 2 3 4 5 6 7 8 9 10"
      ],
      "metadata": {
        "colab": {
          "base_uri": "https://localhost:8080/"
        },
        "id": "17npyXt7lYzA",
        "outputId": "d49e6a5e-6e64-421b-85c5-3724a8e0dc5e"
      },
      "execution_count": 21,
      "outputs": [
        {
          "output_type": "stream",
          "name": "stdout",
          "text": [
            "Overwriting input1.txt\n"
          ]
        }
      ]
    },
    {
      "cell_type": "code",
      "source": [
        "!./max_pairwise_product < input1.txt"
      ],
      "metadata": {
        "id": "qaVPZ25WbgbJ",
        "outputId": "2134dd62-e13b-4e1b-b87e-7e1dbebf1219",
        "colab": {
          "base_uri": "https://localhost:8080/"
        }
      },
      "execution_count": 22,
      "outputs": [
        {
          "output_type": "stream",
          "name": "stdout",
          "text": [
            "/bin/bash: line 1: ./max_pairwise_product: No such file or directory\n"
          ]
        }
      ]
    },
    {
      "cell_type": "code",
      "source": [
        "%%writefile output1.txt\n",
        "90"
      ],
      "metadata": {
        "colab": {
          "base_uri": "https://localhost:8080/"
        },
        "id": "NooGEkJylezm",
        "outputId": "71e920b5-2c9a-499d-d82b-e928fea708f3"
      },
      "execution_count": 23,
      "outputs": [
        {
          "output_type": "stream",
          "name": "stdout",
          "text": [
            "Overwriting output1.txt\n"
          ]
        }
      ]
    },
    {
      "cell_type": "code",
      "source": [
        "!./max_pairwise_product_full< input1.txt > ctest1.txt\n",
        "!grep -xvFf output1.txt ctest1.txt"
      ],
      "metadata": {
        "id": "R0yFaAOrlqrE"
      },
      "execution_count": 24,
      "outputs": []
    },
    {
      "cell_type": "code",
      "execution_count": 25,
      "metadata": {
        "colab": {
          "base_uri": "https://localhost:8080/"
        },
        "id": "e1mmTzBgShT-",
        "outputId": "ced4b3d0-a491-4c25-8e5f-5ee02ad7b95f"
      },
      "outputs": [
        {
          "output_type": "stream",
          "name": "stdout",
          "text": [
            "Overwriting input2.txt\n"
          ]
        }
      ],
      "source": [
        "%%writefile input2.txt\n",
        "10\n",
        "10 9 8 7 6 5 4 3 2 1"
      ]
    },
    {
      "cell_type": "code",
      "execution_count": 26,
      "metadata": {
        "colab": {
          "base_uri": "https://localhost:8080/"
        },
        "id": "vy_uI0x7TCId",
        "outputId": "bb0955ac-6e9c-4cf2-e523-2eee6621ca20"
      },
      "outputs": [
        {
          "output_type": "stream",
          "name": "stdout",
          "text": [
            "Overwriting output2.txt\n"
          ]
        }
      ],
      "source": [
        "%%writefile output2.txt\n",
        "90"
      ]
    },
    {
      "cell_type": "code",
      "execution_count": 27,
      "metadata": {
        "id": "xaj6f9bxC6D6"
      },
      "outputs": [],
      "source": [
        "!./max_pairwise_product_full< input2.txt > ctest2.txt\n",
        "!grep -xvFf output2.txt ctest2.txt"
      ]
    },
    {
      "cell_type": "markdown",
      "metadata": {
        "id": "IeZ3kTjpYmR9"
      },
      "source": [
        "### Test 2: largest input numbers 200000 200000 to check possible intger overflow"
      ]
    },
    {
      "cell_type": "code",
      "execution_count": 28,
      "metadata": {
        "colab": {
          "base_uri": "https://localhost:8080/"
        },
        "id": "LQNlZqaqYt7U",
        "outputId": "6f4a4567-63d4-48a5-80b3-bd820ba7fdb5"
      },
      "outputs": [
        {
          "output_type": "stream",
          "name": "stdout",
          "text": [
            "Writing input3.txt\n"
          ]
        }
      ],
      "source": [
        "%%writefile input3.txt\n",
        "6\n",
        "1 3 200000 9 200000 23"
      ]
    },
    {
      "cell_type": "code",
      "execution_count": 29,
      "metadata": {
        "colab": {
          "base_uri": "https://localhost:8080/"
        },
        "id": "GjQq7QOUCw-9",
        "outputId": "ea0f0a5e-ec70-4862-8f5c-adcb6fcee982"
      },
      "outputs": [
        {
          "output_type": "execute_result",
          "data": {
            "text/plain": [
              "40000000000"
            ]
          },
          "metadata": {},
          "execution_count": 29
        }
      ],
      "source": [
        "200000*200000"
      ]
    },
    {
      "cell_type": "code",
      "execution_count": 30,
      "metadata": {
        "colab": {
          "base_uri": "https://localhost:8080/"
        },
        "id": "EuS6n3jtDK5C",
        "outputId": "cb162970-532c-404e-c054-5dd517fbac96"
      },
      "outputs": [
        {
          "output_type": "stream",
          "name": "stdout",
          "text": [
            "Writing output3.txt\n"
          ]
        }
      ],
      "source": [
        "%%writefile output3.txt\n",
        "40000000000"
      ]
    },
    {
      "cell_type": "code",
      "execution_count": 31,
      "metadata": {
        "colab": {
          "base_uri": "https://localhost:8080/"
        },
        "id": "2Wad2VZUZDxR",
        "outputId": "b1da131a-6d2e-4564-8cd6-8f221dee0d67"
      },
      "outputs": [
        {
          "output_type": "stream",
          "name": "stdout",
          "text": [
            "1345294336\n"
          ]
        }
      ],
      "source": [
        "!./max_pairwise_product_full < input3.txt"
      ]
    },
    {
      "cell_type": "code",
      "execution_count": 32,
      "metadata": {
        "colab": {
          "base_uri": "https://localhost:8080/"
        },
        "id": "pEvp1ieyDJGq",
        "outputId": "10f7b85c-7a73-43d3-a24a-43e877a01f34"
      },
      "outputs": [
        {
          "output_type": "stream",
          "name": "stdout",
          "text": [
            "1345294336\n"
          ]
        }
      ],
      "source": [
        "!./max_pairwise_product_full < input3.txt > ctest3.txt\n",
        "!grep -xvFf output3.txt ctest3.txt"
      ]
    },
    {
      "cell_type": "code",
      "source": [
        "%%writefile run_all_test.sh\n",
        "#!/bin/bash\n",
        "g++ max_pairwise_product_full.cpp -o max_pairwise_product_full\n",
        "for i in {0..3}\n",
        "do\n",
        "    ./max_pairwise_product_full < input$i.txt > ctest$i.txt\n",
        "    grep -xvFf output$i.txt ctest$i.txt\n",
        "done"
      ],
      "metadata": {
        "colab": {
          "base_uri": "https://localhost:8080/"
        },
        "id": "SrtJrKqM-God",
        "outputId": "83357bbe-a3fa-463c-dd81-5fc58ad9607e"
      },
      "execution_count": 33,
      "outputs": [
        {
          "output_type": "stream",
          "name": "stdout",
          "text": [
            "Writing run_all_test.sh\n"
          ]
        }
      ]
    },
    {
      "cell_type": "code",
      "source": [
        "!chmod u+x run_all_test.sh\n",
        "!./run_all_test.sh"
      ],
      "metadata": {
        "colab": {
          "base_uri": "https://localhost:8080/"
        },
        "id": "wGWMHtzS-QnA",
        "outputId": "26d8e289-d4da-4036-ca2c-47b89e29b1e2"
      },
      "execution_count": 34,
      "outputs": [
        {
          "output_type": "stream",
          "name": "stdout",
          "text": [
            "./run_all_test.sh: line 5: input0.txt: No such file or directory\n",
            "grep: output0.txt: No such file or directory\n",
            "1345294336\n"
          ]
        }
      ]
    },
    {
      "cell_type": "markdown",
      "metadata": {
        "id": "H2SC0Qt5HCzz"
      },
      "source": [
        "### Changing the variables to long long"
      ]
    },
    {
      "cell_type": "code",
      "execution_count": 35,
      "metadata": {
        "colab": {
          "base_uri": "https://localhost:8080/"
        },
        "id": "MPcmsxiQZSfE",
        "outputId": "2a2dedea-bed9-4313-cd0d-c98032620346"
      },
      "outputs": [
        {
          "output_type": "stream",
          "name": "stdout",
          "text": [
            "Writing max_pairwise_product_long_full.cpp\n"
          ]
        }
      ],
      "source": [
        "%%writefile max_pairwise_product_long_full.cpp\n",
        "#include <iostream>\n",
        "#include <vector>\n",
        "#include <algorithm>\n",
        "\n",
        "long long MaxPairwiseProduct(const std::vector<int>& numbers) {\n",
        "    long long max_product = 0LL;\n",
        "\t  long long aux_product = 0LL;\n",
        "    int n = numbers.size();\n",
        "\n",
        "    for (int first = 0; first < n; ++first) {\n",
        "        for (int second = 0; second < n; ++second) {\n",
        "          if ( first != second){\n",
        "                aux_product = (long long) numbers[first] * numbers[second];\n",
        "                if (aux_product > max_product)  max_product = aux_product;\n",
        "          }\n",
        "        }\n",
        "    }\n",
        "\n",
        "\n",
        "    return max_product;\n",
        "}\n",
        "\n",
        "int main() {\n",
        "    int n;\n",
        "    std::cin >> n;\n",
        "    std::vector<int> numbers(n);\n",
        "    for (int i = 0; i < n; ++i) {\n",
        "        std::cin >> numbers[i];\n",
        "    }\n",
        "\n",
        "    std::cout << MaxPairwiseProduct(numbers) << \"\\n\";\n",
        "    return 0;\n",
        "}\n"
      ]
    },
    {
      "cell_type": "code",
      "source": [
        "!g++ max_pairwise_product_long_full.cpp -o max_pairwise_product_long_full"
      ],
      "metadata": {
        "id": "W3xQpFXL6wjO"
      },
      "execution_count": 36,
      "outputs": []
    },
    {
      "cell_type": "code",
      "source": [
        "!./max_pairwise_product_long_full < input3.txt"
      ],
      "metadata": {
        "colab": {
          "base_uri": "https://localhost:8080/"
        },
        "id": "H5dvN9M3R9sV",
        "outputId": "e765a5a9-48e9-402d-85d3-18cfb0bcecf7"
      },
      "execution_count": 37,
      "outputs": [
        {
          "output_type": "stream",
          "name": "stdout",
          "text": [
            "40000000000\n"
          ]
        }
      ]
    },
    {
      "cell_type": "markdown",
      "source": [
        "### Runing multuple test with a bash shell"
      ],
      "metadata": {
        "id": "gx-sEYdfQ8f8"
      }
    },
    {
      "cell_type": "code",
      "source": [
        " %%writefile run_all_test.sh\n",
        "#!/bin/bash\n",
        "g++ max_pairwise_product_long_full.cpp -o max_pairwise_product_long_full\n",
        "for i in {1..3}\n",
        "do\n",
        "    ./max_pairwise_product_long_full < input$i.txt > ctest$i.txt\n",
        "    grep -xvFf output$i.txt ctest$i.txt\n",
        "done"
      ],
      "metadata": {
        "colab": {
          "base_uri": "https://localhost:8080/"
        },
        "id": "O9qsq2nn7elw",
        "outputId": "79a0a085-9bd1-42c1-bfda-ab019955f15f"
      },
      "execution_count": 38,
      "outputs": [
        {
          "output_type": "stream",
          "name": "stdout",
          "text": [
            "Overwriting run_all_test.sh\n"
          ]
        }
      ]
    },
    {
      "cell_type": "code",
      "source": [
        "!chmod u+x run_all_test.sh\n",
        "!./run_all_test.sh"
      ],
      "metadata": {
        "id": "0g5kKVph7xIA"
      },
      "execution_count": 39,
      "outputs": []
    },
    {
      "cell_type": "markdown",
      "metadata": {
        "id": "XPVHkHxH6_7s"
      },
      "source": [
        "### Test 3  stress tests, 6 testing cases files input4.txt/output4.txt .. input10.txt/output10.txt\n",
        "\n",
        "---\n",
        "\n"
      ]
    },
    {
      "cell_type": "code",
      "execution_count": 40,
      "metadata": {
        "id": "PwqpBmYr69fu",
        "outputId": "496138c0-7081-4bee-dda3-7e8efb9ae200",
        "colab": {
          "base_uri": "https://localhost:8080/"
        }
      },
      "outputs": [
        {
          "output_type": "stream",
          "name": "stdout",
          "text": [
            "Writing input4.txt\n"
          ]
        }
      ],
      "source": [
        "\n",
        "%%writefile input4.txt\n",
        "7\n",
        "1 3 200000 9 200000 23 200000"
      ]
    },
    {
      "cell_type": "code",
      "execution_count": 41,
      "metadata": {
        "id": "jBCkMeR6Fw4y",
        "outputId": "9e5f921e-5475-4868-9db8-bb2ee1cab6a3",
        "colab": {
          "base_uri": "https://localhost:8080/"
        }
      },
      "outputs": [
        {
          "output_type": "stream",
          "name": "stdout",
          "text": [
            "Writing output4.txt\n"
          ]
        }
      ],
      "source": [
        "\n",
        "%%writefile output4.txt\n",
        "40000000000"
      ]
    },
    {
      "cell_type": "code",
      "source": [
        "\n",
        "%%writefile input5.txt\n",
        "2\n",
        "1 1"
      ],
      "metadata": {
        "id": "zED8V8wu-eoM",
        "outputId": "49229939-e584-4c3a-d5ad-49f10e15cc80",
        "colab": {
          "base_uri": "https://localhost:8080/"
        }
      },
      "execution_count": 42,
      "outputs": [
        {
          "output_type": "stream",
          "name": "stdout",
          "text": [
            "Writing input5.txt\n"
          ]
        }
      ]
    },
    {
      "cell_type": "code",
      "source": [
        "\n",
        "%%writefile output5.txt\n",
        "1"
      ],
      "metadata": {
        "id": "Suafxf6AQYBo",
        "outputId": "7be0fd19-5f19-4b6c-be8d-fff2e47eefbe",
        "colab": {
          "base_uri": "https://localhost:8080/"
        }
      },
      "execution_count": 43,
      "outputs": [
        {
          "output_type": "stream",
          "name": "stdout",
          "text": [
            "Writing output5.txt\n"
          ]
        }
      ]
    },
    {
      "cell_type": "code",
      "source": [
        "%%writefile input6.txt\n",
        "8\n",
        "2 2 2 2 2 2 2 2"
      ],
      "metadata": {
        "id": "YZWQgHpiQXpB",
        "outputId": "3bcdea2c-049b-496d-e849-c7efd3579f6c",
        "colab": {
          "base_uri": "https://localhost:8080/"
        }
      },
      "execution_count": 44,
      "outputs": [
        {
          "output_type": "stream",
          "name": "stdout",
          "text": [
            "Writing input6.txt\n"
          ]
        }
      ]
    },
    {
      "cell_type": "code",
      "source": [
        "%%writefile output6.txt\n",
        "4"
      ],
      "metadata": {
        "id": "0ven_hztQXX_",
        "outputId": "8f681120-abcd-4ca1-9150-40da9e5d926c",
        "colab": {
          "base_uri": "https://localhost:8080/"
        }
      },
      "execution_count": 45,
      "outputs": [
        {
          "output_type": "stream",
          "name": "stdout",
          "text": [
            "Writing output6.txt\n"
          ]
        }
      ]
    },
    {
      "cell_type": "code",
      "source": [
        "%%writefile input7.txt\n",
        "5\n",
        "1 3 200000 9 200000\n"
      ],
      "metadata": {
        "id": "1m1KAjZRRz_v",
        "outputId": "f6a4470c-1598-4ad3-b951-9572fc02bfca",
        "colab": {
          "base_uri": "https://localhost:8080/"
        }
      },
      "execution_count": 46,
      "outputs": [
        {
          "output_type": "stream",
          "name": "stdout",
          "text": [
            "Writing input7.txt\n"
          ]
        }
      ]
    },
    {
      "cell_type": "code",
      "source": [
        "%%writefile output7.txt\n",
        "40000000000"
      ],
      "metadata": {
        "id": "3NWI0WB1R3n_",
        "outputId": "b60f26f3-476b-42e5-acd1-d50acefc84a1",
        "colab": {
          "base_uri": "https://localhost:8080/"
        }
      },
      "execution_count": 47,
      "outputs": [
        {
          "output_type": "stream",
          "name": "stdout",
          "text": [
            "Writing output7.txt\n"
          ]
        }
      ]
    },
    {
      "cell_type": "code",
      "source": [
        "%%writefile input8.txt\n",
        "3\n",
        "9 8 9"
      ],
      "metadata": {
        "id": "a3pdI_aTR6X4",
        "outputId": "4ee50f97-3e05-498a-ed06-4f833fa038f4",
        "colab": {
          "base_uri": "https://localhost:8080/"
        }
      },
      "execution_count": 48,
      "outputs": [
        {
          "output_type": "stream",
          "name": "stdout",
          "text": [
            "Writing input8.txt\n"
          ]
        }
      ]
    },
    {
      "cell_type": "code",
      "source": [
        "%%writefile output8.txt\n",
        "81"
      ],
      "metadata": {
        "id": "0XQ0k-eyR_Cs",
        "outputId": "bc30213d-d1c1-462e-9f0b-26405f804066",
        "colab": {
          "base_uri": "https://localhost:8080/"
        }
      },
      "execution_count": 49,
      "outputs": [
        {
          "output_type": "stream",
          "name": "stdout",
          "text": [
            "Writing output8.txt\n"
          ]
        }
      ]
    },
    {
      "cell_type": "code",
      "source": [
        "\n",
        "%%writefile input9.txt\n",
        "4\n",
        "200000 200000 200000 200000"
      ],
      "metadata": {
        "id": "KVtCQx6ASDWM",
        "outputId": "062e3f5e-b3a2-482e-f7fa-ab0fa6409d65",
        "colab": {
          "base_uri": "https://localhost:8080/"
        }
      },
      "execution_count": 50,
      "outputs": [
        {
          "output_type": "stream",
          "name": "stdout",
          "text": [
            "Writing input9.txt\n"
          ]
        }
      ]
    },
    {
      "cell_type": "code",
      "source": [
        "%%writefile output9.txt\n",
        "40000000000"
      ],
      "metadata": {
        "id": "fvjTr0HASHGt",
        "outputId": "ec2c5e15-cd96-4276-8f31-8d649424f23e",
        "colab": {
          "base_uri": "https://localhost:8080/"
        }
      },
      "execution_count": 51,
      "outputs": [
        {
          "output_type": "stream",
          "name": "stdout",
          "text": [
            "Writing output9.txt\n"
          ]
        }
      ]
    },
    {
      "cell_type": "code",
      "source": [
        "%%writefile input10.txt\n",
        "3\n",
        "0 0 0"
      ],
      "metadata": {
        "id": "aEl3lJiSSJNp",
        "outputId": "d48a5cfe-aac5-4666-cdd1-025ae304ce41",
        "colab": {
          "base_uri": "https://localhost:8080/"
        }
      },
      "execution_count": 52,
      "outputs": [
        {
          "output_type": "stream",
          "name": "stdout",
          "text": [
            "Writing input10.txt\n"
          ]
        }
      ]
    },
    {
      "cell_type": "code",
      "source": [
        "\n",
        "%%writefile output10.txt\n",
        "0\n"
      ],
      "metadata": {
        "id": "R3Z7GcV2SLAX",
        "outputId": "cd148491-5538-4731-860c-8048117f0900",
        "colab": {
          "base_uri": "https://localhost:8080/"
        }
      },
      "execution_count": 53,
      "outputs": [
        {
          "output_type": "stream",
          "name": "stdout",
          "text": [
            "Writing output10.txt\n"
          ]
        }
      ]
    },
    {
      "cell_type": "code",
      "source": [
        "%%writefile run_all_test_1.sh\n",
        "#!/bin/bash\n",
        "g++ max_pairwise_product_long_full.cpp -o max_pairwise_product_long_full || exit 1\n",
        "\n",
        "for i in {4..10}\n",
        "do\n",
        "    ./max_pairwise_product_long_full < input$i.txt > ctest$i.txt\n",
        "    if grep -xvFf output$i.txt ctest$i.txt; then\n",
        "        echo \"Test $i failed!\"\n",
        "    else\n",
        "        echo \"Test $i passed!\"\n",
        "    fi\n",
        "done\n"
      ],
      "metadata": {
        "id": "QhGWjn1GSVWf",
        "outputId": "97a23a1c-1407-4c14-ffe8-178d67a6ec9e",
        "colab": {
          "base_uri": "https://localhost:8080/"
        }
      },
      "execution_count": 54,
      "outputs": [
        {
          "output_type": "stream",
          "name": "stdout",
          "text": [
            "Writing run_all_test_1.sh\n"
          ]
        }
      ]
    },
    {
      "cell_type": "code",
      "source": [
        "!chmod u+x run_all_test_1.sh\n",
        "!./run_all_test_1.sh"
      ],
      "metadata": {
        "id": "wuqBA62VSXzW",
        "outputId": "fa16816a-b1b9-4308-fb96-10e08e883a37",
        "colab": {
          "base_uri": "https://localhost:8080/"
        }
      },
      "execution_count": 55,
      "outputs": [
        {
          "output_type": "stream",
          "name": "stdout",
          "text": [
            "Test 4 passed!\n",
            "Test 5 passed!\n",
            "Test 6 passed!\n",
            "Test 7 passed!\n",
            "Test 8 passed!\n",
            "Test 9 passed!\n",
            "Test 10 passed!\n"
          ]
        }
      ]
    },
    {
      "cell_type": "markdown",
      "metadata": {
        "id": "9z9yr5QkeyJF"
      },
      "source": [
        "### Test 4  time test  measure the execution time running with the the largest worst cases input11.txt  (200000 increasing numbers) and input12.txt (199998 increasing numbers and  200000, 200000 at the end)"
      ]
    },
    {
      "cell_type": "code",
      "source": [
        "# input11.txt 200000 increasing numbers:  1 2 .. 200000\n",
        "\n",
        "%%writefile WriteTest.cpp\n",
        "\n",
        "#include <iostream>\n",
        "#include <fstream>\n",
        "#include <cstdlib>\n",
        "\n",
        "using namespace std;\n",
        "\n",
        "int main() {\n",
        "  // Create and open a text file\n",
        "  ofstream MyFile(\"input11.txt\");\n",
        "\n",
        " MyFile << 200000 <<\"\\n\";  // n\n",
        " for (int i=1; i <200001; i++){\n",
        "     MyFile << i <<\" \";\n",
        " }\n",
        "\n",
        "  // Close the file\n",
        "  MyFile.close();\n",
        "}"
      ],
      "metadata": {
        "colab": {
          "base_uri": "https://localhost:8080/"
        },
        "id": "UmB1ipWM_nSk",
        "outputId": "6c110591-c8f2-4af7-db2d-fa0be2315aae"
      },
      "execution_count": 56,
      "outputs": [
        {
          "output_type": "stream",
          "name": "stdout",
          "text": [
            "Writing WriteTest.cpp\n"
          ]
        }
      ]
    },
    {
      "cell_type": "code",
      "execution_count": 57,
      "metadata": {
        "id": "EH25TkOkZfD9"
      },
      "outputs": [],
      "source": [
        "!g++ WriteTest.cpp -o WriteTest\n",
        "!./WriteTest"
      ]
    },
    {
      "cell_type": "code",
      "source": [
        "199999 * 200000"
      ],
      "metadata": {
        "colab": {
          "base_uri": "https://localhost:8080/"
        },
        "id": "j0mokSOnCCtZ",
        "outputId": "f44e5794-b335-4b33-e76e-f9448ca1517d"
      },
      "execution_count": 58,
      "outputs": [
        {
          "output_type": "execute_result",
          "data": {
            "text/plain": [
              "39999800000"
            ]
          },
          "metadata": {},
          "execution_count": 58
        }
      ]
    },
    {
      "cell_type": "code",
      "source": [
        "%%writefile output11.txt\n",
        "39999800000"
      ],
      "metadata": {
        "id": "VoDhDV73B5Mo",
        "colab": {
          "base_uri": "https://localhost:8080/"
        },
        "outputId": "972c2b9e-ee1b-472a-edcb-8ff7b29475ab"
      },
      "execution_count": 59,
      "outputs": [
        {
          "output_type": "stream",
          "name": "stdout",
          "text": [
            "Writing output11.txt\n"
          ]
        }
      ]
    },
    {
      "cell_type": "code",
      "execution_count": 60,
      "metadata": {
        "colab": {
          "base_uri": "https://localhost:8080/"
        },
        "id": "oLiMjbAIfPlX",
        "outputId": "bb192b05-eb2a-4013-f01b-d240fd53da8f"
      },
      "outputs": [
        {
          "output_type": "stream",
          "name": "stdout",
          "text": [
            "Overwriting WriteTest.cpp\n"
          ]
        }
      ],
      "source": [
        "# input12.txt 200000 decreasing numbers and 200000, 199999 ...  2 1\n",
        "\n",
        "%%writefile WriteTest.cpp\n",
        "\n",
        "#include <iostream>\n",
        "#include <fstream>\n",
        "#include <cstdlib>\n",
        "\n",
        "using namespace std;\n",
        "\n",
        "int main() {\n",
        "  // Create and open a text file\n",
        "  ofstream MyFile(\"input12.txt\");\n",
        "\n",
        " MyFile << 200000 <<\"\\n\";  // n\n",
        " for (int i=1; i <200001; i++){\n",
        "     MyFile << 200001-i <<\" \";\n",
        " }\n",
        "\n",
        "  // Close the file\n",
        "  MyFile.close();\n",
        "}"
      ]
    },
    {
      "cell_type": "code",
      "source": [
        "!g++ WriteTest.cpp -o WriteTest\n",
        "!./WriteTest"
      ],
      "metadata": {
        "id": "oULNBr_zAd9c"
      },
      "execution_count": 61,
      "outputs": []
    },
    {
      "cell_type": "code",
      "source": [
        "%%writefile output12.txt\n",
        "39999800000"
      ],
      "metadata": {
        "colab": {
          "base_uri": "https://localhost:8080/"
        },
        "id": "PQLyocaFB-y4",
        "outputId": "1703c807-2e9a-405b-8912-58ce92043221"
      },
      "execution_count": 62,
      "outputs": [
        {
          "output_type": "stream",
          "name": "stdout",
          "text": [
            "Writing output12.txt\n"
          ]
        }
      ]
    },
    {
      "cell_type": "markdown",
      "metadata": {
        "id": "JB6f03qO-lj9"
      },
      "source": [
        "### Measure time\n",
        "\n",
        "https://askubuntu.com/questions/53444/how-can-i-measure-the-execution-time-of-a-terminal-process"
      ]
    },
    {
      "cell_type": "code",
      "source": [
        "!g++ max_pairwise_product_long_full.cpp -o max_pairwise_product_long_full\n",
        "!time ./max_pairwise_product_long_full < input11.txt"
      ],
      "metadata": {
        "id": "W2hytwrYhTVZ",
        "outputId": "fef3e180-d987-425f-c5ba-3e1931969bdb",
        "colab": {
          "base_uri": "https://localhost:8080/"
        }
      },
      "execution_count": 63,
      "outputs": [
        {
          "output_type": "stream",
          "name": "stdout",
          "text": [
            "39999800000\n",
            "\n",
            "real\t5m0.770s\n",
            "user\t4m57.963s\n",
            "sys\t0m0.074s\n"
          ]
        }
      ]
    },
    {
      "cell_type": "code",
      "source": [
        "!g++ max_pairwise_product_long_full.cpp -o max_pairwise_product_long_full\n",
        "!time ./max_pairwise_product_long_full< input12.txt"
      ],
      "metadata": {
        "id": "cnjCyeUdAnZj",
        "outputId": "174ee4d2-e786-4277-d382-b4f626ea11f3",
        "colab": {
          "base_uri": "https://localhost:8080/"
        }
      },
      "execution_count": 64,
      "outputs": [
        {
          "output_type": "stream",
          "name": "stdout",
          "text": [
            "39999800000\n",
            "\n",
            "real\t5m1.515s\n",
            "user\t4m58.548s\n",
            "sys\t0m0.076s\n"
          ]
        }
      ]
    },
    {
      "cell_type": "markdown",
      "metadata": {
        "id": "FXClpBsUJuXC"
      },
      "source": [
        "### Calculate the number or and upper bound to the number of instructions executed by the algorithm as a function of n, add in each line a comment with the number of instructions that are executed in that line."
      ]
    },
    {
      "cell_type": "code",
      "execution_count": 65,
      "metadata": {
        "id": "uG6Mv-Pwlkii",
        "outputId": "1fb2c187-be00-48b3-d218-f6b8dc5cdfa3",
        "colab": {
          "base_uri": "https://localhost:8080/"
        }
      },
      "outputs": [
        {
          "output_type": "stream",
          "name": "stdout",
          "text": [
            "Overwriting max_pairwise_product_long_full.cpp\n"
          ]
        }
      ],
      "source": [
        "%%writefile max_pairwise_product_long_full.cpp\n",
        "#include <iostream>\n",
        "#include <vector>\n",
        "#include <algorithm>\n",
        "\n",
        "long long MaxPairwiseProduct(const std::vector<int>& numbers) {              //INSTRUCTIONS executed by line\n",
        "    long long max_product = 0LL;                                             //1\n",
        "\t  long long aux_product = 0LL;                                             //1\n",
        "    int n = numbers.size();                                                  //1\n",
        "\n",
        "    for (int first = 0; first < n; ++first) {                                //2+2n\n",
        "        for (int second = 0; second < n; ++second) {                         //2n + 2n**2\n",
        "          if ( first != second ){                                            //n**2\n",
        "                aux_product = numbers[first] * numbers[second];              //n**2 -n\n",
        "                if (aux_product > max_product)                               //n**2 -n\n",
        "                    max_product = aux_product;                               //[0, n**2/2 - n/2] upper bound\n",
        "          }\n",
        "        }\n",
        "    }\n",
        "\n",
        "                                                                             // --------------\n",
        "    return max_product;                                                      // 5 + 2*n + [5*n**2, 11*n**2/2  - n/2]  upper bound\n",
        "}\n",
        "\n",
        "int main() {                                              //INSTRUCTIONS executed by line\n",
        "    int n;                                                //1\n",
        "    std::cin >> n;                                        //1\n",
        "    std::vector<int> numbers(n);                          //n\n",
        "    for (int i = 0; i < n; ++i) {                         //2 + 2n\n",
        "        std::cin >> numbers[i];                           //n\n",
        "    }\n",
        "\n",
        "    std::cout << MaxPairwiseProduct(numbers) << \"\\n\";     //1 + 1  + 5 + 2*n + [5*n**2, 11*n**2/2  - n/2]\n",
        "\n",
        "    return 0;                                             // --------------\n",
        "}                                                         //  11 + 6*n + [5*n**2, 11*n**2/2  - n/2]  upper bound\n"
      ]
    },
    {
      "cell_type": "markdown",
      "metadata": {
        "id": "0vTsUg8OwcHs"
      },
      "source": [
        "### Count executed intructions in code"
      ]
    },
    {
      "cell_type": "code",
      "execution_count": 66,
      "metadata": {
        "id": "CuRKkqQc137V",
        "outputId": "75e8b19a-4d5a-4b58-a0ea-606149e42067",
        "colab": {
          "base_uri": "https://localhost:8080/"
        }
      },
      "outputs": [
        {
          "output_type": "stream",
          "name": "stdout",
          "text": [
            "Writing max_pairwise_product_long_full_execints.cpp\n"
          ]
        }
      ],
      "source": [
        "%%writefile max_pairwise_product_long_full_execints.cpp\n",
        "#include <iostream>\n",
        "#include <vector>\n",
        "#include <algorithm>\n",
        "\n",
        "long long MaxPairwiseProduct(const std::vector<int>& numbers, long long &execints) {      //INSTRUCTIONS executed by line\n",
        "\n",
        "    long long max_product = 0LL;                                                          //1\n",
        "    execints++;\n",
        "\n",
        "\t  long long aux_product = 0LL;                                                          //1\n",
        "    execints++;\n",
        "\n",
        "    int n = numbers.size();                                                               //1\n",
        "    execints++;\n",
        "\n",
        "    execints++;\n",
        "    for (int first = 0; first < n; ++first) {                                             //2+2n\n",
        "        execints += 2;\n",
        "\n",
        "        execints++;\n",
        "        for (int second = 0; second < n; ++second) {                                       //2n + 2n**2\n",
        "          execints += 2;\n",
        "\n",
        "          execints++;\n",
        "          if ( first != second ){                                                         //n**2\n",
        "                aux_product = numbers[first] * numbers[second];                           //n**2 -n\n",
        "                execints++;\n",
        "\n",
        "                execints++;\n",
        "                if (aux_product > max_product){                                           //n**2 -n\n",
        "                    max_product = aux_product;                                            //[0,n**2/2 - n/2)  upper bound\n",
        "                    execints++;\n",
        "\n",
        "                }\n",
        "        }\n",
        "\n",
        "      }\n",
        "      execints++;\n",
        "    }\n",
        "    execints++;\n",
        "                                                                                        // --------------\n",
        "    return max_product;                                                                 // 5 + 2*n + [5*n**2, 11*n**2/2  - n/2] upper bound\n",
        "}\n",
        "\n",
        "int main() {                                                 //INSTRUCTIONS executed by line\n",
        "\n",
        "    long long execints =0LL;\n",
        "\n",
        "    int n;                                                   //1\n",
        "    execints++;\n",
        "\n",
        "    std::cin >> n;                                           //1\n",
        "    execints++;\n",
        "\n",
        "    std::vector<int> numbers(n);                             //n\n",
        "    execints += n;\n",
        "\n",
        "    execints++;\n",
        "    for (int i = 0; i < n; ++i) {                            //2 + 2n\n",
        "        execints += 2;\n",
        "\n",
        "        std::cin >> numbers[i];\n",
        "        execints++;                                          //n\n",
        "\n",
        "    }\n",
        "\n",
        "\n",
        "    //std::cout << MaxPairwiseProduct(numbers) << \"\\n\";      //1 + 1  + 5 + 2*n + [5*n**2, 11*n**2/2  - n/2] upper bound\n",
        "\n",
        "    execints++;\n",
        "    int M = MaxPairwiseProduct(numbers,execints);\n",
        "\n",
        "    execints++;\n",
        "    std::cout <<  execints << \"\\n\";\n",
        "    return 0;                                                // --------------\n",
        "}                                                            // 11 + 6*n + [5*n**2, 11*n**2/2  - n/2]"
      ]
    },
    {
      "cell_type": "markdown",
      "source": [
        "The number of instructions executed by the algooirithm with a list of size $n$ is  \n",
        "\n",
        "$$T (n) = 11 + 6n + \\left[5n^2, 11\\frac{n^2}{2}  - \\frac{n}{2}\\right)  >  6n^2 = O(n^2)$$\n",
        "\n",
        "It depends on the size of the lists and  the order of the list.\n",
        "\n",
        "For the input0.txt\n",
        "```\n",
        "10\n",
        "0 0 0 0 0 0 0 0 0 0\n",
        "```\n",
        "$$T = 11 + 6(10) + 5(10)^2   = 561 $$\n",
        "\n",
        "$$T(10) \\in [571, 621)  $$\n"
      ],
      "metadata": {
        "id": "cUjHtvtdDsmr"
      }
    },
    {
      "cell_type": "code",
      "source": [
        "!g++ max_pairwise_product_long_full_execints.cpp -o max_pairwise_product_long_full_execints\n",
        "!./max_pairwise_product_long_full_execints < input0.txt"
      ],
      "metadata": {
        "id": "Om9Fevb0miAT",
        "outputId": "568e1293-ffb7-47a5-ae89-0ced7f809dcd",
        "colab": {
          "base_uri": "https://localhost:8080/"
        }
      },
      "execution_count": 67,
      "outputs": [
        {
          "output_type": "stream",
          "name": "stdout",
          "text": [
            "/bin/bash: line 1: input0.txt: No such file or directory\n"
          ]
        }
      ]
    },
    {
      "cell_type": "markdown",
      "source": [
        "For the input1.txt\n",
        "```\n",
        "10\n",
        "1 2 3 4 5 6 7 8 9 10\n",
        "```\n",
        "$$T = 11 + 6(10) + 5(10)^2 +  9 + 5 + 4 + 3 + 2 + 2 + 2 + 2 + 1 + 0  = 601 $$\n",
        "\n",
        "$$T(10) \\in [572, 622)  $$\n"
      ],
      "metadata": {
        "id": "FwJzZ6VzmArY"
      }
    },
    {
      "cell_type": "code",
      "source": [
        "#The number of times that  max_product = aux_product; in the worst case is less than (n**2 -n)/2 -  upper bound\n",
        "\n",
        "#     1  2  3  4  5  6  7  8  9  10\n",
        "#  1  x  2  3  4  5  6  7  8  9  10         9\n",
        "#  2  2  x  6  8  10 12 14 16 18 20         5 14\n",
        "#  3  3  6  x  12 15 18 21 24 27 30         4 18\n",
        "#  4  4  8  12 x  20 24 28 32 36 40         3 21\n",
        "#  5  5  10 15 20 x  30 35 40 45 50         2 23\n",
        "#  6  6  12 18 24 30 x  42 48 54 60         2 25\n",
        "#  7  7  14 21 28 35 42 x  56 63 70         2 27\n",
        "#  8  8  18 27 36 45 54 63 72 x  90         1 30\n",
        "#  10 10 20 30 40 50 60 70 60 90 x          0"
      ],
      "metadata": {
        "id": "K59xQMWiBNFj"
      },
      "execution_count": 68,
      "outputs": []
    },
    {
      "cell_type": "code",
      "source": [
        "11 + 6*(10) + 5*(10)*(10) +  9 + 5 + 4 + 3 + 2 + 2 + 2 + 2 + 1 + 0"
      ],
      "metadata": {
        "id": "E3O8dzFfEgir",
        "outputId": "b11af6ca-cfc2-4186-c2ac-ca1a8971ed78",
        "colab": {
          "base_uri": "https://localhost:8080/"
        }
      },
      "execution_count": 69,
      "outputs": [
        {
          "output_type": "execute_result",
          "data": {
            "text/plain": [
              "601"
            ]
          },
          "metadata": {},
          "execution_count": 69
        }
      ]
    },
    {
      "cell_type": "code",
      "source": [
        "n = 10\n",
        "print( \"[\", 11 + 6*n + 5*n**2,  \",\", 11 + 6*n  + 5.5*n**2, \")\")"
      ],
      "metadata": {
        "id": "TCpdl5u_Gq1a",
        "outputId": "7df5b704-750f-4e1b-ac5f-0c8d7cb7e8a2",
        "colab": {
          "base_uri": "https://localhost:8080/"
        }
      },
      "execution_count": 70,
      "outputs": [
        {
          "output_type": "stream",
          "name": "stdout",
          "text": [
            "[ 571 , 621.0 )\n"
          ]
        }
      ]
    },
    {
      "cell_type": "code",
      "execution_count": 71,
      "metadata": {
        "id": "Kuvm1C05ly2a",
        "outputId": "15ff777a-85cf-4253-9604-856433bdb343",
        "colab": {
          "base_uri": "https://localhost:8080/"
        }
      },
      "outputs": [
        {
          "output_type": "stream",
          "name": "stdout",
          "text": [
            "600\n"
          ]
        }
      ],
      "source": [
        "!g++ max_pairwise_product_long_full_execints.cpp -o max_pairwise_product_long_full_execints\n",
        "!./max_pairwise_product_long_full_execints < input1.txt"
      ]
    },
    {
      "cell_type": "markdown",
      "source": [
        "\n",
        "For the input2.txt\n",
        "```\n",
        "10\n",
        "10 9 8 7 6 5 4 3 2 1\n",
        "```\n",
        "$$T = 11 + 6*(10) + 5*(10)**2 +  1  = 571 $$"
      ],
      "metadata": {
        "id": "Yr_Lb7CaHfxB"
      }
    },
    {
      "cell_type": "code",
      "source": [
        "11 + 6*(10) + 5*(10)**2 +  1"
      ],
      "metadata": {
        "id": "HOdqlwJiZUIp",
        "outputId": "1c9efeca-982e-4caf-b2c4-6aff85746156",
        "colab": {
          "base_uri": "https://localhost:8080/"
        }
      },
      "execution_count": 72,
      "outputs": [
        {
          "output_type": "execute_result",
          "data": {
            "text/plain": [
              "572"
            ]
          },
          "metadata": {},
          "execution_count": 72
        }
      ]
    },
    {
      "cell_type": "code",
      "source": [
        "!g++ max_pairwise_product_long_full_execints.cpp -o max_pairwise_product_long_full_execints\n",
        "!./max_pairwise_product_long_full_execints < input2.txt"
      ],
      "metadata": {
        "id": "_znzLectjFSe",
        "outputId": "1215b129-807b-4a7c-c984-736ddff07aad",
        "colab": {
          "base_uri": "https://localhost:8080/"
        }
      },
      "execution_count": 73,
      "outputs": [
        {
          "output_type": "stream",
          "name": "stdout",
          "text": [
            "571\n"
          ]
        }
      ]
    },
    {
      "cell_type": "markdown",
      "metadata": {
        "id": "NXW7QkoBL6xH"
      },
      "source": [
        "Calculate estimated time by instruction and number of instructions by second"
      ]
    },
    {
      "cell_type": "markdown",
      "source": [
        "For the input11.txt\n",
        "```\n",
        "200000\n",
        "1 2 ..  199999 2000\n",
        "```\n",
        "$$T = 11 + 6*(200000) + 5.5*(200000)**2  = 200001200012  $$"
      ],
      "metadata": {
        "id": "dlyRjaohz-YH"
      }
    },
    {
      "cell_type": "code",
      "source": [
        "\n",
        "11 + 6*(200000) + 5.5*(200000)**2+1"
      ],
      "metadata": {
        "id": "xVP0D8Gdn_U8",
        "outputId": "3c4d8f76-32f3-4e62-d1f8-1374a0f3d728",
        "colab": {
          "base_uri": "https://localhost:8080/"
        }
      },
      "execution_count": 74,
      "outputs": [
        {
          "output_type": "execute_result",
          "data": {
            "text/plain": [
              "220001200012.0"
            ]
          },
          "metadata": {},
          "execution_count": 74
        }
      ]
    },
    {
      "cell_type": "code",
      "source": [
        "!g++ max_pairwise_product_long_full_execints.cpp -o max_pairwise_product_long_full_execints\n",
        "!./max_pairwise_product_long_full_execints < input11.txt"
      ],
      "metadata": {
        "id": "BMH8mF3EKn2w"
      },
      "execution_count": null,
      "outputs": []
    },
    {
      "cell_type": "code",
      "execution_count": null,
      "metadata": {
        "id": "pKqB3i7dIxnc"
      },
      "outputs": [],
      "source": [
        "# Estimated time by instruction\n",
        "# use the real reported  !time ./max_pairwise_product_long_full< input11.txt in seconds intead of the 295\n",
        "\n",
        "295/200003177092\n"
      ]
    },
    {
      "cell_type": "code",
      "execution_count": null,
      "metadata": {
        "id": "18N1ouqeMhE1"
      },
      "outputs": [],
      "source": [
        "# Estimated number of instructions by second\n",
        "\n",
        "200003177092/295"
      ]
    },
    {
      "cell_type": "markdown",
      "source": [
        "### Estimate and verify the maximun n that can be solved in 1 second\n",
        "\n",
        "$$(5.5n^2 + 5.5n + 11) \\times 1.47*10^{-9} s = 1 s$$\n",
        "\n",
        "$$ n \\approx 11000$$\n"
      ],
      "metadata": {
        "id": "KyuxejFkL5X_"
      }
    },
    {
      "cell_type": "code",
      "source": [
        "# Verify input13.txt\n",
        "%%writefile WriteTest.cpp\n",
        "\n",
        "#include <iostream>\n",
        "#include <fstream>\n",
        "#include <cstdlib>\n",
        "\n",
        "using namespace std;\n",
        "\n",
        "int main() {\n",
        "  // Create and open a text file\n",
        "  ofstream MyFile(\"input13.txt\");\n",
        "\n",
        " MyFile << 11000 <<\"\\n\";  // n\n",
        " for (int i=1; i <11001; i++){\n",
        "     MyFile << i <<\" \";\n",
        " }\n",
        "\n",
        "  // Close the file\n",
        "  MyFile.close();\n",
        "}"
      ],
      "metadata": {
        "id": "WXu5jp-DLTOI"
      },
      "execution_count": null,
      "outputs": []
    },
    {
      "cell_type": "code",
      "source": [
        "!g++ WriteTest.cpp -o WriteTest\n",
        "!./WriteTest"
      ],
      "metadata": {
        "id": "AQ8N52pUMCeT"
      },
      "execution_count": null,
      "outputs": []
    },
    {
      "cell_type": "code",
      "source": [
        "10999 * 11000"
      ],
      "metadata": {
        "id": "2iIOdbTrEtBx"
      },
      "execution_count": null,
      "outputs": []
    },
    {
      "cell_type": "code",
      "source": [
        "!g++ max_pairwise_product_long_full.cpp -o max_pairwise_product_long_full\n",
        "!time ./max_pairwise_product_long_full< input13.txt"
      ],
      "metadata": {
        "id": "ussuAokfM2du"
      },
      "execution_count": null,
      "outputs": []
    },
    {
      "cell_type": "markdown",
      "metadata": {
        "id": "Tm_AVmt-QQH4"
      },
      "source": [
        "## Python"
      ]
    },
    {
      "cell_type": "code",
      "execution_count": null,
      "metadata": {
        "id": "gRCCcd7IQTKZ"
      },
      "outputs": [],
      "source": [
        "\n",
        "%%writefile max_pairwise_product_long_full.py\n",
        "def MaxPairwiseProduct(numbers):\n",
        "  max_product = 0\n",
        "  aux_product = 0\n",
        "  n = len(numbers)\n",
        "\n",
        "  for first in range (n):\n",
        "    for second in range(n):\n",
        "      if(first != second):\n",
        "        aux_product = numbers[first]*numbers[second]\n",
        "        if aux_product > max_product:\n",
        "          max_product = aux_product\n",
        "  return max_product\n",
        "\n",
        "n = int(input())\n",
        "numbers = [int(i) for i in input().split()]\n",
        "print(MaxPairwiseProduct(numbers))\n"
      ]
    },
    {
      "cell_type": "code",
      "execution_count": null,
      "metadata": {
        "id": "hjw7TJrDL0d-"
      },
      "outputs": [],
      "source": [
        "# Verify\n",
        "!time python3 max_pairwise_product_long_full.py < input13.txt"
      ]
    },
    {
      "cell_type": "markdown",
      "source": [
        "# For the follwing solutions rquired  the same tests and analysis performed for the first solution"
      ],
      "metadata": {
        "id": "fEZR-3V4ZjCv"
      }
    },
    {
      "cell_type": "markdown",
      "metadata": {
        "id": "MKQKSC-vKePK"
      },
      "source": [
        "## Solutions in C++ and Python that uses\n",
        "$$\\frac{n^2 - n}{2} = O(n^2)\\ \\ \\text{products}$$"
      ]
    },
    {
      "cell_type": "code",
      "execution_count": null,
      "metadata": {
        "id": "jkkHHoxSK65p"
      },
      "outputs": [],
      "source": [
        "%%writefile max_pairwise_product.cpp\n",
        "#include <iostream>\n",
        "#include <vector>\n",
        "#include <algorithm>\n",
        "\n",
        "int MaxPairwiseProduct(const std::vector<int>& numbers) {\n",
        "    int max_product = 0;\n",
        "    int n = numbers.size();\n",
        "\n",
        "    for (int first = 0; first < n; ++first) {\n",
        "        for (int second = first + 1; second < n; ++second) {\n",
        "            max_product = std::max(max_product,\n",
        "                numbers[first] * numbers[second]);\n",
        "        }\n",
        "    }\n",
        "\n",
        "    return max_product;\n",
        "}\n",
        "\n",
        "int main() {\n",
        "    int n;\n",
        "    std::cin >> n;\n",
        "    std::vector<int> numbers(n);\n",
        "    for (int i = 0; i < n; ++i) {\n",
        "        std::cin >> numbers[i];\n",
        "    }\n",
        "\n",
        "    std::cout << MaxPairwiseProduct(numbers) << \"\\n\";\n",
        "    return 0;\n",
        "}"
      ]
    },
    {
      "cell_type": "code",
      "execution_count": null,
      "metadata": {
        "id": "sU8-Ote7K8vz"
      },
      "outputs": [],
      "source": [
        "%%writefile max_pairwise_product_long.cpp\n",
        "#include <iostream>\n",
        "#include <vector>\n",
        "#include <algorithm>\n",
        "\n",
        "long long MaxPairwiseProduct(const std::vector<int>& numbers) {              //INSTRUCTIONS executed by line\n",
        "    long long max_product = 0LL;                                             //1\n",
        "\t  long long aux_product = 0LL;                                             //1\n",
        "    int n = numbers.size();                                                  //1\n",
        "\n",
        "    for (int first = 0; first < n; ++first) {                                //2+2n\n",
        "        for (int second = first + 1; second < n; ++second) {                 //2n + (n-1)n\n",
        "\t\t\t       aux_product =  (long long) numbers[first] * numbers[second];    //(n-1)n/2\n",
        "            if (max_product < aux_product)  {                                //(n-1)n/2\n",
        "\t\t\t\t        max_product = aux_product;                                   //[1,(n-1)n/2)  upper bound\n",
        "             }\n",
        "        }\n",
        "    }\n",
        "                                                                             // --------------\n",
        "    return max_product;                                                      // 5 + 4n + [2(n-1)n+1, 2.5 (n-1)n) upper bound\n",
        "}\n",
        "\n",
        "int main() {                                              //INSTRUCTIONS executed by line\n",
        "    int n;                                                //1\n",
        "    std::cin >> n;                                        //1\n",
        "    std::vector<int> numbers(n);                          //n\n",
        "    for (int i = 0; i < n; ++i) {                         //2 + 2n\n",
        "        std::cin >> numbers[i];                           //n\n",
        "    }\n",
        "\n",
        "    std::cout << MaxPairwiseProduct(numbers) << \"\\n\";     //1 + 1  + 5 + 4n + [2(n-1)n+1, 2.5 (n-1)n) upper bound\n",
        "    return 0;                                             // --------------\n",
        "}                                                         // 11 + 7n + [2(n-1)n+1, 2.5 (n-1)n) upper bound\n"
      ]
    },
    {
      "cell_type": "code",
      "execution_count": null,
      "metadata": {
        "id": "5QWT3fneK8nw"
      },
      "outputs": [],
      "source": [
        "!g++ max_pairwise_product_long.cpp -o max_pairwise_product_long\n",
        "!time ./max_pairwise_product_long < input13.txt"
      ]
    },
    {
      "cell_type": "code",
      "execution_count": null,
      "metadata": {
        "id": "mxIVvm1RK8dB"
      },
      "outputs": [],
      "source": [
        "!g++ max_pairwise_product.cpp -o max_pairwise_product\n",
        "!time ./max_pairwise_product < input13.txt"
      ]
    },
    {
      "cell_type": "markdown",
      "metadata": {
        "id": "1Hsbd-uHOb_j"
      },
      "source": [
        "# Sort solution in C++ and Python\n",
        "\n",
        "$$ O(n \\lg n)$$\n",
        "\n",
        "**Which sorting algorithm is used in GCC?**\n",
        "https://stackoverflow.com/questions/7221257/which-sorting-algorithm-is-used-in-gcc\n",
        "\n",
        "* ...  the algorithm is called introsort, a combination between Insertionsort, Quicksort & Heapsort. ...\n",
        "\n",
        "**Introsort**\n",
        "https://en.wikipedia.org/wiki/Introsort\n",
        "\n",
        "Introsort or introspective sort is a hybrid sorting algorithm that provides both fast average performance and (asymptotically) optimal worst-case performance. It begins with quicksort, it switches to heapsort when the recursion depth exceeds a level based on (the logarithm of) the number of elements being sorted and it switches to insertion sort when the number of elements is below some threshold\n",
        "\n",
        "*   Class\tSorting algorithm\n",
        "*   Data structure\tArray\n",
        "*   Worst-case performance\t$O(n \\lg n)$\n",
        "*   Average performance\t$O(n \\lg n)$\n",
        "\n",
        "**Tinsort**\n",
        "https://en.wikipedia.org/wiki/Timsort\n",
        "\n",
        "Timsort is a hybrid, stable sorting algorithm, derived from merge sort and insertion sort, designed to perform well on many kinds of real-world data. It was implemented by Tim Peters in 2002 for use in the Python programming language.\n",
        "\n",
        "*   Class\tSorting algorithm\n",
        "*   Data structure\tArray\n",
        "*   Worst-case performance\t$O(n \\lg n)$\n",
        "*   Best-case performance $O(n)$\n",
        "*   Average performance\t$O(n \\lg n)$\n",
        "*   Worst-case space complexity $O(n)$"
      ]
    },
    {
      "cell_type": "markdown",
      "metadata": {
        "id": "WMUthAXjOb_k"
      },
      "source": []
    },
    {
      "cell_type": "code",
      "source": [
        "%%writefile max_pairwise_product_with_sort.py\n",
        "#Python3\n",
        "if __name__ == \"__main__\":\n",
        "    n = int(input())\n",
        "    lista = list(map(int, input().split()))\n",
        "    lista.sort()\n",
        "    print(lista[n - 1] * lista[n - 2])"
      ],
      "metadata": {
        "id": "jnIRWyUEDu_C"
      },
      "execution_count": null,
      "outputs": []
    },
    {
      "cell_type": "code",
      "source": [
        "%%writefile max_pairwise_product_with_sort_C.cpp\n",
        "#include <iostream>\n",
        "#include <vector>\n",
        "#include <algorithm>\n",
        "\n",
        "int main() {\n",
        "    int n;\n",
        "    std::cin >> n;\n",
        "    std::vector<int> numbers(n);\n",
        "    for (int i = 0; i < n; ++i) {\n",
        "        std::cin >> numbers[i];\n",
        "    }\n",
        "\n",
        "    std::sort(numbers.begin(), numbers.end());\n",
        "    std::cout << (long long) numbers[n - 1] * numbers[n - 2] << '\\n';\n",
        "\n",
        "    return 0;\n",
        "}\n"
      ],
      "metadata": {
        "id": "J-6EL60rm4Fu"
      },
      "execution_count": null,
      "outputs": []
    },
    {
      "cell_type": "code",
      "source": [
        "!g++ max_pairwise_product_with_sort_C.cpp -o max_pairwise_product_with_sort_C"
      ],
      "metadata": {
        "id": "oylzuXmPm-WV"
      },
      "execution_count": null,
      "outputs": []
    },
    {
      "cell_type": "markdown",
      "metadata": {
        "id": "v8pdV9ABOb_k"
      },
      "source": [
        "Test with inputs 1 and 2\n",
        "\n"
      ]
    },
    {
      "cell_type": "code",
      "execution_count": null,
      "metadata": {
        "id": "kdXAyLG4Ob_k"
      },
      "outputs": [],
      "source": [
        "!./max_pairwise_product_with_sort_C < input1.txt\n",
        "!./max_pairwise_product_with_sort_C < input2.txt"
      ]
    },
    {
      "cell_type": "code",
      "source": [
        "!python max_pairwise_product_with_sort.py < input1.txt\n",
        "!python max_pairwise_product_with_sort.py < input2.txt"
      ],
      "metadata": {
        "id": "LdqpX9NxqARW"
      },
      "execution_count": null,
      "outputs": []
    },
    {
      "cell_type": "markdown",
      "metadata": {
        "id": "Sw-5X1q1Ob_k"
      },
      "source": [
        "Test and time it with input 3"
      ]
    },
    {
      "cell_type": "code",
      "execution_count": null,
      "metadata": {
        "id": "ryHJ30WIOb_k"
      },
      "outputs": [],
      "source": [
        "!time ./max_pairwise_product_with_sort_C < input3.txt"
      ]
    },
    {
      "cell_type": "code",
      "source": [
        "%%time\n",
        "!python max_pairwise_product_with_sort.py < input3.txt"
      ],
      "metadata": {
        "id": "eTxMSLt3qOke"
      },
      "execution_count": null,
      "outputs": []
    },
    {
      "cell_type": "markdown",
      "metadata": {
        "id": "oJGdPl1HOb_k"
      },
      "source": [
        "20 stress tests"
      ]
    },
    {
      "cell_type": "code",
      "execution_count": null,
      "metadata": {
        "id": "pXHtO1dEOb_k"
      },
      "outputs": [],
      "source": [
        "%%writefile stress_tests.py\n",
        "#Python3\n",
        "import random\n",
        "\n",
        "if __name__ == \"__main__\":\n",
        "    for i in range(20):\n",
        "        n = random.randint(2, 19)\n",
        "        lista = [random.randint(17, 25631) for i in range(n)]\n",
        "        lista.sort()\n",
        "        print(f\"n: {n} Product: {lista[n - 1] * lista[n - 2]}\")\n"
      ]
    },
    {
      "cell_type": "code",
      "source": [
        "%%writefile stress_tests_C.cpp\n",
        "#include <iostream>     // Para std::cout\n",
        "#include <vector>       // Para std::vector\n",
        "#include <algorithm>    // Para std::sort\n",
        "#include <random>       // Para std::random_device, std::mt19937, std::uniform_int_distribution\n",
        "\n",
        "int main() {\n",
        "    std::random_device rd;                      // Generador de semilla\n",
        "    std::mt19937 gen(rd());                     // Generador de números aleatorios\n",
        "    std::uniform_int_distribution<int> n_dist(2, 99);      // Distribución para n\n",
        "    std::uniform_int_distribution<int> num_dist(0, 25000); // Distribución para los números\n",
        "\n",
        "    for (int i = 0; i < 100; ++i) {\n",
        "        int n = n_dist(gen);                    // Generar tamaño aleatorio del vector\n",
        "        std::vector<int> numbers(n);           // Vector de tamaño n\n",
        "        for (int j = 0; j < n; ++j) {          // Llenar el vector con números aleatorios\n",
        "            numbers[j] = num_dist(gen);\n",
        "        }\n",
        "\n",
        "        std::sort(numbers.begin(), numbers.end()); // Ordenar el vector\n",
        "        std::cout << \"n= \" << n\n",
        "                  << \" Product= \" << (long long) numbers[n - 1] * numbers[n - 2] << '\\n';\n",
        "    }\n",
        "\n",
        "    return 0;\n",
        "}\n"
      ],
      "metadata": {
        "id": "zcCtyrskqcNM"
      },
      "execution_count": null,
      "outputs": []
    },
    {
      "cell_type": "code",
      "source": [
        "!g++ stress_tests_C.cpp -o stress_tests_C\n",
        "!./stress_tests_C\n"
      ],
      "metadata": {
        "id": "j5By_BDrqgFb"
      },
      "execution_count": null,
      "outputs": []
    },
    {
      "cell_type": "code",
      "source": [
        "!python stress_tests.py"
      ],
      "metadata": {
        "id": "sUkZs45TqmwG"
      },
      "execution_count": null,
      "outputs": []
    },
    {
      "cell_type": "markdown",
      "metadata": {
        "id": "2beTmWFPOb_k"
      },
      "source": [
        "Count executed instructions in code and verify with inputs 1,2 and 3\n"
      ]
    },
    {
      "cell_type": "code",
      "execution_count": null,
      "metadata": {
        "id": "iuByv4x1Ob_k"
      },
      "outputs": [],
      "source": [
        "%%writefile max_pairwise_product_with_sort_and_instructions.py\n",
        "#Python3\n",
        "import math\n",
        "if __name__ == \"__main__\":\n",
        "    inst=0\n",
        "    n = int(input())\n",
        "    inst+=1\n",
        "    lista = list(map(int, input().split()))\n",
        "    inst+= 4*n\n",
        "    lista.sort()\n",
        "    inst+=  n * math.log2(n)\n",
        "    print(lista[n - 1] * lista[n - 2])\n",
        "    inst+=1\n",
        "    print(f\"Instrucciones ejecutadas: {int(inst)}\\n\")"
      ]
    },
    {
      "cell_type": "code",
      "source": [
        "%%writefile max_pairwise_product_with_sort_C_and_instructions.cpp\n",
        "#include <iostream>     // Para std::cin y std::cout\n",
        "#include <vector>       // Para std::vector\n",
        "#include <algorithm>    // Para std::sort\n",
        "#include <cmath>        // Para log2\n",
        "\n",
        "int main() {\n",
        "    int inst = 0;  // Contador de instrucciones\n",
        "    int n;         // Número de elementos\n",
        "    inst++;        // Incrementar contador por la declaración de inst y n\n",
        "    std::cin >> n; // Leer el número de elementos\n",
        "    inst++;\n",
        "    std::vector<int> numbers(n); // Crear un vector de tamaño n\n",
        "    inst += n;  // Considerar las instrucciones para inicializar el vector\n",
        "    inst++;     // Declaración de i=0\n",
        "\n",
        "    for (int i = 0; i < n; ++i) { // Bucle para leer los números\n",
        "        inst += 2;                // Comparación y actualización del índice\n",
        "        std::cin >> numbers[i];   // Leer el elemento i del vector\n",
        "        inst++;\n",
        "    }\n",
        "\n",
        "    std::sort(numbers.begin(), numbers.end()); // Ordenar el vector\n",
        "    inst += n * std::log2(n);                  // Instrucciones ejecutadas por el ordenamiento\n",
        "\n",
        "    std::cout << (long long) numbers[n - 1] * numbers[n - 2] << '\\n'; // Imprimir el producto máximo\n",
        "    inst += 2; // Operaciones de salida\n",
        "\n",
        "    std::cout << \"Instrucciones Ejecutadas: \" << inst << '\\n'; // Imprimir el total de instrucciones\n",
        "    return 0;\n",
        "}\n"
      ],
      "metadata": {
        "id": "8PGUH0-eqwU8"
      },
      "execution_count": null,
      "outputs": []
    },
    {
      "cell_type": "code",
      "source": [
        "!g++ max_pairwise_product_with_sort_C_and_instructions.cpp -o max_pairwise_product_with_sort_C_and_instructions"
      ],
      "metadata": {
        "id": "IDdfAZRzq0Mm"
      },
      "execution_count": null,
      "outputs": []
    },
    {
      "cell_type": "code",
      "source": [
        "!./max_pairwise_product_with_sort_C_and_instructions < input1.txt\n",
        "!./max_pairwise_product_with_sort_C_and_instructions < input2.txt\n",
        "!./max_pairwise_product_with_sort_C_and_instructions < input3.txt"
      ],
      "metadata": {
        "id": "L51MbT_0q5Re"
      },
      "execution_count": null,
      "outputs": []
    },
    {
      "cell_type": "code",
      "source": [
        "!python max_pairwise_product_with_sort_and_instructions.py < input1.txt\n",
        "!python max_pairwise_product_with_sort_and_instructions.py < input2.txt\n",
        "!python max_pairwise_product_with_sort_and_instructions.py < input3.txt"
      ],
      "metadata": {
        "id": "6uJj8iHcq9Af"
      },
      "execution_count": null,
      "outputs": []
    },
    {
      "cell_type": "markdown",
      "metadata": {
        "id": "x2CXhkwTOb_l"
      },
      "source": [
        "Calculate estimated time by instruction and number of instructions by second"
      ]
    },
    {
      "cell_type": "code",
      "execution_count": null,
      "metadata": {
        "id": "nTjxyTMtOb_l"
      },
      "outputs": [],
      "source": [
        "%%writefile max_pairwise_product_with_sort_and_instructions_with_time_and_IbS.py\n",
        "#Python3\n",
        "import math\n",
        "import time\n",
        "if __name__ == \"__main__\":\n",
        "    inicio = time.time()\n",
        "    inst=0\n",
        "    n = int(input())\n",
        "    inst+=1\n",
        "    lista = list(map(int, input().split()))\n",
        "    inst+= 4*n\n",
        "    lista.sort()\n",
        "    inst+=  n * math.log2(n)\n",
        "    print(lista[n - 1] * lista[n - 2])\n",
        "    inst+=1\n",
        "    print(f\"Instrucciones ejecutadas: {int(inst)}\")\n",
        "    fin = time.time()\n",
        "    tiempo_total = fin - inicio\n",
        "    instructionTime = tiempo_total/inst\n",
        "    instructionBySecond= inst/tiempo_total\n",
        "\n",
        "    print(f\"Tiempo total de ejecución: {tiempo_total*1000} milisegundos\")\n",
        "    print(f\"Tiempo estimado de cada instruccion: {instructionTime*1000} milisegundos\")\n",
        "    print(f\"Instrucciones por segundo: {int(instructionBySecond)} \")"
      ]
    },
    {
      "cell_type": "code",
      "source": [
        "!python max_pairwise_product_with_sort_and_instructions_with_time_and_IbS.py < input13.txt"
      ],
      "metadata": {
        "id": "otc__RVPrLlG"
      },
      "execution_count": null,
      "outputs": []
    },
    {
      "cell_type": "markdown",
      "source": [
        "### Estimate and verify the maximun n that can be solved in 1 second"
      ],
      "metadata": {
        "id": "CcgDYDQuaFeH"
      }
    },
    {
      "cell_type": "code",
      "source": [
        "%%writefile maximun_n_that_can_be_solved.py\n",
        "#Python3\n",
        "import random\n",
        "\n",
        "if __name__ == \"__main__\":\n",
        "      n = 600000\n",
        "      lista = [random.randint(17, 25631) for i in range(n)]\n",
        "      lista.sort()\n",
        "      print(f\"n: {n} Product: {lista[n - 1] * lista[n - 2]}\")"
      ],
      "metadata": {
        "id": "fLztHReKaGFq"
      },
      "execution_count": null,
      "outputs": []
    },
    {
      "cell_type": "code",
      "source": [
        "%%time\n",
        "!python maximun_n_that_can_be_solved.py"
      ],
      "metadata": {
        "id": "G9_1ngOYrUpU"
      },
      "execution_count": null,
      "outputs": []
    },
    {
      "cell_type": "code",
      "source": [
        "%%writefile maximun_n_that_can_be_solved_C.cpp\n",
        "#include <iostream>     // Para std::cout\n",
        "#include <vector>       // Para std::vector\n",
        "#include <algorithm>    // Para std::sort\n",
        "#include <random>       // Para std::random_device, std::mt19937, std::uniform_int_distribution\n",
        "\n",
        "int main() {\n",
        "    std::random_device rd;                          // Generador de semilla\n",
        "    std::mt19937 gen(rd());                         // Generador de números aleatorios\n",
        "    std::uniform_int_distribution<int> num_dist(0, 25000); // Distribución para números\n",
        "\n",
        "    int n = 1700000;                                // Tamaño del vector\n",
        "    std::vector<int> numbers(n);                    // Crear un vector de tamaño n\n",
        "    for (int i = 0; i < n; ++i) {                   // Llenar el vector con números aleatorios\n",
        "        numbers[i] = num_dist(gen);\n",
        "    }\n",
        "\n",
        "    std::sort(numbers.begin(), numbers.end());      // Ordenar el vector\n",
        "\n",
        "    // Imprimir el producto de los dos números más grandes\n",
        "    std::cout << \"n= \" << n\n",
        "              << \" Product= \" << (long long) numbers[n - 1] * numbers[n - 2] << '\\n';\n",
        "\n",
        "    return 0;\n",
        "}\n"
      ],
      "metadata": {
        "id": "LrivKYKara6J"
      },
      "execution_count": null,
      "outputs": []
    },
    {
      "cell_type": "code",
      "source": [
        "!g++ maximun_n_that_can_be_solved_C.cpp -o maximun_n_that_can_be_solved_C\n",
        "!time ./maximun_n_that_can_be_solved_C"
      ],
      "metadata": {
        "id": "l3J7o1jLrjv5"
      },
      "execution_count": null,
      "outputs": []
    },
    {
      "cell_type": "markdown",
      "metadata": {
        "id": "VMKC5duEOQfk"
      },
      "source": [
        "## Efficient solution with largest and second-largest in an list, array or vector in C++ and Python\n",
        "\n",
        " $$T(n) < 10 n  = O(n)$$\n",
        "\n",
        "\n",
        "\n"
      ]
    },
    {
      "cell_type": "markdown",
      "metadata": {
        "id": "nLcKBwbU0QsE"
      },
      "source": [
        "Add in each line a coment with the number of intstrcution that are executed in that line"
      ]
    },
    {
      "cell_type": "code",
      "execution_count": null,
      "metadata": {
        "id": "knls5Fh3NSt_"
      },
      "outputs": [],
      "source": [
        "%%writefile max_pairwise_product_long_efficient.cpp\n",
        "#include <iostream>     // Para std::cin y std::cout\n",
        "#include <vector>       // Para std::vector\n",
        "#include <algorithm>    // Opcional, si se necesitara en el futuro\n",
        "\n",
        "// Función para encontrar el producto máximo de dos elementos en un vector\n",
        "long long MaxPairwiseProduct(const std::vector<long long>& numbers) {\n",
        "    long long max_product = 0LL;          // Producto máximo\n",
        "    long long n_major = 0LL;              // Mayor número encontrado\n",
        "    long long n_major_2 = 0LL;            // Segundo mayor número encontrado\n",
        "    int n = numbers.size();               // Tamaño del vector\n",
        "\n",
        "    for (int i = 0; i < n; ++i) {         // Iterar a través del vector\n",
        "        if (numbers[i] > n_major) {\n",
        "            n_major_2 = n_major;          // Actualizar el segundo mayor\n",
        "            n_major = numbers[i];         // Actualizar el mayor\n",
        "        } else if (numbers[i] > n_major_2) {\n",
        "            n_major_2 = numbers[i];       // Actualizar el segundo mayor si corresponde\n",
        "        }\n",
        "    }\n",
        "    max_product = n_major * n_major_2;    // Calcular el producto máximo\n",
        "    return max_product;\n",
        "}\n",
        "\n",
        "int main() {\n",
        "    int n;                                // Número de elementos en el vector\n",
        "    std::cin >> n;                        // Leer el tamaño del vector\n",
        "    std::vector<long long> numbers(n);    // Crear un vector de tamaño n\n",
        "\n",
        "    for (int i = 0; i < n; ++i) {         // Leer los elementos del vector\n",
        "        std::cin >> numbers[i];\n",
        "    }\n",
        "\n",
        "    // Calcular y mostrar el producto máximo\n",
        "    std::cout << MaxPairwiseProduct(numbers) << \"\\n\";\n",
        "    return 0;\n",
        "}\n"
      ]
    },
    {
      "cell_type": "code",
      "source": [
        "!g++ max_pairwise_product_long_efficient.cpp -o max_pairwise_product_long_efficient"
      ],
      "metadata": {
        "id": "DE3l0NAEr-rk"
      },
      "execution_count": null,
      "outputs": []
    },
    {
      "cell_type": "code",
      "source": [
        "%%writefile max_pairwise_product_efficient.py\n",
        "#Python3\n",
        "def max_pairwise_product(lista):\n",
        "    n_major = 0\n",
        "    n_major_2 = 0\n",
        "    max_product = 0\n",
        "    for i in lista:\n",
        "        if i > n_major:\n",
        "            n_major_2=n_major\n",
        "            n_major = i\n",
        "        elif i > n_major_2:\n",
        "            n_major_2=i\n",
        "    max_product = n_major_2 * n_major\n",
        "\n",
        "    return max_product\n",
        "\n",
        "if __name__ == \"__main__\":\n",
        "    n = int(input())\n",
        "    lista = list(map(int, input().split()))\n",
        "    print(max_pairwise_product(lista))"
      ],
      "metadata": {
        "id": "apKBOusSsCYT"
      },
      "execution_count": null,
      "outputs": []
    },
    {
      "cell_type": "markdown",
      "metadata": {
        "id": "-JCijbWxNSii"
      },
      "source": [
        "Test with inputs 1 and 2\n",
        "\n"
      ]
    },
    {
      "cell_type": "code",
      "execution_count": null,
      "metadata": {
        "id": "TrTGAfqlNVXT"
      },
      "outputs": [],
      "source": [
        "!./max_pairwise_product_long_efficient < input1.txt\n",
        "!./max_pairwise_product_long_efficient < input2.txt"
      ]
    },
    {
      "cell_type": "code",
      "source": [
        "!python max_pairwise_product_efficient.py < input1.txt\n",
        "!python max_pairwise_product_efficient.py < input2.txt"
      ],
      "metadata": {
        "id": "HXrlJSlMsj6u"
      },
      "execution_count": null,
      "outputs": []
    },
    {
      "cell_type": "markdown",
      "metadata": {
        "id": "PRX51wADNR8b"
      },
      "source": [
        "Test and time it with input 3"
      ]
    },
    {
      "cell_type": "code",
      "execution_count": null,
      "metadata": {
        "id": "v4z7-Is_NRt7"
      },
      "outputs": [],
      "source": [
        "%%time\n",
        "!python max_pairwise_product_efficient.py < input3.txt"
      ]
    },
    {
      "cell_type": "code",
      "source": [
        "!time ./max_pairwise_product_long_efficient < input3.txt"
      ],
      "metadata": {
        "id": "3bZZKIr9srqS"
      },
      "execution_count": null,
      "outputs": []
    },
    {
      "cell_type": "markdown",
      "metadata": {
        "id": "rpdfs0_TNZJf"
      },
      "source": [
        "20 stress tests"
      ]
    },
    {
      "cell_type": "code",
      "execution_count": null,
      "metadata": {
        "id": "Lu4tYcKzNcTT"
      },
      "outputs": [],
      "source": [
        "%%writefile max_pairwise_product_long_efficient_stress_test.cpp\n",
        "#include <iostream>     // Para std::cin, std::cout\n",
        "#include <vector>       // Para std::vector\n",
        "#include <random>       // Para la generación de números aleatorios\n",
        "\n",
        "long long MaxPairwiseProduct(const std::vector<int>& numbers) {\n",
        "    long long max_product = 0LL;  // 1\n",
        "    long long n_major = 0LL;      // 1\n",
        "    long long n_major_2 = 0LL;    // 1\n",
        "    int n = numbers.size();       // 1\n",
        "\n",
        "    for (int i = 0; i < n; ++i) {  // 1 + 2n\n",
        "        if (numbers[i] > n_major) {\n",
        "            n_major_2 = n_major;  // n\n",
        "            n_major = numbers[i];\n",
        "        }\n",
        "        else if (numbers[i] > n_major_2) {  // n\n",
        "            n_major_2 = numbers[i];  // [0, n]\n",
        "        }\n",
        "    }\n",
        "    max_product = n_major * n_major_2;  // --------------\n",
        "    return max_product;\n",
        "}\n",
        "\n",
        "int main() {\n",
        "    std::random_device rd;\n",
        "    std::mt19937 gen(rd());\n",
        "    std::uniform_int_distribution<int> n_dist(2, 19);     // Rango para n\n",
        "    std::uniform_int_distribution<int> num_dist(0, 25000); // Rango para los números\n",
        "\n",
        "    for (int i = 0; i < 20; ++i) {\n",
        "        int n = n_dist(gen);  // Genera un número aleatorio para n\n",
        "        std::vector<int> numbers(n);  // Crea el vector con tamaño n\n",
        "\n",
        "        for (int i = 0; i < n; ++i) {  // 1 + 2n\n",
        "            numbers[i] = num_dist(gen);  // Llenar el vector con números aleatorios\n",
        "        }\n",
        "\n",
        "        std::cout << \"n= \" << n << \" Product= \" << MaxPairwiseProduct(numbers) << \"\\n\";\n",
        "    }\n",
        "\n",
        "    return 0;\n",
        "}\n"
      ]
    },
    {
      "cell_type": "code",
      "source": [
        "!g++ max_pairwise_product_long_efficient_stress_test.cpp -o max_pairwise_product_long_efficient_stress_test\n",
        "!./max_pairwise_product_long_efficient_stress_test"
      ],
      "metadata": {
        "id": "G6in1D_cs8OI"
      },
      "execution_count": null,
      "outputs": []
    },
    {
      "cell_type": "code",
      "source": [
        "%%writefile max_pairwise_product_efficient_stress_tests.py\n",
        "#Python3\n",
        "import random\n",
        "def max_pairwise_product(lista):\n",
        "    n_major = 0\n",
        "    n_major_2 = 0\n",
        "    max_product = 0\n",
        "    for i in lista:\n",
        "        if i > n_major:\n",
        "            n_major_2=n_major\n",
        "            n_major = i\n",
        "        elif i > n_major_2:\n",
        "            n_major_2=i\n",
        "    max_product = n_major_2 * n_major\n",
        "\n",
        "    return max_product\n",
        "\n",
        "if __name__ == \"__main__\":\n",
        "    for i in range(20):\n",
        "      n = random.randint(2, 19)\n",
        "      lista = [random.randint(17, 25631) for i in range(n)]\n",
        "      print(f\"n=  {n}   Product= {max_pairwise_product(lista)}\")"
      ],
      "metadata": {
        "id": "NT3sy33HtGUb"
      },
      "execution_count": null,
      "outputs": []
    },
    {
      "cell_type": "code",
      "source": [
        "!python max_pairwise_product_efficient_stress_tests.py"
      ],
      "metadata": {
        "id": "PhcRE7hktP8J"
      },
      "execution_count": null,
      "outputs": []
    },
    {
      "cell_type": "markdown",
      "metadata": {
        "id": "L8U4151JNbxk"
      },
      "source": [
        "Count executed instructions in code and verify with inputs 1,2 and 3\n"
      ]
    },
    {
      "cell_type": "code",
      "execution_count": null,
      "metadata": {
        "id": "dh85RM8vNhFz"
      },
      "outputs": [],
      "source": [
        "%%writefile max_pairwise_product_long_efficient_and_instructions.cpp\n",
        "#include <iostream>     // Para std::cin y std::cout\n",
        "#include <vector>       // Para std::vector\n",
        "\n",
        "long long inst = 0LL;\n",
        "\n",
        "long long MaxPairwiseProduct(const std::vector<long long>& numbers) {\n",
        "    long long max_product = 0LL;  // 1\n",
        "    inst++;\n",
        "    long long n_major = 0LL;      // 1\n",
        "    inst++;\n",
        "    long long n_major_2 = 0LL;   // 1\n",
        "    inst++;\n",
        "    int n = numbers.size();       // 1\n",
        "    inst++;\n",
        "\n",
        "    for(int i = 0; i < n; ++i) {  // 1 + 2n\n",
        "        inst += 2;\n",
        "        if (numbers[i] > n_major) {\n",
        "            inst++;\n",
        "            n_major_2 = n_major;  // n\n",
        "            inst++;\n",
        "            n_major = numbers[i];\n",
        "            inst++;\n",
        "        } else if (numbers[i] > n_major_2) {\n",
        "            inst++;\n",
        "            n_major_2 = numbers[i];  // n\n",
        "            inst++;\n",
        "        }\n",
        "    }\n",
        "    max_product = n_major * n_major_2;\n",
        "    inst++;  // --------------\n",
        "    return max_product;\n",
        "}\n",
        "\n",
        "int main() {\n",
        "    int n;  // 1\n",
        "    inst++;\n",
        "    std::cin >> n;  // 1\n",
        "    inst++;\n",
        "    std::vector<long long> numbers(n);  // n\n",
        "    inst++;\n",
        "\n",
        "    for (int i = 0; i < n; ++i) {  // 1 + 2n\n",
        "        std::cin >> numbers[i];  // n\n",
        "    }\n",
        "    inst += n;\n",
        "\n",
        "    std::cout << MaxPairwiseProduct(numbers) << \"\\n\";  // Mostrar el producto máximo\n",
        "    inst++;\n",
        "    std::cout << \"Numero de instrucciones: \" << inst << \"\\n\";  // Número de instrucciones ejecutadas\n",
        "    return 0;\n",
        "}\n"
      ]
    },
    {
      "cell_type": "code",
      "source": [
        "!g++ max_pairwise_product_long_efficient_and_instructions.cpp -o max_pairwise_product_long_efficient_and_instructions"
      ],
      "metadata": {
        "id": "u8docGHptlrI"
      },
      "execution_count": null,
      "outputs": []
    },
    {
      "cell_type": "code",
      "source": [
        "!./max_pairwise_product_long_efficient_and_instructions < input1.txt\n",
        "!./max_pairwise_product_long_efficient_and_instructions < input2.txt\n",
        "!./max_pairwise_product_long_efficient_and_instructions < input3.txt"
      ],
      "metadata": {
        "id": "8utLOBxitpou"
      },
      "execution_count": null,
      "outputs": []
    },
    {
      "cell_type": "code",
      "source": [
        "%%writefile max_pairwise_product_efficient_and_instructions.py\n",
        "#Python3\n",
        "\n",
        "inst=0\n",
        "def max_pairwise_product(lista):\n",
        "    global inst\n",
        "    n_major = 0\n",
        "    inst+=1\n",
        "    n_major_2 = 0\n",
        "    inst+=1\n",
        "    max_product = 0\n",
        "    inst+=1\n",
        "    for i in lista:\n",
        "        inst+=1\n",
        "        if i > n_major:\n",
        "            inst+=1\n",
        "            n_major_2=n_major\n",
        "            inst+=1\n",
        "            n_major = i\n",
        "            inst+=1\n",
        "        elif i > n_major_2:\n",
        "            inst+=1\n",
        "            n_major_2=i\n",
        "            inst+=1\n",
        "            inst+=1\n",
        "    max_product = n_major_2 * n_major\n",
        "    inst+=1\n",
        "\n",
        "    return max_product\n",
        "\n",
        "if __name__ == \"__main__\":\n",
        "    n = int(input())\n",
        "    inst+=1\n",
        "    lista = list(map(int, input().split()))\n",
        "    inst+=4*n\n",
        "    print(max_pairwise_product(lista))\n",
        "    inst+=1\n",
        "    print(f\"Numero Total de Instrucciones:  {inst}\")\n"
      ],
      "metadata": {
        "id": "OPPLBWQDt1RG"
      },
      "execution_count": null,
      "outputs": []
    },
    {
      "cell_type": "code",
      "source": [
        "!python max_pairwise_product_efficient_and_instructions.py < input1.txt\n",
        "!python max_pairwise_product_efficient_and_instructions.py < input2.txt\n",
        "!python max_pairwise_product_efficient_and_instructions.py < input3.txt"
      ],
      "metadata": {
        "id": "u7vBxh3gt97h"
      },
      "execution_count": null,
      "outputs": []
    },
    {
      "cell_type": "markdown",
      "metadata": {
        "id": "K6ybgCmpNygr"
      },
      "source": [
        "Calculate estimated time by instruction and number of instructions by second"
      ]
    },
    {
      "cell_type": "code",
      "execution_count": null,
      "metadata": {
        "id": "kwe3G1O3Nz1w"
      },
      "outputs": [],
      "source": [
        "%%writefile max_pairwise_product_long_efficient_and_instructions_by_second.cpp\n",
        "#include <iostream>     // Para std::cin y std::cout\n",
        "#include <vector>       // Para std::vector\n",
        "#include <chrono>       // Para medir el tiempo de ejecución\n",
        "\n",
        "long long inst = 0LL;\n",
        "\n",
        "long long MaxPairwiseProduct(const std::vector<long long>& numbers) {\n",
        "    long long max_product = 0LL;  // 1\n",
        "    inst++;\n",
        "    long long n_major = 0LL;      // 1\n",
        "    inst++;\n",
        "    long long n_major_2 = 0LL;   // 1\n",
        "    inst++;\n",
        "    int n = numbers.size();       // 1\n",
        "    inst++;\n",
        "\n",
        "    for(int i = 0; i < n; ++i) {  // 1 + 2n\n",
        "        inst += 2;\n",
        "        if (numbers[i] > n_major) {\n",
        "            inst++;\n",
        "            n_major_2 = n_major;  // n\n",
        "            inst++;\n",
        "            n_major = numbers[i];\n",
        "            inst++;\n",
        "        } else if (numbers[i] > n_major_2) {\n",
        "            inst++;\n",
        "            n_major_2 = numbers[i];  // n\n",
        "            inst++;\n",
        "        }\n",
        "    }\n",
        "    max_product = n_major * n_major_2;\n",
        "    inst++;  // --------------\n",
        "    return max_product;\n",
        "}\n",
        "\n",
        "int main() {\n",
        "    auto start_time = std::chrono::high_resolution_clock::now();  // Medir el tiempo de inicio\n",
        "\n",
        "    int n;  // 1\n",
        "    inst++;\n",
        "    std::cin >> n;  // 1\n",
        "    inst++;\n",
        "    std::vector<long long> numbers(n);  // n\n",
        "    inst++;\n",
        "\n",
        "    for (int i = 0; i < n; ++i) {  // 1 + 2n\n",
        "        std::cin >> numbers[i];  // n\n",
        "    }\n",
        "    inst += n;\n",
        "\n",
        "    std::cout << MaxPairwiseProduct(numbers) << \"\\n\";  // Mostrar el producto máximo\n",
        "    inst++;\n",
        "\n",
        "    auto end_time = std::chrono::high_resolution_clock::now();  // Medir el tiempo de fin\n",
        "    auto duration = std::chrono::duration_cast<std::chrono::milliseconds>(end_time - start_time);  // Duración en milisegundos\n",
        "\n",
        "    float duration_sec, duration_f;\n",
        "    duration_f = static_cast<float>(duration.count());\n",
        "    duration_sec = duration_f / 1000;\n",
        "\n",
        "    std::cout << \"Numero de instrucciones: \" << inst << \"\\n\";\n",
        "    std::cout << \"Duracion Estimada: \" << duration_sec << \" segundos\\n\";\n",
        "    std::cout << \"Duracion Estimada por instrucción: \" << duration_sec / inst << \" segundos\\n\";\n",
        "    std::cout << \"Numero de instrucciones por segundo: \" << 1 / (duration_sec / inst) << \" Instrucciones\\n\";\n",
        "\n",
        "    return 0;\n",
        "}\n"
      ]
    },
    {
      "cell_type": "code",
      "source": [
        "!g++ max_pairwise_product_long_efficient_and_instructions_by_second.cpp -o max_pairwise_product_long_efficient_and_instructions_by_second\n"
      ],
      "metadata": {
        "id": "a1f4Rrq8udFY"
      },
      "execution_count": null,
      "outputs": []
    },
    {
      "cell_type": "code",
      "source": [
        "!./max_pairwise_product_long_efficient_and_instructions_by_second < input13.txt"
      ],
      "metadata": {
        "id": "N3mi00Zrug0C"
      },
      "execution_count": null,
      "outputs": []
    },
    {
      "cell_type": "code",
      "source": [
        "%%writefile max_pairwise_product_efficient_and_instructions_by_second.py\n",
        "#Python3\n",
        "import time\n",
        "\n",
        "inst=0\n",
        "def max_pairwise_product(lista):\n",
        "    global inst\n",
        "    n_major = 0\n",
        "    inst+=1\n",
        "    n_major_2 = 0\n",
        "    inst+=1\n",
        "    max_product = 0\n",
        "    inst+=1\n",
        "    for i in lista:\n",
        "        inst+=1\n",
        "        if i > n_major:\n",
        "            inst+=1\n",
        "            n_major_2=n_major\n",
        "            inst+=1\n",
        "            n_major = i\n",
        "            inst+=1\n",
        "        elif i > n_major_2:\n",
        "            inst+=1\n",
        "            n_major_2=i\n",
        "            inst+=1\n",
        "            inst+=1\n",
        "    max_product = n_major_2 * n_major\n",
        "    inst+=1\n",
        "\n",
        "    return max_product\n",
        "\n",
        "if __name__ == \"__main__\":\n",
        "    inicio=time.time()\n",
        "    n = int(input())\n",
        "    inst+=1\n",
        "    lista = list(map(int, input().split()))\n",
        "    inst+=4*n\n",
        "    print(max_pairwise_product(lista))\n",
        "    inst+=1\n",
        "    fin = time.time()\n",
        "    tiempo_total = fin - inicio\n",
        "    instructionTime = tiempo_total/inst\n",
        "    instructionBySecond= 1/instructionTime\n",
        "    print(f\"Numero Total de Instrucciones:  {inst}\")\n",
        "    print(f\"Tiempo total de ejecución: {tiempo_total} segundos\")\n",
        "    print(f\"Tiempo estimado de cada instruccion: {instructionTime} segundos\")\n",
        "    print(f\"Instrucciones por segundo: {int(instructionBySecond)} \")\n"
      ],
      "metadata": {
        "id": "jlm7RwqNunHV"
      },
      "execution_count": null,
      "outputs": []
    },
    {
      "cell_type": "code",
      "source": [
        "!python max_pairwise_product_efficient_and_instructions_by_second.py < input13.txt"
      ],
      "metadata": {
        "id": "ZLvUyNgOuyBX"
      },
      "execution_count": null,
      "outputs": []
    },
    {
      "cell_type": "markdown",
      "source": [
        "### Estimate and verify the maximun n that can be solved in 1 second"
      ],
      "metadata": {
        "id": "v8GY6n_ZaJ4P"
      }
    },
    {
      "cell_type": "code",
      "source": [
        "%%writefile maximun_n_that_can_be_solved_efficient.py\n",
        "#Python3\n",
        "import random\n",
        "def max_pairwise_product(lista):\n",
        "    n_major = 0\n",
        "    n_major_2 = 0\n",
        "    max_product = 0\n",
        "    for i in lista:\n",
        "        if i > n_major:\n",
        "            n_major_2=n_major\n",
        "            n_major = i\n",
        "        elif i > n_major_2:\n",
        "            n_major_2=i\n",
        "    max_product = n_major_2 * n_major\n",
        "\n",
        "    return max_product\n",
        "\n",
        "if __name__ == \"__main__\":\n",
        "    n = 800000\n",
        "    lista = [random.randint(17, 25631) for i in range(n)]\n",
        "    print(f\"n=  {n}   Product= {max_pairwise_product(lista)}\")"
      ],
      "metadata": {
        "id": "z3xjzg1YaKk6"
      },
      "execution_count": null,
      "outputs": []
    },
    {
      "cell_type": "code",
      "source": [
        "%%time\n",
        "!python maximun_n_that_can_be_solved_efficient.py"
      ],
      "metadata": {
        "id": "nqa1YcZ_u7dz"
      },
      "execution_count": null,
      "outputs": []
    },
    {
      "cell_type": "markdown",
      "metadata": {
        "id": "sUpIWcykOGpT"
      },
      "source": [
        "## Super efficient solution\n",
        "\n",
        "Whitout storing the list in memory, only stpring the largest and second largest and whitout calling a function, add in each line a coment with the number of instructions that are executed in that line\n",
        "\n",
        "in C++ and Python\n",
        "\n",
        "\n",
        " $$T(n) < 13 n  = O(n)$$\n"
      ]
    },
    {
      "cell_type": "code",
      "execution_count": null,
      "metadata": {
        "id": "hBLt_xBQLy8E"
      },
      "outputs": [],
      "source": [
        "%%writefile max_pairwise_super_efficient.cpp\n",
        "#include <iostream>  // Para std::cin y std::cout\n",
        "\n",
        "using namespace std;\n",
        "\n",
        "int main() {\n",
        "    int n;                                     // 1\n",
        "    cin >> n;                                  // 1\n",
        "    int numero_M = 0;                          // 1\n",
        "    int segundo_Numero_M = 0;                  // 1\n",
        "\n",
        "    // Iterar sobre todos los elementos para encontrar los dos mayores números\n",
        "    for (int i = 0; i < n; ++i) {              // 1 + 2n\n",
        "        int comp = 0;                          // n\n",
        "        cin >> comp;                           // n\n",
        "\n",
        "        if (comp > numero_M) {                 // n\n",
        "            segundo_Numero_M = numero_M;       // n\n",
        "            numero_M = comp;                   // n\n",
        "        } else if (comp > segundo_Numero_M) {  // n\n",
        "            segundo_Numero_M = comp;           // n\n",
        "        }\n",
        "    }\n",
        "\n",
        "    cout << numero_M * segundo_Numero_M << \"\\n\"; // 1\n",
        "    return 0;\n",
        "}\n"
      ]
    },
    {
      "cell_type": "code",
      "source": [
        "!g++ max_pairwise_super_efficient.cpp -o max_pairwise_super_efficient"
      ],
      "metadata": {
        "id": "0jg_bJWWmQM0"
      },
      "execution_count": null,
      "outputs": []
    },
    {
      "cell_type": "markdown",
      "metadata": {
        "id": "683gc3roHqzb"
      },
      "source": [
        "Test with inputs 1 and 2\n",
        "\n",
        "\n"
      ]
    },
    {
      "cell_type": "code",
      "execution_count": null,
      "metadata": {
        "id": "b7d4LA8OIc2_"
      },
      "outputs": [],
      "source": [
        "!./max_pairwise_super_efficient < input1.txt\n",
        "!./max_pairwise_super_efficient < input2.txt"
      ]
    },
    {
      "cell_type": "markdown",
      "metadata": {
        "id": "36Ugn1odIeJz"
      },
      "source": [
        "Test and time it with input 3"
      ]
    },
    {
      "cell_type": "code",
      "execution_count": null,
      "metadata": {
        "id": "jDyMbCnxHqSN"
      },
      "outputs": [],
      "source": [
        "!time ./max_pairwise_super_efficient < input3.txt"
      ]
    },
    {
      "cell_type": "markdown",
      "metadata": {
        "id": "bhqiKQG6fjKM"
      },
      "source": [
        "20 stress tests"
      ]
    },
    {
      "cell_type": "code",
      "execution_count": null,
      "metadata": {
        "id": "2KsiXKhALzwm"
      },
      "outputs": [],
      "source": [
        "%%writefile max_pairwise_super_efficient_stress_tests.cpp\n",
        "#include <iostream>     // Para std::cout y std::cin\n",
        "#include <vector>       // Para std::vector\n",
        "#include <random>       // Para std::random_device, std::mt19937, std::uniform_int_distribution\n",
        "\n",
        "using namespace std;\n",
        "\n",
        "int main() {\n",
        "    std::random_device rd;                          // Generador de semilla\n",
        "    std::mt19937 gen(rd());                         // Generador de números aleatorios\n",
        "    std::uniform_int_distribution<int> n_dist(2, 19); // Distribución para el tamaño del arreglo\n",
        "    std::uniform_int_distribution<int> num_dist(0, 25000); // Distribución para los números\n",
        "\n",
        "    // Realizar 20 pruebas de estrés\n",
        "    for (int i = 0; i < 20; ++i) {\n",
        "        int n = n_dist(gen);                        // Tamaño del arreglo\n",
        "        int numero_M = 0;                           // Mayor número\n",
        "        int segundo_Numero_M = 0;                   // Segundo mayor número\n",
        "\n",
        "        // Llenar el arreglo con números aleatorios y calcular el producto\n",
        "        for (int i = 0; i < n; ++i) {\n",
        "            int comp = num_dist(gen);              // Generar un número aleatorio\n",
        "            if (comp > numero_M) {                 // Si el número es mayor que el mayor conocido\n",
        "                segundo_Numero_M = numero_M;      // Actualizar el segundo mayor\n",
        "                numero_M = comp;                  // Actualizar el mayor\n",
        "            } else if (comp > segundo_Numero_M) {  // Si el número es mayor que el segundo mayor\n",
        "                segundo_Numero_M = comp;          // Actualizar el segundo mayor\n",
        "            }\n",
        "        }\n",
        "\n",
        "        // Mostrar el tamaño y el producto de los dos mayores números\n",
        "        cout << \"n= \" << n << \" Multiplicacion= \" << numero_M * segundo_Numero_M  << \"\\n\";\n",
        "    }\n",
        "\n",
        "    return 0;\n",
        "}\n"
      ]
    },
    {
      "cell_type": "code",
      "source": [
        "!g++ max_pairwise_super_efficient_stress_tests.cpp -o max_pairwise_super_efficient_stress_tests\n",
        "!./max_pairwise_super_efficient_stress_tests"
      ],
      "metadata": {
        "id": "eMynPnV-vfJg"
      },
      "execution_count": null,
      "outputs": []
    },
    {
      "cell_type": "markdown",
      "metadata": {
        "id": "fEXj8GHJH5p1"
      },
      "source": [
        "Count executed instructions in code and verify with inputs 1,2 and 3"
      ]
    },
    {
      "cell_type": "code",
      "execution_count": null,
      "metadata": {
        "id": "LF1DHjKXIAsF"
      },
      "outputs": [],
      "source": [
        "%%writefile max_pairwise_super_efficient_count.cpp\n",
        "#include <iostream> // Para std::cin y std::cout\n",
        "using namespace std;\n",
        "\n",
        "int main() {\n",
        "    int inst = 0;                        // Contador de instrucciones\n",
        "    int n;                               // Número de elementos\n",
        "    inst++;\n",
        "    cin >> n;                            // Leer el tamaño del arreglo\n",
        "    inst++;\n",
        "\n",
        "    int numero_M = 0;                    // Mayor número\n",
        "    inst++;\n",
        "    int segundo_Numero_M = 0;            // Segundo mayor número\n",
        "    inst++;\n",
        "\n",
        "    inst++;                              // Inicialización del bucle\n",
        "    inst += 2 * n;                       // Por las iteraciones del bucle\n",
        "    for (int i = 0; i < n; ++i) {        // Iterar sobre el arreglo\n",
        "        int comp = 0;                    // Número actual\n",
        "        inst++;\n",
        "        cin >> comp;                     // Leer el número actual\n",
        "        inst++;\n",
        "        inst++;\n",
        "        if (comp > numero_M) {           // Si el número actual es mayor que el mayor conocido\n",
        "            segundo_Numero_M = numero_M; // Actualizar el segundo mayor\n",
        "            inst++;\n",
        "            numero_M = comp;             // Actualizar el mayor\n",
        "            inst++;\n",
        "        } else if (comp > segundo_Numero_M) { // Si el número actual es mayor que el segundo mayor\n",
        "            inst++;\n",
        "            segundo_Numero_M = comp;     // Actualizar el segundo mayor\n",
        "            inst++;\n",
        "        }\n",
        "    }\n",
        "\n",
        "    cout << numero_M * segundo_Numero_M << \"\\n\"; // Producto del mayor y segundo mayor\n",
        "    inst++;\n",
        "    cout << \"Numero de Instrucciones: \" << inst << \"\\n\"; // Imprimir el conteo de instrucciones\n",
        "    return 0;\n",
        "}\n"
      ]
    },
    {
      "cell_type": "code",
      "source": [
        "!g++ max_pairwise_super_efficient_count.cpp -o max_pairwise_super_efficient_count"
      ],
      "metadata": {
        "id": "mBHEdD6avzfJ"
      },
      "execution_count": null,
      "outputs": []
    },
    {
      "cell_type": "code",
      "source": [
        "!./max_pairwise_super_efficient_count < input1.txt\n",
        "!./max_pairwise_super_efficient_count < input2.txt\n",
        "!./max_pairwise_super_efficient_count < input3.txt"
      ],
      "metadata": {
        "id": "7RLkQ9xMv2_u"
      },
      "execution_count": null,
      "outputs": []
    },
    {
      "cell_type": "markdown",
      "metadata": {
        "id": "yae7sSm2IG9U"
      },
      "source": [
        "Calculate estimated time by instruction and number of instructions by second"
      ]
    },
    {
      "cell_type": "code",
      "execution_count": null,
      "metadata": {
        "id": "suouY7BYL2dz"
      },
      "outputs": [],
      "source": [
        "t_por_instruccion = 0.003 / 46\n",
        "instrucciones_por_segundo = 1 / t_por_instruccion\n",
        "print(f\"Tiempo por instruccion: {t_por_instruccion}\")\n",
        "print(f\"Instrucciones por segundo: {instrucciones_por_segundo}\")"
      ]
    },
    {
      "cell_type": "markdown",
      "metadata": {
        "id": "sy33CNNfPxcE"
      },
      "source": [
        "### Super efficient solution in Python\n",
        "\n",
        "Whitout storing the list in memory and whitout calling a function, add in each line a coment with the number of intstrcution that are executed in that line"
      ]
    },
    {
      "cell_type": "code",
      "execution_count": null,
      "metadata": {
        "id": "_mOjJwKrPxcJ"
      },
      "outputs": [],
      "source": [
        "\n",
        "%%writefile max_pairwise_super_efficient.py\n",
        "n = int(input())                            # 1\n",
        "numero_M = 0                                # 1\n",
        "segundo_Numero_M = 0                        # 1\n",
        "\n",
        "for comp in input().split():                 # 3 + 2n\n",
        "\n",
        "    comp = int(comp)                          # n\n",
        "\n",
        "    if comp > numero_M:                    # n\n",
        "        segundo_Numero_M = numero_M      # 0 o n\n",
        "        numero_M = comp                  # 0 o n\n",
        "    elif comp > segundo_Numero_M:           # n\n",
        "        segundo_Numero_M = comp             # 0 o n\n",
        "print(f\"{numero_M * segundo_Numero_M}\")"
      ]
    },
    {
      "cell_type": "markdown",
      "metadata": {
        "id": "K08Eow0hPxcJ"
      },
      "source": [
        "Test with inputs 1 and 2\n",
        "\n",
        "\n"
      ]
    },
    {
      "cell_type": "code",
      "execution_count": null,
      "metadata": {
        "id": "1_mUee2cPxcJ"
      },
      "outputs": [],
      "source": [
        "!python max_pairwise_super_efficient.py < input1.txt\n",
        "!python max_pairwise_super_efficient.py < input2.txt"
      ]
    },
    {
      "cell_type": "markdown",
      "metadata": {
        "id": "CE5DB3CmPxcJ"
      },
      "source": [
        "Test and time it with input 3"
      ]
    },
    {
      "cell_type": "code",
      "execution_count": null,
      "metadata": {
        "id": "lyLhFOoePxcJ"
      },
      "outputs": [],
      "source": [
        "%%time\n",
        "!python max_pairwise_super_efficient.py < input3.txt"
      ]
    },
    {
      "cell_type": "markdown",
      "metadata": {
        "id": "HZEI236lPxcK"
      },
      "source": [
        "20 stress tests"
      ]
    },
    {
      "cell_type": "code",
      "execution_count": null,
      "metadata": {
        "id": "_LoV-p4zPxcK"
      },
      "outputs": [],
      "source": [
        "%%writefile max_pairwise_super_efficient_stress_tests.py\n",
        "import random\n",
        "\n",
        "for i in range(20):\n",
        "  n = random.randint(2, 19)\n",
        "  numero_M = 0                                # 1\n",
        "  segundo_Numero_M = 0\n",
        "  for j in range(n):\n",
        "    comp=random.randint(17, 25631)\n",
        "    if comp > numero_M:                    # n\n",
        "      segundo_Numero_M = numero_M      # 0 o n\n",
        "      numero_M = comp                  # 0 o n\n",
        "    elif comp > segundo_Numero_M:           # n\n",
        "      segundo_Numero_M = comp             # 0 o n\n",
        "  print(f\"{i+1}. n= {n} Producto= {numero_M * segundo_Numero_M}\")"
      ]
    },
    {
      "cell_type": "code",
      "source": [
        "!python max_pairwise_super_efficient_stress_tests.py"
      ],
      "metadata": {
        "id": "oL7gNYS2i9Zh"
      },
      "execution_count": null,
      "outputs": []
    },
    {
      "cell_type": "markdown",
      "metadata": {
        "id": "IRVdP3iuPxcK"
      },
      "source": [
        "Count executed instructions in code and verify with inputs 1,2 and 3"
      ]
    },
    {
      "cell_type": "code",
      "source": [
        "%%writefile max_pairwise_super_efficient_count.py\n",
        "instrucciones=0\n",
        "n = int(input())                            # 1\n",
        "instrucciones+=1\n",
        "numero_M = 0                                # 1\n",
        "instrucciones+=1\n",
        "segundo_Numero_M = 0                        # 1\n",
        "instrucciones+=1\n",
        "instrucciones+=1\n",
        "instrucciones+=2*n\n",
        "for comp in input().split():                 # 1 + 2n\n",
        "\n",
        "    comp = int(comp)                          # n\n",
        "    instrucciones+=1\n",
        "\n",
        "    instrucciones+=1\n",
        "    if comp > numero_M:                    # n\n",
        "        segundo_Numero_M = numero_M      # 0 o n\n",
        "        instrucciones+=1\n",
        "        numero_M = comp                  # 0 o n\n",
        "        instrucciones+=1\n",
        "    elif comp > segundo_Numero_M:           # 0 o n\n",
        "        instrucciones+=1\n",
        "        segundo_Numero_M = comp             # 0 o n\n",
        "        instrucciones+=1\n",
        "\n",
        "print(f\"{numero_M * segundo_Numero_M}\")\n",
        "print(f\"Instrucciones totales: {instrucciones} \")"
      ],
      "metadata": {
        "id": "tCTsS_nLkOpI"
      },
      "execution_count": null,
      "outputs": []
    },
    {
      "cell_type": "code",
      "source": [
        "!python max_pairwise_super_efficient_count.py < input1.txt\n",
        "!python max_pairwise_super_efficient_count.py < input2.txt\n",
        "!python max_pairwise_super_efficient_count.py < input3.txt"
      ],
      "metadata": {
        "id": "Yv_QicTEjFXh"
      },
      "execution_count": null,
      "outputs": []
    },
    {
      "cell_type": "markdown",
      "source": [
        "## Calculate estimated time by instruction and number of instructions by second"
      ],
      "metadata": {
        "id": "1peR1EPJkWxO"
      }
    },
    {
      "cell_type": "code",
      "source": [
        "t_por_instruccion = 0.00405 / 38\n",
        "instrucciones_por_segundo = 1 / t_por_instruccion\n",
        "print(f\"Tiempo por instruccion: {t_por_instruccion}\")\n",
        "print(f\"Instrucciones por segundo: {instrucciones_por_segundo}\")"
      ],
      "metadata": {
        "id": "lWwbSo1lkdSY"
      },
      "execution_count": null,
      "outputs": []
    },
    {
      "cell_type": "markdown",
      "source": [
        "### Estimate and verify the maximun n that can be solved in 1 second"
      ],
      "metadata": {
        "id": "uZGdjUwuaO4v"
      }
    },
    {
      "cell_type": "code",
      "source": [
        "\n",
        "%%writefile maximun_n_that_can_be_solved_super_efficient.py\n",
        "import random\n",
        "\n",
        "n = 900000\n",
        "numero_M = 0                                # 1\n",
        "segundo_Numero_M = 0\n",
        "for j in range(n):\n",
        "  comp=random.randint(17, 25631)\n",
        "  if comp > numero_M:                    # n\n",
        "    segundo_Numero_M = numero_M      # 0 o n\n",
        "    numero_M = comp                  # 0 o n\n",
        "  elif comp > segundo_Numero_M:           # n\n",
        "    segundo_Numero_M = comp             # 0 o n\n",
        "print(f\"Producto= {numero_M * segundo_Numero_M}\")"
      ],
      "metadata": {
        "id": "FjqFevOaaOVz"
      },
      "execution_count": null,
      "outputs": []
    },
    {
      "cell_type": "code",
      "source": [
        "%%time\n",
        "!python maximun_n_that_can_be_solved_super_efficient.py"
      ],
      "metadata": {
        "id": "R6IVmpYKh0jq"
      },
      "execution_count": null,
      "outputs": []
    },
    {
      "cell_type": "markdown",
      "source": [
        "## Perform 100 randomized automated tests in C++ and Python with a porgram  compares the answers,for the same 100 random input instances, of the super efficient solution $(T(n) < 10 n = O(n))$ against the sorting solution  $(T(n)  = O(n \\lg{n}))$,  if the answers are not the same stops and displays \"Error\" listing  the input and the two answers; if the 100 tests are completed without stoping displays \"Pass\"."
      ],
      "metadata": {
        "id": "4hHRQMXzW6oR"
      }
    },
    {
      "cell_type": "code",
      "source": [
        "%%writefile max_pairwise_super_efficient_against_sorting_stress_tests.py\n",
        "import random\n",
        "\n",
        "for i in range(100):\n",
        "  n = random.randint(2, 99)\n",
        "  numero_M = 0                                # 1\n",
        "  segundo_Numero_M = 0\n",
        "  lista = []\n",
        "  for j in range(n):\n",
        "    comp=random.randint(17, 25631)\n",
        "    lista.append(comp)\n",
        "    if comp > numero_M:                    # n\n",
        "      segundo_Numero_M = numero_M      # 0 o n\n",
        "      numero_M = comp                  # 0 o n\n",
        "    elif comp > segundo_Numero_M:           # n\n",
        "      segundo_Numero_M = comp             # 0 o n\n",
        "  lista.sort()\n",
        "  sol_sorting=lista[n - 1] * lista[n - 2]\n",
        "  sol_super_e = numero_M * segundo_Numero_M\n",
        "\n",
        "\n",
        "  if sol_sorting != sol_super_e:\n",
        "    print(\"Error\")\n",
        "    break\n",
        "  else:\n",
        "      print(f\"{i+1}. SUPER EFFICENT SOLITION: n= {n} Product= {numero_M * segundo_Numero_M}\")\n",
        "      print(f\"{i+1}. SORTING SOLUTION: n= {n} Product: {lista[n - 1] * lista[n - 2]}\")\n",
        "  if i==99:\n",
        "    print(\"Pass\")"
      ],
      "metadata": {
        "id": "X0iQpIZeheM4"
      },
      "execution_count": null,
      "outputs": []
    },
    {
      "cell_type": "code",
      "source": [
        "!python max_pairwise_super_efficient_against_sorting_stress_tests.py"
      ],
      "metadata": {
        "id": "DzlQNdcuhkO8"
      },
      "execution_count": null,
      "outputs": []
    }
  ],
  "metadata": {
    "colab": {
      "provenance": [],
      "include_colab_link": true
    },
    "kernelspec": {
      "display_name": "Python 3",
      "name": "python3"
    },
    "language_info": {
      "name": "python"
    }
  },
  "nbformat": 4,
  "nbformat_minor": 0
}