{
  "cells": [
    {
      "cell_type": "markdown",
      "metadata": {
        "id": "view-in-github",
        "colab_type": "text"
      },
      "source": [
        "<a href=\"https://colab.research.google.com/github/Rochy3/AlgorithmsUN2024II/blob/main/Lab3/RosaSantofimio_Lab3.ipynb\" target=\"_parent\"><img src=\"https://colab.research.google.com/assets/colab-badge.svg\" alt=\"Open In Colab\"/></a>"
      ]
    },
    {
      "cell_type": "code",
      "execution_count": 11,
      "metadata": {
        "id": "im-VVd1__7VU",
        "colab": {
          "base_uri": "https://localhost:8080/"
        },
        "outputId": "947a1283-eb65-46f4-aa67-450a0d7d17aa"
      },
      "outputs": [
        {
          "output_type": "stream",
          "name": "stdout",
          "text": [
            "processor\t: 0\n",
            "vendor_id\t: GenuineIntel\n",
            "cpu family\t: 6\n",
            "model\t\t: 79\n",
            "model name\t: Intel(R) Xeon(R) CPU @ 2.20GHz\n",
            "stepping\t: 0\n",
            "microcode\t: 0xffffffff\n",
            "cpu MHz\t\t: 2199.998\n",
            "cache size\t: 56320 KB\n",
            "physical id\t: 0\n",
            "siblings\t: 2\n",
            "core id\t\t: 0\n",
            "cpu cores\t: 1\n",
            "apicid\t\t: 0\n",
            "initial apicid\t: 0\n",
            "fpu\t\t: yes\n",
            "fpu_exception\t: yes\n",
            "cpuid level\t: 13\n",
            "wp\t\t: yes\n",
            "flags\t\t: fpu vme de pse tsc msr pae mce cx8 apic sep mtrr pge mca cmov pat pse36 clflush mmx fxsr sse sse2 ss ht syscall nx pdpe1gb rdtscp lm constant_tsc rep_good nopl xtopology nonstop_tsc cpuid tsc_known_freq pni pclmulqdq ssse3 fma cx16 pcid sse4_1 sse4_2 x2apic movbe popcnt aes xsave avx f16c rdrand hypervisor lahf_lm abm 3dnowprefetch invpcid_single ssbd ibrs ibpb stibp fsgsbase tsc_adjust bmi1 hle avx2 smep bmi2 erms invpcid rtm rdseed adx smap xsaveopt arat md_clear arch_capabilities\n",
            "bugs\t\t: cpu_meltdown spectre_v1 spectre_v2 spec_store_bypass l1tf mds swapgs taa mmio_stale_data retbleed bhi\n",
            "bogomips\t: 4399.99\n",
            "clflush size\t: 64\n",
            "cache_alignment\t: 64\n",
            "address sizes\t: 46 bits physical, 48 bits virtual\n",
            "power management:\n",
            "\n",
            "processor\t: 1\n",
            "vendor_id\t: GenuineIntel\n",
            "cpu family\t: 6\n",
            "model\t\t: 79\n",
            "model name\t: Intel(R) Xeon(R) CPU @ 2.20GHz\n",
            "stepping\t: 0\n",
            "microcode\t: 0xffffffff\n",
            "cpu MHz\t\t: 2199.998\n",
            "cache size\t: 56320 KB\n",
            "physical id\t: 0\n",
            "siblings\t: 2\n",
            "core id\t\t: 0\n",
            "cpu cores\t: 1\n",
            "apicid\t\t: 1\n",
            "initial apicid\t: 1\n",
            "fpu\t\t: yes\n",
            "fpu_exception\t: yes\n",
            "cpuid level\t: 13\n",
            "wp\t\t: yes\n",
            "flags\t\t: fpu vme de pse tsc msr pae mce cx8 apic sep mtrr pge mca cmov pat pse36 clflush mmx fxsr sse sse2 ss ht syscall nx pdpe1gb rdtscp lm constant_tsc rep_good nopl xtopology nonstop_tsc cpuid tsc_known_freq pni pclmulqdq ssse3 fma cx16 pcid sse4_1 sse4_2 x2apic movbe popcnt aes xsave avx f16c rdrand hypervisor lahf_lm abm 3dnowprefetch invpcid_single ssbd ibrs ibpb stibp fsgsbase tsc_adjust bmi1 hle avx2 smep bmi2 erms invpcid rtm rdseed adx smap xsaveopt arat md_clear arch_capabilities\n",
            "bugs\t\t: cpu_meltdown spectre_v1 spectre_v2 spec_store_bypass l1tf mds swapgs taa mmio_stale_data retbleed bhi\n",
            "bogomips\t: 4399.99\n",
            "clflush size\t: 64\n",
            "cache_alignment\t: 64\n",
            "address sizes\t: 46 bits physical, 48 bits virtual\n",
            "power management:\n",
            "\n"
          ]
        }
      ],
      "source": [
        "!cat /proc/cpuinfo"
      ]
    },
    {
      "cell_type": "markdown",
      "metadata": {
        "id": "N1ok_-56OjB1"
      },
      "source": [
        "# I Solving the Sum of Two Digits Programming Challenge"
      ]
    },
    {
      "cell_type": "markdown",
      "metadata": {
        "id": "MMY7kmDSO0KM"
      },
      "source": [
        "## C++"
      ]
    },
    {
      "cell_type": "code",
      "execution_count": 12,
      "metadata": {
        "colab": {
          "base_uri": "https://localhost:8080/"
        },
        "id": "2pGGf9BkPNIk",
        "outputId": "8c3b457a-f2e6-4dc7-8406-0510eb6550be"
      },
      "outputs": [
        {
          "output_type": "stream",
          "name": "stdout",
          "text": [
            "Writing APlusB.cpp\n"
          ]
        }
      ],
      "source": [
        "%%writefile APlusB.cpp\n",
        "#include <iostream>\n",
        "\n",
        "int sum_of_two_digits(int first_digit, int second_digit) {\n",
        "    return first_digit + second_digit;\n",
        "}\n",
        "\n",
        "int main() {\n",
        "    int a = 0;\n",
        "    int b = 0;\n",
        "    std::cin >> a;\n",
        "    std::cin >> b;\n",
        "    std::cout << sum_of_two_digits(a, b);\n",
        "    return 0;\n",
        "}"
      ]
    },
    {
      "cell_type": "code",
      "execution_count": 13,
      "metadata": {
        "id": "0G3ZKOYAPXSU",
        "outputId": "d18969ed-93e9-422c-ee57-17531c8c1c0e",
        "colab": {
          "base_uri": "https://localhost:8080/"
        }
      },
      "outputs": [
        {
          "output_type": "stream",
          "name": "stdout",
          "text": [
            "2\n",
            "3\n",
            "5"
          ]
        }
      ],
      "source": [
        "!g++ APlusB.cpp -o APlusB -std=c++11\n",
        "!./APlusB"
      ]
    },
    {
      "cell_type": "markdown",
      "metadata": {
        "id": "iNkG2HqfTl9c"
      },
      "source": [
        "### Test input output files"
      ]
    },
    {
      "cell_type": "code",
      "execution_count": 14,
      "metadata": {
        "id": "aTzU2efzMxly",
        "outputId": "fe20a886-615f-4b50-fd71-4bc3c163455f",
        "colab": {
          "base_uri": "https://localhost:8080/"
        }
      },
      "outputs": [
        {
          "output_type": "stream",
          "name": "stdout",
          "text": [
            "Writing input1.txt\n"
          ]
        }
      ],
      "source": [
        "%%writefile input1.txt\n",
        "4 8"
      ]
    },
    {
      "cell_type": "code",
      "execution_count": 15,
      "metadata": {
        "id": "zBJ0Gc0NQRet",
        "outputId": "0a473022-2f45-450a-d9f1-f46b5c588b8b",
        "colab": {
          "base_uri": "https://localhost:8080/"
        }
      },
      "outputs": [
        {
          "output_type": "stream",
          "name": "stdout",
          "text": [
            "Writing output1.txt\n"
          ]
        }
      ],
      "source": [
        "%%writefile output1.txt\n",
        "12"
      ]
    },
    {
      "cell_type": "code",
      "execution_count": 16,
      "metadata": {
        "id": "IjEcIx63PJAN",
        "outputId": "7693dd41-0d1d-4594-8305-e6f9d07c0ef3",
        "colab": {
          "base_uri": "https://localhost:8080/"
        }
      },
      "outputs": [
        {
          "output_type": "stream",
          "name": "stdout",
          "text": [
            "Writing input2.txt\n"
          ]
        }
      ],
      "source": [
        "%%writefile input2.txt\n",
        "0 9"
      ]
    },
    {
      "cell_type": "code",
      "execution_count": 17,
      "metadata": {
        "id": "Up9gOrxURTmd",
        "outputId": "b865a0c2-a102-4edd-cab0-9c1a599af344",
        "colab": {
          "base_uri": "https://localhost:8080/"
        }
      },
      "outputs": [
        {
          "output_type": "stream",
          "name": "stdout",
          "text": [
            "Writing output2.txt\n"
          ]
        }
      ],
      "source": [
        "%%writefile output2.txt\n",
        "9"
      ]
    },
    {
      "cell_type": "code",
      "execution_count": 18,
      "metadata": {
        "id": "PST6G-s-Pwgc",
        "outputId": "183dc5cc-9b89-45a1-c6cc-a4dfc2eb54c5",
        "colab": {
          "base_uri": "https://localhost:8080/"
        }
      },
      "outputs": [
        {
          "output_type": "stream",
          "name": "stdout",
          "text": [
            "12"
          ]
        }
      ],
      "source": [
        "!./APlusB < input1.txt"
      ]
    },
    {
      "cell_type": "code",
      "execution_count": 19,
      "metadata": {
        "colab": {
          "base_uri": "https://localhost:8080/"
        },
        "id": "cKxZOjSlRfIN",
        "outputId": "f47613fc-bddb-4cf2-fb60-6b1194322e60"
      },
      "outputs": [
        {
          "output_type": "stream",
          "name": "stdout",
          "text": [
            "9"
          ]
        }
      ],
      "source": [
        "!./APlusB < input2.txt"
      ]
    },
    {
      "cell_type": "markdown",
      "metadata": {
        "id": "Qw2TQWCCUwqk"
      },
      "source": [
        "### Comparing files with grep\n",
        "\n",
        "https://askubuntu.com/questions/546796/comparing-two-text-files"
      ]
    },
    {
      "cell_type": "code",
      "source": [
        "!grep -xvFf output1.txt output1.txt"
      ],
      "metadata": {
        "id": "f5ef12XfZZBj"
      },
      "execution_count": 20,
      "outputs": []
    },
    {
      "cell_type": "code",
      "source": [
        "!grep -xvFf output1.txt output2.txt"
      ],
      "metadata": {
        "id": "WL7rO5urZdAT",
        "outputId": "d0f7479b-35a0-4209-d74e-6607de974b48",
        "colab": {
          "base_uri": "https://localhost:8080/"
        }
      },
      "execution_count": 21,
      "outputs": [
        {
          "output_type": "stream",
          "name": "stdout",
          "text": [
            "9\n"
          ]
        }
      ]
    },
    {
      "cell_type": "code",
      "source": [
        "!grep -xvFf output2.txt output1.txt"
      ],
      "metadata": {
        "id": "Awj8Lx3oZffj",
        "outputId": "fb6cf5cf-777d-4e56-9458-a85f082fa982",
        "colab": {
          "base_uri": "https://localhost:8080/"
        }
      },
      "execution_count": 22,
      "outputs": [
        {
          "output_type": "stream",
          "name": "stdout",
          "text": [
            "12\n"
          ]
        }
      ]
    },
    {
      "cell_type": "code",
      "execution_count": 23,
      "metadata": {
        "id": "Jlja0Xm4TX9M"
      },
      "outputs": [],
      "source": [
        "!./APlusB < input1.txt> ctest1.txt\n",
        "!grep -xvFf output1.txt ctest1.txt"
      ]
    },
    {
      "cell_type": "code",
      "execution_count": 24,
      "metadata": {
        "id": "g9OIUZA_QLCQ"
      },
      "outputs": [],
      "source": [
        "!./APlusB < input2.txt > ctest2.txt\n",
        "!grep -xvFf output2.txt ctest2.txt"
      ]
    },
    {
      "cell_type": "markdown",
      "metadata": {
        "id": "3BgOaDjUVJk6"
      },
      "source": [
        "## Python"
      ]
    },
    {
      "cell_type": "code",
      "execution_count": 25,
      "metadata": {
        "colab": {
          "base_uri": "https://localhost:8080/"
        },
        "id": "DBvl-T0CTN_8",
        "outputId": "0b31db65-0919-4089-f88b-a2dfb32d6e5a"
      },
      "outputs": [
        {
          "output_type": "stream",
          "name": "stdout",
          "text": [
            "Writing sum.py\n"
          ]
        }
      ],
      "source": [
        "%%writefile sum.py\n",
        "# python3\n",
        "\n",
        "def sum_of_two_digits(first_digit, second_digit):\n",
        "    return first_digit + second_digit\n",
        "\n",
        "if __name__ == '__main__':\n",
        "    a, b = map(int, input().split())\n",
        "    print(sum_of_two_digits(a, b))"
      ]
    },
    {
      "cell_type": "code",
      "execution_count": 26,
      "metadata": {
        "id": "QKoKM11_WGyF",
        "outputId": "d99a59bb-754c-4829-88e2-990ce809afee",
        "colab": {
          "base_uri": "https://localhost:8080/"
        }
      },
      "outputs": [
        {
          "output_type": "stream",
          "name": "stdout",
          "text": [
            "5\n",
            "Traceback (most recent call last):\n",
            "  File \"/content/sum.py\", line 7, in <module>\n",
            "    a, b = map(int, input().split())\n",
            "ValueError: not enough values to unpack (expected 2, got 1)\n"
          ]
        }
      ],
      "source": [
        "!python sum.py"
      ]
    },
    {
      "cell_type": "code",
      "execution_count": 27,
      "metadata": {
        "id": "cocFbPRTWrqt"
      },
      "outputs": [],
      "source": [
        "!python sum.py  < input1.txt> ptest1.txt\n",
        "!grep -xvFf output1.txt ptest1.txt"
      ]
    },
    {
      "cell_type": "code",
      "execution_count": 28,
      "metadata": {
        "id": "MorKTa-XXASN"
      },
      "outputs": [],
      "source": [
        "!python sum.py  < input2.txt> ptest2.txt\n",
        "!grep -xvFf output2.txt ptest2.txt"
      ]
    },
    {
      "cell_type": "markdown",
      "metadata": {
        "id": "uvP-mOubW_5F"
      },
      "source": [
        "# II Solving The Maximum Pairwise Product Programming Challenge in C++"
      ]
    },
    {
      "cell_type": "markdown",
      "metadata": {
        "id": "C12yoFR6Xonl"
      },
      "source": [
        "## C++\n",
        "\n",
        "$$ T(n) < 6 n^2 = O(n^2)$$"
      ]
    },
    {
      "cell_type": "code",
      "source": [
        "%%writefile max_pairwise_product_full.cpp\n",
        "#include <iostream>\n",
        "#include <vector>\n",
        "#include <algorithm>\n",
        "\n",
        "int MaxPairwiseProduct(const std::vector<int>& numbers) {\n",
        "    int max_product = 0;\n",
        "    int aux_product = 0;\n",
        "    int n = numbers.size();\n",
        "\n",
        "    for (int first = 0; first < n; ++first) {\n",
        "        for (int second = 0; second < n; ++second) {\n",
        "          if ( first != second ){\n",
        "                aux_product = numbers[first] * numbers[second];\n",
        "                if (aux_product > max_product)  max_product = aux_product;\n",
        "          }\n",
        "        }\n",
        "    }\n",
        "\n",
        "    return max_product;\n",
        "}\n",
        "\n",
        "int main() {\n",
        "    int n;\n",
        "    std::cin >> n;\n",
        "    std::vector<int> numbers(n);\n",
        "    for (int i = 0; i < n; ++i) {\n",
        "        std::cin >> numbers[i];\n",
        "    }\n",
        "\n",
        "    std::cout << MaxPairwiseProduct(numbers) << \"\\n\";\n",
        "    return 0;\n",
        "}"
      ],
      "metadata": {
        "id": "3LpfoGv2Ae81",
        "outputId": "1adc74d5-e231-40a7-926e-e5c7dcefd5ee",
        "colab": {
          "base_uri": "https://localhost:8080/"
        }
      },
      "execution_count": 29,
      "outputs": [
        {
          "output_type": "stream",
          "name": "stdout",
          "text": [
            "Writing max_pairwise_product_full.cpp\n"
          ]
        }
      ]
    },
    {
      "cell_type": "markdown",
      "metadata": {
        "id": "m75IQQPbEHBS"
      },
      "source": [
        "#### Time Complexity\n",
        "$$\\left. \\begin{array}{llc}\n",
        " \\text{INSTRUCTION} & \\text{TYPE}& \\text{# EXECUTIONS}\\\\\n",
        "\\text{first != second} &  \\text{comparisons} &n^2 \\\\\n",
        "\\text{numbers[first] * numbers[second]}& \\ \\text{ products}  &n^2 - n \\\\\n",
        "\\text{max_product = aux_product} &  \\text{assigments} & [1, \\frac{n^2 - n}{2})  \n",
        "\\end{array}\\right\\}  =  O(n^2)$$"
      ]
    },
    {
      "cell_type": "code",
      "source": [
        "!g++ max_pairwise_product_full.cpp -o max_pairwise_product_full\n",
        "!./max_pairwise_product_full"
      ],
      "metadata": {
        "id": "PCVo1h6nCF9k",
        "colab": {
          "base_uri": "https://localhost:8080/"
        },
        "outputId": "01edb80b-0fdd-4f49-8e25-227eb068a792"
      },
      "execution_count": 30,
      "outputs": [
        {
          "output_type": "stream",
          "name": "stdout",
          "text": [
            "2\n",
            "3\n",
            "2\n",
            "6\n"
          ]
        }
      ]
    },
    {
      "cell_type": "markdown",
      "metadata": {
        "id": "e7KhxHGNS3i0"
      },
      "source": [
        "### Test 1: Small numbers"
      ]
    },
    {
      "cell_type": "code",
      "source": [
        "%%writefile input1.txt\n",
        "10\n",
        "1 2 3 4 5 6 7 8 9 10"
      ],
      "metadata": {
        "colab": {
          "base_uri": "https://localhost:8080/"
        },
        "id": "17npyXt7lYzA",
        "outputId": "9789089e-88d5-4fbd-bf1a-ff0be578049b"
      },
      "execution_count": 31,
      "outputs": [
        {
          "output_type": "stream",
          "name": "stdout",
          "text": [
            "Overwriting input1.txt\n"
          ]
        }
      ]
    },
    {
      "cell_type": "code",
      "source": [
        "!./max_pairwise_product < input1.txt"
      ],
      "metadata": {
        "id": "qaVPZ25WbgbJ",
        "outputId": "6492ea73-1b64-49e1-e7f8-e0e86aa6a53f",
        "colab": {
          "base_uri": "https://localhost:8080/"
        }
      },
      "execution_count": 32,
      "outputs": [
        {
          "output_type": "stream",
          "name": "stdout",
          "text": [
            "/bin/bash: line 1: ./max_pairwise_product: No such file or directory\n"
          ]
        }
      ]
    },
    {
      "cell_type": "code",
      "source": [
        "%%writefile output1.txt\n",
        "90"
      ],
      "metadata": {
        "colab": {
          "base_uri": "https://localhost:8080/"
        },
        "id": "NooGEkJylezm",
        "outputId": "1ac5d1ba-5ab6-4179-e59e-d41495a206d9"
      },
      "execution_count": 33,
      "outputs": [
        {
          "output_type": "stream",
          "name": "stdout",
          "text": [
            "Overwriting output1.txt\n"
          ]
        }
      ]
    },
    {
      "cell_type": "code",
      "source": [
        "!./max_pairwise_product_full< input1.txt > ctest1.txt\n",
        "!grep -xvFf output1.txt ctest1.txt"
      ],
      "metadata": {
        "id": "R0yFaAOrlqrE"
      },
      "execution_count": 34,
      "outputs": []
    },
    {
      "cell_type": "code",
      "execution_count": 35,
      "metadata": {
        "colab": {
          "base_uri": "https://localhost:8080/"
        },
        "id": "e1mmTzBgShT-",
        "outputId": "512763df-4076-457f-91c4-ce7bdb9c989d"
      },
      "outputs": [
        {
          "output_type": "stream",
          "name": "stdout",
          "text": [
            "Overwriting input2.txt\n"
          ]
        }
      ],
      "source": [
        "%%writefile input2.txt\n",
        "10\n",
        "10 9 8 7 6 5 4 3 2 1"
      ]
    },
    {
      "cell_type": "code",
      "execution_count": 36,
      "metadata": {
        "colab": {
          "base_uri": "https://localhost:8080/"
        },
        "id": "vy_uI0x7TCId",
        "outputId": "56b8bb90-c960-4bc6-a8ae-ae9cdab6c6b9"
      },
      "outputs": [
        {
          "output_type": "stream",
          "name": "stdout",
          "text": [
            "Overwriting output2.txt\n"
          ]
        }
      ],
      "source": [
        "%%writefile output2.txt\n",
        "90"
      ]
    },
    {
      "cell_type": "code",
      "execution_count": 37,
      "metadata": {
        "id": "xaj6f9bxC6D6"
      },
      "outputs": [],
      "source": [
        "!./max_pairwise_product_full< input2.txt > ctest2.txt\n",
        "!grep -xvFf output2.txt ctest2.txt"
      ]
    },
    {
      "cell_type": "markdown",
      "metadata": {
        "id": "IeZ3kTjpYmR9"
      },
      "source": [
        "### Test 2: largest input numbers 200000 200000 to check possible intger overflow"
      ]
    },
    {
      "cell_type": "code",
      "execution_count": 38,
      "metadata": {
        "colab": {
          "base_uri": "https://localhost:8080/"
        },
        "id": "LQNlZqaqYt7U",
        "outputId": "b586dc25-3314-43ee-f2e6-1bf414b43f48"
      },
      "outputs": [
        {
          "output_type": "stream",
          "name": "stdout",
          "text": [
            "Writing input3.txt\n"
          ]
        }
      ],
      "source": [
        "%%writefile input3.txt\n",
        "6\n",
        "1 3 200000 9 200000 23"
      ]
    },
    {
      "cell_type": "code",
      "execution_count": 39,
      "metadata": {
        "colab": {
          "base_uri": "https://localhost:8080/"
        },
        "id": "GjQq7QOUCw-9",
        "outputId": "c6e010d1-886e-4803-ab52-bfefa8163203"
      },
      "outputs": [
        {
          "output_type": "execute_result",
          "data": {
            "text/plain": [
              "40000000000"
            ]
          },
          "metadata": {},
          "execution_count": 39
        }
      ],
      "source": [
        "200000*200000"
      ]
    },
    {
      "cell_type": "code",
      "execution_count": 40,
      "metadata": {
        "colab": {
          "base_uri": "https://localhost:8080/"
        },
        "id": "EuS6n3jtDK5C",
        "outputId": "396edf9b-33fe-480d-907a-7f5f001e0bcd"
      },
      "outputs": [
        {
          "output_type": "stream",
          "name": "stdout",
          "text": [
            "Writing output3.txt\n"
          ]
        }
      ],
      "source": [
        "%%writefile output3.txt\n",
        "40000000000"
      ]
    },
    {
      "cell_type": "code",
      "execution_count": 41,
      "metadata": {
        "colab": {
          "base_uri": "https://localhost:8080/"
        },
        "id": "2Wad2VZUZDxR",
        "outputId": "0e69afbd-923f-4ce6-dec7-2bc67c143db1"
      },
      "outputs": [
        {
          "output_type": "stream",
          "name": "stdout",
          "text": [
            "1345294336\n"
          ]
        }
      ],
      "source": [
        "!./max_pairwise_product_full < input3.txt"
      ]
    },
    {
      "cell_type": "code",
      "execution_count": 42,
      "metadata": {
        "colab": {
          "base_uri": "https://localhost:8080/"
        },
        "id": "pEvp1ieyDJGq",
        "outputId": "a6ae24b9-73ed-4e93-e443-2ff83f3d5f36"
      },
      "outputs": [
        {
          "output_type": "stream",
          "name": "stdout",
          "text": [
            "1345294336\n"
          ]
        }
      ],
      "source": [
        "!./max_pairwise_product_full < input3.txt > ctest3.txt\n",
        "!grep -xvFf output3.txt ctest3.txt"
      ]
    },
    {
      "cell_type": "code",
      "source": [
        " %%writefile run_all_test.sh\n",
        "#!/bin/bash\n",
        "g++ max_pairwise_product_full.cpp -o max_pairwise_product_full\n",
        "for i in {0..3}\n",
        "do\n",
        "    ./max_pairwise_product_full < input$i.txt > ctest$i.txt\n",
        "    grep -xvFf output$i.txt ctest$i.txt\n",
        "done"
      ],
      "metadata": {
        "colab": {
          "base_uri": "https://localhost:8080/"
        },
        "id": "SrtJrKqM-God",
        "outputId": "ed1f6017-5bd6-4bd6-e180-4ac8d1a34945"
      },
      "execution_count": 43,
      "outputs": [
        {
          "output_type": "stream",
          "name": "stdout",
          "text": [
            "Writing run_all_test.sh\n"
          ]
        }
      ]
    },
    {
      "cell_type": "code",
      "source": [
        "!chmod u+x run_all_test.sh\n",
        "!./run_all_test.sh"
      ],
      "metadata": {
        "colab": {
          "base_uri": "https://localhost:8080/"
        },
        "id": "wGWMHtzS-QnA",
        "outputId": "1a3acc36-f0ac-45d5-d4f8-08ed0cfe530b"
      },
      "execution_count": 44,
      "outputs": [
        {
          "output_type": "stream",
          "name": "stdout",
          "text": [
            "./run_all_test.sh: line 5: input0.txt: No such file or directory\n",
            "grep: output0.txt: No such file or directory\n",
            "1345294336\n"
          ]
        }
      ]
    },
    {
      "cell_type": "markdown",
      "metadata": {
        "id": "H2SC0Qt5HCzz"
      },
      "source": [
        "### Changing the variables to long long"
      ]
    },
    {
      "cell_type": "code",
      "execution_count": 45,
      "metadata": {
        "colab": {
          "base_uri": "https://localhost:8080/"
        },
        "id": "MPcmsxiQZSfE",
        "outputId": "ac156daa-ae83-470f-d22f-88c8e7ae20aa"
      },
      "outputs": [
        {
          "output_type": "stream",
          "name": "stdout",
          "text": [
            "Overwriting max_pairwise_product_long_full.cpp\n"
          ]
        }
      ],
      "source": [
        "%%writefile max_pairwise_product_long_full.cpp\n",
        "#include <iostream>\n",
        "#include <vector>\n",
        "#include <algorithm>\n",
        "\n",
        "long long MaxPairwiseProduct(const std::vector<int>& numbers) {\n",
        "    long long max_product = 0LL;\n",
        "\t  long long aux_product = 0LL;\n",
        "    int n = numbers.size();\n",
        "\n",
        "    for (int first = 0; first < n; ++first) {\n",
        "        for (int second = 0; second < n; ++second) {\n",
        "          if ( first != second){\n",
        "                aux_product = (long long) numbers[first] * numbers[second];\n",
        "                if (aux_product > max_product)  max_product = aux_product;\n",
        "          }\n",
        "        }\n",
        "    }\n",
        "\n",
        "\n",
        "    return max_product;\n",
        "}\n",
        "\n",
        "int main() {\n",
        "    int n;\n",
        "    std::cin >> n;\n",
        "    std::vector<int> numbers(n);\n",
        "    for (int i = 0; i < n; ++i) {\n",
        "        std::cin >> numbers[i];\n",
        "    }\n",
        "\n",
        "    std::cout << MaxPairwiseProduct(numbers) << \"\\n\";\n",
        "    return 0;\n",
        "}\n"
      ]
    },
    {
      "cell_type": "code",
      "source": [
        "!g++ max_pairwise_product_long_full.cpp -o max_pairwise_product_long_full"
      ],
      "metadata": {
        "id": "W3xQpFXL6wjO"
      },
      "execution_count": 46,
      "outputs": []
    },
    {
      "cell_type": "code",
      "source": [
        "!./max_pairwise_product_long_full < input3.txt"
      ],
      "metadata": {
        "colab": {
          "base_uri": "https://localhost:8080/"
        },
        "id": "H5dvN9M3R9sV",
        "outputId": "2a76e83e-b8d8-43cd-8012-d5494790e128"
      },
      "execution_count": 47,
      "outputs": [
        {
          "output_type": "stream",
          "name": "stdout",
          "text": [
            "40000000000\n"
          ]
        }
      ]
    },
    {
      "cell_type": "markdown",
      "source": [
        "### Runing multuple test with a bash shell"
      ],
      "metadata": {
        "id": "gx-sEYdfQ8f8"
      }
    },
    {
      "cell_type": "code",
      "source": [
        " %%writefile run_all_test.sh\n",
        "#!/bin/bash\n",
        "g++ max_pairwise_product_long_full.cpp -o max_pairwise_product_long_full\n",
        "for i in {1..3}\n",
        "do\n",
        "    ./max_pairwise_product_long_full < input$i.txt > ctest$i.txt\n",
        "    grep -xvFf output$i.txt ctest$i.txt\n",
        "done"
      ],
      "metadata": {
        "colab": {
          "base_uri": "https://localhost:8080/"
        },
        "id": "O9qsq2nn7elw",
        "outputId": "efb4fe9c-2332-46f6-8d8b-9dc2741f3ed3"
      },
      "execution_count": 48,
      "outputs": [
        {
          "output_type": "stream",
          "name": "stdout",
          "text": [
            "Overwriting run_all_test.sh\n"
          ]
        }
      ]
    },
    {
      "cell_type": "code",
      "source": [
        "!chmod u+x run_all_test.sh\n",
        "!./run_all_test.sh"
      ],
      "metadata": {
        "id": "0g5kKVph7xIA"
      },
      "execution_count": 49,
      "outputs": []
    },
    {
      "cell_type": "markdown",
      "metadata": {
        "id": "XPVHkHxH6_7s"
      },
      "source": [
        "### Test 3  stress tests, 6 testing cases files input4.txt/output4.txt .. input10.txt/output10.txt\n",
        "\n",
        "---\n",
        "\n"
      ]
    },
    {
      "cell_type": "code",
      "execution_count": 50,
      "metadata": {
        "id": "PwqpBmYr69fu",
        "outputId": "363d3202-35c3-4b74-8fb0-f3cd5bfa934a",
        "colab": {
          "base_uri": "https://localhost:8080/"
        }
      },
      "outputs": [
        {
          "output_type": "stream",
          "name": "stdout",
          "text": [
            "Writing input4.txt\n"
          ]
        }
      ],
      "source": [
        "\n",
        "%%writefile input4.txt\n",
        "7\n",
        "1 3 200000 9 200000 23 200000"
      ]
    },
    {
      "cell_type": "code",
      "execution_count": 51,
      "metadata": {
        "id": "jBCkMeR6Fw4y",
        "outputId": "f1c25d81-8b96-4d21-ce47-c38ff6dd0ca1",
        "colab": {
          "base_uri": "https://localhost:8080/"
        }
      },
      "outputs": [
        {
          "output_type": "stream",
          "name": "stdout",
          "text": [
            "Writing output4.txt\n"
          ]
        }
      ],
      "source": [
        "\n",
        "%%writefile output4.txt\n",
        "40000000000"
      ]
    },
    {
      "cell_type": "code",
      "source": [
        "\n",
        "%%writefile input5.txt\n",
        "2\n",
        "1 1"
      ],
      "metadata": {
        "id": "zED8V8wu-eoM",
        "outputId": "71ee2721-b083-473c-c006-927f904c5a26",
        "colab": {
          "base_uri": "https://localhost:8080/"
        }
      },
      "execution_count": 52,
      "outputs": [
        {
          "output_type": "stream",
          "name": "stdout",
          "text": [
            "Writing input5.txt\n"
          ]
        }
      ]
    },
    {
      "cell_type": "code",
      "source": [
        "\n",
        "%%writefile output5.txt\n",
        "1"
      ],
      "metadata": {
        "id": "Suafxf6AQYBo",
        "outputId": "e4f574ad-0416-44ff-8875-f3c4bfd50c8a",
        "colab": {
          "base_uri": "https://localhost:8080/"
        }
      },
      "execution_count": 53,
      "outputs": [
        {
          "output_type": "stream",
          "name": "stdout",
          "text": [
            "Writing output5.txt\n"
          ]
        }
      ]
    },
    {
      "cell_type": "code",
      "source": [
        "%%writefile input6.txt\n",
        "8\n",
        "2 2 2 2 2 2 2 2"
      ],
      "metadata": {
        "id": "YZWQgHpiQXpB",
        "outputId": "a59fc792-78ac-42d4-96a4-d251e9e95660",
        "colab": {
          "base_uri": "https://localhost:8080/"
        }
      },
      "execution_count": 54,
      "outputs": [
        {
          "output_type": "stream",
          "name": "stdout",
          "text": [
            "Writing input6.txt\n"
          ]
        }
      ]
    },
    {
      "cell_type": "code",
      "source": [
        "%%writefile output6.txt\n",
        "4"
      ],
      "metadata": {
        "id": "0ven_hztQXX_",
        "outputId": "8de0b612-611a-4e68-d44e-326744b7d04e",
        "colab": {
          "base_uri": "https://localhost:8080/"
        }
      },
      "execution_count": 55,
      "outputs": [
        {
          "output_type": "stream",
          "name": "stdout",
          "text": [
            "Writing output6.txt\n"
          ]
        }
      ]
    },
    {
      "cell_type": "code",
      "source": [
        "%%writefile input7.txt\n",
        "5\n",
        "1 3 200000 9 200000\n"
      ],
      "metadata": {
        "id": "1m1KAjZRRz_v",
        "outputId": "1f71ba27-8428-4c5e-a2b2-b0cd598f1e96",
        "colab": {
          "base_uri": "https://localhost:8080/"
        }
      },
      "execution_count": 56,
      "outputs": [
        {
          "output_type": "stream",
          "name": "stdout",
          "text": [
            "Writing input7.txt\n"
          ]
        }
      ]
    },
    {
      "cell_type": "code",
      "source": [
        "%%writefile output7.txt\n",
        "40000000000"
      ],
      "metadata": {
        "id": "3NWI0WB1R3n_",
        "outputId": "1db0f510-4dbc-4a8e-8d18-1f61ecc64886",
        "colab": {
          "base_uri": "https://localhost:8080/"
        }
      },
      "execution_count": 57,
      "outputs": [
        {
          "output_type": "stream",
          "name": "stdout",
          "text": [
            "Writing output7.txt\n"
          ]
        }
      ]
    },
    {
      "cell_type": "code",
      "source": [
        "%%writefile input8.txt\n",
        "3\n",
        "9 8 9"
      ],
      "metadata": {
        "id": "a3pdI_aTR6X4",
        "outputId": "94099fd1-ce93-4274-9b07-d5d2d50e5532",
        "colab": {
          "base_uri": "https://localhost:8080/"
        }
      },
      "execution_count": 58,
      "outputs": [
        {
          "output_type": "stream",
          "name": "stdout",
          "text": [
            "Writing input8.txt\n"
          ]
        }
      ]
    },
    {
      "cell_type": "code",
      "source": [
        "%%writefile output8.txt\n",
        "81"
      ],
      "metadata": {
        "id": "0XQ0k-eyR_Cs",
        "outputId": "60ee531f-ca1b-4319-cef3-0e3edd41c1c2",
        "colab": {
          "base_uri": "https://localhost:8080/"
        }
      },
      "execution_count": 59,
      "outputs": [
        {
          "output_type": "stream",
          "name": "stdout",
          "text": [
            "Writing output8.txt\n"
          ]
        }
      ]
    },
    {
      "cell_type": "code",
      "source": [
        "\n",
        "%%writefile input9.txt\n",
        "4\n",
        "200000 200000 200000 200000"
      ],
      "metadata": {
        "id": "KVtCQx6ASDWM",
        "outputId": "4bebe2b0-7990-4c60-fe3e-0e700f55067f",
        "colab": {
          "base_uri": "https://localhost:8080/"
        }
      },
      "execution_count": 60,
      "outputs": [
        {
          "output_type": "stream",
          "name": "stdout",
          "text": [
            "Writing input9.txt\n"
          ]
        }
      ]
    },
    {
      "cell_type": "code",
      "source": [
        "%%writefile output9.txt\n",
        "40000000000"
      ],
      "metadata": {
        "id": "fvjTr0HASHGt",
        "outputId": "6d937ab8-fa38-41dc-c828-a8ad1084d367",
        "colab": {
          "base_uri": "https://localhost:8080/"
        }
      },
      "execution_count": 61,
      "outputs": [
        {
          "output_type": "stream",
          "name": "stdout",
          "text": [
            "Writing output9.txt\n"
          ]
        }
      ]
    },
    {
      "cell_type": "code",
      "source": [
        "%%writefile input10.txt\n",
        "3\n",
        "0 0 0"
      ],
      "metadata": {
        "id": "aEl3lJiSSJNp",
        "outputId": "945f7a40-6fa1-4ae9-e83a-e54138995eed",
        "colab": {
          "base_uri": "https://localhost:8080/"
        }
      },
      "execution_count": 62,
      "outputs": [
        {
          "output_type": "stream",
          "name": "stdout",
          "text": [
            "Writing input10.txt\n"
          ]
        }
      ]
    },
    {
      "cell_type": "code",
      "source": [
        "\n",
        "%%writefile output10.txt\n",
        "0\n"
      ],
      "metadata": {
        "id": "R3Z7GcV2SLAX",
        "outputId": "16e71f5b-051f-4ee4-df37-26e654c7947f",
        "colab": {
          "base_uri": "https://localhost:8080/"
        }
      },
      "execution_count": 63,
      "outputs": [
        {
          "output_type": "stream",
          "name": "stdout",
          "text": [
            "Writing output10.txt\n"
          ]
        }
      ]
    },
    {
      "cell_type": "code",
      "source": [
        "%%writefile run_all_test_1.sh\n",
        "#!/bin/bash\n",
        "g++ max_pairwise_product_long_full.cpp -o max_pairwise_product_long_full || exit 1\n",
        "\n",
        "for i in {4..10}\n",
        "do\n",
        "    ./max_pairwise_product_long_full < input$i.txt > ctest$i.txt\n",
        "    if grep -xvFf output$i.txt ctest$i.txt; then\n",
        "        echo \"Test $i failed!\"\n",
        "    else\n",
        "        echo \"Test $i passed!\"\n",
        "    fi\n",
        "done\n"
      ],
      "metadata": {
        "id": "QhGWjn1GSVWf",
        "outputId": "37095003-e88f-494b-9669-fa598e77a59b",
        "colab": {
          "base_uri": "https://localhost:8080/"
        }
      },
      "execution_count": 64,
      "outputs": [
        {
          "output_type": "stream",
          "name": "stdout",
          "text": [
            "Writing run_all_test_1.sh\n"
          ]
        }
      ]
    },
    {
      "cell_type": "code",
      "source": [
        "!chmod u+x run_all_test_1.sh\n",
        "!./run_all_test_1.sh"
      ],
      "metadata": {
        "id": "wuqBA62VSXzW",
        "outputId": "2a2d96d1-f16f-446a-b26f-0c91b4d7e721",
        "colab": {
          "base_uri": "https://localhost:8080/"
        }
      },
      "execution_count": 65,
      "outputs": [
        {
          "output_type": "stream",
          "name": "stdout",
          "text": [
            "Test 4 passed!\n",
            "Test 5 passed!\n",
            "Test 6 passed!\n",
            "Test 7 passed!\n",
            "Test 8 passed!\n",
            "Test 9 passed!\n",
            "Test 10 passed!\n"
          ]
        }
      ]
    },
    {
      "cell_type": "markdown",
      "metadata": {
        "id": "9z9yr5QkeyJF"
      },
      "source": [
        "### Test 4  time test  measure the execution time running with the the largest worst cases input11.txt  (200000 increasing numbers) and input12.txt (199998 increasing numbers and  200000, 200000 at the end)"
      ]
    },
    {
      "cell_type": "code",
      "source": [
        "# input11.txt 200000 increasing numbers:  1 2 .. 200000\n",
        "\n",
        "%%writefile WriteTest.cpp\n",
        "\n",
        "#include <iostream>\n",
        "#include <fstream>\n",
        "#include <cstdlib>\n",
        "\n",
        "using namespace std;\n",
        "\n",
        "int main() {\n",
        "  // Create and open a text file\n",
        "  ofstream MyFile(\"input11.txt\");\n",
        "\n",
        " MyFile << 200000 <<\"\\n\";  // n\n",
        " for (int i=1; i <200001; i++){\n",
        "     MyFile << i <<\" \";\n",
        " }\n",
        "\n",
        "  // Close the file\n",
        "  MyFile.close();\n",
        "}"
      ],
      "metadata": {
        "colab": {
          "base_uri": "https://localhost:8080/"
        },
        "id": "UmB1ipWM_nSk",
        "outputId": "e8d6c144-0fbf-4f75-cfec-2b552355f4de"
      },
      "execution_count": 66,
      "outputs": [
        {
          "output_type": "stream",
          "name": "stdout",
          "text": [
            "Writing WriteTest.cpp\n"
          ]
        }
      ]
    },
    {
      "cell_type": "code",
      "execution_count": 67,
      "metadata": {
        "id": "EH25TkOkZfD9"
      },
      "outputs": [],
      "source": [
        "!g++ WriteTest.cpp -o WriteTest\n",
        "!./WriteTest"
      ]
    },
    {
      "cell_type": "code",
      "source": [
        "199999 * 200000"
      ],
      "metadata": {
        "colab": {
          "base_uri": "https://localhost:8080/"
        },
        "id": "j0mokSOnCCtZ",
        "outputId": "55f9c407-47b5-4f9a-fc96-f95769f9ae36"
      },
      "execution_count": 68,
      "outputs": [
        {
          "output_type": "execute_result",
          "data": {
            "text/plain": [
              "39999800000"
            ]
          },
          "metadata": {},
          "execution_count": 68
        }
      ]
    },
    {
      "cell_type": "code",
      "source": [
        "%%writefile output11.txt\n",
        "39999800000"
      ],
      "metadata": {
        "id": "VoDhDV73B5Mo",
        "colab": {
          "base_uri": "https://localhost:8080/"
        },
        "outputId": "3ebbe7b1-4e52-4bbc-eeaa-87d17a2b896b"
      },
      "execution_count": 69,
      "outputs": [
        {
          "output_type": "stream",
          "name": "stdout",
          "text": [
            "Writing output11.txt\n"
          ]
        }
      ]
    },
    {
      "cell_type": "code",
      "execution_count": 70,
      "metadata": {
        "colab": {
          "base_uri": "https://localhost:8080/"
        },
        "id": "oLiMjbAIfPlX",
        "outputId": "42b4bf5d-1392-40f8-c738-febbf300f688"
      },
      "outputs": [
        {
          "output_type": "stream",
          "name": "stdout",
          "text": [
            "Overwriting WriteTest.cpp\n"
          ]
        }
      ],
      "source": [
        "# input12.txt 200000 decreasing numbers and 200000, 199999 ...  2 1\n",
        "\n",
        "%%writefile WriteTest.cpp\n",
        "\n",
        "#include <iostream>\n",
        "#include <fstream>\n",
        "#include <cstdlib>\n",
        "\n",
        "using namespace std;\n",
        "\n",
        "int main() {\n",
        "  // Create and open a text file\n",
        "  ofstream MyFile(\"input12.txt\");\n",
        "\n",
        " MyFile << 200000 <<\"\\n\";  // n\n",
        " for (int i=1; i <200001; i++){\n",
        "     MyFile << 200001-i <<\" \";\n",
        " }\n",
        "\n",
        "  // Close the file\n",
        "  MyFile.close();\n",
        "}"
      ]
    },
    {
      "cell_type": "code",
      "source": [
        "!g++ WriteTest.cpp -o WriteTest\n",
        "!./WriteTest"
      ],
      "metadata": {
        "id": "oULNBr_zAd9c"
      },
      "execution_count": 71,
      "outputs": []
    },
    {
      "cell_type": "code",
      "source": [
        "%%writefile output12.txt\n",
        "39999800000"
      ],
      "metadata": {
        "colab": {
          "base_uri": "https://localhost:8080/"
        },
        "id": "PQLyocaFB-y4",
        "outputId": "cc1cfd02-323d-46d3-9f03-e177c4bb42b1"
      },
      "execution_count": 72,
      "outputs": [
        {
          "output_type": "stream",
          "name": "stdout",
          "text": [
            "Writing output12.txt\n"
          ]
        }
      ]
    },
    {
      "cell_type": "markdown",
      "metadata": {
        "id": "JB6f03qO-lj9"
      },
      "source": [
        "### Measure time\n",
        "\n",
        "https://askubuntu.com/questions/53444/how-can-i-measure-the-execution-time-of-a-terminal-process"
      ]
    },
    {
      "cell_type": "code",
      "source": [
        "!g++ max_pairwise_product_long_full.cpp -o max_pairwise_product_long_full\n",
        "!time ./max_pairwise_product_long_full < input11.txt"
      ],
      "metadata": {
        "id": "W2hytwrYhTVZ",
        "outputId": "8b858fe0-e77c-4e11-ab28-3f3cfa7a2a5d",
        "colab": {
          "base_uri": "https://localhost:8080/"
        }
      },
      "execution_count": 114,
      "outputs": [
        {
          "output_type": "stream",
          "name": "stdout",
          "text": [
            "^C\n"
          ]
        }
      ]
    },
    {
      "cell_type": "code",
      "source": [
        "!g++ max_pairwise_product_long_full.cpp -o max_pairwise_product_long_full\n",
        "!time ./max_pairwise_product_long_full< input12.txt"
      ],
      "metadata": {
        "id": "cnjCyeUdAnZj",
        "outputId": "156beecc-b423-4cfe-9480-4b258eaff07c",
        "colab": {
          "base_uri": "https://localhost:8080/"
        }
      },
      "execution_count": 74,
      "outputs": [
        {
          "output_type": "stream",
          "name": "stdout",
          "text": [
            "^C\n"
          ]
        }
      ]
    },
    {
      "cell_type": "markdown",
      "metadata": {
        "id": "FXClpBsUJuXC"
      },
      "source": [
        "### Calculate the number or and upper bound to the number of instructions executed by the algorithm as a function of n, add in each line a comment with the number of instructions that are executed in that line."
      ]
    },
    {
      "cell_type": "code",
      "execution_count": 75,
      "metadata": {
        "id": "uG6Mv-Pwlkii",
        "outputId": "53680b04-de09-454e-9d45-b9b71124cf40",
        "colab": {
          "base_uri": "https://localhost:8080/"
        }
      },
      "outputs": [
        {
          "output_type": "stream",
          "name": "stdout",
          "text": [
            "Overwriting max_pairwise_product_long_full.cpp\n"
          ]
        }
      ],
      "source": [
        "%%writefile max_pairwise_product_long_full.cpp\n",
        "#include <iostream>\n",
        "#include <vector>\n",
        "#include <algorithm>\n",
        "\n",
        "long long MaxPairwiseProduct(const std::vector<int>& numbers) {              //INSTRUCTIONS executed by line\n",
        "    long long max_product = 0LL;                                             //1\n",
        "\t  long long aux_product = 0LL;                                             //1\n",
        "    int n = numbers.size();                                                  //1\n",
        "\n",
        "    for (int first = 0; first < n; ++first) {                                //2+2n\n",
        "        for (int second = 0; second < n; ++second) {                         //2n + 2n**2\n",
        "          if ( first != second ){                                            //n**2\n",
        "                aux_product = numbers[first] * numbers[second];              //n**2 -n\n",
        "                if (aux_product > max_product)                               //n**2 -n\n",
        "                    max_product = aux_product;                               //[0, n**2/2 - n/2] upper bound\n",
        "          }\n",
        "        }\n",
        "    }\n",
        "\n",
        "                                                                             // --------------\n",
        "    return max_product;                                                      // 5 + 2*n + [5*n**2, 11*n**2/2  - n/2]  upper bound\n",
        "}\n",
        "\n",
        "int main() {                                              //INSTRUCTIONS executed by line\n",
        "    int n;                                                //1\n",
        "    std::cin >> n;                                        //1\n",
        "    std::vector<int> numbers(n);                          //n\n",
        "    for (int i = 0; i < n; ++i) {                         //2 + 2n\n",
        "        std::cin >> numbers[i];                           //n\n",
        "    }\n",
        "\n",
        "    std::cout << MaxPairwiseProduct(numbers) << \"\\n\";     //1 + 1  + 5 + 2*n + [5*n**2, 11*n**2/2  - n/2]\n",
        "\n",
        "    return 0;                                             // --------------\n",
        "}                                                         //  11 + 6*n + [5*n**2, 11*n**2/2  - n/2]  upper bound\n"
      ]
    },
    {
      "cell_type": "markdown",
      "metadata": {
        "id": "0vTsUg8OwcHs"
      },
      "source": [
        "### Count executed intructions in code"
      ]
    },
    {
      "cell_type": "code",
      "execution_count": 76,
      "metadata": {
        "id": "CuRKkqQc137V",
        "outputId": "9bead5bd-a273-4029-d318-fa95d7090baf",
        "colab": {
          "base_uri": "https://localhost:8080/"
        }
      },
      "outputs": [
        {
          "output_type": "stream",
          "name": "stdout",
          "text": [
            "Overwriting max_pairwise_product_long_full_execints.cpp\n"
          ]
        }
      ],
      "source": [
        "%%writefile max_pairwise_product_long_full_execints.cpp\n",
        "#include <iostream>\n",
        "#include <vector>\n",
        "#include <algorithm>\n",
        "\n",
        "long long MaxPairwiseProduct(const std::vector<int>& numbers, long long &execints) {      //INSTRUCTIONS executed by line\n",
        "\n",
        "    long long max_product = 0LL;                                                          //1\n",
        "    execints++;\n",
        "\n",
        "\t  long long aux_product = 0LL;                                                          //1\n",
        "    execints++;\n",
        "\n",
        "    int n = numbers.size();                                                               //1\n",
        "    execints++;\n",
        "\n",
        "    execints++;\n",
        "    for (int first = 0; first < n; ++first) {                                             //2+2n\n",
        "        execints += 2;\n",
        "\n",
        "        execints++;\n",
        "        for (int second = 0; second < n; ++second) {                                       //2n + 2n**2\n",
        "          execints += 2;\n",
        "\n",
        "          execints++;\n",
        "          if ( first != second ){                                                         //n**2\n",
        "                aux_product = numbers[first] * numbers[second];                           //n**2 -n\n",
        "                execints++;\n",
        "\n",
        "                execints++;\n",
        "                if (aux_product > max_product){                                           //n**2 -n\n",
        "                    max_product = aux_product;                                            //[0,n**2/2 - n/2)  upper bound\n",
        "                    execints++;\n",
        "\n",
        "                }\n",
        "        }\n",
        "\n",
        "      }\n",
        "      execints++;\n",
        "    }\n",
        "    execints++;\n",
        "                                                                                        // --------------\n",
        "    return max_product;                                                                 // 5 + 2*n + [5*n**2, 11*n**2/2  - n/2] upper bound\n",
        "}\n",
        "\n",
        "int main() {                                                 //INSTRUCTIONS executed by line\n",
        "\n",
        "    long long execints =0LL;\n",
        "\n",
        "    int n;                                                   //1\n",
        "    execints++;\n",
        "\n",
        "    std::cin >> n;                                           //1\n",
        "    execints++;\n",
        "\n",
        "    std::vector<int> numbers(n);                             //n\n",
        "    execints += n;\n",
        "\n",
        "    execints++;\n",
        "    for (int i = 0; i < n; ++i) {                            //2 + 2n\n",
        "        execints += 2;\n",
        "\n",
        "        std::cin >> numbers[i];\n",
        "        execints++;                                          //n\n",
        "\n",
        "    }\n",
        "\n",
        "\n",
        "    //std::cout << MaxPairwiseProduct(numbers) << \"\\n\";      //1 + 1  + 5 + 2*n + [5*n**2, 11*n**2/2  - n/2] upper bound\n",
        "\n",
        "    execints++;\n",
        "    int M = MaxPairwiseProduct(numbers,execints);\n",
        "\n",
        "    execints++;\n",
        "    std::cout <<  execints << \"\\n\";\n",
        "    return 0;                                                // --------------\n",
        "}                                                            // 11 + 6*n + [5*n**2, 11*n**2/2  - n/2]"
      ]
    },
    {
      "cell_type": "markdown",
      "source": [
        "The number of instructions executed by the algooirithm with a list of size $n$ is  \n",
        "\n",
        "$$T (n) = 11 + 6n + \\left[5n^2, 11\\frac{n^2}{2}  - \\frac{n}{2}\\right)  >  6n^2 = O(n^2)$$\n",
        "\n",
        "It depends on the size of the lists and  the order of the list.\n",
        "\n",
        "For the input0.txt\n",
        "```\n",
        "10\n",
        "0 0 0 0 0 0 0 0 0 0\n",
        "```\n",
        "$$T = 11 + 6(10) + 5(10)^2   = 561 $$\n",
        "\n",
        "$$T(10) \\in [571, 621)  $$\n"
      ],
      "metadata": {
        "id": "cUjHtvtdDsmr"
      }
    },
    {
      "cell_type": "code",
      "source": [
        "!g++ max_pairwise_product_long_full_execints.cpp -o max_pairwise_product_long_full_execints\n",
        "!./max_pairwise_product_long_full_execints < input0.txt"
      ],
      "metadata": {
        "id": "Om9Fevb0miAT",
        "outputId": "cff99880-bc39-4b78-abba-9b03c83ca152",
        "colab": {
          "base_uri": "https://localhost:8080/"
        }
      },
      "execution_count": 77,
      "outputs": [
        {
          "output_type": "stream",
          "name": "stdout",
          "text": [
            "/bin/bash: line 1: input0.txt: No such file or directory\n"
          ]
        }
      ]
    },
    {
      "cell_type": "markdown",
      "source": [
        "For the input1.txt\n",
        "```\n",
        "10\n",
        "1 2 3 4 5 6 7 8 9 10\n",
        "```\n",
        "$$T = 11 + 6(10) + 5(10)^2 +  9 + 5 + 4 + 3 + 2 + 2 + 2 + 2 + 1 + 0  = 601 $$\n",
        "\n",
        "$$T(10) \\in [572, 622)  $$\n"
      ],
      "metadata": {
        "id": "FwJzZ6VzmArY"
      }
    },
    {
      "cell_type": "code",
      "source": [
        "#The number of times that  max_product = aux_product; in the worst case is less than (n**2 -n)/2 -  upper bound\n",
        "\n",
        "#     1  2  3  4  5  6  7  8  9  10\n",
        "#  1  x  2  3  4  5  6  7  8  9  10         9\n",
        "#  2  2  x  6  8  10 12 14 16 18 20         5 14\n",
        "#  3  3  6  x  12 15 18 21 24 27 30         4 18\n",
        "#  4  4  8  12 x  20 24 28 32 36 40         3 21\n",
        "#  5  5  10 15 20 x  30 35 40 45 50         2 23\n",
        "#  6  6  12 18 24 30 x  42 48 54 60         2 25\n",
        "#  7  7  14 21 28 35 42 x  56 63 70         2 27\n",
        "#  8  8  18 27 36 45 54 63 72 x  90         1 30\n",
        "#  10 10 20 30 40 50 60 70 60 90 x          0"
      ],
      "metadata": {
        "id": "K59xQMWiBNFj"
      },
      "execution_count": 78,
      "outputs": []
    },
    {
      "cell_type": "code",
      "source": [
        "11 + 6*(10) + 5*(10)*(10) +  9 + 5 + 4 + 3 + 2 + 2 + 2 + 2 + 1 + 0"
      ],
      "metadata": {
        "id": "E3O8dzFfEgir",
        "outputId": "2e3bb2ec-73f5-4693-9099-e851dbf69078",
        "colab": {
          "base_uri": "https://localhost:8080/"
        }
      },
      "execution_count": 79,
      "outputs": [
        {
          "output_type": "execute_result",
          "data": {
            "text/plain": [
              "601"
            ]
          },
          "metadata": {},
          "execution_count": 79
        }
      ]
    },
    {
      "cell_type": "code",
      "source": [
        "n = 10\n",
        "print( \"[\", 11 + 6*n + 5*n**2,  \",\", 11 + 6*n  + 5.5*n**2, \")\")"
      ],
      "metadata": {
        "id": "TCpdl5u_Gq1a",
        "outputId": "13c41f53-2919-4686-f6a2-599e2cf8eed1",
        "colab": {
          "base_uri": "https://localhost:8080/"
        }
      },
      "execution_count": 80,
      "outputs": [
        {
          "output_type": "stream",
          "name": "stdout",
          "text": [
            "[ 571 , 621.0 )\n"
          ]
        }
      ]
    },
    {
      "cell_type": "code",
      "execution_count": 81,
      "metadata": {
        "id": "Kuvm1C05ly2a",
        "outputId": "3494cd82-80d9-46b8-8620-465ed20ab216",
        "colab": {
          "base_uri": "https://localhost:8080/"
        }
      },
      "outputs": [
        {
          "output_type": "stream",
          "name": "stdout",
          "text": [
            "600\n"
          ]
        }
      ],
      "source": [
        "!g++ max_pairwise_product_long_full_execints.cpp -o max_pairwise_product_long_full_execints\n",
        "!./max_pairwise_product_long_full_execints < input1.txt"
      ]
    },
    {
      "cell_type": "markdown",
      "source": [
        "\n",
        "For the input2.txt\n",
        "```\n",
        "10\n",
        "10 9 8 7 6 5 4 3 2 1\n",
        "```\n",
        "$$T = 11 + 6*(10) + 5*(10)**2 +  1  = 571 $$"
      ],
      "metadata": {
        "id": "Yr_Lb7CaHfxB"
      }
    },
    {
      "cell_type": "code",
      "source": [
        "11 + 6*(10) + 5*(10)**2 +  1"
      ],
      "metadata": {
        "id": "HOdqlwJiZUIp",
        "outputId": "6926f2f3-a17d-493e-887d-5a8c920217a6",
        "colab": {
          "base_uri": "https://localhost:8080/"
        }
      },
      "execution_count": 82,
      "outputs": [
        {
          "output_type": "execute_result",
          "data": {
            "text/plain": [
              "572"
            ]
          },
          "metadata": {},
          "execution_count": 82
        }
      ]
    },
    {
      "cell_type": "code",
      "source": [
        "!g++ max_pairwise_product_long_full_execints.cpp -o max_pairwise_product_long_full_execints\n",
        "!./max_pairwise_product_long_full_execints < input2.txt"
      ],
      "metadata": {
        "id": "_znzLectjFSe",
        "outputId": "1ae6cbe3-cb95-4744-8427-ec76eff956a8",
        "colab": {
          "base_uri": "https://localhost:8080/"
        }
      },
      "execution_count": 83,
      "outputs": [
        {
          "output_type": "stream",
          "name": "stdout",
          "text": [
            "571\n"
          ]
        }
      ]
    },
    {
      "cell_type": "markdown",
      "metadata": {
        "id": "NXW7QkoBL6xH"
      },
      "source": [
        "Calculate estimated time by instruction and number of instructions by second"
      ]
    },
    {
      "cell_type": "markdown",
      "source": [
        "For the input11.txt\n",
        "```\n",
        "200000\n",
        "1 2 ..  199999 2000\n",
        "```\n",
        "$$T = 11 + 6*(200000) + 5.5*(200000)**2  = 200001200012  $$"
      ],
      "metadata": {
        "id": "dlyRjaohz-YH"
      }
    },
    {
      "cell_type": "code",
      "source": [
        "\n",
        "11 + 6*(200000) + 5.5*(200000)**2+1"
      ],
      "metadata": {
        "id": "xVP0D8Gdn_U8",
        "outputId": "b4abaf33-7489-4c66-e262-d813b7a510d7",
        "colab": {
          "base_uri": "https://localhost:8080/"
        }
      },
      "execution_count": 116,
      "outputs": [
        {
          "output_type": "execute_result",
          "data": {
            "text/plain": [
              "220001200012.0"
            ]
          },
          "metadata": {},
          "execution_count": 116
        }
      ]
    },
    {
      "cell_type": "code",
      "source": [
        "!g++ max_pairwise_product_long_full_execints.cpp -o max_pairwise_product_long_full_execints\n",
        "!./max_pairwise_product_long_full_execints < input11.txt"
      ],
      "metadata": {
        "id": "BMH8mF3EKn2w",
        "outputId": "fd829203-3ba5-40c0-8e0b-4bdf5a9a36f2",
        "colab": {
          "base_uri": "https://localhost:8080/"
        }
      },
      "execution_count": 84,
      "outputs": [
        {
          "output_type": "stream",
          "name": "stdout",
          "text": [
            "^C\n"
          ]
        }
      ]
    },
    {
      "cell_type": "code",
      "execution_count": 85,
      "metadata": {
        "id": "pKqB3i7dIxnc",
        "outputId": "546f488b-8f43-4528-d893-4381560e73db",
        "colab": {
          "base_uri": "https://localhost:8080/"
        }
      },
      "outputs": [
        {
          "output_type": "execute_result",
          "data": {
            "text/plain": [
              "1.4749765693187072e-09"
            ]
          },
          "metadata": {},
          "execution_count": 85
        }
      ],
      "source": [
        "# Estimated time by instruction\n",
        "# use the real reported  !time ./max_pairwise_product_long_full< input11.txt in seconds intead of the 295\n",
        "\n",
        "295/200003177092\n"
      ]
    },
    {
      "cell_type": "code",
      "execution_count": 86,
      "metadata": {
        "id": "18N1ouqeMhE1",
        "outputId": "1e41e667-f427-4960-cc73-7bc3db14e615",
        "colab": {
          "base_uri": "https://localhost:8080/"
        }
      },
      "outputs": [
        {
          "output_type": "execute_result",
          "data": {
            "text/plain": [
              "677976871.4983051"
            ]
          },
          "metadata": {},
          "execution_count": 86
        }
      ],
      "source": [
        "# Estimated number of instructions by second\n",
        "\n",
        "200003177092/295"
      ]
    },
    {
      "cell_type": "markdown",
      "source": [
        "### Estimate and verify the maximun n that can be solved in 1 second\n",
        "\n",
        "$$(5.5n^2 + 5.5n + 11) \\times 1.47*10^{-9} s = 1 s$$\n",
        "\n",
        "$$ n \\approx 11000$$\n"
      ],
      "metadata": {
        "id": "KyuxejFkL5X_"
      }
    },
    {
      "cell_type": "code",
      "source": [
        "# Verify input13.txt\n",
        "%%writefile WriteTest.cpp\n",
        "\n",
        "#include <iostream>\n",
        "#include <fstream>\n",
        "#include <cstdlib>\n",
        "\n",
        "using namespace std;\n",
        "\n",
        "int main() {\n",
        "  // Create and open a text file\n",
        "  ofstream MyFile(\"input13.txt\");\n",
        "\n",
        " MyFile << 11000 <<\"\\n\";  // n\n",
        " for (int i=1; i <11001; i++){\n",
        "     MyFile << i <<\" \";\n",
        " }\n",
        "\n",
        "  // Close the file\n",
        "  MyFile.close();\n",
        "}"
      ],
      "metadata": {
        "id": "WXu5jp-DLTOI",
        "outputId": "1160ee88-3173-4a27-82a4-cbc510ac5c60",
        "colab": {
          "base_uri": "https://localhost:8080/"
        }
      },
      "execution_count": 87,
      "outputs": [
        {
          "output_type": "stream",
          "name": "stdout",
          "text": [
            "Overwriting WriteTest.cpp\n"
          ]
        }
      ]
    },
    {
      "cell_type": "code",
      "source": [
        "!g++ WriteTest.cpp -o WriteTest\n",
        "!./WriteTest"
      ],
      "metadata": {
        "id": "AQ8N52pUMCeT"
      },
      "execution_count": 88,
      "outputs": []
    },
    {
      "cell_type": "code",
      "source": [
        "10999 * 11000"
      ],
      "metadata": {
        "id": "2iIOdbTrEtBx",
        "outputId": "89c815a0-210a-49a3-b8e1-116771c9a999",
        "colab": {
          "base_uri": "https://localhost:8080/"
        }
      },
      "execution_count": 89,
      "outputs": [
        {
          "output_type": "execute_result",
          "data": {
            "text/plain": [
              "120989000"
            ]
          },
          "metadata": {},
          "execution_count": 89
        }
      ]
    },
    {
      "cell_type": "code",
      "source": [
        "!g++ max_pairwise_product_long_full.cpp -o max_pairwise_product_long_full\n",
        "!time ./max_pairwise_product_long_full< input13.txt"
      ],
      "metadata": {
        "id": "ussuAokfM2du",
        "outputId": "ed6dcf14-30e4-4c20-d06c-19a494054465",
        "colab": {
          "base_uri": "https://localhost:8080/"
        }
      },
      "execution_count": 90,
      "outputs": [
        {
          "output_type": "stream",
          "name": "stdout",
          "text": [
            "120989000\n",
            "\n",
            "real\t0m1.138s\n",
            "user\t0m1.104s\n",
            "sys\t0m0.005s\n"
          ]
        }
      ]
    },
    {
      "cell_type": "markdown",
      "metadata": {
        "id": "Tm_AVmt-QQH4"
      },
      "source": [
        "## Python"
      ]
    },
    {
      "cell_type": "code",
      "execution_count": 117,
      "metadata": {
        "id": "gRCCcd7IQTKZ",
        "outputId": "0396ee67-bd8b-47b6-de19-4449f878595d",
        "colab": {
          "base_uri": "https://localhost:8080/"
        }
      },
      "outputs": [
        {
          "output_type": "stream",
          "name": "stdout",
          "text": [
            "Writing max_pairwise_product_long_full.py\n"
          ]
        }
      ],
      "source": [
        "\n",
        "%%writefile max_pairwise_product_long_full.py\n",
        "def MaxPairwiseProduct(numbers):\n",
        "  max_product = 0\n",
        "  aux_product = 0\n",
        "  n = len(numbers)\n",
        "\n",
        "  for first in range (n):\n",
        "    for second in range(n):\n",
        "      if(first != second):\n",
        "        aux_product = numbers[first]*numbers[second]\n",
        "        if aux_product > max_product:\n",
        "          max_product = aux_product\n",
        "  return max_product\n",
        "\n",
        "n = int(input())\n",
        "numbers = [int(i) for i in input().split()]\n",
        "print(MaxPairwiseProduct(numbers))\n"
      ]
    },
    {
      "cell_type": "code",
      "execution_count": 118,
      "metadata": {
        "id": "hjw7TJrDL0d-",
        "outputId": "963bb062-b1ff-4d5f-f437-afc94aa6d86e",
        "colab": {
          "base_uri": "https://localhost:8080/"
        }
      },
      "outputs": [
        {
          "output_type": "stream",
          "name": "stdout",
          "text": [
            "Traceback (most recent call last):\n",
            "  File \"/content/max_pairwise_product_long_full.py\", line 16, in <module>\n",
            "    print(MaxPairwiseProduct(numbers))\n",
            "  File \"/content/max_pairwise_product_long_full.py\", line 10, in MaxPairwiseProduct\n",
            "    if aux_product > max_product:\n",
            "KeyboardInterrupt\n",
            "^C\n"
          ]
        }
      ],
      "source": [
        "# Verify\n",
        "!time python3 max_pairwise_product_long_full.py < input13.txt"
      ]
    },
    {
      "cell_type": "markdown",
      "source": [
        "# For the follwing solutions rquired  the same tests and analysis performed for the first solution"
      ],
      "metadata": {
        "id": "fEZR-3V4ZjCv"
      }
    },
    {
      "cell_type": "markdown",
      "metadata": {
        "id": "MKQKSC-vKePK"
      },
      "source": [
        "## Solutions in C++ and Python that uses\n",
        "$$\\frac{n^2 - n}{2} = O(n^2)\\ \\ \\text{products}$$"
      ]
    },
    {
      "cell_type": "code",
      "execution_count": 92,
      "metadata": {
        "id": "jkkHHoxSK65p",
        "outputId": "2759984e-907a-4a0e-fcec-9baa26e9cd59",
        "colab": {
          "base_uri": "https://localhost:8080/"
        }
      },
      "outputs": [
        {
          "output_type": "stream",
          "name": "stdout",
          "text": [
            "Writing max_pairwise_product.cpp\n"
          ]
        }
      ],
      "source": [
        "%%writefile max_pairwise_product.cpp\n",
        "#include <iostream>\n",
        "#include <vector>\n",
        "#include <algorithm>\n",
        "\n",
        "int MaxPairwiseProduct(const std::vector<int>& numbers) {\n",
        "    int max_product = 0;\n",
        "    int n = numbers.size();\n",
        "\n",
        "    for (int first = 0; first < n; ++first) {\n",
        "        for (int second = first + 1; second < n; ++second) {\n",
        "            max_product = std::max(max_product,\n",
        "                numbers[first] * numbers[second]);\n",
        "        }\n",
        "    }\n",
        "\n",
        "    return max_product;\n",
        "}\n",
        "\n",
        "int main() {\n",
        "    int n;\n",
        "    std::cin >> n;\n",
        "    std::vector<int> numbers(n);\n",
        "    for (int i = 0; i < n; ++i) {\n",
        "        std::cin >> numbers[i];\n",
        "    }\n",
        "\n",
        "    std::cout << MaxPairwiseProduct(numbers) << \"\\n\";\n",
        "    return 0;\n",
        "}"
      ]
    },
    {
      "cell_type": "code",
      "execution_count": 93,
      "metadata": {
        "id": "sU8-Ote7K8vz",
        "outputId": "200bc3c6-abf1-4114-ef0b-db96599ebf57",
        "colab": {
          "base_uri": "https://localhost:8080/"
        }
      },
      "outputs": [
        {
          "output_type": "stream",
          "name": "stdout",
          "text": [
            "Writing max_pairwise_product_long.cpp\n"
          ]
        }
      ],
      "source": [
        "%%writefile max_pairwise_product_long.cpp\n",
        "#include <iostream>\n",
        "#include <vector>\n",
        "#include <algorithm>\n",
        "\n",
        "long long MaxPairwiseProduct(const std::vector<int>& numbers) {              //INSTRUCTIONS executed by line\n",
        "    long long max_product = 0LL;                                             //1\n",
        "\t  long long aux_product = 0LL;                                             //1\n",
        "    int n = numbers.size();                                                  //1\n",
        "\n",
        "    for (int first = 0; first < n; ++first) {                                //2+2n\n",
        "        for (int second = first + 1; second < n; ++second) {                 //2n + (n-1)n\n",
        "\t\t\t       aux_product =  (long long) numbers[first] * numbers[second];    //(n-1)n/2\n",
        "            if (max_product < aux_product)  {                                //(n-1)n/2\n",
        "\t\t\t\t        max_product = aux_product;                                   //[1,(n-1)n/2)  upper bound\n",
        "             }\n",
        "        }\n",
        "    }\n",
        "                                                                             // --------------\n",
        "    return max_product;                                                      // 5 + 4n + [2(n-1)n+1, 2.5 (n-1)n) upper bound\n",
        "}\n",
        "\n",
        "int main() {                                              //INSTRUCTIONS executed by line\n",
        "    int n;                                                //1\n",
        "    std::cin >> n;                                        //1\n",
        "    std::vector<int> numbers(n);                          //n\n",
        "    for (int i = 0; i < n; ++i) {                         //2 + 2n\n",
        "        std::cin >> numbers[i];                           //n\n",
        "    }\n",
        "\n",
        "    std::cout << MaxPairwiseProduct(numbers) << \"\\n\";     //1 + 1  + 5 + 4n + [2(n-1)n+1, 2.5 (n-1)n) upper bound\n",
        "    return 0;                                             // --------------\n",
        "}                                                         // 11 + 7n + [2(n-1)n+1, 2.5 (n-1)n) upper bound\n"
      ]
    },
    {
      "cell_type": "code",
      "execution_count": 119,
      "metadata": {
        "id": "5QWT3fneK8nw",
        "outputId": "fe618727-38dc-4812-cab4-0d8b028cf5f7",
        "colab": {
          "base_uri": "https://localhost:8080/"
        }
      },
      "outputs": [
        {
          "output_type": "stream",
          "name": "stdout",
          "text": [
            "120989000\n",
            "\n",
            "real\t0m0.406s\n",
            "user\t0m0.400s\n",
            "sys\t0m0.002s\n"
          ]
        }
      ],
      "source": [
        "!g++ max_pairwise_product_long.cpp -o max_pairwise_product_long\n",
        "!time ./max_pairwise_product_long < input13.txt"
      ]
    },
    {
      "cell_type": "code",
      "execution_count": 120,
      "metadata": {
        "id": "mxIVvm1RK8dB",
        "outputId": "5246df86-0c21-48ee-bddb-a11984b4cff6",
        "colab": {
          "base_uri": "https://localhost:8080/"
        }
      },
      "outputs": [
        {
          "output_type": "stream",
          "name": "stdout",
          "text": [
            "120989000\n",
            "\n",
            "real\t0m0.546s\n",
            "user\t0m0.541s\n",
            "sys\t0m0.002s\n"
          ]
        }
      ],
      "source": [
        "!g++ max_pairwise_product.cpp -o max_pairwise_product\n",
        "!time ./max_pairwise_product < input13.txt"
      ]
    },
    {
      "cell_type": "markdown",
      "metadata": {
        "id": "1Hsbd-uHOb_j"
      },
      "source": [
        "# Sort solution in C++ and Python\n",
        "\n",
        "$$ O(n \\lg n)$$\n",
        "\n",
        "**Which sorting algorithm is used in GCC?**\n",
        "https://stackoverflow.com/questions/7221257/which-sorting-algorithm-is-used-in-gcc\n",
        "\n",
        "* ...  the algorithm is called introsort, a combination between Insertionsort, Quicksort & Heapsort. ...\n",
        "\n",
        "**Introsort**\n",
        "https://en.wikipedia.org/wiki/Introsort\n",
        "\n",
        "Introsort or introspective sort is a hybrid sorting algorithm that provides both fast average performance and (asymptotically) optimal worst-case performance. It begins with quicksort, it switches to heapsort when the recursion depth exceeds a level based on (the logarithm of) the number of elements being sorted and it switches to insertion sort when the number of elements is below some threshold\n",
        "\n",
        "*   Class\tSorting algorithm\n",
        "*   Data structure\tArray\n",
        "*   Worst-case performance\t$O(n \\lg n)$\n",
        "*   Average performance\t$O(n \\lg n)$\n",
        "\n",
        "**Tinsort**\n",
        "https://en.wikipedia.org/wiki/Timsort\n",
        "\n",
        "Timsort is a hybrid, stable sorting algorithm, derived from merge sort and insertion sort, designed to perform well on many kinds of real-world data. It was implemented by Tim Peters in 2002 for use in the Python programming language.\n",
        "\n",
        "*   Class\tSorting algorithm\n",
        "*   Data structure\tArray\n",
        "*   Worst-case performance\t$O(n \\lg n)$\n",
        "*   Best-case performance $O(n)$\n",
        "*   Average performance\t$O(n \\lg n)$\n",
        "*   Worst-case space complexity $O(n)$"
      ]
    },
    {
      "cell_type": "markdown",
      "metadata": {
        "id": "WMUthAXjOb_k"
      },
      "source": []
    },
    {
      "cell_type": "code",
      "source": [
        "%%writefile max_pairwise_product_with_sort.py\n",
        "#Python3\n",
        "if __name__ == \"__main__\":\n",
        "    n = int(input())\n",
        "    lista = list(map(int, input().split()))\n",
        "    lista.sort()\n",
        "    print(lista[n - 1] * lista[n - 2])"
      ],
      "metadata": {
        "id": "jnIRWyUEDu_C",
        "outputId": "0303673e-cc25-4755-f882-10a14da6339c",
        "colab": {
          "base_uri": "https://localhost:8080/"
        }
      },
      "execution_count": 110,
      "outputs": [
        {
          "output_type": "stream",
          "name": "stdout",
          "text": [
            "Writing max_pairwise_product_with_sort.py\n"
          ]
        }
      ]
    },
    {
      "cell_type": "code",
      "source": [
        "\n",
        "%%writefile max_pairwise_product_with_sort_C.cpp\n",
        "#include\n",
        "#include\n",
        "#include\n",
        "\n",
        "int main() {\n",
        "    int n;                                                //1\n",
        "    std::cin >> n;                                        //1\n",
        "    std::vector numbers(n);                          //n\n",
        "    for (int i = 0; i < n; ++i) {                         //1 + 2n\n",
        "        std::cin >> numbers[i];                           //n\n",
        "    }\n",
        "\n",
        "    std::sort(numbers.begin(), numbers.end());                          //nlogn\n",
        "    std::cout << (long long) numbers[n - 1] * numbers[n - 2] << '\\n';   //2\n",
        "\n",
        "    return 0;\n",
        "\n",
        "\n",
        "}"
      ],
      "metadata": {
        "id": "J-6EL60rm4Fu",
        "outputId": "9fa215f7-0b6c-48c4-e28f-5a95f4ef1bf0",
        "colab": {
          "base_uri": "https://localhost:8080/"
        }
      },
      "execution_count": 111,
      "outputs": [
        {
          "output_type": "stream",
          "name": "stdout",
          "text": [
            "Writing max_pairwise_product_with_sort_C.cpp\n"
          ]
        }
      ]
    },
    {
      "cell_type": "code",
      "source": [
        "!g++ max_pairwise_product_with_sort_C.cpp -o max_pairwise_product_with_sort_C"
      ],
      "metadata": {
        "id": "oylzuXmPm-WV",
        "outputId": "1e3fbe5c-4cf6-4282-cb6d-5f74731a139e",
        "colab": {
          "base_uri": "https://localhost:8080/"
        }
      },
      "execution_count": 121,
      "outputs": [
        {
          "output_type": "stream",
          "name": "stdout",
          "text": [
            "\u001b[01m\u001b[Kmax_pairwise_product_with_sort_C.cpp:1:10:\u001b[m\u001b[K \u001b[01;31m\u001b[Kerror: \u001b[m\u001b[K#include expects \"FILENAME\" or <FILENAME>\n",
            "    1 | #include\n",
            "      |          \u001b[01;31m\u001b[K^\u001b[m\u001b[K\n",
            "\u001b[01m\u001b[Kmax_pairwise_product_with_sort_C.cpp:2:10:\u001b[m\u001b[K \u001b[01;31m\u001b[Kerror: \u001b[m\u001b[K#include expects \"FILENAME\" or <FILENAME>\n",
            "    2 | #include\n",
            "      |          \u001b[01;31m\u001b[K^\u001b[m\u001b[K\n",
            "\u001b[01m\u001b[Kmax_pairwise_product_with_sort_C.cpp:3:10:\u001b[m\u001b[K \u001b[01;31m\u001b[Kerror: \u001b[m\u001b[K#include expects \"FILENAME\" or <FILENAME>\n",
            "    3 | #include\n",
            "      |          \u001b[01;31m\u001b[K^\u001b[m\u001b[K\n",
            "\u001b[01m\u001b[Kmax_pairwise_product_with_sort_C.cpp:\u001b[m\u001b[K In function ‘\u001b[01m\u001b[Kint main()\u001b[m\u001b[K’:\n",
            "\u001b[01m\u001b[Kmax_pairwise_product_with_sort_C.cpp:7:10:\u001b[m\u001b[K \u001b[01;31m\u001b[Kerror: \u001b[m\u001b[K‘\u001b[01m\u001b[Kcin\u001b[m\u001b[K’ is not a member of ‘\u001b[01m\u001b[Kstd\u001b[m\u001b[K’\n",
            "    7 |     std::\u001b[01;31m\u001b[Kcin\u001b[m\u001b[K >> n;                                        //1\n",
            "      |          \u001b[01;31m\u001b[K^~~\u001b[m\u001b[K\n",
            "\u001b[01m\u001b[Kmax_pairwise_product_with_sort_C.cpp:1:1:\u001b[m\u001b[K \u001b[01;36m\u001b[Knote: \u001b[m\u001b[K‘\u001b[01m\u001b[Kstd::cin\u001b[m\u001b[K’ is defined in header ‘\u001b[01m\u001b[K<iostream>\u001b[m\u001b[K’; did you forget to ‘\u001b[01m\u001b[K#include <iostream>\u001b[m\u001b[K’?\n",
            "  +++ |+\u001b[32m\u001b[K#include <iostream>\u001b[m\u001b[K\n",
            "    1 | #include\n",
            "\u001b[01m\u001b[Kmax_pairwise_product_with_sort_C.cpp:8:10:\u001b[m\u001b[K \u001b[01;31m\u001b[Kerror: \u001b[m\u001b[K‘\u001b[01m\u001b[Kvector\u001b[m\u001b[K’ is not a member of ‘\u001b[01m\u001b[Kstd\u001b[m\u001b[K’\n",
            "    8 |     std::\u001b[01;31m\u001b[Kvector\u001b[m\u001b[K numbers(n);                          //n\n",
            "      |          \u001b[01;31m\u001b[K^~~~~~\u001b[m\u001b[K\n",
            "\u001b[01m\u001b[Kmax_pairwise_product_with_sort_C.cpp:1:1:\u001b[m\u001b[K \u001b[01;36m\u001b[Knote: \u001b[m\u001b[K‘\u001b[01m\u001b[Kstd::vector\u001b[m\u001b[K’ is defined in header ‘\u001b[01m\u001b[K<vector>\u001b[m\u001b[K’; did you forget to ‘\u001b[01m\u001b[K#include <vector>\u001b[m\u001b[K’?\n",
            "  +++ |+\u001b[32m\u001b[K#include <vector>\u001b[m\u001b[K\n",
            "    1 | #include\n",
            "\u001b[01m\u001b[Kmax_pairwise_product_with_sort_C.cpp:10:14:\u001b[m\u001b[K \u001b[01;31m\u001b[Kerror: \u001b[m\u001b[K‘\u001b[01m\u001b[Kcin\u001b[m\u001b[K’ is not a member of ‘\u001b[01m\u001b[Kstd\u001b[m\u001b[K’\n",
            "   10 |         std::\u001b[01;31m\u001b[Kcin\u001b[m\u001b[K >> numbers[i];                           //n\n",
            "      |              \u001b[01;31m\u001b[K^~~\u001b[m\u001b[K\n",
            "\u001b[01m\u001b[Kmax_pairwise_product_with_sort_C.cpp:10:14:\u001b[m\u001b[K \u001b[01;36m\u001b[Knote: \u001b[m\u001b[K‘\u001b[01m\u001b[Kstd::cin\u001b[m\u001b[K’ is defined in header ‘\u001b[01m\u001b[K<iostream>\u001b[m\u001b[K’; did you forget to ‘\u001b[01m\u001b[K#include <iostream>\u001b[m\u001b[K’?\n",
            "\u001b[01m\u001b[Kmax_pairwise_product_with_sort_C.cpp:10:21:\u001b[m\u001b[K \u001b[01;31m\u001b[Kerror: \u001b[m\u001b[K‘\u001b[01m\u001b[Knumbers\u001b[m\u001b[K’ was not declared in this scope\n",
            "   10 |         std::cin >> \u001b[01;31m\u001b[Knumbers\u001b[m\u001b[K[i];                           //n\n",
            "      |                     \u001b[01;31m\u001b[K^~~~~~~\u001b[m\u001b[K\n",
            "\u001b[01m\u001b[Kmax_pairwise_product_with_sort_C.cpp:13:10:\u001b[m\u001b[K \u001b[01;31m\u001b[Kerror: \u001b[m\u001b[K‘\u001b[01m\u001b[Ksort\u001b[m\u001b[K’ is not a member of ‘\u001b[01m\u001b[Kstd\u001b[m\u001b[K’\n",
            "   13 |     std::\u001b[01;31m\u001b[Ksort\u001b[m\u001b[K(numbers.begin(), numbers.end());                          //nlogn\n",
            "      |          \u001b[01;31m\u001b[K^~~~\u001b[m\u001b[K\n",
            "\u001b[01m\u001b[Kmax_pairwise_product_with_sort_C.cpp:13:15:\u001b[m\u001b[K \u001b[01;31m\u001b[Kerror: \u001b[m\u001b[K‘\u001b[01m\u001b[Knumbers\u001b[m\u001b[K’ was not declared in this scope\n",
            "   13 |     std::sort(\u001b[01;31m\u001b[Knumbers\u001b[m\u001b[K.begin(), numbers.end());                          //nlogn\n",
            "      |               \u001b[01;31m\u001b[K^~~~~~~\u001b[m\u001b[K\n",
            "\u001b[01m\u001b[Kmax_pairwise_product_with_sort_C.cpp:14:10:\u001b[m\u001b[K \u001b[01;31m\u001b[Kerror: \u001b[m\u001b[K‘\u001b[01m\u001b[Kcout\u001b[m\u001b[K’ is not a member of ‘\u001b[01m\u001b[Kstd\u001b[m\u001b[K’\n",
            "   14 |     std::\u001b[01;31m\u001b[Kcout\u001b[m\u001b[K << (long long) numbers[n - 1] * numbers[n - 2] << '\\n';   //2\n",
            "      |          \u001b[01;31m\u001b[K^~~~\u001b[m\u001b[K\n",
            "\u001b[01m\u001b[Kmax_pairwise_product_with_sort_C.cpp:14:10:\u001b[m\u001b[K \u001b[01;36m\u001b[Knote: \u001b[m\u001b[K‘\u001b[01m\u001b[Kstd::cout\u001b[m\u001b[K’ is defined in header ‘\u001b[01m\u001b[K<iostream>\u001b[m\u001b[K’; did you forget to ‘\u001b[01m\u001b[K#include <iostream>\u001b[m\u001b[K’?\n"
          ]
        }
      ]
    },
    {
      "cell_type": "markdown",
      "metadata": {
        "id": "v8pdV9ABOb_k"
      },
      "source": [
        "Test with inputs 1 and 2\n",
        "\n"
      ]
    },
    {
      "cell_type": "code",
      "execution_count": 124,
      "metadata": {
        "id": "kdXAyLG4Ob_k",
        "outputId": "d419e279-d5ea-4ca3-d18a-640b68167e8f",
        "colab": {
          "base_uri": "https://localhost:8080/"
        }
      },
      "outputs": [
        {
          "output_type": "stream",
          "name": "stdout",
          "text": [
            "/bin/bash: line 1: ./max_pairwise_product_with_sort_C: No such file or directory\n",
            "/bin/bash: line 1: ./max_pairwise_product_with_sort_C: No such file or directory\n"
          ]
        }
      ],
      "source": [
        "!./max_pairwise_product_with_sort_C < input1.txt\n",
        "!./max_pairwise_product_with_sort_C < input2.txt"
      ]
    },
    {
      "cell_type": "code",
      "source": [
        "!python max_pairwise_product_with_sort.py < input1.txt\n",
        "!python max_pairwise_product_with_sort.py < input2.txt"
      ],
      "metadata": {
        "id": "LdqpX9NxqARW",
        "outputId": "f0636ff4-847b-4e8a-d996-7f35642c94da",
        "colab": {
          "base_uri": "https://localhost:8080/"
        }
      },
      "execution_count": 123,
      "outputs": [
        {
          "output_type": "stream",
          "name": "stdout",
          "text": [
            "90\n",
            "90\n"
          ]
        }
      ]
    },
    {
      "cell_type": "markdown",
      "metadata": {
        "id": "Sw-5X1q1Ob_k"
      },
      "source": [
        "Test and time it with input 3"
      ]
    },
    {
      "cell_type": "code",
      "execution_count": 125,
      "metadata": {
        "id": "ryHJ30WIOb_k",
        "outputId": "da3982a6-bae6-47d4-c625-e4e05e2bce2b",
        "colab": {
          "base_uri": "https://localhost:8080/"
        }
      },
      "outputs": [
        {
          "output_type": "stream",
          "name": "stdout",
          "text": [
            "/bin/bash: line 1: ./max_pairwise_product_with_sort_C: No such file or directory\n",
            "\n",
            "real\t0m0.002s\n",
            "user\t0m0.000s\n",
            "sys\t0m0.001s\n"
          ]
        }
      ],
      "source": [
        "!time ./max_pairwise_product_with_sort_C < input3.txt"
      ]
    },
    {
      "cell_type": "code",
      "source": [
        "%%time\n",
        "!python max_pairwise_product_with_sort.py < input3.txt"
      ],
      "metadata": {
        "id": "eTxMSLt3qOke",
        "outputId": "a739ca69-dc72-41d5-83ab-999ab131b11c",
        "colab": {
          "base_uri": "https://localhost:8080/"
        }
      },
      "execution_count": 126,
      "outputs": [
        {
          "output_type": "stream",
          "name": "stdout",
          "text": [
            "40000000000\n",
            "CPU times: user 5.21 ms, sys: 1.19 ms, total: 6.4 ms\n",
            "Wall time: 107 ms\n"
          ]
        }
      ]
    },
    {
      "cell_type": "markdown",
      "metadata": {
        "id": "oJGdPl1HOb_k"
      },
      "source": [
        "20 stress tests"
      ]
    },
    {
      "cell_type": "code",
      "execution_count": 127,
      "metadata": {
        "id": "pXHtO1dEOb_k",
        "outputId": "732625fe-d7c4-4dbc-9161-f174da3ae001",
        "colab": {
          "base_uri": "https://localhost:8080/"
        }
      },
      "outputs": [
        {
          "output_type": "stream",
          "name": "stdout",
          "text": [
            "Writing stress_tests.py\n"
          ]
        }
      ],
      "source": [
        "%%writefile stress_tests.py\n",
        "#Python3\n",
        "import random\n",
        "\n",
        "if __name__ == \"__main__\":\n",
        "    for i in range(20):\n",
        "        n = random.randint(2, 19)\n",
        "        lista = [random.randint(17, 25631) for i in range(n)]\n",
        "        lista.sort()\n",
        "        print(f\"n: {n} Product: {lista[n - 1] * lista[n - 2]}\")\n"
      ]
    },
    {
      "cell_type": "code",
      "source": [
        "%%writefile stress_tests_C.cpp\n",
        "#include\n",
        "#include\n",
        "#include\n",
        "#include\n",
        "\n",
        "int main() {\n",
        "    std::random_device rd;\n",
        "    std::mt19937 gen(rd());\n",
        "    std::uniform_int_distribution n_dist(2, 99);\n",
        "    std::uniform_int_distribution num_dist(0, 25000);\n",
        "\n",
        "    for (int i = 0; i < 100; ++i ){\n",
        "          int n = n_dist(gen);                              //1\n",
        "          std::vector numbers(n);                          //n\n",
        "          for (int i = 0; i < n; ++i) {                         //1 + 2n\n",
        "              numbers[i]= num_dist(gen);                           //n\n",
        "          }\n",
        "\n",
        "          std::sort(numbers.begin(), numbers.end());                          //nlogn\n",
        "          std::cout << \"n= \"<< n << \" Product= \" << (long long) numbers[n - 1] * numbers[n - 2] << '\\n';   //2\n",
        "    }\n",
        "    return 0;\n",
        "}"
      ],
      "metadata": {
        "id": "zcCtyrskqcNM",
        "outputId": "b7aef83d-6d30-4e47-b19e-c6eeb7944efe",
        "colab": {
          "base_uri": "https://localhost:8080/"
        }
      },
      "execution_count": 128,
      "outputs": [
        {
          "output_type": "stream",
          "name": "stdout",
          "text": [
            "Writing stress_tests_C.cpp\n"
          ]
        }
      ]
    },
    {
      "cell_type": "code",
      "source": [
        "!g++ stress_tests_C.cpp -o stress_tests_C\n",
        "!./stress_tests_C\n",
        ""
      ],
      "metadata": {
        "id": "j5By_BDrqgFb",
        "outputId": "5a83d62d-b1ac-4126-e8cb-cf4c04e578d6",
        "colab": {
          "base_uri": "https://localhost:8080/"
        }
      },
      "execution_count": 129,
      "outputs": [
        {
          "output_type": "stream",
          "name": "stdout",
          "text": [
            "\u001b[01m\u001b[Kstress_tests_C.cpp:1:10:\u001b[m\u001b[K \u001b[01;31m\u001b[Kerror: \u001b[m\u001b[K#include expects \"FILENAME\" or <FILENAME>\n",
            "    1 | #include\n",
            "      |          \u001b[01;31m\u001b[K^\u001b[m\u001b[K\n",
            "\u001b[01m\u001b[Kstress_tests_C.cpp:2:10:\u001b[m\u001b[K \u001b[01;31m\u001b[Kerror: \u001b[m\u001b[K#include expects \"FILENAME\" or <FILENAME>\n",
            "    2 | #include\n",
            "      |          \u001b[01;31m\u001b[K^\u001b[m\u001b[K\n",
            "\u001b[01m\u001b[Kstress_tests_C.cpp:3:10:\u001b[m\u001b[K \u001b[01;31m\u001b[Kerror: \u001b[m\u001b[K#include expects \"FILENAME\" or <FILENAME>\n",
            "    3 | #include\n",
            "      |          \u001b[01;31m\u001b[K^\u001b[m\u001b[K\n",
            "\u001b[01m\u001b[Kstress_tests_C.cpp:4:10:\u001b[m\u001b[K \u001b[01;31m\u001b[Kerror: \u001b[m\u001b[K#include expects \"FILENAME\" or <FILENAME>\n",
            "    4 | #include\n",
            "      |          \u001b[01;31m\u001b[K^\u001b[m\u001b[K\n",
            "\u001b[01m\u001b[Kstress_tests_C.cpp:\u001b[m\u001b[K In function ‘\u001b[01m\u001b[Kint main()\u001b[m\u001b[K’:\n",
            "\u001b[01m\u001b[Kstress_tests_C.cpp:7:10:\u001b[m\u001b[K \u001b[01;31m\u001b[Kerror: \u001b[m\u001b[K‘\u001b[01m\u001b[Krandom_device\u001b[m\u001b[K’ is not a member of ‘\u001b[01m\u001b[Kstd\u001b[m\u001b[K’\n",
            "    7 |     std::\u001b[01;31m\u001b[Krandom_device\u001b[m\u001b[K rd;\n",
            "      |          \u001b[01;31m\u001b[K^~~~~~~~~~~~~\u001b[m\u001b[K\n",
            "\u001b[01m\u001b[Kstress_tests_C.cpp:8:10:\u001b[m\u001b[K \u001b[01;31m\u001b[Kerror: \u001b[m\u001b[K‘\u001b[01m\u001b[Kmt19937\u001b[m\u001b[K’ is not a member of ‘\u001b[01m\u001b[Kstd\u001b[m\u001b[K’\n",
            "    8 |     std::\u001b[01;31m\u001b[Kmt19937\u001b[m\u001b[K gen(rd());\n",
            "      |          \u001b[01;31m\u001b[K^~~~~~~\u001b[m\u001b[K\n",
            "\u001b[01m\u001b[Kstress_tests_C.cpp:9:10:\u001b[m\u001b[K \u001b[01;31m\u001b[Kerror: \u001b[m\u001b[K‘\u001b[01m\u001b[Kuniform_int_distribution\u001b[m\u001b[K’ is not a member of ‘\u001b[01m\u001b[Kstd\u001b[m\u001b[K’\n",
            "    9 |     std::\u001b[01;31m\u001b[Kuniform_int_distribution\u001b[m\u001b[K n_dist(2, 99);\n",
            "      |          \u001b[01;31m\u001b[K^~~~~~~~~~~~~~~~~~~~~~~~\u001b[m\u001b[K\n",
            "\u001b[01m\u001b[Kstress_tests_C.cpp:10:10:\u001b[m\u001b[K \u001b[01;31m\u001b[Kerror: \u001b[m\u001b[K‘\u001b[01m\u001b[Kuniform_int_distribution\u001b[m\u001b[K’ is not a member of ‘\u001b[01m\u001b[Kstd\u001b[m\u001b[K’\n",
            "   10 |     std::\u001b[01;31m\u001b[Kuniform_int_distribution\u001b[m\u001b[K num_dist(0, 25000);\n",
            "      |          \u001b[01;31m\u001b[K^~~~~~~~~~~~~~~~~~~~~~~~\u001b[m\u001b[K\n",
            "\u001b[01m\u001b[Kstress_tests_C.cpp:13:26:\u001b[m\u001b[K \u001b[01;31m\u001b[Kerror: \u001b[m\u001b[K‘\u001b[01m\u001b[Kgen\u001b[m\u001b[K’ was not declared in this scope\n",
            "   13 |           int n = n_dist(\u001b[01;31m\u001b[Kgen\u001b[m\u001b[K);                              //1\n",
            "      |                          \u001b[01;31m\u001b[K^~~\u001b[m\u001b[K\n",
            "\u001b[01m\u001b[Kstress_tests_C.cpp:13:19:\u001b[m\u001b[K \u001b[01;31m\u001b[Kerror: \u001b[m\u001b[K‘\u001b[01m\u001b[Kn_dist\u001b[m\u001b[K’ was not declared in this scope\n",
            "   13 |           int n = \u001b[01;31m\u001b[Kn_dist\u001b[m\u001b[K(gen);                              //1\n",
            "      |                   \u001b[01;31m\u001b[K^~~~~~\u001b[m\u001b[K\n",
            "\u001b[01m\u001b[Kstress_tests_C.cpp:14:16:\u001b[m\u001b[K \u001b[01;31m\u001b[Kerror: \u001b[m\u001b[K‘\u001b[01m\u001b[Kvector\u001b[m\u001b[K’ is not a member of ‘\u001b[01m\u001b[Kstd\u001b[m\u001b[K’\n",
            "   14 |           std::\u001b[01;31m\u001b[Kvector\u001b[m\u001b[K numbers(n);                          //n\n",
            "      |                \u001b[01;31m\u001b[K^~~~~~\u001b[m\u001b[K\n",
            "\u001b[01m\u001b[Kstress_tests_C.cpp:1:1:\u001b[m\u001b[K \u001b[01;36m\u001b[Knote: \u001b[m\u001b[K‘\u001b[01m\u001b[Kstd::vector\u001b[m\u001b[K’ is defined in header ‘\u001b[01m\u001b[K<vector>\u001b[m\u001b[K’; did you forget to ‘\u001b[01m\u001b[K#include <vector>\u001b[m\u001b[K’?\n",
            "  +++ |+\u001b[32m\u001b[K#include <vector>\u001b[m\u001b[K\n",
            "    1 | #include\n",
            "\u001b[01m\u001b[Kstress_tests_C.cpp:16:15:\u001b[m\u001b[K \u001b[01;31m\u001b[Kerror: \u001b[m\u001b[K‘\u001b[01m\u001b[Knumbers\u001b[m\u001b[K’ was not declared in this scope\n",
            "   16 |               \u001b[01;31m\u001b[Knumbers\u001b[m\u001b[K[i]= num_dist(gen);                           //n\n",
            "      |               \u001b[01;31m\u001b[K^~~~~~~\u001b[m\u001b[K\n",
            "\u001b[01m\u001b[Kstress_tests_C.cpp:16:27:\u001b[m\u001b[K \u001b[01;31m\u001b[Kerror: \u001b[m\u001b[K‘\u001b[01m\u001b[Knum_dist\u001b[m\u001b[K’ was not declared in this scope\n",
            "   16 |               numbers[i]= \u001b[01;31m\u001b[Knum_dist\u001b[m\u001b[K(gen);                           //n\n",
            "      |                           \u001b[01;31m\u001b[K^~~~~~~~\u001b[m\u001b[K\n",
            "\u001b[01m\u001b[Kstress_tests_C.cpp:19:16:\u001b[m\u001b[K \u001b[01;31m\u001b[Kerror: \u001b[m\u001b[K‘\u001b[01m\u001b[Ksort\u001b[m\u001b[K’ is not a member of ‘\u001b[01m\u001b[Kstd\u001b[m\u001b[K’\n",
            "   19 |           std::\u001b[01;31m\u001b[Ksort\u001b[m\u001b[K(numbers.begin(), numbers.end());                          //nlogn\n",
            "      |                \u001b[01;31m\u001b[K^~~~\u001b[m\u001b[K\n",
            "\u001b[01m\u001b[Kstress_tests_C.cpp:19:21:\u001b[m\u001b[K \u001b[01;31m\u001b[Kerror: \u001b[m\u001b[K‘\u001b[01m\u001b[Knumbers\u001b[m\u001b[K’ was not declared in this scope\n",
            "   19 |           std::sort(\u001b[01;31m\u001b[Knumbers\u001b[m\u001b[K.begin(), numbers.end());                          //nlogn\n",
            "      |                     \u001b[01;31m\u001b[K^~~~~~~\u001b[m\u001b[K\n",
            "\u001b[01m\u001b[Kstress_tests_C.cpp:20:16:\u001b[m\u001b[K \u001b[01;31m\u001b[Kerror: \u001b[m\u001b[K‘\u001b[01m\u001b[Kcout\u001b[m\u001b[K’ is not a member of ‘\u001b[01m\u001b[Kstd\u001b[m\u001b[K’\n",
            "   20 |           std::\u001b[01;31m\u001b[Kcout\u001b[m\u001b[K << \"n= \"<< n << \" Product= \" << (long long) numbers[n - 1] * numbers[n - 2] << '\\n';   //2\n",
            "      |                \u001b[01;31m\u001b[K^~~~\u001b[m\u001b[K\n",
            "\u001b[01m\u001b[Kstress_tests_C.cpp:1:1:\u001b[m\u001b[K \u001b[01;36m\u001b[Knote: \u001b[m\u001b[K‘\u001b[01m\u001b[Kstd::cout\u001b[m\u001b[K’ is defined in header ‘\u001b[01m\u001b[K<iostream>\u001b[m\u001b[K’; did you forget to ‘\u001b[01m\u001b[K#include <iostream>\u001b[m\u001b[K’?\n",
            "  +++ |+\u001b[32m\u001b[K#include <iostream>\u001b[m\u001b[K\n",
            "    1 | #include\n",
            "/bin/bash: line 1: ./stress_tests_C: No such file or directory\n"
          ]
        }
      ]
    },
    {
      "cell_type": "code",
      "source": [
        "!python stress_tests.py"
      ],
      "metadata": {
        "id": "sUkZs45TqmwG",
        "outputId": "553e1c48-29d0-484e-bfd3-43d91ebe2609",
        "colab": {
          "base_uri": "https://localhost:8080/"
        }
      },
      "execution_count": 130,
      "outputs": [
        {
          "output_type": "stream",
          "name": "stdout",
          "text": [
            "n: 5 Product: 273960385\n",
            "n: 19 Product: 573170834\n",
            "n: 12 Product: 625703188\n",
            "n: 2 Product: 31992212\n",
            "n: 5 Product: 620049088\n",
            "n: 18 Product: 556279926\n",
            "n: 10 Product: 525819097\n",
            "n: 13 Product: 515115842\n",
            "n: 2 Product: 20931028\n",
            "n: 14 Product: 641085032\n",
            "n: 19 Product: 564749095\n",
            "n: 12 Product: 573853868\n",
            "n: 12 Product: 597481612\n",
            "n: 16 Product: 557696640\n",
            "n: 12 Product: 448540960\n",
            "n: 17 Product: 339657948\n",
            "n: 5 Product: 110894850\n",
            "n: 19 Product: 531786776\n",
            "n: 13 Product: 441781893\n",
            "n: 7 Product: 229599720\n"
          ]
        }
      ]
    },
    {
      "cell_type": "markdown",
      "metadata": {
        "id": "2beTmWFPOb_k"
      },
      "source": [
        "Count executed instructions in code and verify with inputs 1,2 and 3\n"
      ]
    },
    {
      "cell_type": "code",
      "execution_count": 131,
      "metadata": {
        "id": "iuByv4x1Ob_k",
        "outputId": "dddf0289-e43c-420c-82ee-c6a5e3ef4b45",
        "colab": {
          "base_uri": "https://localhost:8080/"
        }
      },
      "outputs": [
        {
          "output_type": "stream",
          "name": "stdout",
          "text": [
            "Writing max_pairwise_product_with_sort_and_instructions.py\n"
          ]
        }
      ],
      "source": [
        "%%writefile max_pairwise_product_with_sort_and_instructions.py\n",
        "#Python3\n",
        "import math\n",
        "if __name__ == \"__main__\":\n",
        "    inst=0\n",
        "    n = int(input())\n",
        "    inst+=1\n",
        "    lista = list(map(int, input().split()))\n",
        "    inst+= 4*n\n",
        "    lista.sort()\n",
        "    inst+=  n * math.log2(n)\n",
        "    print(lista[n - 1] * lista[n - 2])\n",
        "    inst+=1\n",
        "    print(f\"Instrucciones ejecutadas: {int(inst)}\\n\")"
      ]
    },
    {
      "cell_type": "code",
      "source": [
        "%%writefile max_pairwise_product_with_sort_C_and_instructions.cpp\n",
        "#include\n",
        "#include\n",
        "#include\n",
        "#include\n",
        "\n",
        "int main() {\n",
        "    int inst;\n",
        "    int n;                                                //1\n",
        "    inst++;\n",
        "    std::cin >> n;                                        //1\n",
        "    inst++;\n",
        "    std::vector numbers(n);                          //n\n",
        "    inst+=n;\n",
        "    inst+=1;                                              // add the declaration of i=0\n",
        "    for (int i = 0; i < n; ++i) {                         //1 + 2n\n",
        "        inst+=2;\n",
        "        std::cin >> numbers[i];                           //n\n",
        "        inst++;\n",
        "    }\n",
        "\n",
        "    std::sort(numbers.begin(), numbers.end());                          //nlogn\n",
        "    inst+=n * log2(n);\n",
        "    std::cout << (long long) numbers[n - 1] * numbers[n - 2] << '\\n';   //2\n",
        "    inst+=2;\n",
        "    std::cout << \"Instrucciones Ejecutadas: \" << inst << '\\n';\n",
        "    return 0;\n",
        "\n",
        "\n",
        "}"
      ],
      "metadata": {
        "id": "8PGUH0-eqwU8",
        "outputId": "67aa3d3a-f61b-44bf-eaa1-82d2679e13ae",
        "colab": {
          "base_uri": "https://localhost:8080/"
        }
      },
      "execution_count": 132,
      "outputs": [
        {
          "output_type": "stream",
          "name": "stdout",
          "text": [
            "Writing max_pairwise_product_with_sort_C_and_instructions.cpp\n"
          ]
        }
      ]
    },
    {
      "cell_type": "code",
      "source": [
        "!g++ max_pairwise_product_with_sort_C_and_instructions.cpp -o max_pairwise_product_with_sort_C_and_instructions"
      ],
      "metadata": {
        "id": "IDdfAZRzq0Mm",
        "outputId": "6b319912-9db2-43f5-b240-fc20686ec7c0",
        "colab": {
          "base_uri": "https://localhost:8080/"
        }
      },
      "execution_count": 133,
      "outputs": [
        {
          "output_type": "stream",
          "name": "stdout",
          "text": [
            "\u001b[01m\u001b[Kmax_pairwise_product_with_sort_C_and_instructions.cpp:1:10:\u001b[m\u001b[K \u001b[01;31m\u001b[Kerror: \u001b[m\u001b[K#include expects \"FILENAME\" or <FILENAME>\n",
            "    1 | #include\n",
            "      |          \u001b[01;31m\u001b[K^\u001b[m\u001b[K\n",
            "\u001b[01m\u001b[Kmax_pairwise_product_with_sort_C_and_instructions.cpp:2:10:\u001b[m\u001b[K \u001b[01;31m\u001b[Kerror: \u001b[m\u001b[K#include expects \"FILENAME\" or <FILENAME>\n",
            "    2 | #include\n",
            "      |          \u001b[01;31m\u001b[K^\u001b[m\u001b[K\n",
            "\u001b[01m\u001b[Kmax_pairwise_product_with_sort_C_and_instructions.cpp:3:10:\u001b[m\u001b[K \u001b[01;31m\u001b[Kerror: \u001b[m\u001b[K#include expects \"FILENAME\" or <FILENAME>\n",
            "    3 | #include\n",
            "      |          \u001b[01;31m\u001b[K^\u001b[m\u001b[K\n",
            "\u001b[01m\u001b[Kmax_pairwise_product_with_sort_C_and_instructions.cpp:4:10:\u001b[m\u001b[K \u001b[01;31m\u001b[Kerror: \u001b[m\u001b[K#include expects \"FILENAME\" or <FILENAME>\n",
            "    4 | #include\n",
            "      |          \u001b[01;31m\u001b[K^\u001b[m\u001b[K\n",
            "\u001b[01m\u001b[Kmax_pairwise_product_with_sort_C_and_instructions.cpp:\u001b[m\u001b[K In function ‘\u001b[01m\u001b[Kint main()\u001b[m\u001b[K’:\n",
            "\u001b[01m\u001b[Kmax_pairwise_product_with_sort_C_and_instructions.cpp:10:10:\u001b[m\u001b[K \u001b[01;31m\u001b[Kerror: \u001b[m\u001b[K‘\u001b[01m\u001b[Kcin\u001b[m\u001b[K’ is not a member of ‘\u001b[01m\u001b[Kstd\u001b[m\u001b[K’\n",
            "   10 |     std::\u001b[01;31m\u001b[Kcin\u001b[m\u001b[K >> n;                                        //1\n",
            "      |          \u001b[01;31m\u001b[K^~~\u001b[m\u001b[K\n",
            "\u001b[01m\u001b[Kmax_pairwise_product_with_sort_C_and_instructions.cpp:1:1:\u001b[m\u001b[K \u001b[01;36m\u001b[Knote: \u001b[m\u001b[K‘\u001b[01m\u001b[Kstd::cin\u001b[m\u001b[K’ is defined in header ‘\u001b[01m\u001b[K<iostream>\u001b[m\u001b[K’; did you forget to ‘\u001b[01m\u001b[K#include <iostream>\u001b[m\u001b[K’?\n",
            "  +++ |+\u001b[32m\u001b[K#include <iostream>\u001b[m\u001b[K\n",
            "    1 | #include\n",
            "\u001b[01m\u001b[Kmax_pairwise_product_with_sort_C_and_instructions.cpp:12:10:\u001b[m\u001b[K \u001b[01;31m\u001b[Kerror: \u001b[m\u001b[K‘\u001b[01m\u001b[Kvector\u001b[m\u001b[K’ is not a member of ‘\u001b[01m\u001b[Kstd\u001b[m\u001b[K’\n",
            "   12 |     std::\u001b[01;31m\u001b[Kvector\u001b[m\u001b[K numbers(n);                          //n\n",
            "      |          \u001b[01;31m\u001b[K^~~~~~\u001b[m\u001b[K\n",
            "\u001b[01m\u001b[Kmax_pairwise_product_with_sort_C_and_instructions.cpp:1:1:\u001b[m\u001b[K \u001b[01;36m\u001b[Knote: \u001b[m\u001b[K‘\u001b[01m\u001b[Kstd::vector\u001b[m\u001b[K’ is defined in header ‘\u001b[01m\u001b[K<vector>\u001b[m\u001b[K’; did you forget to ‘\u001b[01m\u001b[K#include <vector>\u001b[m\u001b[K’?\n",
            "  +++ |+\u001b[32m\u001b[K#include <vector>\u001b[m\u001b[K\n",
            "    1 | #include\n",
            "\u001b[01m\u001b[Kmax_pairwise_product_with_sort_C_and_instructions.cpp:17:14:\u001b[m\u001b[K \u001b[01;31m\u001b[Kerror: \u001b[m\u001b[K‘\u001b[01m\u001b[Kcin\u001b[m\u001b[K’ is not a member of ‘\u001b[01m\u001b[Kstd\u001b[m\u001b[K’\n",
            "   17 |         std::\u001b[01;31m\u001b[Kcin\u001b[m\u001b[K >> numbers[i];                           //n\n",
            "      |              \u001b[01;31m\u001b[K^~~\u001b[m\u001b[K\n",
            "\u001b[01m\u001b[Kmax_pairwise_product_with_sort_C_and_instructions.cpp:17:14:\u001b[m\u001b[K \u001b[01;36m\u001b[Knote: \u001b[m\u001b[K‘\u001b[01m\u001b[Kstd::cin\u001b[m\u001b[K’ is defined in header ‘\u001b[01m\u001b[K<iostream>\u001b[m\u001b[K’; did you forget to ‘\u001b[01m\u001b[K#include <iostream>\u001b[m\u001b[K’?\n",
            "\u001b[01m\u001b[Kmax_pairwise_product_with_sort_C_and_instructions.cpp:17:21:\u001b[m\u001b[K \u001b[01;31m\u001b[Kerror: \u001b[m\u001b[K‘\u001b[01m\u001b[Knumbers\u001b[m\u001b[K’ was not declared in this scope\n",
            "   17 |         std::cin >> \u001b[01;31m\u001b[Knumbers\u001b[m\u001b[K[i];                           //n\n",
            "      |                     \u001b[01;31m\u001b[K^~~~~~~\u001b[m\u001b[K\n",
            "\u001b[01m\u001b[Kmax_pairwise_product_with_sort_C_and_instructions.cpp:21:10:\u001b[m\u001b[K \u001b[01;31m\u001b[Kerror: \u001b[m\u001b[K‘\u001b[01m\u001b[Ksort\u001b[m\u001b[K’ is not a member of ‘\u001b[01m\u001b[Kstd\u001b[m\u001b[K’\n",
            "   21 |     std::\u001b[01;31m\u001b[Ksort\u001b[m\u001b[K(numbers.begin(), numbers.end());                          //nlogn\n",
            "      |          \u001b[01;31m\u001b[K^~~~\u001b[m\u001b[K\n",
            "\u001b[01m\u001b[Kmax_pairwise_product_with_sort_C_and_instructions.cpp:21:15:\u001b[m\u001b[K \u001b[01;31m\u001b[Kerror: \u001b[m\u001b[K‘\u001b[01m\u001b[Knumbers\u001b[m\u001b[K’ was not declared in this scope\n",
            "   21 |     std::sort(\u001b[01;31m\u001b[Knumbers\u001b[m\u001b[K.begin(), numbers.end());                          //nlogn\n",
            "      |               \u001b[01;31m\u001b[K^~~~~~~\u001b[m\u001b[K\n",
            "\u001b[01m\u001b[Kmax_pairwise_product_with_sort_C_and_instructions.cpp:22:15:\u001b[m\u001b[K \u001b[01;31m\u001b[Kerror: \u001b[m\u001b[K‘\u001b[01m\u001b[Klog2\u001b[m\u001b[K’ was not declared in this scope\n",
            "   22 |     inst+=n * \u001b[01;31m\u001b[Klog2\u001b[m\u001b[K(n);\n",
            "      |               \u001b[01;31m\u001b[K^~~~\u001b[m\u001b[K\n",
            "\u001b[01m\u001b[Kmax_pairwise_product_with_sort_C_and_instructions.cpp:23:10:\u001b[m\u001b[K \u001b[01;31m\u001b[Kerror: \u001b[m\u001b[K‘\u001b[01m\u001b[Kcout\u001b[m\u001b[K’ is not a member of ‘\u001b[01m\u001b[Kstd\u001b[m\u001b[K’\n",
            "   23 |     std::\u001b[01;31m\u001b[Kcout\u001b[m\u001b[K << (long long) numbers[n - 1] * numbers[n - 2] << '\\n';   //2\n",
            "      |          \u001b[01;31m\u001b[K^~~~\u001b[m\u001b[K\n",
            "\u001b[01m\u001b[Kmax_pairwise_product_with_sort_C_and_instructions.cpp:23:10:\u001b[m\u001b[K \u001b[01;36m\u001b[Knote: \u001b[m\u001b[K‘\u001b[01m\u001b[Kstd::cout\u001b[m\u001b[K’ is defined in header ‘\u001b[01m\u001b[K<iostream>\u001b[m\u001b[K’; did you forget to ‘\u001b[01m\u001b[K#include <iostream>\u001b[m\u001b[K’?\n",
            "\u001b[01m\u001b[Kmax_pairwise_product_with_sort_C_and_instructions.cpp:25:10:\u001b[m\u001b[K \u001b[01;31m\u001b[Kerror: \u001b[m\u001b[K‘\u001b[01m\u001b[Kcout\u001b[m\u001b[K’ is not a member of ‘\u001b[01m\u001b[Kstd\u001b[m\u001b[K’\n",
            "   25 |     std::\u001b[01;31m\u001b[Kcout\u001b[m\u001b[K << \"Instrucciones Ejecutadas: \" << inst << '\\n';\n",
            "      |          \u001b[01;31m\u001b[K^~~~\u001b[m\u001b[K\n",
            "\u001b[01m\u001b[Kmax_pairwise_product_with_sort_C_and_instructions.cpp:25:10:\u001b[m\u001b[K \u001b[01;36m\u001b[Knote: \u001b[m\u001b[K‘\u001b[01m\u001b[Kstd::cout\u001b[m\u001b[K’ is defined in header ‘\u001b[01m\u001b[K<iostream>\u001b[m\u001b[K’; did you forget to ‘\u001b[01m\u001b[K#include <iostream>\u001b[m\u001b[K’?\n"
          ]
        }
      ]
    },
    {
      "cell_type": "code",
      "source": [
        "!./max_pairwise_product_with_sort_C_and_instructions < input1.txt\n",
        "!./max_pairwise_product_with_sort_C_and_instructions < input2.txt\n",
        "!./max_pairwise_product_with_sort_C_and_instructions < input3.txt"
      ],
      "metadata": {
        "id": "L51MbT_0q5Re",
        "outputId": "7c17a047-33e9-4f31-8871-4a37cbfbac2a",
        "colab": {
          "base_uri": "https://localhost:8080/"
        }
      },
      "execution_count": 134,
      "outputs": [
        {
          "output_type": "stream",
          "name": "stdout",
          "text": [
            "/bin/bash: line 1: ./max_pairwise_product_with_sort_C_and_instructions: No such file or directory\n",
            "/bin/bash: line 1: ./max_pairwise_product_with_sort_C_and_instructions: No such file or directory\n",
            "/bin/bash: line 1: ./max_pairwise_product_with_sort_C_and_instructions: No such file or directory\n"
          ]
        }
      ]
    },
    {
      "cell_type": "code",
      "source": [
        "!python max_pairwise_product_with_sort_and_instructions.py < input1.txt\n",
        "!python max_pairwise_product_with_sort_and_instructions.py < input2.txt\n",
        "!python max_pairwise_product_with_sort_and_instructions.py < input3.txt"
      ],
      "metadata": {
        "id": "6uJj8iHcq9Af",
        "outputId": "2788eb8f-6cbb-4749-d5be-5c4598077bb3",
        "colab": {
          "base_uri": "https://localhost:8080/"
        }
      },
      "execution_count": 135,
      "outputs": [
        {
          "output_type": "stream",
          "name": "stdout",
          "text": [
            "90\n",
            "Instrucciones ejecutadas: 75\n",
            "\n",
            "90\n",
            "Instrucciones ejecutadas: 75\n",
            "\n",
            "40000000000\n",
            "Instrucciones ejecutadas: 41\n",
            "\n"
          ]
        }
      ]
    },
    {
      "cell_type": "markdown",
      "metadata": {
        "id": "x2CXhkwTOb_l"
      },
      "source": [
        "Calculate estimated time by instruction and number of instructions by second"
      ]
    },
    {
      "cell_type": "code",
      "execution_count": 136,
      "metadata": {
        "id": "nTjxyTMtOb_l",
        "outputId": "7f77fdc5-9a78-41d3-d7f9-6650e901e38e",
        "colab": {
          "base_uri": "https://localhost:8080/"
        }
      },
      "outputs": [
        {
          "output_type": "stream",
          "name": "stdout",
          "text": [
            "Writing max_pairwise_product_with_sort_and_instructions_with_time_and_IbS.py\n"
          ]
        }
      ],
      "source": [
        "%%writefile max_pairwise_product_with_sort_and_instructions_with_time_and_IbS.py\n",
        "#Python3\n",
        "import math\n",
        "import time\n",
        "if __name__ == \"__main__\":\n",
        "    inicio = time.time()\n",
        "    inst=0\n",
        "    n = int(input())\n",
        "    inst+=1\n",
        "    lista = list(map(int, input().split()))\n",
        "    inst+= 4*n\n",
        "    lista.sort()\n",
        "    inst+=  n * math.log2(n)\n",
        "    print(lista[n - 1] * lista[n - 2])\n",
        "    inst+=1\n",
        "    print(f\"Instrucciones ejecutadas: {int(inst)}\")\n",
        "    fin = time.time()\n",
        "    tiempo_total = fin - inicio\n",
        "    instructionTime = tiempo_total/inst\n",
        "    instructionBySecond= inst/tiempo_total\n",
        "\n",
        "    print(f\"Tiempo total de ejecución: {tiempo_total*1000} milisegundos\")\n",
        "    print(f\"Tiempo estimado de cada instruccion: {instructionTime*1000} milisegundos\")\n",
        "    print(f\"Instrucciones por segundo: {int(instructionBySecond)} \")"
      ]
    },
    {
      "cell_type": "code",
      "source": [
        "!python max_pairwise_product_with_sort_and_instructions_with_time_and_IbS.py < input13.txt"
      ],
      "metadata": {
        "id": "otc__RVPrLlG",
        "outputId": "627aa756-f551-472b-e88d-c00277e21fdf",
        "colab": {
          "base_uri": "https://localhost:8080/"
        }
      },
      "execution_count": 137,
      "outputs": [
        {
          "output_type": "stream",
          "name": "stdout",
          "text": [
            "120989000\n",
            "Instrucciones ejecutadas: 191679\n",
            "Tiempo total de ejecución: 2.5141239166259766 milisegundos\n",
            "Tiempo estimado de cada instruccion: 1.3116298597392513e-05 milisegundos\n",
            "Instrucciones por segundo: 76241021 \n"
          ]
        }
      ]
    },
    {
      "cell_type": "markdown",
      "source": [
        "### Estimate and verify the maximun n that can be solved in 1 second"
      ],
      "metadata": {
        "id": "CcgDYDQuaFeH"
      }
    },
    {
      "cell_type": "code",
      "source": [
        "%%writefile maximun_n_that_can_be_solved.py\n",
        "#Python3\n",
        "import random\n",
        "\n",
        "if __name__ == \"__main__\":\n",
        "      n = 600000\n",
        "      lista = [random.randint(17, 25631) for i in range(n)]\n",
        "      lista.sort()\n",
        "      print(f\"n: {n} Product: {lista[n - 1] * lista[n - 2]}\")"
      ],
      "metadata": {
        "id": "fLztHReKaGFq",
        "outputId": "0aaeb9c3-a802-4cee-a278-a5c2439d81e0",
        "colab": {
          "base_uri": "https://localhost:8080/"
        }
      },
      "execution_count": 138,
      "outputs": [
        {
          "output_type": "stream",
          "name": "stdout",
          "text": [
            "Writing maximun_n_that_can_be_solved.py\n"
          ]
        }
      ]
    },
    {
      "cell_type": "code",
      "source": [
        "%%time\n",
        "!python maximun_n_that_can_be_solved.py"
      ],
      "metadata": {
        "id": "G9_1ngOYrUpU",
        "outputId": "3969a7ca-228d-47e6-8dce-69f6ed86cc6a",
        "colab": {
          "base_uri": "https://localhost:8080/"
        }
      },
      "execution_count": 139,
      "outputs": [
        {
          "output_type": "stream",
          "name": "stdout",
          "text": [
            "n: 600000 Product: 656948161\n",
            "CPU times: user 13.4 ms, sys: 0 ns, total: 13.4 ms\n",
            "Wall time: 908 ms\n"
          ]
        }
      ]
    },
    {
      "cell_type": "code",
      "source": [
        "%%writefile maximun_n_that_can_be_solved_C.cpp\n",
        "#include\n",
        "#include\n",
        "#include\n",
        "#include\n",
        "\n",
        "int main() {\n",
        "    std::random_device rd;\n",
        "    std::mt19937 gen(rd());\n",
        "    std::uniform_int_distribution n_dist(2, 99);\n",
        "    std::uniform_int_distribution num_dist(0, 25000);\n",
        "    int n = 1700000;                              //1\n",
        "    std::vector numbers(n);                          //n\n",
        "    for (int i = 0; i < n; ++i) {                         //1 + 2n\n",
        "      numbers[i]= num_dist(gen);                           //n\n",
        "    }\n",
        "\n",
        "    std::sort(numbers.begin(), numbers.end());                          //nlogn\n",
        "    std::cout << \"n= \"<< n << \" Product= \" << (long long) numbers[n - 1] * numbers[n - 2] << '\\n';   //2\n",
        "    return 0;\n",
        "\n",
        "}"
      ],
      "metadata": {
        "id": "LrivKYKara6J",
        "outputId": "b68eb353-dd99-41fb-989e-4c761ee629e6",
        "colab": {
          "base_uri": "https://localhost:8080/"
        }
      },
      "execution_count": 140,
      "outputs": [
        {
          "output_type": "stream",
          "name": "stdout",
          "text": [
            "Writing maximun_n_that_can_be_solved_C.cpp\n"
          ]
        }
      ]
    },
    {
      "cell_type": "code",
      "source": [
        "!g++ maximun_n_that_can_be_solved_C.cpp -o maximun_n_that_can_be_solved_C\n",
        "!time ./maximun_n_that_can_be_solved_C"
      ],
      "metadata": {
        "id": "l3J7o1jLrjv5",
        "outputId": "9442d042-9efc-4f09-cc27-0b7c587e5069",
        "colab": {
          "base_uri": "https://localhost:8080/"
        }
      },
      "execution_count": 141,
      "outputs": [
        {
          "output_type": "stream",
          "name": "stdout",
          "text": [
            "\u001b[01m\u001b[Kmaximun_n_that_can_be_solved_C.cpp:1:10:\u001b[m\u001b[K \u001b[01;31m\u001b[Kerror: \u001b[m\u001b[K#include expects \"FILENAME\" or <FILENAME>\n",
            "    1 | #include\n",
            "      |          \u001b[01;31m\u001b[K^\u001b[m\u001b[K\n",
            "\u001b[01m\u001b[Kmaximun_n_that_can_be_solved_C.cpp:2:10:\u001b[m\u001b[K \u001b[01;31m\u001b[Kerror: \u001b[m\u001b[K#include expects \"FILENAME\" or <FILENAME>\n",
            "    2 | #include\n",
            "      |          \u001b[01;31m\u001b[K^\u001b[m\u001b[K\n",
            "\u001b[01m\u001b[Kmaximun_n_that_can_be_solved_C.cpp:3:10:\u001b[m\u001b[K \u001b[01;31m\u001b[Kerror: \u001b[m\u001b[K#include expects \"FILENAME\" or <FILENAME>\n",
            "    3 | #include\n",
            "      |          \u001b[01;31m\u001b[K^\u001b[m\u001b[K\n",
            "\u001b[01m\u001b[Kmaximun_n_that_can_be_solved_C.cpp:4:10:\u001b[m\u001b[K \u001b[01;31m\u001b[Kerror: \u001b[m\u001b[K#include expects \"FILENAME\" or <FILENAME>\n",
            "    4 | #include\n",
            "      |          \u001b[01;31m\u001b[K^\u001b[m\u001b[K\n",
            "\u001b[01m\u001b[Kmaximun_n_that_can_be_solved_C.cpp:\u001b[m\u001b[K In function ‘\u001b[01m\u001b[Kint main()\u001b[m\u001b[K’:\n",
            "\u001b[01m\u001b[Kmaximun_n_that_can_be_solved_C.cpp:7:10:\u001b[m\u001b[K \u001b[01;31m\u001b[Kerror: \u001b[m\u001b[K‘\u001b[01m\u001b[Krandom_device\u001b[m\u001b[K’ is not a member of ‘\u001b[01m\u001b[Kstd\u001b[m\u001b[K’\n",
            "    7 |     std::\u001b[01;31m\u001b[Krandom_device\u001b[m\u001b[K rd;\n",
            "      |          \u001b[01;31m\u001b[K^~~~~~~~~~~~~\u001b[m\u001b[K\n",
            "\u001b[01m\u001b[Kmaximun_n_that_can_be_solved_C.cpp:8:10:\u001b[m\u001b[K \u001b[01;31m\u001b[Kerror: \u001b[m\u001b[K‘\u001b[01m\u001b[Kmt19937\u001b[m\u001b[K’ is not a member of ‘\u001b[01m\u001b[Kstd\u001b[m\u001b[K’\n",
            "    8 |     std::\u001b[01;31m\u001b[Kmt19937\u001b[m\u001b[K gen(rd());\n",
            "      |          \u001b[01;31m\u001b[K^~~~~~~\u001b[m\u001b[K\n",
            "\u001b[01m\u001b[Kmaximun_n_that_can_be_solved_C.cpp:9:10:\u001b[m\u001b[K \u001b[01;31m\u001b[Kerror: \u001b[m\u001b[K‘\u001b[01m\u001b[Kuniform_int_distribution\u001b[m\u001b[K’ is not a member of ‘\u001b[01m\u001b[Kstd\u001b[m\u001b[K’\n",
            "    9 |     std::\u001b[01;31m\u001b[Kuniform_int_distribution\u001b[m\u001b[K n_dist(2, 99);\n",
            "      |          \u001b[01;31m\u001b[K^~~~~~~~~~~~~~~~~~~~~~~~\u001b[m\u001b[K\n",
            "\u001b[01m\u001b[Kmaximun_n_that_can_be_solved_C.cpp:10:10:\u001b[m\u001b[K \u001b[01;31m\u001b[Kerror: \u001b[m\u001b[K‘\u001b[01m\u001b[Kuniform_int_distribution\u001b[m\u001b[K’ is not a member of ‘\u001b[01m\u001b[Kstd\u001b[m\u001b[K’\n",
            "   10 |     std::\u001b[01;31m\u001b[Kuniform_int_distribution\u001b[m\u001b[K num_dist(0, 25000);\n",
            "      |          \u001b[01;31m\u001b[K^~~~~~~~~~~~~~~~~~~~~~~~\u001b[m\u001b[K\n",
            "\u001b[01m\u001b[Kmaximun_n_that_can_be_solved_C.cpp:12:10:\u001b[m\u001b[K \u001b[01;31m\u001b[Kerror: \u001b[m\u001b[K‘\u001b[01m\u001b[Kvector\u001b[m\u001b[K’ is not a member of ‘\u001b[01m\u001b[Kstd\u001b[m\u001b[K’\n",
            "   12 |     std::\u001b[01;31m\u001b[Kvector\u001b[m\u001b[K numbers(n);                          //n\n",
            "      |          \u001b[01;31m\u001b[K^~~~~~\u001b[m\u001b[K\n",
            "\u001b[01m\u001b[Kmaximun_n_that_can_be_solved_C.cpp:1:1:\u001b[m\u001b[K \u001b[01;36m\u001b[Knote: \u001b[m\u001b[K‘\u001b[01m\u001b[Kstd::vector\u001b[m\u001b[K’ is defined in header ‘\u001b[01m\u001b[K<vector>\u001b[m\u001b[K’; did you forget to ‘\u001b[01m\u001b[K#include <vector>\u001b[m\u001b[K’?\n",
            "  +++ |+\u001b[32m\u001b[K#include <vector>\u001b[m\u001b[K\n",
            "    1 | #include\n",
            "\u001b[01m\u001b[Kmaximun_n_that_can_be_solved_C.cpp:14:7:\u001b[m\u001b[K \u001b[01;31m\u001b[Kerror: \u001b[m\u001b[K‘\u001b[01m\u001b[Knumbers\u001b[m\u001b[K’ was not declared in this scope\n",
            "   14 |       \u001b[01;31m\u001b[Knumbers\u001b[m\u001b[K[i]= num_dist(gen);                           //n\n",
            "      |       \u001b[01;31m\u001b[K^~~~~~~\u001b[m\u001b[K\n",
            "\u001b[01m\u001b[Kmaximun_n_that_can_be_solved_C.cpp:14:28:\u001b[m\u001b[K \u001b[01;31m\u001b[Kerror: \u001b[m\u001b[K‘\u001b[01m\u001b[Kgen\u001b[m\u001b[K’ was not declared in this scope\n",
            "   14 |       numbers[i]= num_dist(\u001b[01;31m\u001b[Kgen\u001b[m\u001b[K);                           //n\n",
            "      |                            \u001b[01;31m\u001b[K^~~\u001b[m\u001b[K\n",
            "\u001b[01m\u001b[Kmaximun_n_that_can_be_solved_C.cpp:14:19:\u001b[m\u001b[K \u001b[01;31m\u001b[Kerror: \u001b[m\u001b[K‘\u001b[01m\u001b[Knum_dist\u001b[m\u001b[K’ was not declared in this scope\n",
            "   14 |       numbers[i]= \u001b[01;31m\u001b[Knum_dist\u001b[m\u001b[K(gen);                           //n\n",
            "      |                   \u001b[01;31m\u001b[K^~~~~~~~\u001b[m\u001b[K\n",
            "\u001b[01m\u001b[Kmaximun_n_that_can_be_solved_C.cpp:17:10:\u001b[m\u001b[K \u001b[01;31m\u001b[Kerror: \u001b[m\u001b[K‘\u001b[01m\u001b[Ksort\u001b[m\u001b[K’ is not a member of ‘\u001b[01m\u001b[Kstd\u001b[m\u001b[K’\n",
            "   17 |     std::\u001b[01;31m\u001b[Ksort\u001b[m\u001b[K(numbers.begin(), numbers.end());                          //nlogn\n",
            "      |          \u001b[01;31m\u001b[K^~~~\u001b[m\u001b[K\n",
            "\u001b[01m\u001b[Kmaximun_n_that_can_be_solved_C.cpp:17:15:\u001b[m\u001b[K \u001b[01;31m\u001b[Kerror: \u001b[m\u001b[K‘\u001b[01m\u001b[Knumbers\u001b[m\u001b[K’ was not declared in this scope\n",
            "   17 |     std::sort(\u001b[01;31m\u001b[Knumbers\u001b[m\u001b[K.begin(), numbers.end());                          //nlogn\n",
            "      |               \u001b[01;31m\u001b[K^~~~~~~\u001b[m\u001b[K\n",
            "\u001b[01m\u001b[Kmaximun_n_that_can_be_solved_C.cpp:18:10:\u001b[m\u001b[K \u001b[01;31m\u001b[Kerror: \u001b[m\u001b[K‘\u001b[01m\u001b[Kcout\u001b[m\u001b[K’ is not a member of ‘\u001b[01m\u001b[Kstd\u001b[m\u001b[K’\n",
            "   18 |     std::\u001b[01;31m\u001b[Kcout\u001b[m\u001b[K << \"n= \"<< n << \" Product= \" << (long long) numbers[n - 1] * numbers[n - 2] << '\\n';   //2\n",
            "      |          \u001b[01;31m\u001b[K^~~~\u001b[m\u001b[K\n",
            "\u001b[01m\u001b[Kmaximun_n_that_can_be_solved_C.cpp:1:1:\u001b[m\u001b[K \u001b[01;36m\u001b[Knote: \u001b[m\u001b[K‘\u001b[01m\u001b[Kstd::cout\u001b[m\u001b[K’ is defined in header ‘\u001b[01m\u001b[K<iostream>\u001b[m\u001b[K’; did you forget to ‘\u001b[01m\u001b[K#include <iostream>\u001b[m\u001b[K’?\n",
            "  +++ |+\u001b[32m\u001b[K#include <iostream>\u001b[m\u001b[K\n",
            "    1 | #include\n",
            "/bin/bash: line 1: ./maximun_n_that_can_be_solved_C: No such file or directory\n",
            "\n",
            "real\t0m0.001s\n",
            "user\t0m0.001s\n",
            "sys\t0m0.000s\n"
          ]
        }
      ]
    },
    {
      "cell_type": "markdown",
      "metadata": {
        "id": "VMKC5duEOQfk"
      },
      "source": [
        "## Efficient solution with largest and second-largest in an list, array or vector in C++ and Python\n",
        "\n",
        " $$T(n) < 10 n  = O(n)$$\n",
        "\n",
        "\n",
        "\n"
      ]
    },
    {
      "cell_type": "markdown",
      "metadata": {
        "id": "nLcKBwbU0QsE"
      },
      "source": [
        "Add in each line a coment with the number of intstrcution that are executed in that line"
      ]
    },
    {
      "cell_type": "code",
      "execution_count": 142,
      "metadata": {
        "id": "knls5Fh3NSt_",
        "outputId": "70f1574a-20b7-4bef-fbf1-ce1c47370481",
        "colab": {
          "base_uri": "https://localhost:8080/"
        }
      },
      "outputs": [
        {
          "output_type": "stream",
          "name": "stdout",
          "text": [
            "Writing max_pairwise_product_long_efficient.cpp\n"
          ]
        }
      ],
      "source": [
        "%%writefile max_pairwise_product_long_efficient.cpp\n",
        "#include\n",
        "#include\n",
        "#include\n",
        "\n",
        "long long MaxPairwiseProduct(const std::vector& numbers) {\n",
        "    long long max_product = 0LL;                                             //1\n",
        "\t  long long n_major = 0LL;\n",
        "    long long n_major_2 = 0LL;                                             //1\n",
        "    int n = numbers.size();                                                  //1\n",
        "\n",
        "    for(int i = 0; i < n; ++i) {                   //1 + 2n\n",
        "      if (numbers[i] > n_major){\n",
        "        n_major_2 = n_major ;                //n\n",
        "        n_major = numbers[i];\n",
        "      }\n",
        "      else if (numbers[i] > n_major_2){                   //n\n",
        "        n_major_2 = numbers[i];                    //[0, n]\n",
        "\n",
        "      }\n",
        "    }\n",
        "    max_product=n_major*n_major_2;                                                                          // --------------\n",
        "    return max_product;\n",
        "}\n",
        "\n",
        "int main() {\n",
        "    int n;                                                //1\n",
        "    std::cin >> n;                                        //1\n",
        "    std::vector numbers(n);                          //n\n",
        "    for (int i = 0; i < n; ++i) {                         //1 + 2n\n",
        "        std::cin >> numbers[i];                           //n\n",
        "    }\n",
        "\n",
        "    std::cout << MaxPairwiseProduct(numbers) << \"\\n\";\n",
        "    return 0;\n",
        "}"
      ]
    },
    {
      "cell_type": "code",
      "source": [
        "!g++ max_pairwise_product_long_efficient.cpp -o max_pairwise_product_long_efficient"
      ],
      "metadata": {
        "id": "DE3l0NAEr-rk",
        "outputId": "41f26069-a02e-41cb-edc5-65a4f04872d4",
        "colab": {
          "base_uri": "https://localhost:8080/"
        }
      },
      "execution_count": 143,
      "outputs": [
        {
          "output_type": "stream",
          "name": "stdout",
          "text": [
            "\u001b[01m\u001b[Kmax_pairwise_product_long_efficient.cpp:1:10:\u001b[m\u001b[K \u001b[01;31m\u001b[Kerror: \u001b[m\u001b[K#include expects \"FILENAME\" or <FILENAME>\n",
            "    1 | #include\n",
            "      |          \u001b[01;31m\u001b[K^\u001b[m\u001b[K\n",
            "\u001b[01m\u001b[Kmax_pairwise_product_long_efficient.cpp:2:10:\u001b[m\u001b[K \u001b[01;31m\u001b[Kerror: \u001b[m\u001b[K#include expects \"FILENAME\" or <FILENAME>\n",
            "    2 | #include\n",
            "      |          \u001b[01;31m\u001b[K^\u001b[m\u001b[K\n",
            "\u001b[01m\u001b[Kmax_pairwise_product_long_efficient.cpp:3:10:\u001b[m\u001b[K \u001b[01;31m\u001b[Kerror: \u001b[m\u001b[K#include expects \"FILENAME\" or <FILENAME>\n",
            "    3 | #include\n",
            "      |          \u001b[01;31m\u001b[K^\u001b[m\u001b[K\n",
            "\u001b[01m\u001b[Kmax_pairwise_product_long_efficient.cpp:5:41:\u001b[m\u001b[K \u001b[01;31m\u001b[Kerror: \u001b[m\u001b[K‘\u001b[01m\u001b[Kvector\u001b[m\u001b[K’ in namespace ‘\u001b[01m\u001b[Kstd\u001b[m\u001b[K’ does not name a type\n",
            "    5 | long long MaxPairwiseProduct(const std::\u001b[01;31m\u001b[Kvector\u001b[m\u001b[K& numbers) {\n",
            "      |                                         \u001b[01;31m\u001b[K^~~~~~\u001b[m\u001b[K\n",
            "\u001b[01m\u001b[Kmax_pairwise_product_long_efficient.cpp:1:1:\u001b[m\u001b[K \u001b[01;36m\u001b[Knote: \u001b[m\u001b[K‘\u001b[01m\u001b[Kstd::vector\u001b[m\u001b[K’ is defined in header ‘\u001b[01m\u001b[K<vector>\u001b[m\u001b[K’; did you forget to ‘\u001b[01m\u001b[K#include <vector>\u001b[m\u001b[K’?\n",
            "  +++ |+\u001b[32m\u001b[K#include <vector>\u001b[m\u001b[K\n",
            "    1 | #include\n",
            "\u001b[01m\u001b[Kmax_pairwise_product_long_efficient.cpp:\u001b[m\u001b[K In function ‘\u001b[01m\u001b[Klong long int MaxPairwiseProduct(const int&)\u001b[m\u001b[K’:\n",
            "\u001b[01m\u001b[Kmax_pairwise_product_long_efficient.cpp:9:21:\u001b[m\u001b[K \u001b[01;31m\u001b[Kerror: \u001b[m\u001b[Krequest for member ‘\u001b[01m\u001b[Ksize\u001b[m\u001b[K’ in ‘\u001b[01m\u001b[Knumbers\u001b[m\u001b[K’, which is of non-class type ‘\u001b[01m\u001b[Kconst int\u001b[m\u001b[K’\n",
            "    9 |     int n = numbers.\u001b[01;31m\u001b[Ksize\u001b[m\u001b[K();                                                  //1\n",
            "      |                     \u001b[01;31m\u001b[K^~~~\u001b[m\u001b[K\n",
            "\u001b[01m\u001b[Kmax_pairwise_product_long_efficient.cpp:12:18:\u001b[m\u001b[K \u001b[01;31m\u001b[Kerror: \u001b[m\u001b[Kinvalid types ‘\u001b[01m\u001b[Kconst int[int]\u001b[m\u001b[K’ for array subscript\n",
            "   12 |       if (numbers\u001b[01;31m\u001b[K[\u001b[m\u001b[Ki] > n_major){\n",
            "      |                  \u001b[01;31m\u001b[K^\u001b[m\u001b[K\n",
            "\u001b[01m\u001b[Kmax_pairwise_product_long_efficient.cpp:14:26:\u001b[m\u001b[K \u001b[01;31m\u001b[Kerror: \u001b[m\u001b[Kinvalid types ‘\u001b[01m\u001b[Kconst int[int]\u001b[m\u001b[K’ for array subscript\n",
            "   14 |         n_major = numbers\u001b[01;31m\u001b[K[\u001b[m\u001b[Ki];\n",
            "      |                          \u001b[01;31m\u001b[K^\u001b[m\u001b[K\n",
            "\u001b[01m\u001b[Kmax_pairwise_product_long_efficient.cpp:16:23:\u001b[m\u001b[K \u001b[01;31m\u001b[Kerror: \u001b[m\u001b[Kinvalid types ‘\u001b[01m\u001b[Kconst int[int]\u001b[m\u001b[K’ for array subscript\n",
            "   16 |       else if (numbers\u001b[01;31m\u001b[K[\u001b[m\u001b[Ki] > n_major_2){                   //n\n",
            "      |                       \u001b[01;31m\u001b[K^\u001b[m\u001b[K\n",
            "\u001b[01m\u001b[Kmax_pairwise_product_long_efficient.cpp:17:28:\u001b[m\u001b[K \u001b[01;31m\u001b[Kerror: \u001b[m\u001b[Kinvalid types ‘\u001b[01m\u001b[Kconst int[int]\u001b[m\u001b[K’ for array subscript\n",
            "   17 |         n_major_2 = numbers\u001b[01;31m\u001b[K[\u001b[m\u001b[Ki];                    //[0, n]\n",
            "      |                            \u001b[01;31m\u001b[K^\u001b[m\u001b[K\n",
            "\u001b[01m\u001b[Kmax_pairwise_product_long_efficient.cpp:\u001b[m\u001b[K In function ‘\u001b[01m\u001b[Kint main()\u001b[m\u001b[K’:\n",
            "\u001b[01m\u001b[Kmax_pairwise_product_long_efficient.cpp:27:10:\u001b[m\u001b[K \u001b[01;31m\u001b[Kerror: \u001b[m\u001b[K‘\u001b[01m\u001b[Kcin\u001b[m\u001b[K’ is not a member of ‘\u001b[01m\u001b[Kstd\u001b[m\u001b[K’\n",
            "   27 |     std::\u001b[01;31m\u001b[Kcin\u001b[m\u001b[K >> n;                                        //1\n",
            "      |          \u001b[01;31m\u001b[K^~~\u001b[m\u001b[K\n",
            "\u001b[01m\u001b[Kmax_pairwise_product_long_efficient.cpp:1:1:\u001b[m\u001b[K \u001b[01;36m\u001b[Knote: \u001b[m\u001b[K‘\u001b[01m\u001b[Kstd::cin\u001b[m\u001b[K’ is defined in header ‘\u001b[01m\u001b[K<iostream>\u001b[m\u001b[K’; did you forget to ‘\u001b[01m\u001b[K#include <iostream>\u001b[m\u001b[K’?\n",
            "  +++ |+\u001b[32m\u001b[K#include <iostream>\u001b[m\u001b[K\n",
            "    1 | #include\n",
            "\u001b[01m\u001b[Kmax_pairwise_product_long_efficient.cpp:28:10:\u001b[m\u001b[K \u001b[01;31m\u001b[Kerror: \u001b[m\u001b[K‘\u001b[01m\u001b[Kvector\u001b[m\u001b[K’ is not a member of ‘\u001b[01m\u001b[Kstd\u001b[m\u001b[K’\n",
            "   28 |     std::\u001b[01;31m\u001b[Kvector\u001b[m\u001b[K numbers(n);                          //n\n",
            "      |          \u001b[01;31m\u001b[K^~~~~~\u001b[m\u001b[K\n",
            "\u001b[01m\u001b[Kmax_pairwise_product_long_efficient.cpp:28:10:\u001b[m\u001b[K \u001b[01;36m\u001b[Knote: \u001b[m\u001b[K‘\u001b[01m\u001b[Kstd::vector\u001b[m\u001b[K’ is defined in header ‘\u001b[01m\u001b[K<vector>\u001b[m\u001b[K’; did you forget to ‘\u001b[01m\u001b[K#include <vector>\u001b[m\u001b[K’?\n",
            "\u001b[01m\u001b[Kmax_pairwise_product_long_efficient.cpp:30:14:\u001b[m\u001b[K \u001b[01;31m\u001b[Kerror: \u001b[m\u001b[K‘\u001b[01m\u001b[Kcin\u001b[m\u001b[K’ is not a member of ‘\u001b[01m\u001b[Kstd\u001b[m\u001b[K’\n",
            "   30 |         std::\u001b[01;31m\u001b[Kcin\u001b[m\u001b[K >> numbers[i];                           //n\n",
            "      |              \u001b[01;31m\u001b[K^~~\u001b[m\u001b[K\n",
            "\u001b[01m\u001b[Kmax_pairwise_product_long_efficient.cpp:30:14:\u001b[m\u001b[K \u001b[01;36m\u001b[Knote: \u001b[m\u001b[K‘\u001b[01m\u001b[Kstd::cin\u001b[m\u001b[K’ is defined in header ‘\u001b[01m\u001b[K<iostream>\u001b[m\u001b[K’; did you forget to ‘\u001b[01m\u001b[K#include <iostream>\u001b[m\u001b[K’?\n",
            "\u001b[01m\u001b[Kmax_pairwise_product_long_efficient.cpp:30:21:\u001b[m\u001b[K \u001b[01;31m\u001b[Kerror: \u001b[m\u001b[K‘\u001b[01m\u001b[Knumbers\u001b[m\u001b[K’ was not declared in this scope\n",
            "   30 |         std::cin >> \u001b[01;31m\u001b[Knumbers\u001b[m\u001b[K[i];                           //n\n",
            "      |                     \u001b[01;31m\u001b[K^~~~~~~\u001b[m\u001b[K\n",
            "\u001b[01m\u001b[Kmax_pairwise_product_long_efficient.cpp:33:10:\u001b[m\u001b[K \u001b[01;31m\u001b[Kerror: \u001b[m\u001b[K‘\u001b[01m\u001b[Kcout\u001b[m\u001b[K’ is not a member of ‘\u001b[01m\u001b[Kstd\u001b[m\u001b[K’\n",
            "   33 |     std::\u001b[01;31m\u001b[Kcout\u001b[m\u001b[K << MaxPairwiseProduct(numbers) << \"\\n\";\n",
            "      |          \u001b[01;31m\u001b[K^~~~\u001b[m\u001b[K\n",
            "\u001b[01m\u001b[Kmax_pairwise_product_long_efficient.cpp:33:10:\u001b[m\u001b[K \u001b[01;36m\u001b[Knote: \u001b[m\u001b[K‘\u001b[01m\u001b[Kstd::cout\u001b[m\u001b[K’ is defined in header ‘\u001b[01m\u001b[K<iostream>\u001b[m\u001b[K’; did you forget to ‘\u001b[01m\u001b[K#include <iostream>\u001b[m\u001b[K’?\n",
            "\u001b[01m\u001b[Kmax_pairwise_product_long_efficient.cpp:33:37:\u001b[m\u001b[K \u001b[01;31m\u001b[Kerror: \u001b[m\u001b[K‘\u001b[01m\u001b[Knumbers\u001b[m\u001b[K’ was not declared in this scope\n",
            "   33 |     std::cout << MaxPairwiseProduct(\u001b[01;31m\u001b[Knumbers\u001b[m\u001b[K) << \"\\n\";\n",
            "      |                                     \u001b[01;31m\u001b[K^~~~~~~\u001b[m\u001b[K\n"
          ]
        }
      ]
    },
    {
      "cell_type": "code",
      "source": [
        "%%writefile max_pairwise_product_efficient.py\n",
        "#Python3\n",
        "def max_pairwise_product(lista):\n",
        "    n_major = 0\n",
        "    n_major_2 = 0\n",
        "    max_product = 0\n",
        "    for i in lista:\n",
        "        if i > n_major:\n",
        "            n_major_2=n_major\n",
        "            n_major = i\n",
        "        elif i > n_major_2:\n",
        "            n_major_2=i\n",
        "    max_product = n_major_2 * n_major\n",
        "\n",
        "    return max_product\n",
        "\n",
        "if __name__ == \"__main__\":\n",
        "    n = int(input())\n",
        "    lista = list(map(int, input().split()))\n",
        "    print(max_pairwise_product(lista))"
      ],
      "metadata": {
        "id": "apKBOusSsCYT",
        "outputId": "fbcec966-12e1-4273-85cc-2856e06fe253",
        "colab": {
          "base_uri": "https://localhost:8080/"
        }
      },
      "execution_count": 144,
      "outputs": [
        {
          "output_type": "stream",
          "name": "stdout",
          "text": [
            "Writing max_pairwise_product_efficient.py\n"
          ]
        }
      ]
    },
    {
      "cell_type": "markdown",
      "metadata": {
        "id": "-JCijbWxNSii"
      },
      "source": [
        "Test with inputs 1 and 2\n",
        "\n"
      ]
    },
    {
      "cell_type": "code",
      "execution_count": 145,
      "metadata": {
        "id": "TrTGAfqlNVXT",
        "outputId": "ce5bae1b-8215-4bed-bf44-fecebf0d1498",
        "colab": {
          "base_uri": "https://localhost:8080/"
        }
      },
      "outputs": [
        {
          "output_type": "stream",
          "name": "stdout",
          "text": [
            "/bin/bash: line 1: ./max_pairwise_product_long_efficient: No such file or directory\n",
            "/bin/bash: line 1: ./max_pairwise_product_long_efficient: No such file or directory\n"
          ]
        }
      ],
      "source": [
        "!./max_pairwise_product_long_efficient < input1.txt\n",
        "!./max_pairwise_product_long_efficient < input2.txt"
      ]
    },
    {
      "cell_type": "code",
      "source": [
        "!python max_pairwise_product_efficient.py < input1.txt\n",
        "!python max_pairwise_product_efficient.py < input2.txt"
      ],
      "metadata": {
        "id": "HXrlJSlMsj6u",
        "outputId": "e8f6a70a-53d2-43e0-fdef-4a1e46236704",
        "colab": {
          "base_uri": "https://localhost:8080/"
        }
      },
      "execution_count": 147,
      "outputs": [
        {
          "output_type": "stream",
          "name": "stdout",
          "text": [
            "90\n",
            "90\n"
          ]
        }
      ]
    },
    {
      "cell_type": "markdown",
      "metadata": {
        "id": "PRX51wADNR8b"
      },
      "source": [
        "Test and time it with input 3"
      ]
    },
    {
      "cell_type": "code",
      "execution_count": 148,
      "metadata": {
        "id": "v4z7-Is_NRt7",
        "outputId": "4cc247f4-bcd3-4ea2-e734-40d44bd3bba2",
        "colab": {
          "base_uri": "https://localhost:8080/"
        }
      },
      "outputs": [
        {
          "output_type": "stream",
          "name": "stdout",
          "text": [
            "40000000000\n",
            "CPU times: user 4.63 ms, sys: 1.9 ms, total: 6.52 ms\n",
            "Wall time: 107 ms\n"
          ]
        }
      ],
      "source": [
        "%%time\n",
        "!python max_pairwise_product_efficient.py < input3.txt"
      ]
    },
    {
      "cell_type": "code",
      "source": [
        "!time ./max_pairwise_product_long_efficient < input3.txt"
      ],
      "metadata": {
        "id": "3bZZKIr9srqS",
        "outputId": "50e40fe6-0e00-4d18-fe6a-1d51755420e2",
        "colab": {
          "base_uri": "https://localhost:8080/"
        }
      },
      "execution_count": 149,
      "outputs": [
        {
          "output_type": "stream",
          "name": "stdout",
          "text": [
            "/bin/bash: line 1: ./max_pairwise_product_long_efficient: No such file or directory\n",
            "\n",
            "real\t0m0.001s\n",
            "user\t0m0.001s\n",
            "sys\t0m0.000s\n"
          ]
        }
      ]
    },
    {
      "cell_type": "markdown",
      "metadata": {
        "id": "rpdfs0_TNZJf"
      },
      "source": [
        "20 stress tests"
      ]
    },
    {
      "cell_type": "code",
      "execution_count": 150,
      "metadata": {
        "id": "Lu4tYcKzNcTT",
        "outputId": "35a2d412-84bc-4cae-a627-cf4ce18b9a00",
        "colab": {
          "base_uri": "https://localhost:8080/"
        }
      },
      "outputs": [
        {
          "output_type": "stream",
          "name": "stdout",
          "text": [
            "Writing max_pairwise_product_long_efficient_stress_test.cpp\n"
          ]
        }
      ],
      "source": [
        "%%writefile max_pairwise_product_long_efficient_stress_test.cpp\n",
        "#include\n",
        "#include\n",
        "#include\n",
        "#include\n",
        "\n",
        "long long MaxPairwiseProduct(const std::vector& numbers) {\n",
        "    long long max_product = 0LL;                                             //1\n",
        "\t  long long n_major = 0LL;\n",
        "    long long n_major_2 = 0LL;                                             //1\n",
        "    int n = numbers.size();                                                  //1\n",
        "\n",
        "    for(int i = 0; i < n; ++i) {                   //1 + 2n\n",
        "      if (numbers[i] > n_major){\n",
        "        n_major_2 = n_major ;                //n\n",
        "        n_major = numbers[i];\n",
        "      }\n",
        "      else if (numbers[i] > n_major_2){                   //n\n",
        "        n_major_2 = numbers[i];                    //[0, n]\n",
        "\n",
        "      }\n",
        "    }\n",
        "    max_product=n_major*n_major_2;                                                                          // --------------\n",
        "    return max_product;\n",
        "}\n",
        "\n",
        "int main() {\n",
        "    std::random_device rd;\n",
        "    std::mt19937 gen(rd());\n",
        "    std::uniform_int_distribution n_dist(2, 19);\n",
        "    std::uniform_int_distribution num_dist(0, 25000);\n",
        "    int n;                                                //1\n",
        "    std::vector numbers(n);                          //n\n",
        "    for (int i = 0; i < 20; ++i ){\n",
        "      int n = n_dist(gen);                              //1\n",
        "      std::vector numbers(n);                          //n\n",
        "      for (int i = 0; i < n; ++i) {                         //1 + 2n\n",
        "        numbers[i]= num_dist(gen);                           //n\n",
        "      }\n",
        "      std::cout << \"n= \"<< n << \" Product= \" << MaxPairwiseProduct(numbers) << \"\\n\";\n",
        "    }\n",
        "    return 0;\n",
        "}"
      ]
    },
    {
      "cell_type": "code",
      "source": [
        "!g++ max_pairwise_product_long_efficient_stress_test.cpp -o max_pairwise_product_long_efficient_stress_test\n",
        "!./max_pairwise_product_long_efficient_stress_test"
      ],
      "metadata": {
        "id": "G6in1D_cs8OI",
        "outputId": "fcf32811-9ddb-456e-fe95-345ce8f1b7a8",
        "colab": {
          "base_uri": "https://localhost:8080/"
        }
      },
      "execution_count": 151,
      "outputs": [
        {
          "output_type": "stream",
          "name": "stdout",
          "text": [
            "\u001b[01m\u001b[Kmax_pairwise_product_long_efficient_stress_test.cpp:1:10:\u001b[m\u001b[K \u001b[01;31m\u001b[Kerror: \u001b[m\u001b[K#include expects \"FILENAME\" or <FILENAME>\n",
            "    1 | #include\n",
            "      |          \u001b[01;31m\u001b[K^\u001b[m\u001b[K\n",
            "\u001b[01m\u001b[Kmax_pairwise_product_long_efficient_stress_test.cpp:2:10:\u001b[m\u001b[K \u001b[01;31m\u001b[Kerror: \u001b[m\u001b[K#include expects \"FILENAME\" or <FILENAME>\n",
            "    2 | #include\n",
            "      |          \u001b[01;31m\u001b[K^\u001b[m\u001b[K\n",
            "\u001b[01m\u001b[Kmax_pairwise_product_long_efficient_stress_test.cpp:3:10:\u001b[m\u001b[K \u001b[01;31m\u001b[Kerror: \u001b[m\u001b[K#include expects \"FILENAME\" or <FILENAME>\n",
            "    3 | #include\n",
            "      |          \u001b[01;31m\u001b[K^\u001b[m\u001b[K\n",
            "\u001b[01m\u001b[Kmax_pairwise_product_long_efficient_stress_test.cpp:4:10:\u001b[m\u001b[K \u001b[01;31m\u001b[Kerror: \u001b[m\u001b[K#include expects \"FILENAME\" or <FILENAME>\n",
            "    4 | #include\n",
            "      |          \u001b[01;31m\u001b[K^\u001b[m\u001b[K\n",
            "\u001b[01m\u001b[Kmax_pairwise_product_long_efficient_stress_test.cpp:6:41:\u001b[m\u001b[K \u001b[01;31m\u001b[Kerror: \u001b[m\u001b[K‘\u001b[01m\u001b[Kvector\u001b[m\u001b[K’ in namespace ‘\u001b[01m\u001b[Kstd\u001b[m\u001b[K’ does not name a type\n",
            "    6 | long long MaxPairwiseProduct(const std::\u001b[01;31m\u001b[Kvector\u001b[m\u001b[K& numbers) {\n",
            "      |                                         \u001b[01;31m\u001b[K^~~~~~\u001b[m\u001b[K\n",
            "\u001b[01m\u001b[Kmax_pairwise_product_long_efficient_stress_test.cpp:1:1:\u001b[m\u001b[K \u001b[01;36m\u001b[Knote: \u001b[m\u001b[K‘\u001b[01m\u001b[Kstd::vector\u001b[m\u001b[K’ is defined in header ‘\u001b[01m\u001b[K<vector>\u001b[m\u001b[K’; did you forget to ‘\u001b[01m\u001b[K#include <vector>\u001b[m\u001b[K’?\n",
            "  +++ |+\u001b[32m\u001b[K#include <vector>\u001b[m\u001b[K\n",
            "    1 | #include\n",
            "\u001b[01m\u001b[Kmax_pairwise_product_long_efficient_stress_test.cpp:\u001b[m\u001b[K In function ‘\u001b[01m\u001b[Klong long int MaxPairwiseProduct(const int&)\u001b[m\u001b[K’:\n",
            "\u001b[01m\u001b[Kmax_pairwise_product_long_efficient_stress_test.cpp:10:21:\u001b[m\u001b[K \u001b[01;31m\u001b[Kerror: \u001b[m\u001b[Krequest for member ‘\u001b[01m\u001b[Ksize\u001b[m\u001b[K’ in ‘\u001b[01m\u001b[Knumbers\u001b[m\u001b[K’, which is of non-class type ‘\u001b[01m\u001b[Kconst int\u001b[m\u001b[K’\n",
            "   10 |     int n = numbers.\u001b[01;31m\u001b[Ksize\u001b[m\u001b[K();                                                  //1\n",
            "      |                     \u001b[01;31m\u001b[K^~~~\u001b[m\u001b[K\n",
            "\u001b[01m\u001b[Kmax_pairwise_product_long_efficient_stress_test.cpp:13:18:\u001b[m\u001b[K \u001b[01;31m\u001b[Kerror: \u001b[m\u001b[Kinvalid types ‘\u001b[01m\u001b[Kconst int[int]\u001b[m\u001b[K’ for array subscript\n",
            "   13 |       if (numbers\u001b[01;31m\u001b[K[\u001b[m\u001b[Ki] > n_major){\n",
            "      |                  \u001b[01;31m\u001b[K^\u001b[m\u001b[K\n",
            "\u001b[01m\u001b[Kmax_pairwise_product_long_efficient_stress_test.cpp:15:26:\u001b[m\u001b[K \u001b[01;31m\u001b[Kerror: \u001b[m\u001b[Kinvalid types ‘\u001b[01m\u001b[Kconst int[int]\u001b[m\u001b[K’ for array subscript\n",
            "   15 |         n_major = numbers\u001b[01;31m\u001b[K[\u001b[m\u001b[Ki];\n",
            "      |                          \u001b[01;31m\u001b[K^\u001b[m\u001b[K\n",
            "\u001b[01m\u001b[Kmax_pairwise_product_long_efficient_stress_test.cpp:17:23:\u001b[m\u001b[K \u001b[01;31m\u001b[Kerror: \u001b[m\u001b[Kinvalid types ‘\u001b[01m\u001b[Kconst int[int]\u001b[m\u001b[K’ for array subscript\n",
            "   17 |       else if (numbers\u001b[01;31m\u001b[K[\u001b[m\u001b[Ki] > n_major_2){                   //n\n",
            "      |                       \u001b[01;31m\u001b[K^\u001b[m\u001b[K\n",
            "\u001b[01m\u001b[Kmax_pairwise_product_long_efficient_stress_test.cpp:18:28:\u001b[m\u001b[K \u001b[01;31m\u001b[Kerror: \u001b[m\u001b[Kinvalid types ‘\u001b[01m\u001b[Kconst int[int]\u001b[m\u001b[K’ for array subscript\n",
            "   18 |         n_major_2 = numbers\u001b[01;31m\u001b[K[\u001b[m\u001b[Ki];                    //[0, n]\n",
            "      |                            \u001b[01;31m\u001b[K^\u001b[m\u001b[K\n",
            "\u001b[01m\u001b[Kmax_pairwise_product_long_efficient_stress_test.cpp:\u001b[m\u001b[K In function ‘\u001b[01m\u001b[Kint main()\u001b[m\u001b[K’:\n",
            "\u001b[01m\u001b[Kmax_pairwise_product_long_efficient_stress_test.cpp:27:10:\u001b[m\u001b[K \u001b[01;31m\u001b[Kerror: \u001b[m\u001b[K‘\u001b[01m\u001b[Krandom_device\u001b[m\u001b[K’ is not a member of ‘\u001b[01m\u001b[Kstd\u001b[m\u001b[K’\n",
            "   27 |     std::\u001b[01;31m\u001b[Krandom_device\u001b[m\u001b[K rd;\n",
            "      |          \u001b[01;31m\u001b[K^~~~~~~~~~~~~\u001b[m\u001b[K\n",
            "\u001b[01m\u001b[Kmax_pairwise_product_long_efficient_stress_test.cpp:28:10:\u001b[m\u001b[K \u001b[01;31m\u001b[Kerror: \u001b[m\u001b[K‘\u001b[01m\u001b[Kmt19937\u001b[m\u001b[K’ is not a member of ‘\u001b[01m\u001b[Kstd\u001b[m\u001b[K’\n",
            "   28 |     std::\u001b[01;31m\u001b[Kmt19937\u001b[m\u001b[K gen(rd());\n",
            "      |          \u001b[01;31m\u001b[K^~~~~~~\u001b[m\u001b[K\n",
            "\u001b[01m\u001b[Kmax_pairwise_product_long_efficient_stress_test.cpp:29:10:\u001b[m\u001b[K \u001b[01;31m\u001b[Kerror: \u001b[m\u001b[K‘\u001b[01m\u001b[Kuniform_int_distribution\u001b[m\u001b[K’ is not a member of ‘\u001b[01m\u001b[Kstd\u001b[m\u001b[K’\n",
            "   29 |     std::\u001b[01;31m\u001b[Kuniform_int_distribution\u001b[m\u001b[K n_dist(2, 19);\n",
            "      |          \u001b[01;31m\u001b[K^~~~~~~~~~~~~~~~~~~~~~~~\u001b[m\u001b[K\n",
            "\u001b[01m\u001b[Kmax_pairwise_product_long_efficient_stress_test.cpp:30:10:\u001b[m\u001b[K \u001b[01;31m\u001b[Kerror: \u001b[m\u001b[K‘\u001b[01m\u001b[Kuniform_int_distribution\u001b[m\u001b[K’ is not a member of ‘\u001b[01m\u001b[Kstd\u001b[m\u001b[K’\n",
            "   30 |     std::\u001b[01;31m\u001b[Kuniform_int_distribution\u001b[m\u001b[K num_dist(0, 25000);\n",
            "      |          \u001b[01;31m\u001b[K^~~~~~~~~~~~~~~~~~~~~~~~\u001b[m\u001b[K\n",
            "\u001b[01m\u001b[Kmax_pairwise_product_long_efficient_stress_test.cpp:32:10:\u001b[m\u001b[K \u001b[01;31m\u001b[Kerror: \u001b[m\u001b[K‘\u001b[01m\u001b[Kvector\u001b[m\u001b[K’ is not a member of ‘\u001b[01m\u001b[Kstd\u001b[m\u001b[K’\n",
            "   32 |     std::\u001b[01;31m\u001b[Kvector\u001b[m\u001b[K numbers(n);                          //n\n",
            "      |          \u001b[01;31m\u001b[K^~~~~~\u001b[m\u001b[K\n",
            "\u001b[01m\u001b[Kmax_pairwise_product_long_efficient_stress_test.cpp:32:10:\u001b[m\u001b[K \u001b[01;36m\u001b[Knote: \u001b[m\u001b[K‘\u001b[01m\u001b[Kstd::vector\u001b[m\u001b[K’ is defined in header ‘\u001b[01m\u001b[K<vector>\u001b[m\u001b[K’; did you forget to ‘\u001b[01m\u001b[K#include <vector>\u001b[m\u001b[K’?\n",
            "\u001b[01m\u001b[Kmax_pairwise_product_long_efficient_stress_test.cpp:34:22:\u001b[m\u001b[K \u001b[01;31m\u001b[Kerror: \u001b[m\u001b[K‘\u001b[01m\u001b[Kgen\u001b[m\u001b[K’ was not declared in this scope\n",
            "   34 |       int n = n_dist(\u001b[01;31m\u001b[Kgen\u001b[m\u001b[K);                              //1\n",
            "      |                      \u001b[01;31m\u001b[K^~~\u001b[m\u001b[K\n",
            "\u001b[01m\u001b[Kmax_pairwise_product_long_efficient_stress_test.cpp:34:15:\u001b[m\u001b[K \u001b[01;31m\u001b[Kerror: \u001b[m\u001b[K‘\u001b[01m\u001b[Kn_dist\u001b[m\u001b[K’ was not declared in this scope\n",
            "   34 |       int n = \u001b[01;31m\u001b[Kn_dist\u001b[m\u001b[K(gen);                              //1\n",
            "      |               \u001b[01;31m\u001b[K^~~~~~\u001b[m\u001b[K\n",
            "\u001b[01m\u001b[Kmax_pairwise_product_long_efficient_stress_test.cpp:35:12:\u001b[m\u001b[K \u001b[01;31m\u001b[Kerror: \u001b[m\u001b[K‘\u001b[01m\u001b[Kvector\u001b[m\u001b[K’ is not a member of ‘\u001b[01m\u001b[Kstd\u001b[m\u001b[K’\n",
            "   35 |       std::\u001b[01;31m\u001b[Kvector\u001b[m\u001b[K numbers(n);                          //n\n",
            "      |            \u001b[01;31m\u001b[K^~~~~~\u001b[m\u001b[K\n",
            "\u001b[01m\u001b[Kmax_pairwise_product_long_efficient_stress_test.cpp:35:12:\u001b[m\u001b[K \u001b[01;36m\u001b[Knote: \u001b[m\u001b[K‘\u001b[01m\u001b[Kstd::vector\u001b[m\u001b[K’ is defined in header ‘\u001b[01m\u001b[K<vector>\u001b[m\u001b[K’; did you forget to ‘\u001b[01m\u001b[K#include <vector>\u001b[m\u001b[K’?\n",
            "\u001b[01m\u001b[Kmax_pairwise_product_long_efficient_stress_test.cpp:37:9:\u001b[m\u001b[K \u001b[01;31m\u001b[Kerror: \u001b[m\u001b[K‘\u001b[01m\u001b[Knumbers\u001b[m\u001b[K’ was not declared in this scope\n",
            "   37 |         \u001b[01;31m\u001b[Knumbers\u001b[m\u001b[K[i]= num_dist(gen);                           //n\n",
            "      |         \u001b[01;31m\u001b[K^~~~~~~\u001b[m\u001b[K\n",
            "\u001b[01m\u001b[Kmax_pairwise_product_long_efficient_stress_test.cpp:37:21:\u001b[m\u001b[K \u001b[01;31m\u001b[Kerror: \u001b[m\u001b[K‘\u001b[01m\u001b[Knum_dist\u001b[m\u001b[K’ was not declared in this scope\n",
            "   37 |         numbers[i]= \u001b[01;31m\u001b[Knum_dist\u001b[m\u001b[K(gen);                           //n\n",
            "      |                     \u001b[01;31m\u001b[K^~~~~~~~\u001b[m\u001b[K\n",
            "\u001b[01m\u001b[Kmax_pairwise_product_long_efficient_stress_test.cpp:39:12:\u001b[m\u001b[K \u001b[01;31m\u001b[Kerror: \u001b[m\u001b[K‘\u001b[01m\u001b[Kcout\u001b[m\u001b[K’ is not a member of ‘\u001b[01m\u001b[Kstd\u001b[m\u001b[K’\n",
            "   39 |       std::\u001b[01;31m\u001b[Kcout\u001b[m\u001b[K << \"n= \"<< n << \" Product= \" << MaxPairwiseProduct(numbers) << \"\\n\";\n",
            "      |            \u001b[01;31m\u001b[K^~~~\u001b[m\u001b[K\n",
            "\u001b[01m\u001b[Kmax_pairwise_product_long_efficient_stress_test.cpp:1:1:\u001b[m\u001b[K \u001b[01;36m\u001b[Knote: \u001b[m\u001b[K‘\u001b[01m\u001b[Kstd::cout\u001b[m\u001b[K’ is defined in header ‘\u001b[01m\u001b[K<iostream>\u001b[m\u001b[K’; did you forget to ‘\u001b[01m\u001b[K#include <iostream>\u001b[m\u001b[K’?\n",
            "  +++ |+\u001b[32m\u001b[K#include <iostream>\u001b[m\u001b[K\n",
            "    1 | #include\n",
            "\u001b[01m\u001b[Kmax_pairwise_product_long_efficient_stress_test.cpp:39:68:\u001b[m\u001b[K \u001b[01;31m\u001b[Kerror: \u001b[m\u001b[K‘\u001b[01m\u001b[Knumbers\u001b[m\u001b[K’ was not declared in this scope\n",
            "   39 |       std::cout << \"n= \"<< n << \" Product= \" << MaxPairwiseProduct(\u001b[01;31m\u001b[Knumbers\u001b[m\u001b[K) << \"\\n\";\n",
            "      |                                                                    \u001b[01;31m\u001b[K^~~~~~~\u001b[m\u001b[K\n",
            "/bin/bash: line 1: ./max_pairwise_product_long_efficient_stress_test: No such file or directory\n"
          ]
        }
      ]
    },
    {
      "cell_type": "code",
      "source": [
        "%%writefile max_pairwise_product_efficient_stress_tests.py\n",
        "#Python3\n",
        "import random\n",
        "def max_pairwise_product(lista):\n",
        "    n_major = 0\n",
        "    n_major_2 = 0\n",
        "    max_product = 0\n",
        "    for i in lista:\n",
        "        if i > n_major:\n",
        "            n_major_2=n_major\n",
        "            n_major = i\n",
        "        elif i > n_major_2:\n",
        "            n_major_2=i\n",
        "    max_product = n_major_2 * n_major\n",
        "\n",
        "    return max_product\n",
        "\n",
        "if __name__ == \"__main__\":\n",
        "    for i in range(20):\n",
        "      n = random.randint(2, 19)\n",
        "      lista = [random.randint(17, 25631) for i in range(n)]\n",
        "      print(f\"n=  {n}   Product= {max_pairwise_product(lista)}\")"
      ],
      "metadata": {
        "id": "NT3sy33HtGUb",
        "outputId": "eda10bb3-455d-440a-a6a4-0b1406892853",
        "colab": {
          "base_uri": "https://localhost:8080/"
        }
      },
      "execution_count": 153,
      "outputs": [
        {
          "output_type": "stream",
          "name": "stdout",
          "text": [
            "Overwriting max_pairwise_product_efficient_stress_tests.py\n"
          ]
        }
      ]
    },
    {
      "cell_type": "code",
      "source": [
        "!python max_pairwise_product_efficient_stress_tests.py"
      ],
      "metadata": {
        "id": "PhcRE7hktP8J",
        "outputId": "ce4a3139-d80a-4f00-824c-a115c5fcfd9f",
        "colab": {
          "base_uri": "https://localhost:8080/"
        }
      },
      "execution_count": 154,
      "outputs": [
        {
          "output_type": "stream",
          "name": "stdout",
          "text": [
            "n=  18   Product= 431322144\n",
            "n=  4   Product= 534855104\n",
            "n=  15   Product= 472352348\n",
            "n=  11   Product= 509294610\n",
            "n=  4   Product= 475166000\n",
            "n=  7   Product= 368063955\n",
            "n=  14   Product= 504208656\n",
            "n=  10   Product= 458005436\n",
            "n=  15   Product= 616776620\n",
            "n=  11   Product= 580309757\n",
            "n=  13   Product= 596517194\n",
            "n=  16   Product= 357885428\n",
            "n=  2   Product= 30563669\n",
            "n=  8   Product= 364508276\n",
            "n=  12   Product= 649049190\n",
            "n=  6   Product= 467920245\n",
            "n=  15   Product= 633305652\n",
            "n=  16   Product= 556935300\n",
            "n=  5   Product= 108895840\n",
            "n=  12   Product= 343762265\n"
          ]
        }
      ]
    },
    {
      "cell_type": "markdown",
      "metadata": {
        "id": "L8U4151JNbxk"
      },
      "source": [
        "Count executed instructions in code and verify with inputs 1,2 and 3\n"
      ]
    },
    {
      "cell_type": "code",
      "execution_count": 155,
      "metadata": {
        "id": "dh85RM8vNhFz",
        "outputId": "af1933ed-0745-41ee-cf88-c8fd7bef8681",
        "colab": {
          "base_uri": "https://localhost:8080/"
        }
      },
      "outputs": [
        {
          "output_type": "stream",
          "name": "stdout",
          "text": [
            "Writing max_pairwise_product_long_efficient_and_instructions.cpp\n"
          ]
        }
      ],
      "source": [
        "%%writefile max_pairwise_product_long_efficient_and_instructions.cpp\n",
        "#include\n",
        "#include\n",
        "#include\n",
        "\n",
        "long long inst= 0LL;\n",
        "\n",
        "long long MaxPairwiseProduct(const std::vector& numbers) {\n",
        "    long long max_product = 0LL;                                             //1\n",
        "    inst++;\n",
        "\t  long long n_major = 0LL;\n",
        "    inst++;\n",
        "    long long n_major_2 = 0LL;                                             //1\n",
        "    inst++;\n",
        "    int n = numbers.size();                                                  //1\n",
        "    inst++;\n",
        "    inst++;\n",
        "    for(int i = 0; i < n; ++i) {                   //1 + 2n\n",
        "      inst+=2;\n",
        "      inst++;\n",
        "      if (numbers[i] > n_major){\n",
        "        inst++;\n",
        "        n_major_2 = n_major ;                //n\n",
        "        inst++;\n",
        "        n_major = numbers[i];\n",
        "        inst++;\n",
        "      }\n",
        "      else if (numbers[i] > n_major_2){\n",
        "        inst++;\n",
        "        n_major_2 = numbers[i];                    //[0, n]\n",
        "        inst++;\n",
        "        inst++;\n",
        "      }\n",
        "    }\n",
        "    max_product=n_major*n_major_2;\n",
        "    inst++;                                                                         // --------------\n",
        "    return max_product;\n",
        "}\n",
        "int main() {\n",
        "    int n;                                                //1\n",
        "    inst++;\n",
        "    std::cin >> n;                                        //1\n",
        "    inst++;\n",
        "    std::vector numbers(n);                          //n\n",
        "    inst++;\n",
        "    inst++;\n",
        "    for (int i = 0; i < n; ++i) {                         //1 + 2n\n",
        "        std::cin >> numbers[i];                           //n\n",
        "    }\n",
        "    inst+=n;\n",
        "\n",
        "    std::cout << MaxPairwiseProduct(numbers) << \"\\n\";\n",
        "    inst++;\n",
        "    std::cout <<\"Numero de instrucciones: \"<< inst << \"\\n\";\n",
        "    return 0;\n",
        "}"
      ]
    },
    {
      "cell_type": "code",
      "source": [
        "!g++ max_pairwise_product_long_efficient_and_instructions.cpp -o max_pairwise_product_long_efficient_and_instructions"
      ],
      "metadata": {
        "id": "u8docGHptlrI",
        "outputId": "16bc698c-2359-4c8a-e39a-f719ef23c752",
        "colab": {
          "base_uri": "https://localhost:8080/"
        }
      },
      "execution_count": 156,
      "outputs": [
        {
          "output_type": "stream",
          "name": "stdout",
          "text": [
            "\u001b[01m\u001b[Kmax_pairwise_product_long_efficient_and_instructions.cpp:1:10:\u001b[m\u001b[K \u001b[01;31m\u001b[Kerror: \u001b[m\u001b[K#include expects \"FILENAME\" or <FILENAME>\n",
            "    1 | #include\n",
            "      |          \u001b[01;31m\u001b[K^\u001b[m\u001b[K\n",
            "\u001b[01m\u001b[Kmax_pairwise_product_long_efficient_and_instructions.cpp:2:10:\u001b[m\u001b[K \u001b[01;31m\u001b[Kerror: \u001b[m\u001b[K#include expects \"FILENAME\" or <FILENAME>\n",
            "    2 | #include\n",
            "      |          \u001b[01;31m\u001b[K^\u001b[m\u001b[K\n",
            "\u001b[01m\u001b[Kmax_pairwise_product_long_efficient_and_instructions.cpp:3:10:\u001b[m\u001b[K \u001b[01;31m\u001b[Kerror: \u001b[m\u001b[K#include expects \"FILENAME\" or <FILENAME>\n",
            "    3 | #include\n",
            "      |          \u001b[01;31m\u001b[K^\u001b[m\u001b[K\n",
            "\u001b[01m\u001b[Kmax_pairwise_product_long_efficient_and_instructions.cpp:7:41:\u001b[m\u001b[K \u001b[01;31m\u001b[Kerror: \u001b[m\u001b[K‘\u001b[01m\u001b[Kvector\u001b[m\u001b[K’ in namespace ‘\u001b[01m\u001b[Kstd\u001b[m\u001b[K’ does not name a type\n",
            "    7 | long long MaxPairwiseProduct(const std::\u001b[01;31m\u001b[Kvector\u001b[m\u001b[K& numbers) {\n",
            "      |                                         \u001b[01;31m\u001b[K^~~~~~\u001b[m\u001b[K\n",
            "\u001b[01m\u001b[Kmax_pairwise_product_long_efficient_and_instructions.cpp:1:1:\u001b[m\u001b[K \u001b[01;36m\u001b[Knote: \u001b[m\u001b[K‘\u001b[01m\u001b[Kstd::vector\u001b[m\u001b[K’ is defined in header ‘\u001b[01m\u001b[K<vector>\u001b[m\u001b[K’; did you forget to ‘\u001b[01m\u001b[K#include <vector>\u001b[m\u001b[K’?\n",
            "  +++ |+\u001b[32m\u001b[K#include <vector>\u001b[m\u001b[K\n",
            "    1 | #include\n",
            "\u001b[01m\u001b[Kmax_pairwise_product_long_efficient_and_instructions.cpp:\u001b[m\u001b[K In function ‘\u001b[01m\u001b[Klong long int MaxPairwiseProduct(const int&)\u001b[m\u001b[K’:\n",
            "\u001b[01m\u001b[Kmax_pairwise_product_long_efficient_and_instructions.cpp:14:21:\u001b[m\u001b[K \u001b[01;31m\u001b[Kerror: \u001b[m\u001b[Krequest for member ‘\u001b[01m\u001b[Ksize\u001b[m\u001b[K’ in ‘\u001b[01m\u001b[Knumbers\u001b[m\u001b[K’, which is of non-class type ‘\u001b[01m\u001b[Kconst int\u001b[m\u001b[K’\n",
            "   14 |     int n = numbers.\u001b[01;31m\u001b[Ksize\u001b[m\u001b[K();                                                  //1\n",
            "      |                     \u001b[01;31m\u001b[K^~~~\u001b[m\u001b[K\n",
            "\u001b[01m\u001b[Kmax_pairwise_product_long_efficient_and_instructions.cpp:20:18:\u001b[m\u001b[K \u001b[01;31m\u001b[Kerror: \u001b[m\u001b[Kinvalid types ‘\u001b[01m\u001b[Kconst int[int]\u001b[m\u001b[K’ for array subscript\n",
            "   20 |       if (numbers\u001b[01;31m\u001b[K[\u001b[m\u001b[Ki] > n_major){\n",
            "      |                  \u001b[01;31m\u001b[K^\u001b[m\u001b[K\n",
            "\u001b[01m\u001b[Kmax_pairwise_product_long_efficient_and_instructions.cpp:24:26:\u001b[m\u001b[K \u001b[01;31m\u001b[Kerror: \u001b[m\u001b[Kinvalid types ‘\u001b[01m\u001b[Kconst int[int]\u001b[m\u001b[K’ for array subscript\n",
            "   24 |         n_major = numbers\u001b[01;31m\u001b[K[\u001b[m\u001b[Ki];\n",
            "      |                          \u001b[01;31m\u001b[K^\u001b[m\u001b[K\n",
            "\u001b[01m\u001b[Kmax_pairwise_product_long_efficient_and_instructions.cpp:27:23:\u001b[m\u001b[K \u001b[01;31m\u001b[Kerror: \u001b[m\u001b[Kinvalid types ‘\u001b[01m\u001b[Kconst int[int]\u001b[m\u001b[K’ for array subscript\n",
            "   27 |       else if (numbers\u001b[01;31m\u001b[K[\u001b[m\u001b[Ki] > n_major_2){\n",
            "      |                       \u001b[01;31m\u001b[K^\u001b[m\u001b[K\n",
            "\u001b[01m\u001b[Kmax_pairwise_product_long_efficient_and_instructions.cpp:29:28:\u001b[m\u001b[K \u001b[01;31m\u001b[Kerror: \u001b[m\u001b[Kinvalid types ‘\u001b[01m\u001b[Kconst int[int]\u001b[m\u001b[K’ for array subscript\n",
            "   29 |         n_major_2 = numbers\u001b[01;31m\u001b[K[\u001b[m\u001b[Ki];                    //[0, n]\n",
            "      |                            \u001b[01;31m\u001b[K^\u001b[m\u001b[K\n",
            "\u001b[01m\u001b[Kmax_pairwise_product_long_efficient_and_instructions.cpp:\u001b[m\u001b[K In function ‘\u001b[01m\u001b[Kint main()\u001b[m\u001b[K’:\n",
            "\u001b[01m\u001b[Kmax_pairwise_product_long_efficient_and_instructions.cpp:41:10:\u001b[m\u001b[K \u001b[01;31m\u001b[Kerror: \u001b[m\u001b[K‘\u001b[01m\u001b[Kcin\u001b[m\u001b[K’ is not a member of ‘\u001b[01m\u001b[Kstd\u001b[m\u001b[K’\n",
            "   41 |     std::\u001b[01;31m\u001b[Kcin\u001b[m\u001b[K >> n;                                        //1\n",
            "      |          \u001b[01;31m\u001b[K^~~\u001b[m\u001b[K\n",
            "\u001b[01m\u001b[Kmax_pairwise_product_long_efficient_and_instructions.cpp:1:1:\u001b[m\u001b[K \u001b[01;36m\u001b[Knote: \u001b[m\u001b[K‘\u001b[01m\u001b[Kstd::cin\u001b[m\u001b[K’ is defined in header ‘\u001b[01m\u001b[K<iostream>\u001b[m\u001b[K’; did you forget to ‘\u001b[01m\u001b[K#include <iostream>\u001b[m\u001b[K’?\n",
            "  +++ |+\u001b[32m\u001b[K#include <iostream>\u001b[m\u001b[K\n",
            "    1 | #include\n",
            "\u001b[01m\u001b[Kmax_pairwise_product_long_efficient_and_instructions.cpp:43:10:\u001b[m\u001b[K \u001b[01;31m\u001b[Kerror: \u001b[m\u001b[K‘\u001b[01m\u001b[Kvector\u001b[m\u001b[K’ is not a member of ‘\u001b[01m\u001b[Kstd\u001b[m\u001b[K’\n",
            "   43 |     std::\u001b[01;31m\u001b[Kvector\u001b[m\u001b[K numbers(n);                          //n\n",
            "      |          \u001b[01;31m\u001b[K^~~~~~\u001b[m\u001b[K\n",
            "\u001b[01m\u001b[Kmax_pairwise_product_long_efficient_and_instructions.cpp:43:10:\u001b[m\u001b[K \u001b[01;36m\u001b[Knote: \u001b[m\u001b[K‘\u001b[01m\u001b[Kstd::vector\u001b[m\u001b[K’ is defined in header ‘\u001b[01m\u001b[K<vector>\u001b[m\u001b[K’; did you forget to ‘\u001b[01m\u001b[K#include <vector>\u001b[m\u001b[K’?\n",
            "\u001b[01m\u001b[Kmax_pairwise_product_long_efficient_and_instructions.cpp:47:14:\u001b[m\u001b[K \u001b[01;31m\u001b[Kerror: \u001b[m\u001b[K‘\u001b[01m\u001b[Kcin\u001b[m\u001b[K’ is not a member of ‘\u001b[01m\u001b[Kstd\u001b[m\u001b[K’\n",
            "   47 |         std::\u001b[01;31m\u001b[Kcin\u001b[m\u001b[K >> numbers[i];                           //n\n",
            "      |              \u001b[01;31m\u001b[K^~~\u001b[m\u001b[K\n",
            "\u001b[01m\u001b[Kmax_pairwise_product_long_efficient_and_instructions.cpp:47:14:\u001b[m\u001b[K \u001b[01;36m\u001b[Knote: \u001b[m\u001b[K‘\u001b[01m\u001b[Kstd::cin\u001b[m\u001b[K’ is defined in header ‘\u001b[01m\u001b[K<iostream>\u001b[m\u001b[K’; did you forget to ‘\u001b[01m\u001b[K#include <iostream>\u001b[m\u001b[K’?\n",
            "\u001b[01m\u001b[Kmax_pairwise_product_long_efficient_and_instructions.cpp:47:21:\u001b[m\u001b[K \u001b[01;31m\u001b[Kerror: \u001b[m\u001b[K‘\u001b[01m\u001b[Knumbers\u001b[m\u001b[K’ was not declared in this scope\n",
            "   47 |         std::cin >> \u001b[01;31m\u001b[Knumbers\u001b[m\u001b[K[i];                           //n\n",
            "      |                     \u001b[01;31m\u001b[K^~~~~~~\u001b[m\u001b[K\n",
            "\u001b[01m\u001b[Kmax_pairwise_product_long_efficient_and_instructions.cpp:51:10:\u001b[m\u001b[K \u001b[01;31m\u001b[Kerror: \u001b[m\u001b[K‘\u001b[01m\u001b[Kcout\u001b[m\u001b[K’ is not a member of ‘\u001b[01m\u001b[Kstd\u001b[m\u001b[K’\n",
            "   51 |     std::\u001b[01;31m\u001b[Kcout\u001b[m\u001b[K << MaxPairwiseProduct(numbers) << \"\\n\";\n",
            "      |          \u001b[01;31m\u001b[K^~~~\u001b[m\u001b[K\n",
            "\u001b[01m\u001b[Kmax_pairwise_product_long_efficient_and_instructions.cpp:51:10:\u001b[m\u001b[K \u001b[01;36m\u001b[Knote: \u001b[m\u001b[K‘\u001b[01m\u001b[Kstd::cout\u001b[m\u001b[K’ is defined in header ‘\u001b[01m\u001b[K<iostream>\u001b[m\u001b[K’; did you forget to ‘\u001b[01m\u001b[K#include <iostream>\u001b[m\u001b[K’?\n",
            "\u001b[01m\u001b[Kmax_pairwise_product_long_efficient_and_instructions.cpp:51:37:\u001b[m\u001b[K \u001b[01;31m\u001b[Kerror: \u001b[m\u001b[K‘\u001b[01m\u001b[Knumbers\u001b[m\u001b[K’ was not declared in this scope\n",
            "   51 |     std::cout << MaxPairwiseProduct(\u001b[01;31m\u001b[Knumbers\u001b[m\u001b[K) << \"\\n\";\n",
            "      |                                     \u001b[01;31m\u001b[K^~~~~~~\u001b[m\u001b[K\n",
            "\u001b[01m\u001b[Kmax_pairwise_product_long_efficient_and_instructions.cpp:53:10:\u001b[m\u001b[K \u001b[01;31m\u001b[Kerror: \u001b[m\u001b[K‘\u001b[01m\u001b[Kcout\u001b[m\u001b[K’ is not a member of ‘\u001b[01m\u001b[Kstd\u001b[m\u001b[K’\n",
            "   53 |     std::\u001b[01;31m\u001b[Kcout\u001b[m\u001b[K <<\"Numero de instrucciones: \"<< inst << \"\\n\";\n",
            "      |          \u001b[01;31m\u001b[K^~~~\u001b[m\u001b[K\n",
            "\u001b[01m\u001b[Kmax_pairwise_product_long_efficient_and_instructions.cpp:53:10:\u001b[m\u001b[K \u001b[01;36m\u001b[Knote: \u001b[m\u001b[K‘\u001b[01m\u001b[Kstd::cout\u001b[m\u001b[K’ is defined in header ‘\u001b[01m\u001b[K<iostream>\u001b[m\u001b[K’; did you forget to ‘\u001b[01m\u001b[K#include <iostream>\u001b[m\u001b[K’?\n"
          ]
        }
      ]
    },
    {
      "cell_type": "code",
      "source": [
        "!./max_pairwise_product_long_efficient_and_instructions < input1.txt\n",
        "!./max_pairwise_product_long_efficient_and_instructions < input2.txt\n",
        "!./max_pairwise_product_long_efficient_and_instructions < input3.txt"
      ],
      "metadata": {
        "id": "8utLOBxitpou",
        "outputId": "f0f2599a-b502-4c84-dfd2-c1dc4c71c04e",
        "colab": {
          "base_uri": "https://localhost:8080/"
        }
      },
      "execution_count": 157,
      "outputs": [
        {
          "output_type": "stream",
          "name": "stdout",
          "text": [
            "/bin/bash: line 1: ./max_pairwise_product_long_efficient_and_instructions: No such file or directory\n",
            "/bin/bash: line 1: ./max_pairwise_product_long_efficient_and_instructions: No such file or directory\n",
            "/bin/bash: line 1: ./max_pairwise_product_long_efficient_and_instructions: No such file or directory\n"
          ]
        }
      ]
    },
    {
      "cell_type": "code",
      "source": [
        "%%writefile max_pairwise_product_efficient_and_instructions.py\n",
        "#Python3\n",
        "\n",
        "inst=0\n",
        "def max_pairwise_product(lista):\n",
        "    global inst\n",
        "    n_major = 0\n",
        "    inst+=1\n",
        "    n_major_2 = 0\n",
        "    inst+=1\n",
        "    max_product = 0\n",
        "    inst+=1\n",
        "    for i in lista:\n",
        "        inst+=1\n",
        "        if i > n_major:\n",
        "            inst+=1\n",
        "            n_major_2=n_major\n",
        "            inst+=1\n",
        "            n_major = i\n",
        "            inst+=1\n",
        "        elif i > n_major_2:\n",
        "            inst+=1\n",
        "            n_major_2=i\n",
        "            inst+=1\n",
        "            inst+=1\n",
        "    max_product = n_major_2 * n_major\n",
        "    inst+=1\n",
        "\n",
        "    return max_product\n",
        "\n",
        "if __name__ == \"__main__\":\n",
        "    n = int(input())\n",
        "    inst+=1\n",
        "    lista = list(map(int, input().split()))\n",
        "    inst+=4*n\n",
        "    print(max_pairwise_product(lista))\n",
        "    inst+=1\n",
        "    print(f\"Numero Total de Instrucciones:  {inst}\")\n",
        ""
      ],
      "metadata": {
        "id": "OPPLBWQDt1RG",
        "outputId": "dbb49642-355f-4182-ec58-56ccba72d0d4",
        "colab": {
          "base_uri": "https://localhost:8080/"
        }
      },
      "execution_count": 158,
      "outputs": [
        {
          "output_type": "stream",
          "name": "stdout",
          "text": [
            "Writing max_pairwise_product_efficient_and_instructions.py\n"
          ]
        }
      ]
    },
    {
      "cell_type": "code",
      "source": [
        "!python max_pairwise_product_efficient_and_instructions.py < input1.txt\n",
        "!python max_pairwise_product_efficient_and_instructions.py < input2.txt\n",
        "!python max_pairwise_product_efficient_and_instructions.py < input3.txt"
      ],
      "metadata": {
        "id": "u7vBxh3gt97h",
        "outputId": "a72916ef-4b07-4f5d-d79e-04e914948aae",
        "colab": {
          "base_uri": "https://localhost:8080/"
        }
      },
      "execution_count": 159,
      "outputs": [
        {
          "output_type": "stream",
          "name": "stdout",
          "text": [
            "90\n",
            "Numero Total de Instrucciones:  86\n",
            "90\n",
            "Numero Total de Instrucciones:  62\n",
            "40000000000\n",
            "Numero Total de Instrucciones:  51\n"
          ]
        }
      ]
    },
    {
      "cell_type": "markdown",
      "metadata": {
        "id": "K6ybgCmpNygr"
      },
      "source": [
        "Calculate estimated time by instruction and number of instructions by second"
      ]
    },
    {
      "cell_type": "code",
      "execution_count": 160,
      "metadata": {
        "id": "kwe3G1O3Nz1w",
        "outputId": "2c37e36f-12dd-4724-897d-f875e5cd7c3f",
        "colab": {
          "base_uri": "https://localhost:8080/"
        }
      },
      "outputs": [
        {
          "output_type": "stream",
          "name": "stdout",
          "text": [
            "Writing max_pairwise_product_long_efficient_and_instructions_by_second.cpp\n"
          ]
        }
      ],
      "source": [
        "%%writefile max_pairwise_product_long_efficient_and_instructions_by_second.cpp\n",
        "#include\n",
        "#include\n",
        "#include\n",
        "#include\n",
        "\n",
        "long long inst= 0LL;\n",
        "\n",
        "long long MaxPairwiseProduct(const std::vector& numbers) {\n",
        "    long long max_product = 0LL;                                             //1\n",
        "    inst++;\n",
        "\t  long long n_major = 0LL;\n",
        "    inst++;\n",
        "    long long n_major_2 = 0LL;                                             //1\n",
        "    inst++;\n",
        "    int n = numbers.size();                                                  //1\n",
        "    inst++;\n",
        "    inst++;\n",
        "    for(int i = 0; i < n; ++i) {                   //1 + 2n\n",
        "      inst+=2;\n",
        "      inst++;\n",
        "      if (numbers[i] > n_major){\n",
        "        inst++;\n",
        "        n_major_2 = n_major ;                //n\n",
        "        inst++;\n",
        "        n_major = numbers[i];\n",
        "        inst++;\n",
        "      }\n",
        "      else if (numbers[i] > n_major_2){\n",
        "        inst++;\n",
        "        n_major_2 = numbers[i];                    //[0, n]\n",
        "        inst++;\n",
        "        inst++;\n",
        "      }\n",
        "    }\n",
        "    max_product=n_major*n_major_2;\n",
        "    inst++;                                                                         // --------------\n",
        "    return max_product;\n",
        "}\n",
        "int main() {\n",
        "    auto start_time = std::chrono::high_resolution_clock::now();\n",
        "    int n;                                                //1\n",
        "    inst++;\n",
        "    std::cin >> n;                                        //1\n",
        "    inst++;\n",
        "    std::vector numbers(n);                          //n\n",
        "    inst++;\n",
        "    inst++;\n",
        "    for (int i = 0; i < n; ++i) {                         //1 + 2n\n",
        "        std::cin >> numbers[i];                           //n\n",
        "    }\n",
        "    inst+=n;\n",
        "\n",
        "    std::cout << MaxPairwiseProduct(numbers) << \"\\n\";\n",
        "    inst++;\n",
        "    auto end_time = std::chrono::high_resolution_clock::now();\n",
        "    auto duration = std::chrono::duration_cast(end_time - start_time);\n",
        "    float duration_sec,duration_f;\n",
        "    duration_f=static_cast(duration.count());\n",
        "    duration_sec = duration_f/1000;\n",
        "    std::cout <<\"Numero de instrucciones: \"<< inst << \"\\n\";\n",
        "    std::cout <<\"Duracion Estiamda: \"<< duration_sec << \" segundos\" <<\"\\n\";\n",
        "    std::cout <<\"Duracion Estiamda por instruccion: \"<< duration_sec/inst << \" segundos\" <<\"\\n\";\n",
        "    std::cout <<\"Numero de instrucciones por segundo: \"<< 1/(duration_sec/inst) << \" Instrucciones\" <<\"\\n\";\n",
        "    return 0;\n",
        "}"
      ]
    },
    {
      "cell_type": "code",
      "source": [
        "!g++ max_pairwise_product_long_efficient_and_instructions_by_second.cpp -o max_pairwise_product_long_efficient_and_instructions_by_second\n",
        ""
      ],
      "metadata": {
        "id": "a1f4Rrq8udFY",
        "outputId": "16e30fe6-91d0-4375-a220-c5cfa9ce46a5",
        "colab": {
          "base_uri": "https://localhost:8080/"
        }
      },
      "execution_count": 161,
      "outputs": [
        {
          "output_type": "stream",
          "name": "stdout",
          "text": [
            "\u001b[01m\u001b[Kmax_pairwise_product_long_efficient_and_instructions_by_second.cpp:1:10:\u001b[m\u001b[K \u001b[01;31m\u001b[Kerror: \u001b[m\u001b[K#include expects \"FILENAME\" or <FILENAME>\n",
            "    1 | #include\n",
            "      |          \u001b[01;31m\u001b[K^\u001b[m\u001b[K\n",
            "\u001b[01m\u001b[Kmax_pairwise_product_long_efficient_and_instructions_by_second.cpp:2:10:\u001b[m\u001b[K \u001b[01;31m\u001b[Kerror: \u001b[m\u001b[K#include expects \"FILENAME\" or <FILENAME>\n",
            "    2 | #include\n",
            "      |          \u001b[01;31m\u001b[K^\u001b[m\u001b[K\n",
            "\u001b[01m\u001b[Kmax_pairwise_product_long_efficient_and_instructions_by_second.cpp:3:10:\u001b[m\u001b[K \u001b[01;31m\u001b[Kerror: \u001b[m\u001b[K#include expects \"FILENAME\" or <FILENAME>\n",
            "    3 | #include\n",
            "      |          \u001b[01;31m\u001b[K^\u001b[m\u001b[K\n",
            "\u001b[01m\u001b[Kmax_pairwise_product_long_efficient_and_instructions_by_second.cpp:4:10:\u001b[m\u001b[K \u001b[01;31m\u001b[Kerror: \u001b[m\u001b[K#include expects \"FILENAME\" or <FILENAME>\n",
            "    4 | #include\n",
            "      |          \u001b[01;31m\u001b[K^\u001b[m\u001b[K\n",
            "\u001b[01m\u001b[Kmax_pairwise_product_long_efficient_and_instructions_by_second.cpp:8:41:\u001b[m\u001b[K \u001b[01;31m\u001b[Kerror: \u001b[m\u001b[K‘\u001b[01m\u001b[Kvector\u001b[m\u001b[K’ in namespace ‘\u001b[01m\u001b[Kstd\u001b[m\u001b[K’ does not name a type\n",
            "    8 | long long MaxPairwiseProduct(const std::\u001b[01;31m\u001b[Kvector\u001b[m\u001b[K& numbers) {\n",
            "      |                                         \u001b[01;31m\u001b[K^~~~~~\u001b[m\u001b[K\n",
            "\u001b[01m\u001b[Kmax_pairwise_product_long_efficient_and_instructions_by_second.cpp:1:1:\u001b[m\u001b[K \u001b[01;36m\u001b[Knote: \u001b[m\u001b[K‘\u001b[01m\u001b[Kstd::vector\u001b[m\u001b[K’ is defined in header ‘\u001b[01m\u001b[K<vector>\u001b[m\u001b[K’; did you forget to ‘\u001b[01m\u001b[K#include <vector>\u001b[m\u001b[K’?\n",
            "  +++ |+\u001b[32m\u001b[K#include <vector>\u001b[m\u001b[K\n",
            "    1 | #include\n",
            "\u001b[01m\u001b[Kmax_pairwise_product_long_efficient_and_instructions_by_second.cpp:\u001b[m\u001b[K In function ‘\u001b[01m\u001b[Klong long int MaxPairwiseProduct(const int&)\u001b[m\u001b[K’:\n",
            "\u001b[01m\u001b[Kmax_pairwise_product_long_efficient_and_instructions_by_second.cpp:15:21:\u001b[m\u001b[K \u001b[01;31m\u001b[Kerror: \u001b[m\u001b[Krequest for member ‘\u001b[01m\u001b[Ksize\u001b[m\u001b[K’ in ‘\u001b[01m\u001b[Knumbers\u001b[m\u001b[K’, which is of non-class type ‘\u001b[01m\u001b[Kconst int\u001b[m\u001b[K’\n",
            "   15 |     int n = numbers.\u001b[01;31m\u001b[Ksize\u001b[m\u001b[K();                                                  //1\n",
            "      |                     \u001b[01;31m\u001b[K^~~~\u001b[m\u001b[K\n",
            "\u001b[01m\u001b[Kmax_pairwise_product_long_efficient_and_instructions_by_second.cpp:21:18:\u001b[m\u001b[K \u001b[01;31m\u001b[Kerror: \u001b[m\u001b[Kinvalid types ‘\u001b[01m\u001b[Kconst int[int]\u001b[m\u001b[K’ for array subscript\n",
            "   21 |       if (numbers\u001b[01;31m\u001b[K[\u001b[m\u001b[Ki] > n_major){\n",
            "      |                  \u001b[01;31m\u001b[K^\u001b[m\u001b[K\n",
            "\u001b[01m\u001b[Kmax_pairwise_product_long_efficient_and_instructions_by_second.cpp:25:26:\u001b[m\u001b[K \u001b[01;31m\u001b[Kerror: \u001b[m\u001b[Kinvalid types ‘\u001b[01m\u001b[Kconst int[int]\u001b[m\u001b[K’ for array subscript\n",
            "   25 |         n_major = numbers\u001b[01;31m\u001b[K[\u001b[m\u001b[Ki];\n",
            "      |                          \u001b[01;31m\u001b[K^\u001b[m\u001b[K\n",
            "\u001b[01m\u001b[Kmax_pairwise_product_long_efficient_and_instructions_by_second.cpp:28:23:\u001b[m\u001b[K \u001b[01;31m\u001b[Kerror: \u001b[m\u001b[Kinvalid types ‘\u001b[01m\u001b[Kconst int[int]\u001b[m\u001b[K’ for array subscript\n",
            "   28 |       else if (numbers\u001b[01;31m\u001b[K[\u001b[m\u001b[Ki] > n_major_2){\n",
            "      |                       \u001b[01;31m\u001b[K^\u001b[m\u001b[K\n",
            "\u001b[01m\u001b[Kmax_pairwise_product_long_efficient_and_instructions_by_second.cpp:30:28:\u001b[m\u001b[K \u001b[01;31m\u001b[Kerror: \u001b[m\u001b[Kinvalid types ‘\u001b[01m\u001b[Kconst int[int]\u001b[m\u001b[K’ for array subscript\n",
            "   30 |         n_major_2 = numbers\u001b[01;31m\u001b[K[\u001b[m\u001b[Ki];                    //[0, n]\n",
            "      |                            \u001b[01;31m\u001b[K^\u001b[m\u001b[K\n",
            "\u001b[01m\u001b[Kmax_pairwise_product_long_efficient_and_instructions_by_second.cpp:\u001b[m\u001b[K In function ‘\u001b[01m\u001b[Kint main()\u001b[m\u001b[K’:\n",
            "\u001b[01m\u001b[Kmax_pairwise_product_long_efficient_and_instructions_by_second.cpp:40:28:\u001b[m\u001b[K \u001b[01;31m\u001b[Kerror: \u001b[m\u001b[K‘\u001b[01m\u001b[Kstd::chrono\u001b[m\u001b[K’ has not been declared\n",
            "   40 |     auto start_time = std::\u001b[01;31m\u001b[Kchrono\u001b[m\u001b[K::high_resolution_clock::now();\n",
            "      |                            \u001b[01;31m\u001b[K^~~~~~\u001b[m\u001b[K\n",
            "\u001b[01m\u001b[Kmax_pairwise_product_long_efficient_and_instructions_by_second.cpp:43:10:\u001b[m\u001b[K \u001b[01;31m\u001b[Kerror: \u001b[m\u001b[K‘\u001b[01m\u001b[Kcin\u001b[m\u001b[K’ is not a member of ‘\u001b[01m\u001b[Kstd\u001b[m\u001b[K’\n",
            "   43 |     std::\u001b[01;31m\u001b[Kcin\u001b[m\u001b[K >> n;                                        //1\n",
            "      |          \u001b[01;31m\u001b[K^~~\u001b[m\u001b[K\n",
            "\u001b[01m\u001b[Kmax_pairwise_product_long_efficient_and_instructions_by_second.cpp:1:1:\u001b[m\u001b[K \u001b[01;36m\u001b[Knote: \u001b[m\u001b[K‘\u001b[01m\u001b[Kstd::cin\u001b[m\u001b[K’ is defined in header ‘\u001b[01m\u001b[K<iostream>\u001b[m\u001b[K’; did you forget to ‘\u001b[01m\u001b[K#include <iostream>\u001b[m\u001b[K’?\n",
            "  +++ |+\u001b[32m\u001b[K#include <iostream>\u001b[m\u001b[K\n",
            "    1 | #include\n",
            "\u001b[01m\u001b[Kmax_pairwise_product_long_efficient_and_instructions_by_second.cpp:45:10:\u001b[m\u001b[K \u001b[01;31m\u001b[Kerror: \u001b[m\u001b[K‘\u001b[01m\u001b[Kvector\u001b[m\u001b[K’ is not a member of ‘\u001b[01m\u001b[Kstd\u001b[m\u001b[K’\n",
            "   45 |     std::\u001b[01;31m\u001b[Kvector\u001b[m\u001b[K numbers(n);                          //n\n",
            "      |          \u001b[01;31m\u001b[K^~~~~~\u001b[m\u001b[K\n",
            "\u001b[01m\u001b[Kmax_pairwise_product_long_efficient_and_instructions_by_second.cpp:45:10:\u001b[m\u001b[K \u001b[01;36m\u001b[Knote: \u001b[m\u001b[K‘\u001b[01m\u001b[Kstd::vector\u001b[m\u001b[K’ is defined in header ‘\u001b[01m\u001b[K<vector>\u001b[m\u001b[K’; did you forget to ‘\u001b[01m\u001b[K#include <vector>\u001b[m\u001b[K’?\n",
            "\u001b[01m\u001b[Kmax_pairwise_product_long_efficient_and_instructions_by_second.cpp:49:14:\u001b[m\u001b[K \u001b[01;31m\u001b[Kerror: \u001b[m\u001b[K‘\u001b[01m\u001b[Kcin\u001b[m\u001b[K’ is not a member of ‘\u001b[01m\u001b[Kstd\u001b[m\u001b[K’\n",
            "   49 |         std::\u001b[01;31m\u001b[Kcin\u001b[m\u001b[K >> numbers[i];                           //n\n",
            "      |              \u001b[01;31m\u001b[K^~~\u001b[m\u001b[K\n",
            "\u001b[01m\u001b[Kmax_pairwise_product_long_efficient_and_instructions_by_second.cpp:49:14:\u001b[m\u001b[K \u001b[01;36m\u001b[Knote: \u001b[m\u001b[K‘\u001b[01m\u001b[Kstd::cin\u001b[m\u001b[K’ is defined in header ‘\u001b[01m\u001b[K<iostream>\u001b[m\u001b[K’; did you forget to ‘\u001b[01m\u001b[K#include <iostream>\u001b[m\u001b[K’?\n",
            "\u001b[01m\u001b[Kmax_pairwise_product_long_efficient_and_instructions_by_second.cpp:49:21:\u001b[m\u001b[K \u001b[01;31m\u001b[Kerror: \u001b[m\u001b[K‘\u001b[01m\u001b[Knumbers\u001b[m\u001b[K’ was not declared in this scope\n",
            "   49 |         std::cin >> \u001b[01;31m\u001b[Knumbers\u001b[m\u001b[K[i];                           //n\n",
            "      |                     \u001b[01;31m\u001b[K^~~~~~~\u001b[m\u001b[K\n",
            "\u001b[01m\u001b[Kmax_pairwise_product_long_efficient_and_instructions_by_second.cpp:53:10:\u001b[m\u001b[K \u001b[01;31m\u001b[Kerror: \u001b[m\u001b[K‘\u001b[01m\u001b[Kcout\u001b[m\u001b[K’ is not a member of ‘\u001b[01m\u001b[Kstd\u001b[m\u001b[K’\n",
            "   53 |     std::\u001b[01;31m\u001b[Kcout\u001b[m\u001b[K << MaxPairwiseProduct(numbers) << \"\\n\";\n",
            "      |          \u001b[01;31m\u001b[K^~~~\u001b[m\u001b[K\n",
            "\u001b[01m\u001b[Kmax_pairwise_product_long_efficient_and_instructions_by_second.cpp:53:10:\u001b[m\u001b[K \u001b[01;36m\u001b[Knote: \u001b[m\u001b[K‘\u001b[01m\u001b[Kstd::cout\u001b[m\u001b[K’ is defined in header ‘\u001b[01m\u001b[K<iostream>\u001b[m\u001b[K’; did you forget to ‘\u001b[01m\u001b[K#include <iostream>\u001b[m\u001b[K’?\n",
            "\u001b[01m\u001b[Kmax_pairwise_product_long_efficient_and_instructions_by_second.cpp:53:37:\u001b[m\u001b[K \u001b[01;31m\u001b[Kerror: \u001b[m\u001b[K‘\u001b[01m\u001b[Knumbers\u001b[m\u001b[K’ was not declared in this scope\n",
            "   53 |     std::cout << MaxPairwiseProduct(\u001b[01;31m\u001b[Knumbers\u001b[m\u001b[K) << \"\\n\";\n",
            "      |                                     \u001b[01;31m\u001b[K^~~~~~~\u001b[m\u001b[K\n",
            "\u001b[01m\u001b[Kmax_pairwise_product_long_efficient_and_instructions_by_second.cpp:55:26:\u001b[m\u001b[K \u001b[01;31m\u001b[Kerror: \u001b[m\u001b[K‘\u001b[01m\u001b[Kstd::chrono\u001b[m\u001b[K’ has not been declared\n",
            "   55 |     auto end_time = std::\u001b[01;31m\u001b[Kchrono\u001b[m\u001b[K::high_resolution_clock::now();\n",
            "      |                          \u001b[01;31m\u001b[K^~~~~~\u001b[m\u001b[K\n",
            "\u001b[01m\u001b[Kmax_pairwise_product_long_efficient_and_instructions_by_second.cpp:56:26:\u001b[m\u001b[K \u001b[01;31m\u001b[Kerror: \u001b[m\u001b[K‘\u001b[01m\u001b[Kstd::chrono\u001b[m\u001b[K’ has not been declared\n",
            "   56 |     auto duration = std::\u001b[01;31m\u001b[Kchrono\u001b[m\u001b[K::duration_cast(end_time - start_time);\n",
            "      |                          \u001b[01;31m\u001b[K^~~~~~\u001b[m\u001b[K\n",
            "\u001b[01m\u001b[Kmax_pairwise_product_long_efficient_and_instructions_by_second.cpp:58:27:\u001b[m\u001b[K \u001b[01;31m\u001b[Kerror: \u001b[m\u001b[Kexpected ‘\u001b[01m\u001b[K<\u001b[m\u001b[K’ before ‘\u001b[01m\u001b[K(\u001b[m\u001b[K’ token\n",
            "   58 |     duration_f=static_cast\u001b[01;31m\u001b[K(\u001b[m\u001b[Kduration.count());\n",
            "      |                           \u001b[01;31m\u001b[K^\u001b[m\u001b[K\n",
            "\u001b[01m\u001b[Kmax_pairwise_product_long_efficient_and_instructions_by_second.cpp:58:27:\u001b[m\u001b[K \u001b[01;31m\u001b[Kerror: \u001b[m\u001b[Kexpected type-specifier before ‘\u001b[01m\u001b[K(\u001b[m\u001b[K’ token\n",
            "\u001b[01m\u001b[Kmax_pairwise_product_long_efficient_and_instructions_by_second.cpp:58:27:\u001b[m\u001b[K \u001b[01;31m\u001b[Kerror: \u001b[m\u001b[Kexpected ‘\u001b[01m\u001b[K>\u001b[m\u001b[K’ before ‘\u001b[01m\u001b[K(\u001b[m\u001b[K’ token\n",
            "\u001b[01m\u001b[Kmax_pairwise_product_long_efficient_and_instructions_by_second.cpp:60:10:\u001b[m\u001b[K \u001b[01;31m\u001b[Kerror: \u001b[m\u001b[K‘\u001b[01m\u001b[Kcout\u001b[m\u001b[K’ is not a member of ‘\u001b[01m\u001b[Kstd\u001b[m\u001b[K’\n",
            "   60 |     std::\u001b[01;31m\u001b[Kcout\u001b[m\u001b[K <<\"Numero de instrucciones: \"<< inst << \"\\n\";\n",
            "      |          \u001b[01;31m\u001b[K^~~~\u001b[m\u001b[K\n",
            "\u001b[01m\u001b[Kmax_pairwise_product_long_efficient_and_instructions_by_second.cpp:60:10:\u001b[m\u001b[K \u001b[01;36m\u001b[Knote: \u001b[m\u001b[K‘\u001b[01m\u001b[Kstd::cout\u001b[m\u001b[K’ is defined in header ‘\u001b[01m\u001b[K<iostream>\u001b[m\u001b[K’; did you forget to ‘\u001b[01m\u001b[K#include <iostream>\u001b[m\u001b[K’?\n",
            "\u001b[01m\u001b[Kmax_pairwise_product_long_efficient_and_instructions_by_second.cpp:61:10:\u001b[m\u001b[K \u001b[01;31m\u001b[Kerror: \u001b[m\u001b[K‘\u001b[01m\u001b[Kcout\u001b[m\u001b[K’ is not a member of ‘\u001b[01m\u001b[Kstd\u001b[m\u001b[K’\n",
            "   61 |     std::\u001b[01;31m\u001b[Kcout\u001b[m\u001b[K <<\"Duracion Estiamda: \"<< duration_sec << \" segundos\" <<\"\\n\";\n",
            "      |          \u001b[01;31m\u001b[K^~~~\u001b[m\u001b[K\n",
            "\u001b[01m\u001b[Kmax_pairwise_product_long_efficient_and_instructions_by_second.cpp:61:10:\u001b[m\u001b[K \u001b[01;36m\u001b[Knote: \u001b[m\u001b[K‘\u001b[01m\u001b[Kstd::cout\u001b[m\u001b[K’ is defined in header ‘\u001b[01m\u001b[K<iostream>\u001b[m\u001b[K’; did you forget to ‘\u001b[01m\u001b[K#include <iostream>\u001b[m\u001b[K’?\n",
            "\u001b[01m\u001b[Kmax_pairwise_product_long_efficient_and_instructions_by_second.cpp:62:10:\u001b[m\u001b[K \u001b[01;31m\u001b[Kerror: \u001b[m\u001b[K‘\u001b[01m\u001b[Kcout\u001b[m\u001b[K’ is not a member of ‘\u001b[01m\u001b[Kstd\u001b[m\u001b[K’\n",
            "   62 |     std::\u001b[01;31m\u001b[Kcout\u001b[m\u001b[K <<\"Duracion Estiamda por instruccion: \"<< duration_sec/inst << \" segundos\" <<\"\\n\";\n",
            "      |          \u001b[01;31m\u001b[K^~~~\u001b[m\u001b[K\n",
            "\u001b[01m\u001b[Kmax_pairwise_product_long_efficient_and_instructions_by_second.cpp:62:10:\u001b[m\u001b[K \u001b[01;36m\u001b[Knote: \u001b[m\u001b[K‘\u001b[01m\u001b[Kstd::cout\u001b[m\u001b[K’ is defined in header ‘\u001b[01m\u001b[K<iostream>\u001b[m\u001b[K’; did you forget to ‘\u001b[01m\u001b[K#include <iostream>\u001b[m\u001b[K’?\n",
            "\u001b[01m\u001b[Kmax_pairwise_product_long_efficient_and_instructions_by_second.cpp:63:10:\u001b[m\u001b[K \u001b[01;31m\u001b[Kerror: \u001b[m\u001b[K‘\u001b[01m\u001b[Kcout\u001b[m\u001b[K’ is not a member of ‘\u001b[01m\u001b[Kstd\u001b[m\u001b[K’\n",
            "   63 |     std::\u001b[01;31m\u001b[Kcout\u001b[m\u001b[K <<\"Numero de instrucciones por segundo: \"<< 1/(duration_sec/inst) << \" Instrucciones\" <<\"\\n\";\n",
            "      |          \u001b[01;31m\u001b[K^~~~\u001b[m\u001b[K\n",
            "\u001b[01m\u001b[Kmax_pairwise_product_long_efficient_and_instructions_by_second.cpp:63:10:\u001b[m\u001b[K \u001b[01;36m\u001b[Knote: \u001b[m\u001b[K‘\u001b[01m\u001b[Kstd::cout\u001b[m\u001b[K’ is defined in header ‘\u001b[01m\u001b[K<iostream>\u001b[m\u001b[K’; did you forget to ‘\u001b[01m\u001b[K#include <iostream>\u001b[m\u001b[K’?\n"
          ]
        }
      ]
    },
    {
      "cell_type": "code",
      "source": [
        "!./max_pairwise_product_long_efficient_and_instructions_by_second < input13.txt"
      ],
      "metadata": {
        "id": "N3mi00Zrug0C",
        "outputId": "203f004b-d4ce-4a2f-97bb-707f5a43b991",
        "colab": {
          "base_uri": "https://localhost:8080/"
        }
      },
      "execution_count": 162,
      "outputs": [
        {
          "output_type": "stream",
          "name": "stdout",
          "text": [
            "/bin/bash: line 1: ./max_pairwise_product_long_efficient_and_instructions_by_second: No such file or directory\n"
          ]
        }
      ]
    },
    {
      "cell_type": "code",
      "source": [
        "%%writefile max_pairwise_product_efficient_and_instructions_by_second.py\n",
        "#Python3\n",
        "import time\n",
        "\n",
        "inst=0\n",
        "def max_pairwise_product(lista):\n",
        "    global inst\n",
        "    n_major = 0\n",
        "    inst+=1\n",
        "    n_major_2 = 0\n",
        "    inst+=1\n",
        "    max_product = 0\n",
        "    inst+=1\n",
        "    for i in lista:\n",
        "        inst+=1\n",
        "        if i > n_major:\n",
        "            inst+=1\n",
        "            n_major_2=n_major\n",
        "            inst+=1\n",
        "            n_major = i\n",
        "            inst+=1\n",
        "        elif i > n_major_2:\n",
        "            inst+=1\n",
        "            n_major_2=i\n",
        "            inst+=1\n",
        "            inst+=1\n",
        "    max_product = n_major_2 * n_major\n",
        "    inst+=1\n",
        "\n",
        "    return max_product\n",
        "\n",
        "if __name__ == \"__main__\":\n",
        "    inicio=time.time()\n",
        "    n = int(input())\n",
        "    inst+=1\n",
        "    lista = list(map(int, input().split()))\n",
        "    inst+=4*n\n",
        "    print(max_pairwise_product(lista))\n",
        "    inst+=1\n",
        "    fin = time.time()\n",
        "    tiempo_total = fin - inicio\n",
        "    instructionTime = tiempo_total/inst\n",
        "    instructionBySecond= 1/instructionTime\n",
        "    print(f\"Numero Total de Instrucciones:  {inst}\")\n",
        "    print(f\"Tiempo total de ejecución: {tiempo_total} segundos\")\n",
        "    print(f\"Tiempo estimado de cada instruccion: {instructionTime} segundos\")\n",
        "    print(f\"Instrucciones por segundo: {int(instructionBySecond)} \")\n"
      ],
      "metadata": {
        "id": "jlm7RwqNunHV",
        "outputId": "99edf723-295e-466c-a08f-166c8c50d86e",
        "colab": {
          "base_uri": "https://localhost:8080/"
        }
      },
      "execution_count": 164,
      "outputs": [
        {
          "output_type": "stream",
          "name": "stdout",
          "text": [
            "Overwriting max_pairwise_product_efficient_and_instructions_by_second.py\n"
          ]
        }
      ]
    },
    {
      "cell_type": "code",
      "source": [
        "!python max_pairwise_product_efficient_and_instructions_by_second.py < input13.txt"
      ],
      "metadata": {
        "id": "ZLvUyNgOuyBX",
        "outputId": "4b9cf091-84e3-482e-b9ae-2b560a7be2fd",
        "colab": {
          "base_uri": "https://localhost:8080/"
        }
      },
      "execution_count": 165,
      "outputs": [
        {
          "output_type": "stream",
          "name": "stdout",
          "text": [
            "120989000\n",
            "Numero Total de Instrucciones:  88006\n",
            "Tiempo total de ejecución: 0.005986213684082031 segundos\n",
            "Tiempo estimado de cada instruccion: 6.80205177383591e-08 segundos\n",
            "Instrucciones por segundo: 14701446 \n"
          ]
        }
      ]
    },
    {
      "cell_type": "markdown",
      "source": [
        "### Estimate and verify the maximun n that can be solved in 1 second"
      ],
      "metadata": {
        "id": "v8GY6n_ZaJ4P"
      }
    },
    {
      "cell_type": "code",
      "source": [
        "%%writefile maximun_n_that_can_be_solved_efficient.py\n",
        "#Python3\n",
        "import random\n",
        "def max_pairwise_product(lista):\n",
        "    n_major = 0\n",
        "    n_major_2 = 0\n",
        "    max_product = 0\n",
        "    for i in lista:\n",
        "        if i > n_major:\n",
        "            n_major_2=n_major\n",
        "            n_major = i\n",
        "        elif i > n_major_2:\n",
        "            n_major_2=i\n",
        "    max_product = n_major_2 * n_major\n",
        "\n",
        "    return max_product\n",
        "\n",
        "if __name__ == \"__main__\":\n",
        "    n = 800000\n",
        "    lista = [random.randint(17, 25631) for i in range(n)]\n",
        "    print(f\"n=  {n}   Product= {max_pairwise_product(lista)}\")"
      ],
      "metadata": {
        "id": "z3xjzg1YaKk6",
        "outputId": "47eb61d8-9cae-400f-d293-cb2d666d1017",
        "colab": {
          "base_uri": "https://localhost:8080/"
        }
      },
      "execution_count": 166,
      "outputs": [
        {
          "output_type": "stream",
          "name": "stdout",
          "text": [
            "Writing maximun_n_that_can_be_solved_efficient.py\n"
          ]
        }
      ]
    },
    {
      "cell_type": "code",
      "source": [
        "%%time\n",
        "!python maximun_n_that_can_be_solved_efficient.py"
      ],
      "metadata": {
        "id": "nqa1YcZ_u7dz",
        "outputId": "2f6d2dfa-ba27-4149-c54b-65001fb17496",
        "colab": {
          "base_uri": "https://localhost:8080/"
        }
      },
      "execution_count": 167,
      "outputs": [
        {
          "output_type": "stream",
          "name": "stdout",
          "text": [
            "n=  800000   Product= 656948161\n",
            "CPU times: user 12.3 ms, sys: 2.99 ms, total: 15.3 ms\n",
            "Wall time: 1.01 s\n"
          ]
        }
      ]
    },
    {
      "cell_type": "markdown",
      "metadata": {
        "id": "sUpIWcykOGpT"
      },
      "source": [
        "## Super efficient solution\n",
        "\n",
        "Whitout storing the list in memory, only stpring the largest and second largest and whitout calling a function, add in each line a coment with the number of instructions that are executed in that line\n",
        "\n",
        "in C++ and Python\n",
        "\n",
        "\n",
        " $$T(n) < 13 n  = O(n)$$\n"
      ]
    },
    {
      "cell_type": "code",
      "execution_count": 107,
      "metadata": {
        "id": "hBLt_xBQLy8E",
        "outputId": "d0f3f40f-92ce-4868-d886-a6394521a731",
        "colab": {
          "base_uri": "https://localhost:8080/"
        }
      },
      "outputs": [
        {
          "output_type": "stream",
          "name": "stdout",
          "text": [
            "Writing max_pairwise_super_efficient.cpp\n"
          ]
        }
      ],
      "source": [
        "%%writefile max_pairwise_super_efficient.cpp\n",
        "#include\n",
        "#include\n",
        "#include\n",
        "using namespace std;\n",
        "\n",
        "int main() {\n",
        "    int n;                                     // 1\n",
        "    cin >> n;                                  // 1\n",
        "    int numero_M = 0;                   // 1\n",
        "    int segundo_Numero_M = 0;             // 1\n",
        "\n",
        "\n",
        "    for (int i = 0; i < n; ++i) {              //1 + 2n\n",
        "        int comp = 0;                           // n\n",
        "        cin >> comp;                            // n\n",
        "\n",
        "        if (comp > numero_M){                  // n\n",
        "          segundo_Numero_M = numero_M;         //n\n",
        "          numero_M = comp;                     //n\n",
        "\n",
        "        } else if (comp > segundo_Numero_M) {    // n\n",
        "          segundo_Numero_M = comp;             //n\n",
        "        }\n",
        "\n",
        "    }\n",
        "\n",
        "    cout  << numero_M * segundo_Numero_M << \"\\n\"; // 1\n",
        "    return 0;\n",
        "}"
      ]
    },
    {
      "cell_type": "code",
      "source": [
        "!g++ max_pairwise_super_efficient.cpp -o max_pairwise_super_efficient"
      ],
      "metadata": {
        "id": "0jg_bJWWmQM0",
        "outputId": "fdac7844-e128-4525-9508-d51801e9e138",
        "colab": {
          "base_uri": "https://localhost:8080/"
        }
      },
      "execution_count": 108,
      "outputs": [
        {
          "output_type": "stream",
          "name": "stdout",
          "text": [
            "\u001b[01m\u001b[Kmax_pairwise_super_efficient.cpp:1:10:\u001b[m\u001b[K \u001b[01;31m\u001b[Kerror: \u001b[m\u001b[K#include expects \"FILENAME\" or <FILENAME>\n",
            "    1 | #include\n",
            "      |          \u001b[01;31m\u001b[K^\u001b[m\u001b[K\n",
            "\u001b[01m\u001b[Kmax_pairwise_super_efficient.cpp:2:10:\u001b[m\u001b[K \u001b[01;31m\u001b[Kerror: \u001b[m\u001b[K#include expects \"FILENAME\" or <FILENAME>\n",
            "    2 | #include\n",
            "      |          \u001b[01;31m\u001b[K^\u001b[m\u001b[K\n",
            "\u001b[01m\u001b[Kmax_pairwise_super_efficient.cpp:3:10:\u001b[m\u001b[K \u001b[01;31m\u001b[Kerror: \u001b[m\u001b[K#include expects \"FILENAME\" or <FILENAME>\n",
            "    3 | #include\n",
            "      |          \u001b[01;31m\u001b[K^\u001b[m\u001b[K\n",
            "\u001b[01m\u001b[Kmax_pairwise_super_efficient.cpp:\u001b[m\u001b[K In function ‘\u001b[01m\u001b[Kint main()\u001b[m\u001b[K’:\n",
            "\u001b[01m\u001b[Kmax_pairwise_super_efficient.cpp:8:5:\u001b[m\u001b[K \u001b[01;31m\u001b[Kerror: \u001b[m\u001b[K‘\u001b[01m\u001b[Kcin\u001b[m\u001b[K’ was not declared in this scope\n",
            "    8 |     \u001b[01;31m\u001b[Kcin\u001b[m\u001b[K >> n;                                  // 1\n",
            "      |     \u001b[01;31m\u001b[K^~~\u001b[m\u001b[K\n",
            "\u001b[01m\u001b[Kmax_pairwise_super_efficient.cpp:1:1:\u001b[m\u001b[K \u001b[01;36m\u001b[Knote: \u001b[m\u001b[K‘\u001b[01m\u001b[Kstd::cin\u001b[m\u001b[K’ is defined in header ‘\u001b[01m\u001b[K<iostream>\u001b[m\u001b[K’; did you forget to ‘\u001b[01m\u001b[K#include <iostream>\u001b[m\u001b[K’?\n",
            "  +++ |+\u001b[32m\u001b[K#include <iostream>\u001b[m\u001b[K\n",
            "    1 | #include\n",
            "\u001b[01m\u001b[Kmax_pairwise_super_efficient.cpp:27:5:\u001b[m\u001b[K \u001b[01;31m\u001b[Kerror: \u001b[m\u001b[K‘\u001b[01m\u001b[Kcout\u001b[m\u001b[K’ was not declared in this scope\n",
            "   27 |     \u001b[01;31m\u001b[Kcout\u001b[m\u001b[K  << numero_M * segundo_Numero_M << \"\\n\"; // 1\n",
            "      |     \u001b[01;31m\u001b[K^~~~\u001b[m\u001b[K\n",
            "\u001b[01m\u001b[Kmax_pairwise_super_efficient.cpp:27:5:\u001b[m\u001b[K \u001b[01;36m\u001b[Knote: \u001b[m\u001b[K‘\u001b[01m\u001b[Kstd::cout\u001b[m\u001b[K’ is defined in header ‘\u001b[01m\u001b[K<iostream>\u001b[m\u001b[K’; did you forget to ‘\u001b[01m\u001b[K#include <iostream>\u001b[m\u001b[K’?\n"
          ]
        }
      ]
    },
    {
      "cell_type": "markdown",
      "metadata": {
        "id": "683gc3roHqzb"
      },
      "source": [
        "Test with inputs 1 and 2\n",
        "\n",
        "\n"
      ]
    },
    {
      "cell_type": "code",
      "execution_count": 109,
      "metadata": {
        "id": "b7d4LA8OIc2_",
        "outputId": "bfb8efcd-7c7d-41a5-b558-0f8312e6e26e",
        "colab": {
          "base_uri": "https://localhost:8080/"
        }
      },
      "outputs": [
        {
          "output_type": "stream",
          "name": "stdout",
          "text": [
            "/bin/bash: line 1: ./max_pairwise_super_efficient: No such file or directory\n",
            "/bin/bash: line 1: ./max_pairwise_super_efficient: No such file or directory\n"
          ]
        }
      ],
      "source": [
        "!./max_pairwise_super_efficient < input1.txt\n",
        "!./max_pairwise_super_efficient < input2.txt"
      ]
    },
    {
      "cell_type": "markdown",
      "metadata": {
        "id": "36Ugn1odIeJz"
      },
      "source": [
        "Test and time it with input 3"
      ]
    },
    {
      "cell_type": "code",
      "execution_count": 168,
      "metadata": {
        "id": "jDyMbCnxHqSN",
        "outputId": "66bfaacd-02fe-4478-fde2-125c6fe8b430",
        "colab": {
          "base_uri": "https://localhost:8080/"
        }
      },
      "outputs": [
        {
          "output_type": "stream",
          "name": "stdout",
          "text": [
            "/bin/bash: line 1: ./max_pairwise_super_efficient: No such file or directory\n",
            "\n",
            "real\t0m0.001s\n",
            "user\t0m0.000s\n",
            "sys\t0m0.001s\n"
          ]
        }
      ],
      "source": [
        "!time ./max_pairwise_super_efficient < input3.txt"
      ]
    },
    {
      "cell_type": "markdown",
      "metadata": {
        "id": "bhqiKQG6fjKM"
      },
      "source": [
        "20 stress tests"
      ]
    },
    {
      "cell_type": "code",
      "execution_count": 169,
      "metadata": {
        "id": "2KsiXKhALzwm",
        "outputId": "509523c0-dd7e-49fc-e410-260966c90d6b",
        "colab": {
          "base_uri": "https://localhost:8080/"
        }
      },
      "outputs": [
        {
          "output_type": "stream",
          "name": "stdout",
          "text": [
            "Writing max_pairwise_super_efficient_stress_tests.cpp\n"
          ]
        }
      ],
      "source": [
        "%%writefile max_pairwise_super_efficient_stress_tests.cpp\n",
        "#include\n",
        "#include\n",
        "#include\n",
        "#include\n",
        "using namespace std;\n",
        "\n",
        "int main() {\n",
        "    std::random_device rd;\n",
        "    std::mt19937 gen(rd());\n",
        "    std::uniform_int_distribution n_dist(2, 19);\n",
        "    std::uniform_int_distribution num_dist(0, 25000);\n",
        "    int n;                                     // 1\n",
        "\n",
        "\n",
        "\n",
        "    for (int i = 0; i < 20; ++i ){\n",
        "\n",
        "          int n = n_dist(gen);\n",
        "          int numero_M = 0;\n",
        "          int segundo_Numero_M = 0;\n",
        "          for (int i = 0; i < n; ++i) {\n",
        "            int comp = 0;                           // n\n",
        "            comp= num_dist(gen);                    //1 + 2n\n",
        "            if (comp > numero_M){                  // n\n",
        "              segundo_Numero_M = numero_M;         //n\n",
        "              numero_M = comp;                     //n\n",
        "\n",
        "            } else if (comp > segundo_Numero_M) {    // n\n",
        "              segundo_Numero_M = comp;             //n\n",
        "            }\n",
        "\n",
        "\n",
        "          }\n",
        "\n",
        "        cout << \"n= \"<< n << \" Multiplicacion= \" << numero_M * segundo_Numero_M  << \"\\n\";\n",
        "    }\n",
        "    return 0;\n",
        "}"
      ]
    },
    {
      "cell_type": "code",
      "source": [
        "!g++ max_pairwise_super_efficient_stress_tests.cpp -o max_pairwise_super_efficient_stress_tests\n",
        "!./max_pairwise_super_efficient_stress_tests"
      ],
      "metadata": {
        "id": "eMynPnV-vfJg",
        "outputId": "794997a2-46d8-4ad0-962e-fa8469d3178d",
        "colab": {
          "base_uri": "https://localhost:8080/"
        }
      },
      "execution_count": 170,
      "outputs": [
        {
          "output_type": "stream",
          "name": "stdout",
          "text": [
            "\u001b[01m\u001b[Kmax_pairwise_super_efficient_stress_tests.cpp:1:10:\u001b[m\u001b[K \u001b[01;31m\u001b[Kerror: \u001b[m\u001b[K#include expects \"FILENAME\" or <FILENAME>\n",
            "    1 | #include\n",
            "      |          \u001b[01;31m\u001b[K^\u001b[m\u001b[K\n",
            "\u001b[01m\u001b[Kmax_pairwise_super_efficient_stress_tests.cpp:2:10:\u001b[m\u001b[K \u001b[01;31m\u001b[Kerror: \u001b[m\u001b[K#include expects \"FILENAME\" or <FILENAME>\n",
            "    2 | #include\n",
            "      |          \u001b[01;31m\u001b[K^\u001b[m\u001b[K\n",
            "\u001b[01m\u001b[Kmax_pairwise_super_efficient_stress_tests.cpp:3:10:\u001b[m\u001b[K \u001b[01;31m\u001b[Kerror: \u001b[m\u001b[K#include expects \"FILENAME\" or <FILENAME>\n",
            "    3 | #include\n",
            "      |          \u001b[01;31m\u001b[K^\u001b[m\u001b[K\n",
            "\u001b[01m\u001b[Kmax_pairwise_super_efficient_stress_tests.cpp:4:10:\u001b[m\u001b[K \u001b[01;31m\u001b[Kerror: \u001b[m\u001b[K#include expects \"FILENAME\" or <FILENAME>\n",
            "    4 | #include\n",
            "      |          \u001b[01;31m\u001b[K^\u001b[m\u001b[K\n",
            "\u001b[01m\u001b[Kmax_pairwise_super_efficient_stress_tests.cpp:\u001b[m\u001b[K In function ‘\u001b[01m\u001b[Kint main()\u001b[m\u001b[K’:\n",
            "\u001b[01m\u001b[Kmax_pairwise_super_efficient_stress_tests.cpp:8:10:\u001b[m\u001b[K \u001b[01;31m\u001b[Kerror: \u001b[m\u001b[K‘\u001b[01m\u001b[Krandom_device\u001b[m\u001b[K’ is not a member of ‘\u001b[01m\u001b[Kstd\u001b[m\u001b[K’\n",
            "    8 |     std::\u001b[01;31m\u001b[Krandom_device\u001b[m\u001b[K rd;\n",
            "      |          \u001b[01;31m\u001b[K^~~~~~~~~~~~~\u001b[m\u001b[K\n",
            "\u001b[01m\u001b[Kmax_pairwise_super_efficient_stress_tests.cpp:9:10:\u001b[m\u001b[K \u001b[01;31m\u001b[Kerror: \u001b[m\u001b[K‘\u001b[01m\u001b[Kmt19937\u001b[m\u001b[K’ is not a member of ‘\u001b[01m\u001b[Kstd\u001b[m\u001b[K’\n",
            "    9 |     std::\u001b[01;31m\u001b[Kmt19937\u001b[m\u001b[K gen(rd());\n",
            "      |          \u001b[01;31m\u001b[K^~~~~~~\u001b[m\u001b[K\n",
            "\u001b[01m\u001b[Kmax_pairwise_super_efficient_stress_tests.cpp:10:10:\u001b[m\u001b[K \u001b[01;31m\u001b[Kerror: \u001b[m\u001b[K‘\u001b[01m\u001b[Kuniform_int_distribution\u001b[m\u001b[K’ is not a member of ‘\u001b[01m\u001b[Kstd\u001b[m\u001b[K’\n",
            "   10 |     std::\u001b[01;31m\u001b[Kuniform_int_distribution\u001b[m\u001b[K n_dist(2, 19);\n",
            "      |          \u001b[01;31m\u001b[K^~~~~~~~~~~~~~~~~~~~~~~~\u001b[m\u001b[K\n",
            "\u001b[01m\u001b[Kmax_pairwise_super_efficient_stress_tests.cpp:11:10:\u001b[m\u001b[K \u001b[01;31m\u001b[Kerror: \u001b[m\u001b[K‘\u001b[01m\u001b[Kuniform_int_distribution\u001b[m\u001b[K’ is not a member of ‘\u001b[01m\u001b[Kstd\u001b[m\u001b[K’\n",
            "   11 |     std::\u001b[01;31m\u001b[Kuniform_int_distribution\u001b[m\u001b[K num_dist(0, 25000);\n",
            "      |          \u001b[01;31m\u001b[K^~~~~~~~~~~~~~~~~~~~~~~~\u001b[m\u001b[K\n",
            "\u001b[01m\u001b[Kmax_pairwise_super_efficient_stress_tests.cpp:18:26:\u001b[m\u001b[K \u001b[01;31m\u001b[Kerror: \u001b[m\u001b[K‘\u001b[01m\u001b[Kgen\u001b[m\u001b[K’ was not declared in this scope\n",
            "   18 |           int n = n_dist(\u001b[01;31m\u001b[Kgen\u001b[m\u001b[K);\n",
            "      |                          \u001b[01;31m\u001b[K^~~\u001b[m\u001b[K\n",
            "\u001b[01m\u001b[Kmax_pairwise_super_efficient_stress_tests.cpp:18:19:\u001b[m\u001b[K \u001b[01;31m\u001b[Kerror: \u001b[m\u001b[K‘\u001b[01m\u001b[Kn_dist\u001b[m\u001b[K’ was not declared in this scope\n",
            "   18 |           int n = \u001b[01;31m\u001b[Kn_dist\u001b[m\u001b[K(gen);\n",
            "      |                   \u001b[01;31m\u001b[K^~~~~~\u001b[m\u001b[K\n",
            "\u001b[01m\u001b[Kmax_pairwise_super_efficient_stress_tests.cpp:23:19:\u001b[m\u001b[K \u001b[01;31m\u001b[Kerror: \u001b[m\u001b[K‘\u001b[01m\u001b[Knum_dist\u001b[m\u001b[K’ was not declared in this scope\n",
            "   23 |             comp= \u001b[01;31m\u001b[Knum_dist\u001b[m\u001b[K(gen);                    //1 + 2n\n",
            "      |                   \u001b[01;31m\u001b[K^~~~~~~~\u001b[m\u001b[K\n",
            "\u001b[01m\u001b[Kmax_pairwise_super_efficient_stress_tests.cpp:35:9:\u001b[m\u001b[K \u001b[01;31m\u001b[Kerror: \u001b[m\u001b[K‘\u001b[01m\u001b[Kcout\u001b[m\u001b[K’ was not declared in this scope\n",
            "   35 |         \u001b[01;31m\u001b[Kcout\u001b[m\u001b[K << \"n= \"<< n << \" Multiplicacion= \" << numero_M * segundo_Numero_M  << \"\\n\";\n",
            "      |         \u001b[01;31m\u001b[K^~~~\u001b[m\u001b[K\n",
            "\u001b[01m\u001b[Kmax_pairwise_super_efficient_stress_tests.cpp:1:1:\u001b[m\u001b[K \u001b[01;36m\u001b[Knote: \u001b[m\u001b[K‘\u001b[01m\u001b[Kstd::cout\u001b[m\u001b[K’ is defined in header ‘\u001b[01m\u001b[K<iostream>\u001b[m\u001b[K’; did you forget to ‘\u001b[01m\u001b[K#include <iostream>\u001b[m\u001b[K’?\n",
            "  +++ |+\u001b[32m\u001b[K#include <iostream>\u001b[m\u001b[K\n",
            "    1 | #include\n",
            "/bin/bash: line 1: ./max_pairwise_super_efficient_stress_tests: No such file or directory\n"
          ]
        }
      ]
    },
    {
      "cell_type": "markdown",
      "metadata": {
        "id": "fEXj8GHJH5p1"
      },
      "source": [
        "Count executed instructions in code and verify with inputs 1,2 and 3"
      ]
    },
    {
      "cell_type": "code",
      "execution_count": 171,
      "metadata": {
        "id": "LF1DHjKXIAsF",
        "outputId": "5cfa5ca3-c0e7-4471-af27-ec344e799a78",
        "colab": {
          "base_uri": "https://localhost:8080/"
        }
      },
      "outputs": [
        {
          "output_type": "stream",
          "name": "stdout",
          "text": [
            "Writing max_pairwise_super_efficient_count.cpp\n"
          ]
        }
      ],
      "source": [
        "%%writefile max_pairwise_super_efficient_count.cpp\n",
        "#include\n",
        "#include\n",
        "#include\n",
        "using namespace std;\n",
        "\n",
        "int main() {\n",
        "    int inst = 0;\n",
        "    int n;                                     // 1\n",
        "    inst++;\n",
        "    cin >> n;                                  // 1\n",
        "    inst++;\n",
        "    int numero_M = 0;                   // 1\n",
        "    inst++;\n",
        "    int segundo_Numero_M = 0;             // 1\n",
        "    inst++;\n",
        "\n",
        "    inst++;\n",
        "    inst+=2*n;\n",
        "    for (int i = 0; i < n; ++i) {              //1 + 2n\n",
        "        int comp = 0;                           // n\n",
        "        inst++;\n",
        "        cin >> comp;                            // n\n",
        "        inst++;\n",
        "        inst++;\n",
        "        if (comp > numero_M){                  // n\n",
        "          segundo_Numero_M = numero_M;         //0 o n\n",
        "          inst++;\n",
        "          numero_M = comp;                     //0 o n\n",
        "          inst++;\n",
        "\n",
        "        } else if (comp > segundo_Numero_M) {    // 0 o n\n",
        "          inst++;\n",
        "          segundo_Numero_M = comp;             // 0 o n\n",
        "          inst++;\n",
        "        }\n",
        "    }\n",
        "\n",
        "    cout  << numero_M * segundo_Numero_M << \"\\n\"; // 1\n",
        "    inst++;\n",
        "    cout << \"Numero de Instrucciones: \" << inst << \"\\n\";\n",
        "    return 0;\n",
        "}"
      ]
    },
    {
      "cell_type": "code",
      "source": [
        "!g++ max_pairwise_super_efficient_count.cpp -o max_pairwise_super_efficient_count"
      ],
      "metadata": {
        "id": "mBHEdD6avzfJ",
        "outputId": "dae6ad85-e617-4dae-9529-6487b40ec31e",
        "colab": {
          "base_uri": "https://localhost:8080/"
        }
      },
      "execution_count": 172,
      "outputs": [
        {
          "output_type": "stream",
          "name": "stdout",
          "text": [
            "\u001b[01m\u001b[Kmax_pairwise_super_efficient_count.cpp:1:10:\u001b[m\u001b[K \u001b[01;31m\u001b[Kerror: \u001b[m\u001b[K#include expects \"FILENAME\" or <FILENAME>\n",
            "    1 | #include\n",
            "      |          \u001b[01;31m\u001b[K^\u001b[m\u001b[K\n",
            "\u001b[01m\u001b[Kmax_pairwise_super_efficient_count.cpp:2:10:\u001b[m\u001b[K \u001b[01;31m\u001b[Kerror: \u001b[m\u001b[K#include expects \"FILENAME\" or <FILENAME>\n",
            "    2 | #include\n",
            "      |          \u001b[01;31m\u001b[K^\u001b[m\u001b[K\n",
            "\u001b[01m\u001b[Kmax_pairwise_super_efficient_count.cpp:3:10:\u001b[m\u001b[K \u001b[01;31m\u001b[Kerror: \u001b[m\u001b[K#include expects \"FILENAME\" or <FILENAME>\n",
            "    3 | #include\n",
            "      |          \u001b[01;31m\u001b[K^\u001b[m\u001b[K\n",
            "\u001b[01m\u001b[Kmax_pairwise_super_efficient_count.cpp:\u001b[m\u001b[K In function ‘\u001b[01m\u001b[Kint main()\u001b[m\u001b[K’:\n",
            "\u001b[01m\u001b[Kmax_pairwise_super_efficient_count.cpp:10:5:\u001b[m\u001b[K \u001b[01;31m\u001b[Kerror: \u001b[m\u001b[K‘\u001b[01m\u001b[Kcin\u001b[m\u001b[K’ was not declared in this scope\n",
            "   10 |     \u001b[01;31m\u001b[Kcin\u001b[m\u001b[K >> n;                                  // 1\n",
            "      |     \u001b[01;31m\u001b[K^~~\u001b[m\u001b[K\n",
            "\u001b[01m\u001b[Kmax_pairwise_super_efficient_count.cpp:1:1:\u001b[m\u001b[K \u001b[01;36m\u001b[Knote: \u001b[m\u001b[K‘\u001b[01m\u001b[Kstd::cin\u001b[m\u001b[K’ is defined in header ‘\u001b[01m\u001b[K<iostream>\u001b[m\u001b[K’; did you forget to ‘\u001b[01m\u001b[K#include <iostream>\u001b[m\u001b[K’?\n",
            "  +++ |+\u001b[32m\u001b[K#include <iostream>\u001b[m\u001b[K\n",
            "    1 | #include\n",
            "\u001b[01m\u001b[Kmax_pairwise_super_efficient_count.cpp:38:5:\u001b[m\u001b[K \u001b[01;31m\u001b[Kerror: \u001b[m\u001b[K‘\u001b[01m\u001b[Kcout\u001b[m\u001b[K’ was not declared in this scope\n",
            "   38 |     \u001b[01;31m\u001b[Kcout\u001b[m\u001b[K  << numero_M * segundo_Numero_M << \"\\n\"; // 1\n",
            "      |     \u001b[01;31m\u001b[K^~~~\u001b[m\u001b[K\n",
            "\u001b[01m\u001b[Kmax_pairwise_super_efficient_count.cpp:38:5:\u001b[m\u001b[K \u001b[01;36m\u001b[Knote: \u001b[m\u001b[K‘\u001b[01m\u001b[Kstd::cout\u001b[m\u001b[K’ is defined in header ‘\u001b[01m\u001b[K<iostream>\u001b[m\u001b[K’; did you forget to ‘\u001b[01m\u001b[K#include <iostream>\u001b[m\u001b[K’?\n"
          ]
        }
      ]
    },
    {
      "cell_type": "code",
      "source": [
        "!./max_pairwise_super_efficient_count < input1.txt\n",
        "!./max_pairwise_super_efficient_count < input2.txt\n",
        "!./max_pairwise_super_efficient_count < input3.txt"
      ],
      "metadata": {
        "id": "7RLkQ9xMv2_u",
        "outputId": "a9140d6d-0dfc-43d8-829c-8e36947921d5",
        "colab": {
          "base_uri": "https://localhost:8080/"
        }
      },
      "execution_count": 173,
      "outputs": [
        {
          "output_type": "stream",
          "name": "stdout",
          "text": [
            "/bin/bash: line 1: ./max_pairwise_super_efficient_count: No such file or directory\n",
            "/bin/bash: line 1: ./max_pairwise_super_efficient_count: No such file or directory\n",
            "/bin/bash: line 1: ./max_pairwise_super_efficient_count: No such file or directory\n"
          ]
        }
      ]
    },
    {
      "cell_type": "markdown",
      "metadata": {
        "id": "yae7sSm2IG9U"
      },
      "source": [
        "Calculate estimated time by instruction and number of instructions by second"
      ]
    },
    {
      "cell_type": "code",
      "execution_count": 174,
      "metadata": {
        "id": "suouY7BYL2dz",
        "outputId": "4b2f3a56-cc12-4ff1-cc4e-1a24e855dcb4",
        "colab": {
          "base_uri": "https://localhost:8080/"
        }
      },
      "outputs": [
        {
          "output_type": "stream",
          "name": "stdout",
          "text": [
            "Tiempo por instruccion: 6.521739130434783e-05\n",
            "Instrucciones por segundo: 15333.333333333332\n"
          ]
        }
      ],
      "source": [
        "t_por_instruccion = 0.003 / 46\n",
        "instrucciones_por_segundo = 1 / t_por_instruccion\n",
        "print(f\"Tiempo por instruccion: {t_por_instruccion}\")\n",
        "print(f\"Instrucciones por segundo: {instrucciones_por_segundo}\")"
      ]
    },
    {
      "cell_type": "markdown",
      "metadata": {
        "id": "sy33CNNfPxcE"
      },
      "source": [
        "### Super efficient solution in Python\n",
        "\n",
        "Whitout storing the list in memory and whitout calling a function, add in each line a coment with the number of intstrcution that are executed in that line"
      ]
    },
    {
      "cell_type": "code",
      "execution_count": 94,
      "metadata": {
        "id": "_mOjJwKrPxcJ",
        "outputId": "6a075814-cd29-4bbd-876a-3dec306ed378",
        "colab": {
          "base_uri": "https://localhost:8080/"
        }
      },
      "outputs": [
        {
          "output_type": "stream",
          "name": "stdout",
          "text": [
            "Overwriting max_pairwise_super_efficient.py\n"
          ]
        }
      ],
      "source": [
        "\n",
        "%%writefile max_pairwise_super_efficient.py\n",
        "n = int(input())                            # 1\n",
        "numero_M = 0                                # 1\n",
        "segundo_Numero_M = 0                        # 1\n",
        "\n",
        "for comp in input().split():                 # 3 + 2n\n",
        "\n",
        "    comp = int(comp)                          # n\n",
        "\n",
        "    if comp > numero_M:                    # n\n",
        "        segundo_Numero_M = numero_M      # 0 o n\n",
        "        numero_M = comp                  # 0 o n\n",
        "    elif comp > segundo_Numero_M:           # n\n",
        "        segundo_Numero_M = comp             # 0 o n\n",
        "print(f\"{numero_M * segundo_Numero_M}\")"
      ]
    },
    {
      "cell_type": "markdown",
      "metadata": {
        "id": "K08Eow0hPxcJ"
      },
      "source": [
        "Test with inputs 1 and 2\n",
        "\n",
        "\n"
      ]
    },
    {
      "cell_type": "code",
      "execution_count": 95,
      "metadata": {
        "id": "1_mUee2cPxcJ",
        "outputId": "f22bba41-569d-4bcc-e3f3-c7b10e1dc2a9",
        "colab": {
          "base_uri": "https://localhost:8080/"
        }
      },
      "outputs": [
        {
          "output_type": "stream",
          "name": "stdout",
          "text": [
            "90\n",
            "90\n"
          ]
        }
      ],
      "source": [
        "!python max_pairwise_super_efficient.py < input1.txt\n",
        "!python max_pairwise_super_efficient.py < input2.txt"
      ]
    },
    {
      "cell_type": "markdown",
      "metadata": {
        "id": "CE5DB3CmPxcJ"
      },
      "source": [
        "Test and time it with input 3"
      ]
    },
    {
      "cell_type": "code",
      "execution_count": 100,
      "metadata": {
        "id": "lyLhFOoePxcJ",
        "outputId": "988ffa23-3e0d-4e30-b77b-1dc8f3edd3c4",
        "colab": {
          "base_uri": "https://localhost:8080/"
        }
      },
      "outputs": [
        {
          "output_type": "stream",
          "name": "stdout",
          "text": [
            "40000000000\n",
            "CPU times: user 6.19 ms, sys: 0 ns, total: 6.19 ms\n",
            "Wall time: 106 ms\n"
          ]
        }
      ],
      "source": [
        "%%time\n",
        "!python max_pairwise_super_efficient.py < input3.txt"
      ]
    },
    {
      "cell_type": "markdown",
      "metadata": {
        "id": "HZEI236lPxcK"
      },
      "source": [
        "20 stress tests"
      ]
    },
    {
      "cell_type": "code",
      "execution_count": 101,
      "metadata": {
        "id": "_LoV-p4zPxcK",
        "outputId": "97e60c8f-3a63-4b7a-efaf-b5df5d8e3069",
        "colab": {
          "base_uri": "https://localhost:8080/"
        }
      },
      "outputs": [
        {
          "output_type": "stream",
          "name": "stdout",
          "text": [
            "Writing max_pairwise_super_efficient_stress_tests.py\n"
          ]
        }
      ],
      "source": [
        "%%writefile max_pairwise_super_efficient_stress_tests.py\n",
        "import random\n",
        "\n",
        "for i in range(20):\n",
        "  n = random.randint(2, 19)\n",
        "  numero_M = 0                                # 1\n",
        "  segundo_Numero_M = 0\n",
        "  for j in range(n):\n",
        "    comp=random.randint(17, 25631)\n",
        "    if comp > numero_M:                    # n\n",
        "      segundo_Numero_M = numero_M      # 0 o n\n",
        "      numero_M = comp                  # 0 o n\n",
        "    elif comp > segundo_Numero_M:           # n\n",
        "      segundo_Numero_M = comp             # 0 o n\n",
        "  print(f\"{i+1}. n= {n} Producto= {numero_M * segundo_Numero_M}\")"
      ]
    },
    {
      "cell_type": "code",
      "source": [
        "!python max_pairwise_super_efficient_stress_tests.py"
      ],
      "metadata": {
        "id": "oL7gNYS2i9Zh",
        "outputId": "facd2b7c-db2d-4f11-de46-39dc31b4aea8",
        "colab": {
          "base_uri": "https://localhost:8080/"
        }
      },
      "execution_count": 102,
      "outputs": [
        {
          "output_type": "stream",
          "name": "stdout",
          "text": [
            "1. n= 7 Producto= 386472988\n",
            "2. n= 16 Producto= 503578816\n",
            "3. n= 5 Producto= 547337813\n",
            "4. n= 19 Producto= 542860875\n",
            "5. n= 19 Producto= 465455344\n",
            "6. n= 9 Producto= 388107276\n",
            "7. n= 10 Producto= 599805550\n",
            "8. n= 14 Producto= 514385248\n",
            "9. n= 16 Producto= 550112780\n",
            "10. n= 6 Producto= 568760038\n",
            "11. n= 9 Producto= 458977424\n",
            "12. n= 14 Producto= 569582235\n",
            "13. n= 4 Producto= 593145630\n",
            "14. n= 14 Producto= 578246449\n",
            "15. n= 15 Producto= 437926176\n",
            "16. n= 2 Producto= 345192461\n",
            "17. n= 19 Producto= 498801310\n",
            "18. n= 12 Producto= 575204580\n",
            "19. n= 6 Producto= 458151512\n",
            "20. n= 16 Producto= 412795350\n"
          ]
        }
      ]
    },
    {
      "cell_type": "markdown",
      "metadata": {
        "id": "IRVdP3iuPxcK"
      },
      "source": [
        "Count executed instructions in code and verify with inputs 1,2 and 3"
      ]
    },
    {
      "cell_type": "code",
      "source": [
        "%%writefile max_pairwise_super_efficient_count.py\n",
        "instrucciones=0\n",
        "n = int(input())                            # 1\n",
        "instrucciones+=1\n",
        "numero_M = 0                                # 1\n",
        "instrucciones+=1\n",
        "segundo_Numero_M = 0                        # 1\n",
        "instrucciones+=1\n",
        "instrucciones+=1\n",
        "instrucciones+=2*n\n",
        "for comp in input().split():                 # 1 + 2n\n",
        "\n",
        "    comp = int(comp)                          # n\n",
        "    instrucciones+=1\n",
        "\n",
        "    instrucciones+=1\n",
        "    if comp > numero_M:                    # n\n",
        "        segundo_Numero_M = numero_M      # 0 o n\n",
        "        instrucciones+=1\n",
        "        numero_M = comp                  # 0 o n\n",
        "        instrucciones+=1\n",
        "    elif comp > segundo_Numero_M:           # 0 o n\n",
        "        instrucciones+=1\n",
        "        segundo_Numero_M = comp             # 0 o n\n",
        "        instrucciones+=1\n",
        "\n",
        "print(f\"{numero_M * segundo_Numero_M}\")\n",
        "print(f\"Instrucciones totales: {instrucciones} \")"
      ],
      "metadata": {
        "id": "tCTsS_nLkOpI",
        "outputId": "e3f883c8-d1cc-4a39-ea18-176453a57565",
        "colab": {
          "base_uri": "https://localhost:8080/"
        }
      },
      "execution_count": 105,
      "outputs": [
        {
          "output_type": "stream",
          "name": "stdout",
          "text": [
            "Overwriting max_pairwise_super_efficient_count.py\n"
          ]
        }
      ]
    },
    {
      "cell_type": "code",
      "source": [
        "!python max_pairwise_super_efficient_count.py < input1.txt\n",
        "!python max_pairwise_super_efficient_count.py < input2.txt\n",
        "!python max_pairwise_super_efficient_count.py < input3.txt"
      ],
      "metadata": {
        "id": "Yv_QicTEjFXh",
        "outputId": "38b1a378-eab7-4439-c178-9b9fa34eb660",
        "colab": {
          "base_uri": "https://localhost:8080/"
        }
      },
      "execution_count": 175,
      "outputs": [
        {
          "output_type": "stream",
          "name": "stdout",
          "text": [
            "90\n",
            "Instrucciones totales: 64 \n",
            "90\n",
            "Instrucciones totales: 48 \n",
            "40000000000\n",
            "Instrucciones totales: 38 \n"
          ]
        }
      ]
    },
    {
      "cell_type": "markdown",
      "source": [
        "## Calculate estimated time by instruction and number of instructions by second"
      ],
      "metadata": {
        "id": "1peR1EPJkWxO"
      }
    },
    {
      "cell_type": "code",
      "source": [
        "t_por_instruccion = 0.00405 / 38\n",
        "instrucciones_por_segundo = 1 / t_por_instruccion\n",
        "print(f\"Tiempo por instruccion: {t_por_instruccion}\")\n",
        "print(f\"Instrucciones por segundo: {instrucciones_por_segundo}\")"
      ],
      "metadata": {
        "id": "lWwbSo1lkdSY",
        "outputId": "04ef9ec8-0dea-4284-fce6-b3f0f1624d81",
        "colab": {
          "base_uri": "https://localhost:8080/"
        }
      },
      "execution_count": 106,
      "outputs": [
        {
          "output_type": "stream",
          "name": "stdout",
          "text": [
            "Tiempo por instruccion: 0.00010657894736842105\n",
            "Instrucciones por segundo: 9382.716049382716\n"
          ]
        }
      ]
    },
    {
      "cell_type": "markdown",
      "source": [
        "### Estimate and verify the maximun n that can be solved in 1 second"
      ],
      "metadata": {
        "id": "uZGdjUwuaO4v"
      }
    },
    {
      "cell_type": "code",
      "source": [
        "\n",
        "%%writefile maximun_n_that_can_be_solved_super_efficient.py\n",
        "import random\n",
        "\n",
        "n = 900000\n",
        "numero_M = 0                                # 1\n",
        "segundo_Numero_M = 0\n",
        "for j in range(n):\n",
        "  comp=random.randint(17, 25631)\n",
        "  if comp > numero_M:                    # n\n",
        "    segundo_Numero_M = numero_M      # 0 o n\n",
        "    numero_M = comp                  # 0 o n\n",
        "  elif comp > segundo_Numero_M:           # n\n",
        "    segundo_Numero_M = comp             # 0 o n\n",
        "print(f\"Producto= {numero_M * segundo_Numero_M}\")"
      ],
      "metadata": {
        "id": "FjqFevOaaOVz",
        "outputId": "85bd9a3b-277a-4af3-9f26-4545a1514d89",
        "colab": {
          "base_uri": "https://localhost:8080/"
        }
      },
      "execution_count": 96,
      "outputs": [
        {
          "output_type": "stream",
          "name": "stdout",
          "text": [
            "Overwriting maximun_n_that_can_be_solved_super_efficient.py\n"
          ]
        }
      ]
    },
    {
      "cell_type": "code",
      "source": [
        "%%time\n",
        "!python maximun_n_that_can_be_solved_super_efficient.py"
      ],
      "metadata": {
        "id": "R6IVmpYKh0jq",
        "outputId": "baee5978-14dd-422e-ca2f-bd5aba05f009",
        "colab": {
          "base_uri": "https://localhost:8080/"
        }
      },
      "execution_count": 97,
      "outputs": [
        {
          "output_type": "stream",
          "name": "stdout",
          "text": [
            "Producto= 656948161\n",
            "CPU times: user 15.9 ms, sys: 2.56 ms, total: 18.4 ms\n",
            "Wall time: 1.21 s\n"
          ]
        }
      ]
    },
    {
      "cell_type": "markdown",
      "source": [
        "## Perform 100 randomized automated tests in C++ and Python with a porgram  compares the answers,for the same 100 random input instances, of the super efficient solution $(T(n) < 10 n = O(n))$ against the sorting solution  $(T(n)  = O(n \\lg{n}))$,  if the answers are not the same stops and displays \"Error\" listing  the input and the two answers; if the 100 tests are completed without stoping displays \"Pass\"."
      ],
      "metadata": {
        "id": "4hHRQMXzW6oR"
      }
    },
    {
      "cell_type": "code",
      "source": [
        "%%writefile max_pairwise_super_efficient_against_sorting_stress_tests.py\n",
        "import random\n",
        "\n",
        "for i in range(100):\n",
        "  n = random.randint(2, 99)\n",
        "  numero_M = 0                                # 1\n",
        "  segundo_Numero_M = 0\n",
        "  lista = []\n",
        "  for j in range(n):\n",
        "    comp=random.randint(17, 25631)\n",
        "    lista.append(comp)\n",
        "    if comp > numero_M:                    # n\n",
        "      segundo_Numero_M = numero_M      # 0 o n\n",
        "      numero_M = comp                  # 0 o n\n",
        "    elif comp > segundo_Numero_M:           # n\n",
        "      segundo_Numero_M = comp             # 0 o n\n",
        "  lista.sort()\n",
        "  sol_sorting=lista[n - 1] * lista[n - 2]\n",
        "  sol_super_e = numero_M * segundo_Numero_M\n",
        "\n",
        "\n",
        "  if sol_sorting != sol_super_e:\n",
        "    print(\"Error\")\n",
        "    break\n",
        "  else:\n",
        "      print(f\"{i+1}. SUPER EFFICENT SOLITION: n= {n} Product= {numero_M * segundo_Numero_M}\")\n",
        "      print(f\"{i+1}. SORTING SOLUTION: n= {n} Product: {lista[n - 1] * lista[n - 2]}\")\n",
        "  if i==99:\n",
        "    print(\"Pass\")"
      ],
      "metadata": {
        "id": "X0iQpIZeheM4",
        "outputId": "790239a6-a1b4-46f9-8222-94d135b4154e",
        "colab": {
          "base_uri": "https://localhost:8080/"
        }
      },
      "execution_count": 98,
      "outputs": [
        {
          "output_type": "stream",
          "name": "stdout",
          "text": [
            "Overwriting max_pairwise_super_efficient_against_sorting_stress_tests.py\n"
          ]
        }
      ]
    },
    {
      "cell_type": "code",
      "source": [
        "!python max_pairwise_super_efficient_against_sorting_stress_tests.py"
      ],
      "metadata": {
        "id": "DzlQNdcuhkO8",
        "outputId": "a6ed875a-c067-45fa-8317-8b7d2156e9d1",
        "colab": {
          "base_uri": "https://localhost:8080/"
        }
      },
      "execution_count": 99,
      "outputs": [
        {
          "output_type": "stream",
          "name": "stdout",
          "text": [
            "1. SUPER EFFICENT SOLITION: n= 35 Product= 581987830\n",
            "1. SORTING SOLUTION: n= 35 Product: 581987830\n",
            "2. SUPER EFFICENT SOLITION: n= 2 Product= 201390371\n",
            "2. SORTING SOLUTION: n= 2 Product: 201390371\n",
            "3. SUPER EFFICENT SOLITION: n= 26 Product= 556652580\n",
            "3. SORTING SOLUTION: n= 26 Product: 556652580\n",
            "4. SUPER EFFICENT SOLITION: n= 63 Product= 625542200\n",
            "4. SORTING SOLUTION: n= 63 Product: 625542200\n",
            "5. SUPER EFFICENT SOLITION: n= 21 Product= 591906000\n",
            "5. SORTING SOLUTION: n= 21 Product: 591906000\n",
            "6. SUPER EFFICENT SOLITION: n= 94 Product= 643805382\n",
            "6. SORTING SOLUTION: n= 94 Product: 643805382\n",
            "7. SUPER EFFICENT SOLITION: n= 40 Product= 545079705\n",
            "7. SORTING SOLUTION: n= 40 Product: 545079705\n",
            "8. SUPER EFFICENT SOLITION: n= 81 Product= 646703850\n",
            "8. SORTING SOLUTION: n= 81 Product: 646703850\n",
            "9. SUPER EFFICENT SOLITION: n= 63 Product= 642648552\n",
            "9. SORTING SOLUTION: n= 63 Product: 642648552\n",
            "10. SUPER EFFICENT SOLITION: n= 29 Product= 626954166\n",
            "10. SORTING SOLUTION: n= 29 Product: 626954166\n",
            "11. SUPER EFFICENT SOLITION: n= 32 Product= 582669020\n",
            "11. SORTING SOLUTION: n= 32 Product: 582669020\n",
            "12. SUPER EFFICENT SOLITION: n= 66 Product= 615325200\n",
            "12. SORTING SOLUTION: n= 66 Product: 615325200\n",
            "13. SUPER EFFICENT SOLITION: n= 92 Product= 636799992\n",
            "13. SORTING SOLUTION: n= 92 Product: 636799992\n",
            "14. SUPER EFFICENT SOLITION: n= 41 Product= 555620724\n",
            "14. SORTING SOLUTION: n= 41 Product: 555620724\n",
            "15. SUPER EFFICENT SOLITION: n= 2 Product= 150819648\n",
            "15. SORTING SOLUTION: n= 2 Product: 150819648\n",
            "16. SUPER EFFICENT SOLITION: n= 86 Product= 646527705\n",
            "16. SORTING SOLUTION: n= 86 Product: 646527705\n",
            "17. SUPER EFFICENT SOLITION: n= 69 Product= 638418789\n",
            "17. SORTING SOLUTION: n= 69 Product: 638418789\n",
            "18. SUPER EFFICENT SOLITION: n= 4 Product= 417348963\n",
            "18. SORTING SOLUTION: n= 4 Product: 417348963\n",
            "19. SUPER EFFICENT SOLITION: n= 12 Product= 547665201\n",
            "19. SORTING SOLUTION: n= 12 Product: 547665201\n",
            "20. SUPER EFFICENT SOLITION: n= 98 Product= 645417378\n",
            "20. SORTING SOLUTION: n= 98 Product: 645417378\n",
            "21. SUPER EFFICENT SOLITION: n= 13 Product= 518747424\n",
            "21. SORTING SOLUTION: n= 13 Product: 518747424\n",
            "22. SUPER EFFICENT SOLITION: n= 47 Product= 593830985\n",
            "22. SORTING SOLUTION: n= 47 Product: 593830985\n",
            "23. SUPER EFFICENT SOLITION: n= 17 Product= 647715068\n",
            "23. SORTING SOLUTION: n= 17 Product: 647715068\n",
            "24. SUPER EFFICENT SOLITION: n= 77 Product= 640562600\n",
            "24. SORTING SOLUTION: n= 77 Product: 640562600\n",
            "25. SUPER EFFICENT SOLITION: n= 44 Product= 570125860\n",
            "25. SORTING SOLUTION: n= 44 Product: 570125860\n",
            "26. SUPER EFFICENT SOLITION: n= 89 Product= 619469514\n",
            "26. SORTING SOLUTION: n= 89 Product: 619469514\n",
            "27. SUPER EFFICENT SOLITION: n= 79 Product= 639460926\n",
            "27. SORTING SOLUTION: n= 79 Product: 639460926\n",
            "28. SUPER EFFICENT SOLITION: n= 82 Product= 639276812\n",
            "28. SORTING SOLUTION: n= 82 Product: 639276812\n",
            "29. SUPER EFFICENT SOLITION: n= 94 Product= 644051750\n",
            "29. SORTING SOLUTION: n= 94 Product: 644051750\n",
            "30. SUPER EFFICENT SOLITION: n= 48 Product= 620284187\n",
            "30. SORTING SOLUTION: n= 48 Product: 620284187\n",
            "31. SUPER EFFICENT SOLITION: n= 29 Product= 572827220\n",
            "31. SORTING SOLUTION: n= 29 Product: 572827220\n",
            "32. SUPER EFFICENT SOLITION: n= 32 Product= 623113920\n",
            "32. SORTING SOLUTION: n= 32 Product: 623113920\n",
            "33. SUPER EFFICENT SOLITION: n= 80 Product= 649520320\n",
            "33. SORTING SOLUTION: n= 80 Product: 649520320\n",
            "34. SUPER EFFICENT SOLITION: n= 70 Product= 625219092\n",
            "34. SORTING SOLUTION: n= 70 Product: 625219092\n",
            "35. SUPER EFFICENT SOLITION: n= 49 Product= 600764230\n",
            "35. SORTING SOLUTION: n= 49 Product: 600764230\n",
            "36. SUPER EFFICENT SOLITION: n= 97 Product= 620342519\n",
            "36. SORTING SOLUTION: n= 97 Product: 620342519\n",
            "37. SUPER EFFICENT SOLITION: n= 51 Product= 607529468\n",
            "37. SORTING SOLUTION: n= 51 Product: 607529468\n",
            "38. SUPER EFFICENT SOLITION: n= 85 Product= 609234175\n",
            "38. SORTING SOLUTION: n= 85 Product: 609234175\n",
            "39. SUPER EFFICENT SOLITION: n= 78 Product= 641199328\n",
            "39. SORTING SOLUTION: n= 78 Product: 641199328\n",
            "40. SUPER EFFICENT SOLITION: n= 13 Product= 576587110\n",
            "40. SORTING SOLUTION: n= 13 Product: 576587110\n",
            "41. SUPER EFFICENT SOLITION: n= 33 Product= 643332492\n",
            "41. SORTING SOLUTION: n= 33 Product: 643332492\n",
            "42. SUPER EFFICENT SOLITION: n= 38 Product= 631630053\n",
            "42. SORTING SOLUTION: n= 38 Product: 631630053\n",
            "43. SUPER EFFICENT SOLITION: n= 32 Product= 537774367\n",
            "43. SORTING SOLUTION: n= 32 Product: 537774367\n",
            "44. SUPER EFFICENT SOLITION: n= 48 Product= 632305250\n",
            "44. SORTING SOLUTION: n= 48 Product: 632305250\n",
            "45. SUPER EFFICENT SOLITION: n= 9 Product= 373793212\n",
            "45. SORTING SOLUTION: n= 9 Product: 373793212\n",
            "46. SUPER EFFICENT SOLITION: n= 50 Product= 615982472\n",
            "46. SORTING SOLUTION: n= 50 Product: 615982472\n",
            "47. SUPER EFFICENT SOLITION: n= 95 Product= 642739156\n",
            "47. SORTING SOLUTION: n= 95 Product: 642739156\n",
            "48. SUPER EFFICENT SOLITION: n= 96 Product= 645924688\n",
            "48. SORTING SOLUTION: n= 96 Product: 645924688\n",
            "49. SUPER EFFICENT SOLITION: n= 42 Product= 592581073\n",
            "49. SORTING SOLUTION: n= 42 Product: 592581073\n",
            "50. SUPER EFFICENT SOLITION: n= 67 Product= 645970750\n",
            "50. SORTING SOLUTION: n= 67 Product: 645970750\n",
            "51. SUPER EFFICENT SOLITION: n= 11 Product= 606572470\n",
            "51. SORTING SOLUTION: n= 11 Product: 606572470\n",
            "52. SUPER EFFICENT SOLITION: n= 82 Product= 627627726\n",
            "52. SORTING SOLUTION: n= 82 Product: 627627726\n",
            "53. SUPER EFFICENT SOLITION: n= 66 Product= 642820220\n",
            "53. SORTING SOLUTION: n= 66 Product: 642820220\n",
            "54. SUPER EFFICENT SOLITION: n= 37 Product= 633879729\n",
            "54. SORTING SOLUTION: n= 37 Product: 633879729\n",
            "55. SUPER EFFICENT SOLITION: n= 85 Product= 641663722\n",
            "55. SORTING SOLUTION: n= 85 Product: 641663722\n",
            "56. SUPER EFFICENT SOLITION: n= 68 Product= 570733500\n",
            "56. SORTING SOLUTION: n= 68 Product: 570733500\n",
            "57. SUPER EFFICENT SOLITION: n= 61 Product= 642373490\n",
            "57. SORTING SOLUTION: n= 61 Product: 642373490\n",
            "58. SUPER EFFICENT SOLITION: n= 98 Product= 649790960\n",
            "58. SORTING SOLUTION: n= 98 Product: 649790960\n",
            "59. SUPER EFFICENT SOLITION: n= 86 Product= 589888778\n",
            "59. SORTING SOLUTION: n= 86 Product: 589888778\n",
            "60. SUPER EFFICENT SOLITION: n= 25 Product= 648133740\n",
            "60. SORTING SOLUTION: n= 25 Product: 648133740\n",
            "61. SUPER EFFICENT SOLITION: n= 97 Product= 647240881\n",
            "61. SORTING SOLUTION: n= 97 Product: 647240881\n",
            "62. SUPER EFFICENT SOLITION: n= 45 Product= 635682656\n",
            "62. SORTING SOLUTION: n= 45 Product: 635682656\n",
            "63. SUPER EFFICENT SOLITION: n= 21 Product= 574680336\n",
            "63. SORTING SOLUTION: n= 21 Product: 574680336\n",
            "64. SUPER EFFICENT SOLITION: n= 59 Product= 597511448\n",
            "64. SORTING SOLUTION: n= 59 Product: 597511448\n",
            "65. SUPER EFFICENT SOLITION: n= 31 Product= 578704896\n",
            "65. SORTING SOLUTION: n= 31 Product: 578704896\n",
            "66. SUPER EFFICENT SOLITION: n= 20 Product= 495323736\n",
            "66. SORTING SOLUTION: n= 20 Product: 495323736\n",
            "67. SUPER EFFICENT SOLITION: n= 87 Product= 631257704\n",
            "67. SORTING SOLUTION: n= 87 Product: 631257704\n",
            "68. SUPER EFFICENT SOLITION: n= 75 Product= 648994458\n",
            "68. SORTING SOLUTION: n= 75 Product: 648994458\n",
            "69. SUPER EFFICENT SOLITION: n= 45 Product= 612061516\n",
            "69. SORTING SOLUTION: n= 45 Product: 612061516\n",
            "70. SUPER EFFICENT SOLITION: n= 97 Product= 637784400\n",
            "70. SORTING SOLUTION: n= 97 Product: 637784400\n",
            "71. SUPER EFFICENT SOLITION: n= 4 Product= 333752464\n",
            "71. SORTING SOLUTION: n= 4 Product: 333752464\n",
            "72. SUPER EFFICENT SOLITION: n= 15 Product= 573301099\n",
            "72. SORTING SOLUTION: n= 15 Product: 573301099\n",
            "73. SUPER EFFICENT SOLITION: n= 52 Product= 626646020\n",
            "73. SORTING SOLUTION: n= 52 Product: 626646020\n",
            "74. SUPER EFFICENT SOLITION: n= 60 Product= 647422744\n",
            "74. SORTING SOLUTION: n= 60 Product: 647422744\n",
            "75. SUPER EFFICENT SOLITION: n= 37 Product= 544896114\n",
            "75. SORTING SOLUTION: n= 37 Product: 544896114\n",
            "76. SUPER EFFICENT SOLITION: n= 37 Product= 634848976\n",
            "76. SORTING SOLUTION: n= 37 Product: 634848976\n",
            "77. SUPER EFFICENT SOLITION: n= 88 Product= 649938560\n",
            "77. SORTING SOLUTION: n= 88 Product: 649938560\n",
            "78. SUPER EFFICENT SOLITION: n= 16 Product= 593027736\n",
            "78. SORTING SOLUTION: n= 16 Product: 593027736\n",
            "79. SUPER EFFICENT SOLITION: n= 41 Product= 588053462\n",
            "79. SORTING SOLUTION: n= 41 Product: 588053462\n",
            "80. SUPER EFFICENT SOLITION: n= 53 Product= 607171500\n",
            "80. SORTING SOLUTION: n= 53 Product: 607171500\n",
            "81. SUPER EFFICENT SOLITION: n= 19 Product= 594673404\n",
            "81. SORTING SOLUTION: n= 19 Product: 594673404\n",
            "82. SUPER EFFICENT SOLITION: n= 35 Product= 590944536\n",
            "82. SORTING SOLUTION: n= 35 Product: 590944536\n",
            "83. SUPER EFFICENT SOLITION: n= 97 Product= 650848919\n",
            "83. SORTING SOLUTION: n= 97 Product: 650848919\n",
            "84. SUPER EFFICENT SOLITION: n= 73 Product= 616888750\n",
            "84. SORTING SOLUTION: n= 73 Product: 616888750\n",
            "85. SUPER EFFICENT SOLITION: n= 49 Product= 561093096\n",
            "85. SORTING SOLUTION: n= 49 Product: 561093096\n",
            "86. SUPER EFFICENT SOLITION: n= 82 Product= 641552720\n",
            "86. SORTING SOLUTION: n= 82 Product: 641552720\n",
            "87. SUPER EFFICENT SOLITION: n= 29 Product= 562106603\n",
            "87. SORTING SOLUTION: n= 29 Product: 562106603\n",
            "88. SUPER EFFICENT SOLITION: n= 57 Product= 636231680\n",
            "88. SORTING SOLUTION: n= 57 Product: 636231680\n",
            "89. SUPER EFFICENT SOLITION: n= 69 Product= 625149840\n",
            "89. SORTING SOLUTION: n= 69 Product: 625149840\n",
            "90. SUPER EFFICENT SOLITION: n= 49 Product= 619426251\n",
            "90. SORTING SOLUTION: n= 49 Product: 619426251\n",
            "91. SUPER EFFICENT SOLITION: n= 92 Product= 636246080\n",
            "91. SORTING SOLUTION: n= 92 Product: 636246080\n",
            "92. SUPER EFFICENT SOLITION: n= 23 Product= 530390432\n",
            "92. SORTING SOLUTION: n= 23 Product: 530390432\n",
            "93. SUPER EFFICENT SOLITION: n= 65 Product= 642064872\n",
            "93. SORTING SOLUTION: n= 65 Product: 642064872\n",
            "94. SUPER EFFICENT SOLITION: n= 85 Product= 643484013\n",
            "94. SORTING SOLUTION: n= 85 Product: 643484013\n",
            "95. SUPER EFFICENT SOLITION: n= 21 Product= 596631850\n",
            "95. SORTING SOLUTION: n= 21 Product: 596631850\n",
            "96. SUPER EFFICENT SOLITION: n= 18 Product= 576047950\n",
            "96. SORTING SOLUTION: n= 18 Product: 576047950\n",
            "97. SUPER EFFICENT SOLITION: n= 47 Product= 575064338\n",
            "97. SORTING SOLUTION: n= 47 Product: 575064338\n",
            "98. SUPER EFFICENT SOLITION: n= 9 Product= 506614199\n",
            "98. SORTING SOLUTION: n= 9 Product: 506614199\n",
            "99. SUPER EFFICENT SOLITION: n= 25 Product= 575767458\n",
            "99. SORTING SOLUTION: n= 25 Product: 575767458\n",
            "100. SUPER EFFICENT SOLITION: n= 10 Product= 582704597\n",
            "100. SORTING SOLUTION: n= 10 Product: 582704597\n",
            "Pass\n"
          ]
        }
      ]
    }
  ],
  "metadata": {
    "colab": {
      "provenance": [],
      "include_colab_link": true
    },
    "kernelspec": {
      "display_name": "Python 3",
      "name": "python3"
    },
    "language_info": {
      "name": "python"
    }
  },
  "nbformat": 4,
  "nbformat_minor": 0
}