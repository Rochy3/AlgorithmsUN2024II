{
  "cells": [
    {
      "cell_type": "markdown",
      "metadata": {
        "id": "view-in-github",
        "colab_type": "text"
      },
      "source": [
        "<a href=\"https://colab.research.google.com/github/Rochy3/AlgorithmsUN2024II/blob/main/Lab3/RosaSantofimio_Lab3.ipynb\" target=\"_parent\"><img src=\"https://colab.research.google.com/assets/colab-badge.svg\" alt=\"Open In Colab\"/></a>"
      ]
    },
    {
      "cell_type": "code",
      "execution_count": 1,
      "metadata": {
        "id": "im-VVd1__7VU",
        "colab": {
          "base_uri": "https://localhost:8080/"
        },
        "outputId": "ec8f2eb8-9b44-4a75-b99f-db5be934dc82"
      },
      "outputs": [
        {
          "output_type": "stream",
          "name": "stdout",
          "text": [
            "processor\t: 0\n",
            "vendor_id\t: GenuineIntel\n",
            "cpu family\t: 6\n",
            "model\t\t: 79\n",
            "model name\t: Intel(R) Xeon(R) CPU @ 2.20GHz\n",
            "stepping\t: 0\n",
            "microcode\t: 0xffffffff\n",
            "cpu MHz\t\t: 2199.998\n",
            "cache size\t: 56320 KB\n",
            "physical id\t: 0\n",
            "siblings\t: 2\n",
            "core id\t\t: 0\n",
            "cpu cores\t: 1\n",
            "apicid\t\t: 0\n",
            "initial apicid\t: 0\n",
            "fpu\t\t: yes\n",
            "fpu_exception\t: yes\n",
            "cpuid level\t: 13\n",
            "wp\t\t: yes\n",
            "flags\t\t: fpu vme de pse tsc msr pae mce cx8 apic sep mtrr pge mca cmov pat pse36 clflush mmx fxsr sse sse2 ss ht syscall nx pdpe1gb rdtscp lm constant_tsc rep_good nopl xtopology nonstop_tsc cpuid tsc_known_freq pni pclmulqdq ssse3 fma cx16 pcid sse4_1 sse4_2 x2apic movbe popcnt aes xsave avx f16c rdrand hypervisor lahf_lm abm 3dnowprefetch invpcid_single ssbd ibrs ibpb stibp fsgsbase tsc_adjust bmi1 hle avx2 smep bmi2 erms invpcid rtm rdseed adx smap xsaveopt arat md_clear arch_capabilities\n",
            "bugs\t\t: cpu_meltdown spectre_v1 spectre_v2 spec_store_bypass l1tf mds swapgs taa mmio_stale_data retbleed bhi\n",
            "bogomips\t: 4399.99\n",
            "clflush size\t: 64\n",
            "cache_alignment\t: 64\n",
            "address sizes\t: 46 bits physical, 48 bits virtual\n",
            "power management:\n",
            "\n",
            "processor\t: 1\n",
            "vendor_id\t: GenuineIntel\n",
            "cpu family\t: 6\n",
            "model\t\t: 79\n",
            "model name\t: Intel(R) Xeon(R) CPU @ 2.20GHz\n",
            "stepping\t: 0\n",
            "microcode\t: 0xffffffff\n",
            "cpu MHz\t\t: 2199.998\n",
            "cache size\t: 56320 KB\n",
            "physical id\t: 0\n",
            "siblings\t: 2\n",
            "core id\t\t: 0\n",
            "cpu cores\t: 1\n",
            "apicid\t\t: 1\n",
            "initial apicid\t: 1\n",
            "fpu\t\t: yes\n",
            "fpu_exception\t: yes\n",
            "cpuid level\t: 13\n",
            "wp\t\t: yes\n",
            "flags\t\t: fpu vme de pse tsc msr pae mce cx8 apic sep mtrr pge mca cmov pat pse36 clflush mmx fxsr sse sse2 ss ht syscall nx pdpe1gb rdtscp lm constant_tsc rep_good nopl xtopology nonstop_tsc cpuid tsc_known_freq pni pclmulqdq ssse3 fma cx16 pcid sse4_1 sse4_2 x2apic movbe popcnt aes xsave avx f16c rdrand hypervisor lahf_lm abm 3dnowprefetch invpcid_single ssbd ibrs ibpb stibp fsgsbase tsc_adjust bmi1 hle avx2 smep bmi2 erms invpcid rtm rdseed adx smap xsaveopt arat md_clear arch_capabilities\n",
            "bugs\t\t: cpu_meltdown spectre_v1 spectre_v2 spec_store_bypass l1tf mds swapgs taa mmio_stale_data retbleed bhi\n",
            "bogomips\t: 4399.99\n",
            "clflush size\t: 64\n",
            "cache_alignment\t: 64\n",
            "address sizes\t: 46 bits physical, 48 bits virtual\n",
            "power management:\n",
            "\n"
          ]
        }
      ],
      "source": [
        "!cat /proc/cpuinfo"
      ]
    },
    {
      "cell_type": "markdown",
      "metadata": {
        "id": "N1ok_-56OjB1"
      },
      "source": [
        "# I Solving the Sum of Two Digits Programming Challenge"
      ]
    },
    {
      "cell_type": "markdown",
      "metadata": {
        "id": "MMY7kmDSO0KM"
      },
      "source": [
        "## C++"
      ]
    },
    {
      "cell_type": "code",
      "execution_count": 2,
      "metadata": {
        "colab": {
          "base_uri": "https://localhost:8080/"
        },
        "id": "2pGGf9BkPNIk",
        "outputId": "73e12b94-361a-46b3-b420-6ba53a4fbe10"
      },
      "outputs": [
        {
          "output_type": "stream",
          "name": "stdout",
          "text": [
            "Writing APlusB.cpp\n"
          ]
        }
      ],
      "source": [
        "%%writefile APlusB.cpp\n",
        "#include <iostream>\n",
        "\n",
        "int sum_of_two_digits(int first_digit, int second_digit) {\n",
        "    return first_digit + second_digit;\n",
        "}\n",
        "\n",
        "int main() {\n",
        "    int a = 0;\n",
        "    int b = 0;\n",
        "    std::cin >> a;\n",
        "    std::cin >> b;\n",
        "    std::cout << sum_of_two_digits(a, b);\n",
        "    return 0;\n",
        "}"
      ]
    },
    {
      "cell_type": "code",
      "execution_count": null,
      "metadata": {
        "id": "0G3ZKOYAPXSU"
      },
      "outputs": [],
      "source": [
        "!g++ APlusB.cpp -o APlusB -std=c++11\n",
        "!./APlusB"
      ]
    },
    {
      "cell_type": "markdown",
      "metadata": {
        "id": "iNkG2HqfTl9c"
      },
      "source": [
        "### Test input output files"
      ]
    },
    {
      "cell_type": "code",
      "execution_count": null,
      "metadata": {
        "id": "aTzU2efzMxly"
      },
      "outputs": [],
      "source": [
        "%%writefile input1.txt\n",
        "4 8"
      ]
    },
    {
      "cell_type": "code",
      "execution_count": null,
      "metadata": {
        "id": "zBJ0Gc0NQRet"
      },
      "outputs": [],
      "source": [
        "%%writefile output1.txt\n",
        "12"
      ]
    },
    {
      "cell_type": "code",
      "execution_count": null,
      "metadata": {
        "id": "IjEcIx63PJAN"
      },
      "outputs": [],
      "source": [
        "%%writefile input2.txt\n",
        "0 9"
      ]
    },
    {
      "cell_type": "code",
      "execution_count": null,
      "metadata": {
        "id": "Up9gOrxURTmd"
      },
      "outputs": [],
      "source": [
        "%%writefile output2.txt\n",
        "9"
      ]
    },
    {
      "cell_type": "code",
      "execution_count": null,
      "metadata": {
        "id": "PST6G-s-Pwgc"
      },
      "outputs": [],
      "source": [
        "!./APlusB < input1.txt"
      ]
    },
    {
      "cell_type": "code",
      "execution_count": null,
      "metadata": {
        "colab": {
          "base_uri": "https://localhost:8080/"
        },
        "id": "cKxZOjSlRfIN",
        "outputId": "3b3aa192-bbb7-402d-e5f5-2830d3453017"
      },
      "outputs": [
        {
          "output_type": "stream",
          "name": "stdout",
          "text": [
            "9"
          ]
        }
      ],
      "source": [
        "!./APlusB < input2.txt"
      ]
    },
    {
      "cell_type": "markdown",
      "metadata": {
        "id": "Qw2TQWCCUwqk"
      },
      "source": [
        "### Comparing files with grep\n",
        "\n",
        "https://askubuntu.com/questions/546796/comparing-two-text-files"
      ]
    },
    {
      "cell_type": "code",
      "execution_count": null,
      "metadata": {
        "id": "Jlja0Xm4TX9M"
      },
      "outputs": [],
      "source": [
        "!./APlusB < input1.txt> ctest1.txt\n",
        "!grep -xvFf output1.txt ctest1.txt"
      ]
    },
    {
      "cell_type": "code",
      "execution_count": null,
      "metadata": {
        "id": "g9OIUZA_QLCQ"
      },
      "outputs": [],
      "source": [
        "!./APlusB < input2.txt > ctest2.txt\n",
        "!grep -xvFf output2.txt ctest2.txt"
      ]
    },
    {
      "cell_type": "markdown",
      "metadata": {
        "id": "3BgOaDjUVJk6"
      },
      "source": [
        "## Python"
      ]
    },
    {
      "cell_type": "code",
      "execution_count": null,
      "metadata": {
        "colab": {
          "base_uri": "https://localhost:8080/"
        },
        "id": "DBvl-T0CTN_8",
        "outputId": "78f395a5-86f3-46d3-ad16-1e553176994f"
      },
      "outputs": [
        {
          "output_type": "stream",
          "name": "stdout",
          "text": [
            "Writing sum.py\n"
          ]
        }
      ],
      "source": [
        "%%writefile sum.py\n",
        "# python3\n",
        "\n",
        "def sum_of_two_digits(first_digit, second_digit):\n",
        "    return first_digit + second_digit\n",
        "\n",
        "if __name__ == '__main__':\n",
        "    a, b = map(int, input().split())\n",
        "    print(sum_of_two_digits(a, b))"
      ]
    },
    {
      "cell_type": "code",
      "execution_count": null,
      "metadata": {
        "id": "QKoKM11_WGyF"
      },
      "outputs": [],
      "source": [
        "!python sum.py"
      ]
    },
    {
      "cell_type": "code",
      "execution_count": null,
      "metadata": {
        "id": "cocFbPRTWrqt"
      },
      "outputs": [],
      "source": [
        "!python sum.py  < input1.txt> ptest1.txt\n",
        "!grep -xvFf output1.txt ptest1.txt"
      ]
    },
    {
      "cell_type": "code",
      "execution_count": null,
      "metadata": {
        "id": "MorKTa-XXASN"
      },
      "outputs": [],
      "source": [
        "!python sum.py  < input2.txt> ptest2.txt\n",
        "!grep -xvFf output2.txt ptest2.txt"
      ]
    },
    {
      "cell_type": "markdown",
      "metadata": {
        "id": "uvP-mOubW_5F"
      },
      "source": [
        "# II Solving The Maximum Pairwise Product Programming Challenge in C++"
      ]
    },
    {
      "cell_type": "markdown",
      "metadata": {
        "id": "C12yoFR6Xonl"
      },
      "source": [
        "## C++\n",
        "\n",
        "$$ T(n) < 6 n^2 = O(n^2)$$"
      ]
    },
    {
      "cell_type": "code",
      "source": [
        "%%writefile max_pairwise_product_full.cpp\n",
        "#include <iostream>\n",
        "#include <vector>\n",
        "#include <algorithm>\n",
        "\n",
        "int MaxPairwiseProduct(const std::vector<int>& numbers) {\n",
        "    int max_product = 0;\n",
        "    int aux_product = 0;\n",
        "    int n = numbers.size();\n",
        "\n",
        "    for (int first = 0; first < n; ++first) {\n",
        "        for (int second = 0; second < n; ++second) {\n",
        "          if ( first != second ){\n",
        "                aux_product = numbers[first] * numbers[second];\n",
        "                if (aux_product > max_product)  max_product = aux_product;\n",
        "          }\n",
        "        }\n",
        "    }\n",
        "\n",
        "    return max_product;\n",
        "}\n",
        "\n",
        "int main() {\n",
        "    int n;\n",
        "    std::cin >> n;\n",
        "    std::vector<int> numbers(n);\n",
        "    for (int i = 0; i < n; ++i) {\n",
        "        std::cin >> numbers[i];\n",
        "    }\n",
        "\n",
        "    std::cout << MaxPairwiseProduct(numbers) << \"\\n\";\n",
        "    return 0;\n",
        "}"
      ],
      "metadata": {
        "id": "3LpfoGv2Ae81"
      },
      "execution_count": null,
      "outputs": []
    },
    {
      "cell_type": "markdown",
      "metadata": {
        "id": "m75IQQPbEHBS"
      },
      "source": [
        "#### Time Complexity\n",
        "$$\\left. \\begin{array}{llc}\n",
        " \\text{INSTRUCTION} & \\text{TYPE}& \\text{# EXECUTIONS}\\\\\n",
        "\\text{first != second} &  \\text{comparisons} &n^2 \\\\\n",
        "\\text{numbers[first] * numbers[second]}& \\ \\text{ products}  &n^2 - n \\\\\n",
        "\\text{max_product = aux_product} &  \\text{assigments} & [1, \\frac{n^2 - n}{2})  \n",
        "\\end{array}\\right\\}  =  O(n^2)$$"
      ]
    },
    {
      "cell_type": "code",
      "source": [
        "!g++ max_pairwise_product_full.cpp -o max_pairwise_product_full\n",
        "!./max_pairwise_product_full"
      ],
      "metadata": {
        "id": "PCVo1h6nCF9k",
        "colab": {
          "base_uri": "https://localhost:8080/"
        },
        "outputId": "e69c981a-fae2-4781-eb95-97e6bcf8b139"
      },
      "execution_count": null,
      "outputs": [
        {
          "output_type": "stream",
          "name": "stdout",
          "text": [
            "^C\n"
          ]
        }
      ]
    },
    {
      "cell_type": "markdown",
      "metadata": {
        "id": "e7KhxHGNS3i0"
      },
      "source": [
        "### Test 1: Small numbers"
      ]
    },
    {
      "cell_type": "code",
      "source": [
        "%%writefile input0.txt\n",
        "10\n",
        "0 0 0 0 0 0 0 0 0 0"
      ],
      "metadata": {
        "colab": {
          "base_uri": "https://localhost:8080/"
        },
        "id": "17npyXt7lYzA",
        "outputId": "e73eaa46-760d-4000-beb2-c8c6aa68cf61"
      },
      "execution_count": null,
      "outputs": [
        {
          "output_type": "stream",
          "name": "stdout",
          "text": [
            "Writing input0.txt\n"
          ]
        }
      ]
    },
    {
      "cell_type": "code",
      "source": [
        "%%writefile output0.txt\n",
        "0"
      ],
      "metadata": {
        "colab": {
          "base_uri": "https://localhost:8080/"
        },
        "id": "NooGEkJylezm",
        "outputId": "29c7fb30-12ce-4c1c-b056-bb9f34789b55"
      },
      "execution_count": null,
      "outputs": [
        {
          "output_type": "stream",
          "name": "stdout",
          "text": [
            "Writing output0.txt\n"
          ]
        }
      ]
    },
    {
      "cell_type": "code",
      "source": [
        "!./max_pairwise_product_full< input0.txt > ctest0.txt\n",
        "!grep -xvFf output0.txt ctest0.txt"
      ],
      "metadata": {
        "id": "R0yFaAOrlqrE"
      },
      "execution_count": null,
      "outputs": []
    },
    {
      "cell_type": "code",
      "execution_count": null,
      "metadata": {
        "colab": {
          "base_uri": "https://localhost:8080/"
        },
        "id": "e1mmTzBgShT-",
        "outputId": "8eef0c50-5a6b-40ac-e098-279cf2f2ca42"
      },
      "outputs": [
        {
          "output_type": "stream",
          "name": "stdout",
          "text": [
            "Overwriting input1.txt\n"
          ]
        }
      ],
      "source": [
        "%%writefile input1.txt\n",
        "10\n",
        "1 2 3 4 5 6 7 8 9 10"
      ]
    },
    {
      "cell_type": "code",
      "execution_count": null,
      "metadata": {
        "colab": {
          "base_uri": "https://localhost:8080/"
        },
        "id": "vy_uI0x7TCId",
        "outputId": "887cee3f-80b4-4a0a-b88b-09d0c81e9b11"
      },
      "outputs": [
        {
          "output_type": "stream",
          "name": "stdout",
          "text": [
            "/bin/bash: line 1: ./max_pairwise_product: No such file or directory\n"
          ]
        }
      ],
      "source": [
        "!./max_pairwise_product < input1.txt"
      ]
    },
    {
      "cell_type": "code",
      "execution_count": null,
      "metadata": {
        "colab": {
          "base_uri": "https://localhost:8080/"
        },
        "id": "xaj6f9bxC6D6",
        "outputId": "368eb598-4a71-4e1f-bbdb-1d588c11535d"
      },
      "outputs": [
        {
          "output_type": "stream",
          "name": "stdout",
          "text": [
            "Overwriting output1.txt\n"
          ]
        }
      ],
      "source": [
        "%%writefile output1.txt\n",
        "90"
      ]
    },
    {
      "cell_type": "code",
      "execution_count": null,
      "metadata": {
        "id": "fYCjAdA_C-wy"
      },
      "outputs": [],
      "source": [
        "!./max_pairwise_product_full< input1.txt > ctest1.txt\n",
        "!grep -xvFf output1.txt ctest1.txt"
      ]
    },
    {
      "cell_type": "code",
      "source": [
        "%%writefile input2.txt\n",
        "10\n",
        "10 9 8 7 6 5 4 3 2 1"
      ],
      "metadata": {
        "colab": {
          "base_uri": "https://localhost:8080/"
        },
        "id": "ZPe40LY14_6f",
        "outputId": "8a0e0d32-9c1d-4d76-d548-a5aa2aa4da03"
      },
      "execution_count": null,
      "outputs": [
        {
          "output_type": "stream",
          "name": "stdout",
          "text": [
            "Overwriting input2.txt\n"
          ]
        }
      ]
    },
    {
      "cell_type": "code",
      "source": [
        "%%writefile output2.txt\n",
        "90"
      ],
      "metadata": {
        "colab": {
          "base_uri": "https://localhost:8080/"
        },
        "id": "xiHmF7HA5Faa",
        "outputId": "d1644f29-862b-4d7c-dbac-22961b2c0ae4"
      },
      "execution_count": null,
      "outputs": [
        {
          "output_type": "stream",
          "name": "stdout",
          "text": [
            "Overwriting output2.txt\n"
          ]
        }
      ]
    },
    {
      "cell_type": "code",
      "source": [
        "!./max_pairwise_product_full< input2.txt > ctest2.txt\n",
        "!grep -xvFf output2.txt ctest2.txt"
      ],
      "metadata": {
        "id": "jjwc9kwb5t_k"
      },
      "execution_count": null,
      "outputs": []
    },
    {
      "cell_type": "markdown",
      "metadata": {
        "id": "IeZ3kTjpYmR9"
      },
      "source": [
        "### Test 2: largest input numbers 200000 200000 to check possible intger overflow"
      ]
    },
    {
      "cell_type": "code",
      "execution_count": null,
      "metadata": {
        "colab": {
          "base_uri": "https://localhost:8080/"
        },
        "id": "LQNlZqaqYt7U",
        "outputId": "44f37394-988b-4f57-bbe7-308f8d829a63"
      },
      "outputs": [
        {
          "output_type": "stream",
          "name": "stdout",
          "text": [
            "Writing input3.txt\n"
          ]
        }
      ],
      "source": [
        "%%writefile input3.txt\n",
        "6\n",
        "1 3 200000 9 200000 23"
      ]
    },
    {
      "cell_type": "code",
      "execution_count": null,
      "metadata": {
        "colab": {
          "base_uri": "https://localhost:8080/"
        },
        "id": "GjQq7QOUCw-9",
        "outputId": "73012c53-95f7-4a9f-901a-640f861f3c0b"
      },
      "outputs": [
        {
          "output_type": "execute_result",
          "data": {
            "text/plain": [
              "40000000000"
            ]
          },
          "metadata": {},
          "execution_count": 29
        }
      ],
      "source": [
        "200000*200000"
      ]
    },
    {
      "cell_type": "code",
      "execution_count": null,
      "metadata": {
        "colab": {
          "base_uri": "https://localhost:8080/"
        },
        "id": "EuS6n3jtDK5C",
        "outputId": "adc307e1-73a3-4754-d596-302f1c9dc9fd"
      },
      "outputs": [
        {
          "output_type": "stream",
          "name": "stdout",
          "text": [
            "Writing output3.txt\n"
          ]
        }
      ],
      "source": [
        "%%writefile output3.txt\n",
        "40000000000"
      ]
    },
    {
      "cell_type": "code",
      "execution_count": null,
      "metadata": {
        "colab": {
          "base_uri": "https://localhost:8080/"
        },
        "id": "2Wad2VZUZDxR",
        "outputId": "a16d5cdd-859c-411e-8040-dce26ad9b43b"
      },
      "outputs": [
        {
          "output_type": "stream",
          "name": "stdout",
          "text": [
            "1345294336\n"
          ]
        }
      ],
      "source": [
        "!./max_pairwise_product_full < input3.txt"
      ]
    },
    {
      "cell_type": "code",
      "execution_count": null,
      "metadata": {
        "colab": {
          "base_uri": "https://localhost:8080/"
        },
        "id": "pEvp1ieyDJGq",
        "outputId": "340b81e3-f788-43fd-b909-ccd4f5d34343"
      },
      "outputs": [
        {
          "output_type": "stream",
          "name": "stdout",
          "text": [
            "1345294336\n"
          ]
        }
      ],
      "source": [
        "!./max_pairwise_product_full < input3.txt > ctest3.txt\n",
        "!grep -xvFf output3.txt ctest3.txt"
      ]
    },
    {
      "cell_type": "code",
      "source": [
        " %%writefile run_all_test.sh\n",
        "#!/bin/bash\n",
        "g++ max_pairwise_product_full.cpp -o max_pairwise_product_full\n",
        "for i in {0..3}\n",
        "do\n",
        "    ./max_pairwise_product_full < input$i.txt > ctest$i.txt\n",
        "    grep -xvFf output$i.txt ctest$i.txt\n",
        "done"
      ],
      "metadata": {
        "colab": {
          "base_uri": "https://localhost:8080/"
        },
        "id": "SrtJrKqM-God",
        "outputId": "6f2a7709-4462-4fc1-c040-4094dd5ea74b"
      },
      "execution_count": null,
      "outputs": [
        {
          "output_type": "stream",
          "name": "stdout",
          "text": [
            "Writing run_all_test.sh\n"
          ]
        }
      ]
    },
    {
      "cell_type": "code",
      "source": [
        "!chmod u+x run_all_test.sh\n",
        "!./run_all_test.sh"
      ],
      "metadata": {
        "colab": {
          "base_uri": "https://localhost:8080/"
        },
        "id": "wGWMHtzS-QnA",
        "outputId": "a2a93a3e-7400-4394-a215-3ee12af354cb"
      },
      "execution_count": null,
      "outputs": [
        {
          "output_type": "stream",
          "name": "stdout",
          "text": [
            "1345294336\n"
          ]
        }
      ]
    },
    {
      "cell_type": "markdown",
      "metadata": {
        "id": "H2SC0Qt5HCzz"
      },
      "source": [
        "### Changing the variables to long long"
      ]
    },
    {
      "cell_type": "code",
      "execution_count": null,
      "metadata": {
        "colab": {
          "base_uri": "https://localhost:8080/"
        },
        "id": "MPcmsxiQZSfE",
        "outputId": "18bc0569-e875-4c57-e5c5-820a26d26948"
      },
      "outputs": [
        {
          "output_type": "stream",
          "name": "stdout",
          "text": [
            "Writing max_pairwise_product_long_full.cpp\n"
          ]
        }
      ],
      "source": [
        "%%writefile max_pairwise_product_long_full.cpp\n",
        "#include <iostream>\n",
        "#include <vector>\n",
        "#include <algorithm>\n",
        "\n",
        "long long MaxPairwiseProduct(const std::vector<int>& numbers) {\n",
        "    long long max_product = 0LL;\n",
        "\t  long long aux_product = 0LL;\n",
        "    int n = numbers.size();\n",
        "\n",
        "    for (int first = 0; first < n; ++first) {\n",
        "        for (int second = 0; second < n; ++second) {\n",
        "          if ( first != second){\n",
        "                aux_product = (long long) numbers[first] * numbers[second];\n",
        "                if (aux_product > max_product)  max_product = aux_product;\n",
        "          }\n",
        "        }\n",
        "    }\n",
        "\n",
        "\n",
        "    return max_product;\n",
        "}\n",
        "\n",
        "int main() {\n",
        "    int n;\n",
        "    std::cin >> n;\n",
        "    std::vector<int> numbers(n);\n",
        "    for (int i = 0; i < n; ++i) {\n",
        "        std::cin >> numbers[i];\n",
        "    }\n",
        "\n",
        "    std::cout << MaxPairwiseProduct(numbers) << \"\\n\";\n",
        "    return 0;\n",
        "}\n"
      ]
    },
    {
      "cell_type": "code",
      "source": [
        "!g++ max_pairwise_product_long_full.cpp -o max_pairwise_product_long_full"
      ],
      "metadata": {
        "id": "W3xQpFXL6wjO"
      },
      "execution_count": null,
      "outputs": []
    },
    {
      "cell_type": "code",
      "source": [
        "!./max_pairwise_product_long_full < input3.txt"
      ],
      "metadata": {
        "colab": {
          "base_uri": "https://localhost:8080/"
        },
        "id": "H5dvN9M3R9sV",
        "outputId": "16844385-2cc0-4444-d489-0d48b0a5a586"
      },
      "execution_count": null,
      "outputs": [
        {
          "output_type": "stream",
          "name": "stdout",
          "text": [
            "40000000000\n"
          ]
        }
      ]
    },
    {
      "cell_type": "markdown",
      "source": [
        "### Runing multuple test with a bash shell"
      ],
      "metadata": {
        "id": "gx-sEYdfQ8f8"
      }
    },
    {
      "cell_type": "code",
      "source": [
        " %%writefile run_all_test.sh\n",
        "#!/bin/bash\n",
        "g++ max_pairwise_product_long_full.cpp -o max_pairwise_product_long_full\n",
        "for i in {1..3}\n",
        "do\n",
        "    ./max_pairwise_product_long_full < input$i.txt > ctest$i.txt\n",
        "    grep -xvFf output$i.txt ctest$i.txt\n",
        "done"
      ],
      "metadata": {
        "colab": {
          "base_uri": "https://localhost:8080/"
        },
        "id": "O9qsq2nn7elw",
        "outputId": "bc694ebf-5fc5-43cd-9708-12790903e1b9"
      },
      "execution_count": null,
      "outputs": [
        {
          "output_type": "stream",
          "name": "stdout",
          "text": [
            "Overwriting run_all_test.sh\n"
          ]
        }
      ]
    },
    {
      "cell_type": "code",
      "source": [
        "!chmod u+x run_all_test.sh\n",
        "!./run_all_test.sh"
      ],
      "metadata": {
        "id": "0g5kKVph7xIA"
      },
      "execution_count": null,
      "outputs": []
    },
    {
      "cell_type": "markdown",
      "metadata": {
        "id": "XPVHkHxH6_7s"
      },
      "source": [
        "### Test 3  stress tests, 6 testing cases files input4.txt/output4.txt .. input10.txt/output10.txt\n",
        "\n",
        "---\n",
        "\n"
      ]
    },
    {
      "cell_type": "code",
      "execution_count": null,
      "metadata": {
        "id": "PwqpBmYr69fu"
      },
      "outputs": [],
      "source": [
        "\n",
        "%%writefile input4.txt\n",
        "7\n",
        "1 3 200000 9 200000 23 200000"
      ]
    },
    {
      "cell_type": "code",
      "execution_count": null,
      "metadata": {
        "id": "jBCkMeR6Fw4y"
      },
      "outputs": [],
      "source": [
        "\n",
        "%%writefile output4.txt\n",
        "40000000000"
      ]
    },
    {
      "cell_type": "code",
      "source": [
        "\n",
        "%%writefile input5.txt\n",
        "2\n",
        "1 1"
      ],
      "metadata": {
        "id": "zED8V8wu-eoM"
      },
      "execution_count": null,
      "outputs": []
    },
    {
      "cell_type": "code",
      "source": [
        "\n",
        "%%writefile output5.txt\n",
        "1"
      ],
      "metadata": {
        "id": "Suafxf6AQYBo"
      },
      "execution_count": null,
      "outputs": []
    },
    {
      "cell_type": "code",
      "source": [
        "%%writefile input6.txt\n",
        "8\n",
        "2 2 2 2 2 2 2 2"
      ],
      "metadata": {
        "id": "YZWQgHpiQXpB"
      },
      "execution_count": null,
      "outputs": []
    },
    {
      "cell_type": "code",
      "source": [
        "%%writefile output6.txt\n",
        "4"
      ],
      "metadata": {
        "id": "0ven_hztQXX_"
      },
      "execution_count": null,
      "outputs": []
    },
    {
      "cell_type": "code",
      "source": [
        "%%writefile input7.txt\n",
        "5\n",
        "1 3 200000 9 200000\n",
        ""
      ],
      "metadata": {
        "id": "1m1KAjZRRz_v"
      },
      "execution_count": null,
      "outputs": []
    },
    {
      "cell_type": "code",
      "source": [
        "%%writefile output7.txt\n",
        "40000000000"
      ],
      "metadata": {
        "id": "3NWI0WB1R3n_"
      },
      "execution_count": null,
      "outputs": []
    },
    {
      "cell_type": "code",
      "source": [
        "%%writefile input8.txt\n",
        "3\n",
        "9 8 9"
      ],
      "metadata": {
        "id": "a3pdI_aTR6X4"
      },
      "execution_count": null,
      "outputs": []
    },
    {
      "cell_type": "code",
      "source": [
        "%%writefile output8.txt\n",
        "81"
      ],
      "metadata": {
        "id": "0XQ0k-eyR_Cs"
      },
      "execution_count": null,
      "outputs": []
    },
    {
      "cell_type": "code",
      "source": [
        "\n",
        "%%writefile input9.txt\n",
        "4\n",
        "200000 200000 200000 200000"
      ],
      "metadata": {
        "id": "KVtCQx6ASDWM"
      },
      "execution_count": null,
      "outputs": []
    },
    {
      "cell_type": "code",
      "source": [
        "%%writefile output9.txt\n",
        "40000000000"
      ],
      "metadata": {
        "id": "fvjTr0HASHGt"
      },
      "execution_count": null,
      "outputs": []
    },
    {
      "cell_type": "code",
      "source": [
        "%%writefile input10.txt\n",
        "3\n",
        "0 0 0"
      ],
      "metadata": {
        "id": "aEl3lJiSSJNp"
      },
      "execution_count": null,
      "outputs": []
    },
    {
      "cell_type": "code",
      "source": [
        "\n",
        "%%writefile output10.txt\n",
        "0\n",
        ""
      ],
      "metadata": {
        "id": "R3Z7GcV2SLAX"
      },
      "execution_count": null,
      "outputs": []
    },
    {
      "cell_type": "code",
      "source": [
        " %%writefile run_all_test_1.sh\n",
        "#!/bin/bash\n",
        "g++ max_pairwise_product_long_full.cpp -o max_pairwise_product_long_full\n",
        "for i in {4..10}\n",
        "do\n",
        "    ./max_pairwise_product_long_full < input\n",
        "i.txt\n",
        "    grep -xvFf output\n",
        "i.txt\n",
        "done"
      ],
      "metadata": {
        "id": "QhGWjn1GSVWf"
      },
      "execution_count": null,
      "outputs": []
    },
    {
      "cell_type": "code",
      "source": [
        "!chmod u+x run_all_test_1.sh\n",
        "!./run_all_test_1.sh"
      ],
      "metadata": {
        "id": "wuqBA62VSXzW"
      },
      "execution_count": null,
      "outputs": []
    },
    {
      "cell_type": "markdown",
      "metadata": {
        "id": "9z9yr5QkeyJF"
      },
      "source": [
        "### Test 4  time test  measure the execution time running with the the largest worst cases input11.txt  (200000 increasing numbers) and input12.txt (199998 increasing numbers and  200000, 200000 at the end)"
      ]
    },
    {
      "cell_type": "code",
      "source": [
        "# input11.txt 200000 increasing numbers:  1 2 .. 200000\n",
        "\n",
        "%%writefile WriteTest.cpp\n",
        "\n",
        "#include <iostream>\n",
        "#include <fstream>\n",
        "#include <cstdlib>\n",
        "\n",
        "using namespace std;\n",
        "\n",
        "int main() {\n",
        "  // Create and open a text file\n",
        "  ofstream MyFile(\"input11.txt\");\n",
        "\n",
        " MyFile << 200000 <<\"\\n\";  // n\n",
        " for (int i=1; i <200001; i++){\n",
        "     MyFile << i <<\" \";\n",
        " }\n",
        "\n",
        "  // Close the file\n",
        "  MyFile.close();\n",
        "}"
      ],
      "metadata": {
        "colab": {
          "base_uri": "https://localhost:8080/"
        },
        "id": "UmB1ipWM_nSk",
        "outputId": "bba61ee7-0aa1-4e87-eda8-27bbf7367c8b"
      },
      "execution_count": null,
      "outputs": [
        {
          "output_type": "stream",
          "name": "stdout",
          "text": [
            "Writing WriteTest.cpp\n"
          ]
        }
      ]
    },
    {
      "cell_type": "code",
      "execution_count": null,
      "metadata": {
        "id": "EH25TkOkZfD9"
      },
      "outputs": [],
      "source": [
        "!g++ WriteTest.cpp -o WriteTest\n",
        "!./WriteTest"
      ]
    },
    {
      "cell_type": "code",
      "source": [
        "199999 * 200000"
      ],
      "metadata": {
        "colab": {
          "base_uri": "https://localhost:8080/"
        },
        "id": "j0mokSOnCCtZ",
        "outputId": "1f230369-8103-4173-ce01-b19721e2b55d"
      },
      "execution_count": null,
      "outputs": [
        {
          "output_type": "execute_result",
          "data": {
            "text/plain": [
              "39999800000"
            ]
          },
          "metadata": {},
          "execution_count": 42
        }
      ]
    },
    {
      "cell_type": "code",
      "source": [
        "%%writefile output11.txt\n",
        "39999800000"
      ],
      "metadata": {
        "id": "VoDhDV73B5Mo",
        "colab": {
          "base_uri": "https://localhost:8080/"
        },
        "outputId": "bacb5d70-ec87-4170-9851-f124de54c895"
      },
      "execution_count": null,
      "outputs": [
        {
          "output_type": "stream",
          "name": "stdout",
          "text": [
            "Writing output11.txt\n"
          ]
        }
      ]
    },
    {
      "cell_type": "code",
      "execution_count": null,
      "metadata": {
        "colab": {
          "base_uri": "https://localhost:8080/"
        },
        "id": "oLiMjbAIfPlX",
        "outputId": "f3ff20e6-6843-4cd2-b0db-7ab34ccc12f5"
      },
      "outputs": [
        {
          "output_type": "stream",
          "name": "stdout",
          "text": [
            "Overwriting WriteTest.cpp\n"
          ]
        }
      ],
      "source": [
        "# input12.txt 200000 decreasing numbers and 200000, 199999 ...  2 1\n",
        "\n",
        "%%writefile WriteTest.cpp\n",
        "\n",
        "#include <iostream>\n",
        "#include <fstream>\n",
        "#include <cstdlib>\n",
        "\n",
        "using namespace std;\n",
        "\n",
        "int main() {\n",
        "  // Create and open a text file\n",
        "  ofstream MyFile(\"input12.txt\");\n",
        "\n",
        " MyFile << 200000 <<\"\\n\";  // n\n",
        " for (int i=1; i <200001; i++){\n",
        "     MyFile << 200001-i <<\" \";\n",
        " }\n",
        "\n",
        "  // Close the file\n",
        "  MyFile.close();\n",
        "}"
      ]
    },
    {
      "cell_type": "code",
      "source": [
        "!g++ WriteTest.cpp -o WriteTest\n",
        "!./WriteTest"
      ],
      "metadata": {
        "id": "oULNBr_zAd9c"
      },
      "execution_count": null,
      "outputs": []
    },
    {
      "cell_type": "code",
      "source": [
        "%%writefile output12.txt\n",
        "39999800000"
      ],
      "metadata": {
        "colab": {
          "base_uri": "https://localhost:8080/"
        },
        "id": "PQLyocaFB-y4",
        "outputId": "eb4e2069-aada-4765-b68a-3ac0b89c0805"
      },
      "execution_count": null,
      "outputs": [
        {
          "output_type": "stream",
          "name": "stdout",
          "text": [
            "Writing output12.txt\n"
          ]
        }
      ]
    },
    {
      "cell_type": "markdown",
      "metadata": {
        "id": "JB6f03qO-lj9"
      },
      "source": [
        "### Measure time\n",
        "\n",
        "https://askubuntu.com/questions/53444/how-can-i-measure-the-execution-time-of-a-terminal-process"
      ]
    },
    {
      "cell_type": "code",
      "execution_count": null,
      "metadata": {
        "id": "6p2QLEr576zk"
      },
      "outputs": [],
      "source": [
        "!g++ max_pairwise_product_long_full.cpp -o max_pairwise_product_long_full\n",
        "!time ./max_pairwise_product_long_full< input11.txt"
      ]
    },
    {
      "cell_type": "code",
      "source": [
        "!g++ max_pairwise_product_long_full.cpp -o max_pairwise_product_long_full\n",
        "!time ./max_pairwise_product_long_full< input12.txt"
      ],
      "metadata": {
        "id": "cnjCyeUdAnZj"
      },
      "execution_count": null,
      "outputs": []
    },
    {
      "cell_type": "markdown",
      "metadata": {
        "id": "FXClpBsUJuXC"
      },
      "source": [
        "### Calculate the number or and upper bound to the number of instructions executed by the algorithm as a function of n, add in each line a comment with the number of instructions that are executed in that line."
      ]
    },
    {
      "cell_type": "code",
      "execution_count": null,
      "metadata": {
        "id": "uG6Mv-Pwlkii"
      },
      "outputs": [],
      "source": [
        "%%writefile max_pairwise_product_long_full.cpp\n",
        "#include <iostream>\n",
        "#include <vector>\n",
        "#include <algorithm>\n",
        "\n",
        "long long MaxPairwiseProduct(const std::vector<int>& numbers) {              //INSTRUCTIONS executed by line\n",
        "    long long max_product = 0LL;                                             //1\n",
        "\t  long long aux_product = 0LL;                                             //1\n",
        "    int n = numbers.size();                                                  //1\n",
        "\n",
        "    for (int first = 0; first < n; ++first) {                                //2+2n\n",
        "        for (int second = 0; second < n; ++second) {                         //2n + 2n**2\n",
        "          if ( first != second ){                                            //n**2\n",
        "                aux_product = numbers[first] * numbers[second];              //n**2 -n\n",
        "                if (aux_product > max_product)                               //n**2 -n\n",
        "                    max_product = aux_product;                               //[0, n**2/2 - n/2] upper bound\n",
        "          }\n",
        "        }\n",
        "    }\n",
        "\n",
        "                                                                             // --------------\n",
        "    return max_product;                                                      // 5 + 2*n + [5*n**2, 11*n**2/2  - n/2]  upper bound\n",
        "}\n",
        "\n",
        "int main() {                                              //INSTRUCTIONS executed by line\n",
        "    int n;                                                //1\n",
        "    std::cin >> n;                                        //1\n",
        "    std::vector<int> numbers(n);                          //n\n",
        "    for (int i = 0; i < n; ++i) {                         //2 + 2n\n",
        "        std::cin >> numbers[i];                           //n\n",
        "    }\n",
        "\n",
        "    std::cout << MaxPairwiseProduct(numbers) << \"\\n\";     //1 + 1  + 5 + 2*n + [5*n**2, 11*n**2/2  - n/2]\n",
        "\n",
        "    return 0;                                             // --------------\n",
        "}                                                         //  11 + 6*n + [5*n**2, 11*n**2/2  - n/2]  upper bound\n"
      ]
    },
    {
      "cell_type": "markdown",
      "metadata": {
        "id": "0vTsUg8OwcHs"
      },
      "source": [
        "### Count executed intructions in code"
      ]
    },
    {
      "cell_type": "code",
      "execution_count": null,
      "metadata": {
        "id": "CuRKkqQc137V"
      },
      "outputs": [],
      "source": [
        "%%writefile max_pairwise_product_long_full_execints.cpp\n",
        "#include <iostream>\n",
        "#include <vector>\n",
        "#include <algorithm>\n",
        "\n",
        "long long MaxPairwiseProduct(const std::vector<int>& numbers, long long &execints) {      //INSTRUCTIONS executed by line\n",
        "\n",
        "    long long max_product = 0LL;                                                          //1\n",
        "    execints++;\n",
        "\n",
        "\t  long long aux_product = 0LL;                                                          //1\n",
        "    execints++;\n",
        "\n",
        "    int n = numbers.size();                                                               //1\n",
        "    execints++;\n",
        "\n",
        "    execints++;\n",
        "    for (int first = 0; first < n; ++first) {                                             //2+2n\n",
        "        execints += 2;\n",
        "\n",
        "        execints++;\n",
        "        for (int second = 0; second < n; ++second) {                                       //2n + 2n**2\n",
        "          execints += 2;\n",
        "\n",
        "          execints++;\n",
        "          if ( first != second ){                                                         //n**2\n",
        "                aux_product = numbers[first] * numbers[second];                           //n**2 -n\n",
        "                execints++;\n",
        "\n",
        "                execints++;\n",
        "                if (aux_product > max_product){                                           //n**2 -n\n",
        "                    max_product = aux_product;                                            //[0,n**2/2 - n/2)  upper bound\n",
        "                    execints++;\n",
        "\n",
        "                }\n",
        "        }\n",
        "\n",
        "      }\n",
        "      execints++;\n",
        "    }\n",
        "    execints++;\n",
        "                                                                                        // --------------\n",
        "    return max_product;                                                                 // 5 + 2*n + [5*n**2, 11*n**2/2  - n/2] upper bound\n",
        "}\n",
        "\n",
        "int main() {                                                 //INSTRUCTIONS executed by line\n",
        "\n",
        "    long long execints =0LL;\n",
        "\n",
        "    int n;                                                   //1\n",
        "    execints++;\n",
        "\n",
        "    std::cin >> n;                                           //1\n",
        "    execints++;\n",
        "\n",
        "    std::vector<int> numbers(n);                             //n\n",
        "    execints += n;\n",
        "\n",
        "    execints++;\n",
        "    for (int i = 0; i < n; ++i) {                            //2 + 2n\n",
        "        execints += 2;\n",
        "\n",
        "        std::cin >> numbers[i];\n",
        "        execints++;                                          //n\n",
        "\n",
        "    }\n",
        "\n",
        "\n",
        "    //std::cout << MaxPairwiseProduct(numbers) << \"\\n\";      //1 + 1  + 5 + 2*n + [5*n**2, 11*n**2/2  - n/2] upper bound\n",
        "\n",
        "    execints++;\n",
        "    int M = MaxPairwiseProduct(numbers,execints);\n",
        "\n",
        "    execints++;\n",
        "    std::cout <<  execints << \"\\n\";\n",
        "    return 0;                                                // --------------\n",
        "}                                                            // 11 + 6*n + [5*n**2, 11*n**2/2  - n/2]"
      ]
    },
    {
      "cell_type": "markdown",
      "source": [
        "The number of instructions executed by the algooirithm with a list of size $n$ is  \n",
        "\n",
        "$$T (n) = 11 + 6n + \\left[5n^2, 11\\frac{n^2}{2}  - \\frac{n}{2}\\right)  >  6n^2 = O(n^2)$$\n",
        "\n",
        "It depends on the size of the lists and  the order of the list.\n",
        "\n",
        "For the input0.txt\n",
        "```\n",
        "10\n",
        "0 0 0 0 0 0 0 0 0 0\n",
        "```\n",
        "$$T = 11 + 6(10) + 5(10)^2   = 561 $$\n",
        "\n",
        "$$T(10) \\in [571, 621)  $$\n"
      ],
      "metadata": {
        "id": "cUjHtvtdDsmr"
      }
    },
    {
      "cell_type": "code",
      "source": [
        "!g++ max_pairwise_product_long_full_execints.cpp -o max_pairwise_product_long_full_execints\n",
        "!./max_pairwise_product_long_full_execints < input0.txt"
      ],
      "metadata": {
        "id": "Om9Fevb0miAT"
      },
      "execution_count": null,
      "outputs": []
    },
    {
      "cell_type": "markdown",
      "source": [
        "For the input1.txt\n",
        "```\n",
        "10\n",
        "1 2 3 4 5 6 7 8 9 10\n",
        "```\n",
        "$$T = 11 + 6(10) + 5(10)^2 +  9 + 5 + 4 + 3 + 2 + 2 + 2 + 2 + 1 + 0  = 601 $$\n",
        "\n",
        "$$T(10) \\in [572, 622)  $$\n"
      ],
      "metadata": {
        "id": "FwJzZ6VzmArY"
      }
    },
    {
      "cell_type": "code",
      "source": [
        "#The number of times that  max_product = aux_product; in the worst case is less than (n**2 -n)/2 -  upper bound\n",
        "\n",
        "#     1  2  3  4  5  6  7  8  9  10\n",
        "#  1  x  2  3  4  5  6  7  8  9  10         9\n",
        "#  2  2  x  6  8  10 12 14 16 18 20         5 14\n",
        "#  3  3  6  x  12 15 18 21 24 27 30         4 18\n",
        "#  4  4  8  12 x  20 24 28 32 36 40         3 21\n",
        "#  5  5  10 15 20 x  30 35 40 45 50         2 23\n",
        "#  6  6  12 18 24 30 x  42 48 54 60         2 25\n",
        "#  7  7  14 21 28 35 42 x  56 63 70         2 27\n",
        "#  8  8  18 27 36 45 54 63 72 x  90         1 30\n",
        "#  10 10 20 30 40 50 60 70 60 90 x          0"
      ],
      "metadata": {
        "id": "K59xQMWiBNFj"
      },
      "execution_count": null,
      "outputs": []
    },
    {
      "cell_type": "code",
      "source": [
        "11 + 6*(10) + 5*(10)*(10) +  9 + 5 + 4 + 3 + 2 + 2 + 2 + 2 + 1 + 0"
      ],
      "metadata": {
        "id": "E3O8dzFfEgir"
      },
      "execution_count": null,
      "outputs": []
    },
    {
      "cell_type": "code",
      "source": [
        "n = 10\n",
        "print( \"[\", 11 + 6*n + 5*n**2,  \",\", 11 + 6*n  + 5.5*n**2, \")\")"
      ],
      "metadata": {
        "id": "TCpdl5u_Gq1a"
      },
      "execution_count": null,
      "outputs": []
    },
    {
      "cell_type": "code",
      "execution_count": null,
      "metadata": {
        "id": "Kuvm1C05ly2a"
      },
      "outputs": [],
      "source": [
        "!g++ max_pairwise_product_long_full_execints.cpp -o max_pairwise_product_long_full_execints\n",
        "!./max_pairwise_product_long_full_execints < input1.txt"
      ]
    },
    {
      "cell_type": "markdown",
      "source": [
        "\n",
        "For the input2.txt\n",
        "```\n",
        "10\n",
        "10 9 8 7 6 5 4 3 2 1\n",
        "```\n",
        "$$T = 11 + 6*(10) + 5*(10)**2 +  1  = 571 $$"
      ],
      "metadata": {
        "id": "Yr_Lb7CaHfxB"
      }
    },
    {
      "cell_type": "code",
      "source": [
        "11 + 6*(10) + 5*(10)**2 +  1"
      ],
      "metadata": {
        "id": "HOdqlwJiZUIp"
      },
      "execution_count": null,
      "outputs": []
    },
    {
      "cell_type": "code",
      "source": [
        "!g++ max_pairwise_product_long_full_execints.cpp -o max_pairwise_product_long_full_execints\n",
        "!./max_pairwise_product_long_full_execints < input2.txt"
      ],
      "metadata": {
        "id": "_znzLectjFSe"
      },
      "execution_count": null,
      "outputs": []
    },
    {
      "cell_type": "markdown",
      "metadata": {
        "id": "NXW7QkoBL6xH"
      },
      "source": [
        "Calculate estimated time by instruction and number of instructions by second"
      ]
    },
    {
      "cell_type": "markdown",
      "source": [
        "For the input11.txt\n",
        "```\n",
        "200000\n",
        "1 2 ..  199999 2000\n",
        "```\n",
        "$$T = 11 + 6*(200000) + 5.5*(200000)**2  = 200001200012  $$"
      ],
      "metadata": {
        "id": "dlyRjaohz-YH"
      }
    },
    {
      "cell_type": "code",
      "source": [
        "!g++ max_pairwise_product_long_full_execints.cpp -o max_pairwise_product_long_full_execints\n",
        "!./max_pairwise_product_long_full_execints < input11.txt"
      ],
      "metadata": {
        "id": "BMH8mF3EKn2w"
      },
      "execution_count": null,
      "outputs": []
    },
    {
      "cell_type": "code",
      "execution_count": null,
      "metadata": {
        "id": "pKqB3i7dIxnc"
      },
      "outputs": [],
      "source": [
        "# Estimated time by instruction\n",
        "# use the real reported  !time ./max_pairwise_product_long_full< input11.txt in seconds intead of the 295\n",
        "\n",
        "295/200003177092\n"
      ]
    },
    {
      "cell_type": "code",
      "execution_count": null,
      "metadata": {
        "id": "18N1ouqeMhE1"
      },
      "outputs": [],
      "source": [
        "# Estimated number of instructions by second\n",
        "\n",
        "200003177092/295"
      ]
    },
    {
      "cell_type": "markdown",
      "source": [
        "### Estimate and verify the maximun n that can be solved in 1 second\n",
        "\n",
        "$$(5.5n^2 + 5.5n + 11) \\times 1.47*10^{-9} s = 1 s$$\n",
        "\n",
        "$$ n \\approx 11000$$\n"
      ],
      "metadata": {
        "id": "KyuxejFkL5X_"
      }
    },
    {
      "cell_type": "code",
      "source": [
        "# Verify input13.txt\n",
        "%%writefile WriteTest.cpp\n",
        "\n",
        "#include <iostream>\n",
        "#include <fstream>\n",
        "#include <cstdlib>\n",
        "\n",
        "using namespace std;\n",
        "\n",
        "int main() {\n",
        "  // Create and open a text file\n",
        "  ofstream MyFile(\"input13.txt\");\n",
        "\n",
        " MyFile << 11000 <<\"\\n\";  // n\n",
        " for (int i=1; i <11001; i++){\n",
        "     MyFile << i <<\" \";\n",
        " }\n",
        "\n",
        "  // Close the file\n",
        "  MyFile.close();\n",
        "}"
      ],
      "metadata": {
        "id": "WXu5jp-DLTOI"
      },
      "execution_count": null,
      "outputs": []
    },
    {
      "cell_type": "code",
      "source": [
        "!g++ WriteTest.cpp -o WriteTest\n",
        "!./WriteTest"
      ],
      "metadata": {
        "id": "AQ8N52pUMCeT"
      },
      "execution_count": null,
      "outputs": []
    },
    {
      "cell_type": "code",
      "source": [
        "10999 * 11000"
      ],
      "metadata": {
        "id": "2iIOdbTrEtBx"
      },
      "execution_count": null,
      "outputs": []
    },
    {
      "cell_type": "code",
      "source": [
        "!g++ max_pairwise_product_long_full.cpp -o max_pairwise_product_long_full\n",
        "!time ./max_pairwise_product_long_full< input13.txt"
      ],
      "metadata": {
        "id": "ussuAokfM2du"
      },
      "execution_count": null,
      "outputs": []
    },
    {
      "cell_type": "markdown",
      "metadata": {
        "id": "Tm_AVmt-QQH4"
      },
      "source": [
        "## Python"
      ]
    },
    {
      "cell_type": "code",
      "execution_count": null,
      "metadata": {
        "id": "gRCCcd7IQTKZ"
      },
      "outputs": [],
      "source": []
    },
    {
      "cell_type": "code",
      "execution_count": null,
      "metadata": {
        "id": "kAEAoNZEQTCw"
      },
      "outputs": [],
      "source": []
    },
    {
      "cell_type": "code",
      "execution_count": null,
      "metadata": {
        "id": "hjw7TJrDL0d-"
      },
      "outputs": [],
      "source": [
        "# Verify"
      ]
    },
    {
      "cell_type": "markdown",
      "source": [
        "# For the follwing solutions rquired  the same tests and analysis performed for the first solution"
      ],
      "metadata": {
        "id": "fEZR-3V4ZjCv"
      }
    },
    {
      "cell_type": "markdown",
      "metadata": {
        "id": "MKQKSC-vKePK"
      },
      "source": [
        "## Solutions in C++ and Python that uses\n",
        "$$\\frac{n^2 - n}{2} = O(n^2)\\ \\ \\text{products}$$"
      ]
    },
    {
      "cell_type": "code",
      "execution_count": null,
      "metadata": {
        "id": "jkkHHoxSK65p"
      },
      "outputs": [],
      "source": [
        "%%writefile max_pairwise_product.cpp\n",
        "#include <iostream>\n",
        "#include <vector>\n",
        "#include <algorithm>\n",
        "\n",
        "int MaxPairwiseProduct(const std::vector<int>& numbers) {\n",
        "    int max_product = 0;\n",
        "    int n = numbers.size();\n",
        "\n",
        "    for (int first = 0; first < n; ++first) {\n",
        "        for (int second = first + 1; second < n; ++second) {\n",
        "            max_product = std::max(max_product,\n",
        "                numbers[first] * numbers[second]);\n",
        "        }\n",
        "    }\n",
        "\n",
        "    return max_product;\n",
        "}\n",
        "\n",
        "int main() {\n",
        "    int n;\n",
        "    std::cin >> n;\n",
        "    std::vector<int> numbers(n);\n",
        "    for (int i = 0; i < n; ++i) {\n",
        "        std::cin >> numbers[i];\n",
        "    }\n",
        "\n",
        "    std::cout << MaxPairwiseProduct(numbers) << \"\\n\";\n",
        "    return 0;\n",
        "}"
      ]
    },
    {
      "cell_type": "code",
      "execution_count": null,
      "metadata": {
        "id": "sU8-Ote7K8vz"
      },
      "outputs": [],
      "source": [
        "%%writefile max_pairwise_product_long.cpp\n",
        "#include <iostream>\n",
        "#include <vector>\n",
        "#include <algorithm>\n",
        "\n",
        "long long MaxPairwiseProduct(const std::vector<int>& numbers) {              //INSTRUCTIONS executed by line\n",
        "    long long max_product = 0LL;                                             //1\n",
        "\t  long long aux_product = 0LL;                                             //1\n",
        "    int n = numbers.size();                                                  //1\n",
        "\n",
        "    for (int first = 0; first < n; ++first) {                                //2+2n\n",
        "        for (int second = first + 1; second < n; ++second) {                 //2n + (n-1)n\n",
        "\t\t\t       aux_product =  (long long) numbers[first] * numbers[second];    //(n-1)n/2\n",
        "            if (max_product < aux_product)  {                                //(n-1)n/2\n",
        "\t\t\t\t        max_product = aux_product;                                   //[1,(n-1)n/2)  upper bound\n",
        "             }\n",
        "        }\n",
        "    }\n",
        "                                                                             // --------------\n",
        "    return max_product;                                                      // 5 + 4n + [2(n-1)n+1, 2.5 (n-1)n) upper bound\n",
        "}\n",
        "\n",
        "int main() {                                              //INSTRUCTIONS executed by line\n",
        "    int n;                                                //1\n",
        "    std::cin >> n;                                        //1\n",
        "    std::vector<int> numbers(n);                          //n\n",
        "    for (int i = 0; i < n; ++i) {                         //2 + 2n\n",
        "        std::cin >> numbers[i];                           //n\n",
        "    }\n",
        "\n",
        "    std::cout << MaxPairwiseProduct(numbers) << \"\\n\";     //1 + 1  + 5 + 4n + [2(n-1)n+1, 2.5 (n-1)n) upper bound\n",
        "    return 0;                                             // --------------\n",
        "}                                                         // 11 + 7n + [2(n-1)n+1, 2.5 (n-1)n) upper bound\n"
      ]
    },
    {
      "cell_type": "code",
      "execution_count": null,
      "metadata": {
        "id": "5QWT3fneK8nw"
      },
      "outputs": [],
      "source": []
    },
    {
      "cell_type": "code",
      "execution_count": null,
      "metadata": {
        "id": "mxIVvm1RK8dB"
      },
      "outputs": [],
      "source": []
    },
    {
      "cell_type": "markdown",
      "source": [
        "### Estimate and verify the maximun n that can be solved in 1 second\n",
        "\n"
      ],
      "metadata": {
        "id": "zxCvxiB-XQJh"
      }
    },
    {
      "cell_type": "code",
      "source": [],
      "metadata": {
        "id": "Su8drkhrZwcp"
      },
      "execution_count": null,
      "outputs": []
    },
    {
      "cell_type": "markdown",
      "metadata": {
        "id": "1Hsbd-uHOb_j"
      },
      "source": [
        "# Sort solution in C++ and Python\n",
        "\n",
        "$$ O(n \\lg n)$$\n",
        "\n",
        "**Which sorting algorithm is used in GCC?**\n",
        "https://stackoverflow.com/questions/7221257/which-sorting-algorithm-is-used-in-gcc\n",
        "\n",
        "* ...  the algorithm is called introsort, a combination between Insertionsort, Quicksort & Heapsort. ...\n",
        "\n",
        "**Introsort**\n",
        "https://en.wikipedia.org/wiki/Introsort\n",
        "\n",
        "Introsort or introspective sort is a hybrid sorting algorithm that provides both fast average performance and (asymptotically) optimal worst-case performance. It begins with quicksort, it switches to heapsort when the recursion depth exceeds a level based on (the logarithm of) the number of elements being sorted and it switches to insertion sort when the number of elements is below some threshold\n",
        "\n",
        "*   Class\tSorting algorithm\n",
        "*   Data structure\tArray\n",
        "*   Worst-case performance\t$O(n \\lg n)$\n",
        "*   Average performance\t$O(n \\lg n)$\n",
        "\n",
        "**Tinsort**\n",
        "https://en.wikipedia.org/wiki/Timsort\n",
        "\n",
        "Timsort is a hybrid, stable sorting algorithm, derived from merge sort and insertion sort, designed to perform well on many kinds of real-world data. It was implemented by Tim Peters in 2002 for use in the Python programming language.\n",
        "\n",
        "*   Class\tSorting algorithm\n",
        "*   Data structure\tArray\n",
        "*   Worst-case performance\t$O(n \\lg n)$\n",
        "*   Best-case performance $O(n)$\n",
        "*   Average performance\t$O(n \\lg n)$\n",
        "*   Worst-case space complexity $O(n)$"
      ]
    },
    {
      "cell_type": "markdown",
      "metadata": {
        "id": "WMUthAXjOb_k"
      },
      "source": []
    },
    {
      "cell_type": "code",
      "source": [],
      "metadata": {
        "id": "jnIRWyUEDu_C"
      },
      "execution_count": null,
      "outputs": []
    },
    {
      "cell_type": "markdown",
      "metadata": {
        "id": "v8pdV9ABOb_k"
      },
      "source": [
        "Test with inputs 1 and 2\n",
        "\n"
      ]
    },
    {
      "cell_type": "code",
      "execution_count": null,
      "metadata": {
        "id": "kdXAyLG4Ob_k"
      },
      "outputs": [],
      "source": []
    },
    {
      "cell_type": "markdown",
      "metadata": {
        "id": "Sw-5X1q1Ob_k"
      },
      "source": [
        "Test and time it with input 3"
      ]
    },
    {
      "cell_type": "code",
      "execution_count": null,
      "metadata": {
        "id": "ryHJ30WIOb_k"
      },
      "outputs": [],
      "source": []
    },
    {
      "cell_type": "markdown",
      "metadata": {
        "id": "oJGdPl1HOb_k"
      },
      "source": [
        "20 stress tests"
      ]
    },
    {
      "cell_type": "code",
      "execution_count": null,
      "metadata": {
        "id": "pXHtO1dEOb_k"
      },
      "outputs": [],
      "source": []
    },
    {
      "cell_type": "markdown",
      "metadata": {
        "id": "2beTmWFPOb_k"
      },
      "source": [
        "Count executed instructions in code and verify with inputs 1,2 and 3\n"
      ]
    },
    {
      "cell_type": "code",
      "execution_count": null,
      "metadata": {
        "id": "iuByv4x1Ob_k"
      },
      "outputs": [],
      "source": []
    },
    {
      "cell_type": "markdown",
      "metadata": {
        "id": "x2CXhkwTOb_l"
      },
      "source": [
        "Calculate estimated time by instruction and number of instructions by second"
      ]
    },
    {
      "cell_type": "code",
      "execution_count": null,
      "metadata": {
        "id": "nTjxyTMtOb_l"
      },
      "outputs": [],
      "source": []
    },
    {
      "cell_type": "markdown",
      "source": [
        "### Estimate and verify the maximun n that can be solved in 1 second"
      ],
      "metadata": {
        "id": "CcgDYDQuaFeH"
      }
    },
    {
      "cell_type": "code",
      "source": [],
      "metadata": {
        "id": "fLztHReKaGFq"
      },
      "execution_count": null,
      "outputs": []
    },
    {
      "cell_type": "markdown",
      "metadata": {
        "id": "VMKC5duEOQfk"
      },
      "source": [
        "## Efficient solution with largest and second-largest in an list, array or vector in C++ and Python\n",
        "\n",
        " $$T(n) < 10 n  = O(n)$$\n",
        "\n",
        "\n",
        "\n"
      ]
    },
    {
      "cell_type": "markdown",
      "metadata": {
        "id": "nLcKBwbU0QsE"
      },
      "source": [
        "Add in each line a coment with the number of intstrcution that are executed in that line"
      ]
    },
    {
      "cell_type": "code",
      "execution_count": null,
      "metadata": {
        "id": "knls5Fh3NSt_"
      },
      "outputs": [],
      "source": []
    },
    {
      "cell_type": "markdown",
      "metadata": {
        "id": "-JCijbWxNSii"
      },
      "source": [
        "Test with inputs 1 and 2\n",
        "\n"
      ]
    },
    {
      "cell_type": "code",
      "execution_count": null,
      "metadata": {
        "id": "TrTGAfqlNVXT"
      },
      "outputs": [],
      "source": []
    },
    {
      "cell_type": "markdown",
      "metadata": {
        "id": "PRX51wADNR8b"
      },
      "source": [
        "Test and time it with input 3"
      ]
    },
    {
      "cell_type": "code",
      "execution_count": null,
      "metadata": {
        "id": "v4z7-Is_NRt7"
      },
      "outputs": [],
      "source": []
    },
    {
      "cell_type": "markdown",
      "metadata": {
        "id": "rpdfs0_TNZJf"
      },
      "source": [
        "20 stress tests"
      ]
    },
    {
      "cell_type": "code",
      "execution_count": null,
      "metadata": {
        "id": "Lu4tYcKzNcTT"
      },
      "outputs": [],
      "source": []
    },
    {
      "cell_type": "markdown",
      "metadata": {
        "id": "L8U4151JNbxk"
      },
      "source": [
        "Count executed instructions in code and verify with inputs 1,2 and 3\n"
      ]
    },
    {
      "cell_type": "code",
      "execution_count": null,
      "metadata": {
        "id": "dh85RM8vNhFz"
      },
      "outputs": [],
      "source": []
    },
    {
      "cell_type": "markdown",
      "metadata": {
        "id": "K6ybgCmpNygr"
      },
      "source": [
        "Calculate estimated time by instruction and number of instructions by second"
      ]
    },
    {
      "cell_type": "code",
      "execution_count": null,
      "metadata": {
        "id": "kwe3G1O3Nz1w"
      },
      "outputs": [],
      "source": []
    },
    {
      "cell_type": "markdown",
      "source": [
        "### Estimate and verify the maximun n that can be solved in 1 second"
      ],
      "metadata": {
        "id": "v8GY6n_ZaJ4P"
      }
    },
    {
      "cell_type": "code",
      "source": [],
      "metadata": {
        "id": "z3xjzg1YaKk6"
      },
      "execution_count": null,
      "outputs": []
    },
    {
      "cell_type": "markdown",
      "metadata": {
        "id": "sUpIWcykOGpT"
      },
      "source": [
        "## Super efficient solution\n",
        "\n",
        "Whitout storing the list in memory, only stpring the largest and second largest and whitout calling a function, add in each line a coment with the number of instructions that are executed in that line\n",
        "\n",
        "in C++ and Python\n",
        "\n",
        "\n",
        " $$T(n) < 13 n  = O(n)$$\n"
      ]
    },
    {
      "cell_type": "code",
      "execution_count": null,
      "metadata": {
        "id": "hBLt_xBQLy8E"
      },
      "outputs": [],
      "source": []
    },
    {
      "cell_type": "markdown",
      "metadata": {
        "id": "683gc3roHqzb"
      },
      "source": [
        "Test with inputs 1 and 2\n",
        "\n",
        "\n"
      ]
    },
    {
      "cell_type": "code",
      "execution_count": null,
      "metadata": {
        "id": "b7d4LA8OIc2_"
      },
      "outputs": [],
      "source": []
    },
    {
      "cell_type": "markdown",
      "metadata": {
        "id": "36Ugn1odIeJz"
      },
      "source": [
        "Test and time it with input 3"
      ]
    },
    {
      "cell_type": "code",
      "execution_count": null,
      "metadata": {
        "id": "jDyMbCnxHqSN"
      },
      "outputs": [],
      "source": []
    },
    {
      "cell_type": "markdown",
      "metadata": {
        "id": "bhqiKQG6fjKM"
      },
      "source": [
        "20 stress tests"
      ]
    },
    {
      "cell_type": "code",
      "execution_count": null,
      "metadata": {
        "id": "2KsiXKhALzwm"
      },
      "outputs": [],
      "source": []
    },
    {
      "cell_type": "markdown",
      "metadata": {
        "id": "fEXj8GHJH5p1"
      },
      "source": [
        "Count executed instructions in code and verify with inputs 1,2 and 3"
      ]
    },
    {
      "cell_type": "code",
      "execution_count": null,
      "metadata": {
        "id": "LF1DHjKXIAsF"
      },
      "outputs": [],
      "source": []
    },
    {
      "cell_type": "markdown",
      "metadata": {
        "id": "yae7sSm2IG9U"
      },
      "source": [
        "Calculate estimated time by instruction and number of instructions by second"
      ]
    },
    {
      "cell_type": "code",
      "execution_count": null,
      "metadata": {
        "id": "suouY7BYL2dz"
      },
      "outputs": [],
      "source": []
    },
    {
      "cell_type": "markdown",
      "metadata": {
        "id": "sy33CNNfPxcE"
      },
      "source": [
        "### Super efficient solution in Python\n",
        "\n",
        "Whitout storing the list in memory and whitout calling a function, add in each line a coment with the number of intstrcution that are executed in that line"
      ]
    },
    {
      "cell_type": "code",
      "execution_count": null,
      "metadata": {
        "id": "_mOjJwKrPxcJ"
      },
      "outputs": [],
      "source": []
    },
    {
      "cell_type": "markdown",
      "metadata": {
        "id": "K08Eow0hPxcJ"
      },
      "source": [
        "Test with inputs 1 and 2\n",
        "\n",
        "\n"
      ]
    },
    {
      "cell_type": "code",
      "execution_count": null,
      "metadata": {
        "id": "1_mUee2cPxcJ"
      },
      "outputs": [],
      "source": []
    },
    {
      "cell_type": "markdown",
      "metadata": {
        "id": "CE5DB3CmPxcJ"
      },
      "source": [
        "Test and time it with input 3"
      ]
    },
    {
      "cell_type": "code",
      "execution_count": null,
      "metadata": {
        "id": "lyLhFOoePxcJ"
      },
      "outputs": [],
      "source": []
    },
    {
      "cell_type": "markdown",
      "metadata": {
        "id": "HZEI236lPxcK"
      },
      "source": [
        "20 stress tests"
      ]
    },
    {
      "cell_type": "code",
      "execution_count": null,
      "metadata": {
        "id": "_LoV-p4zPxcK"
      },
      "outputs": [],
      "source": []
    },
    {
      "cell_type": "markdown",
      "metadata": {
        "id": "IRVdP3iuPxcK"
      },
      "source": [
        "Count executed instructions in code and verify with inputs 1,2 and 3"
      ]
    },
    {
      "cell_type": "code",
      "execution_count": null,
      "metadata": {
        "id": "RghJOg78PxcK"
      },
      "outputs": [],
      "source": []
    },
    {
      "cell_type": "markdown",
      "metadata": {
        "id": "R6qeUjPaPxcK"
      },
      "source": [
        "Calculate estimated time by instruction and number of instructions by second"
      ]
    },
    {
      "cell_type": "code",
      "execution_count": null,
      "metadata": {
        "id": "iLdXYvn3PxcK"
      },
      "outputs": [],
      "source": []
    },
    {
      "cell_type": "markdown",
      "source": [
        "### Estimate and verify the maximun n that can be solved in 1 second"
      ],
      "metadata": {
        "id": "uZGdjUwuaO4v"
      }
    },
    {
      "cell_type": "code",
      "source": [],
      "metadata": {
        "id": "FjqFevOaaOVz"
      },
      "execution_count": null,
      "outputs": []
    },
    {
      "cell_type": "markdown",
      "source": [
        "## Perform 100 randomized automated tests in C++ and Python with a porgram  compares the answers,for the same 100 random input instances, of the super efficient solution $(T(n) < 10 n = O(n))$ against the sorting solution  $(T(n)  = O(n \\lg{n}))$,  if the answers are not the same stops and displays \"Error\" listing  the input and the two answers; if the 100 tests are completed without stoping displays \"Pass\"."
      ],
      "metadata": {
        "id": "4hHRQMXzW6oR"
      }
    }
  ],
  "metadata": {
    "colab": {
      "provenance": [],
      "include_colab_link": true
    },
    "kernelspec": {
      "display_name": "Python 3",
      "name": "python3"
    },
    "language_info": {
      "name": "python"
    }
  },
  "nbformat": 4,
  "nbformat_minor": 0
}