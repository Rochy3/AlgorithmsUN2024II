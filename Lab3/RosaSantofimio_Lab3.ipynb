{
  "cells": [
    {
      "cell_type": "markdown",
      "metadata": {
        "id": "view-in-github",
        "colab_type": "text"
      },
      "source": [
        "<a href=\"https://colab.research.google.com/github/Rochy3/AlgorithmsUN2024II/blob/main/Lab3/RosaSantofimio_Lab3.ipynb\" target=\"_parent\"><img src=\"https://colab.research.google.com/assets/colab-badge.svg\" alt=\"Open In Colab\"/></a>"
      ]
    },
    {
      "cell_type": "code",
      "execution_count": 3,
      "metadata": {
        "id": "im-VVd1__7VU",
        "colab": {
          "base_uri": "https://localhost:8080/"
        },
        "outputId": "d71b62fe-541c-4d51-e0d7-9361a36135ac"
      },
      "outputs": [
        {
          "output_type": "stream",
          "name": "stdout",
          "text": [
            "processor\t: 0\n",
            "vendor_id\t: GenuineIntel\n",
            "cpu family\t: 6\n",
            "model\t\t: 79\n",
            "model name\t: Intel(R) Xeon(R) CPU @ 2.20GHz\n",
            "stepping\t: 0\n",
            "microcode\t: 0xffffffff\n",
            "cpu MHz\t\t: 2199.998\n",
            "cache size\t: 56320 KB\n",
            "physical id\t: 0\n",
            "siblings\t: 2\n",
            "core id\t\t: 0\n",
            "cpu cores\t: 1\n",
            "apicid\t\t: 0\n",
            "initial apicid\t: 0\n",
            "fpu\t\t: yes\n",
            "fpu_exception\t: yes\n",
            "cpuid level\t: 13\n",
            "wp\t\t: yes\n",
            "flags\t\t: fpu vme de pse tsc msr pae mce cx8 apic sep mtrr pge mca cmov pat pse36 clflush mmx fxsr sse sse2 ss ht syscall nx pdpe1gb rdtscp lm constant_tsc rep_good nopl xtopology nonstop_tsc cpuid tsc_known_freq pni pclmulqdq ssse3 fma cx16 pcid sse4_1 sse4_2 x2apic movbe popcnt aes xsave avx f16c rdrand hypervisor lahf_lm abm 3dnowprefetch invpcid_single ssbd ibrs ibpb stibp fsgsbase tsc_adjust bmi1 hle avx2 smep bmi2 erms invpcid rtm rdseed adx smap xsaveopt arat md_clear arch_capabilities\n",
            "bugs\t\t: cpu_meltdown spectre_v1 spectre_v2 spec_store_bypass l1tf mds swapgs taa mmio_stale_data retbleed bhi\n",
            "bogomips\t: 4399.99\n",
            "clflush size\t: 64\n",
            "cache_alignment\t: 64\n",
            "address sizes\t: 46 bits physical, 48 bits virtual\n",
            "power management:\n",
            "\n",
            "processor\t: 1\n",
            "vendor_id\t: GenuineIntel\n",
            "cpu family\t: 6\n",
            "model\t\t: 79\n",
            "model name\t: Intel(R) Xeon(R) CPU @ 2.20GHz\n",
            "stepping\t: 0\n",
            "microcode\t: 0xffffffff\n",
            "cpu MHz\t\t: 2199.998\n",
            "cache size\t: 56320 KB\n",
            "physical id\t: 0\n",
            "siblings\t: 2\n",
            "core id\t\t: 0\n",
            "cpu cores\t: 1\n",
            "apicid\t\t: 1\n",
            "initial apicid\t: 1\n",
            "fpu\t\t: yes\n",
            "fpu_exception\t: yes\n",
            "cpuid level\t: 13\n",
            "wp\t\t: yes\n",
            "flags\t\t: fpu vme de pse tsc msr pae mce cx8 apic sep mtrr pge mca cmov pat pse36 clflush mmx fxsr sse sse2 ss ht syscall nx pdpe1gb rdtscp lm constant_tsc rep_good nopl xtopology nonstop_tsc cpuid tsc_known_freq pni pclmulqdq ssse3 fma cx16 pcid sse4_1 sse4_2 x2apic movbe popcnt aes xsave avx f16c rdrand hypervisor lahf_lm abm 3dnowprefetch invpcid_single ssbd ibrs ibpb stibp fsgsbase tsc_adjust bmi1 hle avx2 smep bmi2 erms invpcid rtm rdseed adx smap xsaveopt arat md_clear arch_capabilities\n",
            "bugs\t\t: cpu_meltdown spectre_v1 spectre_v2 spec_store_bypass l1tf mds swapgs taa mmio_stale_data retbleed bhi\n",
            "bogomips\t: 4399.99\n",
            "clflush size\t: 64\n",
            "cache_alignment\t: 64\n",
            "address sizes\t: 46 bits physical, 48 bits virtual\n",
            "power management:\n",
            "\n"
          ]
        }
      ],
      "source": [
        "!cat /proc/cpuinfo"
      ]
    },
    {
      "cell_type": "markdown",
      "metadata": {
        "id": "N1ok_-56OjB1"
      },
      "source": [
        "# I Solving the Sum of Two Digits Programming Challenge"
      ]
    },
    {
      "cell_type": "markdown",
      "metadata": {
        "id": "MMY7kmDSO0KM"
      },
      "source": [
        "## C++"
      ]
    },
    {
      "cell_type": "code",
      "execution_count": 4,
      "metadata": {
        "colab": {
          "base_uri": "https://localhost:8080/"
        },
        "id": "2pGGf9BkPNIk",
        "outputId": "0e9d6dff-063c-4bae-b91b-e9e415b87fe8"
      },
      "outputs": [
        {
          "output_type": "stream",
          "name": "stdout",
          "text": [
            "Writing APlusB.cpp\n"
          ]
        }
      ],
      "source": [
        "%%writefile APlusB.cpp\n",
        "#include <iostream>\n",
        "\n",
        "int sum_of_two_digits(int first_digit, int second_digit) {\n",
        "    return first_digit + second_digit;\n",
        "}\n",
        "\n",
        "int main() {\n",
        "    int a = 0;\n",
        "    int b = 0;\n",
        "    std::cin >> a;\n",
        "    std::cin >> b;\n",
        "    std::cout << sum_of_two_digits(a, b);\n",
        "    return 0;\n",
        "}"
      ]
    },
    {
      "cell_type": "code",
      "execution_count": 5,
      "metadata": {
        "id": "0G3ZKOYAPXSU",
        "outputId": "b6e7a44a-dbf3-4194-f862-615369d42f64",
        "colab": {
          "base_uri": "https://localhost:8080/"
        }
      },
      "outputs": [
        {
          "output_type": "stream",
          "name": "stdout",
          "text": [
            "2\n",
            "1\n",
            "3"
          ]
        }
      ],
      "source": [
        "!g++ APlusB.cpp -o APlusB -std=c++11\n",
        "!./APlusB"
      ]
    },
    {
      "cell_type": "markdown",
      "metadata": {
        "id": "iNkG2HqfTl9c"
      },
      "source": [
        "### Test input output files"
      ]
    },
    {
      "cell_type": "code",
      "execution_count": 6,
      "metadata": {
        "id": "aTzU2efzMxly",
        "outputId": "03cdbd9f-b995-4bd9-feda-143bb3eb21f1",
        "colab": {
          "base_uri": "https://localhost:8080/"
        }
      },
      "outputs": [
        {
          "output_type": "stream",
          "name": "stdout",
          "text": [
            "Writing input1.txt\n"
          ]
        }
      ],
      "source": [
        "%%writefile input1.txt\n",
        "4 8"
      ]
    },
    {
      "cell_type": "code",
      "execution_count": 7,
      "metadata": {
        "id": "zBJ0Gc0NQRet",
        "outputId": "a5dbcf57-41e0-46af-ce65-bfaae2bfc54d",
        "colab": {
          "base_uri": "https://localhost:8080/"
        }
      },
      "outputs": [
        {
          "output_type": "stream",
          "name": "stdout",
          "text": [
            "Writing output1.txt\n"
          ]
        }
      ],
      "source": [
        "%%writefile output1.txt\n",
        "12"
      ]
    },
    {
      "cell_type": "code",
      "execution_count": 8,
      "metadata": {
        "id": "IjEcIx63PJAN",
        "outputId": "3a52efff-a5b5-4a4c-8c6e-a7111c9aed84",
        "colab": {
          "base_uri": "https://localhost:8080/"
        }
      },
      "outputs": [
        {
          "output_type": "stream",
          "name": "stdout",
          "text": [
            "Writing input2.txt\n"
          ]
        }
      ],
      "source": [
        "%%writefile input2.txt\n",
        "0 9"
      ]
    },
    {
      "cell_type": "code",
      "execution_count": 9,
      "metadata": {
        "id": "Up9gOrxURTmd",
        "outputId": "a0e57eb5-db69-469f-aab9-28731589cc05",
        "colab": {
          "base_uri": "https://localhost:8080/"
        }
      },
      "outputs": [
        {
          "output_type": "stream",
          "name": "stdout",
          "text": [
            "Writing output2.txt\n"
          ]
        }
      ],
      "source": [
        "%%writefile output2.txt\n",
        "9"
      ]
    },
    {
      "cell_type": "code",
      "execution_count": 10,
      "metadata": {
        "id": "PST6G-s-Pwgc",
        "outputId": "83855017-9982-477c-8704-637eac1c48be",
        "colab": {
          "base_uri": "https://localhost:8080/"
        }
      },
      "outputs": [
        {
          "output_type": "stream",
          "name": "stdout",
          "text": [
            "12"
          ]
        }
      ],
      "source": [
        "!./APlusB < input1.txt"
      ]
    },
    {
      "cell_type": "code",
      "execution_count": 11,
      "metadata": {
        "colab": {
          "base_uri": "https://localhost:8080/"
        },
        "id": "cKxZOjSlRfIN",
        "outputId": "e391a2f5-c2d1-4d55-bee6-cb6948fad00b"
      },
      "outputs": [
        {
          "output_type": "stream",
          "name": "stdout",
          "text": [
            "9"
          ]
        }
      ],
      "source": [
        "!./APlusB < input2.txt"
      ]
    },
    {
      "cell_type": "markdown",
      "metadata": {
        "id": "Qw2TQWCCUwqk"
      },
      "source": [
        "### Comparing files with grep\n",
        "\n",
        "https://askubuntu.com/questions/546796/comparing-two-text-files"
      ]
    },
    {
      "cell_type": "code",
      "source": [
        "!grep -xvFf output1.txt output1.txt"
      ],
      "metadata": {
        "id": "f5ef12XfZZBj"
      },
      "execution_count": 12,
      "outputs": []
    },
    {
      "cell_type": "code",
      "source": [
        "!grep -xvFf output1.txt output2.txt"
      ],
      "metadata": {
        "id": "WL7rO5urZdAT",
        "outputId": "9200df70-baad-4f4f-b38d-4350be05bf32",
        "colab": {
          "base_uri": "https://localhost:8080/"
        }
      },
      "execution_count": 13,
      "outputs": [
        {
          "output_type": "stream",
          "name": "stdout",
          "text": [
            "9\n"
          ]
        }
      ]
    },
    {
      "cell_type": "code",
      "source": [
        "!grep -xvFf output2.txt output1.txt"
      ],
      "metadata": {
        "id": "Awj8Lx3oZffj",
        "outputId": "1cf2744a-e8e7-4634-f649-2b1ea8b63250",
        "colab": {
          "base_uri": "https://localhost:8080/"
        }
      },
      "execution_count": 14,
      "outputs": [
        {
          "output_type": "stream",
          "name": "stdout",
          "text": [
            "12\n"
          ]
        }
      ]
    },
    {
      "cell_type": "code",
      "execution_count": 15,
      "metadata": {
        "id": "Jlja0Xm4TX9M"
      },
      "outputs": [],
      "source": [
        "!./APlusB < input1.txt> ctest1.txt\n",
        "!grep -xvFf output1.txt ctest1.txt"
      ]
    },
    {
      "cell_type": "code",
      "execution_count": 16,
      "metadata": {
        "id": "g9OIUZA_QLCQ"
      },
      "outputs": [],
      "source": [
        "!./APlusB < input2.txt > ctest2.txt\n",
        "!grep -xvFf output2.txt ctest2.txt"
      ]
    },
    {
      "cell_type": "markdown",
      "metadata": {
        "id": "3BgOaDjUVJk6"
      },
      "source": [
        "## Python"
      ]
    },
    {
      "cell_type": "code",
      "execution_count": 17,
      "metadata": {
        "colab": {
          "base_uri": "https://localhost:8080/"
        },
        "id": "DBvl-T0CTN_8",
        "outputId": "2a9ff78d-6515-4ae6-abec-33d3843fb513"
      },
      "outputs": [
        {
          "output_type": "stream",
          "name": "stdout",
          "text": [
            "Writing sum.py\n"
          ]
        }
      ],
      "source": [
        "%%writefile sum.py\n",
        "# python3\n",
        "\n",
        "def sum_of_two_digits(first_digit, second_digit):\n",
        "    return first_digit + second_digit\n",
        "\n",
        "if __name__ == '__main__':\n",
        "    a, b = map(int, input().split())\n",
        "    print(sum_of_two_digits(a, b))"
      ]
    },
    {
      "cell_type": "markdown",
      "source": [
        "escribir los siguientes digitos en la misma linea"
      ],
      "metadata": {
        "id": "gwUSRC90_zoU"
      }
    },
    {
      "cell_type": "code",
      "execution_count": 158,
      "metadata": {
        "id": "QKoKM11_WGyF",
        "outputId": "146f9909-3aa2-45f9-e906-c8566ef75290",
        "colab": {
          "base_uri": "https://localhost:8080/"
        }
      },
      "outputs": [
        {
          "output_type": "stream",
          "name": "stdout",
          "text": [
            "4 5\n",
            "9\n"
          ]
        }
      ],
      "source": [
        "!python sum.py"
      ]
    },
    {
      "cell_type": "code",
      "execution_count": 19,
      "metadata": {
        "id": "cocFbPRTWrqt"
      },
      "outputs": [],
      "source": [
        "!python sum.py  < input1.txt> ptest1.txt\n",
        "!grep -xvFf output1.txt ptest1.txt"
      ]
    },
    {
      "cell_type": "code",
      "execution_count": 20,
      "metadata": {
        "id": "MorKTa-XXASN"
      },
      "outputs": [],
      "source": [
        "!python sum.py  < input2.txt> ptest2.txt\n",
        "!grep -xvFf output2.txt ptest2.txt"
      ]
    },
    {
      "cell_type": "markdown",
      "metadata": {
        "id": "uvP-mOubW_5F"
      },
      "source": [
        "# II Solving The Maximum Pairwise Product Programming Challenge in C++"
      ]
    },
    {
      "cell_type": "markdown",
      "metadata": {
        "id": "C12yoFR6Xonl"
      },
      "source": [
        "## C++\n",
        "\n",
        "$$ T(n) < 6 n^2 = O(n^2)$$"
      ]
    },
    {
      "cell_type": "code",
      "source": [
        "%%writefile max_pairwise_product_full.cpp\n",
        "#include <iostream>\n",
        "#include <vector>\n",
        "#include <algorithm>\n",
        "\n",
        "int MaxPairwiseProduct(const std::vector<int>& numbers) {\n",
        "    int max_product = 0;\n",
        "    int aux_product = 0;\n",
        "    int n = numbers.size();\n",
        "\n",
        "    for (int first = 0; first < n; ++first) {\n",
        "        for (int second = 0; second < n; ++second) {\n",
        "          if ( first != second ){\n",
        "                aux_product = numbers[first] * numbers[second];\n",
        "                if (aux_product > max_product)  max_product = aux_product;\n",
        "          }\n",
        "        }\n",
        "    }\n",
        "\n",
        "    return max_product;\n",
        "}\n",
        "\n",
        "int main() {\n",
        "    int n;\n",
        "    std::cin >> n;\n",
        "    std::vector<int> numbers(n);\n",
        "    for (int i = 0; i < n; ++i) {\n",
        "        std::cin >> numbers[i];\n",
        "    }\n",
        "\n",
        "    std::cout << MaxPairwiseProduct(numbers) << \"\\n\";\n",
        "    return 0;\n",
        "}"
      ],
      "metadata": {
        "id": "3LpfoGv2Ae81",
        "outputId": "499f3613-6f79-45aa-e86c-58a3782c832c",
        "colab": {
          "base_uri": "https://localhost:8080/"
        }
      },
      "execution_count": 21,
      "outputs": [
        {
          "output_type": "stream",
          "name": "stdout",
          "text": [
            "Writing max_pairwise_product_full.cpp\n"
          ]
        }
      ]
    },
    {
      "cell_type": "markdown",
      "metadata": {
        "id": "m75IQQPbEHBS"
      },
      "source": [
        "#### Time Complexity\n",
        "$$\\left. \\begin{array}{llc}\n",
        " \\text{INSTRUCTION} & \\text{TYPE}& \\text{# EXECUTIONS}\\\\\n",
        "\\text{first != second} &  \\text{comparisons} &n^2 \\\\\n",
        "\\text{numbers[first] * numbers[second]}& \\ \\text{ products}  &n^2 - n \\\\\n",
        "\\text{max_product = aux_product} &  \\text{assigments} & [1, \\frac{n^2 - n}{2})  \n",
        "\\end{array}\\right\\}  =  O(n^2)$$"
      ]
    },
    {
      "cell_type": "code",
      "source": [
        "!g++ max_pairwise_product_full.cpp -o max_pairwise_product_full\n",
        "!./max_pairwise_product_full"
      ],
      "metadata": {
        "id": "PCVo1h6nCF9k",
        "colab": {
          "base_uri": "https://localhost:8080/"
        },
        "outputId": "7aecc579-28bf-4330-e2bd-f84a939080c6"
      },
      "execution_count": 22,
      "outputs": [
        {
          "output_type": "stream",
          "name": "stdout",
          "text": [
            "1\n",
            "2\n",
            "0\n"
          ]
        }
      ]
    },
    {
      "cell_type": "markdown",
      "metadata": {
        "id": "e7KhxHGNS3i0"
      },
      "source": [
        "### Test 1: Small numbers"
      ]
    },
    {
      "cell_type": "code",
      "source": [
        "%%writefile input1.txt\n",
        "10\n",
        "1 2 3 4 5 6 7 8 9 10"
      ],
      "metadata": {
        "colab": {
          "base_uri": "https://localhost:8080/"
        },
        "id": "17npyXt7lYzA",
        "outputId": "17af6048-d1cb-4277-9f2c-c474c545a750"
      },
      "execution_count": 23,
      "outputs": [
        {
          "output_type": "stream",
          "name": "stdout",
          "text": [
            "Overwriting input1.txt\n"
          ]
        }
      ]
    },
    {
      "cell_type": "code",
      "source": [
        "!./max_pairwise_product < input1.txt"
      ],
      "metadata": {
        "id": "qaVPZ25WbgbJ",
        "outputId": "e0960304-ed64-490c-b9ce-ef672c567ed2",
        "colab": {
          "base_uri": "https://localhost:8080/"
        }
      },
      "execution_count": 24,
      "outputs": [
        {
          "output_type": "stream",
          "name": "stdout",
          "text": [
            "/bin/bash: line 1: ./max_pairwise_product: No such file or directory\n"
          ]
        }
      ]
    },
    {
      "cell_type": "code",
      "source": [
        "%%writefile output1.txt\n",
        "90"
      ],
      "metadata": {
        "colab": {
          "base_uri": "https://localhost:8080/"
        },
        "id": "NooGEkJylezm",
        "outputId": "90b4323f-16de-4cd6-b021-c51f067b7b33"
      },
      "execution_count": 25,
      "outputs": [
        {
          "output_type": "stream",
          "name": "stdout",
          "text": [
            "Overwriting output1.txt\n"
          ]
        }
      ]
    },
    {
      "cell_type": "code",
      "source": [
        "!./max_pairwise_product_full< input1.txt > ctest1.txt\n",
        "!grep -xvFf output1.txt ctest1.txt"
      ],
      "metadata": {
        "id": "R0yFaAOrlqrE"
      },
      "execution_count": 26,
      "outputs": []
    },
    {
      "cell_type": "code",
      "execution_count": 27,
      "metadata": {
        "colab": {
          "base_uri": "https://localhost:8080/"
        },
        "id": "e1mmTzBgShT-",
        "outputId": "bb92ed6c-14d3-446f-c95d-fdea963b50de"
      },
      "outputs": [
        {
          "output_type": "stream",
          "name": "stdout",
          "text": [
            "Overwriting input2.txt\n"
          ]
        }
      ],
      "source": [
        "%%writefile input2.txt\n",
        "10\n",
        "10 9 8 7 6 5 4 3 2 1"
      ]
    },
    {
      "cell_type": "code",
      "execution_count": 28,
      "metadata": {
        "colab": {
          "base_uri": "https://localhost:8080/"
        },
        "id": "vy_uI0x7TCId",
        "outputId": "47c2f864-40ae-4e31-911c-2eea5517ad46"
      },
      "outputs": [
        {
          "output_type": "stream",
          "name": "stdout",
          "text": [
            "Overwriting output2.txt\n"
          ]
        }
      ],
      "source": [
        "%%writefile output2.txt\n",
        "90"
      ]
    },
    {
      "cell_type": "code",
      "execution_count": 29,
      "metadata": {
        "id": "xaj6f9bxC6D6"
      },
      "outputs": [],
      "source": [
        "!./max_pairwise_product_full< input2.txt > ctest2.txt\n",
        "!grep -xvFf output2.txt ctest2.txt"
      ]
    },
    {
      "cell_type": "markdown",
      "metadata": {
        "id": "IeZ3kTjpYmR9"
      },
      "source": [
        "### Test 2: largest input numbers 200000 200000 to check possible intger overflow"
      ]
    },
    {
      "cell_type": "code",
      "execution_count": 30,
      "metadata": {
        "colab": {
          "base_uri": "https://localhost:8080/"
        },
        "id": "LQNlZqaqYt7U",
        "outputId": "afb29686-594d-4c29-901a-7b7b74df0dfa"
      },
      "outputs": [
        {
          "output_type": "stream",
          "name": "stdout",
          "text": [
            "Writing input3.txt\n"
          ]
        }
      ],
      "source": [
        "%%writefile input3.txt\n",
        "6\n",
        "1 3 200000 9 200000 23"
      ]
    },
    {
      "cell_type": "code",
      "execution_count": 31,
      "metadata": {
        "colab": {
          "base_uri": "https://localhost:8080/"
        },
        "id": "GjQq7QOUCw-9",
        "outputId": "b47382b7-0d13-46be-f0f6-9d276c380a42"
      },
      "outputs": [
        {
          "output_type": "execute_result",
          "data": {
            "text/plain": [
              "40000000000"
            ]
          },
          "metadata": {},
          "execution_count": 31
        }
      ],
      "source": [
        "200000*200000"
      ]
    },
    {
      "cell_type": "code",
      "execution_count": 32,
      "metadata": {
        "colab": {
          "base_uri": "https://localhost:8080/"
        },
        "id": "EuS6n3jtDK5C",
        "outputId": "bd656057-8995-4a8f-b1b3-5280f51d4128"
      },
      "outputs": [
        {
          "output_type": "stream",
          "name": "stdout",
          "text": [
            "Writing output3.txt\n"
          ]
        }
      ],
      "source": [
        "%%writefile output3.txt\n",
        "40000000000"
      ]
    },
    {
      "cell_type": "code",
      "execution_count": 33,
      "metadata": {
        "colab": {
          "base_uri": "https://localhost:8080/"
        },
        "id": "2Wad2VZUZDxR",
        "outputId": "d53c638a-5f3f-400c-eba8-0a32cfbe93ea"
      },
      "outputs": [
        {
          "output_type": "stream",
          "name": "stdout",
          "text": [
            "1345294336\n"
          ]
        }
      ],
      "source": [
        "!./max_pairwise_product_full < input3.txt"
      ]
    },
    {
      "cell_type": "code",
      "execution_count": 34,
      "metadata": {
        "colab": {
          "base_uri": "https://localhost:8080/"
        },
        "id": "pEvp1ieyDJGq",
        "outputId": "b0ec3881-f428-4a26-b910-c7f8b7a25dd2"
      },
      "outputs": [
        {
          "output_type": "stream",
          "name": "stdout",
          "text": [
            "1345294336\n"
          ]
        }
      ],
      "source": [
        "!./max_pairwise_product_full < input3.txt > ctest3.txt\n",
        "!grep -xvFf output3.txt ctest3.txt"
      ]
    },
    {
      "cell_type": "code",
      "source": [
        "%%writefile run_all_test.sh\n",
        "#!/bin/bash\n",
        "g++ max_pairwise_product_full.cpp -o max_pairwise_product_full\n",
        "for i in {0..3}\n",
        "do\n",
        "    ./max_pairwise_product_full < input$i.txt > ctest$i.txt\n",
        "    grep -xvFf output$i.txt ctest$i.txt\n",
        "done"
      ],
      "metadata": {
        "colab": {
          "base_uri": "https://localhost:8080/"
        },
        "id": "SrtJrKqM-God",
        "outputId": "b7d1b989-744a-420e-fdca-3e01806df004"
      },
      "execution_count": 35,
      "outputs": [
        {
          "output_type": "stream",
          "name": "stdout",
          "text": [
            "Writing run_all_test.sh\n"
          ]
        }
      ]
    },
    {
      "cell_type": "code",
      "source": [
        "!chmod u+x run_all_test.sh\n",
        "!./run_all_test.sh"
      ],
      "metadata": {
        "colab": {
          "base_uri": "https://localhost:8080/"
        },
        "id": "wGWMHtzS-QnA",
        "outputId": "e6428016-4f3e-4769-d724-57e67aeecdb7"
      },
      "execution_count": 191,
      "outputs": [
        {
          "output_type": "stream",
          "name": "stdout",
          "text": [
            "1345294336\n"
          ]
        }
      ]
    },
    {
      "cell_type": "markdown",
      "metadata": {
        "id": "H2SC0Qt5HCzz"
      },
      "source": [
        "### Changing the variables to long long"
      ]
    },
    {
      "cell_type": "code",
      "execution_count": 37,
      "metadata": {
        "colab": {
          "base_uri": "https://localhost:8080/"
        },
        "id": "MPcmsxiQZSfE",
        "outputId": "455a6ee3-0d0e-4520-a433-971d6740f261"
      },
      "outputs": [
        {
          "output_type": "stream",
          "name": "stdout",
          "text": [
            "Writing max_pairwise_product_long_full.cpp\n"
          ]
        }
      ],
      "source": [
        "%%writefile max_pairwise_product_long_full.cpp\n",
        "#include <iostream>\n",
        "#include <vector>\n",
        "#include <algorithm>\n",
        "\n",
        "long long MaxPairwiseProduct(const std::vector<int>& numbers) {\n",
        "    long long max_product = 0LL;\n",
        "\t  long long aux_product = 0LL;\n",
        "    int n = numbers.size();\n",
        "\n",
        "    for (int first = 0; first < n; ++first) {\n",
        "        for (int second = 0; second < n; ++second) {\n",
        "          if ( first != second){\n",
        "                aux_product = (long long) numbers[first] * numbers[second];\n",
        "                if (aux_product > max_product)  max_product = aux_product;\n",
        "          }\n",
        "        }\n",
        "    }\n",
        "\n",
        "\n",
        "    return max_product;\n",
        "}\n",
        "\n",
        "int main() {\n",
        "    int n;\n",
        "    std::cin >> n;\n",
        "    std::vector<int> numbers(n);\n",
        "    for (int i = 0; i < n; ++i) {\n",
        "        std::cin >> numbers[i];\n",
        "    }\n",
        "\n",
        "    std::cout << MaxPairwiseProduct(numbers) << \"\\n\";\n",
        "    return 0;\n",
        "}\n"
      ]
    },
    {
      "cell_type": "code",
      "source": [
        "!g++ max_pairwise_product_long_full.cpp -o max_pairwise_product_long_full"
      ],
      "metadata": {
        "id": "W3xQpFXL6wjO"
      },
      "execution_count": 38,
      "outputs": []
    },
    {
      "cell_type": "code",
      "source": [
        "!./max_pairwise_product_long_full < input3.txt"
      ],
      "metadata": {
        "colab": {
          "base_uri": "https://localhost:8080/"
        },
        "id": "H5dvN9M3R9sV",
        "outputId": "d6afdeb7-5029-473f-82e6-4aab52a76920"
      },
      "execution_count": 39,
      "outputs": [
        {
          "output_type": "stream",
          "name": "stdout",
          "text": [
            "40000000000\n"
          ]
        }
      ]
    },
    {
      "cell_type": "markdown",
      "source": [
        "### Runing multuple test with a bash shell"
      ],
      "metadata": {
        "id": "gx-sEYdfQ8f8"
      }
    },
    {
      "cell_type": "code",
      "source": [
        " %%writefile run_all_test.sh\n",
        "#!/bin/bash\n",
        "g++ max_pairwise_product_long_full.cpp -o max_pairwise_product_long_full\n",
        "for i in {1..3}\n",
        "do\n",
        "    ./max_pairwise_product_long_full < input$i.txt > ctest$i.txt\n",
        "    grep -xvFf output$i.txt ctest$i.txt\n",
        "done"
      ],
      "metadata": {
        "colab": {
          "base_uri": "https://localhost:8080/"
        },
        "id": "O9qsq2nn7elw",
        "outputId": "be726771-311a-4926-d113-99eb34ff49ff"
      },
      "execution_count": 40,
      "outputs": [
        {
          "output_type": "stream",
          "name": "stdout",
          "text": [
            "Overwriting run_all_test.sh\n"
          ]
        }
      ]
    },
    {
      "cell_type": "code",
      "source": [
        "!chmod u+x run_all_test.sh\n",
        "!./run_all_test.sh"
      ],
      "metadata": {
        "id": "0g5kKVph7xIA"
      },
      "execution_count": 41,
      "outputs": []
    },
    {
      "cell_type": "markdown",
      "metadata": {
        "id": "XPVHkHxH6_7s"
      },
      "source": [
        "### Test 3  stress tests, 6 testing cases files input4.txt/output4.txt .. input10.txt/output10.txt\n",
        "\n",
        "---\n",
        "\n"
      ]
    },
    {
      "cell_type": "code",
      "execution_count": 42,
      "metadata": {
        "id": "PwqpBmYr69fu",
        "outputId": "3ffaa086-dd1b-427d-8ec7-a85d5eee8356",
        "colab": {
          "base_uri": "https://localhost:8080/"
        }
      },
      "outputs": [
        {
          "output_type": "stream",
          "name": "stdout",
          "text": [
            "Writing input4.txt\n"
          ]
        }
      ],
      "source": [
        "\n",
        "%%writefile input4.txt\n",
        "7\n",
        "1 3 200000 9 200000 23 200000"
      ]
    },
    {
      "cell_type": "code",
      "execution_count": 43,
      "metadata": {
        "id": "jBCkMeR6Fw4y",
        "outputId": "94758963-40c5-4019-c785-e39b3581e2f2",
        "colab": {
          "base_uri": "https://localhost:8080/"
        }
      },
      "outputs": [
        {
          "output_type": "stream",
          "name": "stdout",
          "text": [
            "Writing output4.txt\n"
          ]
        }
      ],
      "source": [
        "\n",
        "%%writefile output4.txt\n",
        "40000000000"
      ]
    },
    {
      "cell_type": "code",
      "source": [
        "\n",
        "%%writefile input5.txt\n",
        "2\n",
        "1 1"
      ],
      "metadata": {
        "id": "zED8V8wu-eoM",
        "outputId": "060a6c20-fe27-4fa0-a0e4-9442827ad948",
        "colab": {
          "base_uri": "https://localhost:8080/"
        }
      },
      "execution_count": 44,
      "outputs": [
        {
          "output_type": "stream",
          "name": "stdout",
          "text": [
            "Writing input5.txt\n"
          ]
        }
      ]
    },
    {
      "cell_type": "code",
      "source": [
        "\n",
        "%%writefile output5.txt\n",
        "1"
      ],
      "metadata": {
        "id": "Suafxf6AQYBo",
        "outputId": "0257cfe0-a080-4cf6-d745-689d58ea57f6",
        "colab": {
          "base_uri": "https://localhost:8080/"
        }
      },
      "execution_count": 45,
      "outputs": [
        {
          "output_type": "stream",
          "name": "stdout",
          "text": [
            "Writing output5.txt\n"
          ]
        }
      ]
    },
    {
      "cell_type": "code",
      "source": [
        "%%writefile input6.txt\n",
        "8\n",
        "2 2 2 2 2 2 2 2"
      ],
      "metadata": {
        "id": "YZWQgHpiQXpB",
        "outputId": "e615089e-f052-422f-8185-2a0c9c63e322",
        "colab": {
          "base_uri": "https://localhost:8080/"
        }
      },
      "execution_count": 46,
      "outputs": [
        {
          "output_type": "stream",
          "name": "stdout",
          "text": [
            "Writing input6.txt\n"
          ]
        }
      ]
    },
    {
      "cell_type": "code",
      "source": [
        "%%writefile output6.txt\n",
        "4"
      ],
      "metadata": {
        "id": "0ven_hztQXX_",
        "outputId": "e0b526f8-0680-4a84-fd29-90024191ec6c",
        "colab": {
          "base_uri": "https://localhost:8080/"
        }
      },
      "execution_count": 47,
      "outputs": [
        {
          "output_type": "stream",
          "name": "stdout",
          "text": [
            "Writing output6.txt\n"
          ]
        }
      ]
    },
    {
      "cell_type": "code",
      "source": [
        "%%writefile input7.txt\n",
        "5\n",
        "1 3 200000 9 200000\n"
      ],
      "metadata": {
        "id": "1m1KAjZRRz_v",
        "outputId": "669a05ae-2e74-459a-fd92-fa844d1441d2",
        "colab": {
          "base_uri": "https://localhost:8080/"
        }
      },
      "execution_count": 48,
      "outputs": [
        {
          "output_type": "stream",
          "name": "stdout",
          "text": [
            "Writing input7.txt\n"
          ]
        }
      ]
    },
    {
      "cell_type": "code",
      "source": [
        "%%writefile output7.txt\n",
        "40000000000"
      ],
      "metadata": {
        "id": "3NWI0WB1R3n_",
        "outputId": "fd33290b-1beb-4fbd-8dad-00d57566fbeb",
        "colab": {
          "base_uri": "https://localhost:8080/"
        }
      },
      "execution_count": 49,
      "outputs": [
        {
          "output_type": "stream",
          "name": "stdout",
          "text": [
            "Writing output7.txt\n"
          ]
        }
      ]
    },
    {
      "cell_type": "code",
      "source": [
        "%%writefile input8.txt\n",
        "3\n",
        "9 8 9"
      ],
      "metadata": {
        "id": "a3pdI_aTR6X4",
        "outputId": "fa5ec6a5-8f0e-451f-9941-6b2be6a1f356",
        "colab": {
          "base_uri": "https://localhost:8080/"
        }
      },
      "execution_count": 50,
      "outputs": [
        {
          "output_type": "stream",
          "name": "stdout",
          "text": [
            "Writing input8.txt\n"
          ]
        }
      ]
    },
    {
      "cell_type": "code",
      "source": [
        "%%writefile output8.txt\n",
        "81"
      ],
      "metadata": {
        "id": "0XQ0k-eyR_Cs",
        "outputId": "1e890871-b2b9-4894-c332-78b85c53bd05",
        "colab": {
          "base_uri": "https://localhost:8080/"
        }
      },
      "execution_count": 51,
      "outputs": [
        {
          "output_type": "stream",
          "name": "stdout",
          "text": [
            "Writing output8.txt\n"
          ]
        }
      ]
    },
    {
      "cell_type": "code",
      "source": [
        "\n",
        "%%writefile input9.txt\n",
        "4\n",
        "200000 200000 200000 200000"
      ],
      "metadata": {
        "id": "KVtCQx6ASDWM",
        "outputId": "2502c802-095f-401f-eb3d-fc24c92f8207",
        "colab": {
          "base_uri": "https://localhost:8080/"
        }
      },
      "execution_count": 52,
      "outputs": [
        {
          "output_type": "stream",
          "name": "stdout",
          "text": [
            "Writing input9.txt\n"
          ]
        }
      ]
    },
    {
      "cell_type": "code",
      "source": [
        "%%writefile output9.txt\n",
        "40000000000"
      ],
      "metadata": {
        "id": "fvjTr0HASHGt",
        "outputId": "96cc59a7-7c53-4d2a-b65e-e40ee400ed82",
        "colab": {
          "base_uri": "https://localhost:8080/"
        }
      },
      "execution_count": 53,
      "outputs": [
        {
          "output_type": "stream",
          "name": "stdout",
          "text": [
            "Writing output9.txt\n"
          ]
        }
      ]
    },
    {
      "cell_type": "code",
      "source": [
        "%%writefile input10.txt\n",
        "3\n",
        "0 0 0"
      ],
      "metadata": {
        "id": "aEl3lJiSSJNp",
        "outputId": "9cac4176-b843-409c-f46b-3c8882b9d4b4",
        "colab": {
          "base_uri": "https://localhost:8080/"
        }
      },
      "execution_count": 54,
      "outputs": [
        {
          "output_type": "stream",
          "name": "stdout",
          "text": [
            "Writing input10.txt\n"
          ]
        }
      ]
    },
    {
      "cell_type": "code",
      "source": [
        "\n",
        "%%writefile output10.txt\n",
        "0\n"
      ],
      "metadata": {
        "id": "R3Z7GcV2SLAX",
        "outputId": "a2b1e1f4-3bf0-44a8-ab89-47cb07be199e",
        "colab": {
          "base_uri": "https://localhost:8080/"
        }
      },
      "execution_count": 55,
      "outputs": [
        {
          "output_type": "stream",
          "name": "stdout",
          "text": [
            "Writing output10.txt\n"
          ]
        }
      ]
    },
    {
      "cell_type": "code",
      "source": [
        "%%writefile run_all_test_1.sh\n",
        "#!/bin/bash\n",
        "g++ max_pairwise_product_long_full.cpp -o max_pairwise_product_long_full || exit 1\n",
        "\n",
        "for i in {4..10}\n",
        "do\n",
        "    ./max_pairwise_product_long_full < input$i.txt > ctest$i.txt\n",
        "    if grep -xvFf output$i.txt ctest$i.txt; then\n",
        "        echo \"Test $i failed!\"\n",
        "    else\n",
        "        echo \"Test $i passed!\"\n",
        "    fi\n",
        "done\n"
      ],
      "metadata": {
        "id": "QhGWjn1GSVWf",
        "outputId": "ab2b65be-fd35-4500-9d3f-88795c036ccf",
        "colab": {
          "base_uri": "https://localhost:8080/"
        }
      },
      "execution_count": 56,
      "outputs": [
        {
          "output_type": "stream",
          "name": "stdout",
          "text": [
            "Writing run_all_test_1.sh\n"
          ]
        }
      ]
    },
    {
      "cell_type": "code",
      "source": [
        "!chmod u+x run_all_test_1.sh\n",
        "!./run_all_test_1.sh"
      ],
      "metadata": {
        "id": "wuqBA62VSXzW",
        "outputId": "02ba8055-6cd9-4e04-d139-86d8dce102b3",
        "colab": {
          "base_uri": "https://localhost:8080/"
        }
      },
      "execution_count": 57,
      "outputs": [
        {
          "output_type": "stream",
          "name": "stdout",
          "text": [
            "Test 4 passed!\n",
            "Test 5 passed!\n",
            "Test 6 passed!\n",
            "Test 7 passed!\n",
            "Test 8 passed!\n",
            "Test 9 passed!\n",
            "Test 10 passed!\n"
          ]
        }
      ]
    },
    {
      "cell_type": "markdown",
      "metadata": {
        "id": "9z9yr5QkeyJF"
      },
      "source": [
        "### Test 4  time test  measure the execution time running with the the largest worst cases input11.txt  (200000 increasing numbers) and input12.txt (199998 increasing numbers and  200000, 200000 at the end)"
      ]
    },
    {
      "cell_type": "code",
      "source": [
        "# input11.txt 200000 increasing numbers:  1 2 .. 200000\n",
        "\n",
        "%%writefile WriteTest.cpp\n",
        "\n",
        "#include <iostream>\n",
        "#include <fstream>\n",
        "#include <cstdlib>\n",
        "\n",
        "using namespace std;\n",
        "\n",
        "int main() {\n",
        "  // Create and open a text file\n",
        "  ofstream MyFile(\"input11.txt\");\n",
        "\n",
        " MyFile << 200000 <<\"\\n\";  // n\n",
        " for (int i=1; i <200001; i++){\n",
        "     MyFile << i <<\" \";\n",
        " }\n",
        "\n",
        "  // Close the file\n",
        "  MyFile.close();\n",
        "}"
      ],
      "metadata": {
        "colab": {
          "base_uri": "https://localhost:8080/"
        },
        "id": "UmB1ipWM_nSk",
        "outputId": "25f09273-8804-45f6-d27d-3641c035dab6"
      },
      "execution_count": 58,
      "outputs": [
        {
          "output_type": "stream",
          "name": "stdout",
          "text": [
            "Writing WriteTest.cpp\n"
          ]
        }
      ]
    },
    {
      "cell_type": "code",
      "execution_count": 59,
      "metadata": {
        "id": "EH25TkOkZfD9"
      },
      "outputs": [],
      "source": [
        "!g++ WriteTest.cpp -o WriteTest\n",
        "!./WriteTest"
      ]
    },
    {
      "cell_type": "code",
      "source": [
        "199999 * 200000"
      ],
      "metadata": {
        "colab": {
          "base_uri": "https://localhost:8080/"
        },
        "id": "j0mokSOnCCtZ",
        "outputId": "cf5c3ee8-5678-441b-ed45-aad1a6c6464a"
      },
      "execution_count": 60,
      "outputs": [
        {
          "output_type": "execute_result",
          "data": {
            "text/plain": [
              "39999800000"
            ]
          },
          "metadata": {},
          "execution_count": 60
        }
      ]
    },
    {
      "cell_type": "code",
      "source": [
        "%%writefile output11.txt\n",
        "39999800000"
      ],
      "metadata": {
        "id": "VoDhDV73B5Mo",
        "colab": {
          "base_uri": "https://localhost:8080/"
        },
        "outputId": "88920bc1-3b10-4121-9650-cb20035b46e2"
      },
      "execution_count": 61,
      "outputs": [
        {
          "output_type": "stream",
          "name": "stdout",
          "text": [
            "Writing output11.txt\n"
          ]
        }
      ]
    },
    {
      "cell_type": "code",
      "execution_count": 62,
      "metadata": {
        "colab": {
          "base_uri": "https://localhost:8080/"
        },
        "id": "oLiMjbAIfPlX",
        "outputId": "78faaa56-a6e3-4aa4-fca6-7f8c83bce951"
      },
      "outputs": [
        {
          "output_type": "stream",
          "name": "stdout",
          "text": [
            "Overwriting WriteTest.cpp\n"
          ]
        }
      ],
      "source": [
        "# input12.txt 200000 decreasing numbers and 200000, 199999 ...  2 1\n",
        "\n",
        "%%writefile WriteTest.cpp\n",
        "\n",
        "#include <iostream>\n",
        "#include <fstream>\n",
        "#include <cstdlib>\n",
        "\n",
        "using namespace std;\n",
        "\n",
        "int main() {\n",
        "  // Create and open a text file\n",
        "  ofstream MyFile(\"input12.txt\");\n",
        "\n",
        " MyFile << 200000 <<\"\\n\";  // n\n",
        " for (int i=1; i <200001; i++){\n",
        "     MyFile << 200001-i <<\" \";\n",
        " }\n",
        "\n",
        "  // Close the file\n",
        "  MyFile.close();\n",
        "}"
      ]
    },
    {
      "cell_type": "code",
      "source": [
        "!g++ WriteTest.cpp -o WriteTest\n",
        "!./WriteTest"
      ],
      "metadata": {
        "id": "oULNBr_zAd9c"
      },
      "execution_count": 63,
      "outputs": []
    },
    {
      "cell_type": "code",
      "source": [
        "%%writefile output12.txt\n",
        "39999800000"
      ],
      "metadata": {
        "colab": {
          "base_uri": "https://localhost:8080/"
        },
        "id": "PQLyocaFB-y4",
        "outputId": "e8125844-ddcc-45c3-80bf-692a99fc884d"
      },
      "execution_count": 64,
      "outputs": [
        {
          "output_type": "stream",
          "name": "stdout",
          "text": [
            "Writing output12.txt\n"
          ]
        }
      ]
    },
    {
      "cell_type": "markdown",
      "metadata": {
        "id": "JB6f03qO-lj9"
      },
      "source": [
        "### Measure time\n",
        "\n",
        "https://askubuntu.com/questions/53444/how-can-i-measure-the-execution-time-of-a-terminal-process"
      ]
    },
    {
      "cell_type": "code",
      "source": [
        "!g++ max_pairwise_product_long_full.cpp -o max_pairwise_product_long_full\n",
        "!time ./max_pairwise_product_long_full < input11.txt"
      ],
      "metadata": {
        "id": "W2hytwrYhTVZ",
        "outputId": "68385d5a-3b5f-49a0-bbcc-c61d1c3e170b",
        "colab": {
          "base_uri": "https://localhost:8080/"
        }
      },
      "execution_count": 192,
      "outputs": [
        {
          "output_type": "stream",
          "name": "stdout",
          "text": [
            "123243423\n",
            "^C\n"
          ]
        }
      ]
    },
    {
      "cell_type": "code",
      "source": [
        "!g++ max_pairwise_product_long_full.cpp -o max_pairwise_product_long_full\n",
        "!time ./max_pairwise_product_long_full< input12.txt"
      ],
      "metadata": {
        "id": "cnjCyeUdAnZj",
        "outputId": "99f4726b-d5a3-4b72-aa15-fda2c6d8a7e7",
        "colab": {
          "base_uri": "https://localhost:8080/"
        }
      },
      "execution_count": 193,
      "outputs": [
        {
          "output_type": "stream",
          "name": "stdout",
          "text": [
            "123213 2312\n",
            "^C\n"
          ]
        }
      ]
    },
    {
      "cell_type": "markdown",
      "metadata": {
        "id": "FXClpBsUJuXC"
      },
      "source": [
        "### Calculate the number or and upper bound to the number of instructions executed by the algorithm as a function of n, add in each line a comment with the number of instructions that are executed in that line."
      ]
    },
    {
      "cell_type": "code",
      "execution_count": 67,
      "metadata": {
        "id": "uG6Mv-Pwlkii",
        "outputId": "a70e8ee6-a005-4dc3-8df0-141342106428",
        "colab": {
          "base_uri": "https://localhost:8080/"
        }
      },
      "outputs": [
        {
          "output_type": "stream",
          "name": "stdout",
          "text": [
            "Overwriting max_pairwise_product_long_full.cpp\n"
          ]
        }
      ],
      "source": [
        "%%writefile max_pairwise_product_long_full.cpp\n",
        "#include <iostream>\n",
        "#include <vector>\n",
        "#include <algorithm>\n",
        "\n",
        "long long MaxPairwiseProduct(const std::vector<int>& numbers) {              //INSTRUCTIONS executed by line\n",
        "    long long max_product = 0LL;                                             //1\n",
        "\t  long long aux_product = 0LL;                                             //1\n",
        "    int n = numbers.size();                                                  //1\n",
        "\n",
        "    for (int first = 0; first < n; ++first) {                                //2+2n\n",
        "        for (int second = 0; second < n; ++second) {                         //2n + 2n**2\n",
        "          if ( first != second ){                                            //n**2\n",
        "                aux_product = numbers[first] * numbers[second];              //n**2 -n\n",
        "                if (aux_product > max_product)                               //n**2 -n\n",
        "                    max_product = aux_product;                               //[0, n**2/2 - n/2] upper bound\n",
        "          }\n",
        "        }\n",
        "    }\n",
        "\n",
        "                                                                             // --------------\n",
        "    return max_product;                                                      // 5 + 2*n + [5*n**2, 11*n**2/2  - n/2]  upper bound\n",
        "}\n",
        "\n",
        "int main() {                                              //INSTRUCTIONS executed by line\n",
        "    int n;                                                //1\n",
        "    std::cin >> n;                                        //1\n",
        "    std::vector<int> numbers(n);                          //n\n",
        "    for (int i = 0; i < n; ++i) {                         //2 + 2n\n",
        "        std::cin >> numbers[i];                           //n\n",
        "    }\n",
        "\n",
        "    std::cout << MaxPairwiseProduct(numbers) << \"\\n\";     //1 + 1  + 5 + 2*n + [5*n**2, 11*n**2/2  - n/2]\n",
        "\n",
        "    return 0;                                             // --------------\n",
        "}                                                         //  11 + 6*n + [5*n**2, 11*n**2/2  - n/2]  upper bound\n"
      ]
    },
    {
      "cell_type": "markdown",
      "metadata": {
        "id": "0vTsUg8OwcHs"
      },
      "source": [
        "### Count executed intructions in code"
      ]
    },
    {
      "cell_type": "code",
      "execution_count": 68,
      "metadata": {
        "id": "CuRKkqQc137V",
        "outputId": "71bff00d-78e6-453c-e633-d9b3857b6972",
        "colab": {
          "base_uri": "https://localhost:8080/"
        }
      },
      "outputs": [
        {
          "output_type": "stream",
          "name": "stdout",
          "text": [
            "Writing max_pairwise_product_long_full_execints.cpp\n"
          ]
        }
      ],
      "source": [
        "%%writefile max_pairwise_product_long_full_execints.cpp\n",
        "#include <iostream>\n",
        "#include <vector>\n",
        "#include <algorithm>\n",
        "\n",
        "long long MaxPairwiseProduct(const std::vector<int>& numbers, long long &execints) {      //INSTRUCTIONS executed by line\n",
        "\n",
        "    long long max_product = 0LL;                                                          //1\n",
        "    execints++;\n",
        "\n",
        "\t  long long aux_product = 0LL;                                                          //1\n",
        "    execints++;\n",
        "\n",
        "    int n = numbers.size();                                                               //1\n",
        "    execints++;\n",
        "\n",
        "    execints++;\n",
        "    for (int first = 0; first < n; ++first) {                                             //2+2n\n",
        "        execints += 2;\n",
        "\n",
        "        execints++;\n",
        "        for (int second = 0; second < n; ++second) {                                       //2n + 2n**2\n",
        "          execints += 2;\n",
        "\n",
        "          execints++;\n",
        "          if ( first != second ){                                                         //n**2\n",
        "                aux_product = numbers[first] * numbers[second];                           //n**2 -n\n",
        "                execints++;\n",
        "\n",
        "                execints++;\n",
        "                if (aux_product > max_product){                                           //n**2 -n\n",
        "                    max_product = aux_product;                                            //[0,n**2/2 - n/2)  upper bound\n",
        "                    execints++;\n",
        "\n",
        "                }\n",
        "        }\n",
        "\n",
        "      }\n",
        "      execints++;\n",
        "    }\n",
        "    execints++;\n",
        "                                                                                        // --------------\n",
        "    return max_product;                                                                 // 5 + 2*n + [5*n**2, 11*n**2/2  - n/2] upper bound\n",
        "}\n",
        "\n",
        "int main() {                                                 //INSTRUCTIONS executed by line\n",
        "\n",
        "    long long execints =0LL;\n",
        "\n",
        "    int n;                                                   //1\n",
        "    execints++;\n",
        "\n",
        "    std::cin >> n;                                           //1\n",
        "    execints++;\n",
        "\n",
        "    std::vector<int> numbers(n);                             //n\n",
        "    execints += n;\n",
        "\n",
        "    execints++;\n",
        "    for (int i = 0; i < n; ++i) {                            //2 + 2n\n",
        "        execints += 2;\n",
        "\n",
        "        std::cin >> numbers[i];\n",
        "        execints++;                                          //n\n",
        "\n",
        "    }\n",
        "\n",
        "\n",
        "    //std::cout << MaxPairwiseProduct(numbers) << \"\\n\";      //1 + 1  + 5 + 2*n + [5*n**2, 11*n**2/2  - n/2] upper bound\n",
        "\n",
        "    execints++;\n",
        "    int M = MaxPairwiseProduct(numbers,execints);\n",
        "\n",
        "    execints++;\n",
        "    std::cout <<  execints << \"\\n\";\n",
        "    return 0;                                                // --------------\n",
        "}                                                            // 11 + 6*n + [5*n**2, 11*n**2/2  - n/2]"
      ]
    },
    {
      "cell_type": "markdown",
      "source": [
        "The number of instructions executed by the algooirithm with a list of size $n$ is  \n",
        "\n",
        "$$T (n) = 11 + 6n + \\left[5n^2, 11\\frac{n^2}{2}  - \\frac{n}{2}\\right)  >  6n^2 = O(n^2)$$\n",
        "\n",
        "It depends on the size of the lists and  the order of the list.\n",
        "\n",
        "For the input0.txt\n",
        "```\n",
        "10\n",
        "0 0 0 0 0 0 0 0 0 0\n",
        "```\n",
        "$$T = 11 + 6(10) + 5(10)^2   = 561 $$\n",
        "\n",
        "$$T(10) \\in [571, 621)  $$\n"
      ],
      "metadata": {
        "id": "cUjHtvtdDsmr"
      }
    },
    {
      "cell_type": "code",
      "source": [
        "!g++ max_pairwise_product_long_full_execints.cpp -o max_pairwise_product_long_full_execints\n",
        "!./max_pairwise_product_long_full_execints < input0.txt"
      ],
      "metadata": {
        "id": "Om9Fevb0miAT",
        "outputId": "210cf4ca-dd37-407a-938c-7461ea71bb59",
        "colab": {
          "base_uri": "https://localhost:8080/"
        }
      },
      "execution_count": 69,
      "outputs": [
        {
          "output_type": "stream",
          "name": "stdout",
          "text": [
            "/bin/bash: line 1: input0.txt: No such file or directory\n"
          ]
        }
      ]
    },
    {
      "cell_type": "markdown",
      "source": [
        "For the input1.txt\n",
        "```\n",
        "10\n",
        "1 2 3 4 5 6 7 8 9 10\n",
        "```\n",
        "$$T = 11 + 6(10) + 5(10)^2 +  9 + 5 + 4 + 3 + 2 + 2 + 2 + 2 + 1 + 0  = 601 $$\n",
        "\n",
        "$$T(10) \\in [572, 622)  $$\n"
      ],
      "metadata": {
        "id": "FwJzZ6VzmArY"
      }
    },
    {
      "cell_type": "code",
      "source": [
        "#The number of times that  max_product = aux_product; in the worst case is less than (n**2 -n)/2 -  upper bound\n",
        "\n",
        "#     1  2  3  4  5  6  7  8  9  10\n",
        "#  1  x  2  3  4  5  6  7  8  9  10         9\n",
        "#  2  2  x  6  8  10 12 14 16 18 20         5 14\n",
        "#  3  3  6  x  12 15 18 21 24 27 30         4 18\n",
        "#  4  4  8  12 x  20 24 28 32 36 40         3 21\n",
        "#  5  5  10 15 20 x  30 35 40 45 50         2 23\n",
        "#  6  6  12 18 24 30 x  42 48 54 60         2 25\n",
        "#  7  7  14 21 28 35 42 x  56 63 70         2 27\n",
        "#  8  8  18 27 36 45 54 63 72 x  90         1 30\n",
        "#  10 10 20 30 40 50 60 70 60 90 x          0"
      ],
      "metadata": {
        "id": "K59xQMWiBNFj"
      },
      "execution_count": 70,
      "outputs": []
    },
    {
      "cell_type": "code",
      "source": [
        "11 + 6*(10) + 5*(10)*(10) +  9 + 5 + 4 + 3 + 2 + 2 + 2 + 2 + 1 + 0"
      ],
      "metadata": {
        "id": "E3O8dzFfEgir",
        "outputId": "b2ac8ac3-cb9c-4f9a-9850-fa105750cb5f",
        "colab": {
          "base_uri": "https://localhost:8080/"
        }
      },
      "execution_count": 71,
      "outputs": [
        {
          "output_type": "execute_result",
          "data": {
            "text/plain": [
              "601"
            ]
          },
          "metadata": {},
          "execution_count": 71
        }
      ]
    },
    {
      "cell_type": "code",
      "source": [
        "n = 10\n",
        "print( \"[\", 11 + 6*n + 5*n**2,  \",\", 11 + 6*n  + 5.5*n**2, \")\")"
      ],
      "metadata": {
        "id": "TCpdl5u_Gq1a",
        "outputId": "88ce6910-db92-493f-aa4f-ce98f8782248",
        "colab": {
          "base_uri": "https://localhost:8080/"
        }
      },
      "execution_count": 72,
      "outputs": [
        {
          "output_type": "stream",
          "name": "stdout",
          "text": [
            "[ 571 , 621.0 )\n"
          ]
        }
      ]
    },
    {
      "cell_type": "code",
      "execution_count": 73,
      "metadata": {
        "id": "Kuvm1C05ly2a",
        "outputId": "d9241584-adeb-4e6f-a032-7544ef4c4c65",
        "colab": {
          "base_uri": "https://localhost:8080/"
        }
      },
      "outputs": [
        {
          "output_type": "stream",
          "name": "stdout",
          "text": [
            "600\n"
          ]
        }
      ],
      "source": [
        "!g++ max_pairwise_product_long_full_execints.cpp -o max_pairwise_product_long_full_execints\n",
        "!./max_pairwise_product_long_full_execints < input1.txt"
      ]
    },
    {
      "cell_type": "markdown",
      "source": [
        "\n",
        "For the input2.txt\n",
        "```\n",
        "10\n",
        "10 9 8 7 6 5 4 3 2 1\n",
        "```\n",
        "$$T = 11 + 6*(10) + 5*(10)**2 +  1  = 571 $$"
      ],
      "metadata": {
        "id": "Yr_Lb7CaHfxB"
      }
    },
    {
      "cell_type": "code",
      "source": [
        "11 + 6*(10) + 5*(10)**2 +  1"
      ],
      "metadata": {
        "id": "HOdqlwJiZUIp",
        "outputId": "363c9889-e490-476b-eeb2-419312902ca2",
        "colab": {
          "base_uri": "https://localhost:8080/"
        }
      },
      "execution_count": 74,
      "outputs": [
        {
          "output_type": "execute_result",
          "data": {
            "text/plain": [
              "572"
            ]
          },
          "metadata": {},
          "execution_count": 74
        }
      ]
    },
    {
      "cell_type": "code",
      "source": [
        "!g++ max_pairwise_product_long_full_execints.cpp -o max_pairwise_product_long_full_execints\n",
        "!./max_pairwise_product_long_full_execints < input2.txt"
      ],
      "metadata": {
        "id": "_znzLectjFSe",
        "outputId": "72a5f8d5-e182-40cc-e778-e317857ff993",
        "colab": {
          "base_uri": "https://localhost:8080/"
        }
      },
      "execution_count": 75,
      "outputs": [
        {
          "output_type": "stream",
          "name": "stdout",
          "text": [
            "571\n"
          ]
        }
      ]
    },
    {
      "cell_type": "markdown",
      "metadata": {
        "id": "NXW7QkoBL6xH"
      },
      "source": [
        "Calculate estimated time by instruction and number of instructions by second"
      ]
    },
    {
      "cell_type": "markdown",
      "source": [
        "For the input11.txt\n",
        "```\n",
        "200000\n",
        "1 2 ..  199999 2000\n",
        "```\n",
        "$$T = 11 + 6*(200000) + 5.5*(200000)**2  = 200001200012  $$"
      ],
      "metadata": {
        "id": "dlyRjaohz-YH"
      }
    },
    {
      "cell_type": "code",
      "source": [
        "\n",
        "11 + 6*(200000) + 5.5*(200000)**2+1"
      ],
      "metadata": {
        "id": "xVP0D8Gdn_U8",
        "outputId": "572357ec-7a43-4d3f-d9fb-9b40ee7454fa",
        "colab": {
          "base_uri": "https://localhost:8080/"
        }
      },
      "execution_count": 76,
      "outputs": [
        {
          "output_type": "execute_result",
          "data": {
            "text/plain": [
              "220001200012.0"
            ]
          },
          "metadata": {},
          "execution_count": 76
        }
      ]
    },
    {
      "cell_type": "code",
      "source": [
        "!g++ max_pairwise_product_long_full_execints.cpp -o max_pairwise_product_long_full_execints\n",
        "!./max_pairwise_product_long_full_execints < input11.txt"
      ],
      "metadata": {
        "id": "BMH8mF3EKn2w",
        "outputId": "82b9f41f-7985-4210-a2a5-2da21e87877e",
        "colab": {
          "base_uri": "https://localhost:8080/"
        }
      },
      "execution_count": 77,
      "outputs": [
        {
          "output_type": "stream",
          "name": "stdout",
          "text": [
            "1\n",
            "1\n",
            "2\n",
            "3\n",
            "^C\n"
          ]
        }
      ]
    },
    {
      "cell_type": "code",
      "execution_count": 78,
      "metadata": {
        "id": "pKqB3i7dIxnc",
        "outputId": "64ea2227-cbd5-44c0-f744-d0333fa9cd01",
        "colab": {
          "base_uri": "https://localhost:8080/"
        }
      },
      "outputs": [
        {
          "output_type": "execute_result",
          "data": {
            "text/plain": [
              "1.4749765693187072e-09"
            ]
          },
          "metadata": {},
          "execution_count": 78
        }
      ],
      "source": [
        "# Estimated time by instruction\n",
        "# use the real reported  !time ./max_pairwise_product_long_full< input11.txt in seconds intead of the 295\n",
        "\n",
        "295/200003177092\n"
      ]
    },
    {
      "cell_type": "code",
      "execution_count": 79,
      "metadata": {
        "id": "18N1ouqeMhE1",
        "outputId": "7a8c941f-8f35-4853-86d2-f94c3d8e341e",
        "colab": {
          "base_uri": "https://localhost:8080/"
        }
      },
      "outputs": [
        {
          "output_type": "execute_result",
          "data": {
            "text/plain": [
              "677976871.4983051"
            ]
          },
          "metadata": {},
          "execution_count": 79
        }
      ],
      "source": [
        "# Estimated number of instructions by second\n",
        "\n",
        "200003177092/295"
      ]
    },
    {
      "cell_type": "markdown",
      "source": [
        "### Estimate and verify the maximun n that can be solved in 1 second\n",
        "\n",
        "$$(5.5n^2 + 5.5n + 11) \\times 1.47*10^{-9} s = 1 s$$\n",
        "\n",
        "$$ n \\approx 11000$$\n"
      ],
      "metadata": {
        "id": "KyuxejFkL5X_"
      }
    },
    {
      "cell_type": "code",
      "source": [
        "# Verify input13.txt\n",
        "%%writefile WriteTest.cpp\n",
        "\n",
        "#include <iostream>\n",
        "#include <fstream>\n",
        "#include <cstdlib>\n",
        "\n",
        "using namespace std;\n",
        "\n",
        "int main() {\n",
        "  // Create and open a text file\n",
        "  ofstream MyFile(\"input13.txt\");\n",
        "\n",
        " MyFile << 11000 <<\"\\n\";  // n\n",
        " for (int i=1; i <11001; i++){\n",
        "     MyFile << i <<\" \";\n",
        " }\n",
        "\n",
        "  // Close the file\n",
        "  MyFile.close();\n",
        "}"
      ],
      "metadata": {
        "id": "WXu5jp-DLTOI",
        "outputId": "535a35e1-55c7-40fd-9881-e228df07d305",
        "colab": {
          "base_uri": "https://localhost:8080/"
        }
      },
      "execution_count": 80,
      "outputs": [
        {
          "output_type": "stream",
          "name": "stdout",
          "text": [
            "Overwriting WriteTest.cpp\n"
          ]
        }
      ]
    },
    {
      "cell_type": "code",
      "source": [
        "!g++ WriteTest.cpp -o WriteTest\n",
        "!./WriteTest"
      ],
      "metadata": {
        "id": "AQ8N52pUMCeT"
      },
      "execution_count": 81,
      "outputs": []
    },
    {
      "cell_type": "code",
      "source": [
        "10999 * 11000"
      ],
      "metadata": {
        "id": "2iIOdbTrEtBx",
        "outputId": "fb9b7271-e18e-491e-fac6-cc256e720d29",
        "colab": {
          "base_uri": "https://localhost:8080/"
        }
      },
      "execution_count": 82,
      "outputs": [
        {
          "output_type": "execute_result",
          "data": {
            "text/plain": [
              "120989000"
            ]
          },
          "metadata": {},
          "execution_count": 82
        }
      ]
    },
    {
      "cell_type": "code",
      "source": [
        "!g++ max_pairwise_product_long_full.cpp -o max_pairwise_product_long_full\n",
        "!time ./max_pairwise_product_long_full< input13.txt"
      ],
      "metadata": {
        "id": "ussuAokfM2du",
        "outputId": "d8b9cdb2-a49d-4f52-f6e8-242d739c5483",
        "colab": {
          "base_uri": "https://localhost:8080/"
        }
      },
      "execution_count": 83,
      "outputs": [
        {
          "output_type": "stream",
          "name": "stdout",
          "text": [
            "120989000\n",
            "\n",
            "real\t0m0.847s\n",
            "user\t0m0.840s\n",
            "sys\t0m0.004s\n"
          ]
        }
      ]
    },
    {
      "cell_type": "markdown",
      "metadata": {
        "id": "Tm_AVmt-QQH4"
      },
      "source": [
        "## Python"
      ]
    },
    {
      "cell_type": "code",
      "execution_count": 84,
      "metadata": {
        "id": "gRCCcd7IQTKZ",
        "outputId": "3005379e-dc1a-4b18-a406-9703ccc53f7e",
        "colab": {
          "base_uri": "https://localhost:8080/"
        }
      },
      "outputs": [
        {
          "output_type": "stream",
          "name": "stdout",
          "text": [
            "Writing max_pairwise_product_long_full.py\n"
          ]
        }
      ],
      "source": [
        "\n",
        "%%writefile max_pairwise_product_long_full.py\n",
        "def MaxPairwiseProduct(numbers):\n",
        "  max_product = 0\n",
        "  aux_product = 0\n",
        "  n = len(numbers)\n",
        "\n",
        "  for first in range (n):\n",
        "    for second in range(n):\n",
        "      if(first != second):\n",
        "        aux_product = numbers[first]*numbers[second]\n",
        "        if aux_product > max_product:\n",
        "          max_product = aux_product\n",
        "  return max_product\n",
        "\n",
        "n = int(input())\n",
        "numbers = [int(i) for i in input().split()]\n",
        "print(MaxPairwiseProduct(numbers))\n"
      ]
    },
    {
      "cell_type": "code",
      "execution_count": 85,
      "metadata": {
        "id": "hjw7TJrDL0d-",
        "outputId": "14cf5188-a0e4-4429-d07b-1bc57a29a3e3",
        "colab": {
          "base_uri": "https://localhost:8080/"
        }
      },
      "outputs": [
        {
          "output_type": "stream",
          "name": "stdout",
          "text": [
            "120989000\n",
            "\n",
            "real\t0m19.982s\n",
            "user\t0m19.811s\n",
            "sys\t0m0.024s\n"
          ]
        }
      ],
      "source": [
        "# Verify\n",
        "!time python3 max_pairwise_product_long_full.py < input13.txt"
      ]
    },
    {
      "cell_type": "markdown",
      "source": [
        "# For the follwing solutions rquired  the same tests and analysis performed for the first solution"
      ],
      "metadata": {
        "id": "fEZR-3V4ZjCv"
      }
    },
    {
      "cell_type": "markdown",
      "metadata": {
        "id": "MKQKSC-vKePK"
      },
      "source": [
        "## Solutions in C++ and Python that uses\n",
        "$$\\frac{n^2 - n}{2} = O(n^2)\\ \\ \\text{products}$$"
      ]
    },
    {
      "cell_type": "code",
      "execution_count": 86,
      "metadata": {
        "id": "jkkHHoxSK65p",
        "outputId": "8556b361-78d1-4f62-852c-dca7e1b67414",
        "colab": {
          "base_uri": "https://localhost:8080/"
        }
      },
      "outputs": [
        {
          "output_type": "stream",
          "name": "stdout",
          "text": [
            "Writing max_pairwise_product.cpp\n"
          ]
        }
      ],
      "source": [
        "%%writefile max_pairwise_product.cpp\n",
        "#include <iostream>\n",
        "#include <vector>\n",
        "#include <algorithm>\n",
        "\n",
        "int MaxPairwiseProduct(const std::vector<int>& numbers) {\n",
        "    int max_product = 0;\n",
        "    int n = numbers.size();\n",
        "\n",
        "    for (int first = 0; first < n; ++first) {\n",
        "        for (int second = first + 1; second < n; ++second) {\n",
        "            max_product = std::max(max_product,\n",
        "                numbers[first] * numbers[second]);\n",
        "        }\n",
        "    }\n",
        "\n",
        "    return max_product;\n",
        "}\n",
        "\n",
        "int main() {\n",
        "    int n;\n",
        "    std::cin >> n;\n",
        "    std::vector<int> numbers(n);\n",
        "    for (int i = 0; i < n; ++i) {\n",
        "        std::cin >> numbers[i];\n",
        "    }\n",
        "\n",
        "    std::cout << MaxPairwiseProduct(numbers) << \"\\n\";\n",
        "    return 0;\n",
        "}"
      ]
    },
    {
      "cell_type": "code",
      "execution_count": 87,
      "metadata": {
        "id": "sU8-Ote7K8vz",
        "outputId": "9e0b424f-7b9e-47f2-d1bd-a4701fb3f52e",
        "colab": {
          "base_uri": "https://localhost:8080/"
        }
      },
      "outputs": [
        {
          "output_type": "stream",
          "name": "stdout",
          "text": [
            "Writing max_pairwise_product_long.cpp\n"
          ]
        }
      ],
      "source": [
        "%%writefile max_pairwise_product_long.cpp\n",
        "#include <iostream>\n",
        "#include <vector>\n",
        "#include <algorithm>\n",
        "\n",
        "long long MaxPairwiseProduct(const std::vector<int>& numbers) {              //INSTRUCTIONS executed by line\n",
        "    long long max_product = 0LL;                                             //1\n",
        "\t  long long aux_product = 0LL;                                             //1\n",
        "    int n = numbers.size();                                                  //1\n",
        "\n",
        "    for (int first = 0; first < n; ++first) {                                //2+2n\n",
        "        for (int second = first + 1; second < n; ++second) {                 //2n + (n-1)n\n",
        "\t\t\t       aux_product =  (long long) numbers[first] * numbers[second];    //(n-1)n/2\n",
        "            if (max_product < aux_product)  {                                //(n-1)n/2\n",
        "\t\t\t\t        max_product = aux_product;                                   //[1,(n-1)n/2)  upper bound\n",
        "             }\n",
        "        }\n",
        "    }\n",
        "                                                                             // --------------\n",
        "    return max_product;                                                      // 5 + 4n + [2(n-1)n+1, 2.5 (n-1)n) upper bound\n",
        "}\n",
        "\n",
        "int main() {                                              //INSTRUCTIONS executed by line\n",
        "    int n;                                                //1\n",
        "    std::cin >> n;                                        //1\n",
        "    std::vector<int> numbers(n);                          //n\n",
        "    for (int i = 0; i < n; ++i) {                         //2 + 2n\n",
        "        std::cin >> numbers[i];                           //n\n",
        "    }\n",
        "\n",
        "    std::cout << MaxPairwiseProduct(numbers) << \"\\n\";     //1 + 1  + 5 + 4n + [2(n-1)n+1, 2.5 (n-1)n) upper bound\n",
        "    return 0;                                             // --------------\n",
        "}                                                         // 11 + 7n + [2(n-1)n+1, 2.5 (n-1)n) upper bound\n"
      ]
    },
    {
      "cell_type": "code",
      "execution_count": 88,
      "metadata": {
        "id": "5QWT3fneK8nw",
        "outputId": "0ff6f62b-19a6-410d-c5a0-4c726e8d056f",
        "colab": {
          "base_uri": "https://localhost:8080/"
        }
      },
      "outputs": [
        {
          "output_type": "stream",
          "name": "stdout",
          "text": [
            "120989000\n",
            "\n",
            "real\t0m0.594s\n",
            "user\t0m0.576s\n",
            "sys\t0m0.002s\n"
          ]
        }
      ],
      "source": [
        "!g++ max_pairwise_product_long.cpp -o max_pairwise_product_long\n",
        "!time ./max_pairwise_product_long < input13.txt"
      ]
    },
    {
      "cell_type": "code",
      "execution_count": 89,
      "metadata": {
        "id": "mxIVvm1RK8dB",
        "outputId": "1fa5bda4-31e1-4195-a8a3-313bfa6facb0",
        "colab": {
          "base_uri": "https://localhost:8080/"
        }
      },
      "outputs": [
        {
          "output_type": "stream",
          "name": "stdout",
          "text": [
            "120989000\n",
            "\n",
            "real\t0m0.568s\n",
            "user\t0m0.562s\n",
            "sys\t0m0.003s\n"
          ]
        }
      ],
      "source": [
        "!g++ max_pairwise_product.cpp -o max_pairwise_product\n",
        "!time ./max_pairwise_product < input13.txt"
      ]
    },
    {
      "cell_type": "markdown",
      "metadata": {
        "id": "1Hsbd-uHOb_j"
      },
      "source": [
        "# Sort solution in C++ and Python\n",
        "\n",
        "$$ O(n \\lg n)$$\n",
        "\n",
        "**Which sorting algorithm is used in GCC?**\n",
        "https://stackoverflow.com/questions/7221257/which-sorting-algorithm-is-used-in-gcc\n",
        "\n",
        "* ...  the algorithm is called introsort, a combination between Insertionsort, Quicksort & Heapsort. ...\n",
        "\n",
        "**Introsort**\n",
        "https://en.wikipedia.org/wiki/Introsort\n",
        "\n",
        "Introsort or introspective sort is a hybrid sorting algorithm that provides both fast average performance and (asymptotically) optimal worst-case performance. It begins with quicksort, it switches to heapsort when the recursion depth exceeds a level based on (the logarithm of) the number of elements being sorted and it switches to insertion sort when the number of elements is below some threshold\n",
        "\n",
        "*   Class\tSorting algorithm\n",
        "*   Data structure\tArray\n",
        "*   Worst-case performance\t$O(n \\lg n)$\n",
        "*   Average performance\t$O(n \\lg n)$\n",
        "\n",
        "**Tinsort**\n",
        "https://en.wikipedia.org/wiki/Timsort\n",
        "\n",
        "Timsort is a hybrid, stable sorting algorithm, derived from merge sort and insertion sort, designed to perform well on many kinds of real-world data. It was implemented by Tim Peters in 2002 for use in the Python programming language.\n",
        "\n",
        "*   Class\tSorting algorithm\n",
        "*   Data structure\tArray\n",
        "*   Worst-case performance\t$O(n \\lg n)$\n",
        "*   Best-case performance $O(n)$\n",
        "*   Average performance\t$O(n \\lg n)$\n",
        "*   Worst-case space complexity $O(n)$"
      ]
    },
    {
      "cell_type": "markdown",
      "metadata": {
        "id": "WMUthAXjOb_k"
      },
      "source": []
    },
    {
      "cell_type": "code",
      "source": [
        "%%writefile max_pairwise_product_with_sort.py\n",
        "#Python3\n",
        "if __name__ == \"__main__\":\n",
        "    n = int(input())\n",
        "    lista = list(map(int, input().split()))\n",
        "    lista.sort()\n",
        "    print(lista[n - 1] * lista[n - 2])"
      ],
      "metadata": {
        "id": "jnIRWyUEDu_C",
        "outputId": "6cee1379-0b94-4466-96d3-126bb8186481",
        "colab": {
          "base_uri": "https://localhost:8080/"
        }
      },
      "execution_count": 90,
      "outputs": [
        {
          "output_type": "stream",
          "name": "stdout",
          "text": [
            "Writing max_pairwise_product_with_sort.py\n"
          ]
        }
      ]
    },
    {
      "cell_type": "code",
      "source": [
        "%%writefile max_pairwise_product_with_sort_C.cpp\n",
        "#include <iostream>\n",
        "#include <vector>\n",
        "#include <algorithm>\n",
        "\n",
        "int main() {\n",
        "    int n;\n",
        "    std::cin >> n;\n",
        "    std::vector<int> numbers(n);\n",
        "    for (int i = 0; i < n; ++i) {\n",
        "        std::cin >> numbers[i];\n",
        "    }\n",
        "\n",
        "    std::sort(numbers.begin(), numbers.end());\n",
        "    std::cout << (long long) numbers[n - 1] * numbers[n - 2] << '\\n';\n",
        "\n",
        "    return 0;\n",
        "}\n"
      ],
      "metadata": {
        "id": "J-6EL60rm4Fu",
        "outputId": "3f7f5a21-d5fb-4649-d424-d0bc9d8cfcac",
        "colab": {
          "base_uri": "https://localhost:8080/"
        }
      },
      "execution_count": 91,
      "outputs": [
        {
          "output_type": "stream",
          "name": "stdout",
          "text": [
            "Overwriting max_pairwise_product_with_sort_C.cpp\n"
          ]
        }
      ]
    },
    {
      "cell_type": "code",
      "source": [
        "!g++ max_pairwise_product_with_sort_C.cpp -o max_pairwise_product_with_sort_C"
      ],
      "metadata": {
        "id": "oylzuXmPm-WV"
      },
      "execution_count": 92,
      "outputs": []
    },
    {
      "cell_type": "markdown",
      "metadata": {
        "id": "v8pdV9ABOb_k"
      },
      "source": [
        "Test with inputs 1 and 2\n",
        "\n"
      ]
    },
    {
      "cell_type": "code",
      "execution_count": 93,
      "metadata": {
        "id": "kdXAyLG4Ob_k",
        "outputId": "c4a57ac5-1104-49df-dcec-e130b53d0636",
        "colab": {
          "base_uri": "https://localhost:8080/"
        }
      },
      "outputs": [
        {
          "output_type": "stream",
          "name": "stdout",
          "text": [
            "90\n",
            "90\n"
          ]
        }
      ],
      "source": [
        "!./max_pairwise_product_with_sort_C < input1.txt\n",
        "!./max_pairwise_product_with_sort_C < input2.txt"
      ]
    },
    {
      "cell_type": "code",
      "source": [
        "!python max_pairwise_product_with_sort.py < input1.txt\n",
        "!python max_pairwise_product_with_sort.py < input2.txt"
      ],
      "metadata": {
        "id": "LdqpX9NxqARW",
        "outputId": "47573fab-e4b7-47a6-80dd-b8ca49c0fa0c",
        "colab": {
          "base_uri": "https://localhost:8080/"
        }
      },
      "execution_count": 94,
      "outputs": [
        {
          "output_type": "stream",
          "name": "stdout",
          "text": [
            "90\n",
            "90\n"
          ]
        }
      ]
    },
    {
      "cell_type": "markdown",
      "metadata": {
        "id": "Sw-5X1q1Ob_k"
      },
      "source": [
        "Test and time it with input 3"
      ]
    },
    {
      "cell_type": "code",
      "execution_count": 95,
      "metadata": {
        "id": "ryHJ30WIOb_k",
        "outputId": "5f288f18-9cb0-4fea-d17f-28022a2b4338",
        "colab": {
          "base_uri": "https://localhost:8080/"
        }
      },
      "outputs": [
        {
          "output_type": "stream",
          "name": "stdout",
          "text": [
            "40000000000\n",
            "\n",
            "real\t0m0.003s\n",
            "user\t0m0.001s\n",
            "sys\t0m0.002s\n"
          ]
        }
      ],
      "source": [
        "!time ./max_pairwise_product_with_sort_C < input3.txt"
      ]
    },
    {
      "cell_type": "code",
      "source": [
        "%%time\n",
        "!python max_pairwise_product_with_sort.py < input3.txt"
      ],
      "metadata": {
        "id": "eTxMSLt3qOke",
        "outputId": "aa3887b7-9249-45dc-8682-ccbf9f867177",
        "colab": {
          "base_uri": "https://localhost:8080/"
        }
      },
      "execution_count": 96,
      "outputs": [
        {
          "output_type": "stream",
          "name": "stdout",
          "text": [
            "40000000000\n",
            "CPU times: user 6.39 ms, sys: 927 µs, total: 7.32 ms\n",
            "Wall time: 108 ms\n"
          ]
        }
      ]
    },
    {
      "cell_type": "markdown",
      "metadata": {
        "id": "oJGdPl1HOb_k"
      },
      "source": [
        "20 stress tests"
      ]
    },
    {
      "cell_type": "code",
      "execution_count": 97,
      "metadata": {
        "id": "pXHtO1dEOb_k",
        "outputId": "41a66c3f-c27f-4739-98db-6a3e39d99576",
        "colab": {
          "base_uri": "https://localhost:8080/"
        }
      },
      "outputs": [
        {
          "output_type": "stream",
          "name": "stdout",
          "text": [
            "Writing stress_tests.py\n"
          ]
        }
      ],
      "source": [
        "%%writefile stress_tests.py\n",
        "#Python3\n",
        "import random\n",
        "\n",
        "if __name__ == \"__main__\":\n",
        "    for i in range(20):\n",
        "        n = random.randint(2, 19)\n",
        "        lista = [random.randint(17, 25631) for i in range(n)]\n",
        "        lista.sort()\n",
        "        print(f\"n: {n} Product: {lista[n - 1] * lista[n - 2]}\")\n"
      ]
    },
    {
      "cell_type": "code",
      "source": [
        "%%writefile stress_tests_C.cpp\n",
        "#include <iostream>     // Para std::cout\n",
        "#include <vector>       // Para std::vector\n",
        "#include <algorithm>    // Para std::sort\n",
        "#include <random>       // Para std::random_device, std::mt19937, std::uniform_int_distribution\n",
        "\n",
        "int main() {\n",
        "    std::random_device rd;                      // Generador de semilla\n",
        "    std::mt19937 gen(rd());                     // Generador de números aleatorios\n",
        "    std::uniform_int_distribution<int> n_dist(2, 99);      // Distribución para n\n",
        "    std::uniform_int_distribution<int> num_dist(0, 25000); // Distribución para los números\n",
        "\n",
        "    for (int i = 0; i < 100; ++i) {\n",
        "        int n = n_dist(gen);                    // Generar tamaño aleatorio del vector\n",
        "        std::vector<int> numbers(n);           // Vector de tamaño n\n",
        "        for (int j = 0; j < n; ++j) {          // Llenar el vector con números aleatorios\n",
        "            numbers[j] = num_dist(gen);\n",
        "        }\n",
        "\n",
        "        std::sort(numbers.begin(), numbers.end()); // Ordenar el vector\n",
        "        std::cout << \"n= \" << n\n",
        "                  << \" Product= \" << (long long) numbers[n - 1] * numbers[n - 2] << '\\n';\n",
        "    }\n",
        "\n",
        "    return 0;\n",
        "}\n"
      ],
      "metadata": {
        "id": "zcCtyrskqcNM",
        "outputId": "f28f82ea-a31b-4ad5-bb69-93cf0ef46c95",
        "colab": {
          "base_uri": "https://localhost:8080/"
        }
      },
      "execution_count": 159,
      "outputs": [
        {
          "output_type": "stream",
          "name": "stdout",
          "text": [
            "Overwriting stress_tests_C.cpp\n"
          ]
        }
      ]
    },
    {
      "cell_type": "code",
      "source": [
        "!g++ stress_tests_C.cpp -o stress_tests_C\n",
        "!./stress_tests_C\n"
      ],
      "metadata": {
        "id": "j5By_BDrqgFb",
        "outputId": "c5ea31c4-267e-4648-c38e-de0b0550f878",
        "colab": {
          "base_uri": "https://localhost:8080/"
        }
      },
      "execution_count": 160,
      "outputs": [
        {
          "output_type": "stream",
          "name": "stdout",
          "text": [
            "n= 23 Product= 595846209\n",
            "n= 22 Product= 570633000\n",
            "n= 51 Product= 608230164\n",
            "n= 46 Product= 610261352\n",
            "n= 49 Product= 618629046\n",
            "n= 17 Product= 468046062\n",
            "n= 65 Product= 620281380\n",
            "n= 68 Product= 555757328\n",
            "n= 56 Product= 594852700\n",
            "n= 40 Product= 565320146\n",
            "n= 21 Product= 585676692\n",
            "n= 86 Product= 599098896\n",
            "n= 66 Product= 604643400\n",
            "n= 86 Product= 608838146\n",
            "n= 32 Product= 570301720\n",
            "n= 33 Product= 588470520\n",
            "n= 29 Product= 540879096\n",
            "n= 40 Product= 618950000\n",
            "n= 82 Product= 619801015\n",
            "n= 88 Product= 620826860\n",
            "n= 27 Product= 455116890\n",
            "n= 91 Product= 601937196\n",
            "n= 43 Product= 536770080\n",
            "n= 14 Product= 531455120\n",
            "n= 67 Product= 592159100\n",
            "n= 11 Product= 556265178\n",
            "n= 2 Product= 12248514\n",
            "n= 68 Product= 547745772\n",
            "n= 84 Product= 603802053\n",
            "n= 98 Product= 617343732\n",
            "n= 75 Product= 614163965\n",
            "n= 69 Product= 618130100\n",
            "n= 58 Product= 566744988\n",
            "n= 19 Product= 566733839\n",
            "n= 47 Product= 594097264\n",
            "n= 36 Product= 564833786\n",
            "n= 51 Product= 604681134\n",
            "n= 59 Product= 588777904\n",
            "n= 65 Product= 604457235\n",
            "n= 10 Product= 388962705\n",
            "n= 16 Product= 607992096\n",
            "n= 2 Product= 511280640\n",
            "n= 15 Product= 539062409\n",
            "n= 32 Product= 594050472\n",
            "n= 66 Product= 609842736\n",
            "n= 42 Product= 588309684\n",
            "n= 22 Product= 547836464\n",
            "n= 91 Product= 587184300\n",
            "n= 26 Product= 596223848\n",
            "n= 20 Product= 543409371\n",
            "n= 88 Product= 617249168\n",
            "n= 82 Product= 619387276\n",
            "n= 82 Product= 595531500\n",
            "n= 74 Product= 619288090\n",
            "n= 25 Product= 533323350\n",
            "n= 34 Product= 563207424\n",
            "n= 47 Product= 594493196\n",
            "n= 99 Product= 605960082\n",
            "n= 73 Product= 618012204\n",
            "n= 90 Product= 620978058\n",
            "n= 87 Product= 604279938\n",
            "n= 75 Product= 616919355\n",
            "n= 46 Product= 607202332\n",
            "n= 7 Product= 338288654\n",
            "n= 66 Product= 601637564\n",
            "n= 31 Product= 546432335\n",
            "n= 68 Product= 606345681\n",
            "n= 3 Product= 399402990\n",
            "n= 28 Product= 510662538\n",
            "n= 46 Product= 610645695\n",
            "n= 36 Product= 608171395\n",
            "n= 60 Product= 619039040\n",
            "n= 94 Product= 598497480\n",
            "n= 16 Product= 464187856\n",
            "n= 82 Product= 600572368\n",
            "n= 19 Product= 439425987\n",
            "n= 75 Product= 595529406\n",
            "n= 70 Product= 617886750\n",
            "n= 18 Product= 526030820\n",
            "n= 18 Product= 523054935\n",
            "n= 71 Product= 609188128\n",
            "n= 89 Product= 616751130\n",
            "n= 43 Product= 621276644\n",
            "n= 75 Product= 613091280\n",
            "n= 21 Product= 453265344\n",
            "n= 71 Product= 593521506\n",
            "n= 26 Product= 616901196\n",
            "n= 87 Product= 564425403\n",
            "n= 34 Product= 550006656\n",
            "n= 20 Product= 613892644\n",
            "n= 42 Product= 600577756\n",
            "n= 41 Product= 584217463\n",
            "n= 65 Product= 594233880\n",
            "n= 29 Product= 621350288\n",
            "n= 11 Product= 463501299\n",
            "n= 67 Product= 604450719\n",
            "n= 5 Product= 122711746\n",
            "n= 69 Product= 551287575\n",
            "n= 79 Product= 597129650\n",
            "n= 99 Product= 595745116\n"
          ]
        }
      ]
    },
    {
      "cell_type": "code",
      "source": [
        "!python stress_tests.py"
      ],
      "metadata": {
        "id": "sUkZs45TqmwG",
        "outputId": "aae63824-43b3-4040-c59b-5216d0d36144",
        "colab": {
          "base_uri": "https://localhost:8080/"
        }
      },
      "execution_count": 100,
      "outputs": [
        {
          "output_type": "stream",
          "name": "stdout",
          "text": [
            "n: 18 Product: 470538420\n",
            "n: 13 Product: 591527195\n",
            "n: 7 Product: 300331314\n",
            "n: 17 Product: 555544611\n",
            "n: 16 Product: 477813172\n",
            "n: 5 Product: 508714528\n",
            "n: 9 Product: 571645890\n",
            "n: 10 Product: 555204300\n",
            "n: 13 Product: 553726080\n",
            "n: 3 Product: 367129742\n",
            "n: 17 Product: 373796034\n",
            "n: 11 Product: 426178618\n",
            "n: 17 Product: 584402910\n",
            "n: 9 Product: 392295204\n",
            "n: 13 Product: 610532745\n",
            "n: 4 Product: 367944537\n",
            "n: 13 Product: 530496824\n",
            "n: 5 Product: 392158450\n",
            "n: 7 Product: 515088359\n",
            "n: 18 Product: 538579500\n"
          ]
        }
      ]
    },
    {
      "cell_type": "markdown",
      "metadata": {
        "id": "2beTmWFPOb_k"
      },
      "source": [
        "Count executed instructions in code and verify with inputs 1,2 and 3\n"
      ]
    },
    {
      "cell_type": "code",
      "execution_count": 101,
      "metadata": {
        "id": "iuByv4x1Ob_k",
        "outputId": "e6bfcffc-dc3a-4b29-9f4d-2dd4aa7cc47b",
        "colab": {
          "base_uri": "https://localhost:8080/"
        }
      },
      "outputs": [
        {
          "output_type": "stream",
          "name": "stdout",
          "text": [
            "Writing max_pairwise_product_with_sort_and_instructions.py\n"
          ]
        }
      ],
      "source": [
        "%%writefile max_pairwise_product_with_sort_and_instructions.py\n",
        "#Python3\n",
        "import math\n",
        "if __name__ == \"__main__\":\n",
        "    inst=0\n",
        "    n = int(input())\n",
        "    inst+=1\n",
        "    lista = list(map(int, input().split()))\n",
        "    inst+= 4*n\n",
        "    lista.sort()\n",
        "    inst+=  n * math.log2(n)\n",
        "    print(lista[n - 1] * lista[n - 2])\n",
        "    inst+=1\n",
        "    print(f\"Instrucciones ejecutadas: {int(inst)}\\n\")"
      ]
    },
    {
      "cell_type": "code",
      "source": [
        "%%writefile max_pairwise_product_with_sort_C_and_instructions.cpp\n",
        "#include <iostream>     // Para std::cin y std::cout\n",
        "#include <vector>       // Para std::vector\n",
        "#include <algorithm>    // Para std::sort\n",
        "#include <cmath>        // Para log2\n",
        "\n",
        "int main() {\n",
        "    int inst = 0;  // Contador de instrucciones\n",
        "    int n;         // Número de elementos\n",
        "    inst++;        // Incrementar contador por la declaración de inst y n\n",
        "    std::cin >> n; // Leer el número de elementos\n",
        "    inst++;\n",
        "    std::vector<int> numbers(n); // Crear un vector de tamaño n\n",
        "    inst += n;  // Considerar las instrucciones para inicializar el vector\n",
        "    inst++;     // Declaración de i=0\n",
        "\n",
        "    for (int i = 0; i < n; ++i) { // Bucle para leer los números\n",
        "        inst += 2;                // Comparación y actualización del índice\n",
        "        std::cin >> numbers[i];   // Leer el elemento i del vector\n",
        "        inst++;\n",
        "    }\n",
        "\n",
        "    std::sort(numbers.begin(), numbers.end()); // Ordenar el vector\n",
        "    inst += n * std::log2(n);                  // Instrucciones ejecutadas por el ordenamiento\n",
        "\n",
        "    std::cout << (long long) numbers[n - 1] * numbers[n - 2] << '\\n'; // Imprimir el producto máximo\n",
        "    inst += 2; // Operaciones de salida\n",
        "\n",
        "    std::cout << \"Instrucciones Ejecutadas: \" << inst << '\\n'; // Imprimir el total de instrucciones\n",
        "    return 0;\n",
        "}\n"
      ],
      "metadata": {
        "id": "8PGUH0-eqwU8",
        "outputId": "4cac6f47-f113-49a6-e4f8-56bb4c7e17ec",
        "colab": {
          "base_uri": "https://localhost:8080/"
        }
      },
      "execution_count": 161,
      "outputs": [
        {
          "output_type": "stream",
          "name": "stdout",
          "text": [
            "Overwriting max_pairwise_product_with_sort_C_and_instructions.cpp\n"
          ]
        }
      ]
    },
    {
      "cell_type": "code",
      "source": [
        "!g++ max_pairwise_product_with_sort_C_and_instructions.cpp -o max_pairwise_product_with_sort_C_and_instructions"
      ],
      "metadata": {
        "id": "IDdfAZRzq0Mm"
      },
      "execution_count": 162,
      "outputs": []
    },
    {
      "cell_type": "code",
      "source": [
        "!./max_pairwise_product_with_sort_C_and_instructions < input1.txt\n",
        "!./max_pairwise_product_with_sort_C_and_instructions < input2.txt\n",
        "!./max_pairwise_product_with_sort_C_and_instructions < input3.txt"
      ],
      "metadata": {
        "id": "L51MbT_0q5Re",
        "outputId": "a0c7a7bd-b742-4065-bf05-1fff8a89fd1c",
        "colab": {
          "base_uri": "https://localhost:8080/"
        }
      },
      "execution_count": 163,
      "outputs": [
        {
          "output_type": "stream",
          "name": "stdout",
          "text": [
            "90\n",
            "Instrucciones Ejecutadas: 78\n",
            "90\n",
            "Instrucciones Ejecutadas: 78\n",
            "40000000000\n",
            "Instrucciones Ejecutadas: 44\n"
          ]
        }
      ]
    },
    {
      "cell_type": "code",
      "source": [
        "!python max_pairwise_product_with_sort_and_instructions.py < input1.txt\n",
        "!python max_pairwise_product_with_sort_and_instructions.py < input2.txt\n",
        "!python max_pairwise_product_with_sort_and_instructions.py < input3.txt"
      ],
      "metadata": {
        "id": "6uJj8iHcq9Af",
        "outputId": "f80b51e3-eac5-4cd2-def2-64f6943e6cfc",
        "colab": {
          "base_uri": "https://localhost:8080/"
        }
      },
      "execution_count": 105,
      "outputs": [
        {
          "output_type": "stream",
          "name": "stdout",
          "text": [
            "90\n",
            "Instrucciones ejecutadas: 75\n",
            "\n",
            "90\n",
            "Instrucciones ejecutadas: 75\n",
            "\n",
            "40000000000\n",
            "Instrucciones ejecutadas: 41\n",
            "\n"
          ]
        }
      ]
    },
    {
      "cell_type": "markdown",
      "metadata": {
        "id": "x2CXhkwTOb_l"
      },
      "source": [
        "Calculate estimated time by instruction and number of instructions by second"
      ]
    },
    {
      "cell_type": "code",
      "execution_count": 164,
      "metadata": {
        "id": "nTjxyTMtOb_l",
        "outputId": "aea76ad3-51f3-4361-8846-8fc8985e31b7",
        "colab": {
          "base_uri": "https://localhost:8080/"
        }
      },
      "outputs": [
        {
          "output_type": "stream",
          "name": "stdout",
          "text": [
            "Overwriting max_pairwise_product_with_sort_and_instructions_with_time_and_IbS.py\n"
          ]
        }
      ],
      "source": [
        "%%writefile max_pairwise_product_with_sort_and_instructions_with_time_and_IbS.py\n",
        "#Python3\n",
        "import math\n",
        "import time\n",
        "if __name__ == \"__main__\":\n",
        "    inicio = time.time()\n",
        "    inst=0\n",
        "    n = int(input())\n",
        "    inst+=1\n",
        "    lista = list(map(int, input().split()))\n",
        "    inst+= 4*n\n",
        "    lista.sort()\n",
        "    inst+=  n * math.log2(n)\n",
        "    print(lista[n - 1] * lista[n - 2])\n",
        "    inst+=1\n",
        "    print(f\"Instrucciones ejecutadas: {int(inst)}\")\n",
        "    fin = time.time()\n",
        "    tiempo_total = fin - inicio\n",
        "    instructionTime = tiempo_total/inst\n",
        "    instructionBySecond= inst/tiempo_total\n",
        "\n",
        "    print(f\"Tiempo total de ejecución: {tiempo_total*1000} milisegundos\")\n",
        "    print(f\"Tiempo estimado de cada instruccion: {instructionTime*1000} milisegundos\")\n",
        "    print(f\"Instrucciones por segundo: {int(instructionBySecond)} \")"
      ]
    },
    {
      "cell_type": "code",
      "source": [
        "!python max_pairwise_product_with_sort_and_instructions_with_time_and_IbS.py < input13.txt"
      ],
      "metadata": {
        "id": "otc__RVPrLlG",
        "outputId": "04bf35b6-b0a6-493e-efea-a0d3b5ae75eb",
        "colab": {
          "base_uri": "https://localhost:8080/"
        }
      },
      "execution_count": 107,
      "outputs": [
        {
          "output_type": "stream",
          "name": "stdout",
          "text": [
            "120989000\n",
            "Instrucciones ejecutadas: 191679\n",
            "Tiempo total de ejecución: 2.4878978729248047 milisegundos\n",
            "Tiempo estimado de cada instruccion: 1.2979476136917105e-05 milisegundos\n",
            "Instrucciones por segundo: 77044711 \n"
          ]
        }
      ]
    },
    {
      "cell_type": "markdown",
      "source": [
        "### Estimate and verify the maximun n that can be solved in 1 second"
      ],
      "metadata": {
        "id": "CcgDYDQuaFeH"
      }
    },
    {
      "cell_type": "code",
      "source": [
        "%%writefile maximun_n_that_can_be_solved.py\n",
        "#Python3\n",
        "import random\n",
        "\n",
        "if __name__ == \"__main__\":\n",
        "      n = 600000\n",
        "      lista = [random.randint(17, 25631) for i in range(n)]\n",
        "      lista.sort()\n",
        "      print(f\"n: {n} Product: {lista[n - 1] * lista[n - 2]}\")"
      ],
      "metadata": {
        "id": "fLztHReKaGFq",
        "outputId": "441d7c58-e56a-4329-d7e4-16d5784e48f7",
        "colab": {
          "base_uri": "https://localhost:8080/"
        }
      },
      "execution_count": 108,
      "outputs": [
        {
          "output_type": "stream",
          "name": "stdout",
          "text": [
            "Writing maximun_n_that_can_be_solved.py\n"
          ]
        }
      ]
    },
    {
      "cell_type": "code",
      "source": [
        "%%time\n",
        "!python maximun_n_that_can_be_solved.py"
      ],
      "metadata": {
        "id": "G9_1ngOYrUpU",
        "outputId": "5569b293-77d4-4485-c581-4814736eed86",
        "colab": {
          "base_uri": "https://localhost:8080/"
        }
      },
      "execution_count": 109,
      "outputs": [
        {
          "output_type": "stream",
          "name": "stdout",
          "text": [
            "n: 600000 Product: 656948161\n",
            "CPU times: user 14.5 ms, sys: 1.05 ms, total: 15.6 ms\n",
            "Wall time: 911 ms\n"
          ]
        }
      ]
    },
    {
      "cell_type": "code",
      "source": [
        "%%writefile maximun_n_that_can_be_solved_C.cpp\n",
        "#include <iostream>     // Para std::cout\n",
        "#include <vector>       // Para std::vector\n",
        "#include <algorithm>    // Para std::sort\n",
        "#include <random>       // Para std::random_device, std::mt19937, std::uniform_int_distribution\n",
        "\n",
        "int main() {\n",
        "    std::random_device rd;                          // Generador de semilla\n",
        "    std::mt19937 gen(rd());                         // Generador de números aleatorios\n",
        "    std::uniform_int_distribution<int> num_dist(0, 25000); // Distribución para números\n",
        "\n",
        "    int n = 1700000;                                // Tamaño del vector\n",
        "    std::vector<int> numbers(n);                    // Crear un vector de tamaño n\n",
        "    for (int i = 0; i < n; ++i) {                   // Llenar el vector con números aleatorios\n",
        "        numbers[i] = num_dist(gen);\n",
        "    }\n",
        "\n",
        "    std::sort(numbers.begin(), numbers.end());      // Ordenar el vector\n",
        "\n",
        "    // Imprimir el producto de los dos números más grandes\n",
        "    std::cout << \"n= \" << n\n",
        "              << \" Product= \" << (long long) numbers[n - 1] * numbers[n - 2] << '\\n';\n",
        "\n",
        "    return 0;\n",
        "}\n"
      ],
      "metadata": {
        "id": "LrivKYKara6J",
        "outputId": "7523aa70-dc19-43aa-b423-1060915ac567",
        "colab": {
          "base_uri": "https://localhost:8080/"
        }
      },
      "execution_count": 166,
      "outputs": [
        {
          "output_type": "stream",
          "name": "stdout",
          "text": [
            "Overwriting maximun_n_that_can_be_solved_C.cpp\n"
          ]
        }
      ]
    },
    {
      "cell_type": "code",
      "source": [
        "!g++ maximun_n_that_can_be_solved_C.cpp -o maximun_n_that_can_be_solved_C\n",
        "!time ./maximun_n_that_can_be_solved_C"
      ],
      "metadata": {
        "id": "l3J7o1jLrjv5",
        "outputId": "a82f65a8-1430-4114-8dd1-587dcfb571ad",
        "colab": {
          "base_uri": "https://localhost:8080/"
        }
      },
      "execution_count": 167,
      "outputs": [
        {
          "output_type": "stream",
          "name": "stdout",
          "text": [
            "n= 1700000 Product= 625000000\n",
            "\n",
            "real\t0m0.893s\n",
            "user\t0m0.882s\n",
            "sys\t0m0.008s\n"
          ]
        }
      ]
    },
    {
      "cell_type": "markdown",
      "metadata": {
        "id": "VMKC5duEOQfk"
      },
      "source": [
        "## Efficient solution with largest and second-largest in an list, array or vector in C++ and Python\n",
        "\n",
        " $$T(n) < 10 n  = O(n)$$\n",
        "\n",
        "\n",
        "\n"
      ]
    },
    {
      "cell_type": "markdown",
      "metadata": {
        "id": "nLcKBwbU0QsE"
      },
      "source": [
        "Add in each line a coment with the number of intstrcution that are executed in that line"
      ]
    },
    {
      "cell_type": "code",
      "execution_count": 168,
      "metadata": {
        "id": "knls5Fh3NSt_",
        "outputId": "2cd9e88b-70d9-459f-c3ff-a31383766b3b",
        "colab": {
          "base_uri": "https://localhost:8080/"
        }
      },
      "outputs": [
        {
          "output_type": "stream",
          "name": "stdout",
          "text": [
            "Overwriting max_pairwise_product_long_efficient.cpp\n"
          ]
        }
      ],
      "source": [
        "%%writefile max_pairwise_product_long_efficient.cpp\n",
        "#include <iostream>     // Para std::cin y std::cout\n",
        "#include <vector>       // Para std::vector\n",
        "#include <algorithm>    // Opcional, si se necesitara en el futuro\n",
        "\n",
        "// Función para encontrar el producto máximo de dos elementos en un vector\n",
        "long long MaxPairwiseProduct(const std::vector<long long>& numbers) {\n",
        "    long long max_product = 0LL;          // Producto máximo\n",
        "    long long n_major = 0LL;              // Mayor número encontrado\n",
        "    long long n_major_2 = 0LL;            // Segundo mayor número encontrado\n",
        "    int n = numbers.size();               // Tamaño del vector\n",
        "\n",
        "    for (int i = 0; i < n; ++i) {         // Iterar a través del vector\n",
        "        if (numbers[i] > n_major) {\n",
        "            n_major_2 = n_major;          // Actualizar el segundo mayor\n",
        "            n_major = numbers[i];         // Actualizar el mayor\n",
        "        } else if (numbers[i] > n_major_2) {\n",
        "            n_major_2 = numbers[i];       // Actualizar el segundo mayor si corresponde\n",
        "        }\n",
        "    }\n",
        "    max_product = n_major * n_major_2;    // Calcular el producto máximo\n",
        "    return max_product;\n",
        "}\n",
        "\n",
        "int main() {\n",
        "    int n;                                // Número de elementos en el vector\n",
        "    std::cin >> n;                        // Leer el tamaño del vector\n",
        "    std::vector<long long> numbers(n);    // Crear un vector de tamaño n\n",
        "\n",
        "    for (int i = 0; i < n; ++i) {         // Leer los elementos del vector\n",
        "        std::cin >> numbers[i];\n",
        "    }\n",
        "\n",
        "    // Calcular y mostrar el producto máximo\n",
        "    std::cout << MaxPairwiseProduct(numbers) << \"\\n\";\n",
        "    return 0;\n",
        "}\n"
      ]
    },
    {
      "cell_type": "code",
      "source": [
        "!g++ max_pairwise_product_long_efficient.cpp -o max_pairwise_product_long_efficient"
      ],
      "metadata": {
        "id": "DE3l0NAEr-rk"
      },
      "execution_count": 169,
      "outputs": []
    },
    {
      "cell_type": "code",
      "source": [
        "%%writefile max_pairwise_product_efficient.py\n",
        "#Python3\n",
        "def max_pairwise_product(lista):\n",
        "    n_major = 0\n",
        "    n_major_2 = 0\n",
        "    max_product = 0\n",
        "    for i in lista:\n",
        "        if i > n_major:\n",
        "            n_major_2=n_major\n",
        "            n_major = i\n",
        "        elif i > n_major_2:\n",
        "            n_major_2=i\n",
        "    max_product = n_major_2 * n_major\n",
        "\n",
        "    return max_product\n",
        "\n",
        "if __name__ == \"__main__\":\n",
        "    n = int(input())\n",
        "    lista = list(map(int, input().split()))\n",
        "    print(max_pairwise_product(lista))"
      ],
      "metadata": {
        "id": "apKBOusSsCYT",
        "outputId": "2df09feb-1570-4515-89d5-5ceee8f2edef",
        "colab": {
          "base_uri": "https://localhost:8080/"
        }
      },
      "execution_count": 114,
      "outputs": [
        {
          "output_type": "stream",
          "name": "stdout",
          "text": [
            "Writing max_pairwise_product_efficient.py\n"
          ]
        }
      ]
    },
    {
      "cell_type": "markdown",
      "metadata": {
        "id": "-JCijbWxNSii"
      },
      "source": [
        "Test with inputs 1 and 2\n",
        "\n"
      ]
    },
    {
      "cell_type": "code",
      "execution_count": 170,
      "metadata": {
        "id": "TrTGAfqlNVXT",
        "outputId": "ca07f5a5-7438-4572-82b4-ee03c981b093",
        "colab": {
          "base_uri": "https://localhost:8080/"
        }
      },
      "outputs": [
        {
          "output_type": "stream",
          "name": "stdout",
          "text": [
            "90\n",
            "90\n"
          ]
        }
      ],
      "source": [
        "!./max_pairwise_product_long_efficient < input1.txt\n",
        "!./max_pairwise_product_long_efficient < input2.txt"
      ]
    },
    {
      "cell_type": "code",
      "source": [
        "!python max_pairwise_product_efficient.py < input1.txt\n",
        "!python max_pairwise_product_efficient.py < input2.txt"
      ],
      "metadata": {
        "id": "HXrlJSlMsj6u",
        "outputId": "5d28dd7d-b498-474a-c949-0ed5c0ca8dbf",
        "colab": {
          "base_uri": "https://localhost:8080/"
        }
      },
      "execution_count": 171,
      "outputs": [
        {
          "output_type": "stream",
          "name": "stdout",
          "text": [
            "90\n",
            "90\n"
          ]
        }
      ]
    },
    {
      "cell_type": "markdown",
      "metadata": {
        "id": "PRX51wADNR8b"
      },
      "source": [
        "Test and time it with input 3"
      ]
    },
    {
      "cell_type": "code",
      "execution_count": 117,
      "metadata": {
        "id": "v4z7-Is_NRt7",
        "outputId": "7fb2b994-7067-4f54-e117-d9bc56882e1b",
        "colab": {
          "base_uri": "https://localhost:8080/"
        }
      },
      "outputs": [
        {
          "output_type": "stream",
          "name": "stdout",
          "text": [
            "40000000000\n",
            "CPU times: user 5.73 ms, sys: 2.76 ms, total: 8.48 ms\n",
            "Wall time: 109 ms\n"
          ]
        }
      ],
      "source": [
        "%%time\n",
        "!python max_pairwise_product_efficient.py < input3.txt"
      ]
    },
    {
      "cell_type": "code",
      "source": [
        "!time ./max_pairwise_product_long_efficient < input3.txt"
      ],
      "metadata": {
        "id": "3bZZKIr9srqS",
        "outputId": "84e193c5-8bd3-41cd-df73-88e63c0048ee",
        "colab": {
          "base_uri": "https://localhost:8080/"
        }
      },
      "execution_count": 118,
      "outputs": [
        {
          "output_type": "stream",
          "name": "stdout",
          "text": [
            "/bin/bash: line 1: ./max_pairwise_product_long_efficient: No such file or directory\n",
            "\n",
            "real\t0m0.001s\n",
            "user\t0m0.001s\n",
            "sys\t0m0.000s\n"
          ]
        }
      ]
    },
    {
      "cell_type": "markdown",
      "metadata": {
        "id": "rpdfs0_TNZJf"
      },
      "source": [
        "20 stress tests"
      ]
    },
    {
      "cell_type": "code",
      "execution_count": 186,
      "metadata": {
        "id": "Lu4tYcKzNcTT",
        "outputId": "94ff99d6-ae04-48ab-c436-b8a7636427bf",
        "colab": {
          "base_uri": "https://localhost:8080/"
        }
      },
      "outputs": [
        {
          "output_type": "stream",
          "name": "stdout",
          "text": [
            "Overwriting max_pairwise_product_long_efficient_stress_test.cpp\n"
          ]
        }
      ],
      "source": [
        "%%writefile max_pairwise_product_long_efficient_stress_test.cpp\n",
        "#include <iostream>     // Para std::cin, std::cout\n",
        "#include <vector>       // Para std::vector\n",
        "#include <random>       // Para la generación de números aleatorios\n",
        "\n",
        "long long MaxPairwiseProduct(const std::vector<int>& numbers) {\n",
        "    long long max_product = 0LL;  // 1\n",
        "    long long n_major = 0LL;      // 1\n",
        "    long long n_major_2 = 0LL;    // 1\n",
        "    int n = numbers.size();       // 1\n",
        "\n",
        "    for (int i = 0; i < n; ++i) {  // 1 + 2n\n",
        "        if (numbers[i] > n_major) {\n",
        "            n_major_2 = n_major;  // n\n",
        "            n_major = numbers[i];\n",
        "        }\n",
        "        else if (numbers[i] > n_major_2) {  // n\n",
        "            n_major_2 = numbers[i];  // [0, n]\n",
        "        }\n",
        "    }\n",
        "    max_product = n_major * n_major_2;  // --------------\n",
        "    return max_product;\n",
        "}\n",
        "\n",
        "int main() {\n",
        "    std::random_device rd;\n",
        "    std::mt19937 gen(rd());\n",
        "    std::uniform_int_distribution<int> n_dist(2, 19);     // Rango para n\n",
        "    std::uniform_int_distribution<int> num_dist(0, 25000); // Rango para los números\n",
        "\n",
        "    for (int i = 0; i < 20; ++i) {\n",
        "        int n = n_dist(gen);  // Genera un número aleatorio para n\n",
        "        std::vector<int> numbers(n);  // Crea el vector con tamaño n\n",
        "\n",
        "        for (int i = 0; i < n; ++i) {  // 1 + 2n\n",
        "            numbers[i] = num_dist(gen);  // Llenar el vector con números aleatorios\n",
        "        }\n",
        "\n",
        "        std::cout << \"n= \" << n << \" Product= \" << MaxPairwiseProduct(numbers) << \"\\n\";\n",
        "    }\n",
        "\n",
        "    return 0;\n",
        "}\n"
      ]
    },
    {
      "cell_type": "code",
      "source": [
        "!g++ max_pairwise_product_long_efficient_stress_test.cpp -o max_pairwise_product_long_efficient_stress_test\n",
        "!./max_pairwise_product_long_efficient_stress_test"
      ],
      "metadata": {
        "id": "G6in1D_cs8OI",
        "outputId": "4857aa57-f437-4c50-9701-80f0901e36d9",
        "colab": {
          "base_uri": "https://localhost:8080/"
        }
      },
      "execution_count": 187,
      "outputs": [
        {
          "output_type": "stream",
          "name": "stdout",
          "text": [
            "n= 18 Product= 534887534\n",
            "n= 19 Product= 569558600\n",
            "n= 16 Product= 578000864\n",
            "n= 10 Product= 582480150\n",
            "n= 4 Product= 134033140\n",
            "n= 13 Product= 600635385\n",
            "n= 2 Product= 15343002\n",
            "n= 13 Product= 491234778\n",
            "n= 19 Product= 565243229\n",
            "n= 15 Product= 372708405\n",
            "n= 9 Product= 464656560\n",
            "n= 12 Product= 503468891\n",
            "n= 8 Product= 510359856\n",
            "n= 14 Product= 392748207\n",
            "n= 2 Product= 320874345\n",
            "n= 3 Product= 333137408\n",
            "n= 17 Product= 395998554\n",
            "n= 14 Product= 512064878\n",
            "n= 2 Product= 124859108\n",
            "n= 13 Product= 355831920\n"
          ]
        }
      ]
    },
    {
      "cell_type": "code",
      "source": [
        "%%writefile max_pairwise_product_efficient_stress_tests.py\n",
        "#Python3\n",
        "import random\n",
        "def max_pairwise_product(lista):\n",
        "    n_major = 0\n",
        "    n_major_2 = 0\n",
        "    max_product = 0\n",
        "    for i in lista:\n",
        "        if i > n_major:\n",
        "            n_major_2=n_major\n",
        "            n_major = i\n",
        "        elif i > n_major_2:\n",
        "            n_major_2=i\n",
        "    max_product = n_major_2 * n_major\n",
        "\n",
        "    return max_product\n",
        "\n",
        "if __name__ == \"__main__\":\n",
        "    for i in range(20):\n",
        "      n = random.randint(2, 19)\n",
        "      lista = [random.randint(17, 25631) for i in range(n)]\n",
        "      print(f\"n=  {n}   Product= {max_pairwise_product(lista)}\")"
      ],
      "metadata": {
        "id": "NT3sy33HtGUb",
        "outputId": "3d5a0224-5dc1-4f3f-b0ca-7f1df2f4f11f",
        "colab": {
          "base_uri": "https://localhost:8080/"
        }
      },
      "execution_count": 121,
      "outputs": [
        {
          "output_type": "stream",
          "name": "stdout",
          "text": [
            "Writing max_pairwise_product_efficient_stress_tests.py\n"
          ]
        }
      ]
    },
    {
      "cell_type": "code",
      "source": [
        "!python max_pairwise_product_efficient_stress_tests.py"
      ],
      "metadata": {
        "id": "PhcRE7hktP8J",
        "outputId": "39cf5f13-47cf-42d7-f066-90030b09b9c7",
        "colab": {
          "base_uri": "https://localhost:8080/"
        }
      },
      "execution_count": 122,
      "outputs": [
        {
          "output_type": "stream",
          "name": "stdout",
          "text": [
            "n=  13   Product= 566704342\n",
            "n=  14   Product= 552106628\n",
            "n=  9   Product= 465240360\n",
            "n=  17   Product= 566125240\n",
            "n=  16   Product= 543382985\n",
            "n=  16   Product= 582945390\n",
            "n=  12   Product= 501524310\n",
            "n=  18   Product= 597477198\n",
            "n=  14   Product= 617183490\n",
            "n=  3   Product= 329533876\n",
            "n=  17   Product= 581775432\n",
            "n=  4   Product= 313664612\n",
            "n=  16   Product= 628655248\n",
            "n=  19   Product= 543979816\n",
            "n=  17   Product= 464161472\n",
            "n=  13   Product= 570679884\n",
            "n=  16   Product= 580030407\n",
            "n=  17   Product= 517303449\n",
            "n=  13   Product= 530937434\n",
            "n=  5   Product= 298310298\n"
          ]
        }
      ]
    },
    {
      "cell_type": "markdown",
      "metadata": {
        "id": "L8U4151JNbxk"
      },
      "source": [
        "Count executed instructions in code and verify with inputs 1,2 and 3\n"
      ]
    },
    {
      "cell_type": "code",
      "execution_count": 183,
      "metadata": {
        "id": "dh85RM8vNhFz",
        "outputId": "0d92aba5-1fd2-47f6-941f-067f91a1f86e",
        "colab": {
          "base_uri": "https://localhost:8080/"
        }
      },
      "outputs": [
        {
          "output_type": "stream",
          "name": "stdout",
          "text": [
            "Overwriting max_pairwise_product_long_efficient_and_instructions.cpp\n"
          ]
        }
      ],
      "source": [
        "%%writefile max_pairwise_product_long_efficient_and_instructions.cpp\n",
        "#include <iostream>     // Para std::cin y std::cout\n",
        "#include <vector>       // Para std::vector\n",
        "\n",
        "long long inst = 0LL;\n",
        "\n",
        "long long MaxPairwiseProduct(const std::vector<long long>& numbers) {\n",
        "    long long max_product = 0LL;  // 1\n",
        "    inst++;\n",
        "    long long n_major = 0LL;      // 1\n",
        "    inst++;\n",
        "    long long n_major_2 = 0LL;   // 1\n",
        "    inst++;\n",
        "    int n = numbers.size();       // 1\n",
        "    inst++;\n",
        "\n",
        "    for(int i = 0; i < n; ++i) {  // 1 + 2n\n",
        "        inst += 2;\n",
        "        if (numbers[i] > n_major) {\n",
        "            inst++;\n",
        "            n_major_2 = n_major;  // n\n",
        "            inst++;\n",
        "            n_major = numbers[i];\n",
        "            inst++;\n",
        "        } else if (numbers[i] > n_major_2) {\n",
        "            inst++;\n",
        "            n_major_2 = numbers[i];  // n\n",
        "            inst++;\n",
        "        }\n",
        "    }\n",
        "    max_product = n_major * n_major_2;\n",
        "    inst++;  // --------------\n",
        "    return max_product;\n",
        "}\n",
        "\n",
        "int main() {\n",
        "    int n;  // 1\n",
        "    inst++;\n",
        "    std::cin >> n;  // 1\n",
        "    inst++;\n",
        "    std::vector<long long> numbers(n);  // n\n",
        "    inst++;\n",
        "\n",
        "    for (int i = 0; i < n; ++i) {  // 1 + 2n\n",
        "        std::cin >> numbers[i];  // n\n",
        "    }\n",
        "    inst += n;\n",
        "\n",
        "    std::cout << MaxPairwiseProduct(numbers) << \"\\n\";  // Mostrar el producto máximo\n",
        "    inst++;\n",
        "    std::cout << \"Numero de instrucciones: \" << inst << \"\\n\";  // Número de instrucciones ejecutadas\n",
        "    return 0;\n",
        "}\n"
      ]
    },
    {
      "cell_type": "code",
      "source": [
        "!g++ max_pairwise_product_long_efficient_and_instructions.cpp -o max_pairwise_product_long_efficient_and_instructions"
      ],
      "metadata": {
        "id": "u8docGHptlrI"
      },
      "execution_count": 184,
      "outputs": []
    },
    {
      "cell_type": "code",
      "source": [
        "!./max_pairwise_product_long_efficient_and_instructions < input1.txt\n",
        "!./max_pairwise_product_long_efficient_and_instructions < input2.txt\n",
        "!./max_pairwise_product_long_efficient_and_instructions < input3.txt"
      ],
      "metadata": {
        "id": "8utLOBxitpou",
        "outputId": "f4cf3944-9160-44aa-a042-db63466dee09",
        "colab": {
          "base_uri": "https://localhost:8080/"
        }
      },
      "execution_count": 185,
      "outputs": [
        {
          "output_type": "stream",
          "name": "stdout",
          "text": [
            "90\n",
            "Numero de instrucciones: 69\n",
            "90\n",
            "Numero de instrucciones: 44\n",
            "40000000000\n",
            "Numero de instrucciones: 40\n"
          ]
        }
      ]
    },
    {
      "cell_type": "code",
      "source": [
        "%%writefile max_pairwise_product_efficient_and_instructions.py\n",
        "#Python3\n",
        "\n",
        "inst=0\n",
        "def max_pairwise_product(lista):\n",
        "    global inst\n",
        "    n_major = 0\n",
        "    inst+=1\n",
        "    n_major_2 = 0\n",
        "    inst+=1\n",
        "    max_product = 0\n",
        "    inst+=1\n",
        "    for i in lista:\n",
        "        inst+=1\n",
        "        if i > n_major:\n",
        "            inst+=1\n",
        "            n_major_2=n_major\n",
        "            inst+=1\n",
        "            n_major = i\n",
        "            inst+=1\n",
        "        elif i > n_major_2:\n",
        "            inst+=1\n",
        "            n_major_2=i\n",
        "            inst+=1\n",
        "            inst+=1\n",
        "    max_product = n_major_2 * n_major\n",
        "    inst+=1\n",
        "\n",
        "    return max_product\n",
        "\n",
        "if __name__ == \"__main__\":\n",
        "    n = int(input())\n",
        "    inst+=1\n",
        "    lista = list(map(int, input().split()))\n",
        "    inst+=4*n\n",
        "    print(max_pairwise_product(lista))\n",
        "    inst+=1\n",
        "    print(f\"Numero Total de Instrucciones:  {inst}\")\n"
      ],
      "metadata": {
        "id": "OPPLBWQDt1RG",
        "outputId": "f62b47d6-84b1-49c6-fde8-2e9550c31aab",
        "colab": {
          "base_uri": "https://localhost:8080/"
        }
      },
      "execution_count": 126,
      "outputs": [
        {
          "output_type": "stream",
          "name": "stdout",
          "text": [
            "Writing max_pairwise_product_efficient_and_instructions.py\n"
          ]
        }
      ]
    },
    {
      "cell_type": "code",
      "source": [
        "!python max_pairwise_product_efficient_and_instructions.py < input1.txt\n",
        "!python max_pairwise_product_efficient_and_instructions.py < input2.txt\n",
        "!python max_pairwise_product_efficient_and_instructions.py < input3.txt"
      ],
      "metadata": {
        "id": "u7vBxh3gt97h",
        "outputId": "2a4a3c74-9f1e-43b2-fb57-01dfd739da71",
        "colab": {
          "base_uri": "https://localhost:8080/"
        }
      },
      "execution_count": 127,
      "outputs": [
        {
          "output_type": "stream",
          "name": "stdout",
          "text": [
            "90\n",
            "Numero Total de Instrucciones:  86\n",
            "90\n",
            "Numero Total de Instrucciones:  62\n",
            "40000000000\n",
            "Numero Total de Instrucciones:  51\n"
          ]
        }
      ]
    },
    {
      "cell_type": "markdown",
      "metadata": {
        "id": "K6ybgCmpNygr"
      },
      "source": [
        "Calculate estimated time by instruction and number of instructions by second"
      ]
    },
    {
      "cell_type": "code",
      "execution_count": 180,
      "metadata": {
        "id": "kwe3G1O3Nz1w",
        "outputId": "ee0aeb49-98aa-483f-81b8-ac74326ac6dc",
        "colab": {
          "base_uri": "https://localhost:8080/"
        }
      },
      "outputs": [
        {
          "output_type": "stream",
          "name": "stdout",
          "text": [
            "Overwriting max_pairwise_product_long_efficient_and_instructions_by_second.cpp\n"
          ]
        }
      ],
      "source": [
        "%%writefile max_pairwise_product_long_efficient_and_instructions_by_second.cpp\n",
        "#include <iostream>     // Para std::cin y std::cout\n",
        "#include <vector>       // Para std::vector\n",
        "#include <chrono>       // Para medir el tiempo de ejecución\n",
        "\n",
        "long long inst = 0LL;\n",
        "\n",
        "long long MaxPairwiseProduct(const std::vector<long long>& numbers) {\n",
        "    long long max_product = 0LL;  // 1\n",
        "    inst++;\n",
        "    long long n_major = 0LL;      // 1\n",
        "    inst++;\n",
        "    long long n_major_2 = 0LL;   // 1\n",
        "    inst++;\n",
        "    int n = numbers.size();       // 1\n",
        "    inst++;\n",
        "\n",
        "    for(int i = 0; i < n; ++i) {  // 1 + 2n\n",
        "        inst += 2;\n",
        "        if (numbers[i] > n_major) {\n",
        "            inst++;\n",
        "            n_major_2 = n_major;  // n\n",
        "            inst++;\n",
        "            n_major = numbers[i];\n",
        "            inst++;\n",
        "        } else if (numbers[i] > n_major_2) {\n",
        "            inst++;\n",
        "            n_major_2 = numbers[i];  // n\n",
        "            inst++;\n",
        "        }\n",
        "    }\n",
        "    max_product = n_major * n_major_2;\n",
        "    inst++;  // --------------\n",
        "    return max_product;\n",
        "}\n",
        "\n",
        "int main() {\n",
        "    auto start_time = std::chrono::high_resolution_clock::now();  // Medir el tiempo de inicio\n",
        "\n",
        "    int n;  // 1\n",
        "    inst++;\n",
        "    std::cin >> n;  // 1\n",
        "    inst++;\n",
        "    std::vector<long long> numbers(n);  // n\n",
        "    inst++;\n",
        "\n",
        "    for (int i = 0; i < n; ++i) {  // 1 + 2n\n",
        "        std::cin >> numbers[i];  // n\n",
        "    }\n",
        "    inst += n;\n",
        "\n",
        "    std::cout << MaxPairwiseProduct(numbers) << \"\\n\";  // Mostrar el producto máximo\n",
        "    inst++;\n",
        "\n",
        "    auto end_time = std::chrono::high_resolution_clock::now();  // Medir el tiempo de fin\n",
        "    auto duration = std::chrono::duration_cast<std::chrono::milliseconds>(end_time - start_time);  // Duración en milisegundos\n",
        "\n",
        "    float duration_sec, duration_f;\n",
        "    duration_f = static_cast<float>(duration.count());\n",
        "    duration_sec = duration_f / 1000;\n",
        "\n",
        "    std::cout << \"Numero de instrucciones: \" << inst << \"\\n\";\n",
        "    std::cout << \"Duracion Estimada: \" << duration_sec << \" segundos\\n\";\n",
        "    std::cout << \"Duracion Estimada por instrucción: \" << duration_sec / inst << \" segundos\\n\";\n",
        "    std::cout << \"Numero de instrucciones por segundo: \" << 1 / (duration_sec / inst) << \" Instrucciones\\n\";\n",
        "\n",
        "    return 0;\n",
        "}\n"
      ]
    },
    {
      "cell_type": "code",
      "source": [
        "!g++ max_pairwise_product_long_efficient_and_instructions_by_second.cpp -o max_pairwise_product_long_efficient_and_instructions_by_second\n"
      ],
      "metadata": {
        "id": "a1f4Rrq8udFY"
      },
      "execution_count": 181,
      "outputs": []
    },
    {
      "cell_type": "code",
      "source": [
        "!./max_pairwise_product_long_efficient_and_instructions_by_second < input13.txt"
      ],
      "metadata": {
        "id": "N3mi00Zrug0C",
        "outputId": "e40fce1d-41ea-4d1e-9431-7927219c7504",
        "colab": {
          "base_uri": "https://localhost:8080/"
        }
      },
      "execution_count": 182,
      "outputs": [
        {
          "output_type": "stream",
          "name": "stdout",
          "text": [
            "120989000\n",
            "Numero de instrucciones: 66009\n",
            "Duracion Estimada: 0.006 segundos\n",
            "Duracion Estimada por instrucción: 9.08967e-08 segundos\n",
            "Numero de instrucciones por segundo: 1.10015e+07 Instrucciones\n"
          ]
        }
      ]
    },
    {
      "cell_type": "code",
      "source": [
        "%%writefile max_pairwise_product_efficient_and_instructions_by_second.py\n",
        "#Python3\n",
        "import time\n",
        "\n",
        "inst=0\n",
        "def max_pairwise_product(lista):\n",
        "    global inst\n",
        "    n_major = 0\n",
        "    inst+=1\n",
        "    n_major_2 = 0\n",
        "    inst+=1\n",
        "    max_product = 0\n",
        "    inst+=1\n",
        "    for i in lista:\n",
        "        inst+=1\n",
        "        if i > n_major:\n",
        "            inst+=1\n",
        "            n_major_2=n_major\n",
        "            inst+=1\n",
        "            n_major = i\n",
        "            inst+=1\n",
        "        elif i > n_major_2:\n",
        "            inst+=1\n",
        "            n_major_2=i\n",
        "            inst+=1\n",
        "            inst+=1\n",
        "    max_product = n_major_2 * n_major\n",
        "    inst+=1\n",
        "\n",
        "    return max_product\n",
        "\n",
        "if __name__ == \"__main__\":\n",
        "    inicio=time.time()\n",
        "    n = int(input())\n",
        "    inst+=1\n",
        "    lista = list(map(int, input().split()))\n",
        "    inst+=4*n\n",
        "    print(max_pairwise_product(lista))\n",
        "    inst+=1\n",
        "    fin = time.time()\n",
        "    tiempo_total = fin - inicio\n",
        "    instructionTime = tiempo_total/inst\n",
        "    instructionBySecond= 1/instructionTime\n",
        "    print(f\"Numero Total de Instrucciones:  {inst}\")\n",
        "    print(f\"Tiempo total de ejecución: {tiempo_total} segundos\")\n",
        "    print(f\"Tiempo estimado de cada instruccion: {instructionTime} segundos\")\n",
        "    print(f\"Instrucciones por segundo: {int(instructionBySecond)} \")\n"
      ],
      "metadata": {
        "id": "jlm7RwqNunHV",
        "outputId": "45e36ecb-8f09-490b-8514-912e1a6fd0a0",
        "colab": {
          "base_uri": "https://localhost:8080/"
        }
      },
      "execution_count": 131,
      "outputs": [
        {
          "output_type": "stream",
          "name": "stdout",
          "text": [
            "Writing max_pairwise_product_efficient_and_instructions_by_second.py\n"
          ]
        }
      ]
    },
    {
      "cell_type": "code",
      "source": [
        "!python max_pairwise_product_efficient_and_instructions_by_second.py < input13.txt"
      ],
      "metadata": {
        "id": "ZLvUyNgOuyBX",
        "outputId": "f4602803-edb2-4766-b04c-c4be652d831d",
        "colab": {
          "base_uri": "https://localhost:8080/"
        }
      },
      "execution_count": 132,
      "outputs": [
        {
          "output_type": "stream",
          "name": "stdout",
          "text": [
            "120989000\n",
            "Numero Total de Instrucciones:  88006\n",
            "Tiempo total de ejecución: 0.01212620735168457 segundos\n",
            "Tiempo estimado de cada instruccion: 1.377884161498599e-07 segundos\n",
            "Instrucciones por segundo: 7257504 \n"
          ]
        }
      ]
    },
    {
      "cell_type": "markdown",
      "source": [
        "### Estimate and verify the maximun n that can be solved in 1 second"
      ],
      "metadata": {
        "id": "v8GY6n_ZaJ4P"
      }
    },
    {
      "cell_type": "code",
      "source": [
        "%%writefile maximun_n_that_can_be_solved_efficient.py\n",
        "#Python3\n",
        "import random\n",
        "def max_pairwise_product(lista):\n",
        "    n_major = 0\n",
        "    n_major_2 = 0\n",
        "    max_product = 0\n",
        "    for i in lista:\n",
        "        if i > n_major:\n",
        "            n_major_2=n_major\n",
        "            n_major = i\n",
        "        elif i > n_major_2:\n",
        "            n_major_2=i\n",
        "    max_product = n_major_2 * n_major\n",
        "\n",
        "    return max_product\n",
        "\n",
        "if __name__ == \"__main__\":\n",
        "    n = 800000\n",
        "    lista = [random.randint(17, 25631) for i in range(n)]\n",
        "    print(f\"n=  {n}   Product= {max_pairwise_product(lista)}\")"
      ],
      "metadata": {
        "id": "z3xjzg1YaKk6",
        "outputId": "92ba6cd9-da10-4863-cf6a-56e2e28a2b70",
        "colab": {
          "base_uri": "https://localhost:8080/"
        }
      },
      "execution_count": 133,
      "outputs": [
        {
          "output_type": "stream",
          "name": "stdout",
          "text": [
            "Writing maximun_n_that_can_be_solved_efficient.py\n"
          ]
        }
      ]
    },
    {
      "cell_type": "code",
      "source": [
        "%%time\n",
        "!python maximun_n_that_can_be_solved_efficient.py"
      ],
      "metadata": {
        "id": "nqa1YcZ_u7dz",
        "outputId": "11a1d3ce-8acc-4616-baf0-aecca5f75d09",
        "colab": {
          "base_uri": "https://localhost:8080/"
        }
      },
      "execution_count": 134,
      "outputs": [
        {
          "output_type": "stream",
          "name": "stdout",
          "text": [
            "n=  800000   Product= 656948161\n",
            "CPU times: user 14.3 ms, sys: 1.28 ms, total: 15.6 ms\n",
            "Wall time: 1.01 s\n"
          ]
        }
      ]
    },
    {
      "cell_type": "markdown",
      "metadata": {
        "id": "sUpIWcykOGpT"
      },
      "source": [
        "## Super efficient solution\n",
        "\n",
        "Whitout storing the list in memory, only stpring the largest and second largest and whitout calling a function, add in each line a coment with the number of instructions that are executed in that line\n",
        "\n",
        "in C++ and Python\n",
        "\n",
        "\n",
        " $$T(n) < 13 n  = O(n)$$\n"
      ]
    },
    {
      "cell_type": "code",
      "execution_count": 177,
      "metadata": {
        "id": "hBLt_xBQLy8E",
        "outputId": "6d9e479b-fb94-458d-f665-add642f85208",
        "colab": {
          "base_uri": "https://localhost:8080/"
        }
      },
      "outputs": [
        {
          "output_type": "stream",
          "name": "stdout",
          "text": [
            "Overwriting max_pairwise_super_efficient.cpp\n"
          ]
        }
      ],
      "source": [
        "%%writefile max_pairwise_super_efficient.cpp\n",
        "#include <iostream>  // Para std::cin y std::cout\n",
        "\n",
        "using namespace std;\n",
        "\n",
        "int main() {\n",
        "    int n;                                     // 1\n",
        "    cin >> n;                                  // 1\n",
        "    int numero_M = 0;                          // 1\n",
        "    int segundo_Numero_M = 0;                  // 1\n",
        "\n",
        "    // Iterar sobre todos los elementos para encontrar los dos mayores números\n",
        "    for (int i = 0; i < n; ++i) {              // 1 + 2n\n",
        "        int comp = 0;                          // n\n",
        "        cin >> comp;                           // n\n",
        "\n",
        "        if (comp > numero_M) {                 // n\n",
        "            segundo_Numero_M = numero_M;       // n\n",
        "            numero_M = comp;                   // n\n",
        "        } else if (comp > segundo_Numero_M) {  // n\n",
        "            segundo_Numero_M = comp;           // n\n",
        "        }\n",
        "    }\n",
        "\n",
        "    cout << numero_M * segundo_Numero_M << \"\\n\"; // 1\n",
        "    return 0;\n",
        "}\n"
      ]
    },
    {
      "cell_type": "code",
      "source": [
        "!g++ max_pairwise_super_efficient.cpp -o max_pairwise_super_efficient"
      ],
      "metadata": {
        "id": "0jg_bJWWmQM0"
      },
      "execution_count": 178,
      "outputs": []
    },
    {
      "cell_type": "markdown",
      "metadata": {
        "id": "683gc3roHqzb"
      },
      "source": [
        "Test with inputs 1 and 2\n",
        "\n",
        "\n"
      ]
    },
    {
      "cell_type": "code",
      "execution_count": 179,
      "metadata": {
        "id": "b7d4LA8OIc2_",
        "outputId": "bb9c2281-1def-4103-83f4-4ed11c7195f5",
        "colab": {
          "base_uri": "https://localhost:8080/"
        }
      },
      "outputs": [
        {
          "output_type": "stream",
          "name": "stdout",
          "text": [
            "90\n",
            "90\n"
          ]
        }
      ],
      "source": [
        "!./max_pairwise_super_efficient < input1.txt\n",
        "!./max_pairwise_super_efficient < input2.txt"
      ]
    },
    {
      "cell_type": "markdown",
      "metadata": {
        "id": "36Ugn1odIeJz"
      },
      "source": [
        "Test and time it with input 3"
      ]
    },
    {
      "cell_type": "code",
      "execution_count": 138,
      "metadata": {
        "id": "jDyMbCnxHqSN",
        "outputId": "48567413-7bb6-4a0a-b13f-8a9fced4cdb7",
        "colab": {
          "base_uri": "https://localhost:8080/"
        }
      },
      "outputs": [
        {
          "output_type": "stream",
          "name": "stdout",
          "text": [
            "/bin/bash: line 1: ./max_pairwise_super_efficient: No such file or directory\n",
            "\n",
            "real\t0m0.001s\n",
            "user\t0m0.000s\n",
            "sys\t0m0.001s\n"
          ]
        }
      ],
      "source": [
        "!time ./max_pairwise_super_efficient < input3.txt"
      ]
    },
    {
      "cell_type": "markdown",
      "metadata": {
        "id": "bhqiKQG6fjKM"
      },
      "source": [
        "20 stress tests"
      ]
    },
    {
      "cell_type": "code",
      "execution_count": 175,
      "metadata": {
        "id": "2KsiXKhALzwm",
        "outputId": "232eedd7-839b-403d-a99c-7a3d859d4cdc",
        "colab": {
          "base_uri": "https://localhost:8080/"
        }
      },
      "outputs": [
        {
          "output_type": "stream",
          "name": "stdout",
          "text": [
            "Overwriting max_pairwise_super_efficient_stress_tests.cpp\n"
          ]
        }
      ],
      "source": [
        "%%writefile max_pairwise_super_efficient_stress_tests.cpp\n",
        "#include <iostream>     // Para std::cout y std::cin\n",
        "#include <vector>       // Para std::vector\n",
        "#include <random>       // Para std::random_device, std::mt19937, std::uniform_int_distribution\n",
        "\n",
        "using namespace std;\n",
        "\n",
        "int main() {\n",
        "    std::random_device rd;                          // Generador de semilla\n",
        "    std::mt19937 gen(rd());                         // Generador de números aleatorios\n",
        "    std::uniform_int_distribution<int> n_dist(2, 19); // Distribución para el tamaño del arreglo\n",
        "    std::uniform_int_distribution<int> num_dist(0, 25000); // Distribución para los números\n",
        "\n",
        "    // Realizar 20 pruebas de estrés\n",
        "    for (int i = 0; i < 20; ++i) {\n",
        "        int n = n_dist(gen);                        // Tamaño del arreglo\n",
        "        int numero_M = 0;                           // Mayor número\n",
        "        int segundo_Numero_M = 0;                   // Segundo mayor número\n",
        "\n",
        "        // Llenar el arreglo con números aleatorios y calcular el producto\n",
        "        for (int i = 0; i < n; ++i) {\n",
        "            int comp = num_dist(gen);              // Generar un número aleatorio\n",
        "            if (comp > numero_M) {                 // Si el número es mayor que el mayor conocido\n",
        "                segundo_Numero_M = numero_M;      // Actualizar el segundo mayor\n",
        "                numero_M = comp;                  // Actualizar el mayor\n",
        "            } else if (comp > segundo_Numero_M) {  // Si el número es mayor que el segundo mayor\n",
        "                segundo_Numero_M = comp;          // Actualizar el segundo mayor\n",
        "            }\n",
        "        }\n",
        "\n",
        "        // Mostrar el tamaño y el producto de los dos mayores números\n",
        "        cout << \"n= \" << n << \" Multiplicacion= \" << numero_M * segundo_Numero_M  << \"\\n\";\n",
        "    }\n",
        "\n",
        "    return 0;\n",
        "}\n"
      ]
    },
    {
      "cell_type": "code",
      "source": [
        "!g++ max_pairwise_super_efficient_stress_tests.cpp -o max_pairwise_super_efficient_stress_tests\n",
        "!./max_pairwise_super_efficient_stress_tests"
      ],
      "metadata": {
        "id": "eMynPnV-vfJg",
        "outputId": "409066a4-0130-4e64-b03c-41a8821f561f",
        "colab": {
          "base_uri": "https://localhost:8080/"
        }
      },
      "execution_count": 176,
      "outputs": [
        {
          "output_type": "stream",
          "name": "stdout",
          "text": [
            "n= 13 Multiplicacion= 396979086\n",
            "n= 4 Multiplicacion= 281272461\n",
            "n= 8 Multiplicacion= 396370680\n",
            "n= 9 Multiplicacion= 527312328\n",
            "n= 16 Multiplicacion= 593965851\n",
            "n= 7 Multiplicacion= 354469400\n",
            "n= 16 Multiplicacion= 501989101\n",
            "n= 14 Multiplicacion= 562635942\n",
            "n= 10 Multiplicacion= 553657651\n",
            "n= 3 Multiplicacion= 556180371\n",
            "n= 14 Multiplicacion= 548939308\n",
            "n= 4 Multiplicacion= 354149865\n",
            "n= 5 Multiplicacion= 384987429\n",
            "n= 6 Multiplicacion= 178297728\n",
            "n= 17 Multiplicacion= 443930397\n",
            "n= 16 Multiplicacion= 515733284\n",
            "n= 19 Multiplicacion= 576488108\n",
            "n= 18 Multiplicacion= 478287022\n",
            "n= 14 Multiplicacion= 583085040\n",
            "n= 4 Multiplicacion= 556350976\n"
          ]
        }
      ]
    },
    {
      "cell_type": "markdown",
      "metadata": {
        "id": "fEXj8GHJH5p1"
      },
      "source": [
        "Count executed instructions in code and verify with inputs 1,2 and 3"
      ]
    },
    {
      "cell_type": "code",
      "execution_count": 172,
      "metadata": {
        "id": "LF1DHjKXIAsF",
        "outputId": "36f9e2d0-f1a8-423c-8e84-ddf17fb1d1cb",
        "colab": {
          "base_uri": "https://localhost:8080/"
        }
      },
      "outputs": [
        {
          "output_type": "stream",
          "name": "stdout",
          "text": [
            "Overwriting max_pairwise_super_efficient_count.cpp\n"
          ]
        }
      ],
      "source": [
        "%%writefile max_pairwise_super_efficient_count.cpp\n",
        "#include <iostream> // Para std::cin y std::cout\n",
        "using namespace std;\n",
        "\n",
        "int main() {\n",
        "    int inst = 0;                        // Contador de instrucciones\n",
        "    int n;                               // Número de elementos\n",
        "    inst++;\n",
        "    cin >> n;                            // Leer el tamaño del arreglo\n",
        "    inst++;\n",
        "\n",
        "    int numero_M = 0;                    // Mayor número\n",
        "    inst++;\n",
        "    int segundo_Numero_M = 0;            // Segundo mayor número\n",
        "    inst++;\n",
        "\n",
        "    inst++;                              // Inicialización del bucle\n",
        "    inst += 2 * n;                       // Por las iteraciones del bucle\n",
        "    for (int i = 0; i < n; ++i) {        // Iterar sobre el arreglo\n",
        "        int comp = 0;                    // Número actual\n",
        "        inst++;\n",
        "        cin >> comp;                     // Leer el número actual\n",
        "        inst++;\n",
        "        inst++;\n",
        "        if (comp > numero_M) {           // Si el número actual es mayor que el mayor conocido\n",
        "            segundo_Numero_M = numero_M; // Actualizar el segundo mayor\n",
        "            inst++;\n",
        "            numero_M = comp;             // Actualizar el mayor\n",
        "            inst++;\n",
        "        } else if (comp > segundo_Numero_M) { // Si el número actual es mayor que el segundo mayor\n",
        "            inst++;\n",
        "            segundo_Numero_M = comp;     // Actualizar el segundo mayor\n",
        "            inst++;\n",
        "        }\n",
        "    }\n",
        "\n",
        "    cout << numero_M * segundo_Numero_M << \"\\n\"; // Producto del mayor y segundo mayor\n",
        "    inst++;\n",
        "    cout << \"Numero de Instrucciones: \" << inst << \"\\n\"; // Imprimir el conteo de instrucciones\n",
        "    return 0;\n",
        "}\n"
      ]
    },
    {
      "cell_type": "code",
      "source": [
        "!g++ max_pairwise_super_efficient_count.cpp -o max_pairwise_super_efficient_count"
      ],
      "metadata": {
        "id": "mBHEdD6avzfJ"
      },
      "execution_count": 173,
      "outputs": []
    },
    {
      "cell_type": "code",
      "source": [
        "!./max_pairwise_super_efficient_count < input1.txt\n",
        "!./max_pairwise_super_efficient_count < input2.txt\n",
        "!./max_pairwise_super_efficient_count < input3.txt"
      ],
      "metadata": {
        "id": "7RLkQ9xMv2_u",
        "outputId": "363a9756-e936-4261-8188-375ad2dfa7fd",
        "colab": {
          "base_uri": "https://localhost:8080/"
        }
      },
      "execution_count": 174,
      "outputs": [
        {
          "output_type": "stream",
          "name": "stdout",
          "text": [
            "90\n",
            "Numero de Instrucciones: 76\n",
            "90\n",
            "Numero de Instrucciones: 60\n",
            "1345294336\n",
            "Numero de Instrucciones: 46\n"
          ]
        }
      ]
    },
    {
      "cell_type": "markdown",
      "metadata": {
        "id": "yae7sSm2IG9U"
      },
      "source": [
        "Calculate estimated time by instruction and number of instructions by second"
      ]
    },
    {
      "cell_type": "code",
      "execution_count": 144,
      "metadata": {
        "id": "suouY7BYL2dz",
        "outputId": "cb12d092-b939-4b9c-9f4c-fb117bcfd850",
        "colab": {
          "base_uri": "https://localhost:8080/"
        }
      },
      "outputs": [
        {
          "output_type": "stream",
          "name": "stdout",
          "text": [
            "Tiempo por instruccion: 6.521739130434783e-05\n",
            "Instrucciones por segundo: 15333.333333333332\n"
          ]
        }
      ],
      "source": [
        "t_por_instruccion = 0.003 / 46\n",
        "instrucciones_por_segundo = 1 / t_por_instruccion\n",
        "print(f\"Tiempo por instruccion: {t_por_instruccion}\")\n",
        "print(f\"Instrucciones por segundo: {instrucciones_por_segundo}\")"
      ]
    },
    {
      "cell_type": "markdown",
      "metadata": {
        "id": "sy33CNNfPxcE"
      },
      "source": [
        "### Super efficient solution in Python\n",
        "\n",
        "Whitout storing the list in memory and whitout calling a function, add in each line a coment with the number of intstrcution that are executed in that line"
      ]
    },
    {
      "cell_type": "code",
      "execution_count": 145,
      "metadata": {
        "id": "_mOjJwKrPxcJ",
        "outputId": "1b81b412-d26d-4e13-83e0-00e58d79fbf3",
        "colab": {
          "base_uri": "https://localhost:8080/"
        }
      },
      "outputs": [
        {
          "output_type": "stream",
          "name": "stdout",
          "text": [
            "Writing max_pairwise_super_efficient.py\n"
          ]
        }
      ],
      "source": [
        "\n",
        "%%writefile max_pairwise_super_efficient.py\n",
        "n = int(input())                            # 1\n",
        "numero_M = 0                                # 1\n",
        "segundo_Numero_M = 0                        # 1\n",
        "\n",
        "for comp in input().split():                 # 3 + 2n\n",
        "\n",
        "    comp = int(comp)                          # n\n",
        "\n",
        "    if comp > numero_M:                    # n\n",
        "        segundo_Numero_M = numero_M      # 0 o n\n",
        "        numero_M = comp                  # 0 o n\n",
        "    elif comp > segundo_Numero_M:           # n\n",
        "        segundo_Numero_M = comp             # 0 o n\n",
        "print(f\"{numero_M * segundo_Numero_M}\")"
      ]
    },
    {
      "cell_type": "markdown",
      "metadata": {
        "id": "K08Eow0hPxcJ"
      },
      "source": [
        "Test with inputs 1 and 2\n",
        "\n",
        "\n"
      ]
    },
    {
      "cell_type": "code",
      "execution_count": 146,
      "metadata": {
        "id": "1_mUee2cPxcJ",
        "outputId": "f7d4606f-c3ea-4455-968d-c9eeca0dc6cd",
        "colab": {
          "base_uri": "https://localhost:8080/"
        }
      },
      "outputs": [
        {
          "output_type": "stream",
          "name": "stdout",
          "text": [
            "90\n",
            "90\n"
          ]
        }
      ],
      "source": [
        "!python max_pairwise_super_efficient.py < input1.txt\n",
        "!python max_pairwise_super_efficient.py < input2.txt"
      ]
    },
    {
      "cell_type": "markdown",
      "metadata": {
        "id": "CE5DB3CmPxcJ"
      },
      "source": [
        "Test and time it with input 3"
      ]
    },
    {
      "cell_type": "code",
      "execution_count": 147,
      "metadata": {
        "id": "lyLhFOoePxcJ",
        "outputId": "93f25716-9ae5-455e-8422-c8de61cd0565",
        "colab": {
          "base_uri": "https://localhost:8080/"
        }
      },
      "outputs": [
        {
          "output_type": "stream",
          "name": "stdout",
          "text": [
            "40000000000\n",
            "CPU times: user 7.86 ms, sys: 998 µs, total: 8.86 ms\n",
            "Wall time: 105 ms\n"
          ]
        }
      ],
      "source": [
        "%%time\n",
        "!python max_pairwise_super_efficient.py < input3.txt"
      ]
    },
    {
      "cell_type": "markdown",
      "metadata": {
        "id": "HZEI236lPxcK"
      },
      "source": [
        "20 stress tests"
      ]
    },
    {
      "cell_type": "code",
      "execution_count": 148,
      "metadata": {
        "id": "_LoV-p4zPxcK",
        "outputId": "421cc83a-81ff-4df2-8b10-2896a9cd27b9",
        "colab": {
          "base_uri": "https://localhost:8080/"
        }
      },
      "outputs": [
        {
          "output_type": "stream",
          "name": "stdout",
          "text": [
            "Writing max_pairwise_super_efficient_stress_tests.py\n"
          ]
        }
      ],
      "source": [
        "%%writefile max_pairwise_super_efficient_stress_tests.py\n",
        "import random\n",
        "\n",
        "for i in range(20):\n",
        "  n = random.randint(2, 19)\n",
        "  numero_M = 0                                # 1\n",
        "  segundo_Numero_M = 0\n",
        "  for j in range(n):\n",
        "    comp=random.randint(17, 25631)\n",
        "    if comp > numero_M:                    # n\n",
        "      segundo_Numero_M = numero_M      # 0 o n\n",
        "      numero_M = comp                  # 0 o n\n",
        "    elif comp > segundo_Numero_M:           # n\n",
        "      segundo_Numero_M = comp             # 0 o n\n",
        "  print(f\"{i+1}. n= {n} Producto= {numero_M * segundo_Numero_M}\")"
      ]
    },
    {
      "cell_type": "code",
      "source": [
        "!python max_pairwise_super_efficient_stress_tests.py"
      ],
      "metadata": {
        "id": "oL7gNYS2i9Zh",
        "outputId": "8b9db040-fd00-4a23-99af-e998c5dbc11b",
        "colab": {
          "base_uri": "https://localhost:8080/"
        }
      },
      "execution_count": 149,
      "outputs": [
        {
          "output_type": "stream",
          "name": "stdout",
          "text": [
            "1. n= 8 Producto= 517111596\n",
            "2. n= 10 Producto= 587190093\n",
            "3. n= 14 Producto= 626635213\n",
            "4. n= 6 Producto= 462784393\n",
            "5. n= 2 Producto= 62283312\n",
            "6. n= 16 Producto= 477438990\n",
            "7. n= 17 Producto= 530141850\n",
            "8. n= 5 Producto= 556708578\n",
            "9. n= 14 Producto= 615321731\n",
            "10. n= 11 Producto= 511319672\n",
            "11. n= 2 Producto= 142076800\n",
            "12. n= 2 Producto= 209123200\n",
            "13. n= 6 Producto= 304888155\n",
            "14. n= 4 Producto= 367242564\n",
            "15. n= 14 Producto= 469674063\n",
            "16. n= 11 Producto= 614074875\n",
            "17. n= 6 Producto= 230108260\n",
            "18. n= 19 Producto= 550194052\n",
            "19. n= 2 Producto= 215708612\n",
            "20. n= 6 Producto= 481224060\n"
          ]
        }
      ]
    },
    {
      "cell_type": "markdown",
      "metadata": {
        "id": "IRVdP3iuPxcK"
      },
      "source": [
        "Count executed instructions in code and verify with inputs 1,2 and 3"
      ]
    },
    {
      "cell_type": "code",
      "source": [
        "%%writefile max_pairwise_super_efficient_count.py\n",
        "instrucciones=0\n",
        "n = int(input())                            # 1\n",
        "instrucciones+=1\n",
        "numero_M = 0                                # 1\n",
        "instrucciones+=1\n",
        "segundo_Numero_M = 0                        # 1\n",
        "instrucciones+=1\n",
        "instrucciones+=1\n",
        "instrucciones+=2*n\n",
        "for comp in input().split():                 # 1 + 2n\n",
        "\n",
        "    comp = int(comp)                          # n\n",
        "    instrucciones+=1\n",
        "\n",
        "    instrucciones+=1\n",
        "    if comp > numero_M:                    # n\n",
        "        segundo_Numero_M = numero_M      # 0 o n\n",
        "        instrucciones+=1\n",
        "        numero_M = comp                  # 0 o n\n",
        "        instrucciones+=1\n",
        "    elif comp > segundo_Numero_M:           # 0 o n\n",
        "        instrucciones+=1\n",
        "        segundo_Numero_M = comp             # 0 o n\n",
        "        instrucciones+=1\n",
        "\n",
        "print(f\"{numero_M * segundo_Numero_M}\")\n",
        "print(f\"Instrucciones totales: {instrucciones} \")"
      ],
      "metadata": {
        "id": "tCTsS_nLkOpI",
        "outputId": "2268c0e0-b6a3-44a0-df35-555a92235d7b",
        "colab": {
          "base_uri": "https://localhost:8080/"
        }
      },
      "execution_count": 150,
      "outputs": [
        {
          "output_type": "stream",
          "name": "stdout",
          "text": [
            "Writing max_pairwise_super_efficient_count.py\n"
          ]
        }
      ]
    },
    {
      "cell_type": "code",
      "source": [
        "!python max_pairwise_super_efficient_count.py < input1.txt\n",
        "!python max_pairwise_super_efficient_count.py < input2.txt\n",
        "!python max_pairwise_super_efficient_count.py < input3.txt"
      ],
      "metadata": {
        "id": "Yv_QicTEjFXh",
        "outputId": "6ef115f7-de76-483f-cd0f-3cfebd859771",
        "colab": {
          "base_uri": "https://localhost:8080/"
        }
      },
      "execution_count": 151,
      "outputs": [
        {
          "output_type": "stream",
          "name": "stdout",
          "text": [
            "90\n",
            "Instrucciones totales: 64 \n",
            "90\n",
            "Instrucciones totales: 48 \n",
            "40000000000\n",
            "Instrucciones totales: 38 \n"
          ]
        }
      ]
    },
    {
      "cell_type": "markdown",
      "source": [
        "## Calculate estimated time by instruction and number of instructions by second"
      ],
      "metadata": {
        "id": "1peR1EPJkWxO"
      }
    },
    {
      "cell_type": "code",
      "source": [
        "t_por_instruccion = 0.00405 / 38\n",
        "instrucciones_por_segundo = 1 / t_por_instruccion\n",
        "print(f\"Tiempo por instruccion: {t_por_instruccion}\")\n",
        "print(f\"Instrucciones por segundo: {instrucciones_por_segundo}\")"
      ],
      "metadata": {
        "id": "lWwbSo1lkdSY",
        "outputId": "cbc94b8b-f6e7-42ae-9d0f-7ae56705d5c8",
        "colab": {
          "base_uri": "https://localhost:8080/"
        }
      },
      "execution_count": 152,
      "outputs": [
        {
          "output_type": "stream",
          "name": "stdout",
          "text": [
            "Tiempo por instruccion: 0.00010657894736842105\n",
            "Instrucciones por segundo: 9382.716049382716\n"
          ]
        }
      ]
    },
    {
      "cell_type": "markdown",
      "source": [
        "### Estimate and verify the maximun n that can be solved in 1 second"
      ],
      "metadata": {
        "id": "uZGdjUwuaO4v"
      }
    },
    {
      "cell_type": "code",
      "source": [
        "\n",
        "%%writefile maximun_n_that_can_be_solved_super_efficient.py\n",
        "import random\n",
        "\n",
        "n = 900000\n",
        "numero_M = 0                                # 1\n",
        "segundo_Numero_M = 0\n",
        "for j in range(n):\n",
        "  comp=random.randint(17, 25631)\n",
        "  if comp > numero_M:                    # n\n",
        "    segundo_Numero_M = numero_M      # 0 o n\n",
        "    numero_M = comp                  # 0 o n\n",
        "  elif comp > segundo_Numero_M:           # n\n",
        "    segundo_Numero_M = comp             # 0 o n\n",
        "print(f\"Producto= {numero_M * segundo_Numero_M}\")"
      ],
      "metadata": {
        "id": "FjqFevOaaOVz",
        "outputId": "4016d5af-4c5c-45c2-ac6f-b09669e74bf2",
        "colab": {
          "base_uri": "https://localhost:8080/"
        }
      },
      "execution_count": 153,
      "outputs": [
        {
          "output_type": "stream",
          "name": "stdout",
          "text": [
            "Writing maximun_n_that_can_be_solved_super_efficient.py\n"
          ]
        }
      ]
    },
    {
      "cell_type": "code",
      "source": [
        "%%time\n",
        "!python maximun_n_that_can_be_solved_super_efficient.py"
      ],
      "metadata": {
        "id": "R6IVmpYKh0jq",
        "outputId": "8d57d619-b64f-4ad1-d353-860f1fd444d7",
        "colab": {
          "base_uri": "https://localhost:8080/"
        }
      },
      "execution_count": 154,
      "outputs": [
        {
          "output_type": "stream",
          "name": "stdout",
          "text": [
            "Producto= 656948161\n",
            "CPU times: user 22.9 ms, sys: 1.46 ms, total: 24.4 ms\n",
            "Wall time: 1.81 s\n"
          ]
        }
      ]
    },
    {
      "cell_type": "markdown",
      "source": [
        "## Perform 100 randomized automated tests in C++ and Python with a porgram  compares the answers,for the same 100 random input instances, of the super efficient solution $(T(n) < 10 n = O(n))$ against the sorting solution  $(T(n)  = O(n \\lg{n}))$,  if the answers are not the same stops and displays \"Error\" listing  the input and the two answers; if the 100 tests are completed without stoping displays \"Pass\"."
      ],
      "metadata": {
        "id": "4hHRQMXzW6oR"
      }
    },
    {
      "cell_type": "code",
      "source": [
        "%%writefile max_pairwise_super_efficient_against_sorting_stress_tests.py\n",
        "import random\n",
        "\n",
        "for i in range(100):\n",
        "  n = random.randint(2, 99)\n",
        "  numero_M = 0                                # 1\n",
        "  segundo_Numero_M = 0\n",
        "  lista = []\n",
        "  for j in range(n):\n",
        "    comp=random.randint(17, 25631)\n",
        "    lista.append(comp)\n",
        "    if comp > numero_M:                    # n\n",
        "      segundo_Numero_M = numero_M      # 0 o n\n",
        "      numero_M = comp                  # 0 o n\n",
        "    elif comp > segundo_Numero_M:           # n\n",
        "      segundo_Numero_M = comp             # 0 o n\n",
        "  lista.sort()\n",
        "  sol_sorting=lista[n - 1] * lista[n - 2]\n",
        "  sol_super_e = numero_M * segundo_Numero_M\n",
        "\n",
        "\n",
        "  if sol_sorting != sol_super_e:\n",
        "    print(\"Error\")\n",
        "    break\n",
        "  else:\n",
        "      print(f\"{i+1}. SUPER EFFICENT SOLITION: n= {n} Product= {numero_M * segundo_Numero_M}\")\n",
        "      print(f\"{i+1}. SORTING SOLUTION: n= {n} Product: {lista[n - 1] * lista[n - 2]}\")\n",
        "  if i==99:\n",
        "    print(\"Pass\")"
      ],
      "metadata": {
        "id": "X0iQpIZeheM4",
        "outputId": "b82d13bc-dec7-479b-d5ef-f4c8e49b169d",
        "colab": {
          "base_uri": "https://localhost:8080/"
        }
      },
      "execution_count": 155,
      "outputs": [
        {
          "output_type": "stream",
          "name": "stdout",
          "text": [
            "Writing max_pairwise_super_efficient_against_sorting_stress_tests.py\n"
          ]
        }
      ]
    },
    {
      "cell_type": "code",
      "source": [
        "!python max_pairwise_super_efficient_against_sorting_stress_tests.py"
      ],
      "metadata": {
        "id": "DzlQNdcuhkO8",
        "outputId": "bf5aa79b-ac8c-46b9-f322-1cbf406919ca",
        "colab": {
          "base_uri": "https://localhost:8080/"
        }
      },
      "execution_count": 156,
      "outputs": [
        {
          "output_type": "stream",
          "name": "stdout",
          "text": [
            "1. SUPER EFFICENT SOLITION: n= 86 Product= 630550657\n",
            "1. SORTING SOLUTION: n= 86 Product: 630550657\n",
            "2. SUPER EFFICENT SOLITION: n= 74 Product= 638716064\n",
            "2. SORTING SOLUTION: n= 74 Product: 638716064\n",
            "3. SUPER EFFICENT SOLITION: n= 18 Product= 599686675\n",
            "3. SORTING SOLUTION: n= 18 Product: 599686675\n",
            "4. SUPER EFFICENT SOLITION: n= 4 Product= 401862930\n",
            "4. SORTING SOLUTION: n= 4 Product: 401862930\n",
            "5. SUPER EFFICENT SOLITION: n= 18 Product= 640039040\n",
            "5. SORTING SOLUTION: n= 18 Product: 640039040\n",
            "6. SUPER EFFICENT SOLITION: n= 12 Product= 526404592\n",
            "6. SORTING SOLUTION: n= 12 Product: 526404592\n",
            "7. SUPER EFFICENT SOLITION: n= 8 Product= 529542702\n",
            "7. SORTING SOLUTION: n= 8 Product: 529542702\n",
            "8. SUPER EFFICENT SOLITION: n= 12 Product= 496893830\n",
            "8. SORTING SOLUTION: n= 12 Product: 496893830\n",
            "9. SUPER EFFICENT SOLITION: n= 7 Product= 450194280\n",
            "9. SORTING SOLUTION: n= 7 Product: 450194280\n",
            "10. SUPER EFFICENT SOLITION: n= 37 Product= 630920897\n",
            "10. SORTING SOLUTION: n= 37 Product: 630920897\n",
            "11. SUPER EFFICENT SOLITION: n= 9 Product= 575125696\n",
            "11. SORTING SOLUTION: n= 9 Product: 575125696\n",
            "12. SUPER EFFICENT SOLITION: n= 38 Product= 559169649\n",
            "12. SORTING SOLUTION: n= 38 Product: 559169649\n",
            "13. SUPER EFFICENT SOLITION: n= 84 Product= 654412272\n",
            "13. SORTING SOLUTION: n= 84 Product: 654412272\n",
            "14. SUPER EFFICENT SOLITION: n= 19 Product= 644730255\n",
            "14. SORTING SOLUTION: n= 19 Product: 644730255\n",
            "15. SUPER EFFICENT SOLITION: n= 92 Product= 647618496\n",
            "15. SORTING SOLUTION: n= 92 Product: 647618496\n",
            "16. SUPER EFFICENT SOLITION: n= 9 Product= 515434424\n",
            "16. SORTING SOLUTION: n= 9 Product: 515434424\n",
            "17. SUPER EFFICENT SOLITION: n= 66 Product= 622165050\n",
            "17. SORTING SOLUTION: n= 66 Product: 622165050\n",
            "18. SUPER EFFICENT SOLITION: n= 12 Product= 623708880\n",
            "18. SORTING SOLUTION: n= 12 Product: 623708880\n",
            "19. SUPER EFFICENT SOLITION: n= 92 Product= 640196013\n",
            "19. SORTING SOLUTION: n= 92 Product: 640196013\n",
            "20. SUPER EFFICENT SOLITION: n= 62 Product= 633299738\n",
            "20. SORTING SOLUTION: n= 62 Product: 633299738\n",
            "21. SUPER EFFICENT SOLITION: n= 64 Product= 609941920\n",
            "21. SORTING SOLUTION: n= 64 Product: 609941920\n",
            "22. SUPER EFFICENT SOLITION: n= 45 Product= 595991865\n",
            "22. SORTING SOLUTION: n= 45 Product: 595991865\n",
            "23. SUPER EFFICENT SOLITION: n= 42 Product= 624649968\n",
            "23. SORTING SOLUTION: n= 42 Product: 624649968\n",
            "24. SUPER EFFICENT SOLITION: n= 60 Product= 600679632\n",
            "24. SORTING SOLUTION: n= 60 Product: 600679632\n",
            "25. SUPER EFFICENT SOLITION: n= 86 Product= 639992745\n",
            "25. SORTING SOLUTION: n= 86 Product: 639992745\n",
            "26. SUPER EFFICENT SOLITION: n= 35 Product= 635440416\n",
            "26. SORTING SOLUTION: n= 35 Product: 635440416\n",
            "27. SUPER EFFICENT SOLITION: n= 67 Product= 587805012\n",
            "27. SORTING SOLUTION: n= 67 Product: 587805012\n",
            "28. SUPER EFFICENT SOLITION: n= 56 Product= 636999840\n",
            "28. SORTING SOLUTION: n= 56 Product: 636999840\n",
            "29. SUPER EFFICENT SOLITION: n= 92 Product= 631653981\n",
            "29. SORTING SOLUTION: n= 92 Product: 631653981\n",
            "30. SUPER EFFICENT SOLITION: n= 95 Product= 639405750\n",
            "30. SORTING SOLUTION: n= 95 Product: 639405750\n",
            "31. SUPER EFFICENT SOLITION: n= 24 Product= 573734754\n",
            "31. SORTING SOLUTION: n= 24 Product: 573734754\n",
            "32. SUPER EFFICENT SOLITION: n= 52 Product= 601253360\n",
            "32. SORTING SOLUTION: n= 52 Product: 601253360\n",
            "33. SUPER EFFICENT SOLITION: n= 50 Product= 639451260\n",
            "33. SORTING SOLUTION: n= 50 Product: 639451260\n",
            "34. SUPER EFFICENT SOLITION: n= 30 Product= 603389052\n",
            "34. SORTING SOLUTION: n= 30 Product: 603389052\n",
            "35. SUPER EFFICENT SOLITION: n= 14 Product= 539251603\n",
            "35. SORTING SOLUTION: n= 14 Product: 539251603\n",
            "36. SUPER EFFICENT SOLITION: n= 90 Product= 639373147\n",
            "36. SORTING SOLUTION: n= 90 Product: 639373147\n",
            "37. SUPER EFFICENT SOLITION: n= 4 Product= 503364020\n",
            "37. SORTING SOLUTION: n= 4 Product: 503364020\n",
            "38. SUPER EFFICENT SOLITION: n= 33 Product= 588483660\n",
            "38. SORTING SOLUTION: n= 33 Product: 588483660\n",
            "39. SUPER EFFICENT SOLITION: n= 63 Product= 624582414\n",
            "39. SORTING SOLUTION: n= 63 Product: 624582414\n",
            "40. SUPER EFFICENT SOLITION: n= 46 Product= 595231875\n",
            "40. SORTING SOLUTION: n= 46 Product: 595231875\n",
            "41. SUPER EFFICENT SOLITION: n= 49 Product= 615073104\n",
            "41. SORTING SOLUTION: n= 49 Product: 615073104\n",
            "42. SUPER EFFICENT SOLITION: n= 79 Product= 642918272\n",
            "42. SORTING SOLUTION: n= 79 Product: 642918272\n",
            "43. SUPER EFFICENT SOLITION: n= 58 Product= 631194960\n",
            "43. SORTING SOLUTION: n= 58 Product: 631194960\n",
            "44. SUPER EFFICENT SOLITION: n= 65 Product= 619968594\n",
            "44. SORTING SOLUTION: n= 65 Product: 619968594\n",
            "45. SUPER EFFICENT SOLITION: n= 60 Product= 597258375\n",
            "45. SORTING SOLUTION: n= 60 Product: 597258375\n",
            "46. SUPER EFFICENT SOLITION: n= 23 Product= 631431412\n",
            "46. SORTING SOLUTION: n= 23 Product: 631431412\n",
            "47. SUPER EFFICENT SOLITION: n= 45 Product= 618261194\n",
            "47. SORTING SOLUTION: n= 45 Product: 618261194\n",
            "48. SUPER EFFICENT SOLITION: n= 18 Product= 531319714\n",
            "48. SORTING SOLUTION: n= 18 Product: 531319714\n",
            "49. SUPER EFFICENT SOLITION: n= 77 Product= 645893618\n",
            "49. SORTING SOLUTION: n= 77 Product: 645893618\n",
            "50. SUPER EFFICENT SOLITION: n= 85 Product= 628159292\n",
            "50. SORTING SOLUTION: n= 85 Product: 628159292\n",
            "51. SUPER EFFICENT SOLITION: n= 35 Product= 604254672\n",
            "51. SORTING SOLUTION: n= 35 Product: 604254672\n",
            "52. SUPER EFFICENT SOLITION: n= 64 Product= 644485608\n",
            "52. SORTING SOLUTION: n= 64 Product: 644485608\n",
            "53. SUPER EFFICENT SOLITION: n= 14 Product= 326050592\n",
            "53. SORTING SOLUTION: n= 14 Product: 326050592\n",
            "54. SUPER EFFICENT SOLITION: n= 47 Product= 587588832\n",
            "54. SORTING SOLUTION: n= 47 Product: 587588832\n",
            "55. SUPER EFFICENT SOLITION: n= 61 Product= 643240826\n",
            "55. SORTING SOLUTION: n= 61 Product: 643240826\n",
            "56. SUPER EFFICENT SOLITION: n= 66 Product= 651419040\n",
            "56. SORTING SOLUTION: n= 66 Product: 651419040\n",
            "57. SUPER EFFICENT SOLITION: n= 68 Product= 633265008\n",
            "57. SORTING SOLUTION: n= 68 Product: 633265008\n",
            "58. SUPER EFFICENT SOLITION: n= 62 Product= 652036189\n",
            "58. SORTING SOLUTION: n= 62 Product: 652036189\n",
            "59. SUPER EFFICENT SOLITION: n= 27 Product= 591904390\n",
            "59. SORTING SOLUTION: n= 27 Product: 591904390\n",
            "60. SUPER EFFICENT SOLITION: n= 16 Product= 622664080\n",
            "60. SORTING SOLUTION: n= 16 Product: 622664080\n",
            "61. SUPER EFFICENT SOLITION: n= 93 Product= 643353954\n",
            "61. SORTING SOLUTION: n= 93 Product: 643353954\n",
            "62. SUPER EFFICENT SOLITION: n= 65 Product= 621174072\n",
            "62. SORTING SOLUTION: n= 65 Product: 621174072\n",
            "63. SUPER EFFICENT SOLITION: n= 92 Product= 634825420\n",
            "63. SORTING SOLUTION: n= 92 Product: 634825420\n",
            "64. SUPER EFFICENT SOLITION: n= 23 Product= 637381070\n",
            "64. SORTING SOLUTION: n= 23 Product: 637381070\n",
            "65. SUPER EFFICENT SOLITION: n= 10 Product= 427740110\n",
            "65. SORTING SOLUTION: n= 10 Product: 427740110\n",
            "66. SUPER EFFICENT SOLITION: n= 96 Product= 639429453\n",
            "66. SORTING SOLUTION: n= 96 Product: 639429453\n",
            "67. SUPER EFFICENT SOLITION: n= 10 Product= 340563736\n",
            "67. SORTING SOLUTION: n= 10 Product: 340563736\n",
            "68. SUPER EFFICENT SOLITION: n= 94 Product= 638130365\n",
            "68. SORTING SOLUTION: n= 94 Product: 638130365\n",
            "69. SUPER EFFICENT SOLITION: n= 78 Product= 640233345\n",
            "69. SORTING SOLUTION: n= 78 Product: 640233345\n",
            "70. SUPER EFFICENT SOLITION: n= 89 Product= 642646920\n",
            "70. SORTING SOLUTION: n= 89 Product: 642646920\n",
            "71. SUPER EFFICENT SOLITION: n= 70 Product= 646318062\n",
            "71. SORTING SOLUTION: n= 70 Product: 646318062\n",
            "72. SUPER EFFICENT SOLITION: n= 10 Product= 539245890\n",
            "72. SORTING SOLUTION: n= 10 Product: 539245890\n",
            "73. SUPER EFFICENT SOLITION: n= 33 Product= 605281191\n",
            "73. SORTING SOLUTION: n= 33 Product: 605281191\n",
            "74. SUPER EFFICENT SOLITION: n= 73 Product= 651644326\n",
            "74. SORTING SOLUTION: n= 73 Product: 651644326\n",
            "75. SUPER EFFICENT SOLITION: n= 3 Product= 189170932\n",
            "75. SORTING SOLUTION: n= 3 Product: 189170932\n",
            "76. SUPER EFFICENT SOLITION: n= 42 Product= 641534916\n",
            "76. SORTING SOLUTION: n= 42 Product: 641534916\n",
            "77. SUPER EFFICENT SOLITION: n= 75 Product= 623875000\n",
            "77. SORTING SOLUTION: n= 75 Product: 623875000\n",
            "78. SUPER EFFICENT SOLITION: n= 82 Product= 651420720\n",
            "78. SORTING SOLUTION: n= 82 Product: 651420720\n",
            "79. SUPER EFFICENT SOLITION: n= 79 Product= 630355973\n",
            "79. SORTING SOLUTION: n= 79 Product: 630355973\n",
            "80. SUPER EFFICENT SOLITION: n= 2 Product= 44684928\n",
            "80. SORTING SOLUTION: n= 2 Product: 44684928\n",
            "81. SUPER EFFICENT SOLITION: n= 5 Product= 359901292\n",
            "81. SORTING SOLUTION: n= 5 Product: 359901292\n",
            "82. SUPER EFFICENT SOLITION: n= 58 Product= 624568752\n",
            "82. SORTING SOLUTION: n= 58 Product: 624568752\n",
            "83. SUPER EFFICENT SOLITION: n= 87 Product= 626373451\n",
            "83. SORTING SOLUTION: n= 87 Product: 626373451\n",
            "84. SUPER EFFICENT SOLITION: n= 7 Product= 459215160\n",
            "84. SORTING SOLUTION: n= 7 Product: 459215160\n",
            "85. SUPER EFFICENT SOLITION: n= 39 Product= 587235292\n",
            "85. SORTING SOLUTION: n= 39 Product: 587235292\n",
            "86. SUPER EFFICENT SOLITION: n= 92 Product= 599067687\n",
            "86. SORTING SOLUTION: n= 92 Product: 599067687\n",
            "87. SUPER EFFICENT SOLITION: n= 27 Product= 545660145\n",
            "87. SORTING SOLUTION: n= 27 Product: 545660145\n",
            "88. SUPER EFFICENT SOLITION: n= 62 Product= 620624284\n",
            "88. SORTING SOLUTION: n= 62 Product: 620624284\n",
            "89. SUPER EFFICENT SOLITION: n= 81 Product= 643535375\n",
            "89. SORTING SOLUTION: n= 81 Product: 643535375\n",
            "90. SUPER EFFICENT SOLITION: n= 31 Product= 610275048\n",
            "90. SORTING SOLUTION: n= 31 Product: 610275048\n",
            "91. SUPER EFFICENT SOLITION: n= 66 Product= 654898605\n",
            "91. SORTING SOLUTION: n= 66 Product: 654898605\n",
            "92. SUPER EFFICENT SOLITION: n= 75 Product= 631505236\n",
            "92. SORTING SOLUTION: n= 75 Product: 631505236\n",
            "93. SUPER EFFICENT SOLITION: n= 34 Product= 537374941\n",
            "93. SORTING SOLUTION: n= 34 Product: 537374941\n",
            "94. SUPER EFFICENT SOLITION: n= 16 Product= 491192370\n",
            "94. SORTING SOLUTION: n= 16 Product: 491192370\n",
            "95. SUPER EFFICENT SOLITION: n= 31 Product= 616550558\n",
            "95. SORTING SOLUTION: n= 31 Product: 616550558\n",
            "96. SUPER EFFICENT SOLITION: n= 86 Product= 655129618\n",
            "96. SORTING SOLUTION: n= 86 Product: 655129618\n",
            "97. SUPER EFFICENT SOLITION: n= 40 Product= 620931370\n",
            "97. SORTING SOLUTION: n= 40 Product: 620931370\n",
            "98. SUPER EFFICENT SOLITION: n= 65 Product= 625450080\n",
            "98. SORTING SOLUTION: n= 65 Product: 625450080\n",
            "99. SUPER EFFICENT SOLITION: n= 30 Product= 616407106\n",
            "99. SORTING SOLUTION: n= 30 Product: 616407106\n",
            "100. SUPER EFFICENT SOLITION: n= 80 Product= 615585192\n",
            "100. SORTING SOLUTION: n= 80 Product: 615585192\n",
            "Pass\n"
          ]
        }
      ]
    }
  ],
  "metadata": {
    "colab": {
      "provenance": [],
      "include_colab_link": true
    },
    "kernelspec": {
      "display_name": "Python 3",
      "name": "python3"
    },
    "language_info": {
      "name": "python"
    }
  },
  "nbformat": 4,
  "nbformat_minor": 0
}