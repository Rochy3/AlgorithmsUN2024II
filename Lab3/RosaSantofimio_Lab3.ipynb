{
  "cells": [
    {
      "cell_type": "markdown",
      "metadata": {
        "id": "view-in-github",
        "colab_type": "text"
      },
      "source": [
        "<a href=\"https://colab.research.google.com/github/Rochy3/AlgorithmsUN2024II/blob/main/Lab3/RosaSantofimio_Lab3.ipynb\" target=\"_parent\"><img src=\"https://colab.research.google.com/assets/colab-badge.svg\" alt=\"Open In Colab\"/></a>"
      ]
    },
    {
      "cell_type": "code",
      "execution_count": 1,
      "metadata": {
        "id": "im-VVd1__7VU",
        "colab": {
          "base_uri": "https://localhost:8080/"
        },
        "outputId": "9f46d1f9-4cbc-4963-be00-5b8a96f993ce"
      },
      "outputs": [
        {
          "output_type": "stream",
          "name": "stdout",
          "text": [
            "processor\t: 0\n",
            "vendor_id\t: GenuineIntel\n",
            "cpu family\t: 6\n",
            "model\t\t: 79\n",
            "model name\t: Intel(R) Xeon(R) CPU @ 2.20GHz\n",
            "stepping\t: 0\n",
            "microcode\t: 0xffffffff\n",
            "cpu MHz\t\t: 2199.998\n",
            "cache size\t: 56320 KB\n",
            "physical id\t: 0\n",
            "siblings\t: 2\n",
            "core id\t\t: 0\n",
            "cpu cores\t: 1\n",
            "apicid\t\t: 0\n",
            "initial apicid\t: 0\n",
            "fpu\t\t: yes\n",
            "fpu_exception\t: yes\n",
            "cpuid level\t: 13\n",
            "wp\t\t: yes\n",
            "flags\t\t: fpu vme de pse tsc msr pae mce cx8 apic sep mtrr pge mca cmov pat pse36 clflush mmx fxsr sse sse2 ss ht syscall nx pdpe1gb rdtscp lm constant_tsc rep_good nopl xtopology nonstop_tsc cpuid tsc_known_freq pni pclmulqdq ssse3 fma cx16 pcid sse4_1 sse4_2 x2apic movbe popcnt aes xsave avx f16c rdrand hypervisor lahf_lm abm 3dnowprefetch invpcid_single ssbd ibrs ibpb stibp fsgsbase tsc_adjust bmi1 hle avx2 smep bmi2 erms invpcid rtm rdseed adx smap xsaveopt arat md_clear arch_capabilities\n",
            "bugs\t\t: cpu_meltdown spectre_v1 spectre_v2 spec_store_bypass l1tf mds swapgs taa mmio_stale_data retbleed bhi\n",
            "bogomips\t: 4399.99\n",
            "clflush size\t: 64\n",
            "cache_alignment\t: 64\n",
            "address sizes\t: 46 bits physical, 48 bits virtual\n",
            "power management:\n",
            "\n",
            "processor\t: 1\n",
            "vendor_id\t: GenuineIntel\n",
            "cpu family\t: 6\n",
            "model\t\t: 79\n",
            "model name\t: Intel(R) Xeon(R) CPU @ 2.20GHz\n",
            "stepping\t: 0\n",
            "microcode\t: 0xffffffff\n",
            "cpu MHz\t\t: 2199.998\n",
            "cache size\t: 56320 KB\n",
            "physical id\t: 0\n",
            "siblings\t: 2\n",
            "core id\t\t: 0\n",
            "cpu cores\t: 1\n",
            "apicid\t\t: 1\n",
            "initial apicid\t: 1\n",
            "fpu\t\t: yes\n",
            "fpu_exception\t: yes\n",
            "cpuid level\t: 13\n",
            "wp\t\t: yes\n",
            "flags\t\t: fpu vme de pse tsc msr pae mce cx8 apic sep mtrr pge mca cmov pat pse36 clflush mmx fxsr sse sse2 ss ht syscall nx pdpe1gb rdtscp lm constant_tsc rep_good nopl xtopology nonstop_tsc cpuid tsc_known_freq pni pclmulqdq ssse3 fma cx16 pcid sse4_1 sse4_2 x2apic movbe popcnt aes xsave avx f16c rdrand hypervisor lahf_lm abm 3dnowprefetch invpcid_single ssbd ibrs ibpb stibp fsgsbase tsc_adjust bmi1 hle avx2 smep bmi2 erms invpcid rtm rdseed adx smap xsaveopt arat md_clear arch_capabilities\n",
            "bugs\t\t: cpu_meltdown spectre_v1 spectre_v2 spec_store_bypass l1tf mds swapgs taa mmio_stale_data retbleed bhi\n",
            "bogomips\t: 4399.99\n",
            "clflush size\t: 64\n",
            "cache_alignment\t: 64\n",
            "address sizes\t: 46 bits physical, 48 bits virtual\n",
            "power management:\n",
            "\n"
          ]
        }
      ],
      "source": [
        "!cat /proc/cpuinfo"
      ]
    },
    {
      "cell_type": "markdown",
      "metadata": {
        "id": "N1ok_-56OjB1"
      },
      "source": [
        "# I Solving the Sum of Two Digits Programming Challenge"
      ]
    },
    {
      "cell_type": "markdown",
      "metadata": {
        "id": "MMY7kmDSO0KM"
      },
      "source": [
        "## C++"
      ]
    },
    {
      "cell_type": "code",
      "execution_count": 2,
      "metadata": {
        "colab": {
          "base_uri": "https://localhost:8080/"
        },
        "id": "2pGGf9BkPNIk",
        "outputId": "49284cd3-1dfc-4661-e370-6d98311b773f"
      },
      "outputs": [
        {
          "output_type": "stream",
          "name": "stdout",
          "text": [
            "Writing APlusB.cpp\n"
          ]
        }
      ],
      "source": [
        "%%writefile APlusB.cpp\n",
        "#include <iostream>\n",
        "\n",
        "int sum_of_two_digits(int first_digit, int second_digit) {\n",
        "    return first_digit + second_digit;\n",
        "}\n",
        "\n",
        "int main() {\n",
        "    int a = 0;\n",
        "    int b = 0;\n",
        "    std::cin >> a;\n",
        "    std::cin >> b;\n",
        "    std::cout << sum_of_two_digits(a, b);\n",
        "    return 0;\n",
        "}"
      ]
    },
    {
      "cell_type": "code",
      "execution_count": 3,
      "metadata": {
        "id": "0G3ZKOYAPXSU",
        "outputId": "66010f3b-7ee0-4159-b01f-5f9328234148",
        "colab": {
          "base_uri": "https://localhost:8080/"
        }
      },
      "outputs": [
        {
          "output_type": "stream",
          "name": "stdout",
          "text": [
            "2\n",
            "4\n",
            "6"
          ]
        }
      ],
      "source": [
        "!g++ APlusB.cpp -o APlusB -std=c++11\n",
        "!./APlusB"
      ]
    },
    {
      "cell_type": "markdown",
      "metadata": {
        "id": "iNkG2HqfTl9c"
      },
      "source": [
        "### Test input output files"
      ]
    },
    {
      "cell_type": "code",
      "execution_count": 4,
      "metadata": {
        "id": "aTzU2efzMxly",
        "outputId": "a2db0285-e9d6-4098-97da-9f4182c797a0",
        "colab": {
          "base_uri": "https://localhost:8080/"
        }
      },
      "outputs": [
        {
          "output_type": "stream",
          "name": "stdout",
          "text": [
            "Writing input1.txt\n"
          ]
        }
      ],
      "source": [
        "%%writefile input1.txt\n",
        "4 8"
      ]
    },
    {
      "cell_type": "code",
      "execution_count": 5,
      "metadata": {
        "id": "zBJ0Gc0NQRet",
        "outputId": "16ae9a1d-81b0-4386-a983-5c7df11ba154",
        "colab": {
          "base_uri": "https://localhost:8080/"
        }
      },
      "outputs": [
        {
          "output_type": "stream",
          "name": "stdout",
          "text": [
            "Writing output1.txt\n"
          ]
        }
      ],
      "source": [
        "%%writefile output1.txt\n",
        "12"
      ]
    },
    {
      "cell_type": "code",
      "execution_count": 6,
      "metadata": {
        "id": "IjEcIx63PJAN",
        "outputId": "dff8358f-1702-4594-f3a6-66974ec36f65",
        "colab": {
          "base_uri": "https://localhost:8080/"
        }
      },
      "outputs": [
        {
          "output_type": "stream",
          "name": "stdout",
          "text": [
            "Writing input2.txt\n"
          ]
        }
      ],
      "source": [
        "%%writefile input2.txt\n",
        "0 9"
      ]
    },
    {
      "cell_type": "code",
      "execution_count": 7,
      "metadata": {
        "id": "Up9gOrxURTmd",
        "outputId": "186e53b8-da2b-4fbd-b7c2-2b56234500f1",
        "colab": {
          "base_uri": "https://localhost:8080/"
        }
      },
      "outputs": [
        {
          "output_type": "stream",
          "name": "stdout",
          "text": [
            "Writing output2.txt\n"
          ]
        }
      ],
      "source": [
        "%%writefile output2.txt\n",
        "9"
      ]
    },
    {
      "cell_type": "code",
      "execution_count": 8,
      "metadata": {
        "id": "PST6G-s-Pwgc",
        "outputId": "a569b533-d395-4c28-ab21-baeb703fc330",
        "colab": {
          "base_uri": "https://localhost:8080/"
        }
      },
      "outputs": [
        {
          "output_type": "stream",
          "name": "stdout",
          "text": [
            "12"
          ]
        }
      ],
      "source": [
        "!./APlusB < input1.txt"
      ]
    },
    {
      "cell_type": "code",
      "execution_count": 9,
      "metadata": {
        "colab": {
          "base_uri": "https://localhost:8080/"
        },
        "id": "cKxZOjSlRfIN",
        "outputId": "78f9f553-55bc-4d65-b502-e434b5d31109"
      },
      "outputs": [
        {
          "output_type": "stream",
          "name": "stdout",
          "text": [
            "9"
          ]
        }
      ],
      "source": [
        "!./APlusB < input2.txt"
      ]
    },
    {
      "cell_type": "markdown",
      "metadata": {
        "id": "Qw2TQWCCUwqk"
      },
      "source": [
        "### Comparing files with grep\n",
        "\n",
        "https://askubuntu.com/questions/546796/comparing-two-text-files"
      ]
    },
    {
      "cell_type": "code",
      "source": [
        "!grep -xvFf output1.txt output1.txt"
      ],
      "metadata": {
        "id": "f5ef12XfZZBj"
      },
      "execution_count": 10,
      "outputs": []
    },
    {
      "cell_type": "code",
      "source": [
        "!grep -xvFf output1.txt output2.txt"
      ],
      "metadata": {
        "id": "WL7rO5urZdAT",
        "outputId": "fd190532-6fcb-4778-e4f9-2e50eb241061",
        "colab": {
          "base_uri": "https://localhost:8080/"
        }
      },
      "execution_count": 11,
      "outputs": [
        {
          "output_type": "stream",
          "name": "stdout",
          "text": [
            "9\n"
          ]
        }
      ]
    },
    {
      "cell_type": "code",
      "source": [
        "!grep -xvFf output2.txt output1.txt"
      ],
      "metadata": {
        "id": "Awj8Lx3oZffj",
        "outputId": "61164c34-506e-408b-e225-cb706706aabc",
        "colab": {
          "base_uri": "https://localhost:8080/"
        }
      },
      "execution_count": 12,
      "outputs": [
        {
          "output_type": "stream",
          "name": "stdout",
          "text": [
            "12\n"
          ]
        }
      ]
    },
    {
      "cell_type": "code",
      "execution_count": 13,
      "metadata": {
        "id": "Jlja0Xm4TX9M"
      },
      "outputs": [],
      "source": [
        "!./APlusB < input1.txt> ctest1.txt\n",
        "!grep -xvFf output1.txt ctest1.txt"
      ]
    },
    {
      "cell_type": "code",
      "execution_count": 14,
      "metadata": {
        "id": "g9OIUZA_QLCQ"
      },
      "outputs": [],
      "source": [
        "!./APlusB < input2.txt > ctest2.txt\n",
        "!grep -xvFf output2.txt ctest2.txt"
      ]
    },
    {
      "cell_type": "markdown",
      "metadata": {
        "id": "3BgOaDjUVJk6"
      },
      "source": [
        "## Python"
      ]
    },
    {
      "cell_type": "code",
      "execution_count": 15,
      "metadata": {
        "colab": {
          "base_uri": "https://localhost:8080/"
        },
        "id": "DBvl-T0CTN_8",
        "outputId": "d505e032-3551-4e02-9afe-0835804235e9"
      },
      "outputs": [
        {
          "output_type": "stream",
          "name": "stdout",
          "text": [
            "Writing sum.py\n"
          ]
        }
      ],
      "source": [
        "%%writefile sum.py\n",
        "# python3\n",
        "\n",
        "def sum_of_two_digits(first_digit, second_digit):\n",
        "    return first_digit + second_digit\n",
        "\n",
        "if __name__ == '__main__':\n",
        "    a, b = map(int, input().split())\n",
        "    print(sum_of_two_digits(a, b))"
      ]
    },
    {
      "cell_type": "markdown",
      "source": [
        "escribir los siguientes digitos en la misma linea"
      ],
      "metadata": {
        "id": "gwUSRC90_zoU"
      }
    },
    {
      "cell_type": "code",
      "execution_count": 16,
      "metadata": {
        "id": "QKoKM11_WGyF",
        "outputId": "4b5d78f4-6d65-4d64-a829-9fdce463daa1",
        "colab": {
          "base_uri": "https://localhost:8080/"
        }
      },
      "outputs": [
        {
          "output_type": "stream",
          "name": "stdout",
          "text": [
            "4 6\n",
            "10\n"
          ]
        }
      ],
      "source": [
        "!python sum.py"
      ]
    },
    {
      "cell_type": "code",
      "execution_count": 17,
      "metadata": {
        "id": "cocFbPRTWrqt"
      },
      "outputs": [],
      "source": [
        "!python sum.py  < input1.txt> ptest1.txt\n",
        "!grep -xvFf output1.txt ptest1.txt"
      ]
    },
    {
      "cell_type": "code",
      "execution_count": 18,
      "metadata": {
        "id": "MorKTa-XXASN"
      },
      "outputs": [],
      "source": [
        "!python sum.py  < input2.txt> ptest2.txt\n",
        "!grep -xvFf output2.txt ptest2.txt"
      ]
    },
    {
      "cell_type": "markdown",
      "metadata": {
        "id": "uvP-mOubW_5F"
      },
      "source": [
        "# II Solving The Maximum Pairwise Product Programming Challenge in C++"
      ]
    },
    {
      "cell_type": "markdown",
      "metadata": {
        "id": "C12yoFR6Xonl"
      },
      "source": [
        "## C++\n",
        "\n",
        "$$ T(n) < 6 n^2 = O(n^2)$$"
      ]
    },
    {
      "cell_type": "code",
      "source": [
        "%%writefile max_pairwise_product_full.cpp\n",
        "#include <iostream>\n",
        "#include <vector>\n",
        "#include <algorithm>\n",
        "\n",
        "int MaxPairwiseProduct(const std::vector<int>& numbers) {\n",
        "    int max_product = 0;\n",
        "    int aux_product = 0;\n",
        "    int n = numbers.size();\n",
        "\n",
        "    for (int first = 0; first < n; ++first) {\n",
        "        for (int second = 0; second < n; ++second) {\n",
        "          if ( first != second ){\n",
        "                aux_product = numbers[first] * numbers[second];\n",
        "                if (aux_product > max_product)  max_product = aux_product;\n",
        "          }\n",
        "        }\n",
        "    }\n",
        "\n",
        "    return max_product;\n",
        "}\n",
        "\n",
        "int main() {\n",
        "    int n;\n",
        "    std::cin >> n;\n",
        "    std::vector<int> numbers(n);\n",
        "    for (int i = 0; i < n; ++i) {\n",
        "        std::cin >> numbers[i];\n",
        "    }\n",
        "\n",
        "    std::cout << MaxPairwiseProduct(numbers) << \"\\n\";\n",
        "    return 0;\n",
        "}"
      ],
      "metadata": {
        "id": "3LpfoGv2Ae81",
        "outputId": "b98ed8bb-7e66-4f7e-e9f0-f25b86e4c336",
        "colab": {
          "base_uri": "https://localhost:8080/"
        }
      },
      "execution_count": 19,
      "outputs": [
        {
          "output_type": "stream",
          "name": "stdout",
          "text": [
            "Writing max_pairwise_product_full.cpp\n"
          ]
        }
      ]
    },
    {
      "cell_type": "markdown",
      "metadata": {
        "id": "m75IQQPbEHBS"
      },
      "source": [
        "#### Time Complexity\n",
        "$$\\left. \\begin{array}{llc}\n",
        " \\text{INSTRUCTION} & \\text{TYPE}& \\text{# EXECUTIONS}\\\\\n",
        "\\text{first != second} &  \\text{comparisons} &n^2 \\\\\n",
        "\\text{numbers[first] * numbers[second]}& \\ \\text{ products}  &n^2 - n \\\\\n",
        "\\text{max_product = aux_product} &  \\text{assigments} & [1, \\frac{n^2 - n}{2})  \n",
        "\\end{array}\\right\\}  =  O(n^2)$$"
      ]
    },
    {
      "cell_type": "code",
      "source": [
        "!g++ max_pairwise_product_full.cpp -o max_pairwise_product_full\n",
        "!./max_pairwise_product_full"
      ],
      "metadata": {
        "id": "PCVo1h6nCF9k",
        "colab": {
          "base_uri": "https://localhost:8080/"
        },
        "outputId": "712d76fa-a1a0-414b-a72b-cdfb76ad5ecd"
      },
      "execution_count": 20,
      "outputs": [
        {
          "output_type": "stream",
          "name": "stdout",
          "text": [
            "1 2\n",
            "0\n"
          ]
        }
      ]
    },
    {
      "cell_type": "markdown",
      "metadata": {
        "id": "e7KhxHGNS3i0"
      },
      "source": [
        "### Test 1: Small numbers"
      ]
    },
    {
      "cell_type": "code",
      "source": [
        "%%writefile input1.txt\n",
        "10\n",
        "1 2 3 4 5 6 7 8 9 10"
      ],
      "metadata": {
        "colab": {
          "base_uri": "https://localhost:8080/"
        },
        "id": "17npyXt7lYzA",
        "outputId": "148f9711-80f9-4ab1-96c6-a3f95be27945"
      },
      "execution_count": 21,
      "outputs": [
        {
          "output_type": "stream",
          "name": "stdout",
          "text": [
            "Overwriting input1.txt\n"
          ]
        }
      ]
    },
    {
      "cell_type": "code",
      "source": [
        "!./max_pairwise_product < input1.txt"
      ],
      "metadata": {
        "id": "qaVPZ25WbgbJ",
        "outputId": "b89b501a-c4d5-44d4-d50a-72a0cc2e7f29",
        "colab": {
          "base_uri": "https://localhost:8080/"
        }
      },
      "execution_count": 22,
      "outputs": [
        {
          "output_type": "stream",
          "name": "stdout",
          "text": [
            "/bin/bash: line 1: ./max_pairwise_product: No such file or directory\n"
          ]
        }
      ]
    },
    {
      "cell_type": "code",
      "source": [
        "%%writefile output1.txt\n",
        "90"
      ],
      "metadata": {
        "colab": {
          "base_uri": "https://localhost:8080/"
        },
        "id": "NooGEkJylezm",
        "outputId": "333101ca-de26-46c1-80a4-add2f3a9c080"
      },
      "execution_count": 23,
      "outputs": [
        {
          "output_type": "stream",
          "name": "stdout",
          "text": [
            "Overwriting output1.txt\n"
          ]
        }
      ]
    },
    {
      "cell_type": "code",
      "source": [
        "!./max_pairwise_product_full< input1.txt > ctest1.txt\n",
        "!grep -xvFf output1.txt ctest1.txt"
      ],
      "metadata": {
        "id": "R0yFaAOrlqrE"
      },
      "execution_count": 24,
      "outputs": []
    },
    {
      "cell_type": "code",
      "execution_count": 25,
      "metadata": {
        "colab": {
          "base_uri": "https://localhost:8080/"
        },
        "id": "e1mmTzBgShT-",
        "outputId": "9f88482c-0845-4ddf-ef34-e9378075b548"
      },
      "outputs": [
        {
          "output_type": "stream",
          "name": "stdout",
          "text": [
            "Overwriting input2.txt\n"
          ]
        }
      ],
      "source": [
        "%%writefile input2.txt\n",
        "10\n",
        "10 9 8 7 6 5 4 3 2 1"
      ]
    },
    {
      "cell_type": "code",
      "execution_count": 26,
      "metadata": {
        "colab": {
          "base_uri": "https://localhost:8080/"
        },
        "id": "vy_uI0x7TCId",
        "outputId": "baf66fd9-e100-4e46-bda9-fa0e1b5f3c01"
      },
      "outputs": [
        {
          "output_type": "stream",
          "name": "stdout",
          "text": [
            "Overwriting output2.txt\n"
          ]
        }
      ],
      "source": [
        "%%writefile output2.txt\n",
        "90"
      ]
    },
    {
      "cell_type": "code",
      "execution_count": 27,
      "metadata": {
        "id": "xaj6f9bxC6D6"
      },
      "outputs": [],
      "source": [
        "!./max_pairwise_product_full< input2.txt > ctest2.txt\n",
        "!grep -xvFf output2.txt ctest2.txt"
      ]
    },
    {
      "cell_type": "markdown",
      "metadata": {
        "id": "IeZ3kTjpYmR9"
      },
      "source": [
        "### Test 2: largest input numbers 200000 200000 to check possible intger overflow"
      ]
    },
    {
      "cell_type": "code",
      "execution_count": 28,
      "metadata": {
        "colab": {
          "base_uri": "https://localhost:8080/"
        },
        "id": "LQNlZqaqYt7U",
        "outputId": "546f49c1-e968-42a6-8f3b-b01c4d602395"
      },
      "outputs": [
        {
          "output_type": "stream",
          "name": "stdout",
          "text": [
            "Writing input3.txt\n"
          ]
        }
      ],
      "source": [
        "%%writefile input3.txt\n",
        "6\n",
        "1 3 200000 9 200000 23"
      ]
    },
    {
      "cell_type": "code",
      "execution_count": 29,
      "metadata": {
        "colab": {
          "base_uri": "https://localhost:8080/"
        },
        "id": "GjQq7QOUCw-9",
        "outputId": "3091afd9-651d-4477-fce3-d85afad10072"
      },
      "outputs": [
        {
          "output_type": "execute_result",
          "data": {
            "text/plain": [
              "40000000000"
            ]
          },
          "metadata": {},
          "execution_count": 29
        }
      ],
      "source": [
        "200000*200000"
      ]
    },
    {
      "cell_type": "code",
      "execution_count": 30,
      "metadata": {
        "colab": {
          "base_uri": "https://localhost:8080/"
        },
        "id": "EuS6n3jtDK5C",
        "outputId": "d50825b8-026d-4668-ce2e-798dbdb0ecb6"
      },
      "outputs": [
        {
          "output_type": "stream",
          "name": "stdout",
          "text": [
            "Writing output3.txt\n"
          ]
        }
      ],
      "source": [
        "%%writefile output3.txt\n",
        "40000000000"
      ]
    },
    {
      "cell_type": "code",
      "execution_count": 31,
      "metadata": {
        "colab": {
          "base_uri": "https://localhost:8080/"
        },
        "id": "2Wad2VZUZDxR",
        "outputId": "06083da3-e3e6-44f5-f96a-e5f5d7a05892"
      },
      "outputs": [
        {
          "output_type": "stream",
          "name": "stdout",
          "text": [
            "1345294336\n"
          ]
        }
      ],
      "source": [
        "!./max_pairwise_product_full < input3.txt"
      ]
    },
    {
      "cell_type": "code",
      "execution_count": 32,
      "metadata": {
        "colab": {
          "base_uri": "https://localhost:8080/"
        },
        "id": "pEvp1ieyDJGq",
        "outputId": "b62c7f5c-a71d-4f6b-932f-6c8df9732554"
      },
      "outputs": [
        {
          "output_type": "stream",
          "name": "stdout",
          "text": [
            "1345294336\n"
          ]
        }
      ],
      "source": [
        "!./max_pairwise_product_full < input3.txt > ctest3.txt\n",
        "!grep -xvFf output3.txt ctest3.txt"
      ]
    },
    {
      "cell_type": "code",
      "source": [
        "%%writefile run_all_test.sh\n",
        "#!/bin/bash\n",
        "g++ max_pairwise_product_full.cpp -o max_pairwise_product_full\n",
        "for i in {0..3}\n",
        "do\n",
        "    ./max_pairwise_product_full < input$i.txt > ctest$i.txt\n",
        "    grep -xvFf output$i.txt ctest$i.txt\n",
        "done"
      ],
      "metadata": {
        "colab": {
          "base_uri": "https://localhost:8080/"
        },
        "id": "SrtJrKqM-God",
        "outputId": "b93ad23a-82bb-4c06-f027-f2751d08a394"
      },
      "execution_count": 33,
      "outputs": [
        {
          "output_type": "stream",
          "name": "stdout",
          "text": [
            "Writing run_all_test.sh\n"
          ]
        }
      ]
    },
    {
      "cell_type": "code",
      "source": [
        "!chmod u+x run_all_test.sh\n",
        "!./run_all_test.sh"
      ],
      "metadata": {
        "colab": {
          "base_uri": "https://localhost:8080/"
        },
        "id": "wGWMHtzS-QnA",
        "outputId": "be19ad18-dcae-4080-c20e-9f003877ded5"
      },
      "execution_count": 34,
      "outputs": [
        {
          "output_type": "stream",
          "name": "stdout",
          "text": [
            "./run_all_test.sh: line 5: input0.txt: No such file or directory\n",
            "grep: output0.txt: No such file or directory\n",
            "1345294336\n"
          ]
        }
      ]
    },
    {
      "cell_type": "markdown",
      "metadata": {
        "id": "H2SC0Qt5HCzz"
      },
      "source": [
        "### Changing the variables to long long"
      ]
    },
    {
      "cell_type": "code",
      "execution_count": 35,
      "metadata": {
        "colab": {
          "base_uri": "https://localhost:8080/"
        },
        "id": "MPcmsxiQZSfE",
        "outputId": "21d1f0d6-a3b5-4131-c09d-2bac99d2e149"
      },
      "outputs": [
        {
          "output_type": "stream",
          "name": "stdout",
          "text": [
            "Writing max_pairwise_product_long_full.cpp\n"
          ]
        }
      ],
      "source": [
        "%%writefile max_pairwise_product_long_full.cpp\n",
        "#include <iostream>\n",
        "#include <vector>\n",
        "#include <algorithm>\n",
        "\n",
        "long long MaxPairwiseProduct(const std::vector<int>& numbers) {\n",
        "    long long max_product = 0LL;\n",
        "\t  long long aux_product = 0LL;\n",
        "    int n = numbers.size();\n",
        "\n",
        "    for (int first = 0; first < n; ++first) {\n",
        "        for (int second = 0; second < n; ++second) {\n",
        "          if ( first != second){\n",
        "                aux_product = (long long) numbers[first] * numbers[second];\n",
        "                if (aux_product > max_product)  max_product = aux_product;\n",
        "          }\n",
        "        }\n",
        "    }\n",
        "\n",
        "\n",
        "    return max_product;\n",
        "}\n",
        "\n",
        "int main() {\n",
        "    int n;\n",
        "    std::cin >> n;\n",
        "    std::vector<int> numbers(n);\n",
        "    for (int i = 0; i < n; ++i) {\n",
        "        std::cin >> numbers[i];\n",
        "    }\n",
        "\n",
        "    std::cout << MaxPairwiseProduct(numbers) << \"\\n\";\n",
        "    return 0;\n",
        "}\n"
      ]
    },
    {
      "cell_type": "code",
      "source": [
        "!g++ max_pairwise_product_long_full.cpp -o max_pairwise_product_long_full"
      ],
      "metadata": {
        "id": "W3xQpFXL6wjO"
      },
      "execution_count": 36,
      "outputs": []
    },
    {
      "cell_type": "code",
      "source": [
        "!./max_pairwise_product_long_full < input3.txt"
      ],
      "metadata": {
        "colab": {
          "base_uri": "https://localhost:8080/"
        },
        "id": "H5dvN9M3R9sV",
        "outputId": "e4d781ec-8900-4164-e10e-28d1741f24f9"
      },
      "execution_count": 37,
      "outputs": [
        {
          "output_type": "stream",
          "name": "stdout",
          "text": [
            "40000000000\n"
          ]
        }
      ]
    },
    {
      "cell_type": "markdown",
      "source": [
        "### Runing multuple test with a bash shell"
      ],
      "metadata": {
        "id": "gx-sEYdfQ8f8"
      }
    },
    {
      "cell_type": "code",
      "source": [
        " %%writefile run_all_test.sh\n",
        "#!/bin/bash\n",
        "g++ max_pairwise_product_long_full.cpp -o max_pairwise_product_long_full\n",
        "for i in {1..3}\n",
        "do\n",
        "    ./max_pairwise_product_long_full < input$i.txt > ctest$i.txt\n",
        "    grep -xvFf output$i.txt ctest$i.txt\n",
        "done"
      ],
      "metadata": {
        "colab": {
          "base_uri": "https://localhost:8080/"
        },
        "id": "O9qsq2nn7elw",
        "outputId": "261d6fb0-d450-423f-ca29-471f6b5eac82"
      },
      "execution_count": 38,
      "outputs": [
        {
          "output_type": "stream",
          "name": "stdout",
          "text": [
            "Overwriting run_all_test.sh\n"
          ]
        }
      ]
    },
    {
      "cell_type": "code",
      "source": [
        "!chmod u+x run_all_test.sh\n",
        "!./run_all_test.sh"
      ],
      "metadata": {
        "id": "0g5kKVph7xIA"
      },
      "execution_count": 39,
      "outputs": []
    },
    {
      "cell_type": "markdown",
      "metadata": {
        "id": "XPVHkHxH6_7s"
      },
      "source": [
        "### Test 3  stress tests, 6 testing cases files input4.txt/output4.txt .. input10.txt/output10.txt\n",
        "\n",
        "---\n",
        "\n"
      ]
    },
    {
      "cell_type": "code",
      "execution_count": 40,
      "metadata": {
        "id": "PwqpBmYr69fu",
        "outputId": "1c5ba51a-01ae-46d4-8758-06bfda5159eb",
        "colab": {
          "base_uri": "https://localhost:8080/"
        }
      },
      "outputs": [
        {
          "output_type": "stream",
          "name": "stdout",
          "text": [
            "Writing input4.txt\n"
          ]
        }
      ],
      "source": [
        "\n",
        "%%writefile input4.txt\n",
        "7\n",
        "1 3 200000 9 200000 23 200000"
      ]
    },
    {
      "cell_type": "code",
      "execution_count": 41,
      "metadata": {
        "id": "jBCkMeR6Fw4y",
        "outputId": "3cc6723d-7ed3-44e3-9840-c454c2fc20cd",
        "colab": {
          "base_uri": "https://localhost:8080/"
        }
      },
      "outputs": [
        {
          "output_type": "stream",
          "name": "stdout",
          "text": [
            "Writing output4.txt\n"
          ]
        }
      ],
      "source": [
        "\n",
        "%%writefile output4.txt\n",
        "40000000000"
      ]
    },
    {
      "cell_type": "code",
      "source": [
        "\n",
        "%%writefile input5.txt\n",
        "2\n",
        "1 1"
      ],
      "metadata": {
        "id": "zED8V8wu-eoM",
        "outputId": "42915004-129c-4a16-d180-cb16262b7cf1",
        "colab": {
          "base_uri": "https://localhost:8080/"
        }
      },
      "execution_count": 42,
      "outputs": [
        {
          "output_type": "stream",
          "name": "stdout",
          "text": [
            "Writing input5.txt\n"
          ]
        }
      ]
    },
    {
      "cell_type": "code",
      "source": [
        "\n",
        "%%writefile output5.txt\n",
        "1"
      ],
      "metadata": {
        "id": "Suafxf6AQYBo",
        "outputId": "709c11de-36f4-4541-e562-4005ca069fce",
        "colab": {
          "base_uri": "https://localhost:8080/"
        }
      },
      "execution_count": 43,
      "outputs": [
        {
          "output_type": "stream",
          "name": "stdout",
          "text": [
            "Writing output5.txt\n"
          ]
        }
      ]
    },
    {
      "cell_type": "code",
      "source": [
        "%%writefile input6.txt\n",
        "8\n",
        "2 2 2 2 2 2 2 2"
      ],
      "metadata": {
        "id": "YZWQgHpiQXpB",
        "outputId": "907b6aa1-c457-42d8-e759-5c56ea23c887",
        "colab": {
          "base_uri": "https://localhost:8080/"
        }
      },
      "execution_count": 44,
      "outputs": [
        {
          "output_type": "stream",
          "name": "stdout",
          "text": [
            "Writing input6.txt\n"
          ]
        }
      ]
    },
    {
      "cell_type": "code",
      "source": [
        "%%writefile output6.txt\n",
        "4"
      ],
      "metadata": {
        "id": "0ven_hztQXX_",
        "outputId": "b658b593-5678-4a7d-f916-25065066f1bf",
        "colab": {
          "base_uri": "https://localhost:8080/"
        }
      },
      "execution_count": 45,
      "outputs": [
        {
          "output_type": "stream",
          "name": "stdout",
          "text": [
            "Writing output6.txt\n"
          ]
        }
      ]
    },
    {
      "cell_type": "code",
      "source": [
        "%%writefile input7.txt\n",
        "5\n",
        "1 3 200000 9 200000\n"
      ],
      "metadata": {
        "id": "1m1KAjZRRz_v",
        "outputId": "d062343f-d568-45bd-bfdc-e9140e387db3",
        "colab": {
          "base_uri": "https://localhost:8080/"
        }
      },
      "execution_count": 46,
      "outputs": [
        {
          "output_type": "stream",
          "name": "stdout",
          "text": [
            "Writing input7.txt\n"
          ]
        }
      ]
    },
    {
      "cell_type": "code",
      "source": [
        "%%writefile output7.txt\n",
        "40000000000"
      ],
      "metadata": {
        "id": "3NWI0WB1R3n_",
        "outputId": "dc22335a-578f-4529-df19-9da8f9101ff0",
        "colab": {
          "base_uri": "https://localhost:8080/"
        }
      },
      "execution_count": 47,
      "outputs": [
        {
          "output_type": "stream",
          "name": "stdout",
          "text": [
            "Writing output7.txt\n"
          ]
        }
      ]
    },
    {
      "cell_type": "code",
      "source": [
        "%%writefile input8.txt\n",
        "3\n",
        "9 8 9"
      ],
      "metadata": {
        "id": "a3pdI_aTR6X4",
        "outputId": "4961aee1-6915-4241-9679-16a3fa380160",
        "colab": {
          "base_uri": "https://localhost:8080/"
        }
      },
      "execution_count": 48,
      "outputs": [
        {
          "output_type": "stream",
          "name": "stdout",
          "text": [
            "Writing input8.txt\n"
          ]
        }
      ]
    },
    {
      "cell_type": "code",
      "source": [
        "%%writefile output8.txt\n",
        "81"
      ],
      "metadata": {
        "id": "0XQ0k-eyR_Cs",
        "outputId": "667a8b0b-5a92-437f-bfcc-ee2be485e06c",
        "colab": {
          "base_uri": "https://localhost:8080/"
        }
      },
      "execution_count": 49,
      "outputs": [
        {
          "output_type": "stream",
          "name": "stdout",
          "text": [
            "Writing output8.txt\n"
          ]
        }
      ]
    },
    {
      "cell_type": "code",
      "source": [
        "\n",
        "%%writefile input9.txt\n",
        "4\n",
        "200000 200000 200000 200000"
      ],
      "metadata": {
        "id": "KVtCQx6ASDWM",
        "outputId": "0ac1cdd1-c8df-4598-dc34-df38574f41b7",
        "colab": {
          "base_uri": "https://localhost:8080/"
        }
      },
      "execution_count": 50,
      "outputs": [
        {
          "output_type": "stream",
          "name": "stdout",
          "text": [
            "Writing input9.txt\n"
          ]
        }
      ]
    },
    {
      "cell_type": "code",
      "source": [
        "%%writefile output9.txt\n",
        "40000000000"
      ],
      "metadata": {
        "id": "fvjTr0HASHGt",
        "outputId": "2b6a156a-42a8-4434-9011-726506b88629",
        "colab": {
          "base_uri": "https://localhost:8080/"
        }
      },
      "execution_count": 51,
      "outputs": [
        {
          "output_type": "stream",
          "name": "stdout",
          "text": [
            "Writing output9.txt\n"
          ]
        }
      ]
    },
    {
      "cell_type": "code",
      "source": [
        "%%writefile input10.txt\n",
        "3\n",
        "0 0 0"
      ],
      "metadata": {
        "id": "aEl3lJiSSJNp",
        "outputId": "582f7568-6058-4ca8-ec22-f88485adfcd2",
        "colab": {
          "base_uri": "https://localhost:8080/"
        }
      },
      "execution_count": 52,
      "outputs": [
        {
          "output_type": "stream",
          "name": "stdout",
          "text": [
            "Writing input10.txt\n"
          ]
        }
      ]
    },
    {
      "cell_type": "code",
      "source": [
        "\n",
        "%%writefile output10.txt\n",
        "0\n"
      ],
      "metadata": {
        "id": "R3Z7GcV2SLAX",
        "outputId": "99ab38e0-26ca-4823-c6d2-f3da035de4da",
        "colab": {
          "base_uri": "https://localhost:8080/"
        }
      },
      "execution_count": 53,
      "outputs": [
        {
          "output_type": "stream",
          "name": "stdout",
          "text": [
            "Writing output10.txt\n"
          ]
        }
      ]
    },
    {
      "cell_type": "code",
      "source": [
        "%%writefile run_all_test_1.sh\n",
        "#!/bin/bash\n",
        "g++ max_pairwise_product_long_full.cpp -o max_pairwise_product_long_full || exit 1\n",
        "\n",
        "for i in {4..10}\n",
        "do\n",
        "    ./max_pairwise_product_long_full < input$i.txt > ctest$i.txt\n",
        "    if grep -xvFf output$i.txt ctest$i.txt; then\n",
        "        echo \"Test $i failed!\"\n",
        "    else\n",
        "        echo \"Test $i passed!\"\n",
        "    fi\n",
        "done\n"
      ],
      "metadata": {
        "id": "QhGWjn1GSVWf",
        "outputId": "3e141cba-e0e2-424b-fa4f-8fcfbd18a91f",
        "colab": {
          "base_uri": "https://localhost:8080/"
        }
      },
      "execution_count": 54,
      "outputs": [
        {
          "output_type": "stream",
          "name": "stdout",
          "text": [
            "Writing run_all_test_1.sh\n"
          ]
        }
      ]
    },
    {
      "cell_type": "code",
      "source": [
        "!chmod u+x run_all_test_1.sh\n",
        "!./run_all_test_1.sh"
      ],
      "metadata": {
        "id": "wuqBA62VSXzW",
        "outputId": "84c27e7d-a00f-4364-e967-b9e176641ae4",
        "colab": {
          "base_uri": "https://localhost:8080/"
        }
      },
      "execution_count": 55,
      "outputs": [
        {
          "output_type": "stream",
          "name": "stdout",
          "text": [
            "Test 4 passed!\n",
            "Test 5 passed!\n",
            "Test 6 passed!\n",
            "Test 7 passed!\n",
            "Test 8 passed!\n",
            "Test 9 passed!\n",
            "Test 10 passed!\n"
          ]
        }
      ]
    },
    {
      "cell_type": "markdown",
      "metadata": {
        "id": "9z9yr5QkeyJF"
      },
      "source": [
        "### Test 4  time test  measure the execution time running with the the largest worst cases input11.txt  (200000 increasing numbers) and input12.txt (199998 increasing numbers and  200000, 200000 at the end)"
      ]
    },
    {
      "cell_type": "code",
      "source": [
        "# input11.txt 200000 increasing numbers:  1 2 .. 200000\n",
        "\n",
        "%%writefile WriteTest.cpp\n",
        "\n",
        "#include <iostream>\n",
        "#include <fstream>\n",
        "#include <cstdlib>\n",
        "\n",
        "using namespace std;\n",
        "\n",
        "int main() {\n",
        "  // Create and open a text file\n",
        "  ofstream MyFile(\"input11.txt\");\n",
        "\n",
        " MyFile << 200000 <<\"\\n\";  // n\n",
        " for (int i=1; i <200001; i++){\n",
        "     MyFile << i <<\" \";\n",
        " }\n",
        "\n",
        "  // Close the file\n",
        "  MyFile.close();\n",
        "}"
      ],
      "metadata": {
        "colab": {
          "base_uri": "https://localhost:8080/"
        },
        "id": "UmB1ipWM_nSk",
        "outputId": "519a7fcd-7da1-4961-ca87-81255c4aa519"
      },
      "execution_count": 56,
      "outputs": [
        {
          "output_type": "stream",
          "name": "stdout",
          "text": [
            "Writing WriteTest.cpp\n"
          ]
        }
      ]
    },
    {
      "cell_type": "code",
      "execution_count": 57,
      "metadata": {
        "id": "EH25TkOkZfD9"
      },
      "outputs": [],
      "source": [
        "!g++ WriteTest.cpp -o WriteTest\n",
        "!./WriteTest"
      ]
    },
    {
      "cell_type": "code",
      "source": [
        "199999 * 200000"
      ],
      "metadata": {
        "colab": {
          "base_uri": "https://localhost:8080/"
        },
        "id": "j0mokSOnCCtZ",
        "outputId": "6d2195b3-1103-4f47-89cf-40d2b4719453"
      },
      "execution_count": 58,
      "outputs": [
        {
          "output_type": "execute_result",
          "data": {
            "text/plain": [
              "39999800000"
            ]
          },
          "metadata": {},
          "execution_count": 58
        }
      ]
    },
    {
      "cell_type": "code",
      "source": [
        "%%writefile output11.txt\n",
        "39999800000"
      ],
      "metadata": {
        "id": "VoDhDV73B5Mo",
        "colab": {
          "base_uri": "https://localhost:8080/"
        },
        "outputId": "d84e155b-3217-4f89-801c-a4f2c761bb67"
      },
      "execution_count": 59,
      "outputs": [
        {
          "output_type": "stream",
          "name": "stdout",
          "text": [
            "Writing output11.txt\n"
          ]
        }
      ]
    },
    {
      "cell_type": "code",
      "execution_count": 60,
      "metadata": {
        "colab": {
          "base_uri": "https://localhost:8080/"
        },
        "id": "oLiMjbAIfPlX",
        "outputId": "9257a750-f67c-4483-bfe2-a64c0e353cfc"
      },
      "outputs": [
        {
          "output_type": "stream",
          "name": "stdout",
          "text": [
            "Overwriting WriteTest.cpp\n"
          ]
        }
      ],
      "source": [
        "# input12.txt 200000 decreasing numbers and 200000, 199999 ...  2 1\n",
        "\n",
        "%%writefile WriteTest.cpp\n",
        "\n",
        "#include <iostream>\n",
        "#include <fstream>\n",
        "#include <cstdlib>\n",
        "\n",
        "using namespace std;\n",
        "\n",
        "int main() {\n",
        "  // Create and open a text file\n",
        "  ofstream MyFile(\"input12.txt\");\n",
        "\n",
        " MyFile << 200000 <<\"\\n\";  // n\n",
        " for (int i=1; i <200001; i++){\n",
        "     MyFile << 200001-i <<\" \";\n",
        " }\n",
        "\n",
        "  // Close the file\n",
        "  MyFile.close();\n",
        "}"
      ]
    },
    {
      "cell_type": "code",
      "source": [
        "!g++ WriteTest.cpp -o WriteTest\n",
        "!./WriteTest"
      ],
      "metadata": {
        "id": "oULNBr_zAd9c"
      },
      "execution_count": 61,
      "outputs": []
    },
    {
      "cell_type": "code",
      "source": [
        "%%writefile output12.txt\n",
        "39999800000"
      ],
      "metadata": {
        "colab": {
          "base_uri": "https://localhost:8080/"
        },
        "id": "PQLyocaFB-y4",
        "outputId": "b194a99b-c02e-476c-e2f8-ef2753a43a94"
      },
      "execution_count": 62,
      "outputs": [
        {
          "output_type": "stream",
          "name": "stdout",
          "text": [
            "Writing output12.txt\n"
          ]
        }
      ]
    },
    {
      "cell_type": "markdown",
      "metadata": {
        "id": "JB6f03qO-lj9"
      },
      "source": [
        "### Measure time\n",
        "\n",
        "https://askubuntu.com/questions/53444/how-can-i-measure-the-execution-time-of-a-terminal-process"
      ]
    },
    {
      "cell_type": "code",
      "source": [
        "!g++ max_pairwise_product_long_full.cpp -o max_pairwise_product_long_full\n",
        "!time ./max_pairwise_product_long_full < input11.txt"
      ],
      "metadata": {
        "id": "W2hytwrYhTVZ",
        "outputId": "583d4ef8-6d8e-4c48-e5d9-ecb057ab39b5",
        "colab": {
          "base_uri": "https://localhost:8080/"
        }
      },
      "execution_count": 63,
      "outputs": [
        {
          "output_type": "stream",
          "name": "stdout",
          "text": [
            "39999800000\n",
            "\n",
            "real\t5m3.102s\n",
            "user\t4m59.358s\n",
            "sys\t0m0.114s\n"
          ]
        }
      ]
    },
    {
      "cell_type": "code",
      "source": [
        "!g++ max_pairwise_product_long_full.cpp -o max_pairwise_product_long_full\n",
        "!time ./max_pairwise_product_long_full< input12.txt"
      ],
      "metadata": {
        "id": "cnjCyeUdAnZj",
        "outputId": "8a1b22a3-c781-4dd2-e0b5-4ab9a93e55df",
        "colab": {
          "base_uri": "https://localhost:8080/"
        }
      },
      "execution_count": 64,
      "outputs": [
        {
          "output_type": "stream",
          "name": "stdout",
          "text": [
            "39999800000\n",
            "\n",
            "real\t5m3.190s\n",
            "user\t4m59.965s\n",
            "sys\t0m0.106s\n"
          ]
        }
      ]
    },
    {
      "cell_type": "markdown",
      "metadata": {
        "id": "FXClpBsUJuXC"
      },
      "source": [
        "### Calculate the number or and upper bound to the number of instructions executed by the algorithm as a function of n, add in each line a comment with the number of instructions that are executed in that line."
      ]
    },
    {
      "cell_type": "code",
      "execution_count": 65,
      "metadata": {
        "id": "uG6Mv-Pwlkii",
        "outputId": "0565395b-ec4d-4d80-cd52-e17dc133506b",
        "colab": {
          "base_uri": "https://localhost:8080/"
        }
      },
      "outputs": [
        {
          "output_type": "stream",
          "name": "stdout",
          "text": [
            "Overwriting max_pairwise_product_long_full.cpp\n"
          ]
        }
      ],
      "source": [
        "%%writefile max_pairwise_product_long_full.cpp\n",
        "#include <iostream>\n",
        "#include <vector>\n",
        "#include <algorithm>\n",
        "\n",
        "long long MaxPairwiseProduct(const std::vector<int>& numbers) {              //INSTRUCTIONS executed by line\n",
        "    long long max_product = 0LL;                                             //1\n",
        "\t  long long aux_product = 0LL;                                             //1\n",
        "    int n = numbers.size();                                                  //1\n",
        "\n",
        "    for (int first = 0; first < n; ++first) {                                //2+2n\n",
        "        for (int second = 0; second < n; ++second) {                         //2n + 2n**2\n",
        "          if ( first != second ){                                            //n**2\n",
        "                aux_product = numbers[first] * numbers[second];              //n**2 -n\n",
        "                if (aux_product > max_product)                               //n**2 -n\n",
        "                    max_product = aux_product;                               //[0, n**2/2 - n/2] upper bound\n",
        "          }\n",
        "        }\n",
        "    }\n",
        "\n",
        "                                                                             // --------------\n",
        "    return max_product;                                                      // 5 + 2*n + [5*n**2, 11*n**2/2  - n/2]  upper bound\n",
        "}\n",
        "\n",
        "int main() {                                              //INSTRUCTIONS executed by line\n",
        "    int n;                                                //1\n",
        "    std::cin >> n;                                        //1\n",
        "    std::vector<int> numbers(n);                          //n\n",
        "    for (int i = 0; i < n; ++i) {                         //2 + 2n\n",
        "        std::cin >> numbers[i];                           //n\n",
        "    }\n",
        "\n",
        "    std::cout << MaxPairwiseProduct(numbers) << \"\\n\";     //1 + 1  + 5 + 2*n + [5*n**2, 11*n**2/2  - n/2]\n",
        "\n",
        "    return 0;                                             // --------------\n",
        "}                                                         //  11 + 6*n + [5*n**2, 11*n**2/2  - n/2]  upper bound\n"
      ]
    },
    {
      "cell_type": "markdown",
      "metadata": {
        "id": "0vTsUg8OwcHs"
      },
      "source": [
        "### Count executed intructions in code"
      ]
    },
    {
      "cell_type": "code",
      "execution_count": 66,
      "metadata": {
        "id": "CuRKkqQc137V",
        "outputId": "5722f4bc-f5a2-4a10-c870-a7048f41d220",
        "colab": {
          "base_uri": "https://localhost:8080/"
        }
      },
      "outputs": [
        {
          "output_type": "stream",
          "name": "stdout",
          "text": [
            "Writing max_pairwise_product_long_full_execints.cpp\n"
          ]
        }
      ],
      "source": [
        "%%writefile max_pairwise_product_long_full_execints.cpp\n",
        "#include <iostream>\n",
        "#include <vector>\n",
        "#include <algorithm>\n",
        "\n",
        "long long MaxPairwiseProduct(const std::vector<int>& numbers, long long &execints) {      //INSTRUCTIONS executed by line\n",
        "\n",
        "    long long max_product = 0LL;                                                          //1\n",
        "    execints++;\n",
        "\n",
        "\t  long long aux_product = 0LL;                                                          //1\n",
        "    execints++;\n",
        "\n",
        "    int n = numbers.size();                                                               //1\n",
        "    execints++;\n",
        "\n",
        "    execints++;\n",
        "    for (int first = 0; first < n; ++first) {                                             //2+2n\n",
        "        execints += 2;\n",
        "\n",
        "        execints++;\n",
        "        for (int second = 0; second < n; ++second) {                                       //2n + 2n**2\n",
        "          execints += 2;\n",
        "\n",
        "          execints++;\n",
        "          if ( first != second ){                                                         //n**2\n",
        "                aux_product = numbers[first] * numbers[second];                           //n**2 -n\n",
        "                execints++;\n",
        "\n",
        "                execints++;\n",
        "                if (aux_product > max_product){                                           //n**2 -n\n",
        "                    max_product = aux_product;                                            //[0,n**2/2 - n/2)  upper bound\n",
        "                    execints++;\n",
        "\n",
        "                }\n",
        "        }\n",
        "\n",
        "      }\n",
        "      execints++;\n",
        "    }\n",
        "    execints++;\n",
        "                                                                                        // --------------\n",
        "    return max_product;                                                                 // 5 + 2*n + [5*n**2, 11*n**2/2  - n/2] upper bound\n",
        "}\n",
        "\n",
        "int main() {                                                 //INSTRUCTIONS executed by line\n",
        "\n",
        "    long long execints =0LL;\n",
        "\n",
        "    int n;                                                   //1\n",
        "    execints++;\n",
        "\n",
        "    std::cin >> n;                                           //1\n",
        "    execints++;\n",
        "\n",
        "    std::vector<int> numbers(n);                             //n\n",
        "    execints += n;\n",
        "\n",
        "    execints++;\n",
        "    for (int i = 0; i < n; ++i) {                            //2 + 2n\n",
        "        execints += 2;\n",
        "\n",
        "        std::cin >> numbers[i];\n",
        "        execints++;                                          //n\n",
        "\n",
        "    }\n",
        "\n",
        "\n",
        "    //std::cout << MaxPairwiseProduct(numbers) << \"\\n\";      //1 + 1  + 5 + 2*n + [5*n**2, 11*n**2/2  - n/2] upper bound\n",
        "\n",
        "    execints++;\n",
        "    int M = MaxPairwiseProduct(numbers,execints);\n",
        "\n",
        "    execints++;\n",
        "    std::cout <<  execints << \"\\n\";\n",
        "    return 0;                                                // --------------\n",
        "}                                                            // 11 + 6*n + [5*n**2, 11*n**2/2  - n/2]"
      ]
    },
    {
      "cell_type": "markdown",
      "source": [
        "The number of instructions executed by the algooirithm with a list of size $n$ is  \n",
        "\n",
        "$$T (n) = 11 + 6n + \\left[5n^2, 11\\frac{n^2}{2}  - \\frac{n}{2}\\right)  >  6n^2 = O(n^2)$$\n",
        "\n",
        "It depends on the size of the lists and  the order of the list.\n",
        "\n",
        "For the input0.txt\n",
        "```\n",
        "10\n",
        "0 0 0 0 0 0 0 0 0 0\n",
        "```\n",
        "$$T = 11 + 6(10) + 5(10)^2   = 561 $$\n",
        "\n",
        "$$T(10) \\in [571, 621)  $$\n"
      ],
      "metadata": {
        "id": "cUjHtvtdDsmr"
      }
    },
    {
      "cell_type": "code",
      "source": [
        "!g++ max_pairwise_product_long_full_execints.cpp -o max_pairwise_product_long_full_execints\n",
        "!./max_pairwise_product_long_full_execints < input0.txt"
      ],
      "metadata": {
        "id": "Om9Fevb0miAT",
        "outputId": "f884c974-272d-4327-f16d-c70ea6438dab",
        "colab": {
          "base_uri": "https://localhost:8080/"
        }
      },
      "execution_count": 67,
      "outputs": [
        {
          "output_type": "stream",
          "name": "stdout",
          "text": [
            "/bin/bash: line 1: input0.txt: No such file or directory\n"
          ]
        }
      ]
    },
    {
      "cell_type": "markdown",
      "source": [
        "For the input1.txt\n",
        "```\n",
        "10\n",
        "1 2 3 4 5 6 7 8 9 10\n",
        "```\n",
        "$$T = 11 + 6(10) + 5(10)^2 +  9 + 5 + 4 + 3 + 2 + 2 + 2 + 2 + 1 + 0  = 601 $$\n",
        "\n",
        "$$T(10) \\in [572, 622)  $$\n"
      ],
      "metadata": {
        "id": "FwJzZ6VzmArY"
      }
    },
    {
      "cell_type": "code",
      "source": [
        "#The number of times that  max_product = aux_product; in the worst case is less than (n**2 -n)/2 -  upper bound\n",
        "\n",
        "#     1  2  3  4  5  6  7  8  9  10\n",
        "#  1  x  2  3  4  5  6  7  8  9  10         9\n",
        "#  2  2  x  6  8  10 12 14 16 18 20         5 14\n",
        "#  3  3  6  x  12 15 18 21 24 27 30         4 18\n",
        "#  4  4  8  12 x  20 24 28 32 36 40         3 21\n",
        "#  5  5  10 15 20 x  30 35 40 45 50         2 23\n",
        "#  6  6  12 18 24 30 x  42 48 54 60         2 25\n",
        "#  7  7  14 21 28 35 42 x  56 63 70         2 27\n",
        "#  8  8  18 27 36 45 54 63 72 x  90         1 30\n",
        "#  10 10 20 30 40 50 60 70 60 90 x          0"
      ],
      "metadata": {
        "id": "K59xQMWiBNFj"
      },
      "execution_count": 68,
      "outputs": []
    },
    {
      "cell_type": "code",
      "source": [
        "11 + 6*(10) + 5*(10)*(10) +  9 + 5 + 4 + 3 + 2 + 2 + 2 + 2 + 1 + 0"
      ],
      "metadata": {
        "id": "E3O8dzFfEgir",
        "outputId": "47175027-e6c9-49b4-af44-dcb3d97a6816",
        "colab": {
          "base_uri": "https://localhost:8080/"
        }
      },
      "execution_count": 69,
      "outputs": [
        {
          "output_type": "execute_result",
          "data": {
            "text/plain": [
              "601"
            ]
          },
          "metadata": {},
          "execution_count": 69
        }
      ]
    },
    {
      "cell_type": "code",
      "source": [
        "n = 10\n",
        "print( \"[\", 11 + 6*n + 5*n**2,  \",\", 11 + 6*n  + 5.5*n**2, \")\")"
      ],
      "metadata": {
        "id": "TCpdl5u_Gq1a",
        "outputId": "c9dc33d0-d3ad-4411-8b0c-1eb7b0f80397",
        "colab": {
          "base_uri": "https://localhost:8080/"
        }
      },
      "execution_count": 70,
      "outputs": [
        {
          "output_type": "stream",
          "name": "stdout",
          "text": [
            "[ 571 , 621.0 )\n"
          ]
        }
      ]
    },
    {
      "cell_type": "code",
      "execution_count": 71,
      "metadata": {
        "id": "Kuvm1C05ly2a",
        "outputId": "dd8da9d5-1021-4d6b-b2b8-6192fcf8c538",
        "colab": {
          "base_uri": "https://localhost:8080/"
        }
      },
      "outputs": [
        {
          "output_type": "stream",
          "name": "stdout",
          "text": [
            "600\n"
          ]
        }
      ],
      "source": [
        "!g++ max_pairwise_product_long_full_execints.cpp -o max_pairwise_product_long_full_execints\n",
        "!./max_pairwise_product_long_full_execints < input1.txt"
      ]
    },
    {
      "cell_type": "markdown",
      "source": [
        "\n",
        "For the input2.txt\n",
        "```\n",
        "10\n",
        "10 9 8 7 6 5 4 3 2 1\n",
        "```\n",
        "$$T = 11 + 6*(10) + 5*(10)**2 +  1  = 571 $$"
      ],
      "metadata": {
        "id": "Yr_Lb7CaHfxB"
      }
    },
    {
      "cell_type": "code",
      "source": [
        "11 + 6*(10) + 5*(10)**2 +  1"
      ],
      "metadata": {
        "id": "HOdqlwJiZUIp",
        "outputId": "d0c3f412-68ba-48c9-f942-0952c9f1c2f4",
        "colab": {
          "base_uri": "https://localhost:8080/"
        }
      },
      "execution_count": 72,
      "outputs": [
        {
          "output_type": "execute_result",
          "data": {
            "text/plain": [
              "572"
            ]
          },
          "metadata": {},
          "execution_count": 72
        }
      ]
    },
    {
      "cell_type": "code",
      "source": [
        "!g++ max_pairwise_product_long_full_execints.cpp -o max_pairwise_product_long_full_execints\n",
        "!./max_pairwise_product_long_full_execints < input2.txt"
      ],
      "metadata": {
        "id": "_znzLectjFSe",
        "outputId": "915f6d39-7ca2-402f-8e4c-1c68a3fcc2b7",
        "colab": {
          "base_uri": "https://localhost:8080/"
        }
      },
      "execution_count": 73,
      "outputs": [
        {
          "output_type": "stream",
          "name": "stdout",
          "text": [
            "571\n"
          ]
        }
      ]
    },
    {
      "cell_type": "markdown",
      "metadata": {
        "id": "NXW7QkoBL6xH"
      },
      "source": [
        "Calculate estimated time by instruction and number of instructions by second"
      ]
    },
    {
      "cell_type": "markdown",
      "source": [
        "For the input11.txt\n",
        "```\n",
        "200000\n",
        "1 2 ..  199999 2000\n",
        "```\n",
        "$$T = 11 + 6*(200000) + 5.5*(200000)**2  = 200001200012  $$"
      ],
      "metadata": {
        "id": "dlyRjaohz-YH"
      }
    },
    {
      "cell_type": "code",
      "source": [
        "\n",
        "11 + 6*(200000) + 5.5*(200000)**2"
      ],
      "metadata": {
        "id": "xVP0D8Gdn_U8",
        "outputId": "fe8c31fd-02ba-4da0-cf9d-e28dd8ddf917",
        "colab": {
          "base_uri": "https://localhost:8080/"
        }
      },
      "execution_count": 74,
      "outputs": [
        {
          "output_type": "execute_result",
          "data": {
            "text/plain": [
              "220001200012.0"
            ]
          },
          "metadata": {},
          "execution_count": 74
        }
      ]
    },
    {
      "cell_type": "code",
      "source": [
        "!g++ max_pairwise_product_long_full_execints.cpp -o max_pairwise_product_long_full_execints\n",
        "!./max_pairwise_product_long_full_execints < input11.txt"
      ],
      "metadata": {
        "id": "BMH8mF3EKn2w",
        "outputId": "ed62e040-db51-494e-ee82-802c217fd327",
        "colab": {
          "base_uri": "https://localhost:8080/"
        }
      },
      "execution_count": 75,
      "outputs": [
        {
          "output_type": "stream",
          "name": "stdout",
          "text": [
            "200003177091\n"
          ]
        }
      ]
    },
    {
      "cell_type": "code",
      "source": [
        "!time ./max_pairwise_product_long_full< input11.txt"
      ],
      "metadata": {
        "id": "PoKLekFb1Hz5",
        "outputId": "eca4228b-71cf-4de8-ff87-f3548e734f82",
        "colab": {
          "base_uri": "https://localhost:8080/"
        }
      },
      "execution_count": 155,
      "outputs": [
        {
          "output_type": "stream",
          "name": "stdout",
          "text": [
            "2147483646\n",
            "\n",
            "real\t5m7.895s\n",
            "user\t5m4.835s\n",
            "sys\t0m0.109s\n"
          ]
        }
      ]
    },
    {
      "cell_type": "code",
      "execution_count": 156,
      "metadata": {
        "id": "pKqB3i7dIxnc",
        "outputId": "f8582b21-875b-4e51-b77c-235ea0242e95",
        "colab": {
          "base_uri": "https://localhost:8080/"
        }
      },
      "outputs": [
        {
          "output_type": "execute_result",
          "data": {
            "text/plain": [
              "1.709972836294908e-09"
            ]
          },
          "metadata": {},
          "execution_count": 156
        }
      ],
      "source": [
        "# Estimated time by instruction\n",
        "# use the real reported  !time ./max_pairwise_product_long_full< input11.txt in seconds intead of the 295\n",
        "\n",
        "342/200003177092\n"
      ]
    },
    {
      "cell_type": "code",
      "execution_count": 157,
      "metadata": {
        "id": "18N1ouqeMhE1",
        "outputId": "a79a7152-0c29-49de-a0e1-8df65a5f6d8c",
        "colab": {
          "base_uri": "https://localhost:8080/"
        }
      },
      "outputs": [
        {
          "output_type": "execute_result",
          "data": {
            "text/plain": [
              "584804611.3801169"
            ]
          },
          "metadata": {},
          "execution_count": 157
        }
      ],
      "source": [
        "# Estimated number of instructions by second\n",
        "\n",
        "200003177092/342"
      ]
    },
    {
      "cell_type": "markdown",
      "source": [
        "### Estimate and verify the maximun n that can be solved in 1 second\n",
        "\n",
        "$$(5.5n^2 + 5.5n + 11) \\times 1.47*10^{-9} s = 1 s$$\n",
        "\n",
        "$$ n \\approx 11000$$\n"
      ],
      "metadata": {
        "id": "KyuxejFkL5X_"
      }
    },
    {
      "cell_type": "code",
      "source": [
        "# Verify input13.txt\n",
        "%%writefile WriteTest.cpp\n",
        "\n",
        "#include <iostream>\n",
        "#include <fstream>\n",
        "#include <cstdlib>\n",
        "\n",
        "using namespace std;\n",
        "\n",
        "int main() {\n",
        "  // Create and open a text file\n",
        "  ofstream MyFile(\"input13.txt\");\n",
        "\n",
        " MyFile << 11000 <<\"\\n\";  // n\n",
        " for (int i=1; i <11001; i++){\n",
        "     MyFile << i <<\" \";\n",
        " }\n",
        "\n",
        "  // Close the file\n",
        "  MyFile.close();\n",
        "}"
      ],
      "metadata": {
        "id": "WXu5jp-DLTOI",
        "outputId": "e982419c-31ce-4399-d6a1-584a454f620b",
        "colab": {
          "base_uri": "https://localhost:8080/"
        }
      },
      "execution_count": 78,
      "outputs": [
        {
          "output_type": "stream",
          "name": "stdout",
          "text": [
            "Overwriting WriteTest.cpp\n"
          ]
        }
      ]
    },
    {
      "cell_type": "code",
      "source": [
        "!g++ WriteTest.cpp -o WriteTest\n",
        "!./WriteTest"
      ],
      "metadata": {
        "id": "AQ8N52pUMCeT"
      },
      "execution_count": 79,
      "outputs": []
    },
    {
      "cell_type": "code",
      "source": [
        "10999 * 11000"
      ],
      "metadata": {
        "id": "2iIOdbTrEtBx",
        "outputId": "56023ef4-6709-4e45-b3e5-6a0c2da96a42",
        "colab": {
          "base_uri": "https://localhost:8080/"
        }
      },
      "execution_count": 80,
      "outputs": [
        {
          "output_type": "execute_result",
          "data": {
            "text/plain": [
              "120989000"
            ]
          },
          "metadata": {},
          "execution_count": 80
        }
      ]
    },
    {
      "cell_type": "code",
      "source": [
        "!g++ max_pairwise_product_long_full.cpp -o max_pairwise_product_long_full\n",
        "!time ./max_pairwise_product_long_full< input13.txt"
      ],
      "metadata": {
        "id": "ussuAokfM2du",
        "outputId": "3a914393-b718-432c-81f1-9731851a6557",
        "colab": {
          "base_uri": "https://localhost:8080/"
        }
      },
      "execution_count": 81,
      "outputs": [
        {
          "output_type": "stream",
          "name": "stdout",
          "text": [
            "120989000\n",
            "\n",
            "real\t0m0.856s\n",
            "user\t0m0.850s\n",
            "sys\t0m0.002s\n"
          ]
        }
      ]
    },
    {
      "cell_type": "markdown",
      "metadata": {
        "id": "Tm_AVmt-QQH4"
      },
      "source": [
        "## Python"
      ]
    },
    {
      "cell_type": "code",
      "execution_count": 82,
      "metadata": {
        "id": "gRCCcd7IQTKZ",
        "outputId": "c01b0929-274d-4b3f-98b0-fdab3b33b1e1",
        "colab": {
          "base_uri": "https://localhost:8080/"
        }
      },
      "outputs": [
        {
          "output_type": "stream",
          "name": "stdout",
          "text": [
            "Writing max_pairwise_product_long_full.py\n"
          ]
        }
      ],
      "source": [
        "\n",
        "%%writefile max_pairwise_product_long_full.py\n",
        "def MaxPairwiseProduct(numbers):\n",
        "  max_product = 0\n",
        "  aux_product = 0\n",
        "  n = len(numbers)\n",
        "\n",
        "  for first in range (n):\n",
        "    for second in range(n):\n",
        "      if(first != second):\n",
        "        aux_product = numbers[first]*numbers[second]\n",
        "        if aux_product > max_product:\n",
        "          max_product = aux_product\n",
        "  return max_product\n",
        "\n",
        "n = int(input())\n",
        "numbers = [int(i) for i in input().split()]\n",
        "print(MaxPairwiseProduct(numbers))\n"
      ]
    },
    {
      "cell_type": "code",
      "execution_count": 83,
      "metadata": {
        "id": "hjw7TJrDL0d-",
        "outputId": "83ac5e8c-92cb-43da-c4aa-f5947c3215eb",
        "colab": {
          "base_uri": "https://localhost:8080/"
        }
      },
      "outputs": [
        {
          "output_type": "stream",
          "name": "stdout",
          "text": [
            "120989000\n",
            "\n",
            "real\t0m20.886s\n",
            "user\t0m20.557s\n",
            "sys\t0m0.031s\n"
          ]
        }
      ],
      "source": [
        "# Verify\n",
        "!time python3 max_pairwise_product_long_full.py < input13.txt"
      ]
    },
    {
      "cell_type": "markdown",
      "source": [
        "# For the follwing solutions rquired  the same tests and analysis performed for the first solution"
      ],
      "metadata": {
        "id": "fEZR-3V4ZjCv"
      }
    },
    {
      "cell_type": "markdown",
      "metadata": {
        "id": "MKQKSC-vKePK"
      },
      "source": [
        "## Solutions in C++ and Python that uses\n",
        "$$\\frac{n^2 - n}{2} = O(n^2)\\ \\ \\text{products}$$"
      ]
    },
    {
      "cell_type": "code",
      "execution_count": 84,
      "metadata": {
        "id": "jkkHHoxSK65p",
        "outputId": "6b21d366-4cc9-43c2-e18f-45277564c97b",
        "colab": {
          "base_uri": "https://localhost:8080/"
        }
      },
      "outputs": [
        {
          "output_type": "stream",
          "name": "stdout",
          "text": [
            "Writing max_pairwise_product.cpp\n"
          ]
        }
      ],
      "source": [
        "%%writefile max_pairwise_product.cpp\n",
        "#include <iostream>\n",
        "#include <vector>\n",
        "#include <algorithm>\n",
        "\n",
        "int MaxPairwiseProduct(const std::vector<int>& numbers) {\n",
        "    int max_product = 0;\n",
        "    int n = numbers.size();\n",
        "\n",
        "    for (int first = 0; first < n; ++first) {\n",
        "        for (int second = first + 1; second < n; ++second) {\n",
        "            max_product = std::max(max_product,\n",
        "                numbers[first] * numbers[second]);\n",
        "        }\n",
        "    }\n",
        "\n",
        "    return max_product;\n",
        "}\n",
        "\n",
        "int main() {\n",
        "    int n;\n",
        "    std::cin >> n;\n",
        "    std::vector<int> numbers(n);\n",
        "    for (int i = 0; i < n; ++i) {\n",
        "        std::cin >> numbers[i];\n",
        "    }\n",
        "\n",
        "    std::cout << MaxPairwiseProduct(numbers) << \"\\n\";\n",
        "    return 0;\n",
        "}"
      ]
    },
    {
      "cell_type": "code",
      "execution_count": 85,
      "metadata": {
        "id": "sU8-Ote7K8vz",
        "outputId": "fdea1dbd-b55e-47f5-c555-4d928b6af220",
        "colab": {
          "base_uri": "https://localhost:8080/"
        }
      },
      "outputs": [
        {
          "output_type": "stream",
          "name": "stdout",
          "text": [
            "Writing max_pairwise_product_long.cpp\n"
          ]
        }
      ],
      "source": [
        "%%writefile max_pairwise_product_long.cpp\n",
        "#include <iostream>\n",
        "#include <vector>\n",
        "#include <algorithm>\n",
        "\n",
        "long long MaxPairwiseProduct(const std::vector<int>& numbers) {              //INSTRUCTIONS executed by line\n",
        "    long long max_product = 0LL;                                             //1\n",
        "\t  long long aux_product = 0LL;                                             //1\n",
        "    int n = numbers.size();                                                  //1\n",
        "\n",
        "    for (int first = 0; first < n; ++first) {                                //2+2n\n",
        "        for (int second = first + 1; second < n; ++second) {                 //2n + (n-1)n\n",
        "\t\t\t       aux_product =  (long long) numbers[first] * numbers[second];    //(n-1)n/2\n",
        "            if (max_product < aux_product)  {                                //(n-1)n/2\n",
        "\t\t\t\t        max_product = aux_product;                                   //[1,(n-1)n/2)  upper bound\n",
        "             }\n",
        "        }\n",
        "    }\n",
        "                                                                             // --------------\n",
        "    return max_product;                                                      // 5 + 4n + [2(n-1)n+1, 2.5 (n-1)n) upper bound\n",
        "}\n",
        "\n",
        "int main() {                                              //INSTRUCTIONS executed by line\n",
        "    int n;                                                //1\n",
        "    std::cin >> n;                                        //1\n",
        "    std::vector<int> numbers(n);                          //n\n",
        "    for (int i = 0; i < n; ++i) {                         //2 + 2n\n",
        "        std::cin >> numbers[i];                           //n\n",
        "    }\n",
        "\n",
        "    std::cout << MaxPairwiseProduct(numbers) << \"\\n\";     //1 + 1  + 5 + 4n + [2(n-1)n+1, 2.5 (n-1)n) upper bound\n",
        "    return 0;                                             // --------------\n",
        "}                                                         // 11 + 7n + [2(n-1)n+1, 2.5 (n-1)n) upper bound\n"
      ]
    },
    {
      "cell_type": "code",
      "execution_count": 86,
      "metadata": {
        "id": "5QWT3fneK8nw",
        "outputId": "baab0b3d-40b2-49f8-e6f2-2881730e5adc",
        "colab": {
          "base_uri": "https://localhost:8080/"
        }
      },
      "outputs": [
        {
          "output_type": "stream",
          "name": "stdout",
          "text": [
            "120989000\n",
            "\n",
            "real\t0m0.419s\n",
            "user\t0m0.415s\n",
            "sys\t0m0.002s\n"
          ]
        }
      ],
      "source": [
        "!g++ max_pairwise_product_long.cpp -o max_pairwise_product_long\n",
        "!time ./max_pairwise_product_long < input13.txt"
      ]
    },
    {
      "cell_type": "code",
      "execution_count": 87,
      "metadata": {
        "id": "mxIVvm1RK8dB",
        "outputId": "7eb7f55d-1678-4ea2-8873-256a2f336678",
        "colab": {
          "base_uri": "https://localhost:8080/"
        }
      },
      "outputs": [
        {
          "output_type": "stream",
          "name": "stdout",
          "text": [
            "120989000\n",
            "\n",
            "real\t0m0.556s\n",
            "user\t0m0.550s\n",
            "sys\t0m0.003s\n"
          ]
        }
      ],
      "source": [
        "!g++ max_pairwise_product.cpp -o max_pairwise_product\n",
        "!time ./max_pairwise_product < input13.txt"
      ]
    },
    {
      "cell_type": "markdown",
      "metadata": {
        "id": "1Hsbd-uHOb_j"
      },
      "source": [
        "# Sort solution in C++ and Python\n",
        "\n",
        "$$ O(n \\lg n)$$\n",
        "\n",
        "**Which sorting algorithm is used in GCC?**\n",
        "https://stackoverflow.com/questions/7221257/which-sorting-algorithm-is-used-in-gcc\n",
        "\n",
        "* ...  the algorithm is called introsort, a combination between Insertionsort, Quicksort & Heapsort. ...\n",
        "\n",
        "**Introsort**\n",
        "https://en.wikipedia.org/wiki/Introsort\n",
        "\n",
        "Introsort or introspective sort is a hybrid sorting algorithm that provides both fast average performance and (asymptotically) optimal worst-case performance. It begins with quicksort, it switches to heapsort when the recursion depth exceeds a level based on (the logarithm of) the number of elements being sorted and it switches to insertion sort when the number of elements is below some threshold\n",
        "\n",
        "*   Class\tSorting algorithm\n",
        "*   Data structure\tArray\n",
        "*   Worst-case performance\t$O(n \\lg n)$\n",
        "*   Average performance\t$O(n \\lg n)$\n",
        "\n",
        "**Tinsort**\n",
        "https://en.wikipedia.org/wiki/Timsort\n",
        "\n",
        "Timsort is a hybrid, stable sorting algorithm, derived from merge sort and insertion sort, designed to perform well on many kinds of real-world data. It was implemented by Tim Peters in 2002 for use in the Python programming language.\n",
        "\n",
        "*   Class\tSorting algorithm\n",
        "*   Data structure\tArray\n",
        "*   Worst-case performance\t$O(n \\lg n)$\n",
        "*   Best-case performance $O(n)$\n",
        "*   Average performance\t$O(n \\lg n)$\n",
        "*   Worst-case space complexity $O(n)$"
      ]
    },
    {
      "cell_type": "markdown",
      "metadata": {
        "id": "WMUthAXjOb_k"
      },
      "source": []
    },
    {
      "cell_type": "code",
      "source": [
        "%%writefile max_pairwise_product_with_sort.py\n",
        "#Python3\n",
        "if __name__ == \"__main__\":\n",
        "    n = int(input())\n",
        "    lista = list(map(int, input().split()))\n",
        "    lista.sort()\n",
        "    print(lista[n - 1] * lista[n - 2])"
      ],
      "metadata": {
        "id": "jnIRWyUEDu_C",
        "outputId": "981d726c-dd01-480c-a91f-0faed2201d66",
        "colab": {
          "base_uri": "https://localhost:8080/"
        }
      },
      "execution_count": 88,
      "outputs": [
        {
          "output_type": "stream",
          "name": "stdout",
          "text": [
            "Writing max_pairwise_product_with_sort.py\n"
          ]
        }
      ]
    },
    {
      "cell_type": "code",
      "source": [
        "%%writefile max_pairwise_product_with_sort_C.cpp\n",
        "#include <iostream>\n",
        "#include <vector>\n",
        "#include <algorithm>\n",
        "\n",
        "int main() {\n",
        "    int n;\n",
        "    std::cin >> n;\n",
        "    std::vector<int> numbers(n);\n",
        "    for (int i = 0; i < n; ++i) {\n",
        "        std::cin >> numbers[i];\n",
        "    }\n",
        "\n",
        "    std::sort(numbers.begin(), numbers.end());\n",
        "    std::cout << (long long) numbers[n - 1] * numbers[n - 2] << '\\n';\n",
        "\n",
        "    return 0;\n",
        "}\n"
      ],
      "metadata": {
        "id": "J-6EL60rm4Fu",
        "outputId": "cafab542-a579-4f4a-f57c-e79f4d6877b3",
        "colab": {
          "base_uri": "https://localhost:8080/"
        }
      },
      "execution_count": 89,
      "outputs": [
        {
          "output_type": "stream",
          "name": "stdout",
          "text": [
            "Writing max_pairwise_product_with_sort_C.cpp\n"
          ]
        }
      ]
    },
    {
      "cell_type": "code",
      "source": [
        "!g++ max_pairwise_product_with_sort_C.cpp -o max_pairwise_product_with_sort_C"
      ],
      "metadata": {
        "id": "oylzuXmPm-WV"
      },
      "execution_count": 90,
      "outputs": []
    },
    {
      "cell_type": "markdown",
      "metadata": {
        "id": "v8pdV9ABOb_k"
      },
      "source": [
        "Test with inputs 1 and 2\n",
        "\n"
      ]
    },
    {
      "cell_type": "code",
      "execution_count": 91,
      "metadata": {
        "id": "kdXAyLG4Ob_k",
        "outputId": "59a93397-45b5-4a86-992a-ba089327ebe2",
        "colab": {
          "base_uri": "https://localhost:8080/"
        }
      },
      "outputs": [
        {
          "output_type": "stream",
          "name": "stdout",
          "text": [
            "90\n",
            "90\n"
          ]
        }
      ],
      "source": [
        "!./max_pairwise_product_with_sort_C < input1.txt\n",
        "!./max_pairwise_product_with_sort_C < input2.txt"
      ]
    },
    {
      "cell_type": "code",
      "source": [
        "!python max_pairwise_product_with_sort.py < input1.txt\n",
        "!python max_pairwise_product_with_sort.py < input2.txt"
      ],
      "metadata": {
        "id": "LdqpX9NxqARW",
        "outputId": "09f4a535-603d-4bd1-c4ca-341acee85d97",
        "colab": {
          "base_uri": "https://localhost:8080/"
        }
      },
      "execution_count": 92,
      "outputs": [
        {
          "output_type": "stream",
          "name": "stdout",
          "text": [
            "90\n",
            "90\n"
          ]
        }
      ]
    },
    {
      "cell_type": "markdown",
      "metadata": {
        "id": "Sw-5X1q1Ob_k"
      },
      "source": [
        "Test and time it with input 3"
      ]
    },
    {
      "cell_type": "code",
      "execution_count": 93,
      "metadata": {
        "id": "ryHJ30WIOb_k",
        "outputId": "166f1fc3-ac18-4ee4-fade-4bad22eb2072",
        "colab": {
          "base_uri": "https://localhost:8080/"
        }
      },
      "outputs": [
        {
          "output_type": "stream",
          "name": "stdout",
          "text": [
            "40000000000\n",
            "\n",
            "real\t0m0.006s\n",
            "user\t0m0.002s\n",
            "sys\t0m0.001s\n"
          ]
        }
      ],
      "source": [
        "!time ./max_pairwise_product_with_sort_C < input3.txt"
      ]
    },
    {
      "cell_type": "code",
      "source": [
        "%%time\n",
        "!python max_pairwise_product_with_sort.py < input3.txt"
      ],
      "metadata": {
        "id": "eTxMSLt3qOke",
        "outputId": "b0a4dc40-79ab-4b77-d8c9-b7a5645b9347",
        "colab": {
          "base_uri": "https://localhost:8080/"
        }
      },
      "execution_count": 94,
      "outputs": [
        {
          "output_type": "stream",
          "name": "stdout",
          "text": [
            "40000000000\n",
            "CPU times: user 5.56 ms, sys: 1.75 ms, total: 7.31 ms\n",
            "Wall time: 108 ms\n"
          ]
        }
      ]
    },
    {
      "cell_type": "markdown",
      "metadata": {
        "id": "oJGdPl1HOb_k"
      },
      "source": [
        "20 stress tests"
      ]
    },
    {
      "cell_type": "code",
      "execution_count": 95,
      "metadata": {
        "id": "pXHtO1dEOb_k",
        "outputId": "1a4fdc91-72cc-4cd0-8112-bf7bab836da5",
        "colab": {
          "base_uri": "https://localhost:8080/"
        }
      },
      "outputs": [
        {
          "output_type": "stream",
          "name": "stdout",
          "text": [
            "Writing stress_tests.py\n"
          ]
        }
      ],
      "source": [
        "%%writefile stress_tests.py\n",
        "#Python3\n",
        "import random\n",
        "\n",
        "if __name__ == \"__main__\":\n",
        "    for i in range(20):\n",
        "        n = random.randint(2, 19)\n",
        "        lista = [random.randint(17, 25631) for i in range(n)]\n",
        "        lista.sort()\n",
        "        print(f\"n: {n} Product: {lista[n - 1] * lista[n - 2]}\")\n"
      ]
    },
    {
      "cell_type": "code",
      "source": [
        "%%writefile stress_tests_C.cpp\n",
        "#include <iostream>     // Para std::cout\n",
        "#include <vector>       // Para std::vector\n",
        "#include <algorithm>    // Para std::sort\n",
        "#include <random>       // Para std::random_device, std::mt19937, std::uniform_int_distribution\n",
        "\n",
        "int main() {\n",
        "    std::random_device rd;                      // Generador de semilla\n",
        "    std::mt19937 gen(rd());                     // Generador de números aleatorios\n",
        "    std::uniform_int_distribution<int> n_dist(2, 99);      // Distribución para n\n",
        "    std::uniform_int_distribution<int> num_dist(0, 25000); // Distribución para los números\n",
        "\n",
        "    for (int i = 0; i < 100; ++i) {\n",
        "        int n = n_dist(gen);                    // Generar tamaño aleatorio del vector\n",
        "        std::vector<int> numbers(n);           // Vector de tamaño n\n",
        "        for (int j = 0; j < n; ++j) {          // Llenar el vector con números aleatorios\n",
        "            numbers[j] = num_dist(gen);\n",
        "        }\n",
        "\n",
        "        std::sort(numbers.begin(), numbers.end()); // Ordenar el vector\n",
        "        std::cout << \"n= \" << n\n",
        "                  << \" Product= \" << (long long) numbers[n - 1] * numbers[n - 2] << '\\n';\n",
        "    }\n",
        "\n",
        "    return 0;\n",
        "}\n"
      ],
      "metadata": {
        "id": "zcCtyrskqcNM",
        "outputId": "aa591001-bbd4-4932-8e22-63adfc194ade",
        "colab": {
          "base_uri": "https://localhost:8080/"
        }
      },
      "execution_count": 96,
      "outputs": [
        {
          "output_type": "stream",
          "name": "stdout",
          "text": [
            "Writing stress_tests_C.cpp\n"
          ]
        }
      ]
    },
    {
      "cell_type": "code",
      "source": [
        "!g++ stress_tests_C.cpp -o stress_tests_C\n",
        "!./stress_tests_C\n"
      ],
      "metadata": {
        "id": "j5By_BDrqgFb",
        "outputId": "ac26f8c6-de2c-48e8-aa16-96dfc5edf331",
        "colab": {
          "base_uri": "https://localhost:8080/"
        }
      },
      "execution_count": 97,
      "outputs": [
        {
          "output_type": "stream",
          "name": "stdout",
          "text": [
            "n= 94 Product= 606950000\n",
            "n= 3 Product= 299128918\n",
            "n= 61 Product= 590456885\n",
            "n= 67 Product= 598626864\n",
            "n= 14 Product= 575714568\n",
            "n= 28 Product= 601350400\n",
            "n= 38 Product= 569594816\n",
            "n= 5 Product= 360389426\n",
            "n= 25 Product= 466232000\n",
            "n= 66 Product= 605247098\n",
            "n= 31 Product= 553556800\n",
            "n= 49 Product= 612810024\n",
            "n= 29 Product= 580298516\n",
            "n= 71 Product= 607526202\n",
            "n= 74 Product= 565088400\n",
            "n= 41 Product= 609264544\n",
            "n= 4 Product= 540159486\n",
            "n= 81 Product= 611248482\n",
            "n= 59 Product= 619784864\n",
            "n= 67 Product= 589810104\n",
            "n= 30 Product= 528402025\n",
            "n= 93 Product= 609543805\n",
            "n= 50 Product= 613399800\n",
            "n= 45 Product= 615480856\n",
            "n= 81 Product= 574961018\n",
            "n= 92 Product= 617442402\n",
            "n= 55 Product= 549315305\n",
            "n= 98 Product= 579301184\n",
            "n= 4 Product= 250095600\n",
            "n= 61 Product= 590519182\n",
            "n= 24 Product= 563421426\n",
            "n= 18 Product= 578636070\n",
            "n= 76 Product= 612572970\n",
            "n= 69 Product= 530047920\n",
            "n= 30 Product= 567528507\n",
            "n= 64 Product= 612623412\n",
            "n= 89 Product= 606180960\n",
            "n= 88 Product= 617199450\n",
            "n= 90 Product= 598120068\n",
            "n= 96 Product= 606351998\n",
            "n= 62 Product= 595594421\n",
            "n= 30 Product= 575137050\n",
            "n= 39 Product= 596491835\n",
            "n= 46 Product= 572293250\n",
            "n= 54 Product= 616677282\n",
            "n= 98 Product= 573054405\n",
            "n= 24 Product= 555761652\n",
            "n= 19 Product= 569703494\n",
            "n= 57 Product= 602400381\n",
            "n= 65 Product= 624725010\n",
            "n= 90 Product= 608040866\n",
            "n= 23 Product= 585360964\n",
            "n= 18 Product= 581651550\n",
            "n= 41 Product= 600132880\n",
            "n= 59 Product= 583827270\n",
            "n= 67 Product= 601173980\n",
            "n= 76 Product= 561903308\n",
            "n= 67 Product= 615125280\n",
            "n= 24 Product= 606308196\n",
            "n= 40 Product= 485304966\n",
            "n= 78 Product= 562233972\n",
            "n= 77 Product= 598348980\n",
            "n= 45 Product= 597932309\n",
            "n= 76 Product= 613769998\n",
            "n= 88 Product= 592171200\n",
            "n= 53 Product= 609710393\n",
            "n= 86 Product= 606094872\n",
            "n= 57 Product= 584755086\n",
            "n= 95 Product= 560497288\n",
            "n= 28 Product= 545600991\n",
            "n= 25 Product= 508405694\n",
            "n= 65 Product= 610184448\n",
            "n= 74 Product= 608855264\n",
            "n= 20 Product= 538101861\n",
            "n= 7 Product= 451578094\n",
            "n= 18 Product= 620828550\n",
            "n= 59 Product= 602110470\n",
            "n= 68 Product= 599880750\n",
            "n= 4 Product= 384202346\n",
            "n= 65 Product= 591469429\n",
            "n= 8 Product= 448218029\n",
            "n= 47 Product= 582027888\n",
            "n= 97 Product= 599424480\n",
            "n= 70 Product= 624900000\n",
            "n= 82 Product= 541649449\n",
            "n= 83 Product= 596988266\n",
            "n= 74 Product= 614562884\n",
            "n= 17 Product= 611668688\n",
            "n= 42 Product= 581675008\n",
            "n= 77 Product= 613910934\n",
            "n= 26 Product= 580054904\n",
            "n= 71 Product= 612967572\n",
            "n= 28 Product= 504568790\n",
            "n= 12 Product= 503566469\n",
            "n= 7 Product= 459533377\n",
            "n= 88 Product= 610993736\n",
            "n= 30 Product= 579075996\n",
            "n= 5 Product= 575589522\n",
            "n= 60 Product= 579230036\n",
            "n= 28 Product= 598658500\n"
          ]
        }
      ]
    },
    {
      "cell_type": "code",
      "source": [
        "!python stress_tests.py"
      ],
      "metadata": {
        "id": "sUkZs45TqmwG",
        "outputId": "49bc79f9-c96c-4bb6-c0a8-6d50b7fce5be",
        "colab": {
          "base_uri": "https://localhost:8080/"
        }
      },
      "execution_count": 98,
      "outputs": [
        {
          "output_type": "stream",
          "name": "stdout",
          "text": [
            "n: 9 Product: 573679152\n",
            "n: 4 Product: 93506998\n",
            "n: 14 Product: 426097616\n",
            "n: 13 Product: 527566754\n",
            "n: 10 Product: 638798868\n",
            "n: 19 Product: 632356968\n",
            "n: 15 Product: 617100701\n",
            "n: 10 Product: 635690826\n",
            "n: 5 Product: 400384656\n",
            "n: 18 Product: 638506736\n",
            "n: 7 Product: 399187035\n",
            "n: 16 Product: 551788500\n",
            "n: 12 Product: 545716030\n",
            "n: 12 Product: 631027268\n",
            "n: 15 Product: 346002020\n",
            "n: 14 Product: 541751782\n",
            "n: 16 Product: 519218898\n",
            "n: 7 Product: 597540263\n",
            "n: 9 Product: 336232908\n",
            "n: 10 Product: 356817936\n"
          ]
        }
      ]
    },
    {
      "cell_type": "markdown",
      "metadata": {
        "id": "2beTmWFPOb_k"
      },
      "source": [
        "Count executed instructions in code and verify with inputs 1,2 and 3\n"
      ]
    },
    {
      "cell_type": "code",
      "execution_count": 99,
      "metadata": {
        "id": "iuByv4x1Ob_k",
        "outputId": "edf95ee3-2702-4ae1-fe0c-a5cefa7421a1",
        "colab": {
          "base_uri": "https://localhost:8080/"
        }
      },
      "outputs": [
        {
          "output_type": "stream",
          "name": "stdout",
          "text": [
            "Writing max_pairwise_product_with_sort_and_instructions.py\n"
          ]
        }
      ],
      "source": [
        "%%writefile max_pairwise_product_with_sort_and_instructions.py\n",
        "#Python3\n",
        "import math\n",
        "if __name__ == \"__main__\":\n",
        "    inst=0\n",
        "    n = int(input())\n",
        "    inst+=1\n",
        "    lista = list(map(int, input().split()))\n",
        "    inst+= 4*n\n",
        "    lista.sort()\n",
        "    inst+=  n * math.log2(n)\n",
        "    print(lista[n - 1] * lista[n - 2])\n",
        "    inst+=1\n",
        "    print(f\"Instrucciones ejecutadas: {int(inst)}\\n\")"
      ]
    },
    {
      "cell_type": "code",
      "source": [
        "%%writefile max_pairwise_product_with_sort_C_and_instructions.cpp\n",
        "#include <iostream>     // Para std::cin y std::cout\n",
        "#include <vector>       // Para std::vector\n",
        "#include <algorithm>    // Para std::sort\n",
        "#include <cmath>        // Para log2\n",
        "\n",
        "int main() {\n",
        "    int inst = 0;  // Contador de instrucciones\n",
        "    int n;         // Número de elementos\n",
        "    inst++;        // Incrementar contador por la declaración de inst y n\n",
        "    std::cin >> n; // Leer el número de elementos\n",
        "    inst++;\n",
        "    std::vector<int> numbers(n); // Crear un vector de tamaño n\n",
        "    inst += n;  // Considerar las instrucciones para inicializar el vector\n",
        "    inst++;     // Declaración de i=0\n",
        "\n",
        "    for (int i = 0; i < n; ++i) { // Bucle para leer los números\n",
        "        inst += 2;                // Comparación y actualización del índice\n",
        "        std::cin >> numbers[i];   // Leer el elemento i del vector\n",
        "        inst++;\n",
        "    }\n",
        "\n",
        "    std::sort(numbers.begin(), numbers.end()); // Ordenar el vector\n",
        "    inst += n * std::log2(n);                  // Instrucciones ejecutadas por el ordenamiento\n",
        "\n",
        "    std::cout << (long long) numbers[n - 1] * numbers[n - 2] << '\\n'; // Imprimir el producto máximo\n",
        "    inst += 2; // Operaciones de salida\n",
        "\n",
        "    std::cout << \"Instrucciones Ejecutadas: \" << inst << '\\n'; // Imprimir el total de instrucciones\n",
        "    return 0;\n",
        "}\n"
      ],
      "metadata": {
        "id": "8PGUH0-eqwU8",
        "outputId": "320e2001-b79c-42cc-e242-ed7671025a01",
        "colab": {
          "base_uri": "https://localhost:8080/"
        }
      },
      "execution_count": 100,
      "outputs": [
        {
          "output_type": "stream",
          "name": "stdout",
          "text": [
            "Writing max_pairwise_product_with_sort_C_and_instructions.cpp\n"
          ]
        }
      ]
    },
    {
      "cell_type": "code",
      "source": [
        "!g++ max_pairwise_product_with_sort_C_and_instructions.cpp -o max_pairwise_product_with_sort_C_and_instructions"
      ],
      "metadata": {
        "id": "IDdfAZRzq0Mm"
      },
      "execution_count": 101,
      "outputs": []
    },
    {
      "cell_type": "code",
      "source": [
        "!./max_pairwise_product_with_sort_C_and_instructions < input1.txt\n",
        "!./max_pairwise_product_with_sort_C_and_instructions < input2.txt\n",
        "!./max_pairwise_product_with_sort_C_and_instructions < input3.txt"
      ],
      "metadata": {
        "id": "L51MbT_0q5Re",
        "outputId": "58d03264-5acd-4b32-92fa-9fde0e486d18",
        "colab": {
          "base_uri": "https://localhost:8080/"
        }
      },
      "execution_count": 102,
      "outputs": [
        {
          "output_type": "stream",
          "name": "stdout",
          "text": [
            "90\n",
            "Instrucciones Ejecutadas: 78\n",
            "90\n",
            "Instrucciones Ejecutadas: 78\n",
            "40000000000\n",
            "Instrucciones Ejecutadas: 44\n"
          ]
        }
      ]
    },
    {
      "cell_type": "code",
      "source": [
        "!python max_pairwise_product_with_sort_and_instructions.py < input1.txt\n",
        "!python max_pairwise_product_with_sort_and_instructions.py < input2.txt\n",
        "!python max_pairwise_product_with_sort_and_instructions.py < input3.txt"
      ],
      "metadata": {
        "id": "6uJj8iHcq9Af",
        "outputId": "fbf8342f-7776-43a5-ce87-8473018f71e8",
        "colab": {
          "base_uri": "https://localhost:8080/"
        }
      },
      "execution_count": 103,
      "outputs": [
        {
          "output_type": "stream",
          "name": "stdout",
          "text": [
            "90\n",
            "Instrucciones ejecutadas: 75\n",
            "\n",
            "90\n",
            "Instrucciones ejecutadas: 75\n",
            "\n",
            "40000000000\n",
            "Instrucciones ejecutadas: 41\n",
            "\n"
          ]
        }
      ]
    },
    {
      "cell_type": "markdown",
      "metadata": {
        "id": "x2CXhkwTOb_l"
      },
      "source": [
        "Calculate estimated time by instruction and number of instructions by second"
      ]
    },
    {
      "cell_type": "code",
      "execution_count": 104,
      "metadata": {
        "id": "nTjxyTMtOb_l",
        "outputId": "cd69f9e3-808c-486c-8637-06ce7afbdc53",
        "colab": {
          "base_uri": "https://localhost:8080/"
        }
      },
      "outputs": [
        {
          "output_type": "stream",
          "name": "stdout",
          "text": [
            "Writing max_pairwise_product_with_sort_and_instructions_with_time_and_IbS.py\n"
          ]
        }
      ],
      "source": [
        "%%writefile max_pairwise_product_with_sort_and_instructions_with_time_and_IbS.py\n",
        "#Python3\n",
        "import math\n",
        "import time\n",
        "if __name__ == \"__main__\":\n",
        "    inicio = time.time()\n",
        "    inst=0\n",
        "    n = int(input())\n",
        "    inst+=1\n",
        "    lista = list(map(int, input().split()))\n",
        "    inst+= 4*n\n",
        "    lista.sort()\n",
        "    inst+=  n * math.log2(n)\n",
        "    print(lista[n - 1] * lista[n - 2])\n",
        "    inst+=1\n",
        "    print(f\"Instrucciones ejecutadas: {int(inst)}\")\n",
        "    fin = time.time()\n",
        "    tiempo_total = fin - inicio\n",
        "    instructionTime = tiempo_total/inst\n",
        "    instructionBySecond= inst/tiempo_total\n",
        "\n",
        "    print(f\"Tiempo total de ejecución: {tiempo_total*1000} milisegundos\")\n",
        "    print(f\"Tiempo estimado de cada instruccion: {instructionTime*1000} milisegundos\")\n",
        "    print(f\"Instrucciones por segundo: {int(instructionBySecond)} \")"
      ]
    },
    {
      "cell_type": "code",
      "source": [
        "!python max_pairwise_product_with_sort_and_instructions_with_time_and_IbS.py < input13.txt"
      ],
      "metadata": {
        "id": "otc__RVPrLlG",
        "outputId": "1a17dc6a-7dd5-41cc-ca17-c70f03a666e1",
        "colab": {
          "base_uri": "https://localhost:8080/"
        }
      },
      "execution_count": 105,
      "outputs": [
        {
          "output_type": "stream",
          "name": "stdout",
          "text": [
            "120989000\n",
            "Instrucciones ejecutadas: 191679\n",
            "Tiempo total de ejecución: 7.471561431884766 milisegundos\n",
            "Tiempo estimado de cada instruccion: 3.897947514889394e-05 milisegundos\n",
            "Instrucciones por segundo: 25654527 \n"
          ]
        }
      ]
    },
    {
      "cell_type": "markdown",
      "source": [
        "### Estimate and verify the maximun n that can be solved in 1 second"
      ],
      "metadata": {
        "id": "CcgDYDQuaFeH"
      }
    },
    {
      "cell_type": "code",
      "source": [
        "%%writefile maximun_n_that_can_be_solved.py\n",
        "#Python3\n",
        "import random\n",
        "\n",
        "if __name__ == \"__main__\":\n",
        "      n = 600000\n",
        "      lista = [random.randint(17, 25631) for i in range(n)]\n",
        "      lista.sort()\n",
        "      print(f\"n: {n} Product: {lista[n - 1] * lista[n - 2]}\")"
      ],
      "metadata": {
        "id": "fLztHReKaGFq",
        "outputId": "b69549c7-ea62-4618-db87-17e475bd7ca3",
        "colab": {
          "base_uri": "https://localhost:8080/"
        }
      },
      "execution_count": 106,
      "outputs": [
        {
          "output_type": "stream",
          "name": "stdout",
          "text": [
            "Writing maximun_n_that_can_be_solved.py\n"
          ]
        }
      ]
    },
    {
      "cell_type": "code",
      "source": [
        "%%time\n",
        "!python maximun_n_that_can_be_solved.py"
      ],
      "metadata": {
        "id": "G9_1ngOYrUpU",
        "outputId": "a7aeaec3-7b73-4a11-fe6a-47c78e8c47c3",
        "colab": {
          "base_uri": "https://localhost:8080/"
        }
      },
      "execution_count": 107,
      "outputs": [
        {
          "output_type": "stream",
          "name": "stdout",
          "text": [
            "n: 600000 Product: 656948161\n",
            "CPU times: user 15.7 ms, sys: 3.15 ms, total: 18.8 ms\n",
            "Wall time: 1.12 s\n"
          ]
        }
      ]
    },
    {
      "cell_type": "code",
      "source": [
        "%%writefile maximun_n_that_can_be_solved_C.cpp\n",
        "#include <iostream>     // Para std::cout\n",
        "#include <vector>       // Para std::vector\n",
        "#include <algorithm>    // Para std::sort\n",
        "#include <random>       // Para std::random_device, std::mt19937, std::uniform_int_distribution\n",
        "\n",
        "int main() {\n",
        "    std::random_device rd;                          // Generador de semilla\n",
        "    std::mt19937 gen(rd());                         // Generador de números aleatorios\n",
        "    std::uniform_int_distribution<int> num_dist(0, 25000); // Distribución para números\n",
        "\n",
        "    int n = 1700000;                                // Tamaño del vector\n",
        "    std::vector<int> numbers(n);                    // Crear un vector de tamaño n\n",
        "    for (int i = 0; i < n; ++i) {                   // Llenar el vector con números aleatorios\n",
        "        numbers[i] = num_dist(gen);\n",
        "    }\n",
        "\n",
        "    std::sort(numbers.begin(), numbers.end());      // Ordenar el vector\n",
        "\n",
        "    // Imprimir el producto de los dos números más grandes\n",
        "    std::cout << \"n= \" << n\n",
        "              << \" Product= \" << (long long) numbers[n - 1] * numbers[n - 2] << '\\n';\n",
        "\n",
        "    return 0;\n",
        "}\n"
      ],
      "metadata": {
        "id": "LrivKYKara6J",
        "outputId": "d3301a0e-a45d-4b6f-d71a-52116f5949cf",
        "colab": {
          "base_uri": "https://localhost:8080/"
        }
      },
      "execution_count": 108,
      "outputs": [
        {
          "output_type": "stream",
          "name": "stdout",
          "text": [
            "Writing maximun_n_that_can_be_solved_C.cpp\n"
          ]
        }
      ]
    },
    {
      "cell_type": "code",
      "source": [
        "!g++ maximun_n_that_can_be_solved_C.cpp -o maximun_n_that_can_be_solved_C\n",
        "!time ./maximun_n_that_can_be_solved_C"
      ],
      "metadata": {
        "id": "l3J7o1jLrjv5",
        "outputId": "2af1118e-4990-4986-b59b-fe3b2689dc71",
        "colab": {
          "base_uri": "https://localhost:8080/"
        }
      },
      "execution_count": 109,
      "outputs": [
        {
          "output_type": "stream",
          "name": "stdout",
          "text": [
            "n= 1700000 Product= 625000000\n",
            "\n",
            "real\t0m0.909s\n",
            "user\t0m0.888s\n",
            "sys\t0m0.010s\n"
          ]
        }
      ]
    },
    {
      "cell_type": "markdown",
      "metadata": {
        "id": "VMKC5duEOQfk"
      },
      "source": [
        "## Efficient solution with largest and second-largest in an list, array or vector in C++ and Python\n",
        "\n",
        " $$T(n) < 10 n  = O(n)$$\n",
        "\n",
        "\n",
        "\n"
      ]
    },
    {
      "cell_type": "markdown",
      "metadata": {
        "id": "nLcKBwbU0QsE"
      },
      "source": [
        "Add in each line a coment with the number of intstrcution that are executed in that line"
      ]
    },
    {
      "cell_type": "code",
      "execution_count": 110,
      "metadata": {
        "id": "knls5Fh3NSt_",
        "outputId": "bb5b856c-d5d9-44ef-bb36-bb2bd09b3e5e",
        "colab": {
          "base_uri": "https://localhost:8080/"
        }
      },
      "outputs": [
        {
          "output_type": "stream",
          "name": "stdout",
          "text": [
            "Writing max_pairwise_product_long_efficient.cpp\n"
          ]
        }
      ],
      "source": [
        "%%writefile max_pairwise_product_long_efficient.cpp\n",
        "#include <iostream>     // Para std::cin y std::cout\n",
        "#include <vector>       // Para std::vector\n",
        "#include <algorithm>    // Opcional, si se necesitara en el futuro\n",
        "\n",
        "// Función para encontrar el producto máximo de dos elementos en un vector\n",
        "long long MaxPairwiseProduct(const std::vector<long long>& numbers) {\n",
        "    long long max_product = 0LL;          // Producto máximo\n",
        "    long long n_major = 0LL;              // Mayor número encontrado\n",
        "    long long n_major_2 = 0LL;            // Segundo mayor número encontrado\n",
        "    int n = numbers.size();               // Tamaño del vector\n",
        "\n",
        "    for (int i = 0; i < n; ++i) {         // Iterar a través del vector\n",
        "        if (numbers[i] > n_major) {\n",
        "            n_major_2 = n_major;          // Actualizar el segundo mayor\n",
        "            n_major = numbers[i];         // Actualizar el mayor\n",
        "        } else if (numbers[i] > n_major_2) {\n",
        "            n_major_2 = numbers[i];       // Actualizar el segundo mayor si corresponde\n",
        "        }\n",
        "    }\n",
        "    max_product = n_major * n_major_2;    // Calcular el producto máximo\n",
        "    return max_product;\n",
        "}\n",
        "\n",
        "int main() {\n",
        "    int n;                                // Número de elementos en el vector\n",
        "    std::cin >> n;                        // Leer el tamaño del vector\n",
        "    std::vector<long long> numbers(n);    // Crear un vector de tamaño n\n",
        "\n",
        "    for (int i = 0; i < n; ++i) {         // Leer los elementos del vector\n",
        "        std::cin >> numbers[i];\n",
        "    }\n",
        "\n",
        "    // Calcular y mostrar el producto máximo\n",
        "    std::cout << MaxPairwiseProduct(numbers) << \"\\n\";\n",
        "    return 0;\n",
        "}\n"
      ]
    },
    {
      "cell_type": "code",
      "source": [
        "!g++ max_pairwise_product_long_efficient.cpp -o max_pairwise_product_long_efficient"
      ],
      "metadata": {
        "id": "DE3l0NAEr-rk"
      },
      "execution_count": 111,
      "outputs": []
    },
    {
      "cell_type": "code",
      "source": [
        "%%writefile max_pairwise_product_efficient.py\n",
        "#Python3\n",
        "def max_pairwise_product(lista):\n",
        "    n_major = 0\n",
        "    n_major_2 = 0\n",
        "    max_product = 0\n",
        "    for i in lista:\n",
        "        if i > n_major:\n",
        "            n_major_2=n_major\n",
        "            n_major = i\n",
        "        elif i > n_major_2:\n",
        "            n_major_2=i\n",
        "    max_product = n_major_2 * n_major\n",
        "\n",
        "    return max_product\n",
        "\n",
        "if __name__ == \"__main__\":\n",
        "    n = int(input())\n",
        "    lista = list(map(int, input().split()))\n",
        "    print(max_pairwise_product(lista))"
      ],
      "metadata": {
        "id": "apKBOusSsCYT",
        "outputId": "0079bec6-1a35-41a5-92c3-852311607716",
        "colab": {
          "base_uri": "https://localhost:8080/"
        }
      },
      "execution_count": 112,
      "outputs": [
        {
          "output_type": "stream",
          "name": "stdout",
          "text": [
            "Writing max_pairwise_product_efficient.py\n"
          ]
        }
      ]
    },
    {
      "cell_type": "markdown",
      "metadata": {
        "id": "-JCijbWxNSii"
      },
      "source": [
        "Test with inputs 1 and 2\n",
        "\n"
      ]
    },
    {
      "cell_type": "code",
      "execution_count": 113,
      "metadata": {
        "id": "TrTGAfqlNVXT",
        "outputId": "bcc7dabb-27b0-4b28-e1af-ffbac731356d",
        "colab": {
          "base_uri": "https://localhost:8080/"
        }
      },
      "outputs": [
        {
          "output_type": "stream",
          "name": "stdout",
          "text": [
            "90\n",
            "90\n"
          ]
        }
      ],
      "source": [
        "!./max_pairwise_product_long_efficient < input1.txt\n",
        "!./max_pairwise_product_long_efficient < input2.txt"
      ]
    },
    {
      "cell_type": "code",
      "source": [
        "!python max_pairwise_product_efficient.py < input1.txt\n",
        "!python max_pairwise_product_efficient.py < input2.txt"
      ],
      "metadata": {
        "id": "HXrlJSlMsj6u",
        "outputId": "aea5c23d-3fae-4483-b81d-79c221b6c47a",
        "colab": {
          "base_uri": "https://localhost:8080/"
        }
      },
      "execution_count": 114,
      "outputs": [
        {
          "output_type": "stream",
          "name": "stdout",
          "text": [
            "90\n",
            "90\n"
          ]
        }
      ]
    },
    {
      "cell_type": "markdown",
      "metadata": {
        "id": "PRX51wADNR8b"
      },
      "source": [
        "Test and time it with input 3"
      ]
    },
    {
      "cell_type": "code",
      "execution_count": 115,
      "metadata": {
        "id": "v4z7-Is_NRt7",
        "outputId": "c631813e-cadd-439a-f431-aa733fba8b98",
        "colab": {
          "base_uri": "https://localhost:8080/"
        }
      },
      "outputs": [
        {
          "output_type": "stream",
          "name": "stdout",
          "text": [
            "40000000000\n",
            "CPU times: user 6.35 ms, sys: 715 µs, total: 7.07 ms\n",
            "Wall time: 105 ms\n"
          ]
        }
      ],
      "source": [
        "%%time\n",
        "!python max_pairwise_product_efficient.py < input3.txt"
      ]
    },
    {
      "cell_type": "code",
      "source": [
        "!time ./max_pairwise_product_long_efficient < input3.txt"
      ],
      "metadata": {
        "id": "3bZZKIr9srqS",
        "outputId": "59606068-ef53-49c0-e305-8c019a6c69fa",
        "colab": {
          "base_uri": "https://localhost:8080/"
        }
      },
      "execution_count": 116,
      "outputs": [
        {
          "output_type": "stream",
          "name": "stdout",
          "text": [
            "40000000000\n",
            "\n",
            "real\t0m0.004s\n",
            "user\t0m0.001s\n",
            "sys\t0m0.002s\n"
          ]
        }
      ]
    },
    {
      "cell_type": "markdown",
      "metadata": {
        "id": "rpdfs0_TNZJf"
      },
      "source": [
        "20 stress tests"
      ]
    },
    {
      "cell_type": "code",
      "execution_count": 117,
      "metadata": {
        "id": "Lu4tYcKzNcTT",
        "outputId": "8f6c29ed-81a1-47f9-d2d3-57c34104a350",
        "colab": {
          "base_uri": "https://localhost:8080/"
        }
      },
      "outputs": [
        {
          "output_type": "stream",
          "name": "stdout",
          "text": [
            "Writing max_pairwise_product_long_efficient_stress_test.cpp\n"
          ]
        }
      ],
      "source": [
        "%%writefile max_pairwise_product_long_efficient_stress_test.cpp\n",
        "#include <iostream>     // Para std::cin, std::cout\n",
        "#include <vector>       // Para std::vector\n",
        "#include <random>       // Para la generación de números aleatorios\n",
        "\n",
        "long long MaxPairwiseProduct(const std::vector<int>& numbers) {\n",
        "    long long max_product = 0LL;  // 1\n",
        "    long long n_major = 0LL;      // 1\n",
        "    long long n_major_2 = 0LL;    // 1\n",
        "    int n = numbers.size();       // 1\n",
        "\n",
        "    for (int i = 0; i < n; ++i) {  // 1 + 2n\n",
        "        if (numbers[i] > n_major) {\n",
        "            n_major_2 = n_major;  // n\n",
        "            n_major = numbers[i];\n",
        "        }\n",
        "        else if (numbers[i] > n_major_2) {  // n\n",
        "            n_major_2 = numbers[i];  // [0, n]\n",
        "        }\n",
        "    }\n",
        "    max_product = n_major * n_major_2;  // --------------\n",
        "    return max_product;\n",
        "}\n",
        "\n",
        "int main() {\n",
        "    std::random_device rd;\n",
        "    std::mt19937 gen(rd());\n",
        "    std::uniform_int_distribution<int> n_dist(2, 19);     // Rango para n\n",
        "    std::uniform_int_distribution<int> num_dist(0, 25000); // Rango para los números\n",
        "\n",
        "    for (int i = 0; i < 20; ++i) {\n",
        "        int n = n_dist(gen);  // Genera un número aleatorio para n\n",
        "        std::vector<int> numbers(n);  // Crea el vector con tamaño n\n",
        "\n",
        "        for (int i = 0; i < n; ++i) {  // 1 + 2n\n",
        "            numbers[i] = num_dist(gen);  // Llenar el vector con números aleatorios\n",
        "        }\n",
        "\n",
        "        std::cout << \"n= \" << n << \" Product= \" << MaxPairwiseProduct(numbers) << \"\\n\";\n",
        "    }\n",
        "\n",
        "    return 0;\n",
        "}\n"
      ]
    },
    {
      "cell_type": "code",
      "source": [
        "!g++ max_pairwise_product_long_efficient_stress_test.cpp -o max_pairwise_product_long_efficient_stress_test\n",
        "!./max_pairwise_product_long_efficient_stress_test"
      ],
      "metadata": {
        "id": "G6in1D_cs8OI",
        "outputId": "15da22f6-edfe-4a4c-a9ef-3bfadb284b4d",
        "colab": {
          "base_uri": "https://localhost:8080/"
        }
      },
      "execution_count": 118,
      "outputs": [
        {
          "output_type": "stream",
          "name": "stdout",
          "text": [
            "n= 15 Product= 517767210\n",
            "n= 18 Product= 443807070\n",
            "n= 18 Product= 489585460\n",
            "n= 14 Product= 613404240\n",
            "n= 3 Product= 283628962\n",
            "n= 2 Product= 108054225\n",
            "n= 7 Product= 185594391\n",
            "n= 19 Product= 499890285\n",
            "n= 12 Product= 483177486\n",
            "n= 4 Product= 194129625\n",
            "n= 5 Product= 456701064\n",
            "n= 7 Product= 273287704\n",
            "n= 17 Product= 504890512\n",
            "n= 3 Product= 161399679\n",
            "n= 5 Product= 423316149\n",
            "n= 2 Product= 569072395\n",
            "n= 5 Product= 359935050\n",
            "n= 2 Product= 8959028\n",
            "n= 10 Product= 570056097\n",
            "n= 15 Product= 598970435\n"
          ]
        }
      ]
    },
    {
      "cell_type": "code",
      "source": [
        "%%writefile max_pairwise_product_efficient_stress_tests.py\n",
        "#Python3\n",
        "import random\n",
        "def max_pairwise_product(lista):\n",
        "    n_major = 0\n",
        "    n_major_2 = 0\n",
        "    max_product = 0\n",
        "    for i in lista:\n",
        "        if i > n_major:\n",
        "            n_major_2=n_major\n",
        "            n_major = i\n",
        "        elif i > n_major_2:\n",
        "            n_major_2=i\n",
        "    max_product = n_major_2 * n_major\n",
        "\n",
        "    return max_product\n",
        "\n",
        "if __name__ == \"__main__\":\n",
        "    for i in range(20):\n",
        "      n = random.randint(2, 19)\n",
        "      lista = [random.randint(17, 25631) for i in range(n)]\n",
        "      print(f\"n=  {n}   Product= {max_pairwise_product(lista)}\")"
      ],
      "metadata": {
        "id": "NT3sy33HtGUb",
        "outputId": "66733e5e-0d22-4fd8-a29d-e620623b8560",
        "colab": {
          "base_uri": "https://localhost:8080/"
        }
      },
      "execution_count": 119,
      "outputs": [
        {
          "output_type": "stream",
          "name": "stdout",
          "text": [
            "Writing max_pairwise_product_efficient_stress_tests.py\n"
          ]
        }
      ]
    },
    {
      "cell_type": "code",
      "source": [
        "!python max_pairwise_product_efficient_stress_tests.py"
      ],
      "metadata": {
        "id": "PhcRE7hktP8J",
        "outputId": "05c760dd-f2b3-46f8-bfcc-e95bb62f1359",
        "colab": {
          "base_uri": "https://localhost:8080/"
        }
      },
      "execution_count": 120,
      "outputs": [
        {
          "output_type": "stream",
          "name": "stdout",
          "text": [
            "n=  19   Product= 576123300\n",
            "n=  12   Product= 351847404\n",
            "n=  2   Product= 265943390\n",
            "n=  13   Product= 436873836\n",
            "n=  9   Product= 582401205\n",
            "n=  12   Product= 500136615\n",
            "n=  2   Product= 168093450\n",
            "n=  3   Product= 77646276\n",
            "n=  10   Product= 445960704\n",
            "n=  10   Product= 566154568\n",
            "n=  17   Product= 586970560\n",
            "n=  4   Product= 269280216\n",
            "n=  5   Product= 531544167\n",
            "n=  11   Product= 525970840\n",
            "n=  3   Product= 53456787\n",
            "n=  4   Product= 304090174\n",
            "n=  2   Product= 6573060\n",
            "n=  16   Product= 541825292\n",
            "n=  6   Product= 420786388\n",
            "n=  11   Product= 614122560\n"
          ]
        }
      ]
    },
    {
      "cell_type": "markdown",
      "metadata": {
        "id": "L8U4151JNbxk"
      },
      "source": [
        "Count executed instructions in code and verify with inputs 1,2 and 3\n"
      ]
    },
    {
      "cell_type": "code",
      "execution_count": 121,
      "metadata": {
        "id": "dh85RM8vNhFz",
        "outputId": "76c4f9b0-521a-49f9-ef09-731b0133ef4f",
        "colab": {
          "base_uri": "https://localhost:8080/"
        }
      },
      "outputs": [
        {
          "output_type": "stream",
          "name": "stdout",
          "text": [
            "Writing max_pairwise_product_long_efficient_and_instructions.cpp\n"
          ]
        }
      ],
      "source": [
        "%%writefile max_pairwise_product_long_efficient_and_instructions.cpp\n",
        "#include <iostream>     // Para std::cin y std::cout\n",
        "#include <vector>       // Para std::vector\n",
        "\n",
        "long long inst = 0LL;\n",
        "\n",
        "long long MaxPairwiseProduct(const std::vector<long long>& numbers) {\n",
        "    long long max_product = 0LL;  // 1\n",
        "    inst++;\n",
        "    long long n_major = 0LL;      // 1\n",
        "    inst++;\n",
        "    long long n_major_2 = 0LL;   // 1\n",
        "    inst++;\n",
        "    int n = numbers.size();       // 1\n",
        "    inst++;\n",
        "\n",
        "    for(int i = 0; i < n; ++i) {  // 1 + 2n\n",
        "        inst += 2;\n",
        "        if (numbers[i] > n_major) {\n",
        "            inst++;\n",
        "            n_major_2 = n_major;  // n\n",
        "            inst++;\n",
        "            n_major = numbers[i];\n",
        "            inst++;\n",
        "        } else if (numbers[i] > n_major_2) {\n",
        "            inst++;\n",
        "            n_major_2 = numbers[i];  // n\n",
        "            inst++;\n",
        "        }\n",
        "    }\n",
        "    max_product = n_major * n_major_2;\n",
        "    inst++;  // --------------\n",
        "    return max_product;\n",
        "}\n",
        "\n",
        "int main() {\n",
        "    int n;  // 1\n",
        "    inst++;\n",
        "    std::cin >> n;  // 1\n",
        "    inst++;\n",
        "    std::vector<long long> numbers(n);  // n\n",
        "    inst++;\n",
        "\n",
        "    for (int i = 0; i < n; ++i) {  // 1 + 2n\n",
        "        std::cin >> numbers[i];  // n\n",
        "    }\n",
        "    inst += n;\n",
        "\n",
        "    std::cout << MaxPairwiseProduct(numbers) << \"\\n\";  // Mostrar el producto máximo\n",
        "    inst++;\n",
        "    std::cout << \"Numero de instrucciones: \" << inst << \"\\n\";  // Número de instrucciones ejecutadas\n",
        "    return 0;\n",
        "}\n"
      ]
    },
    {
      "cell_type": "code",
      "source": [
        "!g++ max_pairwise_product_long_efficient_and_instructions.cpp -o max_pairwise_product_long_efficient_and_instructions"
      ],
      "metadata": {
        "id": "u8docGHptlrI"
      },
      "execution_count": 122,
      "outputs": []
    },
    {
      "cell_type": "code",
      "source": [
        "!./max_pairwise_product_long_efficient_and_instructions < input1.txt\n",
        "!./max_pairwise_product_long_efficient_and_instructions < input2.txt\n",
        "!./max_pairwise_product_long_efficient_and_instructions < input3.txt"
      ],
      "metadata": {
        "id": "8utLOBxitpou",
        "outputId": "6246481d-b917-44f7-9ccd-4fd66bf3fb2b",
        "colab": {
          "base_uri": "https://localhost:8080/"
        }
      },
      "execution_count": 123,
      "outputs": [
        {
          "output_type": "stream",
          "name": "stdout",
          "text": [
            "90\n",
            "Numero de instrucciones: 69\n",
            "90\n",
            "Numero de instrucciones: 44\n",
            "40000000000\n",
            "Numero de instrucciones: 40\n"
          ]
        }
      ]
    },
    {
      "cell_type": "code",
      "source": [
        "%%writefile max_pairwise_product_efficient_and_instructions.py\n",
        "#Python3\n",
        "\n",
        "inst=0\n",
        "def max_pairwise_product(lista):\n",
        "    global inst\n",
        "    n_major = 0\n",
        "    inst+=1\n",
        "    n_major_2 = 0\n",
        "    inst+=1\n",
        "    max_product = 0\n",
        "    inst+=1\n",
        "    for i in lista:\n",
        "        inst+=1\n",
        "        if i > n_major:\n",
        "            inst+=1\n",
        "            n_major_2=n_major\n",
        "            inst+=1\n",
        "            n_major = i\n",
        "            inst+=1\n",
        "        elif i > n_major_2:\n",
        "            inst+=1\n",
        "            n_major_2=i\n",
        "            inst+=1\n",
        "            inst+=1\n",
        "    max_product = n_major_2 * n_major\n",
        "    inst+=1\n",
        "\n",
        "    return max_product\n",
        "\n",
        "if __name__ == \"__main__\":\n",
        "    n = int(input())\n",
        "    inst+=1\n",
        "    lista = list(map(int, input().split()))\n",
        "    inst+=4*n\n",
        "    print(max_pairwise_product(lista))\n",
        "    inst+=1\n",
        "    print(f\"Numero Total de Instrucciones:  {inst}\")\n"
      ],
      "metadata": {
        "id": "OPPLBWQDt1RG",
        "outputId": "5a4318da-0e64-4249-ef13-deed66d67dda",
        "colab": {
          "base_uri": "https://localhost:8080/"
        }
      },
      "execution_count": 124,
      "outputs": [
        {
          "output_type": "stream",
          "name": "stdout",
          "text": [
            "Writing max_pairwise_product_efficient_and_instructions.py\n"
          ]
        }
      ]
    },
    {
      "cell_type": "code",
      "source": [
        "!python max_pairwise_product_efficient_and_instructions.py < input1.txt\n",
        "!python max_pairwise_product_efficient_and_instructions.py < input2.txt\n",
        "!python max_pairwise_product_efficient_and_instructions.py < input3.txt"
      ],
      "metadata": {
        "id": "u7vBxh3gt97h",
        "outputId": "3459f9e2-a442-4b0f-de64-998babf61178",
        "colab": {
          "base_uri": "https://localhost:8080/"
        }
      },
      "execution_count": 125,
      "outputs": [
        {
          "output_type": "stream",
          "name": "stdout",
          "text": [
            "90\n",
            "Numero Total de Instrucciones:  86\n",
            "90\n",
            "Numero Total de Instrucciones:  62\n",
            "40000000000\n",
            "Numero Total de Instrucciones:  51\n"
          ]
        }
      ]
    },
    {
      "cell_type": "markdown",
      "metadata": {
        "id": "K6ybgCmpNygr"
      },
      "source": [
        "Calculate estimated time by instruction and number of instructions by second"
      ]
    },
    {
      "cell_type": "code",
      "execution_count": 126,
      "metadata": {
        "id": "kwe3G1O3Nz1w",
        "outputId": "395cdda5-1e30-453d-c19d-51d8251b1aad",
        "colab": {
          "base_uri": "https://localhost:8080/"
        }
      },
      "outputs": [
        {
          "output_type": "stream",
          "name": "stdout",
          "text": [
            "Writing max_pairwise_product_long_efficient_and_instructions_by_second.cpp\n"
          ]
        }
      ],
      "source": [
        "%%writefile max_pairwise_product_long_efficient_and_instructions_by_second.cpp\n",
        "#include <iostream>     // Para std::cin y std::cout\n",
        "#include <vector>       // Para std::vector\n",
        "#include <chrono>       // Para medir el tiempo de ejecución\n",
        "\n",
        "long long inst = 0LL;\n",
        "\n",
        "long long MaxPairwiseProduct(const std::vector<long long>& numbers) {\n",
        "    long long max_product = 0LL;  // 1\n",
        "    inst++;\n",
        "    long long n_major = 0LL;      // 1\n",
        "    inst++;\n",
        "    long long n_major_2 = 0LL;   // 1\n",
        "    inst++;\n",
        "    int n = numbers.size();       // 1\n",
        "    inst++;\n",
        "\n",
        "    for(int i = 0; i < n; ++i) {  // 1 + 2n\n",
        "        inst += 2;\n",
        "        if (numbers[i] > n_major) {\n",
        "            inst++;\n",
        "            n_major_2 = n_major;  // n\n",
        "            inst++;\n",
        "            n_major = numbers[i];\n",
        "            inst++;\n",
        "        } else if (numbers[i] > n_major_2) {\n",
        "            inst++;\n",
        "            n_major_2 = numbers[i];  // n\n",
        "            inst++;\n",
        "        }\n",
        "    }\n",
        "    max_product = n_major * n_major_2;\n",
        "    inst++;  // --------------\n",
        "    return max_product;\n",
        "}\n",
        "\n",
        "int main() {\n",
        "    auto start_time = std::chrono::high_resolution_clock::now();  // Medir el tiempo de inicio\n",
        "\n",
        "    int n;  // 1\n",
        "    inst++;\n",
        "    std::cin >> n;  // 1\n",
        "    inst++;\n",
        "    std::vector<long long> numbers(n);  // n\n",
        "    inst++;\n",
        "\n",
        "    for (int i = 0; i < n; ++i) {  // 1 + 2n\n",
        "        std::cin >> numbers[i];  // n\n",
        "    }\n",
        "    inst += n;\n",
        "\n",
        "    std::cout << MaxPairwiseProduct(numbers) << \"\\n\";  // Mostrar el producto máximo\n",
        "    inst++;\n",
        "\n",
        "    auto end_time = std::chrono::high_resolution_clock::now();  // Medir el tiempo de fin\n",
        "    auto duration = std::chrono::duration_cast<std::chrono::milliseconds>(end_time - start_time);  // Duración en milisegundos\n",
        "\n",
        "    float duration_sec, duration_f;\n",
        "    duration_f = static_cast<float>(duration.count());\n",
        "    duration_sec = duration_f / 1000;\n",
        "\n",
        "    std::cout << \"Numero de instrucciones: \" << inst << \"\\n\";\n",
        "    std::cout << \"Duracion Estimada: \" << duration_sec << \" segundos\\n\";\n",
        "    std::cout << \"Duracion Estimada por instrucción: \" << duration_sec / inst << \" segundos\\n\";\n",
        "    std::cout << \"Numero de instrucciones por segundo: \" << 1 / (duration_sec / inst) << \" Instrucciones\\n\";\n",
        "\n",
        "    return 0;\n",
        "}\n"
      ]
    },
    {
      "cell_type": "code",
      "source": [
        "!g++ max_pairwise_product_long_efficient_and_instructions_by_second.cpp -o max_pairwise_product_long_efficient_and_instructions_by_second\n"
      ],
      "metadata": {
        "id": "a1f4Rrq8udFY"
      },
      "execution_count": 127,
      "outputs": []
    },
    {
      "cell_type": "code",
      "source": [
        "!./max_pairwise_product_long_efficient_and_instructions_by_second < input13.txt"
      ],
      "metadata": {
        "id": "N3mi00Zrug0C",
        "outputId": "3624b90a-5b3d-42a1-e951-ca8ce57b3fc4",
        "colab": {
          "base_uri": "https://localhost:8080/"
        }
      },
      "execution_count": 128,
      "outputs": [
        {
          "output_type": "stream",
          "name": "stdout",
          "text": [
            "120989000\n",
            "Numero de instrucciones: 66009\n",
            "Duracion Estimada: 0.003 segundos\n",
            "Duracion Estimada por instrucción: 4.54483e-08 segundos\n",
            "Numero de instrucciones por segundo: 2.2003e+07 Instrucciones\n"
          ]
        }
      ]
    },
    {
      "cell_type": "code",
      "source": [
        "%%writefile max_pairwise_product_efficient_and_instructions_by_second.py\n",
        "#Python3\n",
        "import time\n",
        "\n",
        "inst=0\n",
        "def max_pairwise_product(lista):\n",
        "    global inst\n",
        "    n_major = 0\n",
        "    inst+=1\n",
        "    n_major_2 = 0\n",
        "    inst+=1\n",
        "    max_product = 0\n",
        "    inst+=1\n",
        "    for i in lista:\n",
        "        inst+=1\n",
        "        if i > n_major:\n",
        "            inst+=1\n",
        "            n_major_2=n_major\n",
        "            inst+=1\n",
        "            n_major = i\n",
        "            inst+=1\n",
        "        elif i > n_major_2:\n",
        "            inst+=1\n",
        "            n_major_2=i\n",
        "            inst+=1\n",
        "            inst+=1\n",
        "    max_product = n_major_2 * n_major\n",
        "    inst+=1\n",
        "\n",
        "    return max_product\n",
        "\n",
        "if __name__ == \"__main__\":\n",
        "    inicio=time.time()\n",
        "    n = int(input())\n",
        "    inst+=1\n",
        "    lista = list(map(int, input().split()))\n",
        "    inst+=4*n\n",
        "    print(max_pairwise_product(lista))\n",
        "    inst+=1\n",
        "    fin = time.time()\n",
        "    tiempo_total = fin - inicio\n",
        "    instructionTime = tiempo_total/inst\n",
        "    instructionBySecond= 1/instructionTime\n",
        "    print(f\"Numero Total de Instrucciones:  {inst}\")\n",
        "    print(f\"Tiempo total de ejecución: {tiempo_total} segundos\")\n",
        "    print(f\"Tiempo estimado de cada instruccion: {instructionTime} segundos\")\n",
        "    print(f\"Instrucciones por segundo: {int(instructionBySecond)} \")\n"
      ],
      "metadata": {
        "id": "jlm7RwqNunHV",
        "outputId": "4b004a3e-d4f4-4a44-d538-e77b1bf00ccf",
        "colab": {
          "base_uri": "https://localhost:8080/"
        }
      },
      "execution_count": 129,
      "outputs": [
        {
          "output_type": "stream",
          "name": "stdout",
          "text": [
            "Writing max_pairwise_product_efficient_and_instructions_by_second.py\n"
          ]
        }
      ]
    },
    {
      "cell_type": "code",
      "source": [
        "!python max_pairwise_product_efficient_and_instructions_by_second.py < input13.txt"
      ],
      "metadata": {
        "id": "ZLvUyNgOuyBX",
        "outputId": "9e631c09-e2d3-4df2-be64-1be9eaaa1b91",
        "colab": {
          "base_uri": "https://localhost:8080/"
        }
      },
      "execution_count": 130,
      "outputs": [
        {
          "output_type": "stream",
          "name": "stdout",
          "text": [
            "120989000\n",
            "Numero Total de Instrucciones:  88006\n",
            "Tiempo total de ejecución: 0.007503509521484375 segundos\n",
            "Tiempo estimado de cada instruccion: 8.526134038002381e-08 segundos\n",
            "Instrucciones por segundo: 11728645 \n"
          ]
        }
      ]
    },
    {
      "cell_type": "markdown",
      "source": [
        "### Estimate and verify the maximun n that can be solved in 1 second"
      ],
      "metadata": {
        "id": "v8GY6n_ZaJ4P"
      }
    },
    {
      "cell_type": "code",
      "source": [
        "%%writefile maximun_n_that_can_be_solved_efficient.py\n",
        "#Python3\n",
        "import random\n",
        "def max_pairwise_product(lista):\n",
        "    n_major = 0\n",
        "    n_major_2 = 0\n",
        "    max_product = 0\n",
        "    for i in lista:\n",
        "        if i > n_major:\n",
        "            n_major_2=n_major\n",
        "            n_major = i\n",
        "        elif i > n_major_2:\n",
        "            n_major_2=i\n",
        "    max_product = n_major_2 * n_major\n",
        "\n",
        "    return max_product\n",
        "\n",
        "if __name__ == \"__main__\":\n",
        "    n = 800000\n",
        "    lista = [random.randint(17, 25631) for i in range(n)]\n",
        "    print(f\"n=  {n}   Product= {max_pairwise_product(lista)}\")"
      ],
      "metadata": {
        "id": "z3xjzg1YaKk6",
        "outputId": "0d1f671d-ba77-4af6-ec54-ce20d86c1e8c",
        "colab": {
          "base_uri": "https://localhost:8080/"
        }
      },
      "execution_count": 131,
      "outputs": [
        {
          "output_type": "stream",
          "name": "stdout",
          "text": [
            "Writing maximun_n_that_can_be_solved_efficient.py\n"
          ]
        }
      ]
    },
    {
      "cell_type": "code",
      "source": [
        "%%time\n",
        "!python maximun_n_that_can_be_solved_efficient.py"
      ],
      "metadata": {
        "id": "nqa1YcZ_u7dz",
        "outputId": "0f7138b3-cfbf-4af4-a414-64b13f9adad0",
        "colab": {
          "base_uri": "https://localhost:8080/"
        }
      },
      "execution_count": 132,
      "outputs": [
        {
          "output_type": "stream",
          "name": "stdout",
          "text": [
            "n=  800000   Product= 656948161\n",
            "CPU times: user 15.8 ms, sys: 2 ms, total: 17.8 ms\n",
            "Wall time: 1.01 s\n"
          ]
        }
      ]
    },
    {
      "cell_type": "markdown",
      "metadata": {
        "id": "sUpIWcykOGpT"
      },
      "source": [
        "## Super efficient solution\n",
        "\n",
        "Whitout storing the list in memory, only stpring the largest and second largest and whitout calling a function, add in each line a coment with the number of instructions that are executed in that line\n",
        "\n",
        "in C++ and Python\n",
        "\n",
        "\n",
        " $$T(n) < 13 n  = O(n)$$\n"
      ]
    },
    {
      "cell_type": "code",
      "execution_count": 133,
      "metadata": {
        "id": "hBLt_xBQLy8E",
        "outputId": "cc5f1403-cc47-4778-a5bc-c9be50e906ae",
        "colab": {
          "base_uri": "https://localhost:8080/"
        }
      },
      "outputs": [
        {
          "output_type": "stream",
          "name": "stdout",
          "text": [
            "Writing max_pairwise_super_efficient.cpp\n"
          ]
        }
      ],
      "source": [
        "%%writefile max_pairwise_super_efficient.cpp\n",
        "#include <iostream>  // Para std::cin y std::cout\n",
        "\n",
        "using namespace std;\n",
        "\n",
        "int main() {\n",
        "    int n;                                     // 1\n",
        "    cin >> n;                                  // 1\n",
        "    int numero_M = 0;                          // 1\n",
        "    int segundo_Numero_M = 0;                  // 1\n",
        "\n",
        "    // Iterar sobre todos los elementos para encontrar los dos mayores números\n",
        "    for (int i = 0; i < n; ++i) {              // 1 + 2n\n",
        "        int comp = 0;                          // n\n",
        "        cin >> comp;                           // n\n",
        "\n",
        "        if (comp > numero_M) {                 // n\n",
        "            segundo_Numero_M = numero_M;       // n\n",
        "            numero_M = comp;                   // n\n",
        "        } else if (comp > segundo_Numero_M) {  // n\n",
        "            segundo_Numero_M = comp;           // n\n",
        "        }\n",
        "    }\n",
        "\n",
        "    cout << numero_M * segundo_Numero_M << \"\\n\"; // 1\n",
        "    return 0;\n",
        "}\n"
      ]
    },
    {
      "cell_type": "code",
      "source": [
        "!g++ max_pairwise_super_efficient.cpp -o max_pairwise_super_efficient"
      ],
      "metadata": {
        "id": "0jg_bJWWmQM0"
      },
      "execution_count": 134,
      "outputs": []
    },
    {
      "cell_type": "markdown",
      "metadata": {
        "id": "683gc3roHqzb"
      },
      "source": [
        "Test with inputs 1 and 2\n",
        "\n",
        "\n"
      ]
    },
    {
      "cell_type": "code",
      "execution_count": 135,
      "metadata": {
        "id": "b7d4LA8OIc2_",
        "outputId": "9d70024d-6131-46cd-b412-fea00c2f4dff",
        "colab": {
          "base_uri": "https://localhost:8080/"
        }
      },
      "outputs": [
        {
          "output_type": "stream",
          "name": "stdout",
          "text": [
            "90\n",
            "90\n"
          ]
        }
      ],
      "source": [
        "!./max_pairwise_super_efficient < input1.txt\n",
        "!./max_pairwise_super_efficient < input2.txt"
      ]
    },
    {
      "cell_type": "markdown",
      "metadata": {
        "id": "36Ugn1odIeJz"
      },
      "source": [
        "Test and time it with input 3"
      ]
    },
    {
      "cell_type": "code",
      "execution_count": 136,
      "metadata": {
        "id": "jDyMbCnxHqSN",
        "outputId": "af96b08e-8afd-4a54-fd76-1ba1ad4a5138",
        "colab": {
          "base_uri": "https://localhost:8080/"
        }
      },
      "outputs": [
        {
          "output_type": "stream",
          "name": "stdout",
          "text": [
            "1345294336\n",
            "\n",
            "real\t0m0.003s\n",
            "user\t0m0.002s\n",
            "sys\t0m0.000s\n"
          ]
        }
      ],
      "source": [
        "!time ./max_pairwise_super_efficient < input3.txt"
      ]
    },
    {
      "cell_type": "markdown",
      "metadata": {
        "id": "bhqiKQG6fjKM"
      },
      "source": [
        "20 stress tests"
      ]
    },
    {
      "cell_type": "code",
      "execution_count": 137,
      "metadata": {
        "id": "2KsiXKhALzwm",
        "outputId": "08902f7b-bc65-478b-ba06-13093edaac81",
        "colab": {
          "base_uri": "https://localhost:8080/"
        }
      },
      "outputs": [
        {
          "output_type": "stream",
          "name": "stdout",
          "text": [
            "Writing max_pairwise_super_efficient_stress_tests.cpp\n"
          ]
        }
      ],
      "source": [
        "%%writefile max_pairwise_super_efficient_stress_tests.cpp\n",
        "#include <iostream>     // Para std::cout y std::cin\n",
        "#include <vector>       // Para std::vector\n",
        "#include <random>       // Para std::random_device, std::mt19937, std::uniform_int_distribution\n",
        "\n",
        "using namespace std;\n",
        "\n",
        "int main() {\n",
        "    std::random_device rd;                          // Generador de semilla\n",
        "    std::mt19937 gen(rd());                         // Generador de números aleatorios\n",
        "    std::uniform_int_distribution<int> n_dist(2, 19); // Distribución para el tamaño del arreglo\n",
        "    std::uniform_int_distribution<int> num_dist(0, 25000); // Distribución para los números\n",
        "\n",
        "    // Realizar 20 pruebas de estrés\n",
        "    for (int i = 0; i < 20; ++i) {\n",
        "        int n = n_dist(gen);                        // Tamaño del arreglo\n",
        "        int numero_M = 0;                           // Mayor número\n",
        "        int segundo_Numero_M = 0;                   // Segundo mayor número\n",
        "\n",
        "        // Llenar el arreglo con números aleatorios y calcular el producto\n",
        "        for (int i = 0; i < n; ++i) {\n",
        "            int comp = num_dist(gen);              // Generar un número aleatorio\n",
        "            if (comp > numero_M) {                 // Si el número es mayor que el mayor conocido\n",
        "                segundo_Numero_M = numero_M;      // Actualizar el segundo mayor\n",
        "                numero_M = comp;                  // Actualizar el mayor\n",
        "            } else if (comp > segundo_Numero_M) {  // Si el número es mayor que el segundo mayor\n",
        "                segundo_Numero_M = comp;          // Actualizar el segundo mayor\n",
        "            }\n",
        "        }\n",
        "\n",
        "        // Mostrar el tamaño y el producto de los dos mayores números\n",
        "        cout << \"n= \" << n << \" Multiplicacion= \" << numero_M * segundo_Numero_M  << \"\\n\";\n",
        "    }\n",
        "\n",
        "    return 0;\n",
        "}\n"
      ]
    },
    {
      "cell_type": "code",
      "source": [
        "!g++ max_pairwise_super_efficient_stress_tests.cpp -o max_pairwise_super_efficient_stress_tests\n",
        "!./max_pairwise_super_efficient_stress_tests"
      ],
      "metadata": {
        "id": "eMynPnV-vfJg",
        "outputId": "0caf8d9e-c97f-4540-c2c7-637818f7702f",
        "colab": {
          "base_uri": "https://localhost:8080/"
        }
      },
      "execution_count": 138,
      "outputs": [
        {
          "output_type": "stream",
          "name": "stdout",
          "text": [
            "n= 15 Multiplicacion= 335523672\n",
            "n= 14 Multiplicacion= 543671274\n",
            "n= 9 Multiplicacion= 428340628\n",
            "n= 14 Multiplicacion= 582376296\n",
            "n= 9 Multiplicacion= 449947582\n",
            "n= 8 Multiplicacion= 458799848\n",
            "n= 6 Multiplicacion= 169174141\n",
            "n= 8 Multiplicacion= 436294148\n",
            "n= 16 Multiplicacion= 600910276\n",
            "n= 19 Multiplicacion= 468779633\n",
            "n= 10 Multiplicacion= 381034056\n",
            "n= 18 Multiplicacion= 453079776\n",
            "n= 12 Multiplicacion= 513579486\n",
            "n= 10 Multiplicacion= 370306145\n",
            "n= 3 Multiplicacion= 49317357\n",
            "n= 19 Multiplicacion= 541702095\n",
            "n= 14 Multiplicacion= 588256340\n",
            "n= 16 Multiplicacion= 380760475\n",
            "n= 4 Multiplicacion= 345383220\n",
            "n= 12 Multiplicacion= 568045753\n"
          ]
        }
      ]
    },
    {
      "cell_type": "markdown",
      "metadata": {
        "id": "fEXj8GHJH5p1"
      },
      "source": [
        "Count executed instructions in code and verify with inputs 1,2 and 3"
      ]
    },
    {
      "cell_type": "code",
      "execution_count": 139,
      "metadata": {
        "id": "LF1DHjKXIAsF",
        "outputId": "10747c74-f9a5-4243-d526-c82f933ff155",
        "colab": {
          "base_uri": "https://localhost:8080/"
        }
      },
      "outputs": [
        {
          "output_type": "stream",
          "name": "stdout",
          "text": [
            "Writing max_pairwise_super_efficient_count.cpp\n"
          ]
        }
      ],
      "source": [
        "%%writefile max_pairwise_super_efficient_count.cpp\n",
        "#include <iostream> // Para std::cin y std::cout\n",
        "using namespace std;\n",
        "\n",
        "int main() {\n",
        "    int inst = 0;                        // Contador de instrucciones\n",
        "    int n;                               // Número de elementos\n",
        "    inst++;\n",
        "    cin >> n;                            // Leer el tamaño del arreglo\n",
        "    inst++;\n",
        "\n",
        "    int numero_M = 0;                    // Mayor número\n",
        "    inst++;\n",
        "    int segundo_Numero_M = 0;            // Segundo mayor número\n",
        "    inst++;\n",
        "\n",
        "    inst++;                              // Inicialización del bucle\n",
        "    inst += 2 * n;                       // Por las iteraciones del bucle\n",
        "    for (int i = 0; i < n; ++i) {        // Iterar sobre el arreglo\n",
        "        int comp = 0;                    // Número actual\n",
        "        inst++;\n",
        "        cin >> comp;                     // Leer el número actual\n",
        "        inst++;\n",
        "        inst++;\n",
        "        if (comp > numero_M) {           // Si el número actual es mayor que el mayor conocido\n",
        "            segundo_Numero_M = numero_M; // Actualizar el segundo mayor\n",
        "            inst++;\n",
        "            numero_M = comp;             // Actualizar el mayor\n",
        "            inst++;\n",
        "        } else if (comp > segundo_Numero_M) { // Si el número actual es mayor que el segundo mayor\n",
        "            inst++;\n",
        "            segundo_Numero_M = comp;     // Actualizar el segundo mayor\n",
        "            inst++;\n",
        "        }\n",
        "    }\n",
        "\n",
        "    cout << numero_M * segundo_Numero_M << \"\\n\"; // Producto del mayor y segundo mayor\n",
        "    inst++;\n",
        "    cout << \"Numero de Instrucciones: \" << inst << \"\\n\"; // Imprimir el conteo de instrucciones\n",
        "    return 0;\n",
        "}\n"
      ]
    },
    {
      "cell_type": "code",
      "source": [
        "!g++ max_pairwise_super_efficient_count.cpp -o max_pairwise_super_efficient_count"
      ],
      "metadata": {
        "id": "mBHEdD6avzfJ"
      },
      "execution_count": 140,
      "outputs": []
    },
    {
      "cell_type": "code",
      "source": [
        "!./max_pairwise_super_efficient_count < input1.txt\n",
        "!./max_pairwise_super_efficient_count < input2.txt\n",
        "!./max_pairwise_super_efficient_count < input3.txt"
      ],
      "metadata": {
        "id": "7RLkQ9xMv2_u",
        "outputId": "330aafd7-000a-406d-e335-5e39b4fb63ef",
        "colab": {
          "base_uri": "https://localhost:8080/"
        }
      },
      "execution_count": 141,
      "outputs": [
        {
          "output_type": "stream",
          "name": "stdout",
          "text": [
            "90\n",
            "Numero de Instrucciones: 76\n",
            "90\n",
            "Numero de Instrucciones: 60\n",
            "1345294336\n",
            "Numero de Instrucciones: 46\n"
          ]
        }
      ]
    },
    {
      "cell_type": "markdown",
      "metadata": {
        "id": "yae7sSm2IG9U"
      },
      "source": [
        "Calculate estimated time by instruction and number of instructions by second"
      ]
    },
    {
      "cell_type": "code",
      "execution_count": 142,
      "metadata": {
        "id": "suouY7BYL2dz",
        "outputId": "b4bfdf45-6f83-4923-c9ce-858afd1014cb",
        "colab": {
          "base_uri": "https://localhost:8080/"
        }
      },
      "outputs": [
        {
          "output_type": "stream",
          "name": "stdout",
          "text": [
            "Tiempo por instruccion: 6.521739130434783e-05\n",
            "Instrucciones por segundo: 15333.333333333332\n"
          ]
        }
      ],
      "source": [
        "t_por_instruccion = 0.003 / 46\n",
        "instrucciones_por_segundo = 1 / t_por_instruccion\n",
        "print(f\"Tiempo por instruccion: {t_por_instruccion}\")\n",
        "print(f\"Instrucciones por segundo: {instrucciones_por_segundo}\")"
      ]
    },
    {
      "cell_type": "markdown",
      "metadata": {
        "id": "sy33CNNfPxcE"
      },
      "source": [
        "### Super efficient solution in Python\n",
        "\n",
        "Whitout storing the list in memory and whitout calling a function, add in each line a coment with the number of intstrcution that are executed in that line"
      ]
    },
    {
      "cell_type": "code",
      "execution_count": 143,
      "metadata": {
        "id": "_mOjJwKrPxcJ",
        "outputId": "7f7bb167-5182-4feb-d64d-f477b7daff4a",
        "colab": {
          "base_uri": "https://localhost:8080/"
        }
      },
      "outputs": [
        {
          "output_type": "stream",
          "name": "stdout",
          "text": [
            "Writing max_pairwise_super_efficient.py\n"
          ]
        }
      ],
      "source": [
        "\n",
        "%%writefile max_pairwise_super_efficient.py\n",
        "n = int(input())                            # 1\n",
        "numero_M = 0                                # 1\n",
        "segundo_Numero_M = 0                        # 1\n",
        "\n",
        "for comp in input().split():                 # 3 + 2n\n",
        "\n",
        "    comp = int(comp)                          # n\n",
        "\n",
        "    if comp > numero_M:                    # n\n",
        "        segundo_Numero_M = numero_M      # 0 o n\n",
        "        numero_M = comp                  # 0 o n\n",
        "    elif comp > segundo_Numero_M:           # n\n",
        "        segundo_Numero_M = comp             # 0 o n\n",
        "print(f\"{numero_M * segundo_Numero_M}\")"
      ]
    },
    {
      "cell_type": "markdown",
      "metadata": {
        "id": "K08Eow0hPxcJ"
      },
      "source": [
        "Test with inputs 1 and 2\n",
        "\n",
        "\n"
      ]
    },
    {
      "cell_type": "code",
      "execution_count": 144,
      "metadata": {
        "id": "1_mUee2cPxcJ",
        "outputId": "8a154102-3151-4f41-bc44-731f7d8513ee",
        "colab": {
          "base_uri": "https://localhost:8080/"
        }
      },
      "outputs": [
        {
          "output_type": "stream",
          "name": "stdout",
          "text": [
            "90\n",
            "90\n"
          ]
        }
      ],
      "source": [
        "!python max_pairwise_super_efficient.py < input1.txt\n",
        "!python max_pairwise_super_efficient.py < input2.txt"
      ]
    },
    {
      "cell_type": "markdown",
      "metadata": {
        "id": "CE5DB3CmPxcJ"
      },
      "source": [
        "Test and time it with input 3"
      ]
    },
    {
      "cell_type": "code",
      "execution_count": 145,
      "metadata": {
        "id": "lyLhFOoePxcJ",
        "outputId": "6d9a1557-f02f-4103-92a4-89836d8fc8dd",
        "colab": {
          "base_uri": "https://localhost:8080/"
        }
      },
      "outputs": [
        {
          "output_type": "stream",
          "name": "stdout",
          "text": [
            "40000000000\n",
            "CPU times: user 4.95 ms, sys: 2.19 ms, total: 7.14 ms\n",
            "Wall time: 108 ms\n"
          ]
        }
      ],
      "source": [
        "%%time\n",
        "!python max_pairwise_super_efficient.py < input3.txt"
      ]
    },
    {
      "cell_type": "markdown",
      "metadata": {
        "id": "HZEI236lPxcK"
      },
      "source": [
        "20 stress tests"
      ]
    },
    {
      "cell_type": "code",
      "execution_count": 146,
      "metadata": {
        "id": "_LoV-p4zPxcK",
        "outputId": "2f3be95e-eca5-48e0-e76b-99552f1dd7e1",
        "colab": {
          "base_uri": "https://localhost:8080/"
        }
      },
      "outputs": [
        {
          "output_type": "stream",
          "name": "stdout",
          "text": [
            "Writing max_pairwise_super_efficient_stress_tests.py\n"
          ]
        }
      ],
      "source": [
        "%%writefile max_pairwise_super_efficient_stress_tests.py\n",
        "import random\n",
        "\n",
        "for i in range(20):\n",
        "  n = random.randint(2, 19)\n",
        "  numero_M = 0                                # 1\n",
        "  segundo_Numero_M = 0\n",
        "  for j in range(n):\n",
        "    comp=random.randint(17, 25631)\n",
        "    if comp > numero_M:                    # n\n",
        "      segundo_Numero_M = numero_M      # 0 o n\n",
        "      numero_M = comp                  # 0 o n\n",
        "    elif comp > segundo_Numero_M:           # n\n",
        "      segundo_Numero_M = comp             # 0 o n\n",
        "  print(f\"{i+1}. n= {n} Producto= {numero_M * segundo_Numero_M}\")"
      ]
    },
    {
      "cell_type": "code",
      "source": [
        "!python max_pairwise_super_efficient_stress_tests.py"
      ],
      "metadata": {
        "id": "oL7gNYS2i9Zh",
        "outputId": "de39f35f-8f21-4c14-c3e4-4445a4297cf6",
        "colab": {
          "base_uri": "https://localhost:8080/"
        }
      },
      "execution_count": 147,
      "outputs": [
        {
          "output_type": "stream",
          "name": "stdout",
          "text": [
            "1. n= 7 Producto= 493621272\n",
            "2. n= 18 Producto= 491796277\n",
            "3. n= 9 Producto= 349119666\n",
            "4. n= 12 Producto= 636616806\n",
            "5. n= 4 Producto= 293926584\n",
            "6. n= 17 Producto= 497253986\n",
            "7. n= 12 Producto= 446936088\n",
            "8. n= 12 Producto= 522202602\n",
            "9. n= 8 Producto= 421217720\n",
            "10. n= 18 Producto= 544938808\n",
            "11. n= 13 Producto= 458797188\n",
            "12. n= 19 Producto= 573993288\n",
            "13. n= 4 Producto= 397330389\n",
            "14. n= 11 Producto= 512476384\n",
            "15. n= 18 Producto= 636015897\n",
            "16. n= 9 Producto= 549804006\n",
            "17. n= 5 Producto= 521146820\n",
            "18. n= 2 Producto= 234015964\n",
            "19. n= 9 Producto= 489467517\n",
            "20. n= 9 Producto= 451576667\n"
          ]
        }
      ]
    },
    {
      "cell_type": "markdown",
      "metadata": {
        "id": "IRVdP3iuPxcK"
      },
      "source": [
        "Count executed instructions in code and verify with inputs 1,2 and 3"
      ]
    },
    {
      "cell_type": "code",
      "source": [
        "%%writefile max_pairwise_super_efficient_count.py\n",
        "instrucciones=0\n",
        "n = int(input())                            # 1\n",
        "instrucciones+=1\n",
        "numero_M = 0                                # 1\n",
        "instrucciones+=1\n",
        "segundo_Numero_M = 0                        # 1\n",
        "instrucciones+=1\n",
        "instrucciones+=1\n",
        "instrucciones+=2*n\n",
        "for comp in input().split():                 # 1 + 2n\n",
        "\n",
        "    comp = int(comp)                          # n\n",
        "    instrucciones+=1\n",
        "\n",
        "    instrucciones+=1\n",
        "    if comp > numero_M:                    # n\n",
        "        segundo_Numero_M = numero_M      # 0 o n\n",
        "        instrucciones+=1\n",
        "        numero_M = comp                  # 0 o n\n",
        "        instrucciones+=1\n",
        "    elif comp > segundo_Numero_M:           # 0 o n\n",
        "        instrucciones+=1\n",
        "        segundo_Numero_M = comp             # 0 o n\n",
        "        instrucciones+=1\n",
        "\n",
        "print(f\"{numero_M * segundo_Numero_M}\")\n",
        "print(f\"Instrucciones totales: {instrucciones} \")"
      ],
      "metadata": {
        "id": "tCTsS_nLkOpI",
        "outputId": "551ffff8-9582-4938-8c87-6aa86c9ab607",
        "colab": {
          "base_uri": "https://localhost:8080/"
        }
      },
      "execution_count": 148,
      "outputs": [
        {
          "output_type": "stream",
          "name": "stdout",
          "text": [
            "Writing max_pairwise_super_efficient_count.py\n"
          ]
        }
      ]
    },
    {
      "cell_type": "code",
      "source": [
        "!python max_pairwise_super_efficient_count.py < input1.txt\n",
        "!python max_pairwise_super_efficient_count.py < input2.txt\n",
        "!python max_pairwise_super_efficient_count.py < input3.txt"
      ],
      "metadata": {
        "id": "Yv_QicTEjFXh",
        "outputId": "1f7d72ea-afd6-41d8-ebc3-7e65c9b5da9b",
        "colab": {
          "base_uri": "https://localhost:8080/"
        }
      },
      "execution_count": 149,
      "outputs": [
        {
          "output_type": "stream",
          "name": "stdout",
          "text": [
            "90\n",
            "Instrucciones totales: 64 \n",
            "90\n",
            "Instrucciones totales: 48 \n",
            "40000000000\n",
            "Instrucciones totales: 38 \n"
          ]
        }
      ]
    },
    {
      "cell_type": "markdown",
      "source": [
        "## Calculate estimated time by instruction and number of instructions by second"
      ],
      "metadata": {
        "id": "1peR1EPJkWxO"
      }
    },
    {
      "cell_type": "code",
      "source": [
        "t_por_instruccion = 0.00405 / 38\n",
        "instrucciones_por_segundo = 1 / t_por_instruccion\n",
        "print(f\"Tiempo por instruccion: {t_por_instruccion}\")\n",
        "print(f\"Instrucciones por segundo: {instrucciones_por_segundo}\")"
      ],
      "metadata": {
        "id": "lWwbSo1lkdSY",
        "outputId": "1c80b91d-1cf3-4e01-c0fd-576ea1065c37",
        "colab": {
          "base_uri": "https://localhost:8080/"
        }
      },
      "execution_count": 150,
      "outputs": [
        {
          "output_type": "stream",
          "name": "stdout",
          "text": [
            "Tiempo por instruccion: 0.00010657894736842105\n",
            "Instrucciones por segundo: 9382.716049382716\n"
          ]
        }
      ]
    },
    {
      "cell_type": "markdown",
      "source": [
        "### Estimate and verify the maximun n that can be solved in 1 second"
      ],
      "metadata": {
        "id": "uZGdjUwuaO4v"
      }
    },
    {
      "cell_type": "code",
      "source": [
        "\n",
        "%%writefile maximun_n_that_can_be_solved_super_efficient.py\n",
        "import random\n",
        "\n",
        "n = 900000\n",
        "numero_M = 0                                # 1\n",
        "segundo_Numero_M = 0\n",
        "for j in range(n):\n",
        "  comp=random.randint(17, 25631)\n",
        "  if comp > numero_M:                    # n\n",
        "    segundo_Numero_M = numero_M      # 0 o n\n",
        "    numero_M = comp                  # 0 o n\n",
        "  elif comp > segundo_Numero_M:           # n\n",
        "    segundo_Numero_M = comp             # 0 o n\n",
        "print(f\"Producto= {numero_M * segundo_Numero_M}\")"
      ],
      "metadata": {
        "id": "FjqFevOaaOVz",
        "outputId": "4dc10f9f-ca20-4eb3-fde0-83278e2bbb8c",
        "colab": {
          "base_uri": "https://localhost:8080/"
        }
      },
      "execution_count": 151,
      "outputs": [
        {
          "output_type": "stream",
          "name": "stdout",
          "text": [
            "Writing maximun_n_that_can_be_solved_super_efficient.py\n"
          ]
        }
      ]
    },
    {
      "cell_type": "code",
      "source": [
        "%%time\n",
        "!python maximun_n_that_can_be_solved_super_efficient.py"
      ],
      "metadata": {
        "id": "R6IVmpYKh0jq",
        "outputId": "31b388b9-26d2-4b55-fa9e-8d81da19ce52",
        "colab": {
          "base_uri": "https://localhost:8080/"
        }
      },
      "execution_count": 152,
      "outputs": [
        {
          "output_type": "stream",
          "name": "stdout",
          "text": [
            "Producto= 656948161\n",
            "CPU times: user 15.3 ms, sys: 2.05 ms, total: 17.3 ms\n",
            "Wall time: 1.31 s\n"
          ]
        }
      ]
    },
    {
      "cell_type": "markdown",
      "source": [
        "## Perform 100 randomized automated tests in C++ and Python with a porgram  compares the answers,for the same 100 random input instances, of the super efficient solution $(T(n) < 10 n = O(n))$ against the sorting solution  $(T(n)  = O(n \\lg{n}))$,  if the answers are not the same stops and displays \"Error\" listing  the input and the two answers; if the 100 tests are completed without stoping displays \"Pass\"."
      ],
      "metadata": {
        "id": "4hHRQMXzW6oR"
      }
    },
    {
      "cell_type": "code",
      "source": [
        "%%writefile max_pairwise_super_efficient_against_sorting_stress_tests.py\n",
        "import random\n",
        "\n",
        "for i in range(100):\n",
        "  n = random.randint(2, 99)\n",
        "  numero_M = 0                                # 1\n",
        "  segundo_Numero_M = 0\n",
        "  lista = []\n",
        "  for j in range(n):\n",
        "    comp=random.randint(17, 25631)\n",
        "    lista.append(comp)\n",
        "    if comp > numero_M:                    # n\n",
        "      segundo_Numero_M = numero_M      # 0 o n\n",
        "      numero_M = comp                  # 0 o n\n",
        "    elif comp > segundo_Numero_M:           # n\n",
        "      segundo_Numero_M = comp             # 0 o n\n",
        "  lista.sort()\n",
        "  sol_sorting=lista[n - 1] * lista[n - 2]\n",
        "  sol_super_e = numero_M * segundo_Numero_M\n",
        "\n",
        "\n",
        "  if sol_sorting != sol_super_e:\n",
        "    print(\"Error\")\n",
        "    break\n",
        "  else:\n",
        "      print(f\"{i+1}. SUPER EFFICENT SOLITION: n= {n} Product= {numero_M * segundo_Numero_M}\")\n",
        "      print(f\"{i+1}. SORTING SOLUTION: n= {n} Product: {lista[n - 1] * lista[n - 2]}\")\n",
        "  if i==99:\n",
        "    print(\"Pass\")"
      ],
      "metadata": {
        "id": "X0iQpIZeheM4",
        "outputId": "d2f69892-f170-460f-9e9a-218792da9ad3",
        "colab": {
          "base_uri": "https://localhost:8080/"
        }
      },
      "execution_count": 153,
      "outputs": [
        {
          "output_type": "stream",
          "name": "stdout",
          "text": [
            "Writing max_pairwise_super_efficient_against_sorting_stress_tests.py\n"
          ]
        }
      ]
    },
    {
      "cell_type": "code",
      "source": [
        "!python max_pairwise_super_efficient_against_sorting_stress_tests.py"
      ],
      "metadata": {
        "id": "DzlQNdcuhkO8",
        "outputId": "4ba8981d-33e6-446f-f2d0-cdc3a7c6be11",
        "colab": {
          "base_uri": "https://localhost:8080/"
        }
      },
      "execution_count": 154,
      "outputs": [
        {
          "output_type": "stream",
          "name": "stdout",
          "text": [
            "1. SUPER EFFICENT SOLITION: n= 84 Product= 637132620\n",
            "1. SORTING SOLUTION: n= 84 Product: 637132620\n",
            "2. SUPER EFFICENT SOLITION: n= 6 Product= 226811626\n",
            "2. SORTING SOLUTION: n= 6 Product: 226811626\n",
            "3. SUPER EFFICENT SOLITION: n= 18 Product= 476561722\n",
            "3. SORTING SOLUTION: n= 18 Product: 476561722\n",
            "4. SUPER EFFICENT SOLITION: n= 95 Product= 638572899\n",
            "4. SORTING SOLUTION: n= 95 Product: 638572899\n",
            "5. SUPER EFFICENT SOLITION: n= 12 Product= 592898644\n",
            "5. SORTING SOLUTION: n= 12 Product: 592898644\n",
            "6. SUPER EFFICENT SOLITION: n= 89 Product= 649202268\n",
            "6. SORTING SOLUTION: n= 89 Product: 649202268\n",
            "7. SUPER EFFICENT SOLITION: n= 29 Product= 652186528\n",
            "7. SORTING SOLUTION: n= 29 Product: 652186528\n",
            "8. SUPER EFFICENT SOLITION: n= 92 Product= 647450820\n",
            "8. SORTING SOLUTION: n= 92 Product: 647450820\n",
            "9. SUPER EFFICENT SOLITION: n= 28 Product= 559651440\n",
            "9. SORTING SOLUTION: n= 28 Product: 559651440\n",
            "10. SUPER EFFICENT SOLITION: n= 68 Product= 593502555\n",
            "10. SORTING SOLUTION: n= 68 Product: 593502555\n",
            "11. SUPER EFFICENT SOLITION: n= 98 Product= 614817591\n",
            "11. SORTING SOLUTION: n= 98 Product: 614817591\n",
            "12. SUPER EFFICENT SOLITION: n= 99 Product= 642936840\n",
            "12. SORTING SOLUTION: n= 99 Product: 642936840\n",
            "13. SUPER EFFICENT SOLITION: n= 29 Product= 577543064\n",
            "13. SORTING SOLUTION: n= 29 Product: 577543064\n",
            "14. SUPER EFFICENT SOLITION: n= 2 Product= 281014755\n",
            "14. SORTING SOLUTION: n= 2 Product: 281014755\n",
            "15. SUPER EFFICENT SOLITION: n= 4 Product= 344933896\n",
            "15. SORTING SOLUTION: n= 4 Product: 344933896\n",
            "16. SUPER EFFICENT SOLITION: n= 4 Product= 422541725\n",
            "16. SORTING SOLUTION: n= 4 Product: 422541725\n",
            "17. SUPER EFFICENT SOLITION: n= 17 Product= 596589672\n",
            "17. SORTING SOLUTION: n= 17 Product: 596589672\n",
            "18. SUPER EFFICENT SOLITION: n= 56 Product= 653569209\n",
            "18. SORTING SOLUTION: n= 56 Product: 653569209\n",
            "19. SUPER EFFICENT SOLITION: n= 3 Product= 177392880\n",
            "19. SORTING SOLUTION: n= 3 Product: 177392880\n",
            "20. SUPER EFFICENT SOLITION: n= 13 Product= 605885010\n",
            "20. SORTING SOLUTION: n= 13 Product: 605885010\n",
            "21. SUPER EFFICENT SOLITION: n= 3 Product= 526470504\n",
            "21. SORTING SOLUTION: n= 3 Product: 526470504\n",
            "22. SUPER EFFICENT SOLITION: n= 97 Product= 642133630\n",
            "22. SORTING SOLUTION: n= 97 Product: 642133630\n",
            "23. SUPER EFFICENT SOLITION: n= 78 Product= 633873564\n",
            "23. SORTING SOLUTION: n= 78 Product: 633873564\n",
            "24. SUPER EFFICENT SOLITION: n= 65 Product= 630927052\n",
            "24. SORTING SOLUTION: n= 65 Product: 630927052\n",
            "25. SUPER EFFICENT SOLITION: n= 46 Product= 624302066\n",
            "25. SORTING SOLUTION: n= 46 Product: 624302066\n",
            "26. SUPER EFFICENT SOLITION: n= 9 Product= 605851975\n",
            "26. SORTING SOLUTION: n= 9 Product: 605851975\n",
            "27. SUPER EFFICENT SOLITION: n= 48 Product= 648359469\n",
            "27. SORTING SOLUTION: n= 48 Product: 648359469\n",
            "28. SUPER EFFICENT SOLITION: n= 42 Product= 612162468\n",
            "28. SORTING SOLUTION: n= 42 Product: 612162468\n",
            "29. SUPER EFFICENT SOLITION: n= 97 Product= 648210975\n",
            "29. SORTING SOLUTION: n= 97 Product: 648210975\n",
            "30. SUPER EFFICENT SOLITION: n= 77 Product= 602081934\n",
            "30. SORTING SOLUTION: n= 77 Product: 602081934\n",
            "31. SUPER EFFICENT SOLITION: n= 49 Product= 584022565\n",
            "31. SORTING SOLUTION: n= 49 Product: 584022565\n",
            "32. SUPER EFFICENT SOLITION: n= 65 Product= 637205800\n",
            "32. SORTING SOLUTION: n= 65 Product: 637205800\n",
            "33. SUPER EFFICENT SOLITION: n= 29 Product= 601408893\n",
            "33. SORTING SOLUTION: n= 29 Product: 601408893\n",
            "34. SUPER EFFICENT SOLITION: n= 94 Product= 637821920\n",
            "34. SORTING SOLUTION: n= 94 Product: 637821920\n",
            "35. SUPER EFFICENT SOLITION: n= 83 Product= 610665510\n",
            "35. SORTING SOLUTION: n= 83 Product: 610665510\n",
            "36. SUPER EFFICENT SOLITION: n= 58 Product= 603737465\n",
            "36. SORTING SOLUTION: n= 58 Product: 603737465\n",
            "37. SUPER EFFICENT SOLITION: n= 91 Product= 590124366\n",
            "37. SORTING SOLUTION: n= 91 Product: 590124366\n",
            "38. SUPER EFFICENT SOLITION: n= 45 Product= 631907730\n",
            "38. SORTING SOLUTION: n= 45 Product: 631907730\n",
            "39. SUPER EFFICENT SOLITION: n= 33 Product= 564615142\n",
            "39. SORTING SOLUTION: n= 33 Product: 564615142\n",
            "40. SUPER EFFICENT SOLITION: n= 80 Product= 629400688\n",
            "40. SORTING SOLUTION: n= 80 Product: 629400688\n",
            "41. SUPER EFFICENT SOLITION: n= 5 Product= 325926330\n",
            "41. SORTING SOLUTION: n= 5 Product: 325926330\n",
            "42. SUPER EFFICENT SOLITION: n= 90 Product= 607295920\n",
            "42. SORTING SOLUTION: n= 90 Product: 607295920\n",
            "43. SUPER EFFICENT SOLITION: n= 50 Product= 635020395\n",
            "43. SORTING SOLUTION: n= 50 Product: 635020395\n",
            "44. SUPER EFFICENT SOLITION: n= 64 Product= 568981660\n",
            "44. SORTING SOLUTION: n= 64 Product: 568981660\n",
            "45. SUPER EFFICENT SOLITION: n= 63 Product= 651959116\n",
            "45. SORTING SOLUTION: n= 63 Product: 651959116\n",
            "46. SUPER EFFICENT SOLITION: n= 34 Product= 512864055\n",
            "46. SORTING SOLUTION: n= 34 Product: 512864055\n",
            "47. SUPER EFFICENT SOLITION: n= 52 Product= 629055720\n",
            "47. SORTING SOLUTION: n= 52 Product: 629055720\n",
            "48. SUPER EFFICENT SOLITION: n= 10 Product= 591571422\n",
            "48. SORTING SOLUTION: n= 10 Product: 591571422\n",
            "49. SUPER EFFICENT SOLITION: n= 71 Product= 650771330\n",
            "49. SORTING SOLUTION: n= 71 Product: 650771330\n",
            "50. SUPER EFFICENT SOLITION: n= 35 Product= 592198200\n",
            "50. SORTING SOLUTION: n= 35 Product: 592198200\n",
            "51. SUPER EFFICENT SOLITION: n= 18 Product= 561988830\n",
            "51. SORTING SOLUTION: n= 18 Product: 561988830\n",
            "52. SUPER EFFICENT SOLITION: n= 95 Product= 646169240\n",
            "52. SORTING SOLUTION: n= 95 Product: 646169240\n",
            "53. SUPER EFFICENT SOLITION: n= 59 Product= 643200768\n",
            "53. SORTING SOLUTION: n= 59 Product: 643200768\n",
            "54. SUPER EFFICENT SOLITION: n= 34 Product= 638065100\n",
            "54. SORTING SOLUTION: n= 34 Product: 638065100\n",
            "55. SUPER EFFICENT SOLITION: n= 45 Product= 590648344\n",
            "55. SORTING SOLUTION: n= 45 Product: 590648344\n",
            "56. SUPER EFFICENT SOLITION: n= 37 Product= 626880995\n",
            "56. SORTING SOLUTION: n= 37 Product: 626880995\n",
            "57. SUPER EFFICENT SOLITION: n= 85 Product= 645815182\n",
            "57. SORTING SOLUTION: n= 85 Product: 645815182\n",
            "58. SUPER EFFICENT SOLITION: n= 36 Product= 633644585\n",
            "58. SORTING SOLUTION: n= 36 Product: 633644585\n",
            "59. SUPER EFFICENT SOLITION: n= 26 Product= 615238306\n",
            "59. SORTING SOLUTION: n= 26 Product: 615238306\n",
            "60. SUPER EFFICENT SOLITION: n= 58 Product= 602601832\n",
            "60. SORTING SOLUTION: n= 58 Product: 602601832\n",
            "61. SUPER EFFICENT SOLITION: n= 17 Product= 625154274\n",
            "61. SORTING SOLUTION: n= 17 Product: 625154274\n",
            "62. SUPER EFFICENT SOLITION: n= 90 Product= 637713973\n",
            "62. SORTING SOLUTION: n= 90 Product: 637713973\n",
            "63. SUPER EFFICENT SOLITION: n= 49 Product= 630795516\n",
            "63. SORTING SOLUTION: n= 49 Product: 630795516\n",
            "64. SUPER EFFICENT SOLITION: n= 63 Product= 654771290\n",
            "64. SORTING SOLUTION: n= 63 Product: 654771290\n",
            "65. SUPER EFFICENT SOLITION: n= 67 Product= 643048966\n",
            "65. SORTING SOLUTION: n= 67 Product: 643048966\n",
            "66. SUPER EFFICENT SOLITION: n= 26 Product= 541429556\n",
            "66. SORTING SOLUTION: n= 26 Product: 541429556\n",
            "67. SUPER EFFICENT SOLITION: n= 50 Product= 625924790\n",
            "67. SORTING SOLUTION: n= 50 Product: 625924790\n",
            "68. SUPER EFFICENT SOLITION: n= 66 Product= 640954886\n",
            "68. SORTING SOLUTION: n= 66 Product: 640954886\n",
            "69. SUPER EFFICENT SOLITION: n= 78 Product= 635820384\n",
            "69. SORTING SOLUTION: n= 78 Product: 635820384\n",
            "70. SUPER EFFICENT SOLITION: n= 79 Product= 636953916\n",
            "70. SORTING SOLUTION: n= 79 Product: 636953916\n",
            "71. SUPER EFFICENT SOLITION: n= 31 Product= 557535972\n",
            "71. SORTING SOLUTION: n= 31 Product: 557535972\n",
            "72. SUPER EFFICENT SOLITION: n= 82 Product= 642924432\n",
            "72. SORTING SOLUTION: n= 82 Product: 642924432\n",
            "73. SUPER EFFICENT SOLITION: n= 79 Product= 628884336\n",
            "73. SORTING SOLUTION: n= 79 Product: 628884336\n",
            "74. SUPER EFFICENT SOLITION: n= 88 Product= 638175905\n",
            "74. SORTING SOLUTION: n= 88 Product: 638175905\n",
            "75. SUPER EFFICENT SOLITION: n= 94 Product= 647799404\n",
            "75. SORTING SOLUTION: n= 94 Product: 647799404\n",
            "76. SUPER EFFICENT SOLITION: n= 40 Product= 653670864\n",
            "76. SORTING SOLUTION: n= 40 Product: 653670864\n",
            "77. SUPER EFFICENT SOLITION: n= 98 Product= 626193984\n",
            "77. SORTING SOLUTION: n= 98 Product: 626193984\n",
            "78. SUPER EFFICENT SOLITION: n= 89 Product= 604418976\n",
            "78. SORTING SOLUTION: n= 89 Product: 604418976\n",
            "79. SUPER EFFICENT SOLITION: n= 47 Product= 635900254\n",
            "79. SORTING SOLUTION: n= 47 Product: 635900254\n",
            "80. SUPER EFFICENT SOLITION: n= 71 Product= 618136758\n",
            "80. SORTING SOLUTION: n= 71 Product: 618136758\n",
            "81. SUPER EFFICENT SOLITION: n= 7 Product= 429303604\n",
            "81. SORTING SOLUTION: n= 7 Product: 429303604\n",
            "82. SUPER EFFICENT SOLITION: n= 28 Product= 509707943\n",
            "82. SORTING SOLUTION: n= 28 Product: 509707943\n",
            "83. SUPER EFFICENT SOLITION: n= 19 Product= 588148200\n",
            "83. SORTING SOLUTION: n= 19 Product: 588148200\n",
            "84. SUPER EFFICENT SOLITION: n= 32 Product= 570580335\n",
            "84. SORTING SOLUTION: n= 32 Product: 570580335\n",
            "85. SUPER EFFICENT SOLITION: n= 40 Product= 534998274\n",
            "85. SORTING SOLUTION: n= 40 Product: 534998274\n",
            "86. SUPER EFFICENT SOLITION: n= 22 Product= 591476868\n",
            "86. SORTING SOLUTION: n= 22 Product: 591476868\n",
            "87. SUPER EFFICENT SOLITION: n= 61 Product= 612601454\n",
            "87. SORTING SOLUTION: n= 61 Product: 612601454\n",
            "88. SUPER EFFICENT SOLITION: n= 99 Product= 646521304\n",
            "88. SORTING SOLUTION: n= 99 Product: 646521304\n",
            "89. SUPER EFFICENT SOLITION: n= 81 Product= 643797990\n",
            "89. SORTING SOLUTION: n= 81 Product: 643797990\n",
            "90. SUPER EFFICENT SOLITION: n= 82 Product= 648324144\n",
            "90. SORTING SOLUTION: n= 82 Product: 648324144\n",
            "91. SUPER EFFICENT SOLITION: n= 96 Product= 651627245\n",
            "91. SORTING SOLUTION: n= 96 Product: 651627245\n",
            "92. SUPER EFFICENT SOLITION: n= 75 Product= 647165711\n",
            "92. SORTING SOLUTION: n= 75 Product: 647165711\n",
            "93. SUPER EFFICENT SOLITION: n= 43 Product= 609044778\n",
            "93. SORTING SOLUTION: n= 43 Product: 609044778\n",
            "94. SUPER EFFICENT SOLITION: n= 70 Product= 603807574\n",
            "94. SORTING SOLUTION: n= 70 Product: 603807574\n",
            "95. SUPER EFFICENT SOLITION: n= 4 Product= 38988576\n",
            "95. SORTING SOLUTION: n= 4 Product: 38988576\n",
            "96. SUPER EFFICENT SOLITION: n= 96 Product= 645362892\n",
            "96. SORTING SOLUTION: n= 96 Product: 645362892\n",
            "97. SUPER EFFICENT SOLITION: n= 3 Product= 11822095\n",
            "97. SORTING SOLUTION: n= 3 Product: 11822095\n",
            "98. SUPER EFFICENT SOLITION: n= 96 Product= 633087826\n",
            "98. SORTING SOLUTION: n= 96 Product: 633087826\n",
            "99. SUPER EFFICENT SOLITION: n= 94 Product= 651857420\n",
            "99. SORTING SOLUTION: n= 94 Product: 651857420\n",
            "100. SUPER EFFICENT SOLITION: n= 79 Product= 645583682\n",
            "100. SORTING SOLUTION: n= 79 Product: 645583682\n",
            "Pass\n"
          ]
        }
      ]
    }
  ],
  "metadata": {
    "colab": {
      "provenance": [],
      "include_colab_link": true
    },
    "kernelspec": {
      "display_name": "Python 3",
      "name": "python3"
    },
    "language_info": {
      "name": "python"
    }
  },
  "nbformat": 4,
  "nbformat_minor": 0
}